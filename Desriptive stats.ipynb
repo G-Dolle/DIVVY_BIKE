{
 "cells": [
  {
   "cell_type": "code",
   "execution_count": 12,
   "id": "4a91241e",
   "metadata": {},
   "outputs": [],
   "source": [
    "import divvy.ml_logic\n",
    "\n",
    "import pandas as pd\n",
    "import os\n",
    "\n",
    "import matplotlib.pyplot as plt\n"
   ]
  },
  {
   "cell_type": "code",
   "execution_count": 3,
   "id": "a2101943",
   "metadata": {
    "scrolled": true
   },
   "outputs": [
    {
     "data": {
      "text/html": [
       "<div>\n",
       "<style scoped>\n",
       "    .dataframe tbody tr th:only-of-type {\n",
       "        vertical-align: middle;\n",
       "    }\n",
       "\n",
       "    .dataframe tbody tr th {\n",
       "        vertical-align: top;\n",
       "    }\n",
       "\n",
       "    .dataframe thead th {\n",
       "        text-align: right;\n",
       "    }\n",
       "</style>\n",
       "<table border=\"1\" class=\"dataframe\">\n",
       "  <thead>\n",
       "    <tr style=\"text-align: right;\">\n",
       "      <th></th>\n",
       "      <th>Unnamed: 0.1</th>\n",
       "      <th>Unnamed: 0</th>\n",
       "      <th>ride_id</th>\n",
       "      <th>rideable_type</th>\n",
       "      <th>started_at</th>\n",
       "      <th>ended_at</th>\n",
       "      <th>start_station_name</th>\n",
       "      <th>start_station_id</th>\n",
       "      <th>end_station_name</th>\n",
       "      <th>end_station_id</th>\n",
       "      <th>start_lat</th>\n",
       "      <th>start_lng</th>\n",
       "      <th>end_lat</th>\n",
       "      <th>end_lng</th>\n",
       "      <th>member_casual</th>\n",
       "    </tr>\n",
       "  </thead>\n",
       "  <tbody>\n",
       "    <tr>\n",
       "      <th>0</th>\n",
       "      <td>0</td>\n",
       "      <td>0.0</td>\n",
       "      <td>7C00A93E10556E47</td>\n",
       "      <td>electric_bike</td>\n",
       "      <td>2021-11-27 13:27:38</td>\n",
       "      <td>2021-11-27 13:46:38</td>\n",
       "      <td>NaN</td>\n",
       "      <td>NaN</td>\n",
       "      <td>NaN</td>\n",
       "      <td>NaN</td>\n",
       "      <td>41.93</td>\n",
       "      <td>-87.72</td>\n",
       "      <td>41.96</td>\n",
       "      <td>-87.73</td>\n",
       "      <td>casual</td>\n",
       "    </tr>\n",
       "    <tr>\n",
       "      <th>1</th>\n",
       "      <td>1</td>\n",
       "      <td>1.0</td>\n",
       "      <td>90854840DFD508BA</td>\n",
       "      <td>electric_bike</td>\n",
       "      <td>2021-11-27 13:38:25</td>\n",
       "      <td>2021-11-27 13:56:10</td>\n",
       "      <td>NaN</td>\n",
       "      <td>NaN</td>\n",
       "      <td>NaN</td>\n",
       "      <td>NaN</td>\n",
       "      <td>41.96</td>\n",
       "      <td>-87.70</td>\n",
       "      <td>41.92</td>\n",
       "      <td>-87.70</td>\n",
       "      <td>casual</td>\n",
       "    </tr>\n",
       "    <tr>\n",
       "      <th>2</th>\n",
       "      <td>2</td>\n",
       "      <td>2.0</td>\n",
       "      <td>0A7D10CDD144061C</td>\n",
       "      <td>electric_bike</td>\n",
       "      <td>2021-11-26 22:03:34</td>\n",
       "      <td>2021-11-26 22:05:56</td>\n",
       "      <td>NaN</td>\n",
       "      <td>NaN</td>\n",
       "      <td>NaN</td>\n",
       "      <td>NaN</td>\n",
       "      <td>41.96</td>\n",
       "      <td>-87.70</td>\n",
       "      <td>41.96</td>\n",
       "      <td>-87.70</td>\n",
       "      <td>casual</td>\n",
       "    </tr>\n",
       "    <tr>\n",
       "      <th>3</th>\n",
       "      <td>3</td>\n",
       "      <td>3.0</td>\n",
       "      <td>2F3BE33085BCFF02</td>\n",
       "      <td>electric_bike</td>\n",
       "      <td>2021-11-27 09:56:49</td>\n",
       "      <td>2021-11-27 10:01:50</td>\n",
       "      <td>NaN</td>\n",
       "      <td>NaN</td>\n",
       "      <td>NaN</td>\n",
       "      <td>NaN</td>\n",
       "      <td>41.94</td>\n",
       "      <td>-87.79</td>\n",
       "      <td>41.93</td>\n",
       "      <td>-87.79</td>\n",
       "      <td>casual</td>\n",
       "    </tr>\n",
       "    <tr>\n",
       "      <th>4</th>\n",
       "      <td>4</td>\n",
       "      <td>4.0</td>\n",
       "      <td>D67B4781A19928D4</td>\n",
       "      <td>electric_bike</td>\n",
       "      <td>2021-11-26 19:09:28</td>\n",
       "      <td>2021-11-26 19:30:41</td>\n",
       "      <td>NaN</td>\n",
       "      <td>NaN</td>\n",
       "      <td>NaN</td>\n",
       "      <td>NaN</td>\n",
       "      <td>41.90</td>\n",
       "      <td>-87.63</td>\n",
       "      <td>41.88</td>\n",
       "      <td>-87.62</td>\n",
       "      <td>casual</td>\n",
       "    </tr>\n",
       "  </tbody>\n",
       "</table>\n",
       "</div>"
      ],
      "text/plain": [
       "   Unnamed: 0.1  Unnamed: 0           ride_id  rideable_type  \\\n",
       "0             0         0.0  7C00A93E10556E47  electric_bike   \n",
       "1             1         1.0  90854840DFD508BA  electric_bike   \n",
       "2             2         2.0  0A7D10CDD144061C  electric_bike   \n",
       "3             3         3.0  2F3BE33085BCFF02  electric_bike   \n",
       "4             4         4.0  D67B4781A19928D4  electric_bike   \n",
       "\n",
       "            started_at             ended_at start_station_name  \\\n",
       "0  2021-11-27 13:27:38  2021-11-27 13:46:38                NaN   \n",
       "1  2021-11-27 13:38:25  2021-11-27 13:56:10                NaN   \n",
       "2  2021-11-26 22:03:34  2021-11-26 22:05:56                NaN   \n",
       "3  2021-11-27 09:56:49  2021-11-27 10:01:50                NaN   \n",
       "4  2021-11-26 19:09:28  2021-11-26 19:30:41                NaN   \n",
       "\n",
       "  start_station_id end_station_name end_station_id  start_lat  start_lng  \\\n",
       "0              NaN              NaN            NaN      41.93     -87.72   \n",
       "1              NaN              NaN            NaN      41.96     -87.70   \n",
       "2              NaN              NaN            NaN      41.96     -87.70   \n",
       "3              NaN              NaN            NaN      41.94     -87.79   \n",
       "4              NaN              NaN            NaN      41.90     -87.63   \n",
       "\n",
       "   end_lat  end_lng member_casual  \n",
       "0    41.96   -87.73        casual  \n",
       "1    41.92   -87.70        casual  \n",
       "2    41.96   -87.70        casual  \n",
       "3    41.93   -87.79        casual  \n",
       "4    41.88   -87.62        casual  "
      ]
     },
     "execution_count": 3,
     "metadata": {},
     "output_type": "execute_result"
    }
   ],
   "source": [
    "df_2021=pd.read_csv('/Users/joachimclodic/code/G-Dolle/DIVVY_BIKE/raw_data/2021/2021bis.csv')\n",
    "# df_2021=pd.DataFrame(df_2021)\n",
    "df_2021.head()"
   ]
  },
  {
   "cell_type": "markdown",
   "id": "6c9ef38a",
   "metadata": {},
   "source": [
    "# Cleaning dataset with hourly data"
   ]
  },
  {
   "cell_type": "code",
   "execution_count": 4,
   "id": "28195ada",
   "metadata": {},
   "outputs": [
    {
     "name": "stderr",
     "output_type": "stream",
     "text": [
      "/Users/joachimclodic/code/G-Dolle/DIVVY_BIKE/divvy/ml_logic/cleaning.py:24: SettingWithCopyWarning: \n",
      "A value is trying to be set on a copy of a slice from a DataFrame\n",
      "\n",
      "See the caveats in the documentation: https://pandas.pydata.org/pandas-docs/stable/user_guide/indexing.html#returning-a-view-versus-a-copy\n",
      "  df_stations_reduced.rename(columns={\"name\":\"station_name\"}, inplace=True)\n"
     ]
    },
    {
     "data": {
      "text/html": [
       "<div>\n",
       "<style scoped>\n",
       "    .dataframe tbody tr th:only-of-type {\n",
       "        vertical-align: middle;\n",
       "    }\n",
       "\n",
       "    .dataframe tbody tr th {\n",
       "        vertical-align: top;\n",
       "    }\n",
       "\n",
       "    .dataframe thead th {\n",
       "        text-align: right;\n",
       "    }\n",
       "</style>\n",
       "<table border=\"1\" class=\"dataframe\">\n",
       "  <thead>\n",
       "    <tr style=\"text-align: right;\">\n",
       "      <th></th>\n",
       "      <th>geohash</th>\n",
       "      <th>hourly_data</th>\n",
       "      <th>nb_departures</th>\n",
       "      <th>nb_arrivals</th>\n",
       "      <th>ratio</th>\n",
       "    </tr>\n",
       "  </thead>\n",
       "  <tbody>\n",
       "    <tr>\n",
       "      <th>0</th>\n",
       "      <td>dp3sy</td>\n",
       "      <td>2021-03-10 03:00:00</td>\n",
       "      <td>2.0</td>\n",
       "      <td>0.0</td>\n",
       "      <td>inf</td>\n",
       "    </tr>\n",
       "    <tr>\n",
       "      <th>1</th>\n",
       "      <td>dp3sy</td>\n",
       "      <td>2021-03-15 22:00:00</td>\n",
       "      <td>2.0</td>\n",
       "      <td>0.0</td>\n",
       "      <td>inf</td>\n",
       "    </tr>\n",
       "    <tr>\n",
       "      <th>2</th>\n",
       "      <td>dp3sy</td>\n",
       "      <td>2021-03-20 14:00:00</td>\n",
       "      <td>2.0</td>\n",
       "      <td>0.0</td>\n",
       "      <td>inf</td>\n",
       "    </tr>\n",
       "    <tr>\n",
       "      <th>3</th>\n",
       "      <td>dp3sy</td>\n",
       "      <td>2021-03-21 16:00:00</td>\n",
       "      <td>2.0</td>\n",
       "      <td>0.0</td>\n",
       "      <td>inf</td>\n",
       "    </tr>\n",
       "    <tr>\n",
       "      <th>4</th>\n",
       "      <td>dp3sy</td>\n",
       "      <td>2021-03-22 21:00:00</td>\n",
       "      <td>4.0</td>\n",
       "      <td>0.0</td>\n",
       "      <td>inf</td>\n",
       "    </tr>\n",
       "  </tbody>\n",
       "</table>\n",
       "</div>"
      ],
      "text/plain": [
       "  geohash         hourly_data  nb_departures  nb_arrivals  ratio\n",
       "0   dp3sy 2021-03-10 03:00:00            2.0          0.0    inf\n",
       "1   dp3sy 2021-03-15 22:00:00            2.0          0.0    inf\n",
       "2   dp3sy 2021-03-20 14:00:00            2.0          0.0    inf\n",
       "3   dp3sy 2021-03-21 16:00:00            2.0          0.0    inf\n",
       "4   dp3sy 2021-03-22 21:00:00            4.0          0.0    inf"
      ]
     },
     "execution_count": 4,
     "metadata": {},
     "output_type": "execute_result"
    }
   ],
   "source": [
    "from divvy.ml_logic.cleaning import cleaning_divvy_gen_agg\n",
    "\n",
    "df_test=cleaning_divvy_gen_agg(df_2021)\n",
    "df_test.head()"
   ]
  },
  {
   "cell_type": "markdown",
   "id": "8dc80d85",
   "metadata": {},
   "source": [
    "# Adding columns 'hour' and 'weekday'"
   ]
  },
  {
   "cell_type": "code",
   "execution_count": 7,
   "id": "20017bb9",
   "metadata": {},
   "outputs": [
    {
     "data": {
      "text/html": [
       "<div>\n",
       "<style scoped>\n",
       "    .dataframe tbody tr th:only-of-type {\n",
       "        vertical-align: middle;\n",
       "    }\n",
       "\n",
       "    .dataframe tbody tr th {\n",
       "        vertical-align: top;\n",
       "    }\n",
       "\n",
       "    .dataframe thead th {\n",
       "        text-align: right;\n",
       "    }\n",
       "</style>\n",
       "<table border=\"1\" class=\"dataframe\">\n",
       "  <thead>\n",
       "    <tr style=\"text-align: right;\">\n",
       "      <th></th>\n",
       "      <th>geohash</th>\n",
       "      <th>hourly_data</th>\n",
       "      <th>nb_departures</th>\n",
       "      <th>nb_arrivals</th>\n",
       "      <th>ratio</th>\n",
       "      <th>hour</th>\n",
       "    </tr>\n",
       "  </thead>\n",
       "  <tbody>\n",
       "    <tr>\n",
       "      <th>0</th>\n",
       "      <td>dp3sy</td>\n",
       "      <td>2021-03-10 03:00:00</td>\n",
       "      <td>2.0</td>\n",
       "      <td>0.0</td>\n",
       "      <td>inf</td>\n",
       "      <td>3</td>\n",
       "    </tr>\n",
       "    <tr>\n",
       "      <th>1</th>\n",
       "      <td>dp3sy</td>\n",
       "      <td>2021-03-15 22:00:00</td>\n",
       "      <td>2.0</td>\n",
       "      <td>0.0</td>\n",
       "      <td>inf</td>\n",
       "      <td>22</td>\n",
       "    </tr>\n",
       "    <tr>\n",
       "      <th>2</th>\n",
       "      <td>dp3sy</td>\n",
       "      <td>2021-03-20 14:00:00</td>\n",
       "      <td>2.0</td>\n",
       "      <td>0.0</td>\n",
       "      <td>inf</td>\n",
       "      <td>14</td>\n",
       "    </tr>\n",
       "    <tr>\n",
       "      <th>3</th>\n",
       "      <td>dp3sy</td>\n",
       "      <td>2021-03-21 16:00:00</td>\n",
       "      <td>2.0</td>\n",
       "      <td>0.0</td>\n",
       "      <td>inf</td>\n",
       "      <td>16</td>\n",
       "    </tr>\n",
       "    <tr>\n",
       "      <th>4</th>\n",
       "      <td>dp3sy</td>\n",
       "      <td>2021-03-22 21:00:00</td>\n",
       "      <td>4.0</td>\n",
       "      <td>0.0</td>\n",
       "      <td>inf</td>\n",
       "      <td>21</td>\n",
       "    </tr>\n",
       "  </tbody>\n",
       "</table>\n",
       "</div>"
      ],
      "text/plain": [
       "  geohash         hourly_data  nb_departures  nb_arrivals  ratio  hour\n",
       "0   dp3sy 2021-03-10 03:00:00            2.0          0.0    inf     3\n",
       "1   dp3sy 2021-03-15 22:00:00            2.0          0.0    inf    22\n",
       "2   dp3sy 2021-03-20 14:00:00            2.0          0.0    inf    14\n",
       "3   dp3sy 2021-03-21 16:00:00            2.0          0.0    inf    16\n",
       "4   dp3sy 2021-03-22 21:00:00            4.0          0.0    inf    21"
      ]
     },
     "execution_count": 7,
     "metadata": {},
     "output_type": "execute_result"
    }
   ],
   "source": [
    "import datetime as dt \n",
    "\n",
    "df_test['hour']=df_test['hourly_data'].dt.hour\n",
    "\n",
    "df_test.head()"
   ]
  },
  {
   "cell_type": "code",
   "execution_count": 8,
   "id": "2ef383b2",
   "metadata": {},
   "outputs": [
    {
     "data": {
      "text/html": [
       "<div>\n",
       "<style scoped>\n",
       "    .dataframe tbody tr th:only-of-type {\n",
       "        vertical-align: middle;\n",
       "    }\n",
       "\n",
       "    .dataframe tbody tr th {\n",
       "        vertical-align: top;\n",
       "    }\n",
       "\n",
       "    .dataframe thead th {\n",
       "        text-align: right;\n",
       "    }\n",
       "</style>\n",
       "<table border=\"1\" class=\"dataframe\">\n",
       "  <thead>\n",
       "    <tr style=\"text-align: right;\">\n",
       "      <th></th>\n",
       "      <th>geohash</th>\n",
       "      <th>hourly_data</th>\n",
       "      <th>nb_departures</th>\n",
       "      <th>nb_arrivals</th>\n",
       "      <th>ratio</th>\n",
       "      <th>hour</th>\n",
       "      <th>weekday</th>\n",
       "    </tr>\n",
       "  </thead>\n",
       "  <tbody>\n",
       "    <tr>\n",
       "      <th>0</th>\n",
       "      <td>dp3sy</td>\n",
       "      <td>2021-03-10 03:00:00</td>\n",
       "      <td>2.0</td>\n",
       "      <td>0.0</td>\n",
       "      <td>inf</td>\n",
       "      <td>3</td>\n",
       "      <td>2</td>\n",
       "    </tr>\n",
       "    <tr>\n",
       "      <th>1</th>\n",
       "      <td>dp3sy</td>\n",
       "      <td>2021-03-15 22:00:00</td>\n",
       "      <td>2.0</td>\n",
       "      <td>0.0</td>\n",
       "      <td>inf</td>\n",
       "      <td>22</td>\n",
       "      <td>0</td>\n",
       "    </tr>\n",
       "    <tr>\n",
       "      <th>2</th>\n",
       "      <td>dp3sy</td>\n",
       "      <td>2021-03-20 14:00:00</td>\n",
       "      <td>2.0</td>\n",
       "      <td>0.0</td>\n",
       "      <td>inf</td>\n",
       "      <td>14</td>\n",
       "      <td>5</td>\n",
       "    </tr>\n",
       "    <tr>\n",
       "      <th>3</th>\n",
       "      <td>dp3sy</td>\n",
       "      <td>2021-03-21 16:00:00</td>\n",
       "      <td>2.0</td>\n",
       "      <td>0.0</td>\n",
       "      <td>inf</td>\n",
       "      <td>16</td>\n",
       "      <td>6</td>\n",
       "    </tr>\n",
       "    <tr>\n",
       "      <th>4</th>\n",
       "      <td>dp3sy</td>\n",
       "      <td>2021-03-22 21:00:00</td>\n",
       "      <td>4.0</td>\n",
       "      <td>0.0</td>\n",
       "      <td>inf</td>\n",
       "      <td>21</td>\n",
       "      <td>0</td>\n",
       "    </tr>\n",
       "  </tbody>\n",
       "</table>\n",
       "</div>"
      ],
      "text/plain": [
       "  geohash         hourly_data  nb_departures  nb_arrivals  ratio  hour  \\\n",
       "0   dp3sy 2021-03-10 03:00:00            2.0          0.0    inf     3   \n",
       "1   dp3sy 2021-03-15 22:00:00            2.0          0.0    inf    22   \n",
       "2   dp3sy 2021-03-20 14:00:00            2.0          0.0    inf    14   \n",
       "3   dp3sy 2021-03-21 16:00:00            2.0          0.0    inf    16   \n",
       "4   dp3sy 2021-03-22 21:00:00            4.0          0.0    inf    21   \n",
       "\n",
       "   weekday  \n",
       "0        2  \n",
       "1        0  \n",
       "2        5  \n",
       "3        6  \n",
       "4        0  "
      ]
     },
     "execution_count": 8,
     "metadata": {},
     "output_type": "execute_result"
    }
   ],
   "source": [
    "df_test['weekday']=df_test['hourly_data'].dt.weekday\n",
    "\n",
    "df_test.head()"
   ]
  },
  {
   "cell_type": "code",
   "execution_count": 11,
   "id": "8ceea395",
   "metadata": {},
   "outputs": [
    {
     "data": {
      "text/html": [
       "<div>\n",
       "<style scoped>\n",
       "    .dataframe tbody tr th:only-of-type {\n",
       "        vertical-align: middle;\n",
       "    }\n",
       "\n",
       "    .dataframe tbody tr th {\n",
       "        vertical-align: top;\n",
       "    }\n",
       "\n",
       "    .dataframe thead th {\n",
       "        text-align: right;\n",
       "    }\n",
       "</style>\n",
       "<table border=\"1\" class=\"dataframe\">\n",
       "  <thead>\n",
       "    <tr style=\"text-align: right;\">\n",
       "      <th></th>\n",
       "      <th>geohash</th>\n",
       "      <th>hourly_data</th>\n",
       "      <th>nb_departures</th>\n",
       "      <th>nb_arrivals</th>\n",
       "      <th>hour</th>\n",
       "      <th>weekday</th>\n",
       "    </tr>\n",
       "  </thead>\n",
       "  <tbody>\n",
       "    <tr>\n",
       "      <th>0</th>\n",
       "      <td>dp3sy</td>\n",
       "      <td>2021-03-10 03:00:00</td>\n",
       "      <td>2.0</td>\n",
       "      <td>0.0</td>\n",
       "      <td>3</td>\n",
       "      <td>2</td>\n",
       "    </tr>\n",
       "    <tr>\n",
       "      <th>1</th>\n",
       "      <td>dp3sy</td>\n",
       "      <td>2021-03-15 22:00:00</td>\n",
       "      <td>2.0</td>\n",
       "      <td>0.0</td>\n",
       "      <td>22</td>\n",
       "      <td>0</td>\n",
       "    </tr>\n",
       "    <tr>\n",
       "      <th>2</th>\n",
       "      <td>dp3sy</td>\n",
       "      <td>2021-03-20 14:00:00</td>\n",
       "      <td>2.0</td>\n",
       "      <td>0.0</td>\n",
       "      <td>14</td>\n",
       "      <td>5</td>\n",
       "    </tr>\n",
       "    <tr>\n",
       "      <th>3</th>\n",
       "      <td>dp3sy</td>\n",
       "      <td>2021-03-21 16:00:00</td>\n",
       "      <td>2.0</td>\n",
       "      <td>0.0</td>\n",
       "      <td>16</td>\n",
       "      <td>6</td>\n",
       "    </tr>\n",
       "    <tr>\n",
       "      <th>4</th>\n",
       "      <td>dp3sy</td>\n",
       "      <td>2021-03-22 21:00:00</td>\n",
       "      <td>4.0</td>\n",
       "      <td>0.0</td>\n",
       "      <td>21</td>\n",
       "      <td>0</td>\n",
       "    </tr>\n",
       "  </tbody>\n",
       "</table>\n",
       "</div>"
      ],
      "text/plain": [
       "  geohash         hourly_data  nb_departures  nb_arrivals  hour  weekday\n",
       "0   dp3sy 2021-03-10 03:00:00            2.0          0.0     3        2\n",
       "1   dp3sy 2021-03-15 22:00:00            2.0          0.0    22        0\n",
       "2   dp3sy 2021-03-20 14:00:00            2.0          0.0    14        5\n",
       "3   dp3sy 2021-03-21 16:00:00            2.0          0.0    16        6\n",
       "4   dp3sy 2021-03-22 21:00:00            4.0          0.0    21        0"
      ]
     },
     "execution_count": 11,
     "metadata": {},
     "output_type": "execute_result"
    }
   ],
   "source": [
    "df_test=df_test.drop(columns=['ratio'])\n",
    "df_test.head()"
   ]
  },
  {
   "cell_type": "markdown",
   "id": "e2701635",
   "metadata": {},
   "source": [
    "# Graphical analysis"
   ]
  },
  {
   "cell_type": "markdown",
   "id": "b63e82f8",
   "metadata": {},
   "source": [
    "## Hourly "
   ]
  },
  {
   "cell_type": "code",
   "execution_count": 14,
   "id": "0f72db5e",
   "metadata": {},
   "outputs": [
    {
     "name": "stderr",
     "output_type": "stream",
     "text": [
      "/var/folders/gb/qjky1sf50r7fl6wr5lzmnwq40000gn/T/ipykernel_47616/2388466644.py:1: FutureWarning: The default value of numeric_only in DataFrameGroupBy.mean is deprecated. In a future version, numeric_only will default to False. Either specify numeric_only or select only columns which should be valid for the function.\n",
      "  df_per_hour=df_test.groupby(by=['hour'],as_index=False).mean().drop(columns=['weekday'])\n"
     ]
    },
    {
     "data": {
      "text/html": [
       "<div>\n",
       "<style scoped>\n",
       "    .dataframe tbody tr th:only-of-type {\n",
       "        vertical-align: middle;\n",
       "    }\n",
       "\n",
       "    .dataframe tbody tr th {\n",
       "        vertical-align: top;\n",
       "    }\n",
       "\n",
       "    .dataframe thead th {\n",
       "        text-align: right;\n",
       "    }\n",
       "</style>\n",
       "<table border=\"1\" class=\"dataframe\">\n",
       "  <thead>\n",
       "    <tr style=\"text-align: right;\">\n",
       "      <th></th>\n",
       "      <th>hour</th>\n",
       "      <th>nb_departures</th>\n",
       "      <th>nb_arrivals</th>\n",
       "    </tr>\n",
       "  </thead>\n",
       "  <tbody>\n",
       "    <tr>\n",
       "      <th>0</th>\n",
       "      <td>0</td>\n",
       "      <td>2.595451</td>\n",
       "      <td>2.682256</td>\n",
       "    </tr>\n",
       "    <tr>\n",
       "      <th>1</th>\n",
       "      <td>1</td>\n",
       "      <td>2.395472</td>\n",
       "      <td>2.552316</td>\n",
       "    </tr>\n",
       "    <tr>\n",
       "      <th>2</th>\n",
       "      <td>2</td>\n",
       "      <td>2.241512</td>\n",
       "      <td>2.446031</td>\n",
       "    </tr>\n",
       "    <tr>\n",
       "      <th>3</th>\n",
       "      <td>3</td>\n",
       "      <td>2.052386</td>\n",
       "      <td>2.307659</td>\n",
       "    </tr>\n",
       "    <tr>\n",
       "      <th>4</th>\n",
       "      <td>4</td>\n",
       "      <td>1.903536</td>\n",
       "      <td>1.984902</td>\n",
       "    </tr>\n",
       "    <tr>\n",
       "      <th>5</th>\n",
       "      <td>5</td>\n",
       "      <td>1.950890</td>\n",
       "      <td>1.877844</td>\n",
       "    </tr>\n",
       "    <tr>\n",
       "      <th>6</th>\n",
       "      <td>6</td>\n",
       "      <td>2.167379</td>\n",
       "      <td>2.303301</td>\n",
       "    </tr>\n",
       "    <tr>\n",
       "      <th>7</th>\n",
       "      <td>7</td>\n",
       "      <td>2.569091</td>\n",
       "      <td>2.748056</td>\n",
       "    </tr>\n",
       "    <tr>\n",
       "      <th>8</th>\n",
       "      <td>8</td>\n",
       "      <td>3.023826</td>\n",
       "      <td>2.957137</td>\n",
       "    </tr>\n",
       "    <tr>\n",
       "      <th>9</th>\n",
       "      <td>9</td>\n",
       "      <td>3.048990</td>\n",
       "      <td>3.060596</td>\n",
       "    </tr>\n",
       "  </tbody>\n",
       "</table>\n",
       "</div>"
      ],
      "text/plain": [
       "   hour  nb_departures  nb_arrivals\n",
       "0     0       2.595451     2.682256\n",
       "1     1       2.395472     2.552316\n",
       "2     2       2.241512     2.446031\n",
       "3     3       2.052386     2.307659\n",
       "4     4       1.903536     1.984902\n",
       "5     5       1.950890     1.877844\n",
       "6     6       2.167379     2.303301\n",
       "7     7       2.569091     2.748056\n",
       "8     8       3.023826     2.957137\n",
       "9     9       3.048990     3.060596"
      ]
     },
     "execution_count": 14,
     "metadata": {},
     "output_type": "execute_result"
    }
   ],
   "source": [
    "df_per_hour=df_test.groupby(by=['hour'],as_index=False).mean().drop(columns=['weekday'])\n",
    "df_per_hour.head(10)"
   ]
  },
  {
   "cell_type": "code",
   "execution_count": 56,
   "id": "69c14b12",
   "metadata": {},
   "outputs": [
    {
     "data": {
      "text/plain": [
       "Text(0.5, 1.0, 'number of rides throughout the day')"
      ]
     },
     "execution_count": 56,
     "metadata": {},
     "output_type": "execute_result"
    },
    {
     "data": {
      "image/png": "[encoded data removed]",
      "text/plain": [
       "<Figure size 640x480 with 1 Axes>"
      ]
     },
     "metadata": {},
     "output_type": "display_data"
    }
   ],
   "source": [
    "plt.plot(df_per_hour['hour'],df_per_hour['nb_departures'])\n",
    "# plt.plot(df_per_hour['hour'],df_per_hour['nb_arrivals'])\n",
    "plt.xlabel(\"Weekdays\")\n",
    "plt.ylabel(\"Number of rides\")\n",
    "plt.title(\"number of rides throughout the day\")\n",
    "\n",
    "# x=df_per_geohash['geohash']\n",
    "# X_axis = np.arange(len(x))\n",
    "# y1=df_per_geohash['nb_departures']\n",
    "# y2=df_per_geohash['nb_arrivals']\n",
    "# plt.bar(X_axis - 0.2,y1,0.4,label='departures')\n",
    "# plt.bar(X_axis + 0.2,y2,0.4,label='arrivals')\n",
    "# plt.legend()\n",
    "# plt.xticks(X_axis, x)\n",
    "# plt.xlabel(\"Geohash\")\n",
    "# plt.ylabel(\"Rides\")\n",
    "# plt.title(\"Departures and arrivals per geohash\")"
   ]
  },
  {
   "cell_type": "markdown",
   "id": "e0e48910",
   "metadata": {},
   "source": [
    "## Weekend vs weekdays"
   ]
  },
  {
   "cell_type": "code",
   "execution_count": 41,
   "id": "f3e6c9b9",
   "metadata": {},
   "outputs": [
    {
     "name": "stderr",
     "output_type": "stream",
     "text": [
      "/var/folders/gb/qjky1sf50r7fl6wr5lzmnwq40000gn/T/ipykernel_47616/3809955886.py:3: FutureWarning: The default value of numeric_only in DataFrameGroupBy.mean is deprecated. In a future version, numeric_only will default to False. Either specify numeric_only or select only columns which should be valid for the function.\n",
      "  df_week=df_week.groupby(by=['weekday'],as_index=False).mean()\n"
     ]
    },
    {
     "data": {
      "text/html": [
       "<div>\n",
       "<style scoped>\n",
       "    .dataframe tbody tr th:only-of-type {\n",
       "        vertical-align: middle;\n",
       "    }\n",
       "\n",
       "    .dataframe tbody tr th {\n",
       "        vertical-align: top;\n",
       "    }\n",
       "\n",
       "    .dataframe thead th {\n",
       "        text-align: right;\n",
       "    }\n",
       "</style>\n",
       "<table border=\"1\" class=\"dataframe\">\n",
       "  <thead>\n",
       "    <tr style=\"text-align: right;\">\n",
       "      <th></th>\n",
       "      <th>weekday</th>\n",
       "      <th>nb_departures</th>\n",
       "      <th>nb_arrivals</th>\n",
       "    </tr>\n",
       "  </thead>\n",
       "  <tbody>\n",
       "    <tr>\n",
       "      <th>0</th>\n",
       "      <td>0</td>\n",
       "      <td>3.149893</td>\n",
       "      <td>3.154243</td>\n",
       "    </tr>\n",
       "    <tr>\n",
       "      <th>1</th>\n",
       "      <td>1</td>\n",
       "      <td>3.149331</td>\n",
       "      <td>3.132170</td>\n",
       "    </tr>\n",
       "    <tr>\n",
       "      <th>2</th>\n",
       "      <td>2</td>\n",
       "      <td>3.143765</td>\n",
       "      <td>3.130021</td>\n",
       "    </tr>\n",
       "    <tr>\n",
       "      <th>3</th>\n",
       "      <td>3</td>\n",
       "      <td>3.091067</td>\n",
       "      <td>3.069768</td>\n",
       "    </tr>\n",
       "    <tr>\n",
       "      <th>4</th>\n",
       "      <td>4</td>\n",
       "      <td>3.228683</td>\n",
       "      <td>3.197471</td>\n",
       "    </tr>\n",
       "  </tbody>\n",
       "</table>\n",
       "</div>"
      ],
      "text/plain": [
       "   weekday  nb_departures  nb_arrivals\n",
       "0        0       3.149893     3.154243\n",
       "1        1       3.149331     3.132170\n",
       "2        2       3.143765     3.130021\n",
       "3        3       3.091067     3.069768\n",
       "4        4       3.228683     3.197471"
      ]
     },
     "execution_count": 41,
     "metadata": {},
     "output_type": "execute_result"
    }
   ],
   "source": [
    "df_week=df_test\n",
    "df_week=df_week.drop(columns=['hour'])\n",
    "df_week=df_week.groupby(by=['weekday'],as_index=False).mean()\n",
    "df_week.head()"
   ]
  },
  {
   "cell_type": "code",
   "execution_count": 45,
   "id": "441d3b3c",
   "metadata": {},
   "outputs": [
    {
     "data": {
      "text/html": [
       "<div>\n",
       "<style scoped>\n",
       "    .dataframe tbody tr th:only-of-type {\n",
       "        vertical-align: middle;\n",
       "    }\n",
       "\n",
       "    .dataframe tbody tr th {\n",
       "        vertical-align: top;\n",
       "    }\n",
       "\n",
       "    .dataframe thead th {\n",
       "        text-align: right;\n",
       "    }\n",
       "</style>\n",
       "<table border=\"1\" class=\"dataframe\">\n",
       "  <thead>\n",
       "    <tr style=\"text-align: right;\">\n",
       "      <th></th>\n",
       "      <th>weekday</th>\n",
       "      <th>nb_departures</th>\n",
       "      <th>nb_arrivals</th>\n",
       "      <th>week_day</th>\n",
       "    </tr>\n",
       "  </thead>\n",
       "  <tbody>\n",
       "    <tr>\n",
       "      <th>0</th>\n",
       "      <td>0</td>\n",
       "      <td>3.149893</td>\n",
       "      <td>3.154243</td>\n",
       "      <td>Mon</td>\n",
       "    </tr>\n",
       "    <tr>\n",
       "      <th>1</th>\n",
       "      <td>1</td>\n",
       "      <td>3.149331</td>\n",
       "      <td>3.132170</td>\n",
       "      <td>Tue</td>\n",
       "    </tr>\n",
       "    <tr>\n",
       "      <th>2</th>\n",
       "      <td>2</td>\n",
       "      <td>3.143765</td>\n",
       "      <td>3.130021</td>\n",
       "      <td>Wed</td>\n",
       "    </tr>\n",
       "    <tr>\n",
       "      <th>3</th>\n",
       "      <td>3</td>\n",
       "      <td>3.091067</td>\n",
       "      <td>3.069768</td>\n",
       "      <td>Thu</td>\n",
       "    </tr>\n",
       "    <tr>\n",
       "      <th>4</th>\n",
       "      <td>4</td>\n",
       "      <td>3.228683</td>\n",
       "      <td>3.197471</td>\n",
       "      <td>Fri</td>\n",
       "    </tr>\n",
       "  </tbody>\n",
       "</table>\n",
       "</div>"
      ],
      "text/plain": [
       "   weekday  nb_departures  nb_arrivals week_day\n",
       "0        0       3.149893     3.154243      Mon\n",
       "1        1       3.149331     3.132170      Tue\n",
       "2        2       3.143765     3.130021      Wed\n",
       "3        3       3.091067     3.069768      Thu\n",
       "4        4       3.228683     3.197471      Fri"
      ]
     },
     "execution_count": 45,
     "metadata": {},
     "output_type": "execute_result"
    }
   ],
   "source": [
    "dic={0:'Mon',1:'Tue',2:'Wed',3:'Thu',4:'Fri',5:'Sat',6:'Sun'}\n",
    "df_week['week_day']=df_week['weekday']\n",
    "df_week['week_day']=df_week['week_day'].map(dic)\n",
    "df_week.head()"
   ]
  },
  {
   "cell_type": "code",
   "execution_count": 53,
   "id": "ab12b214",
   "metadata": {
    "scrolled": false
   },
   "outputs": [
    {
     "data": {
      "text/plain": [
       "Text(0.5, 1.0, 'Nb of rides on weekend vs weekdays')"
      ]
     },
     "execution_count": 53,
     "metadata": {},
     "output_type": "execute_result"
    },
    {
     "data": {
      "image/png": "[encoded data removed]",
      "text/plain": [
       "<Figure size 640x480 with 1 Axes>"
      ]
     },
     "metadata": {},
     "output_type": "display_data"
    }
   ],
   "source": [
    "\n",
    "plt.bar(df_week['week_day'],df_week['nb_departures'])\n",
    "plt.ylim(bottom=0)\n",
    "\n",
    "plt.ylabel(\"Rides\")\n",
    "plt.title(\"Nb of rides on weekend vs weekdays\")\n",
    "# plt.bar(df_week['week_day'],df_week['nb_arrivals'])"
   ]
  },
  {
   "cell_type": "code",
   "execution_count": 46,
   "id": "596bc5f4",
   "metadata": {},
   "outputs": [
    {
     "data": {
      "text/plain": [
       "[<matplotlib.lines.Line2D at 0x2cc5143a0>]"
      ]
     },
     "execution_count": 46,
     "metadata": {},
     "output_type": "execute_result"
    },
    {
     "data": {
      "image/png": "[encoded data removed]",
      "text/plain": [
       "<Figure size 640x480 with 1 Axes>"
      ]
     },
     "metadata": {},
     "output_type": "display_data"
    }
   ],
   "source": [
    "plt.plot(df_week['week_day'],df_week['nb_departures'])\n",
    "plt.plot(df_week['week_day'],df_week['nb_arrivals'])"
   ]
  },
  {
   "cell_type": "code",
   "execution_count": 23,
   "id": "891b2a81",
   "metadata": {},
   "outputs": [
    {
     "data": {
      "text/html": [
       "<div>\n",
       "<style scoped>\n",
       "    .dataframe tbody tr th:only-of-type {\n",
       "        vertical-align: middle;\n",
       "    }\n",
       "\n",
       "    .dataframe tbody tr th {\n",
       "        vertical-align: top;\n",
       "    }\n",
       "\n",
       "    .dataframe thead th {\n",
       "        text-align: right;\n",
       "    }\n",
       "</style>\n",
       "<table border=\"1\" class=\"dataframe\">\n",
       "  <thead>\n",
       "    <tr style=\"text-align: right;\">\n",
       "      <th></th>\n",
       "      <th>weekday</th>\n",
       "      <th>nb_departures</th>\n",
       "      <th>nb_arrivals</th>\n",
       "    </tr>\n",
       "  </thead>\n",
       "  <tbody>\n",
       "    <tr>\n",
       "      <th>0</th>\n",
       "      <td>weekday</td>\n",
       "      <td>3.149893</td>\n",
       "      <td>3.154243</td>\n",
       "    </tr>\n",
       "    <tr>\n",
       "      <th>1</th>\n",
       "      <td>weekday</td>\n",
       "      <td>3.149331</td>\n",
       "      <td>3.132170</td>\n",
       "    </tr>\n",
       "    <tr>\n",
       "      <th>2</th>\n",
       "      <td>weekday</td>\n",
       "      <td>3.143765</td>\n",
       "      <td>3.130021</td>\n",
       "    </tr>\n",
       "    <tr>\n",
       "      <th>3</th>\n",
       "      <td>weekday</td>\n",
       "      <td>3.091067</td>\n",
       "      <td>3.069768</td>\n",
       "    </tr>\n",
       "    <tr>\n",
       "      <th>4</th>\n",
       "      <td>weekday</td>\n",
       "      <td>3.228683</td>\n",
       "      <td>3.197471</td>\n",
       "    </tr>\n",
       "  </tbody>\n",
       "</table>\n",
       "</div>"
      ],
      "text/plain": [
       "   weekday  nb_departures  nb_arrivals\n",
       "0  weekday       3.149893     3.154243\n",
       "1  weekday       3.149331     3.132170\n",
       "2  weekday       3.143765     3.130021\n",
       "3  weekday       3.091067     3.069768\n",
       "4  weekday       3.228683     3.197471"
      ]
     },
     "execution_count": 23,
     "metadata": {},
     "output_type": "execute_result"
    }
   ],
   "source": [
    "def weekday(x):\n",
    "    if x<5: return 'weekday'\n",
    "    else: return 'weekend'\n",
    "\n",
    "df_weekend_vs_weekdays=df_week\n",
    "df_weekend_vs_weekdays['weekday']=df_weekend_vs_weekdays['weekday'].apply(lambda x: weekday(x))\n",
    "df_weekend_vs_weekdays.head()"
   ]
  },
  {
   "cell_type": "code",
   "execution_count": 55,
   "id": "a0550d58",
   "metadata": {},
   "outputs": [
    {
     "name": "stderr",
     "output_type": "stream",
     "text": [
      "No artists with labels found to put in legend.  Note that artists whose label start with an underscore are ignored when legend() is called with no argument.\n"
     ]
    },
    {
     "data": {
      "text/plain": [
       "Text(0.5, 1.0, 'Nb of rides on weekend vs weekdays')"
      ]
     },
     "execution_count": 55,
     "metadata": {},
     "output_type": "execute_result"
    },
    {
     "data": {
      "image/png": "[encoded data removed]",
      "text/plain": [
       "<Figure size 640x480 with 1 Axes>"
      ]
     },
     "metadata": {},
     "output_type": "display_data"
    }
   ],
   "source": [
    "x=df_weekend_vs_weekdays['weekday']\n",
    "X_axis = df_weekend_vs_weekdays['weekday'].nunique()\n",
    "y1=df_weekend_vs_weekdays['nb_departures']\n",
    "# y2=df_weekend_vs_weekdays['nb_arrivals']\n",
    "plt.bar(x,y1,0.4)#,label='departures')\n",
    "# plt.bar(x,y2,0.4)#,label='arrivals')\n",
    "plt.legend()\n",
    "plt.ylim(bottom=0)\n",
    "# plt.xticks(X_axis, x)\n",
    "# plt.xlabel(\"Geohash\")\n",
    "plt.ylabel(\"Rides\")\n",
    "plt.title(\"Nb of rides on weekend vs weekdays\")"
   ]
  },
  {
   "cell_type": "code",
   "execution_count": null,
   "id": "cbbddb76",
   "metadata": {},
   "outputs": [],
   "source": []
  },
  {
   "cell_type": "markdown",
   "id": "47145885",
   "metadata": {},
   "source": [
    "## Hourly: weekend vs weekdays"
   ]
  },
  {
   "cell_type": "markdown",
   "id": "2863c73c",
   "metadata": {},
   "source": [
    "## Hourly ratio"
   ]
  },
  {
   "cell_type": "markdown",
   "id": "beb31cee",
   "metadata": {},
   "source": [
    "## Weekly ratio"
   ]
  },
  {
   "cell_type": "code",
   "execution_count": null,
   "id": "a25d473d",
   "metadata": {},
   "outputs": [],
   "source": []
  }
 ],
 "metadata": {
  "kernelspec": {
   "display_name": "Python 3 (ipykernel)",
   "language": "python",
   "name": "python3"
  },
  "language_info": {
   "codemirror_mode": {
    "name": "ipython",
    "version": 3
   },
   "file_extension": ".py",
   "mimetype": "text/x-python",
   "name": "python",
   "nbconvert_exporter": "python",
   "pygments_lexer": "ipython3",
   "version": "3.10.6"
  },
  "toc": {
   "base_numbering": 1,
   "nav_menu": {},
   "number_sections": true,
   "sideBar": true,
   "skip_h1_title": false,
   "title_cell": "Table of Contents",
   "title_sidebar": "Contents",
   "toc_cell": false,
   "toc_position": {},
   "toc_section_display": true,
   "toc_window_display": false
  }
 },
 "nbformat": 4,
 "nbformat_minor": 5
}
