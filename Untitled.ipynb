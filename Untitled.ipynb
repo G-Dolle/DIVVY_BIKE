{
 "cells": [
  {
   "cell_type": "code",
   "execution_count": 3,
   "id": "c14707b9",
   "metadata": {
    "collapsed": true
   },
   "outputs": [
    {
     "ename": "NameError",
     "evalue": "name 'pd' is not defined",
     "output_type": "error",
     "traceback": [
      "\u001b[0;31m---------------------------------------------------------------------------\u001b[0m",
      "\u001b[0;31mNameError\u001b[0m                                 Traceback (most recent call last)",
      "Cell \u001b[0;32mIn[3], line 3\u001b[0m\n\u001b[1;32m      1\u001b[0m path\u001b[38;5;241m=\u001b[39m\u001b[38;5;124m\"\u001b[39m\u001b[38;5;124mraw_data/2021/Divvy_Trips_2021_Q3.csv\u001b[39m\u001b[38;5;124m\"\u001b[39m\n\u001b[0;32m----> 3\u001b[0m X\u001b[38;5;241m=\u001b[39m\u001b[43mpd\u001b[49m\u001b[38;5;241m.\u001b[39mread_csv(path)\n\u001b[1;32m      4\u001b[0m X\u001b[38;5;241m.\u001b[39mhead()\n",
      "\u001b[0;31mNameError\u001b[0m: name 'pd' is not defined"
     ]
    }
   ],
   "source": [
    "path=\"raw_data/2021/Divvy_Trips_2021_Q3.csv\"\n",
    "\n",
    "X=pd.read_csv(path)\n",
    "X.head()"
   ]
  },
  {
   "cell_type": "code",
   "execution_count": 2,
   "id": "f790afd5",
   "metadata": {
    "collapsed": true
   },
   "outputs": [
    {
     "ename": "NameError",
     "evalue": "name 'X' is not defined",
     "output_type": "error",
     "traceback": [
      "\u001b[0;31m---------------------------------------------------------------------------\u001b[0m",
      "\u001b[0;31mNameError\u001b[0m                                 Traceback (most recent call last)",
      "Cell \u001b[0;32mIn[2], line 3\u001b[0m\n\u001b[1;32m      1\u001b[0m \u001b[38;5;28;01mfrom\u001b[39;00m \u001b[38;5;21;01mml_logic\u001b[39;00m\u001b[38;5;21;01m.\u001b[39;00m\u001b[38;5;21;01mpreprocessor\u001b[39;00m \u001b[38;5;28;01mimport\u001b[39;00m transform_time_features, preprocess_features,target_process\n\u001b[0;32m----> 3\u001b[0m preprocessor, X_processed_df\u001b[38;5;241m=\u001b[39mpreprocess_features(\u001b[43mX\u001b[49m)\n",
      "\u001b[0;31mNameError\u001b[0m: name 'X' is not defined"
     ]
    }
   ],
   "source": [
    "from ml_logic.preprocessor import transform_time_features, preprocess_features,target_process\n",
    "\n",
    "preprocessor, X_processed_df=preprocess_features(X)"
   ]
  },
  {
   "cell_type": "code",
   "execution_count": 20,
   "id": "fad93109",
   "metadata": {},
   "outputs": [],
   "source": [
    "from ml_logic.data_import import get_station_data\n",
    "import numpy as np\n",
    "import pandas as pd \n",
    "import pygeohash as gh\n",
    "\n",
    "def compute_geohash_stations(precision: int = 4) -> np.ndarray:\n",
    "            \"\"\"\n",
    "            Add a geohash (ex: \"dr5rx\") of len \"precision\" = 5 by default\n",
    "            corresponding to each (lon,lat) tuple, for pick-up, and drop-off\n",
    "            \"\"\"\n",
    "            df_stations=get_station_data()\n",
    "            assert isinstance(df_stations, pd.DataFrame)\n",
    "\n",
    "            df_stations[\"geohash\"] = df_stations.apply(lambda x: gh.encode(\n",
    "                x.lat, x.lon, precision=precision),\n",
    "                                            axis=1)\n",
    "            df_stations_reduced=df_stations[[\"name\",\"legacy_id\",'geohash']]\n",
    "            df_stations_reduced.rename(columns={\"name\":\"start_station_name\",\n",
    "                                        \"legacy_id\":\"station_id\"}, inplace=True)\n",
    "\n",
    "            return df_stations_reduced\n"
   ]
  },
  {
   "cell_type": "code",
   "execution_count": 29,
   "id": "0312b9f3",
   "metadata": {},
   "outputs": [
    {
     "name": "stderr",
     "output_type": "stream",
     "text": [
      "/var/folders/gb/qjky1sf50r7fl6wr5lzmnwq40000gn/T/ipykernel_75641/2498892535.py:18: SettingWithCopyWarning: \n",
      "A value is trying to be set on a copy of a slice from a DataFrame\n",
      "\n",
      "See the caveats in the documentation: https://pandas.pydata.org/pandas-docs/stable/user_guide/indexing.html#returning-a-view-versus-a-copy\n",
      "  df_stations_reduced.rename(columns={\"name\":\"start_station_name\",\n"
     ]
    },
    {
     "data": {
      "text/plain": [
       "dp3w    768\n",
       "dp3t    576\n",
       "dp3x     34\n",
       "dp3v     24\n",
       "dp3s     19\n",
       "dp3u      1\n",
       "Name: geohash, dtype: int64"
      ]
     },
     "execution_count": 29,
     "metadata": {},
     "output_type": "execute_result"
    }
   ],
   "source": [
    "df_stations_reduced=compute_geohash_stations()\n",
    "df_stations_reduced.tail()\n",
    "df_stations_reduced['geohash'].value_counts()"
   ]
  },
  {
   "cell_type": "code",
   "execution_count": null,
   "id": "01063d2c",
   "metadata": {},
   "outputs": [],
   "source": [
    "\n"
   ]
  }
 ],
 "metadata": {
  "kernelspec": {
   "display_name": "Python 3 (ipykernel)",
   "language": "python",
   "name": "python3"
  },
  "language_info": {
   "codemirror_mode": {
    "name": "ipython",
    "version": 3
   },
   "file_extension": ".py",
   "mimetype": "text/x-python",
   "name": "python",
   "nbconvert_exporter": "python",
   "pygments_lexer": "ipython3",
   "version": "3.10.6"
  },
  "toc": {
   "base_numbering": 1,
   "nav_menu": {},
   "number_sections": true,
   "sideBar": true,
   "skip_h1_title": false,
   "title_cell": "Table of Contents",
   "title_sidebar": "Contents",
   "toc_cell": false,
   "toc_position": {},
   "toc_section_display": true,
   "toc_window_display": false
  }
 },
 "nbformat": 4,
 "nbformat_minor": 5
}
