{
 "cells": [
  {
   "cell_type": "code",
   "execution_count": null,
   "metadata": {},
   "outputs": [],
   "source": [
    "import pandas as pd\n",
    "import numpy as np\n",
    "import os\n",
    "\n",
    "path0 = os.path.dirname(__file__)\n",
    "path = os.path.join(path0, 'raw_data', 'Divvy_Trips_2021_Q1.csv')\n",
    "\n",
    "df=pd.read_csv(path)\n",
    "df.dtypes\n",
    "print(df.head())\n"
   ]
  }
 ],
 "metadata": {
  "language_info": {
   "name": "python"
  },
  "orig_nbformat": 4
 },
 "nbformat": 4,
 "nbformat_minor": 2
}
