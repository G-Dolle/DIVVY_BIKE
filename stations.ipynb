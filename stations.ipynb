{
 "cells": [
  {
   "cell_type": "code",
   "execution_count": 1,
   "metadata": {},
   "outputs": [],
   "source": [
    "%load_ext autoreload\n",
    "%autoreload 2"
   ]
  },
  {
   "cell_type": "code",
   "execution_count": 2,
   "metadata": {},
   "outputs": [
    {
     "ename": "ModuleNotFoundError",
     "evalue": "No module named 'flow'",
     "output_type": "error",
     "traceback": [
      "\u001b[0;31m---------------------------------------------------------------------------\u001b[0m",
      "\u001b[0;31mModuleNotFoundError\u001b[0m                       Traceback (most recent call last)",
      "Cell \u001b[0;32mIn[2], line 2\u001b[0m\n\u001b[1;32m      1\u001b[0m \u001b[39mfrom\u001b[39;00m \u001b[39minterface_ui\u001b[39;00m\u001b[39m.\u001b[39;00m\u001b[39mflow\u001b[39;00m\u001b[39m.\u001b[39;00m\u001b[39mui_utils\u001b[39;00m \u001b[39mimport\u001b[39;00m get_coordinates, chicago_weather_forecast, get_stations\n\u001b[0;32m----> 2\u001b[0m \u001b[39mfrom\u001b[39;00m \u001b[39minterface_ui\u001b[39;00m\u001b[39m.\u001b[39;00m\u001b[39mflow\u001b[39;00m\u001b[39m.\u001b[39;00m\u001b[39mui_flow\u001b[39;00m \u001b[39mimport\u001b[39;00m transform_user_inputs, get_station_availability\n\u001b[1;32m      3\u001b[0m \u001b[39mimport\u001b[39;00m \u001b[39mpandas\u001b[39;00m \u001b[39mas\u001b[39;00m \u001b[39mpd\u001b[39;00m\n\u001b[1;32m      4\u001b[0m \u001b[39mimport\u001b[39;00m \u001b[39mnumpy\u001b[39;00m \u001b[39mas\u001b[39;00m \u001b[39mnp\u001b[39;00m\n",
      "File \u001b[0;32m~/code/G-Dolle/DIVVY_BIKE/interface_ui/flow/ui_flow.py:1\u001b[0m\n\u001b[0;32m----> 1\u001b[0m \u001b[39mfrom\u001b[39;00m \u001b[39mflow\u001b[39;00m\u001b[39m.\u001b[39;00m\u001b[39mui_utils\u001b[39;00m \u001b[39mimport\u001b[39;00m get_coordinates\n\u001b[1;32m      2\u001b[0m \u001b[39mfrom\u001b[39;00m \u001b[39mflow\u001b[39;00m\u001b[39m.\u001b[39;00m\u001b[39mui_utils\u001b[39;00m \u001b[39mimport\u001b[39;00m get_nearest_n_stations\n\u001b[1;32m      3\u001b[0m \u001b[39mimport\u001b[39;00m \u001b[39mpandas\u001b[39;00m \u001b[39mas\u001b[39;00m \u001b[39mpd\u001b[39;00m\n",
      "\u001b[0;31mModuleNotFoundError\u001b[0m: No module named 'flow'"
     ]
    }
   ],
   "source": [
    "from interface_ui.flow.ui_utils import get_coordinates, chicago_weather_forecast, get_stations\n",
    "from interface_ui.flow.ui_flow import transform_user_inputs, get_station_availability\n",
    "import pandas as pd\n",
    "import numpy as np\n",
    "from sklearn.neighbors import NearestNeighbors"
   ]
  },
  {
   "cell_type": "code",
   "execution_count": 5,
   "metadata": {},
   "outputs": [],
   "source": [
    "df = pd.DataFrame(\n",
    "    np.random.randn(1000, 2) / [50, 50] + [41.87, 87.62],\n",
    "    columns=['lat', 'lon'])"
   ]
  },
  {
   "cell_type": "code",
   "execution_count": 6,
   "metadata": {},
   "outputs": [
    {
     "data": {
      "text/html": [
       "<div>\n",
       "<style scoped>\n",
       "    .dataframe tbody tr th:only-of-type {\n",
       "        vertical-align: middle;\n",
       "    }\n",
       "\n",
       "    .dataframe tbody tr th {\n",
       "        vertical-align: top;\n",
       "    }\n",
       "\n",
       "    .dataframe thead th {\n",
       "        text-align: right;\n",
       "    }\n",
       "</style>\n",
       "<table border=\"1\" class=\"dataframe\">\n",
       "  <thead>\n",
       "    <tr style=\"text-align: right;\">\n",
       "      <th></th>\n",
       "      <th>lat</th>\n",
       "      <th>lon</th>\n",
       "    </tr>\n",
       "  </thead>\n",
       "  <tbody>\n",
       "    <tr>\n",
       "      <th>0</th>\n",
       "      <td>41.857804</td>\n",
       "      <td>87.674417</td>\n",
       "    </tr>\n",
       "    <tr>\n",
       "      <th>1</th>\n",
       "      <td>41.847298</td>\n",
       "      <td>87.617505</td>\n",
       "    </tr>\n",
       "    <tr>\n",
       "      <th>2</th>\n",
       "      <td>41.885936</td>\n",
       "      <td>87.612274</td>\n",
       "    </tr>\n",
       "    <tr>\n",
       "      <th>3</th>\n",
       "      <td>41.869494</td>\n",
       "      <td>87.631337</td>\n",
       "    </tr>\n",
       "    <tr>\n",
       "      <th>4</th>\n",
       "      <td>41.860153</td>\n",
       "      <td>87.617175</td>\n",
       "    </tr>\n",
       "  </tbody>\n",
       "</table>\n",
       "</div>"
      ],
      "text/plain": [
       "         lat        lon\n",
       "0  41.857804  87.674417\n",
       "1  41.847298  87.617505\n",
       "2  41.885936  87.612274\n",
       "3  41.869494  87.631337\n",
       "4  41.860153  87.617175"
      ]
     },
     "execution_count": 6,
     "metadata": {},
     "output_type": "execute_result"
    }
   ],
   "source": [
    "df.head()"
   ]
  },
  {
   "cell_type": "code",
   "execution_count": 7,
   "metadata": {},
   "outputs": [
    {
     "data": {
      "text/html": [
       "<div>\n",
       "<style scoped>\n",
       "    .dataframe tbody tr th:only-of-type {\n",
       "        vertical-align: middle;\n",
       "    }\n",
       "\n",
       "    .dataframe tbody tr th {\n",
       "        vertical-align: top;\n",
       "    }\n",
       "\n",
       "    .dataframe thead th {\n",
       "        text-align: right;\n",
       "    }\n",
       "</style>\n",
       "<table border=\"1\" class=\"dataframe\">\n",
       "  <thead>\n",
       "    <tr style=\"text-align: right;\">\n",
       "      <th></th>\n",
       "      <th>id</th>\n",
       "      <th>name</th>\n",
       "      <th>latitude</th>\n",
       "      <th>longitude</th>\n",
       "      <th>dpcapacity</th>\n",
       "      <th>online date</th>\n",
       "      <th>Year</th>\n",
       "      <th>Quarter</th>\n",
       "    </tr>\n",
       "  </thead>\n",
       "  <tbody>\n",
       "    <tr>\n",
       "      <th>0</th>\n",
       "      <td>43</td>\n",
       "      <td>Michigan Ave &amp; Washington St</td>\n",
       "      <td>41,8838927658</td>\n",
       "      <td>-87,6246491409</td>\n",
       "      <td>43</td>\n",
       "      <td>6/16/13</td>\n",
       "      <td>2014</td>\n",
       "      <td>Q1Q2</td>\n",
       "    </tr>\n",
       "    <tr>\n",
       "      <th>1</th>\n",
       "      <td>44</td>\n",
       "      <td>State St &amp; Randolph St</td>\n",
       "      <td>41,8847302006</td>\n",
       "      <td>-87,6277335692</td>\n",
       "      <td>27</td>\n",
       "      <td>6/16/13</td>\n",
       "      <td>2014</td>\n",
       "      <td>Q1Q2</td>\n",
       "    </tr>\n",
       "    <tr>\n",
       "      <th>2</th>\n",
       "      <td>33</td>\n",
       "      <td>State St &amp; Van Buren St</td>\n",
       "      <td>41,877181</td>\n",
       "      <td>-87,627844</td>\n",
       "      <td>27</td>\n",
       "      <td>6/25/13</td>\n",
       "      <td>2014</td>\n",
       "      <td>Q1Q2</td>\n",
       "    </tr>\n",
       "    <tr>\n",
       "      <th>3</th>\n",
       "      <td>199</td>\n",
       "      <td>Wabash Ave &amp; Grand Ave</td>\n",
       "      <td>41,891738</td>\n",
       "      <td>-87,626937</td>\n",
       "      <td>15</td>\n",
       "      <td>8/10/13</td>\n",
       "      <td>2014</td>\n",
       "      <td>Q1Q2</td>\n",
       "    </tr>\n",
       "    <tr>\n",
       "      <th>4</th>\n",
       "      <td>51</td>\n",
       "      <td>Clark St &amp; Randolph St</td>\n",
       "      <td>41,884576228</td>\n",
       "      <td>-87,63188991</td>\n",
       "      <td>31</td>\n",
       "      <td>6/17/13</td>\n",
       "      <td>2014</td>\n",
       "      <td>Q1Q2</td>\n",
       "    </tr>\n",
       "  </tbody>\n",
       "</table>\n",
       "</div>"
      ],
      "text/plain": [
       "    id                          name       latitude       longitude  \\\n",
       "0   43  Michigan Ave & Washington St  41,8838927658  -87,6246491409   \n",
       "1   44        State St & Randolph St  41,8847302006  -87,6277335692   \n",
       "2   33       State St & Van Buren St      41,877181      -87,627844   \n",
       "3  199        Wabash Ave & Grand Ave      41,891738      -87,626937   \n",
       "4   51        Clark St & Randolph St   41,884576228    -87,63188991   \n",
       "\n",
       "   dpcapacity online date  Year Quarter  \n",
       "0          43     6/16/13  2014    Q1Q2  \n",
       "1          27     6/16/13  2014    Q1Q2  \n",
       "2          27     6/25/13  2014    Q1Q2  \n",
       "3          15     8/10/13  2014    Q1Q2  \n",
       "4          31     6/17/13  2014    Q1Q2  "
      ]
     },
     "execution_count": 7,
     "metadata": {},
     "output_type": "execute_result"
    }
   ],
   "source": [
    "stations_raw=pd.read_csv('raw_data/data/Divvy Stations.csv',sep=';')\n",
    "stations_raw.head()"
   ]
  },
  {
   "cell_type": "code",
   "execution_count": 8,
   "metadata": {},
   "outputs": [
    {
     "data": {
      "text/plain": [
       "(1377, 8)"
      ]
     },
     "execution_count": 8,
     "metadata": {},
     "output_type": "execute_result"
    }
   ],
   "source": [
    "stations_raw.shape"
   ]
  },
  {
   "cell_type": "code",
   "execution_count": 9,
   "metadata": {},
   "outputs": [
    {
     "data": {
      "text/html": [
       "<div>\n",
       "<style scoped>\n",
       "    .dataframe tbody tr th:only-of-type {\n",
       "        vertical-align: middle;\n",
       "    }\n",
       "\n",
       "    .dataframe tbody tr th {\n",
       "        vertical-align: top;\n",
       "    }\n",
       "\n",
       "    .dataframe thead th {\n",
       "        text-align: right;\n",
       "    }\n",
       "</style>\n",
       "<table border=\"1\" class=\"dataframe\">\n",
       "  <thead>\n",
       "    <tr style=\"text-align: right;\">\n",
       "      <th></th>\n",
       "      <th>id</th>\n",
       "      <th>name</th>\n",
       "      <th>latitude</th>\n",
       "      <th>longitude</th>\n",
       "      <th>dpcapacity</th>\n",
       "    </tr>\n",
       "  </thead>\n",
       "  <tbody>\n",
       "    <tr>\n",
       "      <th>0</th>\n",
       "      <td>43</td>\n",
       "      <td>Michigan Ave &amp; Washington St</td>\n",
       "      <td>41,8838927658</td>\n",
       "      <td>-87,6246491409</td>\n",
       "      <td>43</td>\n",
       "    </tr>\n",
       "    <tr>\n",
       "      <th>1</th>\n",
       "      <td>44</td>\n",
       "      <td>State St &amp; Randolph St</td>\n",
       "      <td>41,8847302006</td>\n",
       "      <td>-87,6277335692</td>\n",
       "      <td>27</td>\n",
       "    </tr>\n",
       "    <tr>\n",
       "      <th>2</th>\n",
       "      <td>33</td>\n",
       "      <td>State St &amp; Van Buren St</td>\n",
       "      <td>41,877181</td>\n",
       "      <td>-87,627844</td>\n",
       "      <td>27</td>\n",
       "    </tr>\n",
       "    <tr>\n",
       "      <th>3</th>\n",
       "      <td>199</td>\n",
       "      <td>Wabash Ave &amp; Grand Ave</td>\n",
       "      <td>41,891738</td>\n",
       "      <td>-87,626937</td>\n",
       "      <td>15</td>\n",
       "    </tr>\n",
       "    <tr>\n",
       "      <th>4</th>\n",
       "      <td>51</td>\n",
       "      <td>Clark St &amp; Randolph St</td>\n",
       "      <td>41,884576228</td>\n",
       "      <td>-87,63188991</td>\n",
       "      <td>31</td>\n",
       "    </tr>\n",
       "  </tbody>\n",
       "</table>\n",
       "</div>"
      ],
      "text/plain": [
       "    id                          name       latitude       longitude  \\\n",
       "0   43  Michigan Ave & Washington St  41,8838927658  -87,6246491409   \n",
       "1   44        State St & Randolph St  41,8847302006  -87,6277335692   \n",
       "2   33       State St & Van Buren St      41,877181      -87,627844   \n",
       "3  199        Wabash Ave & Grand Ave      41,891738      -87,626937   \n",
       "4   51        Clark St & Randolph St   41,884576228    -87,63188991   \n",
       "\n",
       "   dpcapacity  \n",
       "0          43  \n",
       "1          27  \n",
       "2          27  \n",
       "3          15  \n",
       "4          31  "
      ]
     },
     "execution_count": 9,
     "metadata": {},
     "output_type": "execute_result"
    }
   ],
   "source": [
    "stations=stations_raw.drop(columns=['online date','Year','Quarter'])\n",
    "stations.drop_duplicates(inplace=True)\n",
    "stations.head()        "
   ]
  },
  {
   "cell_type": "code",
   "execution_count": 14,
   "metadata": {},
   "outputs": [
    {
     "data": {
      "text/plain": [
       "(869, 5)"
      ]
     },
     "execution_count": 14,
     "metadata": {},
     "output_type": "execute_result"
    }
   ],
   "source": [
    "stations.shape"
   ]
  },
  {
   "cell_type": "code",
   "execution_count": 15,
   "metadata": {},
   "outputs": [],
   "source": [
    "stations.to_csv('raw_data/data/stations.csv',index=False)"
   ]
  },
  {
   "cell_type": "code",
   "execution_count": 17,
   "metadata": {},
   "outputs": [
    {
     "data": {
      "text/html": [
       "<div>\n",
       "<style scoped>\n",
       "    .dataframe tbody tr th:only-of-type {\n",
       "        vertical-align: middle;\n",
       "    }\n",
       "\n",
       "    .dataframe tbody tr th {\n",
       "        vertical-align: top;\n",
       "    }\n",
       "\n",
       "    .dataframe thead th {\n",
       "        text-align: right;\n",
       "    }\n",
       "</style>\n",
       "<table border=\"1\" class=\"dataframe\">\n",
       "  <thead>\n",
       "    <tr style=\"text-align: right;\">\n",
       "      <th></th>\n",
       "      <th>id</th>\n",
       "      <th>name</th>\n",
       "      <th>latitude</th>\n",
       "      <th>longitude</th>\n",
       "      <th>dpcapacity</th>\n",
       "    </tr>\n",
       "  </thead>\n",
       "  <tbody>\n",
       "    <tr>\n",
       "      <th>0</th>\n",
       "      <td>43</td>\n",
       "      <td>Michigan Ave &amp; Washington St</td>\n",
       "      <td>41,8838927658</td>\n",
       "      <td>-87,6246491409</td>\n",
       "      <td>43</td>\n",
       "    </tr>\n",
       "    <tr>\n",
       "      <th>1</th>\n",
       "      <td>44</td>\n",
       "      <td>State St &amp; Randolph St</td>\n",
       "      <td>41,8847302006</td>\n",
       "      <td>-87,6277335692</td>\n",
       "      <td>27</td>\n",
       "    </tr>\n",
       "    <tr>\n",
       "      <th>2</th>\n",
       "      <td>33</td>\n",
       "      <td>State St &amp; Van Buren St</td>\n",
       "      <td>41,877181</td>\n",
       "      <td>-87,627844</td>\n",
       "      <td>27</td>\n",
       "    </tr>\n",
       "    <tr>\n",
       "      <th>3</th>\n",
       "      <td>199</td>\n",
       "      <td>Wabash Ave &amp; Grand Ave</td>\n",
       "      <td>41,891738</td>\n",
       "      <td>-87,626937</td>\n",
       "      <td>15</td>\n",
       "    </tr>\n",
       "    <tr>\n",
       "      <th>4</th>\n",
       "      <td>51</td>\n",
       "      <td>Clark St &amp; Randolph St</td>\n",
       "      <td>41,884576228</td>\n",
       "      <td>-87,63188991</td>\n",
       "      <td>31</td>\n",
       "    </tr>\n",
       "  </tbody>\n",
       "</table>\n",
       "</div>"
      ],
      "text/plain": [
       "    id                          name       latitude       longitude  \\\n",
       "0   43  Michigan Ave & Washington St  41,8838927658  -87,6246491409   \n",
       "1   44        State St & Randolph St  41,8847302006  -87,6277335692   \n",
       "2   33       State St & Van Buren St      41,877181      -87,627844   \n",
       "3  199        Wabash Ave & Grand Ave      41,891738      -87,626937   \n",
       "4   51        Clark St & Randolph St   41,884576228    -87,63188991   \n",
       "\n",
       "   dpcapacity  \n",
       "0          43  \n",
       "1          27  \n",
       "2          27  \n",
       "3          15  \n",
       "4          31  "
      ]
     },
     "execution_count": 17,
     "metadata": {},
     "output_type": "execute_result"
    }
   ],
   "source": [
    "stations_raw=pd.read_csv('raw_data/data/stations.csv')\n",
    "stations_raw.head()"
   ]
  },
  {
   "cell_type": "code",
   "execution_count": 18,
   "metadata": {},
   "outputs": [
    {
     "data": {
      "text/html": [
       "<div>\n",
       "<style scoped>\n",
       "    .dataframe tbody tr th:only-of-type {\n",
       "        vertical-align: middle;\n",
       "    }\n",
       "\n",
       "    .dataframe tbody tr th {\n",
       "        vertical-align: top;\n",
       "    }\n",
       "\n",
       "    .dataframe thead th {\n",
       "        text-align: right;\n",
       "    }\n",
       "</style>\n",
       "<table border=\"1\" class=\"dataframe\">\n",
       "  <thead>\n",
       "    <tr style=\"text-align: right;\">\n",
       "      <th></th>\n",
       "      <th>latitude</th>\n",
       "      <th>longitude</th>\n",
       "    </tr>\n",
       "  </thead>\n",
       "  <tbody>\n",
       "    <tr>\n",
       "      <th>0</th>\n",
       "      <td>41,8838927658</td>\n",
       "      <td>-87,6246491409</td>\n",
       "    </tr>\n",
       "    <tr>\n",
       "      <th>1</th>\n",
       "      <td>41,8847302006</td>\n",
       "      <td>-87,6277335692</td>\n",
       "    </tr>\n",
       "    <tr>\n",
       "      <th>2</th>\n",
       "      <td>41,877181</td>\n",
       "      <td>-87,627844</td>\n",
       "    </tr>\n",
       "    <tr>\n",
       "      <th>3</th>\n",
       "      <td>41,891738</td>\n",
       "      <td>-87,626937</td>\n",
       "    </tr>\n",
       "    <tr>\n",
       "      <th>4</th>\n",
       "      <td>41,884576228</td>\n",
       "      <td>-87,63188991</td>\n",
       "    </tr>\n",
       "    <tr>\n",
       "      <th>...</th>\n",
       "      <td>...</td>\n",
       "      <td>...</td>\n",
       "    </tr>\n",
       "    <tr>\n",
       "      <th>864</th>\n",
       "      <td>41.91751339</td>\n",
       "      <td>-87.70180896</td>\n",
       "    </tr>\n",
       "    <tr>\n",
       "      <th>865</th>\n",
       "      <td>41.90965688</td>\n",
       "      <td>-87.71663195</td>\n",
       "    </tr>\n",
       "    <tr>\n",
       "      <th>866</th>\n",
       "      <td>41.9097693</td>\n",
       "      <td>-87.70528049</td>\n",
       "    </tr>\n",
       "    <tr>\n",
       "      <th>867</th>\n",
       "      <td>41.90270659</td>\n",
       "      <td>-87.70921957</td>\n",
       "    </tr>\n",
       "    <tr>\n",
       "      <th>868</th>\n",
       "      <td>41.91402671</td>\n",
       "      <td>-87.70512646</td>\n",
       "    </tr>\n",
       "  </tbody>\n",
       "</table>\n",
       "<p>869 rows × 2 columns</p>\n",
       "</div>"
      ],
      "text/plain": [
       "          latitude       longitude\n",
       "0    41,8838927658  -87,6246491409\n",
       "1    41,8847302006  -87,6277335692\n",
       "2        41,877181      -87,627844\n",
       "3        41,891738      -87,626937\n",
       "4     41,884576228    -87,63188991\n",
       "..             ...             ...\n",
       "864    41.91751339    -87.70180896\n",
       "865    41.90965688    -87.71663195\n",
       "866     41.9097693    -87.70528049\n",
       "867    41.90270659    -87.70921957\n",
       "868    41.91402671    -87.70512646\n",
       "\n",
       "[869 rows x 2 columns]"
      ]
     },
     "execution_count": 18,
     "metadata": {},
     "output_type": "execute_result"
    }
   ],
   "source": [
    "stations_raw\n",
    "stations_raw.drop(columns=['id','name','dpcapacity'])"
   ]
  },
  {
   "cell_type": "code",
   "execution_count": 19,
   "metadata": {},
   "outputs": [
    {
     "data": {
      "text/html": [
       "<div>\n",
       "<style scoped>\n",
       "    .dataframe tbody tr th:only-of-type {\n",
       "        vertical-align: middle;\n",
       "    }\n",
       "\n",
       "    .dataframe tbody tr th {\n",
       "        vertical-align: top;\n",
       "    }\n",
       "\n",
       "    .dataframe thead th {\n",
       "        text-align: right;\n",
       "    }\n",
       "</style>\n",
       "<table border=\"1\" class=\"dataframe\">\n",
       "  <thead>\n",
       "    <tr style=\"text-align: right;\">\n",
       "      <th></th>\n",
       "      <th>id</th>\n",
       "      <th>name</th>\n",
       "      <th>lat</th>\n",
       "      <th>lon</th>\n",
       "      <th>dpcapacity</th>\n",
       "    </tr>\n",
       "  </thead>\n",
       "  <tbody>\n",
       "    <tr>\n",
       "      <th>0</th>\n",
       "      <td>43</td>\n",
       "      <td>Michigan Ave &amp; Washington St</td>\n",
       "      <td>41,8838927658</td>\n",
       "      <td>-87,6246491409</td>\n",
       "      <td>43</td>\n",
       "    </tr>\n",
       "    <tr>\n",
       "      <th>1</th>\n",
       "      <td>44</td>\n",
       "      <td>State St &amp; Randolph St</td>\n",
       "      <td>41,8847302006</td>\n",
       "      <td>-87,6277335692</td>\n",
       "      <td>27</td>\n",
       "    </tr>\n",
       "    <tr>\n",
       "      <th>2</th>\n",
       "      <td>33</td>\n",
       "      <td>State St &amp; Van Buren St</td>\n",
       "      <td>41,877181</td>\n",
       "      <td>-87,627844</td>\n",
       "      <td>27</td>\n",
       "    </tr>\n",
       "    <tr>\n",
       "      <th>3</th>\n",
       "      <td>199</td>\n",
       "      <td>Wabash Ave &amp; Grand Ave</td>\n",
       "      <td>41,891738</td>\n",
       "      <td>-87,626937</td>\n",
       "      <td>15</td>\n",
       "    </tr>\n",
       "    <tr>\n",
       "      <th>4</th>\n",
       "      <td>51</td>\n",
       "      <td>Clark St &amp; Randolph St</td>\n",
       "      <td>41,884576228</td>\n",
       "      <td>-87,63188991</td>\n",
       "      <td>31</td>\n",
       "    </tr>\n",
       "    <tr>\n",
       "      <th>...</th>\n",
       "      <td>...</td>\n",
       "      <td>...</td>\n",
       "      <td>...</td>\n",
       "      <td>...</td>\n",
       "      <td>...</td>\n",
       "    </tr>\n",
       "    <tr>\n",
       "      <th>864</th>\n",
       "      <td>507</td>\n",
       "      <td>Humboldt Blvd &amp; Armitage Ave</td>\n",
       "      <td>41.91751339</td>\n",
       "      <td>-87.70180896</td>\n",
       "      <td>19</td>\n",
       "    </tr>\n",
       "    <tr>\n",
       "      <th>865</th>\n",
       "      <td>508</td>\n",
       "      <td>Central Park Ave &amp; North Ave</td>\n",
       "      <td>41.90965688</td>\n",
       "      <td>-87.71663195</td>\n",
       "      <td>15</td>\n",
       "    </tr>\n",
       "    <tr>\n",
       "      <th>866</th>\n",
       "      <td>509</td>\n",
       "      <td>Troy St &amp; North Ave</td>\n",
       "      <td>41.9097693</td>\n",
       "      <td>-87.70528049</td>\n",
       "      <td>15</td>\n",
       "    </tr>\n",
       "    <tr>\n",
       "      <th>867</th>\n",
       "      <td>510</td>\n",
       "      <td>Spaulding Ave &amp; Division St</td>\n",
       "      <td>41.90270659</td>\n",
       "      <td>-87.70921957</td>\n",
       "      <td>15</td>\n",
       "    </tr>\n",
       "    <tr>\n",
       "      <th>868</th>\n",
       "      <td>511</td>\n",
       "      <td>Albany Ave &amp; Bloomingdale Ave</td>\n",
       "      <td>41.91402671</td>\n",
       "      <td>-87.70512646</td>\n",
       "      <td>15</td>\n",
       "    </tr>\n",
       "  </tbody>\n",
       "</table>\n",
       "<p>869 rows × 5 columns</p>\n",
       "</div>"
      ],
      "text/plain": [
       "      id                           name            lat             lon  \\\n",
       "0     43   Michigan Ave & Washington St  41,8838927658  -87,6246491409   \n",
       "1     44         State St & Randolph St  41,8847302006  -87,6277335692   \n",
       "2     33        State St & Van Buren St      41,877181      -87,627844   \n",
       "3    199         Wabash Ave & Grand Ave      41,891738      -87,626937   \n",
       "4     51         Clark St & Randolph St   41,884576228    -87,63188991   \n",
       "..   ...                            ...            ...             ...   \n",
       "864  507   Humboldt Blvd & Armitage Ave    41.91751339    -87.70180896   \n",
       "865  508   Central Park Ave & North Ave    41.90965688    -87.71663195   \n",
       "866  509            Troy St & North Ave     41.9097693    -87.70528049   \n",
       "867  510    Spaulding Ave & Division St    41.90270659    -87.70921957   \n",
       "868  511  Albany Ave & Bloomingdale Ave    41.91402671    -87.70512646   \n",
       "\n",
       "     dpcapacity  \n",
       "0            43  \n",
       "1            27  \n",
       "2            27  \n",
       "3            15  \n",
       "4            31  \n",
       "..          ...  \n",
       "864          19  \n",
       "865          15  \n",
       "866          15  \n",
       "867          15  \n",
       "868          15  \n",
       "\n",
       "[869 rows x 5 columns]"
      ]
     },
     "execution_count": 19,
     "metadata": {},
     "output_type": "execute_result"
    }
   ],
   "source": [
    "stations_raw.rename(columns={'latitude':'lat','longitude':'lon'},inplace=True)\n",
    "stations_raw"
   ]
  },
  {
   "cell_type": "code",
   "execution_count": 20,
   "metadata": {},
   "outputs": [
    {
     "name": "stdout",
     "output_type": "stream",
     "text": [
      "<class 'pandas.core.frame.DataFrame'>\n",
      "RangeIndex: 869 entries, 0 to 868\n",
      "Data columns (total 5 columns):\n",
      " #   Column      Non-Null Count  Dtype \n",
      "---  ------      --------------  ----- \n",
      " 0   id          869 non-null    int64 \n",
      " 1   name        869 non-null    object\n",
      " 2   lat         869 non-null    object\n",
      " 3   lon         869 non-null    object\n",
      " 4   dpcapacity  869 non-null    int64 \n",
      "dtypes: int64(2), object(3)\n",
      "memory usage: 34.1+ KB\n"
     ]
    }
   ],
   "source": [
    "stations_raw.info()"
   ]
  },
  {
   "cell_type": "code",
   "execution_count": 21,
   "metadata": {},
   "outputs": [
    {
     "name": "stdout",
     "output_type": "stream",
     "text": [
      "<class 'pandas.core.frame.DataFrame'>\n",
      "RangeIndex: 869 entries, 0 to 868\n",
      "Data columns (total 5 columns):\n",
      " #   Column      Non-Null Count  Dtype  \n",
      "---  ------      --------------  -----  \n",
      " 0   id          869 non-null    int64  \n",
      " 1   name        869 non-null    object \n",
      " 2   lat         869 non-null    float64\n",
      " 3   lon         869 non-null    float64\n",
      " 4   dpcapacity  869 non-null    int64  \n",
      "dtypes: float64(2), int64(2), object(1)\n",
      "memory usage: 34.1+ KB\n"
     ]
    }
   ],
   "source": [
    "stations_raw.lat=stations_raw.lat.apply(lambda x: float(x.split()[0].replace(',','.')))\n",
    "stations_raw.lon=stations_raw.lon.apply(lambda x: float(x.split()[0].replace(',','.')))\n",
    "stations_raw.info()"
   ]
  },
  {
   "cell_type": "code",
   "execution_count": 22,
   "metadata": {},
   "outputs": [],
   "source": [
    "import requests"
   ]
  },
  {
   "cell_type": "code",
   "execution_count": 29,
   "metadata": {},
   "outputs": [],
   "source": [
    "latitude=latlong[0]"
   ]
  },
  {
   "cell_type": "code",
   "execution_count": 30,
   "metadata": {},
   "outputs": [
    {
     "data": {
      "text/plain": [
       "float"
      ]
     },
     "execution_count": 30,
     "metadata": {},
     "output_type": "execute_result"
    }
   ],
   "source": [
    "type(latitude)"
   ]
  },
  {
   "cell_type": "code",
   "execution_count": 18,
   "metadata": {},
   "outputs": [],
   "source": [
    "latlon3=get_coordinates('3424 S giles')"
   ]
  },
  {
   "cell_type": "code",
   "execution_count": 19,
   "metadata": {},
   "outputs": [
    {
     "data": {
      "text/plain": [
       "[41.8321485, -87.61960959999999]"
      ]
     },
     "execution_count": 19,
     "metadata": {},
     "output_type": "execute_result"
    }
   ],
   "source": [
    "latlon3"
   ]
  },
  {
   "cell_type": "code",
   "execution_count": 2,
   "metadata": {},
   "outputs": [],
   "source": [
    "cwf=chicago_weather_forecast()"
   ]
  },
  {
   "cell_type": "code",
   "execution_count": 3,
   "metadata": {},
   "outputs": [
    {
     "data": {
      "text/plain": [
       "[{'dt': 1670425200,\n",
       "  'main': {'temp': 3.78,\n",
       "   'feels_like': 2.43,\n",
       "   'temp_min': 3.78,\n",
       "   'temp_max': 4.59,\n",
       "   'pressure': 1023,\n",
       "   'sea_level': 1023,\n",
       "   'grnd_level': 1002,\n",
       "   'humidity': 88,\n",
       "   'temp_kf': -0.81},\n",
       "  'weather': [{'id': 803,\n",
       "    'main': 'Clouds',\n",
       "    'description': 'broken clouds',\n",
       "    'icon': '04d'}],\n",
       "  'clouds': {'all': 75},\n",
       "  'wind': {'speed': 1.59, 'deg': 349, 'gust': 1.94},\n",
       "  'visibility': 10000,\n",
       "  'pop': 0,\n",
       "  'sys': {'pod': 'd'},\n",
       "  'dt_txt': '2022-12-07 15:00:00'},\n",
       " {'dt': 1670511600,\n",
       "  'main': {'temp': 3.41,\n",
       "   'feels_like': -0.42,\n",
       "   'temp_min': 3.41,\n",
       "   'temp_max': 3.41,\n",
       "   'pressure': 1029,\n",
       "   'sea_level': 1029,\n",
       "   'grnd_level': 1007,\n",
       "   'humidity': 76,\n",
       "   'temp_kf': 0},\n",
       "  'weather': [{'id': 804,\n",
       "    'main': 'Clouds',\n",
       "    'description': 'overcast clouds',\n",
       "    'icon': '04d'}],\n",
       "  'clouds': {'all': 100},\n",
       "  'wind': {'speed': 4.56, 'deg': 81, 'gust': 6.18},\n",
       "  'visibility': 10000,\n",
       "  'pop': 0,\n",
       "  'sys': {'pod': 'd'},\n",
       "  'dt_txt': '2022-12-08 15:00:00'},\n",
       " {'dt': 1670598000,\n",
       "  'main': {'temp': 4.27,\n",
       "   'feels_like': -0.49,\n",
       "   'temp_min': 4.27,\n",
       "   'temp_max': 4.27,\n",
       "   'pressure': 1019,\n",
       "   'sea_level': 1019,\n",
       "   'grnd_level': 997,\n",
       "   'humidity': 81,\n",
       "   'temp_kf': 0},\n",
       "  'weather': [{'id': 500,\n",
       "    'main': 'Rain',\n",
       "    'description': 'light rain',\n",
       "    'icon': '10d'}],\n",
       "  'clouds': {'all': 100},\n",
       "  'wind': {'speed': 7.17, 'deg': 109, 'gust': 13.41},\n",
       "  'visibility': 10000,\n",
       "  'pop': 0.3,\n",
       "  'rain': {'3h': 0.34},\n",
       "  'sys': {'pod': 'd'},\n",
       "  'dt_txt': '2022-12-09 15:00:00'},\n",
       " {'dt': 1670684400,\n",
       "  'main': {'temp': 4.24,\n",
       "   'feels_like': 0.65,\n",
       "   'temp_min': 4.24,\n",
       "   'temp_max': 4.24,\n",
       "   'pressure': 1021,\n",
       "   'sea_level': 1021,\n",
       "   'grnd_level': 999,\n",
       "   'humidity': 83,\n",
       "   'temp_kf': 0},\n",
       "  'weather': [{'id': 804,\n",
       "    'main': 'Clouds',\n",
       "    'description': 'overcast clouds',\n",
       "    'icon': '04d'}],\n",
       "  'clouds': {'all': 100},\n",
       "  'wind': {'speed': 4.49, 'deg': 113, 'gust': 8.33},\n",
       "  'visibility': 10000,\n",
       "  'pop': 0,\n",
       "  'sys': {'pod': 'd'},\n",
       "  'dt_txt': '2022-12-10 15:00:00'},\n",
       " {'dt': 1670770800,\n",
       "  'main': {'temp': 3.19,\n",
       "   'feels_like': -0.96,\n",
       "   'temp_min': 3.19,\n",
       "   'temp_max': 3.19,\n",
       "   'pressure': 1018,\n",
       "   'sea_level': 1018,\n",
       "   'grnd_level': 996,\n",
       "   'humidity': 91,\n",
       "   'temp_kf': 0},\n",
       "  'weather': [{'id': 500,\n",
       "    'main': 'Rain',\n",
       "    'description': 'light rain',\n",
       "    'icon': '10d'}],\n",
       "  'clouds': {'all': 100},\n",
       "  'wind': {'speed': 5.07, 'deg': 309, 'gust': 8.4},\n",
       "  'visibility': 10000,\n",
       "  'pop': 0.3,\n",
       "  'rain': {'3h': 0.13},\n",
       "  'sys': {'pod': 'd'},\n",
       "  'dt_txt': '2022-12-11 15:00:00'}]"
      ]
     },
     "execution_count": 3,
     "metadata": {},
     "output_type": "execute_result"
    }
   ],
   "source": [
    "cwf"
   ]
  },
  {
   "cell_type": "code",
   "execution_count": 10,
   "metadata": {},
   "outputs": [],
   "source": [
    "stations=get_stations(only_coordinates=False)"
   ]
  },
  {
   "cell_type": "code",
   "execution_count": 11,
   "metadata": {},
   "outputs": [
    {
     "name": "stdout",
     "output_type": "stream",
     "text": [
      "<class 'pandas.core.frame.DataFrame'>\n",
      "RangeIndex: 869 entries, 0 to 868\n",
      "Data columns (total 5 columns):\n",
      " #   Column      Non-Null Count  Dtype  \n",
      "---  ------      --------------  -----  \n",
      " 0   id          869 non-null    int64  \n",
      " 1   name        869 non-null    object \n",
      " 2   lat         869 non-null    float64\n",
      " 3   lon         869 non-null    float64\n",
      " 4   dpcapacity  869 non-null    int64  \n",
      "dtypes: float64(2), int64(2), object(1)\n",
      "memory usage: 34.1+ KB\n"
     ]
    }
   ],
   "source": [
    "stations.info()"
   ]
  },
  {
   "cell_type": "code",
   "execution_count": 35,
   "metadata": {},
   "outputs": [
    {
     "data": {
      "text/plain": [
       "(array([[0.00115633, 0.00115633, 0.00290048]]), array([[583, 263, 172]]))"
      ]
     },
     "execution_count": 35,
     "metadata": {},
     "output_type": "execute_result"
    }
   ],
   "source": [
    "NN=NearestNeighbors(n_neighbors=3, metric='haversine')\n",
    "NN.fit(stations[['lat', 'lon']])\n",
    "result=NN.kneighbors(user_loc)\n",
    "result"
   ]
  },
  {
   "cell_type": "code",
   "execution_count": 36,
   "metadata": {},
   "outputs": [
    {
     "data": {
      "text/plain": [
       "tuple"
      ]
     },
     "execution_count": 36,
     "metadata": {},
     "output_type": "execute_result"
    }
   ],
   "source": [
    "type(result)"
   ]
  },
  {
   "cell_type": "code",
   "execution_count": 41,
   "metadata": {},
   "outputs": [
    {
     "data": {
      "text/plain": [
       "[583, 263, 172]"
      ]
     },
     "execution_count": 41,
     "metadata": {},
     "output_type": "execute_result"
    }
   ],
   "source": [
    "a=list(result[1][0])\n",
    "a"
   ]
  },
  {
   "cell_type": "code",
   "execution_count": 43,
   "metadata": {},
   "outputs": [
    {
     "data": {
      "text/html": [
       "<div>\n",
       "<style scoped>\n",
       "    .dataframe tbody tr th:only-of-type {\n",
       "        vertical-align: middle;\n",
       "    }\n",
       "\n",
       "    .dataframe tbody tr th {\n",
       "        vertical-align: top;\n",
       "    }\n",
       "\n",
       "    .dataframe thead th {\n",
       "        text-align: right;\n",
       "    }\n",
       "</style>\n",
       "<table border=\"1\" class=\"dataframe\">\n",
       "  <thead>\n",
       "    <tr style=\"text-align: right;\">\n",
       "      <th></th>\n",
       "      <th>lat</th>\n",
       "      <th>lon</th>\n",
       "    </tr>\n",
       "  </thead>\n",
       "  <tbody>\n",
       "    <tr>\n",
       "      <th>583</th>\n",
       "      <td>41.831379</td>\n",
       "      <td>-87.618034</td>\n",
       "    </tr>\n",
       "    <tr>\n",
       "      <th>263</th>\n",
       "      <td>41.831379</td>\n",
       "      <td>-87.618034</td>\n",
       "    </tr>\n",
       "    <tr>\n",
       "      <th>172</th>\n",
       "      <td>41.834900</td>\n",
       "      <td>-87.617930</td>\n",
       "    </tr>\n",
       "  </tbody>\n",
       "</table>\n",
       "</div>"
      ],
      "text/plain": [
       "           lat        lon\n",
       "583  41.831379 -87.618034\n",
       "263  41.831379 -87.618034\n",
       "172  41.834900 -87.617930"
      ]
     },
     "execution_count": 43,
     "metadata": {},
     "output_type": "execute_result"
    }
   ],
   "source": [
    "stations.iloc[a]"
   ]
  },
  {
   "cell_type": "code",
   "execution_count": 4,
   "metadata": {},
   "outputs": [
    {
     "data": {
      "text/plain": [
       "[{'dt': 1670500800,\n",
       "  'main': {'temp': 2.03,\n",
       "   'feels_like': -1.31,\n",
       "   'temp_min': 2.03,\n",
       "   'temp_max': 2.85,\n",
       "   'pressure': 1029,\n",
       "   'sea_level': 1029,\n",
       "   'grnd_level': 1007,\n",
       "   'humidity': 74,\n",
       "   'temp_kf': -0.82},\n",
       "  'weather': [{'id': 804,\n",
       "    'main': 'Clouds',\n",
       "    'description': 'overcast clouds',\n",
       "    'icon': '04n'}],\n",
       "  'clouds': {'all': 93},\n",
       "  'wind': {'speed': 3.32, 'deg': 58, 'gust': 5.09},\n",
       "  'visibility': 10000,\n",
       "  'pop': 0,\n",
       "  'sys': {'pod': 'n'},\n",
       "  'dt_txt': '2022-12-08 12:00:00'},\n",
       " {'dt': 1670587200,\n",
       "  'main': {'temp': 3.69,\n",
       "   'feels_like': -1.09,\n",
       "   'temp_min': 3.69,\n",
       "   'temp_max': 3.69,\n",
       "   'pressure': 1021,\n",
       "   'sea_level': 1021,\n",
       "   'grnd_level': 999,\n",
       "   'humidity': 85,\n",
       "   'temp_kf': 0},\n",
       "  'weather': [{'id': 500,\n",
       "    'main': 'Rain',\n",
       "    'description': 'light rain',\n",
       "    'icon': '10n'}],\n",
       "  'clouds': {'all': 100},\n",
       "  'wind': {'speed': 6.78, 'deg': 123, 'gust': 12.79},\n",
       "  'visibility': 7404,\n",
       "  'pop': 0.8,\n",
       "  'rain': {'3h': 1.56},\n",
       "  'sys': {'pod': 'n'},\n",
       "  'dt_txt': '2022-12-09 12:00:00'},\n",
       " {'dt': 1670673600,\n",
       "  'main': {'temp': 4.31,\n",
       "   'feels_like': 1.11,\n",
       "   'temp_min': 4.31,\n",
       "   'temp_max': 4.31,\n",
       "   'pressure': 1019,\n",
       "   'sea_level': 1019,\n",
       "   'grnd_level': 998,\n",
       "   'humidity': 89,\n",
       "   'temp_kf': 0},\n",
       "  'weather': [{'id': 804,\n",
       "    'main': 'Clouds',\n",
       "    'description': 'overcast clouds',\n",
       "    'icon': '04n'}],\n",
       "  'clouds': {'all': 100},\n",
       "  'wind': {'speed': 3.84, 'deg': 104, 'gust': 6.01},\n",
       "  'visibility': 10000,\n",
       "  'pop': 0,\n",
       "  'sys': {'pod': 'n'},\n",
       "  'dt_txt': '2022-12-10 12:00:00'},\n",
       " {'dt': 1670760000,\n",
       "  'main': {'temp': 4.63,\n",
       "   'feels_like': 1.33,\n",
       "   'temp_min': 4.63,\n",
       "   'temp_max': 4.63,\n",
       "   'pressure': 1020,\n",
       "   'sea_level': 1020,\n",
       "   'grnd_level': 998,\n",
       "   'humidity': 88,\n",
       "   'temp_kf': 0},\n",
       "  'weather': [{'id': 804,\n",
       "    'main': 'Clouds',\n",
       "    'description': 'overcast clouds',\n",
       "    'icon': '04n'}],\n",
       "  'clouds': {'all': 97},\n",
       "  'wind': {'speed': 4.13, 'deg': 339, 'gust': 6.78},\n",
       "  'visibility': 10000,\n",
       "  'pop': 0,\n",
       "  'sys': {'pod': 'n'},\n",
       "  'dt_txt': '2022-12-11 12:00:00'},\n",
       " {'dt': 1670846400,\n",
       "  'main': {'temp': 3.88,\n",
       "   'feels_like': 0.89,\n",
       "   'temp_min': 3.88,\n",
       "   'temp_max': 3.88,\n",
       "   'pressure': 1024,\n",
       "   'sea_level': 1024,\n",
       "   'grnd_level': 1002,\n",
       "   'humidity': 69,\n",
       "   'temp_kf': 0},\n",
       "  'weather': [{'id': 804,\n",
       "    'main': 'Clouds',\n",
       "    'description': 'overcast clouds',\n",
       "    'icon': '04n'}],\n",
       "  'clouds': {'all': 91},\n",
       "  'wind': {'speed': 3.37, 'deg': 67, 'gust': 4.25},\n",
       "  'visibility': 10000,\n",
       "  'pop': 0,\n",
       "  'sys': {'pod': 'n'},\n",
       "  'dt_txt': '2022-12-12 12:00:00'}]"
      ]
     },
     "execution_count": 4,
     "metadata": {},
     "output_type": "execute_result"
    }
   ],
   "source": [
    "wfc=chicago_weather_forecast()\n",
    "wfc"
   ]
  },
  {
   "cell_type": "code",
   "execution_count": 5,
   "metadata": {},
   "outputs": [
    {
     "data": {
      "text/plain": [
       "{'dt': 1670500800,\n",
       " 'main': {'temp': 2.03,\n",
       "  'feels_like': -1.31,\n",
       "  'temp_min': 2.03,\n",
       "  'temp_max': 2.85,\n",
       "  'pressure': 1029,\n",
       "  'sea_level': 1029,\n",
       "  'grnd_level': 1007,\n",
       "  'humidity': 74,\n",
       "  'temp_kf': -0.82},\n",
       " 'weather': [{'id': 804,\n",
       "   'main': 'Clouds',\n",
       "   'description': 'overcast clouds',\n",
       "   'icon': '04n'}],\n",
       " 'clouds': {'all': 93},\n",
       " 'wind': {'speed': 3.32, 'deg': 58, 'gust': 5.09},\n",
       " 'visibility': 10000,\n",
       " 'pop': 0,\n",
       " 'sys': {'pod': 'n'},\n",
       " 'dt_txt': '2022-12-08 12:00:00'}"
      ]
     },
     "execution_count": 5,
     "metadata": {},
     "output_type": "execute_result"
    }
   ],
   "source": [
    "wfc[0]"
   ]
  },
  {
   "cell_type": "code",
   "execution_count": 6,
   "metadata": {},
   "outputs": [],
   "source": [
    "weather_dict=dict(dt=[],dt_iso=[],timezone=[],city_name=[],lat=[],lon=[],temp=[]\n",
    "                  ,visibility=[],dew_point=[],feels_like=[],temp_min=[],temp_max=[],\n",
    "                  pressure=[],sea_level=[],grnd_level=[],humidity=[],wind_speed=[],\n",
    "                  wind_deg=[],wind_gust=[],rain_1h=[],rain_3h=[],snow_1h=[],snow_3h=[],\n",
    "                  clouds_all=[],weather_id=[],weather_main=[],weather_description=[],\n",
    "                  weather_icon=[])\n"
   ]
  },
  {
   "cell_type": "code",
   "execution_count": 7,
   "metadata": {},
   "outputs": [
    {
     "data": {
      "text/plain": [
       "{'dt': [],\n",
       " 'dt_iso': [],\n",
       " 'timezone': [],\n",
       " 'city_name': [],\n",
       " 'lat': [],\n",
       " 'lon': [],\n",
       " 'temp': [],\n",
       " 'visibility': [],\n",
       " 'dew_point': [],\n",
       " 'feels_like': [],\n",
       " 'temp_min': [],\n",
       " 'temp_max': [],\n",
       " 'pressure': [],\n",
       " 'sea_level': [],\n",
       " 'grnd_level': [],\n",
       " 'humidity': [],\n",
       " 'wind_speed': [],\n",
       " 'wind_deg': [],\n",
       " 'wind_gust': [],\n",
       " 'rain_1h': [],\n",
       " 'rain_3h': [],\n",
       " 'snow_1h': [],\n",
       " 'snow_3h': [],\n",
       " 'clouds_all': [],\n",
       " 'weather_id': [],\n",
       " 'weather_main': [],\n",
       " 'weather_description': [],\n",
       " 'weather_icon': []}"
      ]
     },
     "execution_count": 7,
     "metadata": {},
     "output_type": "execute_result"
    }
   ],
   "source": [
    "weather_dict"
   ]
  },
  {
   "cell_type": "code",
   "execution_count": null,
   "metadata": {},
   "outputs": [],
   "source": [
    "for day in wfc:\n",
    "    weather_dict['dt'].append(day['dt'])\n",
    "    weather_dict['dt'].append(day['dt'])\n",
    "    "
   ]
  },
  {
   "cell_type": "code",
   "execution_count": null,
   "metadata": {},
   "outputs": [],
   "source": [
    "weather_df=pd.DataFrame(weather_dict)"
   ]
  }
 ],
 "metadata": {
  "kernelspec": {
   "display_name": "Python 3.10.6 64-bit ('shims')",
   "language": "python",
   "name": "python3"
  },
  "language_info": {
   "codemirror_mode": {
    "name": "ipython",
    "version": 3
   },
   "file_extension": ".py",
   "mimetype": "text/x-python",
   "name": "python",
   "nbconvert_exporter": "python",
   "pygments_lexer": "ipython3",
   "version": "3.10.6"
  },
  "orig_nbformat": 4,
  "vscode": {
   "interpreter": {
    "hash": "8b6a70856d80cc998133fadfc5935fe73a8081d1e320ea9e4e52e40b2d858c8e"
   }
  }
 },
 "nbformat": 4,
 "nbformat_minor": 2
}
