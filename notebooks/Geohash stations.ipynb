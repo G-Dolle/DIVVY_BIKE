{
 "cells": [
  {
   "cell_type": "code",
   "execution_count": 10,
   "id": "b6f7e6de",
   "metadata": {},
   "outputs": [
    {
     "data": {
      "text/plain": [
       "'/Users/joachimclodic/code/G-Dolle/DIVVY_BIKE/notebooks'"
      ]
     },
     "execution_count": 10,
     "metadata": {},
     "output_type": "execute_result"
    }
   ],
   "source": [
    "pwd"
   ]
  },
  {
   "cell_type": "code",
   "execution_count": 11,
   "id": "aea5603f",
   "metadata": {},
   "outputs": [
    {
     "name": "stdout",
     "output_type": "stream",
     "text": [
      "/Users/joachimclodic/code/G-Dolle/DIVVY_BIKE\n"
     ]
    }
   ],
   "source": [
    "cd /Users/joachimclodic/code/G-Dolle/DIVVY_BIKE"
   ]
  },
  {
   "cell_type": "code",
   "execution_count": 12,
   "id": "2d54306d",
   "metadata": {},
   "outputs": [],
   "source": [
    "import sys\n",
    "sys.path.insert(0, '../')"
   ]
  },
  {
   "cell_type": "code",
   "execution_count": 23,
   "id": "cf12b7b8",
   "metadata": {},
   "outputs": [],
   "source": [
    "import numpy as np\n",
    "import pandas as pd\n",
    "import pygeohash as gh\n",
    "\n",
    "from ml_logic.data_import import get_station_data\n",
    "\n",
    "def compute_geohash_stations(precision: int = 5) -> np.ndarray:\n",
    "    \"\"\"\n",
    "    Add a geohash (ex: \"dr5rx\") of len \"precision\" = 5 by default\n",
    "    corresponding to each (lon,lat) tuple, for pick-up, and drop-off\n",
    "    \"\"\"\n",
    "    df_stations=get_station_data()\n",
    "    assert isinstance(df_stations, pd.DataFrame)\n",
    "\n",
    "    df_stations[\"geohash\"] = df_stations.apply(lambda x: gh.encode(\n",
    "        x.lat, x.lon, precision=precision),\n",
    "                                    axis=1)\n",
    "    df_stations=compute_geohash_stations(precision=5)\n",
    "    df_stations_reduced=df_stations[[\"name\",\"legacy_id\",'geohash']]\n",
    "    df_stations_reduced.rename(columns={\"name\":\"station_name\",\n",
    "                                   \"legacy_id\":\"station_id\"}, inplace=True)\n",
    "\n",
    "    return df_stations_reduced"
   ]
  },
  {
   "cell_type": "code",
   "execution_count": 24,
   "id": "86c3c1cd",
   "metadata": {},
   "outputs": [
    {
     "data": {
      "text/html": [
       "<div>\n",
       "<style scoped>\n",
       "    .dataframe tbody tr th:only-of-type {\n",
       "        vertical-align: middle;\n",
       "    }\n",
       "\n",
       "    .dataframe tbody tr th {\n",
       "        vertical-align: top;\n",
       "    }\n",
       "\n",
       "    .dataframe thead th {\n",
       "        text-align: right;\n",
       "    }\n",
       "</style>\n",
       "<table border=\"1\" class=\"dataframe\">\n",
       "  <thead>\n",
       "    <tr style=\"text-align: right;\">\n",
       "      <th></th>\n",
       "      <th>station_name</th>\n",
       "      <th>station_id</th>\n",
       "      <th>geohash</th>\n",
       "    </tr>\n",
       "  </thead>\n",
       "  <tbody>\n",
       "    <tr>\n",
       "      <th>0</th>\n",
       "      <td>Central Ave &amp; Harrison St</td>\n",
       "      <td>541</td>\n",
       "      <td>dp3w4</td>\n",
       "    </tr>\n",
       "    <tr>\n",
       "      <th>1</th>\n",
       "      <td>Halsted St &amp; 59th St</td>\n",
       "      <td>593</td>\n",
       "      <td>dp3tt</td>\n",
       "    </tr>\n",
       "    <tr>\n",
       "      <th>2</th>\n",
       "      <td>Damen Ave &amp; 51st St</td>\n",
       "      <td>554</td>\n",
       "      <td>dp3tu</td>\n",
       "    </tr>\n",
       "    <tr>\n",
       "      <th>3</th>\n",
       "      <td>Halsted St &amp; 21st St</td>\n",
       "      <td>135</td>\n",
       "      <td>dp3wj</td>\n",
       "    </tr>\n",
       "    <tr>\n",
       "      <th>4</th>\n",
       "      <td>Michigan Ave &amp; Madison St</td>\n",
       "      <td>197</td>\n",
       "      <td>dp3wq</td>\n",
       "    </tr>\n",
       "  </tbody>\n",
       "</table>\n",
       "</div>"
      ],
      "text/plain": [
       "                station_name station_id geohash\n",
       "0  Central Ave & Harrison St        541   dp3w4\n",
       "1       Halsted St & 59th St        593   dp3tt\n",
       "2        Damen Ave & 51st St        554   dp3tu\n",
       "3       Halsted St & 21st St        135   dp3wj\n",
       "4  Michigan Ave & Madison St        197   dp3wq"
      ]
     },
     "execution_count": 24,
     "metadata": {},
     "output_type": "execute_result"
    }
   ],
   "source": [
    "df_stations_reduced.head()"
   ]
  },
  {
   "cell_type": "code",
   "execution_count": 18,
   "id": "cc28fdce",
   "metadata": {},
   "outputs": [
    {
     "data": {
      "text/plain": [
       "47"
      ]
     },
     "execution_count": 18,
     "metadata": {},
     "output_type": "execute_result"
    }
   ],
   "source": [
    "df_stations['geohash'].nunique()\n"
   ]
  },
  {
   "cell_type": "code",
   "execution_count": 19,
   "id": "06c100ca",
   "metadata": {},
   "outputs": [
    {
     "data": {
      "text/plain": [
       "array(['dp3w4', 'dp3tt', 'dp3tu', 'dp3wj', 'dp3wq', 'dp3ty', 'dp3wk',\n",
       "       'dp3tm', 'dp3tq', 'dp3tx', 'dp3wm', 'dp3wh', 'dp3wv', 'dp3wn',\n",
       "       'dp3wt', 'dp3w7', 'dp3tw', 'dp3w6', 'dp3tv', 'dp3xj', 'dp3sz',\n",
       "       'dp3we', 'dp3tj', 'dp3ts', 'dp3ws', 'dp3wu', 'dp3w5', 'dp3xh',\n",
       "       'dp3tp', 'dp3tz', 'dp3v2', 'dp3tr', 'dp3xk', 'dp3th', 'dp3tn',\n",
       "       'dp3sy', 'dp3wg', 'dp3tk', 'dp3v0', 'dp3x7', 'dp3te', 'dp3wd',\n",
       "       'dp3w9', 'dp3w3', 'dp3tg', 'dp3t7', 'dp3ub'], dtype=object)"
      ]
     },
     "execution_count": 19,
     "metadata": {},
     "output_type": "execute_result"
    }
   ],
   "source": [
    "df_stations['geohash'].unique()\n"
   ]
  },
  {
   "cell_type": "code",
   "execution_count": null,
   "id": "412e1b49",
   "metadata": {},
   "outputs": [],
   "source": []
  }
 ],
 "metadata": {
  "kernelspec": {
   "display_name": "Python 3 (ipykernel)",
   "language": "python",
   "name": "python3"
  },
  "language_info": {
   "codemirror_mode": {
    "name": "ipython",
    "version": 3
   },
   "file_extension": ".py",
   "mimetype": "text/x-python",
   "name": "python",
   "nbconvert_exporter": "python",
   "pygments_lexer": "ipython3",
   "version": "3.10.6"
  },
  "toc": {
   "base_numbering": 1,
   "nav_menu": {},
   "number_sections": true,
   "sideBar": true,
   "skip_h1_title": false,
   "title_cell": "Table of Contents",
   "title_sidebar": "Contents",
   "toc_cell": false,
   "toc_position": {},
   "toc_section_display": true,
   "toc_window_display": false
  }
 },
 "nbformat": 4,
 "nbformat_minor": 5
}
