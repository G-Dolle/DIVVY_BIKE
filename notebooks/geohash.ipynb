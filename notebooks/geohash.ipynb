{
 "cells": [
  {
   "cell_type": "markdown",
   "metadata": {},
   "source": [
    "### Imports"
   ]
  },
  {
   "cell_type": "code",
   "execution_count": null,
   "metadata": {},
   "outputs": [],
   "source": [
    "import math\n",
    "import numpy as np\n",
    "import pandas as pd\n",
    "import pygeohash as gh"
   ]
  },
  {
   "attachments": {},
   "cell_type": "markdown",
   "metadata": {},
   "source": [
    "### Compute Geohash"
   ]
  },
  {
   "cell_type": "code",
   "execution_count": 1,
   "metadata": {},
   "outputs": [
    {
     "ename": "NameError",
     "evalue": "name 'pd' is not defined",
     "output_type": "error",
     "traceback": [
      "\u001b[0;31m---------------------------------------------------------------------------\u001b[0m",
      "\u001b[0;31mNameError\u001b[0m                                 Traceback (most recent call last)",
      "Cell \u001b[0;32mIn[1], line 1\u001b[0m\n\u001b[0;32m----> 1\u001b[0m \u001b[39mdef\u001b[39;00m \u001b[39mcompute_geohash\u001b[39m(X: pd\u001b[39m.\u001b[39mDataFrame, precision: \u001b[39mint\u001b[39m \u001b[39m=\u001b[39m \u001b[39m5\u001b[39m) \u001b[39m-\u001b[39m\u001b[39m>\u001b[39m np\u001b[39m.\u001b[39mndarray:\n\u001b[1;32m      2\u001b[0m     \u001b[39m\"\"\"\u001b[39;00m\n\u001b[1;32m      3\u001b[0m \u001b[39m    Add a geohash (ex: \"dr5rx\") of len \"precision\" = 5 by default\u001b[39;00m\n\u001b[1;32m      4\u001b[0m \u001b[39m    corresponding to each (lon,lat) tuple, for pick-up, and drop-off\u001b[39;00m\n\u001b[1;32m      5\u001b[0m \u001b[39m    \"\"\"\u001b[39;00m\n\u001b[1;32m      6\u001b[0m     \u001b[39massert\u001b[39;00m \u001b[39misinstance\u001b[39m(X, pd\u001b[39m.\u001b[39mDataFrame)\n",
      "\u001b[0;31mNameError\u001b[0m: name 'pd' is not defined"
     ]
    }
   ],
   "source": [
    "def transform_lonlat_features(X: pd.DataFrame) -> pd.DataFrame:\n",
    "\n",
    "    assert isinstance(X, pd.DataFrame)\n",
    "    lonlat_features = [\"pickup_latitude\", \"pickup_longitude\", \"dropoff_latitude\", \"dropoff_longitude\"]\n",
    "\n",
    "    def distances_vectorized(df: pd.DataFrame, start_lat: str, start_lon: str, end_lat: str, end_lon: str) -> dict:\n",
    "        \"\"\"\n",
    "        Calculate the haverzine and manhattan distance between two points on the earth (specified in decimal degrees).\n",
    "        Vectorized version for pandas df\n",
    "        Computes distance in kms\n",
    "        \"\"\"\n",
    "        earth_radius = 6371\n",
    "\n",
    "        lat_1_rad, lon_1_rad = np.radians(df[start_lat]), np.radians(df[start_lon])\n",
    "        lat_2_rad, lon_2_rad = np.radians(df[end_lat]), np.radians(df[end_lon])\n",
    "\n",
    "        dlon_rad = lon_2_rad - lon_1_rad\n",
    "        dlat_rad = lat_2_rad - lat_1_rad\n",
    "\n",
    "        manhattan_rad = np.abs(dlon_rad) + np.abs(dlat_rad)\n",
    "        manhattan_km = manhattan_rad * earth_radius\n",
    "\n",
    "        a = (np.sin(dlat_rad / 2.0)**2 + np.cos(lat_1_rad) * np.cos(lat_2_rad) * np.sin(dlon_rad / 2.0)**2)\n",
    "        haversine_rad = 2 * np.arcsin(np.sqrt(a))\n",
    "        haversine_km = haversine_rad * earth_radius\n",
    "\n",
    "        return dict(\n",
    "            haversize=haversine_km,\n",
    "            manhattan=manhattan_km)\n",
    "\n",
    "    result = pd.DataFrame(distances_vectorized(X, *lonlat_features))\n",
    "\n",
    "    return result\n",
    "\n",
    "\n",
    "\n",
    "def compute_geohash(X: pd.DataFrame, precision: int = 5) -> np.ndarray:\n",
    "    \"\"\"\n",
    "    Add a geohash (ex: \"dr5rx\") of len \"precision\" = 5 by default\n",
    "    corresponding to each (lon,lat) tuple, for pick-up, and drop-off\n",
    "    \"\"\"\n",
    "    assert isinstance(X, pd.DataFrame)\n",
    "\n",
    "    X[\"geohash_pickup\"] = X.apply(lambda x: gh.encode(\n",
    "        x.pickup_latitude, x.pickup_longitude, precision=precision),\n",
    "                                    axis=1)\n",
    "    X[\"geohash_dropoff\"] = X.apply(lambda x: gh.encode(\n",
    "        x.dropoff_latitude, x.dropoff_longitude, precision=precision),\n",
    "                                    axis=1)\n",
    "    return X[[\"geohash_pickup\", \"geohash_dropoff\"]]"
   ]
  },
  {
   "cell_type": "code",
   "execution_count": null,
   "metadata": {},
   "outputs": [],
   "source": []
  }
 ],
 "metadata": {
  "kernelspec": {
   "display_name": "DIVVY_BIKE",
   "language": "python",
   "name": "python3"
  },
  "language_info": {
   "codemirror_mode": {
    "name": "ipython",
    "version": 3
   },
   "file_extension": ".py",
   "mimetype": "text/x-python",
   "name": "python",
   "nbconvert_exporter": "python",
   "pygments_lexer": "ipython3",
   "version": "3.10.6"
  },
  "orig_nbformat": 4,
  "vscode": {
   "interpreter": {
    "hash": "d5184e0acc15843ecf4b2e71ed1c337533860ea32899b4a1b744b0697b4091c9"
   }
  }
 },
 "nbformat": 4,
 "nbformat_minor": 2
}
