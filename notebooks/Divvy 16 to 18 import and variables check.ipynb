{
 "cells": [
  {
   "cell_type": "markdown",
   "id": "548c99d0",
   "metadata": {},
   "source": [
    "# DIVVY data initial exploration - 2016 to 2018"
   ]
  },
  {
   "cell_type": "markdown",
   "id": "db1d7b0c",
   "metadata": {},
   "source": [
    "Importing packages"
   ]
  },
  {
   "cell_type": "code",
   "execution_count": 1,
   "id": "167d864a",
   "metadata": {},
   "outputs": [],
   "source": [
    "import os\n",
    "import pandas as pd"
   ]
  },
  {
   "cell_type": "code",
   "execution_count": 2,
   "id": "98b8350d",
   "metadata": {},
   "outputs": [
    {
     "data": {
      "text/plain": [
       "'/home/gdolle/code/G-Dolle/DIVVY_BIKE'"
      ]
     },
     "execution_count": 2,
     "metadata": {},
     "output_type": "execute_result"
    }
   ],
   "source": [
    "pwd"
   ]
  },
  {
   "cell_type": "markdown",
   "id": "01a75461",
   "metadata": {},
   "source": [
    "## Year 2016"
   ]
  },
  {
   "cell_type": "code",
   "execution_count": 3,
   "id": "3810029b",
   "metadata": {},
   "outputs": [],
   "source": [
    "path_2016 = 'raw_data/2016'"
   ]
  },
  {
   "cell_type": "code",
   "execution_count": 4,
   "id": "9c3e695b",
   "metadata": {},
   "outputs": [],
   "source": [
    "from os import listdir\n",
    "from os.path import isfile, join"
   ]
  },
  {
   "cell_type": "code",
   "execution_count": 5,
   "id": "31f7753a",
   "metadata": {},
   "outputs": [
    {
     "data": {
      "text/plain": [
       "['raw_data/2016/Divvy_Trips_2016_Q1Q2', 'raw_data/2016/Divvy_Trips_2016_Q3Q4']"
      ]
     },
     "execution_count": 5,
     "metadata": {},
     "output_type": "execute_result"
    }
   ],
   "source": [
    "subfolders = [ f.path for f in os.scandir(path_2016) if f.is_dir() ]\n",
    "subfolders"
   ]
  },
  {
   "cell_type": "code",
   "execution_count": 6,
   "id": "0f719f42",
   "metadata": {},
   "outputs": [],
   "source": [
    "map_of_files = {}\n",
    "\n",
    "for subfolder in subfolders:\n",
    "\n",
    "    liste = [os.path.splitext(f)[0] for f in os.listdir(subfolder) if os.path.splitext(f)[1] == \".csv\"]\n",
    "\n",
    "    map_of_files[subfolder] = liste"
   ]
  },
  {
   "cell_type": "code",
   "execution_count": 7,
   "id": "cf4d5185",
   "metadata": {},
   "outputs": [
    {
     "data": {
      "text/plain": [
       "{'raw_data/2016/Divvy_Trips_2016_Q1Q2': ['Divvy_Trips_2016_05',\n",
       "  'Divvy_Trips_2016_06',\n",
       "  'Divvy_Stations_2016_Q1Q2',\n",
       "  'Divvy_Trips_2016_04',\n",
       "  'Divvy_Trips_2016_Q1',\n",
       "  'Divvy_Trips_2016_Q2'],\n",
       " 'raw_data/2016/Divvy_Trips_2016_Q3Q4': ['Divvy_Trips_2016_Q3',\n",
       "  'Divvy_Stations_2016_Q4',\n",
       "  'Divvy_Stations_2016_Q3',\n",
       "  'Divvy_Trips_2016_Q4']}"
      ]
     },
     "execution_count": 7,
     "metadata": {},
     "output_type": "execute_result"
    }
   ],
   "source": [
    "map_of_files"
   ]
  },
  {
   "cell_type": "code",
   "execution_count": 8,
   "id": "6eb34a25",
   "metadata": {},
   "outputs": [
    {
     "data": {
      "text/plain": [
       "'raw_data/2016/Divvy_Trips_2016_Q1Q2'"
      ]
     },
     "execution_count": 8,
     "metadata": {},
     "output_type": "execute_result"
    }
   ],
   "source": [
    "path_test_root = list(map_of_files.keys())[0]\n",
    "path_test_root"
   ]
  },
  {
   "cell_type": "code",
   "execution_count": 9,
   "id": "7ac69dc6",
   "metadata": {},
   "outputs": [
    {
     "data": {
      "text/plain": [
       "'Divvy_Trips_2016_05'"
      ]
     },
     "execution_count": 9,
     "metadata": {},
     "output_type": "execute_result"
    }
   ],
   "source": [
    "path_test_file = map_of_files['raw_data/2016/Divvy_Trips_2016_Q1Q2'][0]\n",
    "path_test_file"
   ]
  },
  {
   "cell_type": "code",
   "execution_count": 10,
   "id": "c2df1ff2",
   "metadata": {},
   "outputs": [
    {
     "data": {
      "text/plain": [
       "'raw_data/2016/Divvy_Trips_2016_Q1Q2/Divvy_Trips_2016_05.csv'"
      ]
     },
     "execution_count": 10,
     "metadata": {},
     "output_type": "execute_result"
    }
   ],
   "source": [
    "path_test_file_conc_1 = path_test_root+\"/\"+path_test_file+\".csv\"\n",
    "path_test_file_conc_1"
   ]
  },
  {
   "cell_type": "code",
   "execution_count": 11,
   "id": "1cc72751",
   "metadata": {},
   "outputs": [
    {
     "data": {
      "text/html": [
       "<div>\n",
       "<style scoped>\n",
       "    .dataframe tbody tr th:only-of-type {\n",
       "        vertical-align: middle;\n",
       "    }\n",
       "\n",
       "    .dataframe tbody tr th {\n",
       "        vertical-align: top;\n",
       "    }\n",
       "\n",
       "    .dataframe thead th {\n",
       "        text-align: right;\n",
       "    }\n",
       "</style>\n",
       "<table border=\"1\" class=\"dataframe\">\n",
       "  <thead>\n",
       "    <tr style=\"text-align: right;\">\n",
       "      <th></th>\n",
       "      <th>trip_id</th>\n",
       "      <th>starttime</th>\n",
       "      <th>stoptime</th>\n",
       "      <th>bikeid</th>\n",
       "      <th>tripduration</th>\n",
       "      <th>from_station_id</th>\n",
       "      <th>from_station_name</th>\n",
       "      <th>to_station_id</th>\n",
       "      <th>to_station_name</th>\n",
       "      <th>usertype</th>\n",
       "      <th>gender</th>\n",
       "      <th>birthyear</th>\n",
       "    </tr>\n",
       "  </thead>\n",
       "  <tbody>\n",
       "    <tr>\n",
       "      <th>0</th>\n",
       "      <td>9835709</td>\n",
       "      <td>5/31/2016 23:57</td>\n",
       "      <td>6/1/2016 0:14</td>\n",
       "      <td>609</td>\n",
       "      <td>1045</td>\n",
       "      <td>22</td>\n",
       "      <td>May St &amp; Taylor St</td>\n",
       "      <td>282</td>\n",
       "      <td>Halsted St &amp; Maxwell St</td>\n",
       "      <td>Subscriber</td>\n",
       "      <td>Male</td>\n",
       "      <td>1993.0</td>\n",
       "    </tr>\n",
       "    <tr>\n",
       "      <th>1</th>\n",
       "      <td>9835708</td>\n",
       "      <td>5/31/2016 23:57</td>\n",
       "      <td>6/1/2016 0:14</td>\n",
       "      <td>1207</td>\n",
       "      <td>1035</td>\n",
       "      <td>22</td>\n",
       "      <td>May St &amp; Taylor St</td>\n",
       "      <td>282</td>\n",
       "      <td>Halsted St &amp; Maxwell St</td>\n",
       "      <td>Subscriber</td>\n",
       "      <td>Male</td>\n",
       "      <td>1993.0</td>\n",
       "    </tr>\n",
       "    <tr>\n",
       "      <th>2</th>\n",
       "      <td>9835707</td>\n",
       "      <td>5/31/2016 23:56</td>\n",
       "      <td>6/1/2016 0:15</td>\n",
       "      <td>4369</td>\n",
       "      <td>1166</td>\n",
       "      <td>90</td>\n",
       "      <td>Millennium Park</td>\n",
       "      <td>320</td>\n",
       "      <td>Loomis St &amp; Lexington St</td>\n",
       "      <td>Subscriber</td>\n",
       "      <td>Male</td>\n",
       "      <td>1988.0</td>\n",
       "    </tr>\n",
       "    <tr>\n",
       "      <th>3</th>\n",
       "      <td>9835706</td>\n",
       "      <td>5/31/2016 23:55</td>\n",
       "      <td>6/1/2016 0:18</td>\n",
       "      <td>2703</td>\n",
       "      <td>1348</td>\n",
       "      <td>174</td>\n",
       "      <td>Canal St &amp; Madison St</td>\n",
       "      <td>273</td>\n",
       "      <td>Michigan Ave &amp; 18th St</td>\n",
       "      <td>Subscriber</td>\n",
       "      <td>Female</td>\n",
       "      <td>1992.0</td>\n",
       "    </tr>\n",
       "    <tr>\n",
       "      <th>4</th>\n",
       "      <td>9835705</td>\n",
       "      <td>5/31/2016 23:55</td>\n",
       "      <td>6/1/2016 0:14</td>\n",
       "      <td>3828</td>\n",
       "      <td>1101</td>\n",
       "      <td>90</td>\n",
       "      <td>Millennium Park</td>\n",
       "      <td>22</td>\n",
       "      <td>May St &amp; Taylor St</td>\n",
       "      <td>Subscriber</td>\n",
       "      <td>Male</td>\n",
       "      <td>1987.0</td>\n",
       "    </tr>\n",
       "  </tbody>\n",
       "</table>\n",
       "</div>"
      ],
      "text/plain": [
       "   trip_id        starttime       stoptime  bikeid  tripduration  \\\n",
       "0  9835709  5/31/2016 23:57  6/1/2016 0:14     609          1045   \n",
       "1  9835708  5/31/2016 23:57  6/1/2016 0:14    1207          1035   \n",
       "2  9835707  5/31/2016 23:56  6/1/2016 0:15    4369          1166   \n",
       "3  9835706  5/31/2016 23:55  6/1/2016 0:18    2703          1348   \n",
       "4  9835705  5/31/2016 23:55  6/1/2016 0:14    3828          1101   \n",
       "\n",
       "   from_station_id      from_station_name  to_station_id  \\\n",
       "0               22     May St & Taylor St            282   \n",
       "1               22     May St & Taylor St            282   \n",
       "2               90        Millennium Park            320   \n",
       "3              174  Canal St & Madison St            273   \n",
       "4               90        Millennium Park             22   \n",
       "\n",
       "            to_station_name    usertype  gender  birthyear  \n",
       "0   Halsted St & Maxwell St  Subscriber    Male     1993.0  \n",
       "1   Halsted St & Maxwell St  Subscriber    Male     1993.0  \n",
       "2  Loomis St & Lexington St  Subscriber    Male     1988.0  \n",
       "3    Michigan Ave & 18th St  Subscriber  Female     1992.0  \n",
       "4        May St & Taylor St  Subscriber    Male     1987.0  "
      ]
     },
     "execution_count": 11,
     "metadata": {},
     "output_type": "execute_result"
    }
   ],
   "source": [
    "df_05_2016 = pd.read_csv(path_test_file_conc_1)\n",
    "df_05_2016.head(5)"
   ]
  },
  {
   "cell_type": "code",
   "execution_count": 12,
   "id": "af3d5c40",
   "metadata": {},
   "outputs": [
    {
     "data": {
      "text/plain": [
       "'Divvy_Trips_2016_06'"
      ]
     },
     "execution_count": 12,
     "metadata": {},
     "output_type": "execute_result"
    }
   ],
   "source": [
    "path_test_file = map_of_files['raw_data/2016/Divvy_Trips_2016_Q1Q2'][1]\n",
    "path_test_file"
   ]
  },
  {
   "cell_type": "code",
   "execution_count": 13,
   "id": "e04673a9",
   "metadata": {},
   "outputs": [],
   "source": [
    "path_test_file_conc_2 = path_test_root+\"/\"+path_test_file+\".csv\"\n"
   ]
  },
  {
   "cell_type": "code",
   "execution_count": 14,
   "id": "f7472642",
   "metadata": {},
   "outputs": [
    {
     "data": {
      "text/html": [
       "<div>\n",
       "<style scoped>\n",
       "    .dataframe tbody tr th:only-of-type {\n",
       "        vertical-align: middle;\n",
       "    }\n",
       "\n",
       "    .dataframe tbody tr th {\n",
       "        vertical-align: top;\n",
       "    }\n",
       "\n",
       "    .dataframe thead th {\n",
       "        text-align: right;\n",
       "    }\n",
       "</style>\n",
       "<table border=\"1\" class=\"dataframe\">\n",
       "  <thead>\n",
       "    <tr style=\"text-align: right;\">\n",
       "      <th></th>\n",
       "      <th>trip_id</th>\n",
       "      <th>starttime</th>\n",
       "      <th>stoptime</th>\n",
       "      <th>bikeid</th>\n",
       "      <th>tripduration</th>\n",
       "      <th>from_station_id</th>\n",
       "      <th>from_station_name</th>\n",
       "      <th>to_station_id</th>\n",
       "      <th>to_station_name</th>\n",
       "      <th>usertype</th>\n",
       "      <th>gender</th>\n",
       "      <th>birthyear</th>\n",
       "    </tr>\n",
       "  </thead>\n",
       "  <tbody>\n",
       "    <tr>\n",
       "      <th>0</th>\n",
       "      <td>10426657</td>\n",
       "      <td>6/30/2016 23:59</td>\n",
       "      <td>7/1/2016 0:02</td>\n",
       "      <td>1508</td>\n",
       "      <td>190</td>\n",
       "      <td>93</td>\n",
       "      <td>Sheffield Ave &amp; Willow St</td>\n",
       "      <td>113</td>\n",
       "      <td>Bissell St &amp; Armitage Ave</td>\n",
       "      <td>Subscriber</td>\n",
       "      <td>Male</td>\n",
       "      <td>1993.0</td>\n",
       "    </tr>\n",
       "    <tr>\n",
       "      <th>1</th>\n",
       "      <td>10426656</td>\n",
       "      <td>6/30/2016 23:58</td>\n",
       "      <td>7/1/2016 0:14</td>\n",
       "      <td>1858</td>\n",
       "      <td>967</td>\n",
       "      <td>90</td>\n",
       "      <td>Millennium Park</td>\n",
       "      <td>90</td>\n",
       "      <td>Millennium Park</td>\n",
       "      <td>Customer</td>\n",
       "      <td>NaN</td>\n",
       "      <td>NaN</td>\n",
       "    </tr>\n",
       "    <tr>\n",
       "      <th>2</th>\n",
       "      <td>10426655</td>\n",
       "      <td>6/30/2016 23:58</td>\n",
       "      <td>7/1/2016 0:16</td>\n",
       "      <td>3076</td>\n",
       "      <td>1082</td>\n",
       "      <td>36</td>\n",
       "      <td>Franklin St &amp; Jackson Blvd</td>\n",
       "      <td>69</td>\n",
       "      <td>Damen Ave &amp; Pierce Ave</td>\n",
       "      <td>Subscriber</td>\n",
       "      <td>Male</td>\n",
       "      <td>1992.0</td>\n",
       "    </tr>\n",
       "    <tr>\n",
       "      <th>3</th>\n",
       "      <td>10426654</td>\n",
       "      <td>6/30/2016 23:58</td>\n",
       "      <td>7/1/2016 0:22</td>\n",
       "      <td>4031</td>\n",
       "      <td>1445</td>\n",
       "      <td>258</td>\n",
       "      <td>Logan Blvd &amp; Elston Ave</td>\n",
       "      <td>251</td>\n",
       "      <td>Clarendon Ave &amp; Leland Ave</td>\n",
       "      <td>Customer</td>\n",
       "      <td>NaN</td>\n",
       "      <td>NaN</td>\n",
       "    </tr>\n",
       "    <tr>\n",
       "      <th>4</th>\n",
       "      <td>10426653</td>\n",
       "      <td>6/30/2016 23:58</td>\n",
       "      <td>7/1/2016 0:14</td>\n",
       "      <td>4199</td>\n",
       "      <td>974</td>\n",
       "      <td>90</td>\n",
       "      <td>Millennium Park</td>\n",
       "      <td>90</td>\n",
       "      <td>Millennium Park</td>\n",
       "      <td>Customer</td>\n",
       "      <td>NaN</td>\n",
       "      <td>NaN</td>\n",
       "    </tr>\n",
       "  </tbody>\n",
       "</table>\n",
       "</div>"
      ],
      "text/plain": [
       "    trip_id        starttime       stoptime  bikeid  tripduration  \\\n",
       "0  10426657  6/30/2016 23:59  7/1/2016 0:02    1508           190   \n",
       "1  10426656  6/30/2016 23:58  7/1/2016 0:14    1858           967   \n",
       "2  10426655  6/30/2016 23:58  7/1/2016 0:16    3076          1082   \n",
       "3  10426654  6/30/2016 23:58  7/1/2016 0:22    4031          1445   \n",
       "4  10426653  6/30/2016 23:58  7/1/2016 0:14    4199           974   \n",
       "\n",
       "   from_station_id           from_station_name  to_station_id  \\\n",
       "0               93   Sheffield Ave & Willow St            113   \n",
       "1               90             Millennium Park             90   \n",
       "2               36  Franklin St & Jackson Blvd             69   \n",
       "3              258     Logan Blvd & Elston Ave            251   \n",
       "4               90             Millennium Park             90   \n",
       "\n",
       "              to_station_name    usertype gender  birthyear  \n",
       "0   Bissell St & Armitage Ave  Subscriber   Male     1993.0  \n",
       "1             Millennium Park    Customer    NaN        NaN  \n",
       "2      Damen Ave & Pierce Ave  Subscriber   Male     1992.0  \n",
       "3  Clarendon Ave & Leland Ave    Customer    NaN        NaN  \n",
       "4             Millennium Park    Customer    NaN        NaN  "
      ]
     },
     "execution_count": 14,
     "metadata": {},
     "output_type": "execute_result"
    }
   ],
   "source": [
    "df_06_2016 = pd.read_csv(path_test_file_conc_2)\n",
    "df_06_2016.head(5)"
   ]
  },
  {
   "cell_type": "code",
   "execution_count": 15,
   "id": "ac165260",
   "metadata": {},
   "outputs": [
    {
     "data": {
      "text/plain": [
       "'Divvy_Trips_2016_04'"
      ]
     },
     "execution_count": 15,
     "metadata": {},
     "output_type": "execute_result"
    }
   ],
   "source": [
    "path_test_file = map_of_files['raw_data/2016/Divvy_Trips_2016_Q1Q2'][3]\n",
    "path_test_file"
   ]
  },
  {
   "cell_type": "code",
   "execution_count": 16,
   "id": "ab2352d2",
   "metadata": {},
   "outputs": [
    {
     "data": {
      "text/plain": [
       "'raw_data/2016/Divvy_Trips_2016_Q1Q2/Divvy_Trips_2016_04.csv'"
      ]
     },
     "execution_count": 16,
     "metadata": {},
     "output_type": "execute_result"
    }
   ],
   "source": [
    "path_test_file_conc_3 = path_test_root+\"/\"+path_test_file+\".csv\"\n",
    "path_test_file_conc_3"
   ]
  },
  {
   "cell_type": "code",
   "execution_count": 17,
   "id": "28c05658",
   "metadata": {},
   "outputs": [
    {
     "data": {
      "text/html": [
       "<div>\n",
       "<style scoped>\n",
       "    .dataframe tbody tr th:only-of-type {\n",
       "        vertical-align: middle;\n",
       "    }\n",
       "\n",
       "    .dataframe tbody tr th {\n",
       "        vertical-align: top;\n",
       "    }\n",
       "\n",
       "    .dataframe thead th {\n",
       "        text-align: right;\n",
       "    }\n",
       "</style>\n",
       "<table border=\"1\" class=\"dataframe\">\n",
       "  <thead>\n",
       "    <tr style=\"text-align: right;\">\n",
       "      <th></th>\n",
       "      <th>trip_id</th>\n",
       "      <th>starttime</th>\n",
       "      <th>stoptime</th>\n",
       "      <th>bikeid</th>\n",
       "      <th>tripduration</th>\n",
       "      <th>from_station_id</th>\n",
       "      <th>from_station_name</th>\n",
       "      <th>to_station_id</th>\n",
       "      <th>to_station_name</th>\n",
       "      <th>usertype</th>\n",
       "      <th>gender</th>\n",
       "      <th>birthyear</th>\n",
       "    </tr>\n",
       "  </thead>\n",
       "  <tbody>\n",
       "    <tr>\n",
       "      <th>0</th>\n",
       "      <td>9379901</td>\n",
       "      <td>4/30/2016 23:59</td>\n",
       "      <td>5/1/2016 0:11</td>\n",
       "      <td>21</td>\n",
       "      <td>733</td>\n",
       "      <td>123</td>\n",
       "      <td>California Ave &amp; Milwaukee Ave</td>\n",
       "      <td>374</td>\n",
       "      <td>Western Ave &amp; Walton St</td>\n",
       "      <td>Subscriber</td>\n",
       "      <td>Male</td>\n",
       "      <td>1982.0</td>\n",
       "    </tr>\n",
       "    <tr>\n",
       "      <th>1</th>\n",
       "      <td>9379900</td>\n",
       "      <td>4/30/2016 23:58</td>\n",
       "      <td>5/1/2016 0:07</td>\n",
       "      <td>3583</td>\n",
       "      <td>556</td>\n",
       "      <td>349</td>\n",
       "      <td>Halsted St &amp; Wrightwood Ave</td>\n",
       "      <td>165</td>\n",
       "      <td>Clark St &amp; Grace St</td>\n",
       "      <td>Subscriber</td>\n",
       "      <td>Male</td>\n",
       "      <td>1991.0</td>\n",
       "    </tr>\n",
       "    <tr>\n",
       "      <th>2</th>\n",
       "      <td>9379899</td>\n",
       "      <td>4/30/2016 23:58</td>\n",
       "      <td>5/1/2016 0:02</td>\n",
       "      <td>4557</td>\n",
       "      <td>253</td>\n",
       "      <td>59</td>\n",
       "      <td>Wabash Ave &amp; Roosevelt Rd</td>\n",
       "      <td>273</td>\n",
       "      <td>Michigan Ave &amp; 18th St</td>\n",
       "      <td>Subscriber</td>\n",
       "      <td>Male</td>\n",
       "      <td>1984.0</td>\n",
       "    </tr>\n",
       "    <tr>\n",
       "      <th>3</th>\n",
       "      <td>9379898</td>\n",
       "      <td>4/30/2016 23:54</td>\n",
       "      <td>5/1/2016 0:08</td>\n",
       "      <td>2443</td>\n",
       "      <td>802</td>\n",
       "      <td>289</td>\n",
       "      <td>Wells St &amp; Concord Ln</td>\n",
       "      <td>199</td>\n",
       "      <td>Wabash Ave &amp; Grand Ave</td>\n",
       "      <td>Subscriber</td>\n",
       "      <td>Male</td>\n",
       "      <td>1978.0</td>\n",
       "    </tr>\n",
       "    <tr>\n",
       "      <th>4</th>\n",
       "      <td>9379897</td>\n",
       "      <td>4/30/2016 23:52</td>\n",
       "      <td>5/1/2016 0:11</td>\n",
       "      <td>50</td>\n",
       "      <td>1146</td>\n",
       "      <td>239</td>\n",
       "      <td>Western Ave &amp; Leland Ave</td>\n",
       "      <td>227</td>\n",
       "      <td>Southport Ave &amp; Waveland Ave</td>\n",
       "      <td>Customer</td>\n",
       "      <td>NaN</td>\n",
       "      <td>NaN</td>\n",
       "    </tr>\n",
       "  </tbody>\n",
       "</table>\n",
       "</div>"
      ],
      "text/plain": [
       "   trip_id        starttime       stoptime  bikeid  tripduration  \\\n",
       "0  9379901  4/30/2016 23:59  5/1/2016 0:11      21           733   \n",
       "1  9379900  4/30/2016 23:58  5/1/2016 0:07    3583           556   \n",
       "2  9379899  4/30/2016 23:58  5/1/2016 0:02    4557           253   \n",
       "3  9379898  4/30/2016 23:54  5/1/2016 0:08    2443           802   \n",
       "4  9379897  4/30/2016 23:52  5/1/2016 0:11      50          1146   \n",
       "\n",
       "   from_station_id               from_station_name  to_station_id  \\\n",
       "0              123  California Ave & Milwaukee Ave            374   \n",
       "1              349     Halsted St & Wrightwood Ave            165   \n",
       "2               59       Wabash Ave & Roosevelt Rd            273   \n",
       "3              289           Wells St & Concord Ln            199   \n",
       "4              239        Western Ave & Leland Ave            227   \n",
       "\n",
       "                to_station_name    usertype gender  birthyear  \n",
       "0       Western Ave & Walton St  Subscriber   Male     1982.0  \n",
       "1           Clark St & Grace St  Subscriber   Male     1991.0  \n",
       "2        Michigan Ave & 18th St  Subscriber   Male     1984.0  \n",
       "3        Wabash Ave & Grand Ave  Subscriber   Male     1978.0  \n",
       "4  Southport Ave & Waveland Ave    Customer    NaN        NaN  "
      ]
     },
     "execution_count": 17,
     "metadata": {},
     "output_type": "execute_result"
    }
   ],
   "source": [
    "df_04_2016 = pd.read_csv(path_test_file_conc_3)\n",
    "df_04_2016.head(5)"
   ]
  },
  {
   "cell_type": "code",
   "execution_count": 18,
   "id": "e046257f",
   "metadata": {},
   "outputs": [],
   "source": [
    "Q2_df = pd.concat([df_04_2016,df_05_2016, df_06_2016], ignore_index=True)"
   ]
  },
  {
   "cell_type": "code",
   "execution_count": 19,
   "id": "074c9360",
   "metadata": {},
   "outputs": [],
   "source": [
    "filepath = \"raw_data/2016/Divvy_Trips_2016_Q1Q2/Divvy_Trips_2016_Q2.csv\""
   ]
  },
  {
   "cell_type": "code",
   "execution_count": 20,
   "id": "a491b04b",
   "metadata": {},
   "outputs": [],
   "source": [
    "Q2_df.to_csv(filepath, index=False)"
   ]
  },
  {
   "cell_type": "code",
   "execution_count": 21,
   "id": "454daa99",
   "metadata": {},
   "outputs": [],
   "source": [
    "dico_df = {}\n",
    "\n",
    "for i in range(2016,2018):\n",
    "    \n",
    "    file_path_1 = f\"raw_data/{i}/Divvy_Trips_{i}_Q1Q2\"\n",
    "    file_path_2 = f\"raw_data/{i}/Divvy_Trips_{i}_Q3Q4\"\n",
    "    \n",
    "    filename_A = file_path_1 + \"/\" + f\"Divvy_Trips_{i}_Q1\" + \".csv\"\n",
    "    filename_B = file_path_1 + \"/\" + f\"Divvy_Trips_{i}_Q2\" + \".csv\"\n",
    "\n",
    "    A =  pd.read_csv(filename_A)\n",
    "    B =  pd.read_csv(filename_B)\n",
    "    \n",
    "    filename_C = file_path_2 + \"/\" + f\"Divvy_Trips_{i}_Q3\" + \".csv\"\n",
    "    filename_D = file_path_2 + \"/\" + f\"Divvy_Trips_{i}_Q4\" + \".csv\"\n",
    "    \n",
    "    C = pd.read_csv(filename_C)\n",
    "    D = pd.read_csv(filename_D)\n",
    "    \n",
    "    E = pd.concat([A, B, C, D], ignore_index=True)\n",
    "    \n",
    "    dico_df[i] = E \n",
    "    \n",
    "    "
   ]
  },
  {
   "cell_type": "code",
   "execution_count": 22,
   "id": "4585d815",
   "metadata": {},
   "outputs": [],
   "source": [
    "file_A  = f\"raw_data/2018/Divvy_Trips_2018_Q1/Divvy_Trips_2018_Q1.csv\"\n",
    "file_B  = f\"raw_data/2018/Divvy_Trips_2018_Q2/Divvy_Trips_2018_Q2.csv\"\n",
    "file_C  = f\"raw_data/2018/Divvy_Trips_2018_Q3/Divvy_Trips_2018_Q3.csv\"\n",
    "file_D  = f\"raw_data/2018/Divvy_Trips_2018_Q4/Divvy_Trips_2018_Q4.csv\"\n",
    "\n",
    "\n",
    "df_A = pd.read_csv(file_A)\n",
    "df_B = pd.read_csv(file_B)\n",
    "df_C = pd.read_csv(file_C)\n",
    "df_D = pd.read_csv(file_D)\n",
    "\n",
    "df_E = pd.concat([df_A, df_B, df_C, df_D], ignore_index=True)\n",
    "dico_df[2018] = df_E"
   ]
  },
  {
   "cell_type": "code",
   "execution_count": 37,
   "id": "0a65c242",
   "metadata": {},
   "outputs": [
    {
     "data": {
      "text/plain": [
       "Member Gender                                       22493\n",
       "05 - Member Details Member Birthday Year            22322\n",
       "01 - Rental Details Rental ID                           0\n",
       "01 - Rental Details Local Start Time                    0\n",
       "01 - Rental Details Local End Time                      0\n",
       "01 - Rental Details Bike ID                             0\n",
       "01 - Rental Details Duration In Seconds Uncapped        0\n",
       "03 - Rental Start Station ID                            0\n",
       "03 - Rental Start Station Name                          0\n",
       "02 - Rental End Station ID                              0\n",
       "02 - Rental End Station Name                            0\n",
       "User Type                                               0\n",
       "dtype: int64"
      ]
     },
     "execution_count": 37,
     "metadata": {},
     "output_type": "execute_result"
    }
   ],
   "source": [
    "df_A.isnull().sum().sort_values(ascending=False)"
   ]
  },
  {
   "cell_type": "code",
   "execution_count": 38,
   "id": "7851db11",
   "metadata": {},
   "outputs": [
    {
     "data": {
      "text/plain": [
       "gender               196634\n",
       "birthyear            195141\n",
       "trip_id                   0\n",
       "start_time                0\n",
       "end_time                  0\n",
       "bikeid                    0\n",
       "tripduration              0\n",
       "from_station_id           0\n",
       "from_station_name         0\n",
       "to_station_id             0\n",
       "to_station_name           0\n",
       "usertype                  0\n",
       "dtype: int64"
      ]
     },
     "execution_count": 38,
     "metadata": {},
     "output_type": "execute_result"
    }
   ],
   "source": [
    "df_B.isnull().sum().sort_values(ascending=False)"
   ]
  },
  {
   "cell_type": "code",
   "execution_count": 39,
   "id": "7a1118b2",
   "metadata": {},
   "outputs": [
    {
     "data": {
      "text/plain": [
       "gender               294996\n",
       "birthyear            291580\n",
       "trip_id                   0\n",
       "start_time                0\n",
       "end_time                  0\n",
       "bikeid                    0\n",
       "tripduration              0\n",
       "from_station_id           0\n",
       "from_station_name         0\n",
       "to_station_id             0\n",
       "to_station_name           0\n",
       "usertype                  0\n",
       "dtype: int64"
      ]
     },
     "execution_count": 39,
     "metadata": {},
     "output_type": "execute_result"
    }
   ],
   "source": [
    "df_C.isnull().sum().sort_values(ascending=False)"
   ]
  },
  {
   "cell_type": "code",
   "execution_count": 23,
   "id": "766a8d28",
   "metadata": {},
   "outputs": [],
   "source": [
    "full_2016_df = dico_df[2016]\n",
    "full_2017_df = dico_df[2017]\n",
    "full_2018_df = dico_df[2018]"
   ]
  },
  {
   "cell_type": "code",
   "execution_count": 24,
   "id": "89df4725",
   "metadata": {},
   "outputs": [],
   "source": [
    "A=list(full_2016_df.columns)\n",
    "B=list(full_2016_df.dtypes)\n",
    "vardf_sum_2016 = pd.DataFrame(list(zip(A, B)), columns=[\"2016_name\",\"2016_type\"])"
   ]
  },
  {
   "cell_type": "code",
   "execution_count": 25,
   "id": "7234f0ba",
   "metadata": {},
   "outputs": [],
   "source": [
    "A=list(full_2017_df.columns)\n",
    "B=list(full_2017_df.dtypes)\n",
    "vardf_sum_2017 = pd.DataFrame(list(zip(A, B)), columns=[\"2017_name\",\"2017_type\"])"
   ]
  },
  {
   "cell_type": "code",
   "execution_count": 26,
   "id": "17ae152d",
   "metadata": {},
   "outputs": [],
   "source": [
    "A=list(full_2018_df.columns)\n",
    "B=list(full_2018_df.dtypes)\n",
    "vardf_sum_2018 = pd.DataFrame(list(zip(A, B)), columns=[\"2018_name\",\"2018_type\"])"
   ]
  },
  {
   "cell_type": "code",
   "execution_count": 29,
   "id": "969a70b4",
   "metadata": {},
   "outputs": [],
   "source": [
    "df_test = vardf_sum_2016.merge(vardf_sum_2017, how=\"outer\", left_on=\"2016_name\", right_on=\"2017_name\")"
   ]
  },
  {
   "cell_type": "code",
   "execution_count": 30,
   "id": "16ed2cfd",
   "metadata": {},
   "outputs": [],
   "source": [
    "df_test = df_test.merge(vardf_sum_2018, how=\"outer\", left_on=\"2017_name\", right_on=\"2018_name\")"
   ]
  },
  {
   "cell_type": "code",
   "execution_count": 31,
   "id": "aa826390",
   "metadata": {},
   "outputs": [
    {
     "data": {
      "text/html": [
       "<div>\n",
       "<style scoped>\n",
       "    .dataframe tbody tr th:only-of-type {\n",
       "        vertical-align: middle;\n",
       "    }\n",
       "\n",
       "    .dataframe tbody tr th {\n",
       "        vertical-align: top;\n",
       "    }\n",
       "\n",
       "    .dataframe thead th {\n",
       "        text-align: right;\n",
       "    }\n",
       "</style>\n",
       "<table border=\"1\" class=\"dataframe\">\n",
       "  <thead>\n",
       "    <tr style=\"text-align: right;\">\n",
       "      <th></th>\n",
       "      <th>2016_name</th>\n",
       "      <th>2016_type</th>\n",
       "      <th>2017_name</th>\n",
       "      <th>2017_type</th>\n",
       "      <th>2018_name</th>\n",
       "      <th>2018_type</th>\n",
       "    </tr>\n",
       "  </thead>\n",
       "  <tbody>\n",
       "    <tr>\n",
       "      <th>0</th>\n",
       "      <td>trip_id</td>\n",
       "      <td>int64</td>\n",
       "      <td>trip_id</td>\n",
       "      <td>int64</td>\n",
       "      <td>trip_id</td>\n",
       "      <td>float64</td>\n",
       "    </tr>\n",
       "    <tr>\n",
       "      <th>1</th>\n",
       "      <td>starttime</td>\n",
       "      <td>object</td>\n",
       "      <td>NaN</td>\n",
       "      <td>NaN</td>\n",
       "      <td>NaN</td>\n",
       "      <td>NaN</td>\n",
       "    </tr>\n",
       "    <tr>\n",
       "      <th>2</th>\n",
       "      <td>stoptime</td>\n",
       "      <td>object</td>\n",
       "      <td>NaN</td>\n",
       "      <td>NaN</td>\n",
       "      <td>NaN</td>\n",
       "      <td>NaN</td>\n",
       "    </tr>\n",
       "    <tr>\n",
       "      <th>3</th>\n",
       "      <td>bikeid</td>\n",
       "      <td>int64</td>\n",
       "      <td>bikeid</td>\n",
       "      <td>int64</td>\n",
       "      <td>bikeid</td>\n",
       "      <td>float64</td>\n",
       "    </tr>\n",
       "    <tr>\n",
       "      <th>4</th>\n",
       "      <td>tripduration</td>\n",
       "      <td>int64</td>\n",
       "      <td>tripduration</td>\n",
       "      <td>int64</td>\n",
       "      <td>tripduration</td>\n",
       "      <td>object</td>\n",
       "    </tr>\n",
       "    <tr>\n",
       "      <th>5</th>\n",
       "      <td>from_station_id</td>\n",
       "      <td>int64</td>\n",
       "      <td>from_station_id</td>\n",
       "      <td>int64</td>\n",
       "      <td>from_station_id</td>\n",
       "      <td>float64</td>\n",
       "    </tr>\n",
       "    <tr>\n",
       "      <th>6</th>\n",
       "      <td>from_station_name</td>\n",
       "      <td>object</td>\n",
       "      <td>from_station_name</td>\n",
       "      <td>object</td>\n",
       "      <td>from_station_name</td>\n",
       "      <td>object</td>\n",
       "    </tr>\n",
       "    <tr>\n",
       "      <th>7</th>\n",
       "      <td>to_station_id</td>\n",
       "      <td>int64</td>\n",
       "      <td>to_station_id</td>\n",
       "      <td>int64</td>\n",
       "      <td>to_station_id</td>\n",
       "      <td>float64</td>\n",
       "    </tr>\n",
       "    <tr>\n",
       "      <th>8</th>\n",
       "      <td>to_station_name</td>\n",
       "      <td>object</td>\n",
       "      <td>to_station_name</td>\n",
       "      <td>object</td>\n",
       "      <td>to_station_name</td>\n",
       "      <td>object</td>\n",
       "    </tr>\n",
       "    <tr>\n",
       "      <th>9</th>\n",
       "      <td>usertype</td>\n",
       "      <td>object</td>\n",
       "      <td>usertype</td>\n",
       "      <td>object</td>\n",
       "      <td>usertype</td>\n",
       "      <td>object</td>\n",
       "    </tr>\n",
       "    <tr>\n",
       "      <th>10</th>\n",
       "      <td>gender</td>\n",
       "      <td>object</td>\n",
       "      <td>gender</td>\n",
       "      <td>object</td>\n",
       "      <td>gender</td>\n",
       "      <td>object</td>\n",
       "    </tr>\n",
       "    <tr>\n",
       "      <th>11</th>\n",
       "      <td>birthyear</td>\n",
       "      <td>float64</td>\n",
       "      <td>birthyear</td>\n",
       "      <td>float64</td>\n",
       "      <td>birthyear</td>\n",
       "      <td>float64</td>\n",
       "    </tr>\n",
       "    <tr>\n",
       "      <th>12</th>\n",
       "      <td>NaN</td>\n",
       "      <td>NaN</td>\n",
       "      <td>start_time</td>\n",
       "      <td>object</td>\n",
       "      <td>start_time</td>\n",
       "      <td>object</td>\n",
       "    </tr>\n",
       "    <tr>\n",
       "      <th>13</th>\n",
       "      <td>NaN</td>\n",
       "      <td>NaN</td>\n",
       "      <td>end_time</td>\n",
       "      <td>object</td>\n",
       "      <td>end_time</td>\n",
       "      <td>object</td>\n",
       "    </tr>\n",
       "    <tr>\n",
       "      <th>14</th>\n",
       "      <td>NaN</td>\n",
       "      <td>NaN</td>\n",
       "      <td>NaN</td>\n",
       "      <td>NaN</td>\n",
       "      <td>01 - Rental Details Rental ID</td>\n",
       "      <td>float64</td>\n",
       "    </tr>\n",
       "    <tr>\n",
       "      <th>15</th>\n",
       "      <td>NaN</td>\n",
       "      <td>NaN</td>\n",
       "      <td>NaN</td>\n",
       "      <td>NaN</td>\n",
       "      <td>01 - Rental Details Local Start Time</td>\n",
       "      <td>object</td>\n",
       "    </tr>\n",
       "    <tr>\n",
       "      <th>16</th>\n",
       "      <td>NaN</td>\n",
       "      <td>NaN</td>\n",
       "      <td>NaN</td>\n",
       "      <td>NaN</td>\n",
       "      <td>01 - Rental Details Local End Time</td>\n",
       "      <td>object</td>\n",
       "    </tr>\n",
       "    <tr>\n",
       "      <th>17</th>\n",
       "      <td>NaN</td>\n",
       "      <td>NaN</td>\n",
       "      <td>NaN</td>\n",
       "      <td>NaN</td>\n",
       "      <td>01 - Rental Details Bike ID</td>\n",
       "      <td>float64</td>\n",
       "    </tr>\n",
       "    <tr>\n",
       "      <th>18</th>\n",
       "      <td>NaN</td>\n",
       "      <td>NaN</td>\n",
       "      <td>NaN</td>\n",
       "      <td>NaN</td>\n",
       "      <td>01 - Rental Details Duration In Seconds Uncapped</td>\n",
       "      <td>object</td>\n",
       "    </tr>\n",
       "    <tr>\n",
       "      <th>19</th>\n",
       "      <td>NaN</td>\n",
       "      <td>NaN</td>\n",
       "      <td>NaN</td>\n",
       "      <td>NaN</td>\n",
       "      <td>03 - Rental Start Station ID</td>\n",
       "      <td>float64</td>\n",
       "    </tr>\n",
       "    <tr>\n",
       "      <th>20</th>\n",
       "      <td>NaN</td>\n",
       "      <td>NaN</td>\n",
       "      <td>NaN</td>\n",
       "      <td>NaN</td>\n",
       "      <td>03 - Rental Start Station Name</td>\n",
       "      <td>object</td>\n",
       "    </tr>\n",
       "    <tr>\n",
       "      <th>21</th>\n",
       "      <td>NaN</td>\n",
       "      <td>NaN</td>\n",
       "      <td>NaN</td>\n",
       "      <td>NaN</td>\n",
       "      <td>02 - Rental End Station ID</td>\n",
       "      <td>float64</td>\n",
       "    </tr>\n",
       "    <tr>\n",
       "      <th>22</th>\n",
       "      <td>NaN</td>\n",
       "      <td>NaN</td>\n",
       "      <td>NaN</td>\n",
       "      <td>NaN</td>\n",
       "      <td>02 - Rental End Station Name</td>\n",
       "      <td>object</td>\n",
       "    </tr>\n",
       "    <tr>\n",
       "      <th>23</th>\n",
       "      <td>NaN</td>\n",
       "      <td>NaN</td>\n",
       "      <td>NaN</td>\n",
       "      <td>NaN</td>\n",
       "      <td>User Type</td>\n",
       "      <td>object</td>\n",
       "    </tr>\n",
       "    <tr>\n",
       "      <th>24</th>\n",
       "      <td>NaN</td>\n",
       "      <td>NaN</td>\n",
       "      <td>NaN</td>\n",
       "      <td>NaN</td>\n",
       "      <td>Member Gender</td>\n",
       "      <td>object</td>\n",
       "    </tr>\n",
       "    <tr>\n",
       "      <th>25</th>\n",
       "      <td>NaN</td>\n",
       "      <td>NaN</td>\n",
       "      <td>NaN</td>\n",
       "      <td>NaN</td>\n",
       "      <td>05 - Member Details Member Birthday Year</td>\n",
       "      <td>float64</td>\n",
       "    </tr>\n",
       "  </tbody>\n",
       "</table>\n",
       "</div>"
      ],
      "text/plain": [
       "            2016_name 2016_type          2017_name 2017_type  \\\n",
       "0             trip_id     int64            trip_id     int64   \n",
       "1           starttime    object                NaN       NaN   \n",
       "2            stoptime    object                NaN       NaN   \n",
       "3              bikeid     int64             bikeid     int64   \n",
       "4        tripduration     int64       tripduration     int64   \n",
       "5     from_station_id     int64    from_station_id     int64   \n",
       "6   from_station_name    object  from_station_name    object   \n",
       "7       to_station_id     int64      to_station_id     int64   \n",
       "8     to_station_name    object    to_station_name    object   \n",
       "9            usertype    object           usertype    object   \n",
       "10             gender    object             gender    object   \n",
       "11          birthyear   float64          birthyear   float64   \n",
       "12                NaN       NaN         start_time    object   \n",
       "13                NaN       NaN           end_time    object   \n",
       "14                NaN       NaN                NaN       NaN   \n",
       "15                NaN       NaN                NaN       NaN   \n",
       "16                NaN       NaN                NaN       NaN   \n",
       "17                NaN       NaN                NaN       NaN   \n",
       "18                NaN       NaN                NaN       NaN   \n",
       "19                NaN       NaN                NaN       NaN   \n",
       "20                NaN       NaN                NaN       NaN   \n",
       "21                NaN       NaN                NaN       NaN   \n",
       "22                NaN       NaN                NaN       NaN   \n",
       "23                NaN       NaN                NaN       NaN   \n",
       "24                NaN       NaN                NaN       NaN   \n",
       "25                NaN       NaN                NaN       NaN   \n",
       "\n",
       "                                           2018_name 2018_type  \n",
       "0                                            trip_id   float64  \n",
       "1                                                NaN       NaN  \n",
       "2                                                NaN       NaN  \n",
       "3                                             bikeid   float64  \n",
       "4                                       tripduration    object  \n",
       "5                                    from_station_id   float64  \n",
       "6                                  from_station_name    object  \n",
       "7                                      to_station_id   float64  \n",
       "8                                    to_station_name    object  \n",
       "9                                           usertype    object  \n",
       "10                                            gender    object  \n",
       "11                                         birthyear   float64  \n",
       "12                                        start_time    object  \n",
       "13                                          end_time    object  \n",
       "14                     01 - Rental Details Rental ID   float64  \n",
       "15              01 - Rental Details Local Start Time    object  \n",
       "16                01 - Rental Details Local End Time    object  \n",
       "17                       01 - Rental Details Bike ID   float64  \n",
       "18  01 - Rental Details Duration In Seconds Uncapped    object  \n",
       "19                      03 - Rental Start Station ID   float64  \n",
       "20                    03 - Rental Start Station Name    object  \n",
       "21                        02 - Rental End Station ID   float64  \n",
       "22                      02 - Rental End Station Name    object  \n",
       "23                                         User Type    object  \n",
       "24                                     Member Gender    object  \n",
       "25          05 - Member Details Member Birthday Year   float64  "
      ]
     },
     "execution_count": 31,
     "metadata": {},
     "output_type": "execute_result"
    }
   ],
   "source": [
    "df_test"
   ]
  },
  {
   "cell_type": "code",
   "execution_count": 44,
   "id": "5f1745fc",
   "metadata": {},
   "outputs": [
    {
     "name": "stdout",
     "output_type": "stream",
     "text": [
      "Collecting openpyxl\n",
      "  Downloading openpyxl-3.0.10-py2.py3-none-any.whl (242 kB)\n",
      "\u001b[2K     \u001b[90m━━━━━━━━━━━━━━━━━━━━━━━━━━━━━━━━━━━━━━━\u001b[0m \u001b[32m242.1/242.1 kB\u001b[0m \u001b[31m6.0 MB/s\u001b[0m eta \u001b[36m0:00:00\u001b[0ma \u001b[36m0:00:01\u001b[0m\n",
      "\u001b[?25hCollecting et-xmlfile\n",
      "  Downloading et_xmlfile-1.1.0-py3-none-any.whl (4.7 kB)\n",
      "Installing collected packages: et-xmlfile, openpyxl\n",
      "Successfully installed et-xmlfile-1.1.0 openpyxl-3.0.10\n",
      "Note: you may need to restart the kernel to use updated packages.\n"
     ]
    }
   ],
   "source": [
    "pip install openpyxl"
   ]
  },
  {
   "cell_type": "code",
   "execution_count": 45,
   "id": "5b289d6f",
   "metadata": {},
   "outputs": [],
   "source": [
    "df_test.to_excel(\"raw_data/Map-of-variables.xlsx\", index=False)"
   ]
  },
  {
   "cell_type": "code",
   "execution_count": 32,
   "id": "6141c19b",
   "metadata": {},
   "outputs": [
    {
     "data": {
      "text/html": [
       "<div>\n",
       "<style scoped>\n",
       "    .dataframe tbody tr th:only-of-type {\n",
       "        vertical-align: middle;\n",
       "    }\n",
       "\n",
       "    .dataframe tbody tr th {\n",
       "        vertical-align: top;\n",
       "    }\n",
       "\n",
       "    .dataframe thead th {\n",
       "        text-align: right;\n",
       "    }\n",
       "</style>\n",
       "<table border=\"1\" class=\"dataframe\">\n",
       "  <thead>\n",
       "    <tr style=\"text-align: right;\">\n",
       "      <th></th>\n",
       "      <th>01 - Rental Details Rental ID</th>\n",
       "      <th>01 - Rental Details Local Start Time</th>\n",
       "      <th>01 - Rental Details Local End Time</th>\n",
       "      <th>01 - Rental Details Bike ID</th>\n",
       "      <th>01 - Rental Details Duration In Seconds Uncapped</th>\n",
       "      <th>03 - Rental Start Station ID</th>\n",
       "      <th>03 - Rental Start Station Name</th>\n",
       "      <th>02 - Rental End Station ID</th>\n",
       "      <th>02 - Rental End Station Name</th>\n",
       "      <th>User Type</th>\n",
       "      <th>...</th>\n",
       "      <th>end_time</th>\n",
       "      <th>bikeid</th>\n",
       "      <th>tripduration</th>\n",
       "      <th>from_station_id</th>\n",
       "      <th>from_station_name</th>\n",
       "      <th>to_station_id</th>\n",
       "      <th>to_station_name</th>\n",
       "      <th>usertype</th>\n",
       "      <th>gender</th>\n",
       "      <th>birthyear</th>\n",
       "    </tr>\n",
       "  </thead>\n",
       "  <tbody>\n",
       "    <tr>\n",
       "      <th>0</th>\n",
       "      <td>17536702.0</td>\n",
       "      <td>2018-01-01 00:12:00</td>\n",
       "      <td>2018-01-01 00:17:23</td>\n",
       "      <td>3304.0</td>\n",
       "      <td>323.0</td>\n",
       "      <td>69.0</td>\n",
       "      <td>Damen Ave &amp; Pierce Ave</td>\n",
       "      <td>159.0</td>\n",
       "      <td>Claremont Ave &amp; Hirsch St</td>\n",
       "      <td>Subscriber</td>\n",
       "      <td>...</td>\n",
       "      <td>NaN</td>\n",
       "      <td>NaN</td>\n",
       "      <td>NaN</td>\n",
       "      <td>NaN</td>\n",
       "      <td>NaN</td>\n",
       "      <td>NaN</td>\n",
       "      <td>NaN</td>\n",
       "      <td>NaN</td>\n",
       "      <td>NaN</td>\n",
       "      <td>NaN</td>\n",
       "    </tr>\n",
       "    <tr>\n",
       "      <th>1</th>\n",
       "      <td>17536703.0</td>\n",
       "      <td>2018-01-01 00:41:35</td>\n",
       "      <td>2018-01-01 00:47:52</td>\n",
       "      <td>5367.0</td>\n",
       "      <td>377.0</td>\n",
       "      <td>253.0</td>\n",
       "      <td>Winthrop Ave &amp; Lawrence Ave</td>\n",
       "      <td>325.0</td>\n",
       "      <td>Clark St &amp; Winnemac Ave (Temp)</td>\n",
       "      <td>Subscriber</td>\n",
       "      <td>...</td>\n",
       "      <td>NaN</td>\n",
       "      <td>NaN</td>\n",
       "      <td>NaN</td>\n",
       "      <td>NaN</td>\n",
       "      <td>NaN</td>\n",
       "      <td>NaN</td>\n",
       "      <td>NaN</td>\n",
       "      <td>NaN</td>\n",
       "      <td>NaN</td>\n",
       "      <td>NaN</td>\n",
       "    </tr>\n",
       "    <tr>\n",
       "      <th>2</th>\n",
       "      <td>17536704.0</td>\n",
       "      <td>2018-01-01 00:44:46</td>\n",
       "      <td>2018-01-01 01:33:10</td>\n",
       "      <td>4599.0</td>\n",
       "      <td>2,904.0</td>\n",
       "      <td>98.0</td>\n",
       "      <td>LaSalle St &amp; Washington St</td>\n",
       "      <td>509.0</td>\n",
       "      <td>Troy St &amp; North Ave</td>\n",
       "      <td>Subscriber</td>\n",
       "      <td>...</td>\n",
       "      <td>NaN</td>\n",
       "      <td>NaN</td>\n",
       "      <td>NaN</td>\n",
       "      <td>NaN</td>\n",
       "      <td>NaN</td>\n",
       "      <td>NaN</td>\n",
       "      <td>NaN</td>\n",
       "      <td>NaN</td>\n",
       "      <td>NaN</td>\n",
       "      <td>NaN</td>\n",
       "    </tr>\n",
       "    <tr>\n",
       "      <th>3</th>\n",
       "      <td>17536705.0</td>\n",
       "      <td>2018-01-01 00:53:10</td>\n",
       "      <td>2018-01-01 01:05:37</td>\n",
       "      <td>2302.0</td>\n",
       "      <td>747.0</td>\n",
       "      <td>125.0</td>\n",
       "      <td>Rush St &amp; Hubbard St</td>\n",
       "      <td>364.0</td>\n",
       "      <td>Larrabee St &amp; Oak St</td>\n",
       "      <td>Subscriber</td>\n",
       "      <td>...</td>\n",
       "      <td>NaN</td>\n",
       "      <td>NaN</td>\n",
       "      <td>NaN</td>\n",
       "      <td>NaN</td>\n",
       "      <td>NaN</td>\n",
       "      <td>NaN</td>\n",
       "      <td>NaN</td>\n",
       "      <td>NaN</td>\n",
       "      <td>NaN</td>\n",
       "      <td>NaN</td>\n",
       "    </tr>\n",
       "    <tr>\n",
       "      <th>4</th>\n",
       "      <td>17536706.0</td>\n",
       "      <td>2018-01-01 00:53:37</td>\n",
       "      <td>2018-01-01 00:56:40</td>\n",
       "      <td>3696.0</td>\n",
       "      <td>183.0</td>\n",
       "      <td>129.0</td>\n",
       "      <td>Blue Island Ave &amp; 18th St</td>\n",
       "      <td>205.0</td>\n",
       "      <td>Paulina St &amp; 18th St</td>\n",
       "      <td>Subscriber</td>\n",
       "      <td>...</td>\n",
       "      <td>NaN</td>\n",
       "      <td>NaN</td>\n",
       "      <td>NaN</td>\n",
       "      <td>NaN</td>\n",
       "      <td>NaN</td>\n",
       "      <td>NaN</td>\n",
       "      <td>NaN</td>\n",
       "      <td>NaN</td>\n",
       "      <td>NaN</td>\n",
       "      <td>NaN</td>\n",
       "    </tr>\n",
       "  </tbody>\n",
       "</table>\n",
       "<p>5 rows × 24 columns</p>\n",
       "</div>"
      ],
      "text/plain": [
       "   01 - Rental Details Rental ID 01 - Rental Details Local Start Time  \\\n",
       "0                     17536702.0                  2018-01-01 00:12:00   \n",
       "1                     17536703.0                  2018-01-01 00:41:35   \n",
       "2                     17536704.0                  2018-01-01 00:44:46   \n",
       "3                     17536705.0                  2018-01-01 00:53:10   \n",
       "4                     17536706.0                  2018-01-01 00:53:37   \n",
       "\n",
       "  01 - Rental Details Local End Time  01 - Rental Details Bike ID  \\\n",
       "0                2018-01-01 00:17:23                       3304.0   \n",
       "1                2018-01-01 00:47:52                       5367.0   \n",
       "2                2018-01-01 01:33:10                       4599.0   \n",
       "3                2018-01-01 01:05:37                       2302.0   \n",
       "4                2018-01-01 00:56:40                       3696.0   \n",
       "\n",
       "  01 - Rental Details Duration In Seconds Uncapped  \\\n",
       "0                                            323.0   \n",
       "1                                            377.0   \n",
       "2                                          2,904.0   \n",
       "3                                            747.0   \n",
       "4                                            183.0   \n",
       "\n",
       "   03 - Rental Start Station ID 03 - Rental Start Station Name  \\\n",
       "0                          69.0         Damen Ave & Pierce Ave   \n",
       "1                         253.0    Winthrop Ave & Lawrence Ave   \n",
       "2                          98.0     LaSalle St & Washington St   \n",
       "3                         125.0           Rush St & Hubbard St   \n",
       "4                         129.0      Blue Island Ave & 18th St   \n",
       "\n",
       "   02 - Rental End Station ID    02 - Rental End Station Name   User Type  \\\n",
       "0                       159.0       Claremont Ave & Hirsch St  Subscriber   \n",
       "1                       325.0  Clark St & Winnemac Ave (Temp)  Subscriber   \n",
       "2                       509.0             Troy St & North Ave  Subscriber   \n",
       "3                       364.0            Larrabee St & Oak St  Subscriber   \n",
       "4                       205.0            Paulina St & 18th St  Subscriber   \n",
       "\n",
       "   ... end_time  bikeid  tripduration from_station_id from_station_name  \\\n",
       "0  ...      NaN     NaN           NaN             NaN               NaN   \n",
       "1  ...      NaN     NaN           NaN             NaN               NaN   \n",
       "2  ...      NaN     NaN           NaN             NaN               NaN   \n",
       "3  ...      NaN     NaN           NaN             NaN               NaN   \n",
       "4  ...      NaN     NaN           NaN             NaN               NaN   \n",
       "\n",
       "   to_station_id to_station_name  usertype gender  birthyear  \n",
       "0            NaN             NaN       NaN    NaN        NaN  \n",
       "1            NaN             NaN       NaN    NaN        NaN  \n",
       "2            NaN             NaN       NaN    NaN        NaN  \n",
       "3            NaN             NaN       NaN    NaN        NaN  \n",
       "4            NaN             NaN       NaN    NaN        NaN  \n",
       "\n",
       "[5 rows x 24 columns]"
      ]
     },
     "execution_count": 32,
     "metadata": {},
     "output_type": "execute_result"
    }
   ],
   "source": [
    "full_2018_df.head(5)"
   ]
  },
  {
   "cell_type": "code",
   "execution_count": 34,
   "id": "6056f5dc",
   "metadata": {},
   "outputs": [
    {
     "data": {
      "text/plain": [
       "Member Gender                                       3238430\n",
       "05 - Member Details Member Birthday Year            3238259\n",
       "01 - Rental Details Rental ID                       3215937\n",
       "01 - Rental Details Local End Time                  3215937\n",
       "01 - Rental Details Bike ID                         3215937\n",
       "01 - Rental Details Duration In Seconds Uncapped    3215937\n",
       "03 - Rental Start Station ID                        3215937\n",
       "03 - Rental Start Station Name                      3215937\n",
       "02 - Rental End Station ID                          3215937\n",
       "02 - Rental End Station Name                        3215937\n",
       "User Type                                           3215937\n",
       "01 - Rental Details Local Start Time                3215937\n",
       "gender                                               927157\n",
       "birthyear                                            920032\n",
       "end_time                                             387145\n",
       "bikeid                                               387145\n",
       "tripduration                                         387145\n",
       "from_station_id                                      387145\n",
       "from_station_name                                    387145\n",
       "to_station_id                                        387145\n",
       "to_station_name                                      387145\n",
       "usertype                                             387145\n",
       "start_time                                           387145\n",
       "trip_id                                              387145\n",
       "dtype: int64"
      ]
     },
     "execution_count": 34,
     "metadata": {},
     "output_type": "execute_result"
    }
   ],
   "source": [
    "full_2018_df.isnull().sum().sort_values(ascending=False)"
   ]
  },
  {
   "cell_type": "code",
   "execution_count": 35,
   "id": "0b16dea2",
   "metadata": {},
   "outputs": [
    {
     "data": {
      "text/plain": [
       "gender               836827\n",
       "birthyear            836758\n",
       "trip_id                   0\n",
       "start_time                0\n",
       "end_time                  0\n",
       "bikeid                    0\n",
       "tripduration              0\n",
       "from_station_id           0\n",
       "from_station_name         0\n",
       "to_station_id             0\n",
       "to_station_name           0\n",
       "usertype                  0\n",
       "dtype: int64"
      ]
     },
     "execution_count": 35,
     "metadata": {},
     "output_type": "execute_result"
    }
   ],
   "source": [
    "full_2017_df.isnull().sum().sort_values(ascending=False)"
   ]
  },
  {
   "cell_type": "code",
   "execution_count": 36,
   "id": "b3eec2cf",
   "metadata": {},
   "outputs": [
    {
     "data": {
      "text/plain": [
       "gender               858429\n",
       "birthyear            858125\n",
       "trip_id                   0\n",
       "starttime                 0\n",
       "stoptime                  0\n",
       "bikeid                    0\n",
       "tripduration              0\n",
       "from_station_id           0\n",
       "from_station_name         0\n",
       "to_station_id             0\n",
       "to_station_name           0\n",
       "usertype                  0\n",
       "dtype: int64"
      ]
     },
     "execution_count": 36,
     "metadata": {},
     "output_type": "execute_result"
    }
   ],
   "source": [
    "full_2016_df.isnull().sum().sort_values(ascending=False)"
   ]
  },
  {
   "cell_type": "code",
   "execution_count": 5,
   "id": "a5060bba",
   "metadata": {},
   "outputs": [],
   "source": [
    "import google.cloud\n",
    "from google.cloud import storage"
   ]
  },
  {
   "cell_type": "code",
   "execution_count": 6,
   "id": "8d879ea3",
   "metadata": {},
   "outputs": [],
   "source": [
    "bucket_name =  \"bucket-365814\""
   ]
  },
  {
   "cell_type": "code",
   "execution_count": 7,
   "id": "83d855ec",
   "metadata": {},
   "outputs": [],
   "source": [
    "storage_client = google.cloud.storage.Client()\n",
    "bucket = storage_client.bucket(bucket_name)"
   ]
  },
  {
   "cell_type": "code",
   "execution_count": 8,
   "id": "dd2cc8f2",
   "metadata": {},
   "outputs": [],
   "source": [
    "blob_name = \"Divvy_Trips_2013_Q2.csv\""
   ]
  },
  {
   "cell_type": "code",
   "execution_count": 9,
   "id": "168fb26e",
   "metadata": {},
   "outputs": [],
   "source": [
    "blob = bucket.blob(blob_name)"
   ]
  },
  {
   "cell_type": "code",
   "execution_count": 10,
   "id": "5090655d",
   "metadata": {},
   "outputs": [
    {
     "ename": "Forbidden",
     "evalue": "403 GET https://storage.googleapis.com/download/storage/v1/b/bucket-365814/o/Divvy_Trips_2013_Q2.csv?alt=media: wagon-bootcamp@studious-camp-365515.iam.gserviceaccount.com does not have storage.objects.get access to the Google Cloud Storage object. Permission &#39;storage.objects.get&#39; denied on resource (or it may not exist).: ('Request failed with status code', 403, 'Expected one of', <HTTPStatus.OK: 200>, <HTTPStatus.PARTIAL_CONTENT: 206>)",
     "output_type": "error",
     "traceback": [
      "\u001b[0;31m---------------------------------------------------------------------------\u001b[0m",
      "\u001b[0;31mInvalidResponse\u001b[0m                           Traceback (most recent call last)",
      "File \u001b[0;32m~/.pyenv/versions/3.10.6/envs/DIVVY_BIKE/lib/python3.10/site-packages/google/cloud/storage/client.py:1079\u001b[0m, in \u001b[0;36mClient.download_blob_to_file\u001b[0;34m(self, blob_or_uri, file_obj, start, end, raw_download, if_etag_match, if_etag_not_match, if_generation_match, if_generation_not_match, if_metageneration_match, if_metageneration_not_match, timeout, checksum, retry)\u001b[0m\n\u001b[1;32m   1078\u001b[0m \u001b[38;5;28;01mtry\u001b[39;00m:\n\u001b[0;32m-> 1079\u001b[0m     \u001b[43mblob_or_uri\u001b[49m\u001b[38;5;241;43m.\u001b[39;49m\u001b[43m_do_download\u001b[49m\u001b[43m(\u001b[49m\n\u001b[1;32m   1080\u001b[0m \u001b[43m        \u001b[49m\u001b[43mtransport\u001b[49m\u001b[43m,\u001b[49m\n\u001b[1;32m   1081\u001b[0m \u001b[43m        \u001b[49m\u001b[43mfile_obj\u001b[49m\u001b[43m,\u001b[49m\n\u001b[1;32m   1082\u001b[0m \u001b[43m        \u001b[49m\u001b[43mdownload_url\u001b[49m\u001b[43m,\u001b[49m\n\u001b[1;32m   1083\u001b[0m \u001b[43m        \u001b[49m\u001b[43mheaders\u001b[49m\u001b[43m,\u001b[49m\n\u001b[1;32m   1084\u001b[0m \u001b[43m        \u001b[49m\u001b[43mstart\u001b[49m\u001b[43m,\u001b[49m\n\u001b[1;32m   1085\u001b[0m \u001b[43m        \u001b[49m\u001b[43mend\u001b[49m\u001b[43m,\u001b[49m\n\u001b[1;32m   1086\u001b[0m \u001b[43m        \u001b[49m\u001b[43mraw_download\u001b[49m\u001b[43m,\u001b[49m\n\u001b[1;32m   1087\u001b[0m \u001b[43m        \u001b[49m\u001b[43mtimeout\u001b[49m\u001b[38;5;241;43m=\u001b[39;49m\u001b[43mtimeout\u001b[49m\u001b[43m,\u001b[49m\n\u001b[1;32m   1088\u001b[0m \u001b[43m        \u001b[49m\u001b[43mchecksum\u001b[49m\u001b[38;5;241;43m=\u001b[39;49m\u001b[43mchecksum\u001b[49m\u001b[43m,\u001b[49m\n\u001b[1;32m   1089\u001b[0m \u001b[43m        \u001b[49m\u001b[43mretry\u001b[49m\u001b[38;5;241;43m=\u001b[39;49m\u001b[43mretry\u001b[49m\u001b[43m,\u001b[49m\n\u001b[1;32m   1090\u001b[0m \u001b[43m    \u001b[49m\u001b[43m)\u001b[49m\n\u001b[1;32m   1091\u001b[0m \u001b[38;5;28;01mexcept\u001b[39;00m resumable_media\u001b[38;5;241m.\u001b[39mInvalidResponse \u001b[38;5;28;01mas\u001b[39;00m exc:\n",
      "File \u001b[0;32m~/.pyenv/versions/3.10.6/envs/DIVVY_BIKE/lib/python3.10/site-packages/google/cloud/storage/blob.py:984\u001b[0m, in \u001b[0;36mBlob._do_download\u001b[0;34m(self, transport, file_obj, download_url, headers, start, end, raw_download, timeout, checksum, retry)\u001b[0m\n\u001b[1;32m    983\u001b[0m download\u001b[38;5;241m.\u001b[39m_retry_strategy \u001b[38;5;241m=\u001b[39m retry_strategy\n\u001b[0;32m--> 984\u001b[0m response \u001b[38;5;241m=\u001b[39m \u001b[43mdownload\u001b[49m\u001b[38;5;241;43m.\u001b[39;49m\u001b[43mconsume\u001b[49m\u001b[43m(\u001b[49m\u001b[43mtransport\u001b[49m\u001b[43m,\u001b[49m\u001b[43m \u001b[49m\u001b[43mtimeout\u001b[49m\u001b[38;5;241;43m=\u001b[39;49m\u001b[43mtimeout\u001b[49m\u001b[43m)\u001b[49m\n\u001b[1;32m    985\u001b[0m \u001b[38;5;28mself\u001b[39m\u001b[38;5;241m.\u001b[39m_extract_headers_from_download(response)\n",
      "File \u001b[0;32m~/.pyenv/versions/3.10.6/envs/DIVVY_BIKE/lib/python3.10/site-packages/google/resumable_media/requests/download.py:232\u001b[0m, in \u001b[0;36mDownload.consume\u001b[0;34m(self, transport, timeout)\u001b[0m\n\u001b[1;32m    230\u001b[0m     \u001b[38;5;28;01mreturn\u001b[39;00m result\n\u001b[0;32m--> 232\u001b[0m \u001b[38;5;28;01mreturn\u001b[39;00m \u001b[43m_request_helpers\u001b[49m\u001b[38;5;241;43m.\u001b[39;49m\u001b[43mwait_and_retry\u001b[49m\u001b[43m(\u001b[49m\n\u001b[1;32m    233\u001b[0m \u001b[43m    \u001b[49m\u001b[43mretriable_request\u001b[49m\u001b[43m,\u001b[49m\u001b[43m \u001b[49m\u001b[38;5;28;43mself\u001b[39;49m\u001b[38;5;241;43m.\u001b[39;49m\u001b[43m_get_status_code\u001b[49m\u001b[43m,\u001b[49m\u001b[43m \u001b[49m\u001b[38;5;28;43mself\u001b[39;49m\u001b[38;5;241;43m.\u001b[39;49m\u001b[43m_retry_strategy\u001b[49m\n\u001b[1;32m    234\u001b[0m \u001b[43m\u001b[49m\u001b[43m)\u001b[49m\n",
      "File \u001b[0;32m~/.pyenv/versions/3.10.6/envs/DIVVY_BIKE/lib/python3.10/site-packages/google/resumable_media/requests/_request_helpers.py:148\u001b[0m, in \u001b[0;36mwait_and_retry\u001b[0;34m(func, get_status_code, retry_strategy)\u001b[0m\n\u001b[1;32m    147\u001b[0m \u001b[38;5;28;01mtry\u001b[39;00m:\n\u001b[0;32m--> 148\u001b[0m     response \u001b[38;5;241m=\u001b[39m \u001b[43mfunc\u001b[49m\u001b[43m(\u001b[49m\u001b[43m)\u001b[49m\n\u001b[1;32m    149\u001b[0m \u001b[38;5;28;01mexcept\u001b[39;00m _CONNECTION_ERROR_CLASSES \u001b[38;5;28;01mas\u001b[39;00m e:\n",
      "File \u001b[0;32m~/.pyenv/versions/3.10.6/envs/DIVVY_BIKE/lib/python3.10/site-packages/google/resumable_media/requests/download.py:214\u001b[0m, in \u001b[0;36mDownload.consume.<locals>.retriable_request\u001b[0;34m()\u001b[0m\n\u001b[1;32m    210\u001b[0m     \u001b[38;5;28mself\u001b[39m\u001b[38;5;241m.\u001b[39m_object_generation \u001b[38;5;241m=\u001b[39m _helpers\u001b[38;5;241m.\u001b[39m_parse_generation_header(\n\u001b[1;32m    211\u001b[0m         result, \u001b[38;5;28mself\u001b[39m\u001b[38;5;241m.\u001b[39m_get_headers\n\u001b[1;32m    212\u001b[0m     )\n\u001b[0;32m--> 214\u001b[0m \u001b[38;5;28;43mself\u001b[39;49m\u001b[38;5;241;43m.\u001b[39;49m\u001b[43m_process_response\u001b[49m\u001b[43m(\u001b[49m\u001b[43mresult\u001b[49m\u001b[43m)\u001b[49m\n\u001b[1;32m    216\u001b[0m \u001b[38;5;66;03m# With decompressive transcoding, GCS serves back the whole file regardless of the range request,\u001b[39;00m\n\u001b[1;32m    217\u001b[0m \u001b[38;5;66;03m# thus we reset the stream position to the start of the stream.\u001b[39;00m\n\u001b[1;32m    218\u001b[0m \u001b[38;5;66;03m# See: https://cloud.google.com/storage/docs/transcoding#range\u001b[39;00m\n",
      "File \u001b[0;32m~/.pyenv/versions/3.10.6/envs/DIVVY_BIKE/lib/python3.10/site-packages/google/resumable_media/_download.py:188\u001b[0m, in \u001b[0;36mDownload._process_response\u001b[0;34m(self, response)\u001b[0m\n\u001b[1;32m    187\u001b[0m \u001b[38;5;28mself\u001b[39m\u001b[38;5;241m.\u001b[39m_finished \u001b[38;5;241m=\u001b[39m \u001b[38;5;28;01mTrue\u001b[39;00m\n\u001b[0;32m--> 188\u001b[0m \u001b[43m_helpers\u001b[49m\u001b[38;5;241;43m.\u001b[39;49m\u001b[43mrequire_status_code\u001b[49m\u001b[43m(\u001b[49m\n\u001b[1;32m    189\u001b[0m \u001b[43m    \u001b[49m\u001b[43mresponse\u001b[49m\u001b[43m,\u001b[49m\u001b[43m \u001b[49m\u001b[43m_ACCEPTABLE_STATUS_CODES\u001b[49m\u001b[43m,\u001b[49m\u001b[43m \u001b[49m\u001b[38;5;28;43mself\u001b[39;49m\u001b[38;5;241;43m.\u001b[39;49m\u001b[43m_get_status_code\u001b[49m\n\u001b[1;32m    190\u001b[0m \u001b[43m\u001b[49m\u001b[43m)\u001b[49m\n",
      "File \u001b[0;32m~/.pyenv/versions/3.10.6/envs/DIVVY_BIKE/lib/python3.10/site-packages/google/resumable_media/_helpers.py:108\u001b[0m, in \u001b[0;36mrequire_status_code\u001b[0;34m(response, status_codes, get_status_code, callback)\u001b[0m\n\u001b[1;32m    107\u001b[0m         callback()\n\u001b[0;32m--> 108\u001b[0m     \u001b[38;5;28;01mraise\u001b[39;00m common\u001b[38;5;241m.\u001b[39mInvalidResponse(\n\u001b[1;32m    109\u001b[0m         response,\n\u001b[1;32m    110\u001b[0m         \u001b[38;5;124m\"\u001b[39m\u001b[38;5;124mRequest failed with status code\u001b[39m\u001b[38;5;124m\"\u001b[39m,\n\u001b[1;32m    111\u001b[0m         status_code,\n\u001b[1;32m    112\u001b[0m         \u001b[38;5;124m\"\u001b[39m\u001b[38;5;124mExpected one of\u001b[39m\u001b[38;5;124m\"\u001b[39m,\n\u001b[1;32m    113\u001b[0m         \u001b[38;5;241m*\u001b[39mstatus_codes\n\u001b[1;32m    114\u001b[0m     )\n\u001b[1;32m    115\u001b[0m \u001b[38;5;28;01mreturn\u001b[39;00m status_code\n",
      "\u001b[0;31mInvalidResponse\u001b[0m: ('Request failed with status code', 403, 'Expected one of', <HTTPStatus.OK: 200>, <HTTPStatus.PARTIAL_CONTENT: 206>)",
      "\nDuring handling of the above exception, another exception occurred:\n",
      "\u001b[0;31mForbidden\u001b[0m                                 Traceback (most recent call last)",
      "Cell \u001b[0;32mIn[10], line 2\u001b[0m\n\u001b[1;32m      1\u001b[0m \u001b[38;5;28;01mwith\u001b[39;00m blob\u001b[38;5;241m.\u001b[39mopen(\u001b[38;5;124m\"\u001b[39m\u001b[38;5;124mr\u001b[39m\u001b[38;5;124m\"\u001b[39m) \u001b[38;5;28;01mas\u001b[39;00m f:\n\u001b[0;32m----> 2\u001b[0m         \u001b[38;5;28mprint\u001b[39m(\u001b[43mf\u001b[49m\u001b[38;5;241;43m.\u001b[39;49m\u001b[43mread\u001b[49m\u001b[43m(\u001b[49m\u001b[43m)\u001b[49m)\n",
      "File \u001b[0;32m~/.pyenv/versions/3.10.6/envs/DIVVY_BIKE/lib/python3.10/site-packages/google/cloud/storage/fileio.py:144\u001b[0m, in \u001b[0;36mBlobReader.read\u001b[0;34m(self, size)\u001b[0m\n\u001b[1;32m    140\u001b[0m \u001b[38;5;66;03m# Download the blob. Checksumming must be disabled as we are using\u001b[39;00m\n\u001b[1;32m    141\u001b[0m \u001b[38;5;66;03m# chunked downloads, and the server only knows the checksum of the\u001b[39;00m\n\u001b[1;32m    142\u001b[0m \u001b[38;5;66;03m# entire file.\u001b[39;00m\n\u001b[1;32m    143\u001b[0m \u001b[38;5;28;01mtry\u001b[39;00m:\n\u001b[0;32m--> 144\u001b[0m     result \u001b[38;5;241m+\u001b[39m\u001b[38;5;241m=\u001b[39m \u001b[38;5;28;43mself\u001b[39;49m\u001b[38;5;241;43m.\u001b[39;49m\u001b[43m_blob\u001b[49m\u001b[38;5;241;43m.\u001b[39;49m\u001b[43mdownload_as_bytes\u001b[49m\u001b[43m(\u001b[49m\n\u001b[1;32m    145\u001b[0m \u001b[43m        \u001b[49m\u001b[43mstart\u001b[49m\u001b[38;5;241;43m=\u001b[39;49m\u001b[43mfetch_start\u001b[49m\u001b[43m,\u001b[49m\n\u001b[1;32m    146\u001b[0m \u001b[43m        \u001b[49m\u001b[43mend\u001b[49m\u001b[38;5;241;43m=\u001b[39;49m\u001b[43mfetch_end\u001b[49m\u001b[43m,\u001b[49m\n\u001b[1;32m    147\u001b[0m \u001b[43m        \u001b[49m\u001b[43mchecksum\u001b[49m\u001b[38;5;241;43m=\u001b[39;49m\u001b[38;5;28;43;01mNone\u001b[39;49;00m\u001b[43m,\u001b[49m\n\u001b[1;32m    148\u001b[0m \u001b[43m        \u001b[49m\u001b[43mretry\u001b[49m\u001b[38;5;241;43m=\u001b[39;49m\u001b[38;5;28;43mself\u001b[39;49m\u001b[38;5;241;43m.\u001b[39;49m\u001b[43m_retry\u001b[49m\u001b[43m,\u001b[49m\n\u001b[1;32m    149\u001b[0m \u001b[43m        \u001b[49m\u001b[38;5;241;43m*\u001b[39;49m\u001b[38;5;241;43m*\u001b[39;49m\u001b[38;5;28;43mself\u001b[39;49m\u001b[38;5;241;43m.\u001b[39;49m\u001b[43m_download_kwargs\u001b[49m\u001b[43m,\u001b[49m\n\u001b[1;32m    150\u001b[0m \u001b[43m    \u001b[49m\u001b[43m)\u001b[49m\n\u001b[1;32m    151\u001b[0m \u001b[38;5;28;01mexcept\u001b[39;00m RequestRangeNotSatisfiable:\n\u001b[1;32m    152\u001b[0m     \u001b[38;5;66;03m# We've reached the end of the file. Python file objects should\u001b[39;00m\n\u001b[1;32m    153\u001b[0m     \u001b[38;5;66;03m# return an empty response in this case, not raise an error.\u001b[39;00m\n\u001b[1;32m    154\u001b[0m     \u001b[38;5;28;01mpass\u001b[39;00m\n",
      "File \u001b[0;32m~/.pyenv/versions/3.10.6/envs/DIVVY_BIKE/lib/python3.10/site-packages/google/cloud/storage/blob.py:1387\u001b[0m, in \u001b[0;36mBlob.download_as_bytes\u001b[0;34m(self, client, start, end, raw_download, if_etag_match, if_etag_not_match, if_generation_match, if_generation_not_match, if_metageneration_match, if_metageneration_not_match, timeout, checksum, retry)\u001b[0m\n\u001b[1;32m   1385\u001b[0m client \u001b[38;5;241m=\u001b[39m \u001b[38;5;28mself\u001b[39m\u001b[38;5;241m.\u001b[39m_require_client(client)\n\u001b[1;32m   1386\u001b[0m string_buffer \u001b[38;5;241m=\u001b[39m BytesIO()\n\u001b[0;32m-> 1387\u001b[0m \u001b[43mclient\u001b[49m\u001b[38;5;241;43m.\u001b[39;49m\u001b[43mdownload_blob_to_file\u001b[49m\u001b[43m(\u001b[49m\n\u001b[1;32m   1388\u001b[0m \u001b[43m    \u001b[49m\u001b[38;5;28;43mself\u001b[39;49m\u001b[43m,\u001b[49m\n\u001b[1;32m   1389\u001b[0m \u001b[43m    \u001b[49m\u001b[43mstring_buffer\u001b[49m\u001b[43m,\u001b[49m\n\u001b[1;32m   1390\u001b[0m \u001b[43m    \u001b[49m\u001b[43mstart\u001b[49m\u001b[38;5;241;43m=\u001b[39;49m\u001b[43mstart\u001b[49m\u001b[43m,\u001b[49m\n\u001b[1;32m   1391\u001b[0m \u001b[43m    \u001b[49m\u001b[43mend\u001b[49m\u001b[38;5;241;43m=\u001b[39;49m\u001b[43mend\u001b[49m\u001b[43m,\u001b[49m\n\u001b[1;32m   1392\u001b[0m \u001b[43m    \u001b[49m\u001b[43mraw_download\u001b[49m\u001b[38;5;241;43m=\u001b[39;49m\u001b[43mraw_download\u001b[49m\u001b[43m,\u001b[49m\n\u001b[1;32m   1393\u001b[0m \u001b[43m    \u001b[49m\u001b[43mif_etag_match\u001b[49m\u001b[38;5;241;43m=\u001b[39;49m\u001b[43mif_etag_match\u001b[49m\u001b[43m,\u001b[49m\n\u001b[1;32m   1394\u001b[0m \u001b[43m    \u001b[49m\u001b[43mif_etag_not_match\u001b[49m\u001b[38;5;241;43m=\u001b[39;49m\u001b[43mif_etag_not_match\u001b[49m\u001b[43m,\u001b[49m\n\u001b[1;32m   1395\u001b[0m \u001b[43m    \u001b[49m\u001b[43mif_generation_match\u001b[49m\u001b[38;5;241;43m=\u001b[39;49m\u001b[43mif_generation_match\u001b[49m\u001b[43m,\u001b[49m\n\u001b[1;32m   1396\u001b[0m \u001b[43m    \u001b[49m\u001b[43mif_generation_not_match\u001b[49m\u001b[38;5;241;43m=\u001b[39;49m\u001b[43mif_generation_not_match\u001b[49m\u001b[43m,\u001b[49m\n\u001b[1;32m   1397\u001b[0m \u001b[43m    \u001b[49m\u001b[43mif_metageneration_match\u001b[49m\u001b[38;5;241;43m=\u001b[39;49m\u001b[43mif_metageneration_match\u001b[49m\u001b[43m,\u001b[49m\n\u001b[1;32m   1398\u001b[0m \u001b[43m    \u001b[49m\u001b[43mif_metageneration_not_match\u001b[49m\u001b[38;5;241;43m=\u001b[39;49m\u001b[43mif_metageneration_not_match\u001b[49m\u001b[43m,\u001b[49m\n\u001b[1;32m   1399\u001b[0m \u001b[43m    \u001b[49m\u001b[43mtimeout\u001b[49m\u001b[38;5;241;43m=\u001b[39;49m\u001b[43mtimeout\u001b[49m\u001b[43m,\u001b[49m\n\u001b[1;32m   1400\u001b[0m \u001b[43m    \u001b[49m\u001b[43mchecksum\u001b[49m\u001b[38;5;241;43m=\u001b[39;49m\u001b[43mchecksum\u001b[49m\u001b[43m,\u001b[49m\n\u001b[1;32m   1401\u001b[0m \u001b[43m    \u001b[49m\u001b[43mretry\u001b[49m\u001b[38;5;241;43m=\u001b[39;49m\u001b[43mretry\u001b[49m\u001b[43m,\u001b[49m\n\u001b[1;32m   1402\u001b[0m \u001b[43m\u001b[49m\u001b[43m)\u001b[49m\n\u001b[1;32m   1403\u001b[0m \u001b[38;5;28;01mreturn\u001b[39;00m string_buffer\u001b[38;5;241m.\u001b[39mgetvalue()\n",
      "File \u001b[0;32m~/.pyenv/versions/3.10.6/envs/DIVVY_BIKE/lib/python3.10/site-packages/google/cloud/storage/client.py:1092\u001b[0m, in \u001b[0;36mClient.download_blob_to_file\u001b[0;34m(self, blob_or_uri, file_obj, start, end, raw_download, if_etag_match, if_etag_not_match, if_generation_match, if_generation_not_match, if_metageneration_match, if_metageneration_not_match, timeout, checksum, retry)\u001b[0m\n\u001b[1;32m   1079\u001b[0m     blob_or_uri\u001b[38;5;241m.\u001b[39m_do_download(\n\u001b[1;32m   1080\u001b[0m         transport,\n\u001b[1;32m   1081\u001b[0m         file_obj,\n\u001b[0;32m   (...)\u001b[0m\n\u001b[1;32m   1089\u001b[0m         retry\u001b[38;5;241m=\u001b[39mretry,\n\u001b[1;32m   1090\u001b[0m     )\n\u001b[1;32m   1091\u001b[0m \u001b[38;5;28;01mexcept\u001b[39;00m resumable_media\u001b[38;5;241m.\u001b[39mInvalidResponse \u001b[38;5;28;01mas\u001b[39;00m exc:\n\u001b[0;32m-> 1092\u001b[0m     \u001b[43m_raise_from_invalid_response\u001b[49m\u001b[43m(\u001b[49m\u001b[43mexc\u001b[49m\u001b[43m)\u001b[49m\n",
      "File \u001b[0;32m~/.pyenv/versions/3.10.6/envs/DIVVY_BIKE/lib/python3.10/site-packages/google/cloud/storage/blob.py:4368\u001b[0m, in \u001b[0;36m_raise_from_invalid_response\u001b[0;34m(error)\u001b[0m\n\u001b[1;32m   4364\u001b[0m     error_message \u001b[38;5;241m=\u001b[39m \u001b[38;5;28mstr\u001b[39m(error)\n\u001b[1;32m   4366\u001b[0m message \u001b[38;5;241m=\u001b[39m \u001b[38;5;124mf\u001b[39m\u001b[38;5;124m\"\u001b[39m\u001b[38;5;132;01m{\u001b[39;00mresponse\u001b[38;5;241m.\u001b[39mrequest\u001b[38;5;241m.\u001b[39mmethod\u001b[38;5;132;01m}\u001b[39;00m\u001b[38;5;124m \u001b[39m\u001b[38;5;132;01m{\u001b[39;00mresponse\u001b[38;5;241m.\u001b[39mrequest\u001b[38;5;241m.\u001b[39murl\u001b[38;5;132;01m}\u001b[39;00m\u001b[38;5;124m: \u001b[39m\u001b[38;5;132;01m{\u001b[39;00merror_message\u001b[38;5;132;01m}\u001b[39;00m\u001b[38;5;124m\"\u001b[39m\n\u001b[0;32m-> 4368\u001b[0m \u001b[38;5;28;01mraise\u001b[39;00m exceptions\u001b[38;5;241m.\u001b[39mfrom_http_status(response\u001b[38;5;241m.\u001b[39mstatus_code, message, response\u001b[38;5;241m=\u001b[39mresponse)\n",
      "\u001b[0;31mForbidden\u001b[0m: 403 GET https://storage.googleapis.com/download/storage/v1/b/bucket-365814/o/Divvy_Trips_2013_Q2.csv?alt=media: wagon-bootcamp@studious-camp-365515.iam.gserviceaccount.com does not have storage.objects.get access to the Google Cloud Storage object. Permission &#39;storage.objects.get&#39; denied on resource (or it may not exist).: ('Request failed with status code', 403, 'Expected one of', <HTTPStatus.OK: 200>, <HTTPStatus.PARTIAL_CONTENT: 206>)"
     ]
    }
   ],
   "source": [
    "with blob.open(\"r\") as f:\n",
    "        print(f.read())"
   ]
  },
  {
   "cell_type": "code",
   "execution_count": null,
   "id": "aea47d14",
   "metadata": {},
   "outputs": [],
   "source": []
  },
  {
   "cell_type": "code",
   "execution_count": null,
   "id": "82eaeee6",
   "metadata": {},
   "outputs": [],
   "source": []
  }
 ],
 "metadata": {
  "kernelspec": {
   "display_name": "Python 3.10.6 64-bit ('shims')",
   "language": "python",
   "name": "python3"
  },
  "language_info": {
   "codemirror_mode": {
    "name": "ipython",
    "version": 3
   },
   "file_extension": ".py",
   "mimetype": "text/x-python",
   "name": "python",
   "nbconvert_exporter": "python",
   "pygments_lexer": "ipython3",
   "version": "3.10.6"
  },
  "toc": {
   "base_numbering": 1,
   "nav_menu": {},
   "number_sections": true,
   "sideBar": true,
   "skip_h1_title": false,
   "title_cell": "Table of Contents",
   "title_sidebar": "Contents",
   "toc_cell": false,
   "toc_position": {},
   "toc_section_display": true,
   "toc_window_display": false
  },
  "vscode": {
   "interpreter": {
    "hash": "3648025edf73e73ba1159d04e874dc4e15a775332e01bb12a6a44f83c0d92c19"
   }
  }
 },
 "nbformat": 4,
 "nbformat_minor": 5
}
