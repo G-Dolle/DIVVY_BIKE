{
 "cells": [
  {
   "cell_type": "code",
   "execution_count": 1,
   "id": "734faf3e",
   "metadata": {},
   "outputs": [
    {
     "name": "stdout",
     "output_type": "stream",
     "text": [
      "/home/gdolle/code/G-Dolle/DIVVY_BIKE/notebooks\n"
     ]
    }
   ],
   "source": [
    "!pwd"
   ]
  },
  {
   "cell_type": "code",
   "execution_count": 2,
   "id": "134f3c98",
   "metadata": {},
   "outputs": [
    {
     "name": "stdout",
     "output_type": "stream",
     "text": [
      "/home/gdolle/code/G-Dolle/DIVVY_BIKE\n"
     ]
    }
   ],
   "source": [
    "cd '/home/gdolle/code/G-Dolle/DIVVY_BIKE'"
   ]
  },
  {
   "cell_type": "code",
   "execution_count": 3,
   "id": "7945abbf",
   "metadata": {},
   "outputs": [
    {
     "name": "stdout",
     "output_type": "stream",
     "text": [
      "/home/gdolle/code/G-Dolle/DIVVY_BIKE\n"
     ]
    }
   ],
   "source": [
    "!pwd"
   ]
  },
  {
   "cell_type": "code",
   "execution_count": 4,
   "id": "9b5c95e8",
   "metadata": {},
   "outputs": [],
   "source": [
    "%load_ext autoreload\n",
    "%autoreload 2"
   ]
  },
  {
   "cell_type": "code",
   "execution_count": 6,
   "id": "f31a5b42",
   "metadata": {},
   "outputs": [],
   "source": [
    "import os\n",
    "import pandas as pd\n",
    "import numpy as np\n",
    "import math\n",
    "from datetime import date, time, datetime\n",
    "import seaborn as sns\n",
    "\n",
    "from ml_logic.data_import import get_weather_data, get_divvy_data\n",
    "from ml_logic.cleaning import weather_cleaning, merge_divvy_weather, features_target\n",
    "from ml_logic.preprocessor import transform_time_features, preprocess_features, target_process\n",
    "\n",
    "from ml_logic.main import preprocess"
   ]
  },
  {
   "cell_type": "code",
   "execution_count": 7,
   "id": "c5e8f342",
   "metadata": {},
   "outputs": [],
   "source": [
    "from sklearn.pipeline import make_pipeline\n",
    "from sklearn.compose import ColumnTransformer, make_column_transformer\n",
    "from sklearn.preprocessing import OneHotEncoder, FunctionTransformer, StandardScaler"
   ]
  },
  {
   "cell_type": "markdown",
   "id": "ee1aee20",
   "metadata": {},
   "source": [
    "# Computing nb of departures and arrivals per hour for each station"
   ]
  },
  {
   "cell_type": "markdown",
   "id": "a2824390",
   "metadata": {},
   "source": [
    "## Nb of departures"
   ]
  },
  {
   "cell_type": "code",
   "execution_count": 8,
   "id": "8a6e84ef",
   "metadata": {},
   "outputs": [],
   "source": [
    "\n",
    "quarter= os.environ.get(\"DIVVY_QUARTER\")\n",
    "year= os.environ.get(\"DIVVY_YEAR\")\n"
   ]
  },
  {
   "cell_type": "code",
   "execution_count": null,
   "id": "0091eb97",
   "metadata": {},
   "outputs": [],
   "source": []
  },
  {
   "cell_type": "code",
   "execution_count": 9,
   "id": "b4ebf971",
   "metadata": {},
   "outputs": [
    {
     "data": {
      "text/html": [
       "<div>\n",
       "<style scoped>\n",
       "    .dataframe tbody tr th:only-of-type {\n",
       "        vertical-align: middle;\n",
       "    }\n",
       "\n",
       "    .dataframe tbody tr th {\n",
       "        vertical-align: top;\n",
       "    }\n",
       "\n",
       "    .dataframe thead th {\n",
       "        text-align: right;\n",
       "    }\n",
       "</style>\n",
       "<table border=\"1\" class=\"dataframe\">\n",
       "  <thead>\n",
       "    <tr style=\"text-align: right;\">\n",
       "      <th></th>\n",
       "      <th>ride_id</th>\n",
       "      <th>rideable_type</th>\n",
       "      <th>started_at</th>\n",
       "      <th>ended_at</th>\n",
       "      <th>start_station_name</th>\n",
       "      <th>start_station_id</th>\n",
       "      <th>end_station_name</th>\n",
       "      <th>end_station_id</th>\n",
       "      <th>start_lat</th>\n",
       "      <th>start_lng</th>\n",
       "      <th>end_lat</th>\n",
       "      <th>end_lng</th>\n",
       "      <th>member_casual</th>\n",
       "    </tr>\n",
       "  </thead>\n",
       "  <tbody>\n",
       "    <tr>\n",
       "      <th>0</th>\n",
       "      <td>47EC0A7F82E65D52</td>\n",
       "      <td>classic_bike</td>\n",
       "      <td>2022-03-21 13:45:01</td>\n",
       "      <td>2022-03-21 13:51:18</td>\n",
       "      <td>Wabash Ave &amp; Wacker Pl</td>\n",
       "      <td>TA1307000131</td>\n",
       "      <td>Kingsbury St &amp; Kinzie St</td>\n",
       "      <td>KA1503000043</td>\n",
       "      <td>41.886875</td>\n",
       "      <td>-87.626030</td>\n",
       "      <td>41.889177</td>\n",
       "      <td>-87.638506</td>\n",
       "      <td>member</td>\n",
       "    </tr>\n",
       "    <tr>\n",
       "      <th>1</th>\n",
       "      <td>8494861979B0F477</td>\n",
       "      <td>electric_bike</td>\n",
       "      <td>2022-03-16 09:37:16</td>\n",
       "      <td>2022-03-16 09:43:34</td>\n",
       "      <td>Michigan Ave &amp; Oak St</td>\n",
       "      <td>13042</td>\n",
       "      <td>Orleans St &amp; Chestnut St (NEXT Apts)</td>\n",
       "      <td>620</td>\n",
       "      <td>41.900998</td>\n",
       "      <td>-87.623752</td>\n",
       "      <td>41.898203</td>\n",
       "      <td>-87.637536</td>\n",
       "      <td>member</td>\n",
       "    </tr>\n",
       "  </tbody>\n",
       "</table>\n",
       "</div>"
      ],
      "text/plain": [
       "            ride_id  rideable_type           started_at             ended_at  \\\n",
       "0  47EC0A7F82E65D52   classic_bike  2022-03-21 13:45:01  2022-03-21 13:51:18   \n",
       "1  8494861979B0F477  electric_bike  2022-03-16 09:37:16  2022-03-16 09:43:34   \n",
       "\n",
       "       start_station_name start_station_id  \\\n",
       "0  Wabash Ave & Wacker Pl     TA1307000131   \n",
       "1   Michigan Ave & Oak St            13042   \n",
       "\n",
       "                       end_station_name end_station_id  start_lat  start_lng  \\\n",
       "0              Kingsbury St & Kinzie St   KA1503000043  41.886875 -87.626030   \n",
       "1  Orleans St & Chestnut St (NEXT Apts)            620  41.900998 -87.623752   \n",
       "\n",
       "     end_lat    end_lng member_casual  \n",
       "0  41.889177 -87.638506        member  \n",
       "1  41.898203 -87.637536        member  "
      ]
     },
     "execution_count": 9,
     "metadata": {},
     "output_type": "execute_result"
    }
   ],
   "source": [
    "\n",
    "\n",
    "df = get_divvy_data(year,quarter)\n",
    "df.head(2)\n"
   ]
  },
  {
   "cell_type": "code",
   "execution_count": 10,
   "id": "c9796c3c",
   "metadata": {},
   "outputs": [
    {
     "data": {
      "text/plain": [
       "Kingsbury St & Kinzie St                        4315\n",
       "Streeter Dr & Grand Ave                         3757\n",
       "University Ave & 57th St                        3595\n",
       "Ellis Ave & 60th St                             3581\n",
       "Clark St & Elm St                               3453\n",
       "                                                ... \n",
       "Tripp Ave & 15th St                                1\n",
       "Carpenter St & 63rd St                             1\n",
       "Seeley Ave & Garfield Blvd                         1\n",
       "Troy Ave & 27th St                                 1\n",
       "Pawel Bialowas - Test- PBSC charging station       1\n",
       "Name: start_station_name, Length: 847, dtype: int64"
      ]
     },
     "execution_count": 10,
     "metadata": {},
     "output_type": "execute_result"
    }
   ],
   "source": [
    "df.start_station_name.value_counts()"
   ]
  },
  {
   "cell_type": "code",
   "execution_count": 11,
   "id": "3da80e6a",
   "metadata": {},
   "outputs": [],
   "source": [
    "\n",
    "df['started_at']=pd.to_datetime(df['started_at'])\n",
    "df['ended_at']=pd.to_datetime(df['ended_at'])\n",
    "df['hourly_data_started'] = df.started_at.dt.round('60min')\n",
    "df['hourly_data_ended'] = df.ended_at.dt.round('60min')\n"
   ]
  },
  {
   "cell_type": "code",
   "execution_count": 90,
   "id": "954e5cdc",
   "metadata": {},
   "outputs": [
    {
     "data": {
      "text/html": [
       "<div>\n",
       "<style scoped>\n",
       "    .dataframe tbody tr th:only-of-type {\n",
       "        vertical-align: middle;\n",
       "    }\n",
       "\n",
       "    .dataframe tbody tr th {\n",
       "        vertical-align: top;\n",
       "    }\n",
       "\n",
       "    .dataframe thead th {\n",
       "        text-align: right;\n",
       "    }\n",
       "</style>\n",
       "<table border=\"1\" class=\"dataframe\">\n",
       "  <thead>\n",
       "    <tr style=\"text-align: right;\">\n",
       "      <th></th>\n",
       "      <th>station_name</th>\n",
       "      <th>station_id</th>\n",
       "      <th>hourly_data</th>\n",
       "      <th>lat</th>\n",
       "      <th>lng</th>\n",
       "    </tr>\n",
       "  </thead>\n",
       "  <tbody>\n",
       "    <tr>\n",
       "      <th>0</th>\n",
       "      <td>Wabash Ave &amp; Wacker Pl</td>\n",
       "      <td>TA1307000131</td>\n",
       "      <td>2022-03-21 14:00:00</td>\n",
       "      <td>41.886875</td>\n",
       "      <td>-87.626030</td>\n",
       "    </tr>\n",
       "    <tr>\n",
       "      <th>1</th>\n",
       "      <td>Michigan Ave &amp; Oak St</td>\n",
       "      <td>13042</td>\n",
       "      <td>2022-03-16 10:00:00</td>\n",
       "      <td>41.900998</td>\n",
       "      <td>-87.623752</td>\n",
       "    </tr>\n",
       "  </tbody>\n",
       "</table>\n",
       "</div>"
      ],
      "text/plain": [
       "             station_name    station_id         hourly_data        lat  \\\n",
       "0  Wabash Ave & Wacker Pl  TA1307000131 2022-03-21 14:00:00  41.886875   \n",
       "1   Michigan Ave & Oak St         13042 2022-03-16 10:00:00  41.900998   \n",
       "\n",
       "         lng  \n",
       "0 -87.626030  \n",
       "1 -87.623752  "
      ]
     },
     "execution_count": 90,
     "metadata": {},
     "output_type": "execute_result"
    }
   ],
   "source": [
    "\n",
    "df_departures=df[[\n",
    "                 \"start_station_name\",\n",
    "                 \"start_station_id\",\n",
    "                 \"hourly_data_started\"\t]]\n",
    "\n",
    "df_departures=df_departures.rename(columns={'hourly_data_started':'hourly_data',\n",
    "                                            \"start_station_name\":\"station_name\",\n",
    "                                            \"start_station_id\": \"station_id\"})\n",
    "\n",
    "df_departures.head(2)"
   ]
  },
  {
   "cell_type": "code",
   "execution_count": 91,
   "id": "75b836a6",
   "metadata": {},
   "outputs": [],
   "source": [
    "df_departures[\"nb_departures\"]=1"
   ]
  },
  {
   "cell_type": "code",
   "execution_count": 92,
   "id": "41a88c7e",
   "metadata": {},
   "outputs": [
    {
     "data": {
      "text/html": [
       "<div>\n",
       "<style scoped>\n",
       "    .dataframe tbody tr th:only-of-type {\n",
       "        vertical-align: middle;\n",
       "    }\n",
       "\n",
       "    .dataframe tbody tr th {\n",
       "        vertical-align: top;\n",
       "    }\n",
       "\n",
       "    .dataframe thead th {\n",
       "        text-align: right;\n",
       "    }\n",
       "</style>\n",
       "<table border=\"1\" class=\"dataframe\">\n",
       "  <thead>\n",
       "    <tr style=\"text-align: right;\">\n",
       "      <th></th>\n",
       "      <th>station_name</th>\n",
       "      <th>station_id</th>\n",
       "      <th>hourly_data</th>\n",
       "      <th>lat</th>\n",
       "      <th>lng</th>\n",
       "      <th>nb_departures</th>\n",
       "    </tr>\n",
       "  </thead>\n",
       "  <tbody>\n",
       "    <tr>\n",
       "      <th>0</th>\n",
       "      <td>2112 W Peterson Ave</td>\n",
       "      <td>KA1504000155</td>\n",
       "      <td>2022-01-01 21:00:00</td>\n",
       "      <td>41.991172</td>\n",
       "      <td>-87.683598</td>\n",
       "      <td>1</td>\n",
       "    </tr>\n",
       "    <tr>\n",
       "      <th>1</th>\n",
       "      <td>2112 W Peterson Ave</td>\n",
       "      <td>KA1504000155</td>\n",
       "      <td>2022-01-03 18:00:00</td>\n",
       "      <td>41.991181</td>\n",
       "      <td>-87.683610</td>\n",
       "      <td>1</td>\n",
       "    </tr>\n",
       "    <tr>\n",
       "      <th>2</th>\n",
       "      <td>2112 W Peterson Ave</td>\n",
       "      <td>KA1504000155</td>\n",
       "      <td>2022-01-04 11:00:00</td>\n",
       "      <td>41.991178</td>\n",
       "      <td>-87.683593</td>\n",
       "      <td>1</td>\n",
       "    </tr>\n",
       "    <tr>\n",
       "      <th>3</th>\n",
       "      <td>2112 W Peterson Ave</td>\n",
       "      <td>KA1504000155</td>\n",
       "      <td>2022-01-04 18:00:00</td>\n",
       "      <td>41.991174</td>\n",
       "      <td>-87.683614</td>\n",
       "      <td>1</td>\n",
       "    </tr>\n",
       "    <tr>\n",
       "      <th>4</th>\n",
       "      <td>2112 W Peterson Ave</td>\n",
       "      <td>KA1504000155</td>\n",
       "      <td>2022-01-10 09:00:00</td>\n",
       "      <td>41.991178</td>\n",
       "      <td>-87.683593</td>\n",
       "      <td>1</td>\n",
       "    </tr>\n",
       "    <tr>\n",
       "      <th>5</th>\n",
       "      <td>2112 W Peterson Ave</td>\n",
       "      <td>KA1504000155</td>\n",
       "      <td>2022-01-10 10:00:00</td>\n",
       "      <td>41.991178</td>\n",
       "      <td>-87.683593</td>\n",
       "      <td>1</td>\n",
       "    </tr>\n",
       "    <tr>\n",
       "      <th>6</th>\n",
       "      <td>2112 W Peterson Ave</td>\n",
       "      <td>KA1504000155</td>\n",
       "      <td>2022-01-12 16:00:00</td>\n",
       "      <td>41.991245</td>\n",
       "      <td>-87.683585</td>\n",
       "      <td>1</td>\n",
       "    </tr>\n",
       "    <tr>\n",
       "      <th>7</th>\n",
       "      <td>2112 W Peterson Ave</td>\n",
       "      <td>KA1504000155</td>\n",
       "      <td>2022-01-12 21:00:00</td>\n",
       "      <td>41.991121</td>\n",
       "      <td>-87.683548</td>\n",
       "      <td>1</td>\n",
       "    </tr>\n",
       "    <tr>\n",
       "      <th>8</th>\n",
       "      <td>2112 W Peterson Ave</td>\n",
       "      <td>KA1504000155</td>\n",
       "      <td>2022-01-13 16:00:00</td>\n",
       "      <td>41.991178</td>\n",
       "      <td>-87.683593</td>\n",
       "      <td>1</td>\n",
       "    </tr>\n",
       "    <tr>\n",
       "      <th>9</th>\n",
       "      <td>2112 W Peterson Ave</td>\n",
       "      <td>KA1504000155</td>\n",
       "      <td>2022-01-13 18:00:00</td>\n",
       "      <td>41.991132</td>\n",
       "      <td>-87.683474</td>\n",
       "      <td>1</td>\n",
       "    </tr>\n",
       "  </tbody>\n",
       "</table>\n",
       "</div>"
      ],
      "text/plain": [
       "          station_name    station_id         hourly_data        lat  \\\n",
       "0  2112 W Peterson Ave  KA1504000155 2022-01-01 21:00:00  41.991172   \n",
       "1  2112 W Peterson Ave  KA1504000155 2022-01-03 18:00:00  41.991181   \n",
       "2  2112 W Peterson Ave  KA1504000155 2022-01-04 11:00:00  41.991178   \n",
       "3  2112 W Peterson Ave  KA1504000155 2022-01-04 18:00:00  41.991174   \n",
       "4  2112 W Peterson Ave  KA1504000155 2022-01-10 09:00:00  41.991178   \n",
       "5  2112 W Peterson Ave  KA1504000155 2022-01-10 10:00:00  41.991178   \n",
       "6  2112 W Peterson Ave  KA1504000155 2022-01-12 16:00:00  41.991245   \n",
       "7  2112 W Peterson Ave  KA1504000155 2022-01-12 21:00:00  41.991121   \n",
       "8  2112 W Peterson Ave  KA1504000155 2022-01-13 16:00:00  41.991178   \n",
       "9  2112 W Peterson Ave  KA1504000155 2022-01-13 18:00:00  41.991132   \n",
       "\n",
       "         lng  nb_departures  \n",
       "0 -87.683598              1  \n",
       "1 -87.683610              1  \n",
       "2 -87.683593              1  \n",
       "3 -87.683614              1  \n",
       "4 -87.683593              1  \n",
       "5 -87.683593              1  \n",
       "6 -87.683585              1  \n",
       "7 -87.683548              1  \n",
       "8 -87.683593              1  \n",
       "9 -87.683474              1  "
      ]
     },
     "execution_count": 92,
     "metadata": {},
     "output_type": "execute_result"
    }
   ],
   "source": [
    "\n",
    "df_dep_agg=df_departures.groupby(by=[\"station_name\",\n",
    "                                        \"station_id\",\n",
    "                                        'hourly_data']).count().reset_index()\n",
    "df_dep_agg.head(10)\n"
   ]
  },
  {
   "cell_type": "code",
   "execution_count": 93,
   "id": "76b64168",
   "metadata": {},
   "outputs": [
    {
     "data": {
      "text/plain": [
       "1     270619\n",
       "2      30838\n",
       "3      10681\n",
       "4       4436\n",
       "5       2224\n",
       "6       1185\n",
       "7        673\n",
       "8        429\n",
       "9        275\n",
       "10       165\n",
       "11       121\n",
       "12        94\n",
       "13        61\n",
       "14        36\n",
       "15        35\n",
       "17        29\n",
       "16        25\n",
       "20        13\n",
       "25        10\n",
       "18        10\n",
       "21        10\n",
       "22         7\n",
       "19         6\n",
       "28         6\n",
       "24         5\n",
       "23         5\n",
       "27         5\n",
       "26         4\n",
       "29         3\n",
       "37         3\n",
       "41         3\n",
       "32         2\n",
       "56         2\n",
       "42         2\n",
       "33         2\n",
       "50         2\n",
       "38         2\n",
       "35         2\n",
       "34         2\n",
       "40         1\n",
       "66         1\n",
       "43         1\n",
       "45         1\n",
       "59         1\n",
       "49         1\n",
       "63         1\n",
       "65         1\n",
       "54         1\n",
       "71         1\n",
       "67         1\n",
       "39         1\n",
       "44         1\n",
       "52         1\n",
       "53         1\n",
       "Name: nb_departures, dtype: int64"
      ]
     },
     "execution_count": 93,
     "metadata": {},
     "output_type": "execute_result"
    }
   ],
   "source": [
    "df_dep_agg.nb_departures.value_counts()\n"
   ]
  },
  {
   "cell_type": "code",
   "execution_count": 45,
   "id": "d42b27ed",
   "metadata": {},
   "outputs": [
    {
     "data": {
      "text/plain": [
       "<AxesSubplot: xlabel='nb_departures', ylabel='Count'>"
      ]
     },
     "execution_count": 45,
     "metadata": {},
     "output_type": "execute_result"
    },
    {
     "data": {
      "image/png": "[encoded data removed]",
      "text/plain": [
       "<Figure size 640x480 with 1 Axes>"
      ]
     },
     "metadata": {},
     "output_type": "display_data"
    }
   ],
   "source": [
    "sns.histplot(df_dep_agg.nb_departures)"
   ]
  },
  {
   "cell_type": "markdown",
   "id": "fd11fa5c",
   "metadata": {},
   "source": [
    "# Nb of arrivals"
   ]
  },
  {
   "cell_type": "code",
   "execution_count": 55,
   "id": "28135a18",
   "metadata": {},
   "outputs": [
    {
     "data": {
      "text/html": [
       "<div>\n",
       "<style scoped>\n",
       "    .dataframe tbody tr th:only-of-type {\n",
       "        vertical-align: middle;\n",
       "    }\n",
       "\n",
       "    .dataframe tbody tr th {\n",
       "        vertical-align: top;\n",
       "    }\n",
       "\n",
       "    .dataframe thead th {\n",
       "        text-align: right;\n",
       "    }\n",
       "</style>\n",
       "<table border=\"1\" class=\"dataframe\">\n",
       "  <thead>\n",
       "    <tr style=\"text-align: right;\">\n",
       "      <th></th>\n",
       "      <th>station_name</th>\n",
       "      <th>station_id</th>\n",
       "      <th>hourly_data</th>\n",
       "      <th>nb_arrivals</th>\n",
       "    </tr>\n",
       "  </thead>\n",
       "  <tbody>\n",
       "    <tr>\n",
       "      <th>0</th>\n",
       "      <td>Kingsbury St &amp; Kinzie St</td>\n",
       "      <td>KA1503000043</td>\n",
       "      <td>2022-03-21 14:00:00</td>\n",
       "      <td>1</td>\n",
       "    </tr>\n",
       "    <tr>\n",
       "      <th>1</th>\n",
       "      <td>Orleans St &amp; Chestnut St (NEXT Apts)</td>\n",
       "      <td>620</td>\n",
       "      <td>2022-03-16 10:00:00</td>\n",
       "      <td>1</td>\n",
       "    </tr>\n",
       "  </tbody>\n",
       "</table>\n",
       "</div>"
      ],
      "text/plain": [
       "                           station_name    station_id         hourly_data  \\\n",
       "0              Kingsbury St & Kinzie St  KA1503000043 2022-03-21 14:00:00   \n",
       "1  Orleans St & Chestnut St (NEXT Apts)           620 2022-03-16 10:00:00   \n",
       "\n",
       "   nb_arrivals  \n",
       "0            1  \n",
       "1            1  "
      ]
     },
     "execution_count": 55,
     "metadata": {},
     "output_type": "execute_result"
    }
   ],
   "source": [
    "df_arrivals=df[[\"end_station_name\",\n",
    "                 \"end_station_id\",\n",
    "                 \"hourly_data_ended\"]]\n",
    "\n",
    "df_arrivals=df_arrivals.rename(columns={'hourly_data_ended':'hourly_data',\n",
    "                                        \"end_station_name\":\"station_name\",\n",
    "                                        \"end_station_id\": \"station_id\"\n",
    "                                        })\n",
    "df_arrivals[\"nb_arrivals\"]=1\n",
    "df_arrivals.head(2)"
   ]
  },
  {
   "cell_type": "code",
   "execution_count": 56,
   "id": "f18c20f8",
   "metadata": {},
   "outputs": [
    {
     "data": {
      "text/html": [
       "<div>\n",
       "<style scoped>\n",
       "    .dataframe tbody tr th:only-of-type {\n",
       "        vertical-align: middle;\n",
       "    }\n",
       "\n",
       "    .dataframe tbody tr th {\n",
       "        vertical-align: top;\n",
       "    }\n",
       "\n",
       "    .dataframe thead th {\n",
       "        text-align: right;\n",
       "    }\n",
       "</style>\n",
       "<table border=\"1\" class=\"dataframe\">\n",
       "  <thead>\n",
       "    <tr style=\"text-align: right;\">\n",
       "      <th></th>\n",
       "      <th>station_name</th>\n",
       "      <th>station_id</th>\n",
       "      <th>hourly_data</th>\n",
       "      <th>nb_arrivals</th>\n",
       "    </tr>\n",
       "  </thead>\n",
       "  <tbody>\n",
       "    <tr>\n",
       "      <th>0</th>\n",
       "      <td>2112 W Peterson Ave</td>\n",
       "      <td>KA1504000155</td>\n",
       "      <td>2022-01-01 07:00:00</td>\n",
       "      <td>1</td>\n",
       "    </tr>\n",
       "    <tr>\n",
       "      <th>1</th>\n",
       "      <td>2112 W Peterson Ave</td>\n",
       "      <td>KA1504000155</td>\n",
       "      <td>2022-01-03 02:00:00</td>\n",
       "      <td>1</td>\n",
       "    </tr>\n",
       "    <tr>\n",
       "      <th>2</th>\n",
       "      <td>2112 W Peterson Ave</td>\n",
       "      <td>KA1504000155</td>\n",
       "      <td>2022-01-03 06:00:00</td>\n",
       "      <td>1</td>\n",
       "    </tr>\n",
       "    <tr>\n",
       "      <th>3</th>\n",
       "      <td>2112 W Peterson Ave</td>\n",
       "      <td>KA1504000155</td>\n",
       "      <td>2022-01-03 15:00:00</td>\n",
       "      <td>1</td>\n",
       "    </tr>\n",
       "    <tr>\n",
       "      <th>4</th>\n",
       "      <td>2112 W Peterson Ave</td>\n",
       "      <td>KA1504000155</td>\n",
       "      <td>2022-01-03 18:00:00</td>\n",
       "      <td>1</td>\n",
       "    </tr>\n",
       "    <tr>\n",
       "      <th>5</th>\n",
       "      <td>2112 W Peterson Ave</td>\n",
       "      <td>KA1504000155</td>\n",
       "      <td>2022-01-04 01:00:00</td>\n",
       "      <td>1</td>\n",
       "    </tr>\n",
       "    <tr>\n",
       "      <th>6</th>\n",
       "      <td>2112 W Peterson Ave</td>\n",
       "      <td>KA1504000155</td>\n",
       "      <td>2022-01-04 06:00:00</td>\n",
       "      <td>1</td>\n",
       "    </tr>\n",
       "    <tr>\n",
       "      <th>7</th>\n",
       "      <td>2112 W Peterson Ave</td>\n",
       "      <td>KA1504000155</td>\n",
       "      <td>2022-01-08 01:00:00</td>\n",
       "      <td>1</td>\n",
       "    </tr>\n",
       "    <tr>\n",
       "      <th>8</th>\n",
       "      <td>2112 W Peterson Ave</td>\n",
       "      <td>KA1504000155</td>\n",
       "      <td>2022-01-09 20:00:00</td>\n",
       "      <td>1</td>\n",
       "    </tr>\n",
       "    <tr>\n",
       "      <th>9</th>\n",
       "      <td>2112 W Peterson Ave</td>\n",
       "      <td>KA1504000155</td>\n",
       "      <td>2022-01-13 01:00:00</td>\n",
       "      <td>1</td>\n",
       "    </tr>\n",
       "  </tbody>\n",
       "</table>\n",
       "</div>"
      ],
      "text/plain": [
       "          station_name    station_id         hourly_data  nb_arrivals\n",
       "0  2112 W Peterson Ave  KA1504000155 2022-01-01 07:00:00            1\n",
       "1  2112 W Peterson Ave  KA1504000155 2022-01-03 02:00:00            1\n",
       "2  2112 W Peterson Ave  KA1504000155 2022-01-03 06:00:00            1\n",
       "3  2112 W Peterson Ave  KA1504000155 2022-01-03 15:00:00            1\n",
       "4  2112 W Peterson Ave  KA1504000155 2022-01-03 18:00:00            1\n",
       "5  2112 W Peterson Ave  KA1504000155 2022-01-04 01:00:00            1\n",
       "6  2112 W Peterson Ave  KA1504000155 2022-01-04 06:00:00            1\n",
       "7  2112 W Peterson Ave  KA1504000155 2022-01-08 01:00:00            1\n",
       "8  2112 W Peterson Ave  KA1504000155 2022-01-09 20:00:00            1\n",
       "9  2112 W Peterson Ave  KA1504000155 2022-01-13 01:00:00            1"
      ]
     },
     "execution_count": 56,
     "metadata": {},
     "output_type": "execute_result"
    }
   ],
   "source": [
    "df_arr_agg=df_arrivals.groupby(by=[\"station_name\",\n",
    "                                        \"station_id\",\n",
    "                                        'hourly_data']).count().reset_index()\n",
    "df_arr_agg.head(10)"
   ]
  },
  {
   "cell_type": "code",
   "execution_count": 57,
   "id": "f90e32d0",
   "metadata": {},
   "outputs": [
    {
     "data": {
      "text/plain": [
       "1     146064\n",
       "2      45684\n",
       "3      18179\n",
       "4       8444\n",
       "5       4490\n",
       "       ...  \n",
       "62         1\n",
       "51         1\n",
       "55         1\n",
       "41         1\n",
       "40         1\n",
       "Name: nb_arrivals, Length: 64, dtype: int64"
      ]
     },
     "execution_count": 57,
     "metadata": {},
     "output_type": "execute_result"
    }
   ],
   "source": [
    "df_arr_agg.nb_arrivals.value_counts()\n"
   ]
  },
  {
   "cell_type": "code",
   "execution_count": 58,
   "id": "bc329156",
   "metadata": {},
   "outputs": [
    {
     "data": {
      "text/html": [
       "<div>\n",
       "<style scoped>\n",
       "    .dataframe tbody tr th:only-of-type {\n",
       "        vertical-align: middle;\n",
       "    }\n",
       "\n",
       "    .dataframe tbody tr th {\n",
       "        vertical-align: top;\n",
       "    }\n",
       "\n",
       "    .dataframe thead th {\n",
       "        text-align: right;\n",
       "    }\n",
       "</style>\n",
       "<table border=\"1\" class=\"dataframe\">\n",
       "  <thead>\n",
       "    <tr style=\"text-align: right;\">\n",
       "      <th></th>\n",
       "      <th>station_name</th>\n",
       "      <th>station_id</th>\n",
       "      <th>hourly_data</th>\n",
       "      <th>nb_departures</th>\n",
       "      <th>nb_arrivals</th>\n",
       "      <th>ratio</th>\n",
       "    </tr>\n",
       "  </thead>\n",
       "  <tbody>\n",
       "    <tr>\n",
       "      <th>0</th>\n",
       "      <td>2112 W Peterson Ave</td>\n",
       "      <td>KA1504000155</td>\n",
       "      <td>2022-01-01 21:00:00</td>\n",
       "      <td>1.0</td>\n",
       "      <td>0.0</td>\n",
       "      <td>inf</td>\n",
       "    </tr>\n",
       "    <tr>\n",
       "      <th>1</th>\n",
       "      <td>2112 W Peterson Ave</td>\n",
       "      <td>KA1504000155</td>\n",
       "      <td>2022-01-03 18:00:00</td>\n",
       "      <td>1.0</td>\n",
       "      <td>1.0</td>\n",
       "      <td>1.0</td>\n",
       "    </tr>\n",
       "    <tr>\n",
       "      <th>2</th>\n",
       "      <td>2112 W Peterson Ave</td>\n",
       "      <td>KA1504000155</td>\n",
       "      <td>2022-01-04 11:00:00</td>\n",
       "      <td>1.0</td>\n",
       "      <td>0.0</td>\n",
       "      <td>inf</td>\n",
       "    </tr>\n",
       "    <tr>\n",
       "      <th>3</th>\n",
       "      <td>2112 W Peterson Ave</td>\n",
       "      <td>KA1504000155</td>\n",
       "      <td>2022-01-04 18:00:00</td>\n",
       "      <td>1.0</td>\n",
       "      <td>0.0</td>\n",
       "      <td>inf</td>\n",
       "    </tr>\n",
       "    <tr>\n",
       "      <th>4</th>\n",
       "      <td>2112 W Peterson Ave</td>\n",
       "      <td>KA1504000155</td>\n",
       "      <td>2022-01-10 09:00:00</td>\n",
       "      <td>1.0</td>\n",
       "      <td>0.0</td>\n",
       "      <td>inf</td>\n",
       "    </tr>\n",
       "    <tr>\n",
       "      <th>5</th>\n",
       "      <td>2112 W Peterson Ave</td>\n",
       "      <td>KA1504000155</td>\n",
       "      <td>2022-01-10 10:00:00</td>\n",
       "      <td>1.0</td>\n",
       "      <td>0.0</td>\n",
       "      <td>inf</td>\n",
       "    </tr>\n",
       "    <tr>\n",
       "      <th>6</th>\n",
       "      <td>2112 W Peterson Ave</td>\n",
       "      <td>KA1504000155</td>\n",
       "      <td>2022-01-12 16:00:00</td>\n",
       "      <td>1.0</td>\n",
       "      <td>0.0</td>\n",
       "      <td>inf</td>\n",
       "    </tr>\n",
       "    <tr>\n",
       "      <th>7</th>\n",
       "      <td>2112 W Peterson Ave</td>\n",
       "      <td>KA1504000155</td>\n",
       "      <td>2022-01-12 21:00:00</td>\n",
       "      <td>1.0</td>\n",
       "      <td>0.0</td>\n",
       "      <td>inf</td>\n",
       "    </tr>\n",
       "    <tr>\n",
       "      <th>8</th>\n",
       "      <td>2112 W Peterson Ave</td>\n",
       "      <td>KA1504000155</td>\n",
       "      <td>2022-01-13 16:00:00</td>\n",
       "      <td>1.0</td>\n",
       "      <td>1.0</td>\n",
       "      <td>1.0</td>\n",
       "    </tr>\n",
       "    <tr>\n",
       "      <th>9</th>\n",
       "      <td>2112 W Peterson Ave</td>\n",
       "      <td>KA1504000155</td>\n",
       "      <td>2022-01-13 18:00:00</td>\n",
       "      <td>1.0</td>\n",
       "      <td>1.0</td>\n",
       "      <td>1.0</td>\n",
       "    </tr>\n",
       "  </tbody>\n",
       "</table>\n",
       "</div>"
      ],
      "text/plain": [
       "          station_name    station_id         hourly_data  nb_departures  \\\n",
       "0  2112 W Peterson Ave  KA1504000155 2022-01-01 21:00:00            1.0   \n",
       "1  2112 W Peterson Ave  KA1504000155 2022-01-03 18:00:00            1.0   \n",
       "2  2112 W Peterson Ave  KA1504000155 2022-01-04 11:00:00            1.0   \n",
       "3  2112 W Peterson Ave  KA1504000155 2022-01-04 18:00:00            1.0   \n",
       "4  2112 W Peterson Ave  KA1504000155 2022-01-10 09:00:00            1.0   \n",
       "5  2112 W Peterson Ave  KA1504000155 2022-01-10 10:00:00            1.0   \n",
       "6  2112 W Peterson Ave  KA1504000155 2022-01-12 16:00:00            1.0   \n",
       "7  2112 W Peterson Ave  KA1504000155 2022-01-12 21:00:00            1.0   \n",
       "8  2112 W Peterson Ave  KA1504000155 2022-01-13 16:00:00            1.0   \n",
       "9  2112 W Peterson Ave  KA1504000155 2022-01-13 18:00:00            1.0   \n",
       "\n",
       "   nb_arrivals  ratio  \n",
       "0          0.0    inf  \n",
       "1          1.0    1.0  \n",
       "2          0.0    inf  \n",
       "3          0.0    inf  \n",
       "4          0.0    inf  \n",
       "5          0.0    inf  \n",
       "6          0.0    inf  \n",
       "7          0.0    inf  \n",
       "8          1.0    1.0  \n",
       "9          1.0    1.0  "
      ]
     },
     "execution_count": 58,
     "metadata": {},
     "output_type": "execute_result"
    }
   ],
   "source": [
    "merge_ratio=pd.merge(\n",
    "df_dep_agg,\n",
    "df_arr_agg,\n",
    "how=\"outer\",\n",
    "on=['hourly_data',\"station_name\",\"station_id\"])\n",
    "\n",
    "\n",
    "merge_ratio[\"nb_departures\"] = merge_ratio[\"nb_departures\"].replace(np.nan, 0)\n",
    "merge_ratio[\"nb_arrivals\"] = merge_ratio[\"nb_arrivals\"].replace(np.nan, 0)\n",
    "\n",
    "merge_ratio['ratio']=merge_ratio['nb_departures']/merge_ratio['nb_arrivals']\n",
    "merge_ratio.head(10)"
   ]
  },
  {
   "cell_type": "code",
   "execution_count": 59,
   "id": "65892088",
   "metadata": {},
   "outputs": [
    {
     "data": {
      "text/plain": [
       "(344946, 6)"
      ]
     },
     "execution_count": 59,
     "metadata": {},
     "output_type": "execute_result"
    }
   ],
   "source": [
    "merge_ratio.shape"
   ]
  },
  {
   "cell_type": "code",
   "execution_count": 12,
   "id": "7d0df2d7",
   "metadata": {},
   "outputs": [],
   "source": [
    "def cleaning_divvy_gen(df):\n",
    "\n",
    "    df['started_at']=pd.to_datetime(df['started_at'])\n",
    "    df['ended_at']=pd.to_datetime(df['ended_at'])\n",
    "    df['hourly_data_started'] = df.started_at.dt.round('60min')\n",
    "    df['hourly_data_ended'] = df.ended_at.dt.round('60min')\n",
    "\n",
    "    df_departures=df[[\n",
    "                    \"start_station_name\",\n",
    "                    \"start_station_id\",\n",
    "                    \"hourly_data_started\"]]\n",
    "\n",
    "    df_departures=df_departures.rename(columns={'hourly_data_started':'hourly_data',\n",
    "                                                \"start_station_name\":\"station_name\",\n",
    "                                                \"start_station_id\": \"station_id\"})\n",
    "\n",
    "    df_departures[\"nb_departures\"]=1\n",
    "    \n",
    "    df_dep_agg=df_departures.groupby(by=[\"station_name\",\n",
    "                                        \"station_id\",\n",
    "                                        'hourly_data']).count().reset_index()\n",
    "    \n",
    "    \n",
    "    df_arrivals=df[[\"end_station_name\",\n",
    "                 \"end_station_id\",\n",
    "                 \"hourly_data_ended\"]]\n",
    "\n",
    "    df_arrivals=df_arrivals.rename(columns={'hourly_data_ended':'hourly_data',\n",
    "                                            \"end_station_name\":\"station_name\",\n",
    "                                            \"end_station_id\": \"station_id\"})\n",
    "    df_arrivals[\"nb_arrivals\"]=1\n",
    "\n",
    "    df_arr_agg=df_arrivals.groupby(by=[\"station_name\",\n",
    "                                            \"station_id\",\n",
    "                                            'hourly_data']).count().reset_index()\n",
    "    \n",
    "    merge_ratio=pd.merge(\n",
    "    df_dep_agg,\n",
    "    df_arr_agg,\n",
    "    how=\"outer\",\n",
    "    on=['hourly_data',\"station_name\",\"station_id\"])\n",
    "\n",
    "\n",
    "    merge_ratio[\"nb_departures\"] = merge_ratio[\"nb_departures\"].replace(np.nan, 0)\n",
    "    merge_ratio[\"nb_arrivals\"] = merge_ratio[\"nb_arrivals\"].replace(np.nan, 0)\n",
    "\n",
    "    merge_ratio['ratio']=merge_ratio['nb_departures']/merge_ratio['nb_arrivals']\n",
    "\n",
    "    return merge_ratio    "
   ]
  },
  {
   "cell_type": "code",
   "execution_count": 13,
   "id": "d7e1d7c5",
   "metadata": {},
   "outputs": [
    {
     "data": {
      "text/html": [
       "<div>\n",
       "<style scoped>\n",
       "    .dataframe tbody tr th:only-of-type {\n",
       "        vertical-align: middle;\n",
       "    }\n",
       "\n",
       "    .dataframe tbody tr th {\n",
       "        vertical-align: top;\n",
       "    }\n",
       "\n",
       "    .dataframe thead th {\n",
       "        text-align: right;\n",
       "    }\n",
       "</style>\n",
       "<table border=\"1\" class=\"dataframe\">\n",
       "  <thead>\n",
       "    <tr style=\"text-align: right;\">\n",
       "      <th></th>\n",
       "      <th>station_name</th>\n",
       "      <th>station_id</th>\n",
       "      <th>hourly_data</th>\n",
       "      <th>nb_departures</th>\n",
       "      <th>nb_arrivals</th>\n",
       "      <th>ratio</th>\n",
       "    </tr>\n",
       "  </thead>\n",
       "  <tbody>\n",
       "    <tr>\n",
       "      <th>0</th>\n",
       "      <td>2112 W Peterson Ave</td>\n",
       "      <td>KA1504000155</td>\n",
       "      <td>2022-01-01 21:00:00</td>\n",
       "      <td>1.0</td>\n",
       "      <td>0.0</td>\n",
       "      <td>inf</td>\n",
       "    </tr>\n",
       "    <tr>\n",
       "      <th>1</th>\n",
       "      <td>2112 W Peterson Ave</td>\n",
       "      <td>KA1504000155</td>\n",
       "      <td>2022-01-03 18:00:00</td>\n",
       "      <td>1.0</td>\n",
       "      <td>1.0</td>\n",
       "      <td>1.0</td>\n",
       "    </tr>\n",
       "    <tr>\n",
       "      <th>2</th>\n",
       "      <td>2112 W Peterson Ave</td>\n",
       "      <td>KA1504000155</td>\n",
       "      <td>2022-01-04 11:00:00</td>\n",
       "      <td>1.0</td>\n",
       "      <td>0.0</td>\n",
       "      <td>inf</td>\n",
       "    </tr>\n",
       "    <tr>\n",
       "      <th>3</th>\n",
       "      <td>2112 W Peterson Ave</td>\n",
       "      <td>KA1504000155</td>\n",
       "      <td>2022-01-04 18:00:00</td>\n",
       "      <td>1.0</td>\n",
       "      <td>0.0</td>\n",
       "      <td>inf</td>\n",
       "    </tr>\n",
       "    <tr>\n",
       "      <th>4</th>\n",
       "      <td>2112 W Peterson Ave</td>\n",
       "      <td>KA1504000155</td>\n",
       "      <td>2022-01-10 09:00:00</td>\n",
       "      <td>1.0</td>\n",
       "      <td>0.0</td>\n",
       "      <td>inf</td>\n",
       "    </tr>\n",
       "  </tbody>\n",
       "</table>\n",
       "</div>"
      ],
      "text/plain": [
       "          station_name    station_id         hourly_data  nb_departures  \\\n",
       "0  2112 W Peterson Ave  KA1504000155 2022-01-01 21:00:00            1.0   \n",
       "1  2112 W Peterson Ave  KA1504000155 2022-01-03 18:00:00            1.0   \n",
       "2  2112 W Peterson Ave  KA1504000155 2022-01-04 11:00:00            1.0   \n",
       "3  2112 W Peterson Ave  KA1504000155 2022-01-04 18:00:00            1.0   \n",
       "4  2112 W Peterson Ave  KA1504000155 2022-01-10 09:00:00            1.0   \n",
       "\n",
       "   nb_arrivals  ratio  \n",
       "0          0.0    inf  \n",
       "1          1.0    1.0  \n",
       "2          0.0    inf  \n",
       "3          0.0    inf  \n",
       "4          0.0    inf  "
      ]
     },
     "execution_count": 13,
     "metadata": {},
     "output_type": "execute_result"
    }
   ],
   "source": [
    "test_divvy_df = cleaning_divvy_gen(df)\n",
    "test_divvy_df.head(5)"
   ]
  },
  {
   "cell_type": "code",
   "execution_count": 14,
   "id": "55fbf34e",
   "metadata": {},
   "outputs": [
    {
     "data": {
      "text/plain": [
       "(344946, 6)"
      ]
     },
     "execution_count": 14,
     "metadata": {},
     "output_type": "execute_result"
    }
   ],
   "source": [
    "test_divvy_df.shape"
   ]
  },
  {
   "cell_type": "markdown",
   "id": "7e3450a4",
   "metadata": {},
   "source": [
    "# Merging this consolidated Divvy dataset with Weather data"
   ]
  },
  {
   "cell_type": "markdown",
   "id": "0f63c80d",
   "metadata": {},
   "source": [
    "## Importing and cleaning Weather data"
   ]
  },
  {
   "cell_type": "code",
   "execution_count": 15,
   "id": "83264fda",
   "metadata": {},
   "outputs": [],
   "source": [
    "raw_weather_df = get_weather_data()\n",
    "clean_weather_df = weather_cleaning(raw_weather_df)\n"
   ]
  },
  {
   "cell_type": "code",
   "execution_count": 16,
   "id": "75663796",
   "metadata": {},
   "outputs": [
    {
     "data": {
      "text/html": [
       "<div>\n",
       "<style scoped>\n",
       "    .dataframe tbody tr th:only-of-type {\n",
       "        vertical-align: middle;\n",
       "    }\n",
       "\n",
       "    .dataframe tbody tr th {\n",
       "        vertical-align: top;\n",
       "    }\n",
       "\n",
       "    .dataframe thead th {\n",
       "        text-align: right;\n",
       "    }\n",
       "</style>\n",
       "<table border=\"1\" class=\"dataframe\">\n",
       "  <thead>\n",
       "    <tr style=\"text-align: right;\">\n",
       "      <th></th>\n",
       "      <th>dt_iso</th>\n",
       "      <th>temp</th>\n",
       "      <th>pressure</th>\n",
       "      <th>humidity</th>\n",
       "      <th>wind_speed</th>\n",
       "      <th>wind_deg</th>\n",
       "      <th>clouds_all</th>\n",
       "      <th>hourly_data</th>\n",
       "    </tr>\n",
       "  </thead>\n",
       "  <tbody>\n",
       "    <tr>\n",
       "      <th>0</th>\n",
       "      <td>2013-01-01 00:00:00</td>\n",
       "      <td>-2.87</td>\n",
       "      <td>1018</td>\n",
       "      <td>68</td>\n",
       "      <td>4.12</td>\n",
       "      <td>300</td>\n",
       "      <td>100</td>\n",
       "      <td>2013-01-01 00:00:00</td>\n",
       "    </tr>\n",
       "    <tr>\n",
       "      <th>1</th>\n",
       "      <td>2013-01-01 01:00:00</td>\n",
       "      <td>-3.12</td>\n",
       "      <td>1019</td>\n",
       "      <td>69</td>\n",
       "      <td>3.10</td>\n",
       "      <td>310</td>\n",
       "      <td>100</td>\n",
       "      <td>2013-01-01 01:00:00</td>\n",
       "    </tr>\n",
       "  </tbody>\n",
       "</table>\n",
       "</div>"
      ],
      "text/plain": [
       "               dt_iso  temp  pressure  humidity  wind_speed  wind_deg  \\\n",
       "0 2013-01-01 00:00:00 -2.87      1018        68        4.12       300   \n",
       "1 2013-01-01 01:00:00 -3.12      1019        69        3.10       310   \n",
       "\n",
       "   clouds_all         hourly_data  \n",
       "0         100 2013-01-01 00:00:00  \n",
       "1         100 2013-01-01 01:00:00  "
      ]
     },
     "execution_count": 16,
     "metadata": {},
     "output_type": "execute_result"
    }
   ],
   "source": [
    "clean_weather_df.head(2)"
   ]
  },
  {
   "cell_type": "markdown",
   "id": "5b0b63d0",
   "metadata": {},
   "source": [
    "## Merging Weather and Divvy data"
   ]
  },
  {
   "cell_type": "code",
   "execution_count": 17,
   "id": "ec84f333",
   "metadata": {},
   "outputs": [
    {
     "data": {
      "text/plain": [
       "(344946, 13)"
      ]
     },
     "execution_count": 17,
     "metadata": {},
     "output_type": "execute_result"
    }
   ],
   "source": [
    "merged_df = merge_divvy_weather(test_divvy_df, clean_weather_df)\n",
    "merged_df.shape"
   ]
  },
  {
   "cell_type": "code",
   "execution_count": 18,
   "id": "66c76b51",
   "metadata": {},
   "outputs": [
    {
     "data": {
      "text/html": [
       "<div>\n",
       "<style scoped>\n",
       "    .dataframe tbody tr th:only-of-type {\n",
       "        vertical-align: middle;\n",
       "    }\n",
       "\n",
       "    .dataframe tbody tr th {\n",
       "        vertical-align: top;\n",
       "    }\n",
       "\n",
       "    .dataframe thead th {\n",
       "        text-align: right;\n",
       "    }\n",
       "</style>\n",
       "<table border=\"1\" class=\"dataframe\">\n",
       "  <thead>\n",
       "    <tr style=\"text-align: right;\">\n",
       "      <th></th>\n",
       "      <th>station_name</th>\n",
       "      <th>station_id</th>\n",
       "      <th>hourly_data</th>\n",
       "      <th>nb_departures</th>\n",
       "      <th>nb_arrivals</th>\n",
       "      <th>ratio</th>\n",
       "      <th>dt_iso</th>\n",
       "      <th>temp</th>\n",
       "      <th>pressure</th>\n",
       "      <th>humidity</th>\n",
       "      <th>wind_speed</th>\n",
       "      <th>wind_deg</th>\n",
       "      <th>clouds_all</th>\n",
       "    </tr>\n",
       "  </thead>\n",
       "  <tbody>\n",
       "    <tr>\n",
       "      <th>0</th>\n",
       "      <td>2112 W Peterson Ave</td>\n",
       "      <td>KA1504000155</td>\n",
       "      <td>2022-01-01 21:00:00</td>\n",
       "      <td>1.0</td>\n",
       "      <td>0.0</td>\n",
       "      <td>inf</td>\n",
       "      <td>2022-01-01 21:00:00</td>\n",
       "      <td>-0.75</td>\n",
       "      <td>1010</td>\n",
       "      <td>93</td>\n",
       "      <td>4.92</td>\n",
       "      <td>20</td>\n",
       "      <td>100</td>\n",
       "    </tr>\n",
       "    <tr>\n",
       "      <th>1</th>\n",
       "      <td>2112 W Peterson Ave</td>\n",
       "      <td>KA1504000155</td>\n",
       "      <td>2022-01-03 18:00:00</td>\n",
       "      <td>1.0</td>\n",
       "      <td>1.0</td>\n",
       "      <td>1.0</td>\n",
       "      <td>2022-01-03 18:00:00</td>\n",
       "      <td>-6.55</td>\n",
       "      <td>1030</td>\n",
       "      <td>49</td>\n",
       "      <td>3.13</td>\n",
       "      <td>253</td>\n",
       "      <td>0</td>\n",
       "    </tr>\n",
       "    <tr>\n",
       "      <th>2</th>\n",
       "      <td>2112 W Peterson Ave</td>\n",
       "      <td>KA1504000155</td>\n",
       "      <td>2022-01-04 11:00:00</td>\n",
       "      <td>1.0</td>\n",
       "      <td>0.0</td>\n",
       "      <td>inf</td>\n",
       "      <td>2022-01-04 11:00:00</td>\n",
       "      <td>-5.02</td>\n",
       "      <td>1021</td>\n",
       "      <td>79</td>\n",
       "      <td>4.12</td>\n",
       "      <td>190</td>\n",
       "      <td>40</td>\n",
       "    </tr>\n",
       "    <tr>\n",
       "      <th>3</th>\n",
       "      <td>2112 W Peterson Ave</td>\n",
       "      <td>KA1504000155</td>\n",
       "      <td>2022-01-04 18:00:00</td>\n",
       "      <td>1.0</td>\n",
       "      <td>0.0</td>\n",
       "      <td>inf</td>\n",
       "      <td>2022-01-04 18:00:00</td>\n",
       "      <td>-0.39</td>\n",
       "      <td>1017</td>\n",
       "      <td>70</td>\n",
       "      <td>4.02</td>\n",
       "      <td>204</td>\n",
       "      <td>99</td>\n",
       "    </tr>\n",
       "    <tr>\n",
       "      <th>4</th>\n",
       "      <td>2112 W Peterson Ave</td>\n",
       "      <td>KA1504000155</td>\n",
       "      <td>2022-01-10 09:00:00</td>\n",
       "      <td>1.0</td>\n",
       "      <td>0.0</td>\n",
       "      <td>inf</td>\n",
       "      <td>2022-01-10 09:00:00</td>\n",
       "      <td>-10.37</td>\n",
       "      <td>1034</td>\n",
       "      <td>58</td>\n",
       "      <td>2.24</td>\n",
       "      <td>301</td>\n",
       "      <td>98</td>\n",
       "    </tr>\n",
       "  </tbody>\n",
       "</table>\n",
       "</div>"
      ],
      "text/plain": [
       "          station_name    station_id         hourly_data  nb_departures  \\\n",
       "0  2112 W Peterson Ave  KA1504000155 2022-01-01 21:00:00            1.0   \n",
       "1  2112 W Peterson Ave  KA1504000155 2022-01-03 18:00:00            1.0   \n",
       "2  2112 W Peterson Ave  KA1504000155 2022-01-04 11:00:00            1.0   \n",
       "3  2112 W Peterson Ave  KA1504000155 2022-01-04 18:00:00            1.0   \n",
       "4  2112 W Peterson Ave  KA1504000155 2022-01-10 09:00:00            1.0   \n",
       "\n",
       "   nb_arrivals  ratio              dt_iso   temp  pressure  humidity  \\\n",
       "0          0.0    inf 2022-01-01 21:00:00  -0.75      1010        93   \n",
       "1          1.0    1.0 2022-01-03 18:00:00  -6.55      1030        49   \n",
       "2          0.0    inf 2022-01-04 11:00:00  -5.02      1021        79   \n",
       "3          0.0    inf 2022-01-04 18:00:00  -0.39      1017        70   \n",
       "4          0.0    inf 2022-01-10 09:00:00 -10.37      1034        58   \n",
       "\n",
       "   wind_speed  wind_deg  clouds_all  \n",
       "0        4.92        20         100  \n",
       "1        3.13       253           0  \n",
       "2        4.12       190          40  \n",
       "3        4.02       204          99  \n",
       "4        2.24       301          98  "
      ]
     },
     "execution_count": 18,
     "metadata": {},
     "output_type": "execute_result"
    }
   ],
   "source": [
    "merged_df.head(5)"
   ]
  },
  {
   "cell_type": "markdown",
   "id": "b577ac53",
   "metadata": {},
   "source": [
    "# Getting features and target dataset (target = nb_arrivals)"
   ]
  },
  {
   "cell_type": "code",
   "execution_count": 19,
   "id": "253c27fd",
   "metadata": {},
   "outputs": [],
   "source": [
    "target =\"nb_arrivals\""
   ]
  },
  {
   "cell_type": "code",
   "execution_count": 20,
   "id": "e9fb9848",
   "metadata": {},
   "outputs": [],
   "source": [
    "X,y = features_target(merged_df, target)"
   ]
  },
  {
   "cell_type": "code",
   "execution_count": 21,
   "id": "987a1624",
   "metadata": {},
   "outputs": [
    {
     "data": {
      "text/html": [
       "<div>\n",
       "<style scoped>\n",
       "    .dataframe tbody tr th:only-of-type {\n",
       "        vertical-align: middle;\n",
       "    }\n",
       "\n",
       "    .dataframe tbody tr th {\n",
       "        vertical-align: top;\n",
       "    }\n",
       "\n",
       "    .dataframe thead th {\n",
       "        text-align: right;\n",
       "    }\n",
       "</style>\n",
       "<table border=\"1\" class=\"dataframe\">\n",
       "  <thead>\n",
       "    <tr style=\"text-align: right;\">\n",
       "      <th></th>\n",
       "      <th>station_name</th>\n",
       "      <th>station_id</th>\n",
       "      <th>hourly_data</th>\n",
       "      <th>dt_iso</th>\n",
       "      <th>temp</th>\n",
       "      <th>pressure</th>\n",
       "      <th>humidity</th>\n",
       "      <th>wind_speed</th>\n",
       "      <th>wind_deg</th>\n",
       "      <th>clouds_all</th>\n",
       "    </tr>\n",
       "  </thead>\n",
       "  <tbody>\n",
       "    <tr>\n",
       "      <th>0</th>\n",
       "      <td>2112 W Peterson Ave</td>\n",
       "      <td>KA1504000155</td>\n",
       "      <td>2022-01-01 21:00:00</td>\n",
       "      <td>2022-01-01 21:00:00</td>\n",
       "      <td>-0.75</td>\n",
       "      <td>1010</td>\n",
       "      <td>93</td>\n",
       "      <td>4.92</td>\n",
       "      <td>20</td>\n",
       "      <td>100</td>\n",
       "    </tr>\n",
       "    <tr>\n",
       "      <th>1</th>\n",
       "      <td>2112 W Peterson Ave</td>\n",
       "      <td>KA1504000155</td>\n",
       "      <td>2022-01-03 18:00:00</td>\n",
       "      <td>2022-01-03 18:00:00</td>\n",
       "      <td>-6.55</td>\n",
       "      <td>1030</td>\n",
       "      <td>49</td>\n",
       "      <td>3.13</td>\n",
       "      <td>253</td>\n",
       "      <td>0</td>\n",
       "    </tr>\n",
       "  </tbody>\n",
       "</table>\n",
       "</div>"
      ],
      "text/plain": [
       "          station_name    station_id         hourly_data              dt_iso  \\\n",
       "0  2112 W Peterson Ave  KA1504000155 2022-01-01 21:00:00 2022-01-01 21:00:00   \n",
       "1  2112 W Peterson Ave  KA1504000155 2022-01-03 18:00:00 2022-01-03 18:00:00   \n",
       "\n",
       "   temp  pressure  humidity  wind_speed  wind_deg  clouds_all  \n",
       "0 -0.75      1010        93        4.92        20         100  \n",
       "1 -6.55      1030        49        3.13       253           0  "
      ]
     },
     "execution_count": 21,
     "metadata": {},
     "output_type": "execute_result"
    }
   ],
   "source": [
    "X.head(2)"
   ]
  },
  {
   "cell_type": "code",
   "execution_count": 22,
   "id": "f0fdd436",
   "metadata": {},
   "outputs": [
    {
     "data": {
      "text/plain": [
       "0    0.0\n",
       "1    1.0\n",
       "Name: nb_arrivals, dtype: float64"
      ]
     },
     "execution_count": 22,
     "metadata": {},
     "output_type": "execute_result"
    }
   ],
   "source": [
    "y.head(2)"
   ]
  },
  {
   "cell_type": "code",
   "execution_count": 23,
   "id": "929c3092",
   "metadata": {},
   "outputs": [],
   "source": [
    "from ml_logic.data_import import get_station_data"
   ]
  },
  {
   "cell_type": "code",
   "execution_count": 28,
   "id": "5b17b662",
   "metadata": {},
   "outputs": [],
   "source": [
    "station_df = get_station_data()"
   ]
  },
  {
   "cell_type": "code",
   "execution_count": 30,
   "id": "a8658037",
   "metadata": {},
   "outputs": [
    {
     "name": "stderr",
     "output_type": "stream",
     "text": [
      "/tmp/ipykernel_16004/4287912403.py:2: SettingWithCopyWarning: \n",
      "A value is trying to be set on a copy of a slice from a DataFrame\n",
      "\n",
      "See the caveats in the documentation: https://pandas.pydata.org/pandas-docs/stable/user_guide/indexing.html#returning-a-view-versus-a-copy\n",
      "  station_df_reduced.rename(columns={\"name\":\"station_name\",\n"
     ]
    },
    {
     "data": {
      "text/html": [
       "<div>\n",
       "<style scoped>\n",
       "    .dataframe tbody tr th:only-of-type {\n",
       "        vertical-align: middle;\n",
       "    }\n",
       "\n",
       "    .dataframe tbody tr th {\n",
       "        vertical-align: top;\n",
       "    }\n",
       "\n",
       "    .dataframe thead th {\n",
       "        text-align: right;\n",
       "    }\n",
       "</style>\n",
       "<table border=\"1\" class=\"dataframe\">\n",
       "  <thead>\n",
       "    <tr style=\"text-align: right;\">\n",
       "      <th></th>\n",
       "      <th>station_name</th>\n",
       "      <th>station_id</th>\n",
       "      <th>lat</th>\n",
       "      <th>lon</th>\n",
       "    </tr>\n",
       "  </thead>\n",
       "  <tbody>\n",
       "    <tr>\n",
       "      <th>0</th>\n",
       "      <td>Central Ave &amp; Harrison St</td>\n",
       "      <td>541</td>\n",
       "      <td>41.872993</td>\n",
       "      <td>-87.764499</td>\n",
       "    </tr>\n",
       "    <tr>\n",
       "      <th>1</th>\n",
       "      <td>Halsted St &amp; 59th St</td>\n",
       "      <td>593</td>\n",
       "      <td>41.787539</td>\n",
       "      <td>-87.644874</td>\n",
       "    </tr>\n",
       "  </tbody>\n",
       "</table>\n",
       "</div>"
      ],
      "text/plain": [
       "                station_name station_id        lat        lon\n",
       "0  Central Ave & Harrison St        541  41.872993 -87.764499\n",
       "1       Halsted St & 59th St        593  41.787539 -87.644874"
      ]
     },
     "execution_count": 30,
     "metadata": {},
     "output_type": "execute_result"
    }
   ],
   "source": [
    "station_df_reduced  = station_df[[\"name\",\"legacy_id\",\"lat\",\"lon\"]]\n",
    "station_df_reduced.rename(columns={\"name\":\"station_name\",\n",
    "                                   \"legacy_id\":\"station_id\"\n",
    "                                   \n",
    "    }, inplace=True)\n",
    "station_df_reduced.head(2)"
   ]
  },
  {
   "cell_type": "code",
   "execution_count": 32,
   "id": "9b71c29f",
   "metadata": {},
   "outputs": [
    {
     "name": "stdout",
     "output_type": "stream",
     "text": [
      "(344946, 10)\n",
      "(344946, 12)\n"
     ]
    }
   ],
   "source": [
    "X_complete = X.merge(station_df_reduced,how=\"left\",on=[\"station_name\",\"station_id\"])\n",
    "print(X.shape)\n",
    "print(X_complete.shape)"
   ]
  },
  {
   "cell_type": "code",
   "execution_count": 43,
   "id": "a2780b4f",
   "metadata": {},
   "outputs": [
    {
     "data": {
      "text/html": [
       "<div>\n",
       "<style scoped>\n",
       "    .dataframe tbody tr th:only-of-type {\n",
       "        vertical-align: middle;\n",
       "    }\n",
       "\n",
       "    .dataframe tbody tr th {\n",
       "        vertical-align: top;\n",
       "    }\n",
       "\n",
       "    .dataframe thead th {\n",
       "        text-align: right;\n",
       "    }\n",
       "</style>\n",
       "<table border=\"1\" class=\"dataframe\">\n",
       "  <thead>\n",
       "    <tr style=\"text-align: right;\">\n",
       "      <th></th>\n",
       "      <th>station_name</th>\n",
       "      <th>station_id</th>\n",
       "      <th>hourly_data</th>\n",
       "      <th>dt_iso</th>\n",
       "      <th>temp</th>\n",
       "      <th>pressure</th>\n",
       "      <th>humidity</th>\n",
       "      <th>wind_speed</th>\n",
       "      <th>wind_deg</th>\n",
       "      <th>clouds_all</th>\n",
       "      <th>lat</th>\n",
       "      <th>lon</th>\n",
       "    </tr>\n",
       "  </thead>\n",
       "  <tbody>\n",
       "    <tr>\n",
       "      <th>0</th>\n",
       "      <td>2112 W Peterson Ave</td>\n",
       "      <td>KA1504000155</td>\n",
       "      <td>2022-01-01 21:00:00</td>\n",
       "      <td>2022-01-01 21:00:00</td>\n",
       "      <td>-0.75</td>\n",
       "      <td>1010</td>\n",
       "      <td>93</td>\n",
       "      <td>4.92</td>\n",
       "      <td>20</td>\n",
       "      <td>100</td>\n",
       "      <td>NaN</td>\n",
       "      <td>NaN</td>\n",
       "    </tr>\n",
       "    <tr>\n",
       "      <th>1</th>\n",
       "      <td>2112 W Peterson Ave</td>\n",
       "      <td>KA1504000155</td>\n",
       "      <td>2022-01-03 18:00:00</td>\n",
       "      <td>2022-01-03 18:00:00</td>\n",
       "      <td>-6.55</td>\n",
       "      <td>1030</td>\n",
       "      <td>49</td>\n",
       "      <td>3.13</td>\n",
       "      <td>253</td>\n",
       "      <td>0</td>\n",
       "      <td>NaN</td>\n",
       "      <td>NaN</td>\n",
       "    </tr>\n",
       "  </tbody>\n",
       "</table>\n",
       "</div>"
      ],
      "text/plain": [
       "          station_name    station_id         hourly_data              dt_iso  \\\n",
       "0  2112 W Peterson Ave  KA1504000155 2022-01-01 21:00:00 2022-01-01 21:00:00   \n",
       "1  2112 W Peterson Ave  KA1504000155 2022-01-03 18:00:00 2022-01-03 18:00:00   \n",
       "\n",
       "   temp  pressure  humidity  wind_speed  wind_deg  clouds_all  lat  lon  \n",
       "0 -0.75      1010        93        4.92        20         100  NaN  NaN  \n",
       "1 -6.55      1030        49        3.13       253           0  NaN  NaN  "
      ]
     },
     "execution_count": 43,
     "metadata": {},
     "output_type": "execute_result"
    }
   ],
   "source": [
    "X_complete.head(2)"
   ]
  },
  {
   "cell_type": "code",
   "execution_count": 44,
   "id": "cd118db0",
   "metadata": {},
   "outputs": [],
   "source": [
    "from ml_logic.data_import import get_station_data\n",
    "\n",
    "def features_target(df, target):\n",
    "    '''\n",
    "    This function creates the features and target dataframes, the latter\n",
    "    being created by identifying the target (nb_departures, nb_arrivals, ratio of the two)\n",
    "    as an argument\n",
    "    '''\n",
    "                                    \n",
    "    features_df = df.drop(columns=[\"ratio\",\"nb_departures\",\"nb_arrivals\"])\n",
    "    target_df =  df[target]\n",
    "\n",
    "    return features_df, target_df\n"
   ]
  },
  {
   "cell_type": "code",
   "execution_count": 34,
   "id": "43b401e2",
   "metadata": {},
   "outputs": [
    {
     "name": "stderr",
     "output_type": "stream",
     "text": [
      "/tmp/ipykernel_16004/2695826693.py:11: SettingWithCopyWarning: \n",
      "A value is trying to be set on a copy of a slice from a DataFrame\n",
      "\n",
      "See the caveats in the documentation: https://pandas.pydata.org/pandas-docs/stable/user_guide/indexing.html#returning-a-view-versus-a-copy\n",
      "  station_df_reduced.rename(columns={\"name\":\"station_name\",\n"
     ]
    }
   ],
   "source": [
    "features_df_complete, target_df = features_target(merged_df,target)"
   ]
  },
  {
   "cell_type": "code",
   "execution_count": 35,
   "id": "3b13e20a",
   "metadata": {},
   "outputs": [
    {
     "data": {
      "text/html": [
       "<div>\n",
       "<style scoped>\n",
       "    .dataframe tbody tr th:only-of-type {\n",
       "        vertical-align: middle;\n",
       "    }\n",
       "\n",
       "    .dataframe tbody tr th {\n",
       "        vertical-align: top;\n",
       "    }\n",
       "\n",
       "    .dataframe thead th {\n",
       "        text-align: right;\n",
       "    }\n",
       "</style>\n",
       "<table border=\"1\" class=\"dataframe\">\n",
       "  <thead>\n",
       "    <tr style=\"text-align: right;\">\n",
       "      <th></th>\n",
       "      <th>station_name</th>\n",
       "      <th>station_id</th>\n",
       "      <th>hourly_data</th>\n",
       "      <th>dt_iso</th>\n",
       "      <th>temp</th>\n",
       "      <th>pressure</th>\n",
       "      <th>humidity</th>\n",
       "      <th>wind_speed</th>\n",
       "      <th>wind_deg</th>\n",
       "      <th>clouds_all</th>\n",
       "      <th>lat</th>\n",
       "      <th>lon</th>\n",
       "    </tr>\n",
       "  </thead>\n",
       "  <tbody>\n",
       "    <tr>\n",
       "      <th>0</th>\n",
       "      <td>2112 W Peterson Ave</td>\n",
       "      <td>KA1504000155</td>\n",
       "      <td>2022-01-01 21:00:00</td>\n",
       "      <td>2022-01-01 21:00:00</td>\n",
       "      <td>-0.75</td>\n",
       "      <td>1010</td>\n",
       "      <td>93</td>\n",
       "      <td>4.92</td>\n",
       "      <td>20</td>\n",
       "      <td>100</td>\n",
       "      <td>NaN</td>\n",
       "      <td>NaN</td>\n",
       "    </tr>\n",
       "    <tr>\n",
       "      <th>1</th>\n",
       "      <td>2112 W Peterson Ave</td>\n",
       "      <td>KA1504000155</td>\n",
       "      <td>2022-01-03 18:00:00</td>\n",
       "      <td>2022-01-03 18:00:00</td>\n",
       "      <td>-6.55</td>\n",
       "      <td>1030</td>\n",
       "      <td>49</td>\n",
       "      <td>3.13</td>\n",
       "      <td>253</td>\n",
       "      <td>0</td>\n",
       "      <td>NaN</td>\n",
       "      <td>NaN</td>\n",
       "    </tr>\n",
       "  </tbody>\n",
       "</table>\n",
       "</div>"
      ],
      "text/plain": [
       "          station_name    station_id         hourly_data              dt_iso  \\\n",
       "0  2112 W Peterson Ave  KA1504000155 2022-01-01 21:00:00 2022-01-01 21:00:00   \n",
       "1  2112 W Peterson Ave  KA1504000155 2022-01-03 18:00:00 2022-01-03 18:00:00   \n",
       "\n",
       "   temp  pressure  humidity  wind_speed  wind_deg  clouds_all  lat  lon  \n",
       "0 -0.75      1010        93        4.92        20         100  NaN  NaN  \n",
       "1 -6.55      1030        49        3.13       253           0  NaN  NaN  "
      ]
     },
     "execution_count": 35,
     "metadata": {},
     "output_type": "execute_result"
    }
   ],
   "source": [
    "features_df_complete.head(2)"
   ]
  },
  {
   "cell_type": "code",
   "execution_count": 36,
   "id": "a3b86900",
   "metadata": {},
   "outputs": [
    {
     "data": {
      "text/plain": [
       "0    0.0\n",
       "1    1.0\n",
       "Name: nb_arrivals, dtype: float64"
      ]
     },
     "execution_count": 36,
     "metadata": {},
     "output_type": "execute_result"
    }
   ],
   "source": [
    "target_df.head(2)"
   ]
  },
  {
   "cell_type": "code",
   "execution_count": null,
   "id": "b359b8d6",
   "metadata": {},
   "outputs": [],
   "source": []
  },
  {
   "cell_type": "markdown",
   "id": "e5917663",
   "metadata": {},
   "source": [
    "# Formatting features and target for RNN purposes"
   ]
  },
  {
   "cell_type": "code",
   "execution_count": 22,
   "id": "d1032200",
   "metadata": {},
   "outputs": [
    {
     "name": "stdout",
     "output_type": "stream",
     "text": [
      "847\n"
     ]
    },
    {
     "data": {
      "text/plain": [
       "['KA1504000155', '15491', '13028', '13157', '13156']"
      ]
     },
     "execution_count": 22,
     "metadata": {},
     "output_type": "execute_result"
    }
   ],
   "source": [
    "list_stations = list(X.station_id.unique())\n",
    "print(len(list_stations))\n",
    "list_stations[0:5]"
   ]
  },
  {
   "cell_type": "code",
   "execution_count": 23,
   "id": "76e63f5e",
   "metadata": {},
   "outputs": [
    {
     "data": {
      "text/plain": [
       "'KA1504000155'"
      ]
     },
     "execution_count": 23,
     "metadata": {},
     "output_type": "execute_result"
    }
   ],
   "source": [
    "i = list_stations[0]\n",
    "i"
   ]
  },
  {
   "cell_type": "code",
   "execution_count": 24,
   "id": "27912314",
   "metadata": {},
   "outputs": [],
   "source": [
    "obs_ = X[X[\"station_id\"]==i]\n"
   ]
  },
  {
   "cell_type": "code",
   "execution_count": 25,
   "id": "195ff72f",
   "metadata": {},
   "outputs": [],
   "source": [
    "obs_ = obs_.reset_index()"
   ]
  },
  {
   "cell_type": "code",
   "execution_count": 26,
   "id": "e38e178f",
   "metadata": {},
   "outputs": [
    {
     "data": {
      "text/plain": [
       "(149, 11)"
      ]
     },
     "execution_count": 26,
     "metadata": {},
     "output_type": "execute_result"
    }
   ],
   "source": [
    "obs_.shape"
   ]
  },
  {
   "cell_type": "code",
   "execution_count": 27,
   "id": "f105812a",
   "metadata": {},
   "outputs": [
    {
     "data": {
      "text/plain": [
       "RangeIndex(start=0, stop=149, step=1)"
      ]
     },
     "execution_count": 27,
     "metadata": {},
     "output_type": "execute_result"
    }
   ],
   "source": [
    "obs_.index"
   ]
  },
  {
   "cell_type": "code",
   "execution_count": 28,
   "id": "73c4e094",
   "metadata": {},
   "outputs": [
    {
     "data": {
      "text/plain": [
       "index                            72\n",
       "station_name    2112 W Peterson Ave\n",
       "station_id             KA1504000155\n",
       "hourly_data     2022-03-31 03:00:00\n",
       "dt_iso          2022-03-31 03:00:00\n",
       "temp                          13.89\n",
       "pressure                        988\n",
       "humidity                         95\n",
       "wind_speed                     3.37\n",
       "wind_deg                        152\n",
       "clouds_all                      100\n",
       "Name: 72, dtype: object"
      ]
     },
     "execution_count": 28,
     "metadata": {},
     "output_type": "execute_result"
    }
   ],
   "source": [
    "len(obs_)\n",
    "obs_.loc[72,:]"
   ]
  },
  {
   "cell_type": "code",
   "execution_count": 32,
   "id": "fd9296b5",
   "metadata": {},
   "outputs": [],
   "source": [
    "list_obs_station = []\n",
    "for j in range(0,len(obs_)):\n",
    "    \n",
    "    liste=np.array(obs_.loc[j])\n",
    "    \n",
    "    list_obs_station.append(liste)"
   ]
  },
  {
   "cell_type": "code",
   "execution_count": 33,
   "id": "b8a45d7a",
   "metadata": {},
   "outputs": [
    {
     "data": {
      "text/plain": [
       "array([0, '2112 W Peterson Ave', 'KA1504000155',\n",
       "       Timestamp('2022-01-01 21:00:00'), Timestamp('2022-01-01 21:00:00'),\n",
       "       -0.75, 1010, 93, 4.92, 20, 100], dtype=object)"
      ]
     },
     "execution_count": 33,
     "metadata": {},
     "output_type": "execute_result"
    }
   ],
   "source": [
    "list_obs_station[0]"
   ]
  },
  {
   "cell_type": "code",
   "execution_count": 39,
   "id": "04e04a21",
   "metadata": {},
   "outputs": [],
   "source": [
    "array_test = np.array(list_obs_station[0])\n",
    "\n",
    "for i in range(1,len(list_obs_station)):\n",
    "    array_test= np.append(array_test,list_obs_station[i])"
   ]
  },
  {
   "cell_type": "code",
   "execution_count": 41,
   "id": "dc035279",
   "metadata": {},
   "outputs": [
    {
     "data": {
      "text/plain": [
       "(1639,)"
      ]
     },
     "execution_count": 41,
     "metadata": {},
     "output_type": "execute_result"
    }
   ],
   "source": [
    "array_test.shape"
   ]
  },
  {
   "cell_type": "code",
   "execution_count": 143,
   "id": "f054c37d",
   "metadata": {},
   "outputs": [],
   "source": [
    "list_stations = list(X.station_id.unique())\n",
    "\n",
    "Sequence_of_stations = []\n",
    "\n",
    "for i in list_stations:\n",
    "\n",
    "    obs_station = X[X[\"station_id\"]==i]\n",
    "    obs_station = obs_station.reset_index()\n",
    "\n",
    "    list_obs_station = []\n",
    "\n",
    "    for j in range(0,len(obs_station)):\n",
    "        \n",
    "        liste=list(obs_station.loc[j])\n",
    "        \n",
    "        list_obs_station.append(liste)\n",
    "        \n",
    "    Sequence_of_stations.append(list_obs_station)\n",
    "        "
   ]
  },
  {
   "cell_type": "markdown",
   "id": "87c20c0d",
   "metadata": {},
   "source": []
  },
  {
   "cell_type": "code",
   "execution_count": 155,
   "id": "5f12528d",
   "metadata": {},
   "outputs": [
    {
     "data": {
      "text/plain": [
       "11"
      ]
     },
     "execution_count": 155,
     "metadata": {},
     "output_type": "execute_result"
    }
   ],
   "source": [
    "len(Sequence_of_stations[0][0])"
   ]
  },
  {
   "cell_type": "code",
   "execution_count": 153,
   "id": "8288d65b",
   "metadata": {},
   "outputs": [
    {
     "name": "stderr",
     "output_type": "stream",
     "text": [
      "/tmp/ipykernel_10666/97222989.py:1: VisibleDeprecationWarning: Creating an ndarray from ragged nested sequences (which is a list-or-tuple of lists-or-tuples-or ndarrays with different lengths or shapes) is deprecated. If you meant to do this, you must specify 'dtype=object' when creating the ndarray.\n",
      "  X_formated = np.array([Sequence_of_stations])\n"
     ]
    },
    {
     "data": {
      "text/plain": [
       "(1, 847)"
      ]
     },
     "execution_count": 153,
     "metadata": {},
     "output_type": "execute_result"
    }
   ],
   "source": [
    "X_formated = np.array([Sequence_of_stations])\n",
    "X_formated.shape"
   ]
  },
  {
   "cell_type": "markdown",
   "id": "8f4f3b67",
   "metadata": {},
   "source": [
    "# Encoding of station_name"
   ]
  },
  {
   "cell_type": "code",
   "execution_count": 76,
   "id": "793157b8",
   "metadata": {},
   "outputs": [],
   "source": [
    "from sklearn.preprocessing import OneHotEncoder"
   ]
  },
  {
   "cell_type": "code",
   "execution_count": 77,
   "id": "b1aeefc6",
   "metadata": {},
   "outputs": [
    {
     "data": {
      "text/plain": [
       "847"
      ]
     },
     "execution_count": 77,
     "metadata": {},
     "output_type": "execute_result"
    }
   ],
   "source": [
    "X.station_name.nunique()"
   ]
  },
  {
   "cell_type": "code",
   "execution_count": 81,
   "id": "516e1d3f",
   "metadata": {},
   "outputs": [
    {
     "data": {
      "text/html": [
       "<style>#sk-container-id-2 {color: black;background-color: white;}#sk-container-id-2 pre{padding: 0;}#sk-container-id-2 div.sk-toggleable {background-color: white;}#sk-container-id-2 label.sk-toggleable__label {cursor: pointer;display: block;width: 100%;margin-bottom: 0;padding: 0.3em;box-sizing: border-box;text-align: center;}#sk-container-id-2 label.sk-toggleable__label-arrow:before {content: \"▸\";float: left;margin-right: 0.25em;color: #696969;}#sk-container-id-2 label.sk-toggleable__label-arrow:hover:before {color: black;}#sk-container-id-2 div.sk-estimator:hover label.sk-toggleable__label-arrow:before {color: black;}#sk-container-id-2 div.sk-toggleable__content {max-height: 0;max-width: 0;overflow: hidden;text-align: left;background-color: #f0f8ff;}#sk-container-id-2 div.sk-toggleable__content pre {margin: 0.2em;color: black;border-radius: 0.25em;background-color: #f0f8ff;}#sk-container-id-2 input.sk-toggleable__control:checked~div.sk-toggleable__content {max-height: 200px;max-width: 100%;overflow: auto;}#sk-container-id-2 input.sk-toggleable__control:checked~label.sk-toggleable__label-arrow:before {content: \"▾\";}#sk-container-id-2 div.sk-estimator input.sk-toggleable__control:checked~label.sk-toggleable__label {background-color: #d4ebff;}#sk-container-id-2 div.sk-label input.sk-toggleable__control:checked~label.sk-toggleable__label {background-color: #d4ebff;}#sk-container-id-2 input.sk-hidden--visually {border: 0;clip: rect(1px 1px 1px 1px);clip: rect(1px, 1px, 1px, 1px);height: 1px;margin: -1px;overflow: hidden;padding: 0;position: absolute;width: 1px;}#sk-container-id-2 div.sk-estimator {font-family: monospace;background-color: #f0f8ff;border: 1px dotted black;border-radius: 0.25em;box-sizing: border-box;margin-bottom: 0.5em;}#sk-container-id-2 div.sk-estimator:hover {background-color: #d4ebff;}#sk-container-id-2 div.sk-parallel-item::after {content: \"\";width: 100%;border-bottom: 1px solid gray;flex-grow: 1;}#sk-container-id-2 div.sk-label:hover label.sk-toggleable__label {background-color: #d4ebff;}#sk-container-id-2 div.sk-serial::before {content: \"\";position: absolute;border-left: 1px solid gray;box-sizing: border-box;top: 0;bottom: 0;left: 50%;z-index: 0;}#sk-container-id-2 div.sk-serial {display: flex;flex-direction: column;align-items: center;background-color: white;padding-right: 0.2em;padding-left: 0.2em;position: relative;}#sk-container-id-2 div.sk-item {position: relative;z-index: 1;}#sk-container-id-2 div.sk-parallel {display: flex;align-items: stretch;justify-content: center;background-color: white;position: relative;}#sk-container-id-2 div.sk-item::before, #sk-container-id-2 div.sk-parallel-item::before {content: \"\";position: absolute;border-left: 1px solid gray;box-sizing: border-box;top: 0;bottom: 0;left: 50%;z-index: -1;}#sk-container-id-2 div.sk-parallel-item {display: flex;flex-direction: column;z-index: 1;position: relative;background-color: white;}#sk-container-id-2 div.sk-parallel-item:first-child::after {align-self: flex-end;width: 50%;}#sk-container-id-2 div.sk-parallel-item:last-child::after {align-self: flex-start;width: 50%;}#sk-container-id-2 div.sk-parallel-item:only-child::after {width: 0;}#sk-container-id-2 div.sk-dashed-wrapped {border: 1px dashed gray;margin: 0 0.4em 0.5em 0.4em;box-sizing: border-box;padding-bottom: 0.4em;background-color: white;}#sk-container-id-2 div.sk-label label {font-family: monospace;font-weight: bold;display: inline-block;line-height: 1.2em;}#sk-container-id-2 div.sk-label-container {text-align: center;}#sk-container-id-2 div.sk-container {/* jupyter's `normalize.less` sets `[hidden] { display: none; }` but bootstrap.min.css set `[hidden] { display: none !important; }` so we also need the `!important` here to be able to override the default hidden behavior on the sphinx rendered scikit-learn.org. See: https://github.com/scikit-learn/scikit-learn/issues/21755 */display: inline-block !important;position: relative;}#sk-container-id-2 div.sk-text-repr-fallback {display: none;}</style><div id=\"sk-container-id-2\" class=\"sk-top-container\"><div class=\"sk-text-repr-fallback\"><pre>OneHotEncoder(sparse=False)</pre><b>In a Jupyter environment, please rerun this cell to show the HTML representation or trust the notebook. <br />On GitHub, the HTML representation is unable to render, please try loading this page with nbviewer.org.</b></div><div class=\"sk-container\" hidden><div class=\"sk-item\"><div class=\"sk-estimator sk-toggleable\"><input class=\"sk-toggleable__control sk-hidden--visually\" id=\"sk-estimator-id-2\" type=\"checkbox\" checked><label for=\"sk-estimator-id-2\" class=\"sk-toggleable__label sk-toggleable__label-arrow\">OneHotEncoder</label><div class=\"sk-toggleable__content\"><pre>OneHotEncoder(sparse=False)</pre></div></div></div></div></div>"
      ],
      "text/plain": [
       "OneHotEncoder(sparse=False)"
      ]
     },
     "execution_count": 81,
     "metadata": {},
     "output_type": "execute_result"
    }
   ],
   "source": [
    "ohe = OneHotEncoder(sparse = False)\n",
    "ohe.fit(X[['station_name']])"
   ]
  },
  {
   "cell_type": "code",
   "execution_count": 82,
   "id": "a9c3f7c9",
   "metadata": {},
   "outputs": [],
   "source": [
    "X_encoded = ohe.transform(X[[\"station_name\"]])"
   ]
  },
  {
   "cell_type": "code",
   "execution_count": 83,
   "id": "fbe22982",
   "metadata": {},
   "outputs": [],
   "source": [
    "X[ohe.categories_[0]] = X_encoded"
   ]
  },
  {
   "cell_type": "code",
   "execution_count": 84,
   "id": "b6909ffd",
   "metadata": {},
   "outputs": [],
   "source": [
    "X = X.drop(\"station_name\", axis=1)"
   ]
  },
  {
   "cell_type": "code",
   "execution_count": 85,
   "id": "2f000086",
   "metadata": {},
   "outputs": [
    {
     "data": {
      "text/plain": [
       "(344946, 856)"
      ]
     },
     "execution_count": 85,
     "metadata": {},
     "output_type": "execute_result"
    }
   ],
   "source": [
    "X.shape"
   ]
  },
  {
   "cell_type": "code",
   "execution_count": null,
   "id": "f9b15548",
   "metadata": {},
   "outputs": [],
   "source": [
    "time_categories = {\n",
    "                    0: np.arange(0, 7, 1),  # days of the week\n",
    "                    1: np.arange(1, 13, 1)  # months of the year\n",
    "                    # will need to add one cat for the year when generalizing\n",
    "                }\n",
    "\n",
    "time_pipe = make_pipeline(\n",
    "    FunctionTransformer(transform_time_features),\n",
    "    make_column_transformer(\n",
    "        (OneHotEncoder(\n",
    "            categories=time_categories,\n",
    "            sparse=False,\n",
    "            handle_unknown=\"ignore\"), [2,3]), # correspond to columns [\"day of week\", \"month\"], not the others columns\n",
    "        #(FunctionTransformer(lambda year: (year-year_min)/(year_max-year_min)), [4]), # min-max scale the columns 4 [\"year\"]\n",
    "        remainder=\"passthrough\" # keep hour_sin and hour_cos\n",
    "        )\n",
    "    )\n",
    "\n",
    "weather_pipe = make_pipeline(StandardScaler())\n",
    "weather_features = [\"temp\",\"pressure\",\"humidity\",\"wind_speed\",\"wind_deg\",\"clouds_all\"]\n",
    "\n",
    "\n",
    "cat_transformer = OneHotEncoder(sparse_output=False)\n",
    "\n",
    "final_preprocessor = ColumnTransformer(\n",
    "        [\n",
    "            (\"time_preproc\", time_pipe, [\"hourly_data\"]),\n",
    "            (\"weather_scaler\",weather_pipe, weather_features),\n",
    "            (\"geohash encoding\", cat_transformer,[\"geohash\"])\n",
    "        ],\n",
    "        n_jobs=-1,\n",
    "    )"
   ]
  },
  {
   "cell_type": "code",
   "execution_count": 45,
   "id": "c7a8e4ba",
   "metadata": {},
   "outputs": [],
   "source": [
    "features_df_complete, target_df = features_target(merged_df,target)"
   ]
  },
  {
   "cell_type": "code",
   "execution_count": 46,
   "id": "a619f15f",
   "metadata": {},
   "outputs": [
    {
     "data": {
      "text/html": [
       "<div>\n",
       "<style scoped>\n",
       "    .dataframe tbody tr th:only-of-type {\n",
       "        vertical-align: middle;\n",
       "    }\n",
       "\n",
       "    .dataframe tbody tr th {\n",
       "        vertical-align: top;\n",
       "    }\n",
       "\n",
       "    .dataframe thead th {\n",
       "        text-align: right;\n",
       "    }\n",
       "</style>\n",
       "<table border=\"1\" class=\"dataframe\">\n",
       "  <thead>\n",
       "    <tr style=\"text-align: right;\">\n",
       "      <th></th>\n",
       "      <th>station_name</th>\n",
       "      <th>station_id</th>\n",
       "      <th>hourly_data</th>\n",
       "      <th>dt_iso</th>\n",
       "      <th>temp</th>\n",
       "      <th>pressure</th>\n",
       "      <th>humidity</th>\n",
       "      <th>wind_speed</th>\n",
       "      <th>wind_deg</th>\n",
       "      <th>clouds_all</th>\n",
       "    </tr>\n",
       "  </thead>\n",
       "  <tbody>\n",
       "    <tr>\n",
       "      <th>0</th>\n",
       "      <td>2112 W Peterson Ave</td>\n",
       "      <td>KA1504000155</td>\n",
       "      <td>2022-01-01 21:00:00</td>\n",
       "      <td>2022-01-01 21:00:00</td>\n",
       "      <td>-0.75</td>\n",
       "      <td>1010</td>\n",
       "      <td>93</td>\n",
       "      <td>4.92</td>\n",
       "      <td>20</td>\n",
       "      <td>100</td>\n",
       "    </tr>\n",
       "    <tr>\n",
       "      <th>1</th>\n",
       "      <td>2112 W Peterson Ave</td>\n",
       "      <td>KA1504000155</td>\n",
       "      <td>2022-01-03 18:00:00</td>\n",
       "      <td>2022-01-03 18:00:00</td>\n",
       "      <td>-6.55</td>\n",
       "      <td>1030</td>\n",
       "      <td>49</td>\n",
       "      <td>3.13</td>\n",
       "      <td>253</td>\n",
       "      <td>0</td>\n",
       "    </tr>\n",
       "  </tbody>\n",
       "</table>\n",
       "</div>"
      ],
      "text/plain": [
       "          station_name    station_id         hourly_data              dt_iso  \\\n",
       "0  2112 W Peterson Ave  KA1504000155 2022-01-01 21:00:00 2022-01-01 21:00:00   \n",
       "1  2112 W Peterson Ave  KA1504000155 2022-01-03 18:00:00 2022-01-03 18:00:00   \n",
       "\n",
       "   temp  pressure  humidity  wind_speed  wind_deg  clouds_all  \n",
       "0 -0.75      1010        93        4.92        20         100  \n",
       "1 -6.55      1030        49        3.13       253           0  "
      ]
     },
     "execution_count": 46,
     "metadata": {},
     "output_type": "execute_result"
    }
   ],
   "source": [
    "features_df_complete.head(2)"
   ]
  },
  {
   "cell_type": "code",
   "execution_count": 47,
   "id": "4e300339",
   "metadata": {},
   "outputs": [
    {
     "data": {
      "text/plain": [
       "(344946, 10)"
      ]
     },
     "execution_count": 47,
     "metadata": {},
     "output_type": "execute_result"
    }
   ],
   "source": [
    "features_df_complete.shape"
   ]
  },
  {
   "cell_type": "code",
   "execution_count": 60,
   "id": "d04d564e",
   "metadata": {},
   "outputs": [],
   "source": [
    "import pygeohash as gh\n",
    "from ml_logic.data_import import get_station_data\n",
    "\n",
    "\n",
    "def compute_geohash_stations(precision: int = 5) -> np.ndarray:\n",
    "    \"\"\"\n",
    "    Add a geohash (ex: “dr5rx”) of len “precision” = 5 by default\n",
    "    corresponding to each (lon,lat) tuple, for pick-up, and drop-off\n",
    "    \"\"\"\n",
    "            \n",
    "    df_stations=get_station_data()\n",
    "    assert isinstance(df_stations, pd.DataFrame)\n",
    "    df_stations[\"geohash\"] = df_stations.apply(lambda x: gh.encode(\n",
    "        x.lat, x.lon, precision=precision),\n",
    "                                    axis=1)\n",
    "    df_stations_reduced=df_stations[[\"name\",\"geohash\"]]\n",
    "    df_stations_reduced.rename(columns={\"name\":\"station_name\"}, inplace=True)\n",
    "    return df_stations_reduced\n"
   ]
  },
  {
   "cell_type": "code",
   "execution_count": 61,
   "id": "4da9aca3",
   "metadata": {},
   "outputs": [
    {
     "name": "stderr",
     "output_type": "stream",
     "text": [
      "/tmp/ipykernel_16004/110657374.py:17: SettingWithCopyWarning: \n",
      "A value is trying to be set on a copy of a slice from a DataFrame\n",
      "\n",
      "See the caveats in the documentation: https://pandas.pydata.org/pandas-docs/stable/user_guide/indexing.html#returning-a-view-versus-a-copy\n",
      "  df_stations_reduced.rename(columns={\"name\":\"station_name\"}, inplace=True)\n"
     ]
    }
   ],
   "source": [
    "# Calling Geohash function and creating Stations Dataframe\n",
    "df_stations_reduced=compute_geohash_stations(precision=5)\n"
   ]
  },
  {
   "cell_type": "code",
   "execution_count": 62,
   "id": "74fad9ff",
   "metadata": {},
   "outputs": [
    {
     "data": {
      "text/plain": [
       "47"
      ]
     },
     "execution_count": 62,
     "metadata": {},
     "output_type": "execute_result"
    }
   ],
   "source": [
    "df_stations_reduced.geohash.nunique()"
   ]
  },
  {
   "cell_type": "code",
   "execution_count": 59,
   "id": "15af191d",
   "metadata": {},
   "outputs": [
    {
     "data": {
      "text/html": [
       "<div>\n",
       "<style scoped>\n",
       "    .dataframe tbody tr th:only-of-type {\n",
       "        vertical-align: middle;\n",
       "    }\n",
       "\n",
       "    .dataframe tbody tr th {\n",
       "        vertical-align: top;\n",
       "    }\n",
       "\n",
       "    .dataframe thead th {\n",
       "        text-align: right;\n",
       "    }\n",
       "</style>\n",
       "<table border=\"1\" class=\"dataframe\">\n",
       "  <thead>\n",
       "    <tr style=\"text-align: right;\">\n",
       "      <th></th>\n",
       "      <th>station_name</th>\n",
       "      <th>station_id</th>\n",
       "      <th>geohash</th>\n",
       "    </tr>\n",
       "  </thead>\n",
       "  <tbody>\n",
       "    <tr>\n",
       "      <th>224</th>\n",
       "      <td>2112 W Peterson Ave</td>\n",
       "      <td>456</td>\n",
       "      <td>dp3wu</td>\n",
       "    </tr>\n",
       "  </tbody>\n",
       "</table>\n",
       "</div>"
      ],
      "text/plain": [
       "            station_name station_id geohash\n",
       "224  2112 W Peterson Ave        456   dp3wu"
      ]
     },
     "execution_count": 59,
     "metadata": {},
     "output_type": "execute_result"
    }
   ],
   "source": [
    "df_stations_reduced[df_stations_reduced[\"station_name\"]==\"2112 W Peterson Ave\"]"
   ]
  },
  {
   "cell_type": "code",
   "execution_count": 124,
   "id": "6fe02475",
   "metadata": {},
   "outputs": [
    {
     "data": {
      "text/html": [
       "<div>\n",
       "<style scoped>\n",
       "    .dataframe tbody tr th:only-of-type {\n",
       "        vertical-align: middle;\n",
       "    }\n",
       "\n",
       "    .dataframe tbody tr th {\n",
       "        vertical-align: top;\n",
       "    }\n",
       "\n",
       "    .dataframe thead th {\n",
       "        text-align: right;\n",
       "    }\n",
       "</style>\n",
       "<table border=\"1\" class=\"dataframe\">\n",
       "  <thead>\n",
       "    <tr style=\"text-align: right;\">\n",
       "      <th></th>\n",
       "      <th>station_name</th>\n",
       "      <th>geohash</th>\n",
       "    </tr>\n",
       "  </thead>\n",
       "  <tbody>\n",
       "    <tr>\n",
       "      <th>0</th>\n",
       "      <td>Central Ave &amp; Harrison St</td>\n",
       "      <td>dp3w4</td>\n",
       "    </tr>\n",
       "    <tr>\n",
       "      <th>1</th>\n",
       "      <td>Halsted St &amp; 59th St</td>\n",
       "      <td>dp3tt</td>\n",
       "    </tr>\n",
       "    <tr>\n",
       "      <th>2</th>\n",
       "      <td>Damen Ave &amp; 51st St</td>\n",
       "      <td>dp3tu</td>\n",
       "    </tr>\n",
       "    <tr>\n",
       "      <th>3</th>\n",
       "      <td>Halsted St &amp; 21st St</td>\n",
       "      <td>dp3wj</td>\n",
       "    </tr>\n",
       "    <tr>\n",
       "      <th>4</th>\n",
       "      <td>Michigan Ave &amp; Madison St</td>\n",
       "      <td>dp3wq</td>\n",
       "    </tr>\n",
       "  </tbody>\n",
       "</table>\n",
       "</div>"
      ],
      "text/plain": [
       "                station_name geohash\n",
       "0  Central Ave & Harrison St   dp3w4\n",
       "1       Halsted St & 59th St   dp3tt\n",
       "2        Damen Ave & 51st St   dp3tu\n",
       "3       Halsted St & 21st St   dp3wj\n",
       "4  Michigan Ave & Madison St   dp3wq"
      ]
     },
     "execution_count": 124,
     "metadata": {},
     "output_type": "execute_result"
    }
   ],
   "source": [
    "df_stations_reduced.head(5)"
   ]
  },
  {
   "cell_type": "code",
   "execution_count": 63,
   "id": "7d2363f7",
   "metadata": {},
   "outputs": [
    {
     "data": {
      "text/html": [
       "<div>\n",
       "<style scoped>\n",
       "    .dataframe tbody tr th:only-of-type {\n",
       "        vertical-align: middle;\n",
       "    }\n",
       "\n",
       "    .dataframe tbody tr th {\n",
       "        vertical-align: top;\n",
       "    }\n",
       "\n",
       "    .dataframe thead th {\n",
       "        text-align: right;\n",
       "    }\n",
       "</style>\n",
       "<table border=\"1\" class=\"dataframe\">\n",
       "  <thead>\n",
       "    <tr style=\"text-align: right;\">\n",
       "      <th></th>\n",
       "      <th>station_name</th>\n",
       "      <th>station_id</th>\n",
       "      <th>hourly_data</th>\n",
       "      <th>dt_iso</th>\n",
       "      <th>temp</th>\n",
       "      <th>pressure</th>\n",
       "      <th>humidity</th>\n",
       "      <th>wind_speed</th>\n",
       "      <th>wind_deg</th>\n",
       "      <th>clouds_all</th>\n",
       "      <th>geohash</th>\n",
       "    </tr>\n",
       "  </thead>\n",
       "  <tbody>\n",
       "    <tr>\n",
       "      <th>0</th>\n",
       "      <td>2112 W Peterson Ave</td>\n",
       "      <td>KA1504000155</td>\n",
       "      <td>2022-01-01 21:00:00</td>\n",
       "      <td>2022-01-01 21:00:00</td>\n",
       "      <td>-0.75</td>\n",
       "      <td>1010</td>\n",
       "      <td>93</td>\n",
       "      <td>4.92</td>\n",
       "      <td>20</td>\n",
       "      <td>100</td>\n",
       "      <td>dp3wu</td>\n",
       "    </tr>\n",
       "    <tr>\n",
       "      <th>1</th>\n",
       "      <td>2112 W Peterson Ave</td>\n",
       "      <td>KA1504000155</td>\n",
       "      <td>2022-01-03 18:00:00</td>\n",
       "      <td>2022-01-03 18:00:00</td>\n",
       "      <td>-6.55</td>\n",
       "      <td>1030</td>\n",
       "      <td>49</td>\n",
       "      <td>3.13</td>\n",
       "      <td>253</td>\n",
       "      <td>0</td>\n",
       "      <td>dp3wu</td>\n",
       "    </tr>\n",
       "    <tr>\n",
       "      <th>2</th>\n",
       "      <td>2112 W Peterson Ave</td>\n",
       "      <td>KA1504000155</td>\n",
       "      <td>2022-01-04 11:00:00</td>\n",
       "      <td>2022-01-04 11:00:00</td>\n",
       "      <td>-5.02</td>\n",
       "      <td>1021</td>\n",
       "      <td>79</td>\n",
       "      <td>4.12</td>\n",
       "      <td>190</td>\n",
       "      <td>40</td>\n",
       "      <td>dp3wu</td>\n",
       "    </tr>\n",
       "    <tr>\n",
       "      <th>3</th>\n",
       "      <td>2112 W Peterson Ave</td>\n",
       "      <td>KA1504000155</td>\n",
       "      <td>2022-01-04 18:00:00</td>\n",
       "      <td>2022-01-04 18:00:00</td>\n",
       "      <td>-0.39</td>\n",
       "      <td>1017</td>\n",
       "      <td>70</td>\n",
       "      <td>4.02</td>\n",
       "      <td>204</td>\n",
       "      <td>99</td>\n",
       "      <td>dp3wu</td>\n",
       "    </tr>\n",
       "    <tr>\n",
       "      <th>4</th>\n",
       "      <td>2112 W Peterson Ave</td>\n",
       "      <td>KA1504000155</td>\n",
       "      <td>2022-01-10 09:00:00</td>\n",
       "      <td>2022-01-10 09:00:00</td>\n",
       "      <td>-10.37</td>\n",
       "      <td>1034</td>\n",
       "      <td>58</td>\n",
       "      <td>2.24</td>\n",
       "      <td>301</td>\n",
       "      <td>98</td>\n",
       "      <td>dp3wu</td>\n",
       "    </tr>\n",
       "  </tbody>\n",
       "</table>\n",
       "</div>"
      ],
      "text/plain": [
       "          station_name    station_id         hourly_data              dt_iso  \\\n",
       "0  2112 W Peterson Ave  KA1504000155 2022-01-01 21:00:00 2022-01-01 21:00:00   \n",
       "1  2112 W Peterson Ave  KA1504000155 2022-01-03 18:00:00 2022-01-03 18:00:00   \n",
       "2  2112 W Peterson Ave  KA1504000155 2022-01-04 11:00:00 2022-01-04 11:00:00   \n",
       "3  2112 W Peterson Ave  KA1504000155 2022-01-04 18:00:00 2022-01-04 18:00:00   \n",
       "4  2112 W Peterson Ave  KA1504000155 2022-01-10 09:00:00 2022-01-10 09:00:00   \n",
       "\n",
       "    temp  pressure  humidity  wind_speed  wind_deg  clouds_all geohash  \n",
       "0  -0.75      1010        93        4.92        20         100   dp3wu  \n",
       "1  -6.55      1030        49        3.13       253           0   dp3wu  \n",
       "2  -5.02      1021        79        4.12       190          40   dp3wu  \n",
       "3  -0.39      1017        70        4.02       204          99   dp3wu  \n",
       "4 -10.37      1034        58        2.24       301          98   dp3wu  "
      ]
     },
     "execution_count": 63,
     "metadata": {},
     "output_type": "execute_result"
    }
   ],
   "source": [
    "# Merge divvy data & station data\n",
    "X_complete=features_df_complete.merge(df_stations_reduced,how=\"left\",on=[\"station_name\"])\n",
    "X_complete.head(5)"
   ]
  },
  {
   "cell_type": "code",
   "execution_count": 69,
   "id": "bed920e6",
   "metadata": {},
   "outputs": [],
   "source": [
    "X_complete = X_complete.drop(columns=[\"station_name\",\"station_id\",\"dt_iso\"])"
   ]
  },
  {
   "cell_type": "code",
   "execution_count": 70,
   "id": "50cefe6c",
   "metadata": {},
   "outputs": [],
   "source": [
    "time_categories = {\n",
    "                    0: np.arange(0, 7, 1),  # days of the week\n",
    "                    1: np.arange(1, 13, 1)  # months of the year\n",
    "                    # will need to add one cat for the year when generalizing\n",
    "                }\n",
    "\n",
    "time_pipe = make_pipeline(\n",
    "    FunctionTransformer(transform_time_features),\n",
    "    make_column_transformer(\n",
    "        (OneHotEncoder(\n",
    "            categories=time_categories,\n",
    "            sparse=False,\n",
    "            handle_unknown=\"ignore\"), [2,3]), # correspond to columns [\"day of week\", \"month\"], not the others columns\n",
    "        #(FunctionTransformer(lambda year: (year-year_min)/(year_max-year_min)), [4]), # min-max scale the columns 4 [\"year\"]\n",
    "        remainder=\"passthrough\" # keep hour_sin and hour_cos\n",
    "        )\n",
    "    )\n",
    "\n",
    "weather_pipe = make_pipeline(StandardScaler())\n",
    "weather_features = [\"temp\",\"pressure\",\"humidity\",\"wind_speed\",\"wind_deg\",\"clouds_all\"]\n",
    "\n",
    "\n",
    "cat_transformer = OneHotEncoder(sparse=False)\n",
    "\n",
    "final_preprocessor = ColumnTransformer(\n",
    "        [\n",
    "            (\"time_preproc\", time_pipe, [\"hourly_data\"]),\n",
    "            (\"weather_scaler\",weather_pipe, weather_features),\n",
    "            (\"geohash encoding\", cat_transformer,[\"geohash\"])\n",
    "        ],\n",
    "        n_jobs=-1,\n",
    "    )"
   ]
  },
  {
   "cell_type": "code",
   "execution_count": 71,
   "id": "48dfda93",
   "metadata": {},
   "outputs": [],
   "source": [
    "X_processed = final_preprocessor.fit_transform(X_complete)\n",
    "\n",
    "X_processed_df = pd.DataFrame(X_processed)"
   ]
  },
  {
   "cell_type": "code",
   "execution_count": 72,
   "id": "8e34fecb",
   "metadata": {},
   "outputs": [
    {
     "data": {
      "text/html": [
       "<div>\n",
       "<style scoped>\n",
       "    .dataframe tbody tr th:only-of-type {\n",
       "        vertical-align: middle;\n",
       "    }\n",
       "\n",
       "    .dataframe tbody tr th {\n",
       "        vertical-align: top;\n",
       "    }\n",
       "\n",
       "    .dataframe thead th {\n",
       "        text-align: right;\n",
       "    }\n",
       "</style>\n",
       "<table border=\"1\" class=\"dataframe\">\n",
       "  <thead>\n",
       "    <tr style=\"text-align: right;\">\n",
       "      <th></th>\n",
       "      <th>0</th>\n",
       "      <th>1</th>\n",
       "      <th>2</th>\n",
       "      <th>3</th>\n",
       "      <th>4</th>\n",
       "      <th>5</th>\n",
       "      <th>6</th>\n",
       "      <th>7</th>\n",
       "      <th>8</th>\n",
       "      <th>9</th>\n",
       "      <th>...</th>\n",
       "      <th>64</th>\n",
       "      <th>65</th>\n",
       "      <th>66</th>\n",
       "      <th>67</th>\n",
       "      <th>68</th>\n",
       "      <th>69</th>\n",
       "      <th>70</th>\n",
       "      <th>71</th>\n",
       "      <th>72</th>\n",
       "      <th>73</th>\n",
       "    </tr>\n",
       "  </thead>\n",
       "  <tbody>\n",
       "    <tr>\n",
       "      <th>0</th>\n",
       "      <td>0.0</td>\n",
       "      <td>0.0</td>\n",
       "      <td>0.0</td>\n",
       "      <td>0.0</td>\n",
       "      <td>0.0</td>\n",
       "      <td>1.0</td>\n",
       "      <td>0.0</td>\n",
       "      <td>1.0</td>\n",
       "      <td>0.0</td>\n",
       "      <td>0.0</td>\n",
       "      <td>...</td>\n",
       "      <td>0.0</td>\n",
       "      <td>0.0</td>\n",
       "      <td>0.0</td>\n",
       "      <td>1.0</td>\n",
       "      <td>0.0</td>\n",
       "      <td>0.0</td>\n",
       "      <td>0.0</td>\n",
       "      <td>0.0</td>\n",
       "      <td>0.0</td>\n",
       "      <td>0.0</td>\n",
       "    </tr>\n",
       "    <tr>\n",
       "      <th>1</th>\n",
       "      <td>1.0</td>\n",
       "      <td>0.0</td>\n",
       "      <td>0.0</td>\n",
       "      <td>0.0</td>\n",
       "      <td>0.0</td>\n",
       "      <td>0.0</td>\n",
       "      <td>0.0</td>\n",
       "      <td>1.0</td>\n",
       "      <td>0.0</td>\n",
       "      <td>0.0</td>\n",
       "      <td>...</td>\n",
       "      <td>0.0</td>\n",
       "      <td>0.0</td>\n",
       "      <td>0.0</td>\n",
       "      <td>1.0</td>\n",
       "      <td>0.0</td>\n",
       "      <td>0.0</td>\n",
       "      <td>0.0</td>\n",
       "      <td>0.0</td>\n",
       "      <td>0.0</td>\n",
       "      <td>0.0</td>\n",
       "    </tr>\n",
       "  </tbody>\n",
       "</table>\n",
       "<p>2 rows × 74 columns</p>\n",
       "</div>"
      ],
      "text/plain": [
       "    0    1    2    3    4    5    6    7    8    9   ...   64   65   66   67  \\\n",
       "0  0.0  0.0  0.0  0.0  0.0  1.0  0.0  1.0  0.0  0.0  ...  0.0  0.0  0.0  1.0   \n",
       "1  1.0  0.0  0.0  0.0  0.0  0.0  0.0  1.0  0.0  0.0  ...  0.0  0.0  0.0  1.0   \n",
       "\n",
       "    68   69   70   71   72   73  \n",
       "0  0.0  0.0  0.0  0.0  0.0  0.0  \n",
       "1  0.0  0.0  0.0  0.0  0.0  0.0  \n",
       "\n",
       "[2 rows x 74 columns]"
      ]
     },
     "execution_count": 72,
     "metadata": {},
     "output_type": "execute_result"
    }
   ],
   "source": [
    "X_processed_df.head(2)"
   ]
  },
  {
   "cell_type": "code",
   "execution_count": 125,
   "id": "ab986065",
   "metadata": {},
   "outputs": [],
   "source": [
    "import os\n",
    "import pandas as pd\n",
    "import numpy as np\n",
    "import math\n",
    "\n",
    "from ml_logic.data_import import get_weather_data, get_divvy_data\n",
    "from ml_logic.cleaning import weather_cleaning, cleaning_divvy_gen, merge_divvy_weather, features_target\n",
    "from ml_logic.preprocessor import transform_time_features, preprocess_features, target_process, compute_geohash_stations\n",
    "\n",
    "\n",
    "from ml_logic.main import preprocess, preprocess_test"
   ]
  },
  {
   "cell_type": "code",
   "execution_count": 117,
   "id": "2b49d44f",
   "metadata": {},
   "outputs": [
    {
     "name": "stdout",
     "output_type": "stream",
     "text": [
      "Raw data imported\n",
      "Data cleaned and merged\n",
      "features and target dataframes created\n",
      "Geohash of stations computed\n",
      "Geohash of stations added to Features dataframe\n"
     ]
    },
    {
     "name": "stderr",
     "output_type": "stream",
     "text": [
      "/home/gdolle/code/G-Dolle/DIVVY_BIKE/ml_logic/preprocessor.py:40: SettingWithCopyWarning: \n",
      "A value is trying to be set on a copy of a slice from a DataFrame\n",
      "\n",
      "See the caveats in the documentation: https://pandas.pydata.org/pandas-docs/stable/user_guide/indexing.html#returning-a-view-versus-a-copy\n",
      "  df_stations_reduced.rename(columns={\"name\":\"station_name\"}, inplace=True)\n"
     ]
    },
    {
     "name": "stdout",
     "output_type": "stream",
     "text": [
      "features preprocessed\n",
      "nb_arrivals picked as target\n",
      "Preprocessing of Training set is done\n"
     ]
    }
   ],
   "source": [
    "X_processed_df, y_processed_df, preprocessor, df_stations_reduced = preprocess(\"nb_arrivals\")\n",
    "X_test_processed, y_test_processed=preprocess_test(preprocessor, \"nb_arrivals\", df_stations_reduced)"
   ]
  },
  {
   "cell_type": "code",
   "execution_count": 118,
   "id": "9a7560b1",
   "metadata": {},
   "outputs": [
    {
     "data": {
      "text/plain": [
       "(344946, 74)"
      ]
     },
     "execution_count": 118,
     "metadata": {},
     "output_type": "execute_result"
    }
   ],
   "source": [
    "X_processed_df.shape"
   ]
  },
  {
   "cell_type": "code",
   "execution_count": 119,
   "id": "9be14915",
   "metadata": {},
   "outputs": [
    {
     "data": {
      "text/html": [
       "<div>\n",
       "<style scoped>\n",
       "    .dataframe tbody tr th:only-of-type {\n",
       "        vertical-align: middle;\n",
       "    }\n",
       "\n",
       "    .dataframe tbody tr th {\n",
       "        vertical-align: top;\n",
       "    }\n",
       "\n",
       "    .dataframe thead th {\n",
       "        text-align: right;\n",
       "    }\n",
       "</style>\n",
       "<table border=\"1\" class=\"dataframe\">\n",
       "  <thead>\n",
       "    <tr style=\"text-align: right;\">\n",
       "      <th></th>\n",
       "      <th>0</th>\n",
       "      <th>1</th>\n",
       "      <th>2</th>\n",
       "      <th>3</th>\n",
       "      <th>4</th>\n",
       "      <th>5</th>\n",
       "      <th>6</th>\n",
       "      <th>7</th>\n",
       "      <th>8</th>\n",
       "      <th>9</th>\n",
       "      <th>...</th>\n",
       "      <th>64</th>\n",
       "      <th>65</th>\n",
       "      <th>66</th>\n",
       "      <th>67</th>\n",
       "      <th>68</th>\n",
       "      <th>69</th>\n",
       "      <th>70</th>\n",
       "      <th>71</th>\n",
       "      <th>72</th>\n",
       "      <th>73</th>\n",
       "    </tr>\n",
       "  </thead>\n",
       "  <tbody>\n",
       "    <tr>\n",
       "      <th>0</th>\n",
       "      <td>0.0</td>\n",
       "      <td>0.0</td>\n",
       "      <td>0.0</td>\n",
       "      <td>0.0</td>\n",
       "      <td>0.0</td>\n",
       "      <td>1.0</td>\n",
       "      <td>0.0</td>\n",
       "      <td>1.0</td>\n",
       "      <td>0.0</td>\n",
       "      <td>0.0</td>\n",
       "      <td>...</td>\n",
       "      <td>0.0</td>\n",
       "      <td>0.0</td>\n",
       "      <td>0.0</td>\n",
       "      <td>1.0</td>\n",
       "      <td>0.0</td>\n",
       "      <td>0.0</td>\n",
       "      <td>0.0</td>\n",
       "      <td>0.0</td>\n",
       "      <td>0.0</td>\n",
       "      <td>0.0</td>\n",
       "    </tr>\n",
       "    <tr>\n",
       "      <th>1</th>\n",
       "      <td>1.0</td>\n",
       "      <td>0.0</td>\n",
       "      <td>0.0</td>\n",
       "      <td>0.0</td>\n",
       "      <td>0.0</td>\n",
       "      <td>0.0</td>\n",
       "      <td>0.0</td>\n",
       "      <td>1.0</td>\n",
       "      <td>0.0</td>\n",
       "      <td>0.0</td>\n",
       "      <td>...</td>\n",
       "      <td>0.0</td>\n",
       "      <td>0.0</td>\n",
       "      <td>0.0</td>\n",
       "      <td>1.0</td>\n",
       "      <td>0.0</td>\n",
       "      <td>0.0</td>\n",
       "      <td>0.0</td>\n",
       "      <td>0.0</td>\n",
       "      <td>0.0</td>\n",
       "      <td>0.0</td>\n",
       "    </tr>\n",
       "  </tbody>\n",
       "</table>\n",
       "<p>2 rows × 74 columns</p>\n",
       "</div>"
      ],
      "text/plain": [
       "    0    1    2    3    4    5    6    7    8    9   ...   64   65   66   67  \\\n",
       "0  0.0  0.0  0.0  0.0  0.0  1.0  0.0  1.0  0.0  0.0  ...  0.0  0.0  0.0  1.0   \n",
       "1  1.0  0.0  0.0  0.0  0.0  0.0  0.0  1.0  0.0  0.0  ...  0.0  0.0  0.0  1.0   \n",
       "\n",
       "    68   69   70   71   72   73  \n",
       "0  0.0  0.0  0.0  0.0  0.0  0.0  \n",
       "1  0.0  0.0  0.0  0.0  0.0  0.0  \n",
       "\n",
       "[2 rows x 74 columns]"
      ]
     },
     "execution_count": 119,
     "metadata": {},
     "output_type": "execute_result"
    }
   ],
   "source": [
    "X_processed_df.head(2)"
   ]
  },
  {
   "cell_type": "code",
   "execution_count": 120,
   "id": "e0f4de7e",
   "metadata": {},
   "outputs": [
    {
     "name": "stdout",
     "output_type": "stream",
     "text": [
      "Test Raw data imported\n",
      "Test Data cleaned and merged\n",
      "Test features and target dataframes created\n",
      "nb_arrivals picked as target\n",
      "Preprocessing of test set is done\n"
     ]
    }
   ],
   "source": [
    "X_test_processed, y_test_processed=preprocess_test(preprocessor, \"nb_arrivals\", df_stations_reduced)"
   ]
  },
  {
   "cell_type": "code",
   "execution_count": 121,
   "id": "7a4ad011",
   "metadata": {},
   "outputs": [
    {
     "data": {
      "text/plain": [
       "(659944, 74)"
      ]
     },
     "execution_count": 121,
     "metadata": {},
     "output_type": "execute_result"
    }
   ],
   "source": [
    "X_test_processed.shape"
   ]
  },
  {
   "cell_type": "code",
   "execution_count": 123,
   "id": "cc760ac1",
   "metadata": {},
   "outputs": [
    {
     "data": {
      "text/html": [
       "<div>\n",
       "<style scoped>\n",
       "    .dataframe tbody tr th:only-of-type {\n",
       "        vertical-align: middle;\n",
       "    }\n",
       "\n",
       "    .dataframe tbody tr th {\n",
       "        vertical-align: top;\n",
       "    }\n",
       "\n",
       "    .dataframe thead th {\n",
       "        text-align: right;\n",
       "    }\n",
       "</style>\n",
       "<table border=\"1\" class=\"dataframe\">\n",
       "  <thead>\n",
       "    <tr style=\"text-align: right;\">\n",
       "      <th></th>\n",
       "      <th>0</th>\n",
       "      <th>1</th>\n",
       "      <th>2</th>\n",
       "      <th>3</th>\n",
       "      <th>4</th>\n",
       "      <th>5</th>\n",
       "      <th>6</th>\n",
       "      <th>7</th>\n",
       "      <th>8</th>\n",
       "      <th>9</th>\n",
       "      <th>...</th>\n",
       "      <th>64</th>\n",
       "      <th>65</th>\n",
       "      <th>66</th>\n",
       "      <th>67</th>\n",
       "      <th>68</th>\n",
       "      <th>69</th>\n",
       "      <th>70</th>\n",
       "      <th>71</th>\n",
       "      <th>72</th>\n",
       "      <th>73</th>\n",
       "    </tr>\n",
       "  </thead>\n",
       "  <tbody>\n",
       "    <tr>\n",
       "      <th>0</th>\n",
       "      <td>1.0</td>\n",
       "      <td>0.0</td>\n",
       "      <td>0.0</td>\n",
       "      <td>0.0</td>\n",
       "      <td>0.0</td>\n",
       "      <td>0.0</td>\n",
       "      <td>0.0</td>\n",
       "      <td>0.0</td>\n",
       "      <td>0.0</td>\n",
       "      <td>0.0</td>\n",
       "      <td>...</td>\n",
       "      <td>0.0</td>\n",
       "      <td>0.0</td>\n",
       "      <td>0.0</td>\n",
       "      <td>0.0</td>\n",
       "      <td>0.0</td>\n",
       "      <td>0.0</td>\n",
       "      <td>0.0</td>\n",
       "      <td>0.0</td>\n",
       "      <td>0.0</td>\n",
       "      <td>0.0</td>\n",
       "    </tr>\n",
       "    <tr>\n",
       "      <th>1</th>\n",
       "      <td>0.0</td>\n",
       "      <td>0.0</td>\n",
       "      <td>0.0</td>\n",
       "      <td>1.0</td>\n",
       "      <td>0.0</td>\n",
       "      <td>0.0</td>\n",
       "      <td>0.0</td>\n",
       "      <td>0.0</td>\n",
       "      <td>0.0</td>\n",
       "      <td>0.0</td>\n",
       "      <td>...</td>\n",
       "      <td>0.0</td>\n",
       "      <td>0.0</td>\n",
       "      <td>0.0</td>\n",
       "      <td>0.0</td>\n",
       "      <td>0.0</td>\n",
       "      <td>0.0</td>\n",
       "      <td>0.0</td>\n",
       "      <td>0.0</td>\n",
       "      <td>0.0</td>\n",
       "      <td>0.0</td>\n",
       "    </tr>\n",
       "  </tbody>\n",
       "</table>\n",
       "<p>2 rows × 74 columns</p>\n",
       "</div>"
      ],
      "text/plain": [
       "    0    1    2    3    4    5    6    7    8    9   ...   64   65   66   67  \\\n",
       "0  1.0  0.0  0.0  0.0  0.0  0.0  0.0  0.0  0.0  0.0  ...  0.0  0.0  0.0  0.0   \n",
       "1  0.0  0.0  0.0  1.0  0.0  0.0  0.0  0.0  0.0  0.0  ...  0.0  0.0  0.0  0.0   \n",
       "\n",
       "    68   69   70   71   72   73  \n",
       "0  0.0  0.0  0.0  0.0  0.0  0.0  \n",
       "1  0.0  0.0  0.0  0.0  0.0  0.0  \n",
       "\n",
       "[2 rows x 74 columns]"
      ]
     },
     "execution_count": 123,
     "metadata": {},
     "output_type": "execute_result"
    }
   ],
   "source": [
    "pd.DataFrame(X_test_processed).head(2)"
   ]
  },
  {
   "cell_type": "code",
   "execution_count": 101,
   "id": "29a0116f",
   "metadata": {},
   "outputs": [],
   "source": [
    "quarter= os.environ.get(\"DIVVY_QUARTER_TEST\")\n",
    "year= os.environ.get(\"DIVVY_YEAR_TEST\")\n",
    "\n",
    "raw_divvy_df = get_divvy_data(year,quarter)\n",
    "raw_weather_df = get_weather_data()\n"
   ]
  },
  {
   "cell_type": "code",
   "execution_count": 102,
   "id": "cd639bda",
   "metadata": {},
   "outputs": [],
   "source": [
    "clean_divvy_df = cleaning_divvy_gen(raw_divvy_df)\n",
    "clean_weather_df = weather_cleaning(raw_weather_df)\n",
    "\n",
    "merged_df_test = merge_divvy_weather(clean_divvy_df, clean_weather_df)"
   ]
  },
  {
   "cell_type": "code",
   "execution_count": 103,
   "id": "0bc9de06",
   "metadata": {},
   "outputs": [],
   "source": [
    "X_test, y_test = features_target(merged_df_test, \"nb_arrivals\")"
   ]
  },
  {
   "cell_type": "code",
   "execution_count": 104,
   "id": "a89e34c4",
   "metadata": {},
   "outputs": [],
   "source": [
    "X_complete=X_test.merge(df_stations_reduced,how=\"left\",on=[\"station_name\"])"
   ]
  },
  {
   "cell_type": "code",
   "execution_count": 105,
   "id": "63c627ff",
   "metadata": {},
   "outputs": [
    {
     "data": {
      "text/html": [
       "<div>\n",
       "<style scoped>\n",
       "    .dataframe tbody tr th:only-of-type {\n",
       "        vertical-align: middle;\n",
       "    }\n",
       "\n",
       "    .dataframe tbody tr th {\n",
       "        vertical-align: top;\n",
       "    }\n",
       "\n",
       "    .dataframe thead th {\n",
       "        text-align: right;\n",
       "    }\n",
       "</style>\n",
       "<table border=\"1\" class=\"dataframe\">\n",
       "  <thead>\n",
       "    <tr style=\"text-align: right;\">\n",
       "      <th></th>\n",
       "      <th>station_name</th>\n",
       "      <th>station_id</th>\n",
       "      <th>hourly_data</th>\n",
       "      <th>dt_iso</th>\n",
       "      <th>temp</th>\n",
       "      <th>pressure</th>\n",
       "      <th>humidity</th>\n",
       "      <th>wind_speed</th>\n",
       "      <th>wind_deg</th>\n",
       "      <th>clouds_all</th>\n",
       "      <th>geohash</th>\n",
       "    </tr>\n",
       "  </thead>\n",
       "  <tbody>\n",
       "    <tr>\n",
       "      <th>0</th>\n",
       "      <td>111th St - Morgan Park Metra</td>\n",
       "      <td>682</td>\n",
       "      <td>2022-05-09 17:00:00</td>\n",
       "      <td>2022-05-09 17:00:00</td>\n",
       "      <td>23.11</td>\n",
       "      <td>1013</td>\n",
       "      <td>51</td>\n",
       "      <td>7.72</td>\n",
       "      <td>160</td>\n",
       "      <td>75</td>\n",
       "      <td>NaN</td>\n",
       "    </tr>\n",
       "    <tr>\n",
       "      <th>1</th>\n",
       "      <td>111th St - Morgan Park Metra</td>\n",
       "      <td>682</td>\n",
       "      <td>2022-05-12 18:00:00</td>\n",
       "      <td>2022-05-12 18:00:00</td>\n",
       "      <td>32.62</td>\n",
       "      <td>1018</td>\n",
       "      <td>43</td>\n",
       "      <td>7.72</td>\n",
       "      <td>170</td>\n",
       "      <td>20</td>\n",
       "      <td>NaN</td>\n",
       "    </tr>\n",
       "  </tbody>\n",
       "</table>\n",
       "</div>"
      ],
      "text/plain": [
       "                   station_name station_id         hourly_data  \\\n",
       "0  111th St - Morgan Park Metra        682 2022-05-09 17:00:00   \n",
       "1  111th St - Morgan Park Metra        682 2022-05-12 18:00:00   \n",
       "\n",
       "               dt_iso   temp  pressure  humidity  wind_speed  wind_deg  \\\n",
       "0 2022-05-09 17:00:00  23.11      1013        51        7.72       160   \n",
       "1 2022-05-12 18:00:00  32.62      1018        43        7.72       170   \n",
       "\n",
       "   clouds_all geohash  \n",
       "0          75     NaN  \n",
       "1          20     NaN  "
      ]
     },
     "execution_count": 105,
     "metadata": {},
     "output_type": "execute_result"
    }
   ],
   "source": [
    "X_complete.head(2)"
   ]
  },
  {
   "cell_type": "code",
   "execution_count": 107,
   "id": "b4536174",
   "metadata": {},
   "outputs": [
    {
     "data": {
      "text/plain": [
       "array([nan, 'dp3wu', 'dp3tx', 'dp3wj', 'dp3wm', 'dp3tj', 'dp3wn', 'dp3wh',\n",
       "       'dp3ws', 'dp3wk', 'dp3sy', 'dp3tu', 'dp3tv', 'dp3tt', 'dp3wt',\n",
       "       'dp3w7', 'dp3w6', 'dp3v0', 'dp3sz', 'dp3we', 'dp3tr', 'dp3xh',\n",
       "       'dp3tp', 'dp3ty', 'dp3w3', 'dp3xj', 'dp3wv', 'dp3v2', 'dp3ts',\n",
       "       'dp3tw', 'dp3w4', 'dp3wd', 'dp3w5', 'dp3xk', 'dp3tq', 'dp3wq',\n",
       "       'dp3tn', 'dp3tm', 'dp3te', 'dp3w9', 'dp3th', 'dp3tg', 'dp3x7',\n",
       "       'dp3tz', 'dp3wg', 'dp3t7', 'dp3tk'], dtype=object)"
      ]
     },
     "execution_count": 107,
     "metadata": {},
     "output_type": "execute_result"
    }
   ],
   "source": [
    "X_complete.geohash.unique()"
   ]
  },
  {
   "cell_type": "code",
   "execution_count": 108,
   "id": "ca56ca70",
   "metadata": {},
   "outputs": [],
   "source": [
    "X_complete.geohash.replace(np.nan, \"aaa\", inplace=True)"
   ]
  },
  {
   "cell_type": "code",
   "execution_count": 109,
   "id": "5b2f1ef4",
   "metadata": {},
   "outputs": [
    {
     "data": {
      "text/plain": [
       "array(['aaa', 'dp3wu', 'dp3tx', 'dp3wj', 'dp3wm', 'dp3tj', 'dp3wn',\n",
       "       'dp3wh', 'dp3ws', 'dp3wk', 'dp3sy', 'dp3tu', 'dp3tv', 'dp3tt',\n",
       "       'dp3wt', 'dp3w7', 'dp3w6', 'dp3v0', 'dp3sz', 'dp3we', 'dp3tr',\n",
       "       'dp3xh', 'dp3tp', 'dp3ty', 'dp3w3', 'dp3xj', 'dp3wv', 'dp3v2',\n",
       "       'dp3ts', 'dp3tw', 'dp3w4', 'dp3wd', 'dp3w5', 'dp3xk', 'dp3tq',\n",
       "       'dp3wq', 'dp3tn', 'dp3tm', 'dp3te', 'dp3w9', 'dp3th', 'dp3tg',\n",
       "       'dp3x7', 'dp3tz', 'dp3wg', 'dp3t7', 'dp3tk'], dtype=object)"
      ]
     },
     "execution_count": 109,
     "metadata": {},
     "output_type": "execute_result"
    }
   ],
   "source": [
    "X_complete.geohash.unique()"
   ]
  },
  {
   "cell_type": "code",
   "execution_count": 106,
   "id": "09e94438",
   "metadata": {},
   "outputs": [
    {
     "data": {
      "text/html": [
       "<div>\n",
       "<style scoped>\n",
       "    .dataframe tbody tr th:only-of-type {\n",
       "        vertical-align: middle;\n",
       "    }\n",
       "\n",
       "    .dataframe tbody tr th {\n",
       "        vertical-align: top;\n",
       "    }\n",
       "\n",
       "    .dataframe thead th {\n",
       "        text-align: right;\n",
       "    }\n",
       "</style>\n",
       "<table border=\"1\" class=\"dataframe\">\n",
       "  <thead>\n",
       "    <tr style=\"text-align: right;\">\n",
       "      <th></th>\n",
       "      <th>station_name</th>\n",
       "      <th>geohash</th>\n",
       "    </tr>\n",
       "  </thead>\n",
       "  <tbody>\n",
       "  </tbody>\n",
       "</table>\n",
       "</div>"
      ],
      "text/plain": [
       "Empty DataFrame\n",
       "Columns: [station_name, geohash]\n",
       "Index: []"
      ]
     },
     "execution_count": 106,
     "metadata": {},
     "output_type": "execute_result"
    }
   ],
   "source": [
    "df_stations_reduced[df_stations_reduced[\"station_name\"]==\"111th St - Morgan Park Metra\"]"
   ]
  },
  {
   "cell_type": "code",
   "execution_count": 115,
   "id": "fd358ccb",
   "metadata": {},
   "outputs": [],
   "source": [
    "X_test_processed = preprocessor.transform(X_complete)"
   ]
  },
  {
   "cell_type": "code",
   "execution_count": 2,
   "id": "83d537ac",
   "metadata": {},
   "outputs": [
    {
     "data": {
      "text/plain": [
       "'/home/gdolle/code/G-Dolle/DIVVY_BIKE/notebooks'"
      ]
     },
     "execution_count": 2,
     "metadata": {},
     "output_type": "execute_result"
    }
   ],
   "source": [
    "pwd"
   ]
  },
  {
   "cell_type": "code",
   "execution_count": 3,
   "id": "593e73af",
   "metadata": {},
   "outputs": [
    {
     "name": "stdout",
     "output_type": "stream",
     "text": [
      "/home/gdolle/code/G-Dolle/DIVVY_BIKE\n"
     ]
    }
   ],
   "source": [
    "cd '/home/gdolle/code/G-Dolle/DIVVY_BIKE'"
   ]
  },
  {
   "cell_type": "code",
   "execution_count": 4,
   "id": "17fdde3d",
   "metadata": {},
   "outputs": [],
   "source": [
    "import os\n",
    "import pandas as pd\n",
    "import numpy as np\n",
    "import math\n",
    "\n",
    "from ml_logic.data_import import get_weather_data, get_divvy_data\n",
    "from ml_logic.cleaning import weather_cleaning, cleaning_divvy_gen, merge_divvy_weather, features_target\n",
    "from ml_logic.preprocessor import transform_time_features, preprocess_features, target_process, compute_geohash_stations\n",
    "\n",
    "\n",
    "from ml_logic.main import preprocess, preprocess_test"
   ]
  },
  {
   "cell_type": "code",
   "execution_count": 6,
   "id": "17598295",
   "metadata": {},
   "outputs": [
    {
     "name": "stdout",
     "output_type": "stream",
     "text": [
      "Raw data imported\n",
      "Data cleaned and merged\n",
      "features and target dataframes created\n",
      "Geohash of stations computed\n",
      "Geohash of stations added to Features dataframe\n"
     ]
    },
    {
     "name": "stderr",
     "output_type": "stream",
     "text": [
      "/home/gdolle/code/G-Dolle/DIVVY_BIKE/ml_logic/preprocessor.py:40: SettingWithCopyWarning: \n",
      "A value is trying to be set on a copy of a slice from a DataFrame\n",
      "\n",
      "See the caveats in the documentation: https://pandas.pydata.org/pandas-docs/stable/user_guide/indexing.html#returning-a-view-versus-a-copy\n",
      "  df_stations_reduced.rename(columns={\"name\":\"station_name\"}, inplace=True)\n"
     ]
    },
    {
     "name": "stdout",
     "output_type": "stream",
     "text": [
      "features preprocessed\n",
      "nb_arrivals picked as target\n",
      "Preprocessing of Training set is done\n"
     ]
    }
   ],
   "source": [
    "X_processed_df, y_processed_df, preprocessor, df_stations_reduced = preprocess(\"nb_arrivals\")"
   ]
  },
  {
   "cell_type": "code",
   "execution_count": 7,
   "id": "2fcb45b4",
   "metadata": {},
   "outputs": [
    {
     "data": {
      "text/plain": [
       "(718651, 72)"
      ]
     },
     "execution_count": 7,
     "metadata": {},
     "output_type": "execute_result"
    }
   ],
   "source": [
    "X_processed_df.shape"
   ]
  },
  {
   "cell_type": "code",
   "execution_count": 8,
   "id": "3a3d0bde",
   "metadata": {},
   "outputs": [
    {
     "name": "stdout",
     "output_type": "stream",
     "text": [
      "Test Raw data imported\n",
      "Test Data cleaned and merged\n",
      "Test features and target dataframes created\n",
      "nb_arrivals picked as target\n",
      "Preprocessing of test set is done\n"
     ]
    }
   ],
   "source": [
    "X_test_processed, y_test_processed=preprocess_test(preprocessor, \"nb_arrivals\", df_stations_reduced)"
   ]
  },
  {
   "cell_type": "code",
   "execution_count": 9,
   "id": "d37a2310",
   "metadata": {},
   "outputs": [
    {
     "data": {
      "text/plain": [
       "(539439, 72)"
      ]
     },
     "execution_count": 9,
     "metadata": {},
     "output_type": "execute_result"
    }
   ],
   "source": [
    "X_test_processed.shape"
   ]
  },
  {
   "cell_type": "code",
   "execution_count": null,
   "id": "6b42551a",
   "metadata": {},
   "outputs": [],
   "source": []
  }
 ],
 "metadata": {
  "kernelspec": {
   "display_name": "Python 3.10.6 64-bit ('shims')",
   "language": "python",
   "name": "python3"
  },
  "language_info": {
   "codemirror_mode": {
    "name": "ipython",
    "version": 3
   },
   "file_extension": ".py",
   "mimetype": "text/x-python",
   "name": "python",
   "nbconvert_exporter": "python",
   "pygments_lexer": "ipython3",
   "version": "3.10.6"
  },
  "toc": {
   "base_numbering": 1,
   "nav_menu": {},
   "number_sections": true,
   "sideBar": true,
   "skip_h1_title": false,
   "title_cell": "Table of Contents",
   "title_sidebar": "Contents",
   "toc_cell": false,
   "toc_position": {},
   "toc_section_display": true,
   "toc_window_display": false
  },
  "vscode": {
   "interpreter": {
    "hash": "3648025edf73e73ba1159d04e874dc4e15a775332e01bb12a6a44f83c0d92c19"
   }
  }
 },
 "nbformat": 4,
 "nbformat_minor": 5
}
