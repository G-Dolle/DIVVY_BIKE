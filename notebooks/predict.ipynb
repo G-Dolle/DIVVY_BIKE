{
 "cells": [
  {
   "cell_type": "code",
   "execution_count": 1,
   "metadata": {},
   "outputs": [
    {
     "data": {
      "text/plain": [
       "'/home/gdolle/code/G-Dolle/DIVVY_BIKE/notebooks'"
      ]
     },
     "execution_count": 1,
     "metadata": {},
     "output_type": "execute_result"
    }
   ],
   "source": [
    "pwd"
   ]
  },
  {
   "cell_type": "code",
   "execution_count": 2,
   "metadata": {},
   "outputs": [
    {
     "name": "stdout",
     "output_type": "stream",
     "text": [
      "/home/gdolle/code/G-Dolle/DIVVY_BIKE\n"
     ]
    }
   ],
   "source": [
    "cd '/home/gdolle/code/G-Dolle/DIVVY_BIKE'"
   ]
  },
  {
   "cell_type": "code",
   "execution_count": 3,
   "metadata": {},
   "outputs": [],
   "source": [
    "import pandas as pd\n",
    "import numpy as np\n",
    "import requests\n",
    "import urllib.parse\n",
    "import os\n",
    "from sklearn.neighbors import NearestNeighbors\n",
    "from datetime import datetime\n",
    "from ml_logic.cleaning import weather_cleaning"
   ]
  },
  {
   "cell_type": "code",
   "execution_count": 5,
   "metadata": {},
   "outputs": [],
   "source": [
    "def chicago_weather_forecast():\n",
    "    '''Return a 5-day weather forecast for the city of Chicago'''\n",
    "\n",
    "    api_key= os.environ.get(\"WEATHER_API_KEY\")\n",
    "\n",
    "    \n",
    "    BASE_URI=\"https://weather.lewagon.com\"\n",
    "    url=urllib.parse.urljoin(BASE_URI, \"/data/2.5/forecast\")\n",
    "    forecasts=requests.get(url, params={'lat': 41.87, 'lon': -87.62, 'units': 'metric', 'appid':api_key}).json()['list']\n",
    "    for_list = list(forecasts)\n",
    "    return for_list"
   ]
  },
  {
   "cell_type": "code",
   "execution_count": 6,
   "metadata": {},
   "outputs": [],
   "source": [
    "forecasts = chicago_weather_forecast()"
   ]
  },
  {
   "cell_type": "code",
   "execution_count": 7,
   "metadata": {},
   "outputs": [
    {
     "data": {
      "text/plain": [
       "list"
      ]
     },
     "execution_count": 7,
     "metadata": {},
     "output_type": "execute_result"
    }
   ],
   "source": [
    "type(forecasts)"
   ]
  },
  {
   "cell_type": "code",
   "execution_count": 9,
   "metadata": {},
   "outputs": [
    {
     "data": {
      "text/plain": [
       "40"
      ]
     },
     "execution_count": 9,
     "metadata": {},
     "output_type": "execute_result"
    }
   ],
   "source": [
    "len(forecasts)"
   ]
  },
  {
   "cell_type": "code",
   "execution_count": 5,
   "metadata": {},
   "outputs": [],
   "source": [
    "def convert_chicago_forecast_todf(forecasts:list):\n",
    "    \"\"\"\n",
    "    Return a pre-preprocessed dataframe for the 5-day\n",
    "    weather forecast of Chicago\n",
    "\n",
    "    \"\"\"\n",
    "\n",
    "    def rename_keys(dico,new_keys):\n",
    "        '''\n",
    "        Allows to replace keys' names in a dictionary with new ones\n",
    "        '''\n",
    "        tmp = dict( zip( list(dico.keys()), new_keys) )\n",
    "        result = {tmp[oldK]: value for oldK, value in dico.items()}\n",
    "\n",
    "        return result\n",
    "\n",
    "    def slice_cleaning(forecasts,slice):\n",
    "        '''\n",
    "        Separates the different dictionaries within the json file returned by the\n",
    "        weather API and concatenates these into a single dictionary\n",
    "        '''\n",
    "        one_obs = forecasts[slice]\n",
    "        main = one_obs[\"main\"]\n",
    "        weather = one_obs[\"weather\"][0]\n",
    "        clouds = one_obs[\"clouds\"]\n",
    "        wind = one_obs[\"wind\"]\n",
    "\n",
    "        dt_txt = one_obs[\"dt_txt\"]\n",
    "        visibility = one_obs[\"visibility\"]\n",
    "\n",
    "\n",
    "        new_keys_weather = [\"weather_id\",\"weather_main\",\"weather_description\",\"weather_icon\"]\n",
    "        new_keys_cloud =[\"clouds_all\"]\n",
    "        new_keys_wind =['wind_speed', 'wind_deg','wind_gust']\n",
    "\n",
    "        weather_clean = rename_keys(weather, new_keys_weather)\n",
    "        clouds_clean = rename_keys(clouds, new_keys_cloud)\n",
    "        wind_clean = rename_keys(wind, new_keys_wind)\n",
    "\n",
    "        dall = {}\n",
    "        dall[\"dt_iso\"] = dt_txt\n",
    "        for d in [main, weather_clean, wind_clean ,clouds_clean]:\n",
    "            dall.update(d)\n",
    "\n",
    "        dall[\"visibility\"] = visibility\n",
    "\n",
    "        return dall\n",
    "\n",
    "    # Storing these dictionaries into a list\n",
    "    list_of_slices=[]\n",
    "\n",
    "    for i in range(0,len(forecasts)):\n",
    "\n",
    "        dall = slice_cleaning(forecasts,i)\n",
    "\n",
    "        list_of_slices.append(dall)\n",
    "\n",
    "    # Converting this list of dictionaries into a dataframe\n",
    "    forecast_df = pd.DataFrame.from_dict(list_of_slices)\n",
    "\n",
    "    return forecast_df"
   ]
  },
  {
   "cell_type": "code",
   "execution_count": null,
   "metadata": {},
   "outputs": [],
   "source": []
  },
  {
   "cell_type": "code",
   "execution_count": 6,
   "metadata": {},
   "outputs": [],
   "source": [
    "def clean_forecast(df):\n",
    "    '''\n",
    "    returns a cleaned weather forecast dataframe\n",
    "    '''\n",
    "    cleaned_df = weather_cleaning(df)\n",
    "\n",
    "    return cleaned_df\n",
    "\n",
    "def get_right_forecast(departure_date,departure_time,df):\n",
    "    \"\"\"\n",
    "    Return the closest hourly weather forecast to the date and time inputs\n",
    "    provided by the end-user\n",
    "    \"\"\"\n",
    "\n",
    "    full_time_input= datetime.datetime.combine(departure_date,departure_time)\n",
    "    df[\"user_input\"] = pd.to_datetime(full_time_input)\n",
    "    df[\"date_input\"]=df[\"user_input\"].dt.date\n",
    "    df[\"date_weather\"]=df[\"hourly_data\"].dt.date\n",
    "\n",
    "    df_reduc = df[df[\"date_weather\"]==df[\"date_input\"]]\n",
    "\n",
    "\n",
    "    df_reduc[\"time_diff\"] = df_reduc[\"user_input\"] - df_reduc[\"hourly_data\"]\n",
    "    df_reduc=df_reduc[df_reduc[\"time_diff\"]>pd.Timedelta(0)]\n",
    "    cond = df_reduc[\"time_diff\"].min()\n",
    "    new_data = df_reduc[df_reduc[\"time_diff\"]==cond]\n",
    "    new_data.drop(columns=[\"user_input\",\"date_input\",\"date_weather\",\"time_diff\"], inplace=True)\n",
    "\n",
    "    return new_data\n"
   ]
  },
  {
   "cell_type": "markdown",
   "metadata": {},
   "source": [
    "# Workflow"
   ]
  },
  {
   "cell_type": "markdown",
   "metadata": {},
   "source": [
    "## Current shape of predict dataframe"
   ]
  },
  {
   "cell_type": "code",
   "execution_count": 7,
   "metadata": {},
   "outputs": [],
   "source": [
    "forecasts = chicago_weather_forecast()"
   ]
  },
  {
   "cell_type": "code",
   "execution_count": 8,
   "metadata": {},
   "outputs": [],
   "source": [
    "forecast_df = convert_chicago_forecast_todf(forecasts)"
   ]
  },
  {
   "cell_type": "code",
   "execution_count": 9,
   "metadata": {},
   "outputs": [],
   "source": [
    "cleaned_df = clean_forecast(forecast_df)"
   ]
  },
  {
   "cell_type": "code",
   "execution_count": 10,
   "metadata": {},
   "outputs": [
    {
     "name": "stdout",
     "output_type": "stream",
     "text": [
      "2022-12-14\n",
      "12:58:00\n"
     ]
    }
   ],
   "source": [
    "import datetime\n",
    "\n",
    "departure_date = datetime.date(2022, 12, 14)\n",
    "departure_time = datetime.time(12, 58, 0)\n",
    "\n",
    "print(departure_date)\n",
    "print(departure_time)"
   ]
  },
  {
   "cell_type": "code",
   "execution_count": 11,
   "metadata": {},
   "outputs": [
    {
     "name": "stderr",
     "output_type": "stream",
     "text": [
      "/tmp/ipykernel_6041/1013790689.py:23: SettingWithCopyWarning: \n",
      "A value is trying to be set on a copy of a slice from a DataFrame.\n",
      "Try using .loc[row_indexer,col_indexer] = value instead\n",
      "\n",
      "See the caveats in the documentation: https://pandas.pydata.org/pandas-docs/stable/user_guide/indexing.html#returning-a-view-versus-a-copy\n",
      "  df_reduc[\"time_diff\"] = df_reduc[\"user_input\"] - df_reduc[\"hourly_data\"]\n",
      "/tmp/ipykernel_6041/1013790689.py:27: SettingWithCopyWarning: \n",
      "A value is trying to be set on a copy of a slice from a DataFrame\n",
      "\n",
      "See the caveats in the documentation: https://pandas.pydata.org/pandas-docs/stable/user_guide/indexing.html#returning-a-view-versus-a-copy\n",
      "  new_data.drop(columns=[\"user_input\",\"date_input\",\"date_weather\",\"time_diff\"], inplace=True)\n"
     ]
    }
   ],
   "source": [
    "final_df = get_right_forecast(departure_date,departure_time,cleaned_df)"
   ]
  },
  {
   "cell_type": "code",
   "execution_count": 12,
   "metadata": {},
   "outputs": [
    {
     "data": {
      "text/plain": [
       "(1, 8)"
      ]
     },
     "execution_count": 12,
     "metadata": {},
     "output_type": "execute_result"
    }
   ],
   "source": [
    "final_df.shape"
   ]
  },
  {
   "cell_type": "code",
   "execution_count": 13,
   "metadata": {},
   "outputs": [
    {
     "data": {
      "text/html": [
       "<div>\n",
       "<style scoped>\n",
       "    .dataframe tbody tr th:only-of-type {\n",
       "        vertical-align: middle;\n",
       "    }\n",
       "\n",
       "    .dataframe tbody tr th {\n",
       "        vertical-align: top;\n",
       "    }\n",
       "\n",
       "    .dataframe thead th {\n",
       "        text-align: right;\n",
       "    }\n",
       "</style>\n",
       "<table border=\"1\" class=\"dataframe\">\n",
       "  <thead>\n",
       "    <tr style=\"text-align: right;\">\n",
       "      <th></th>\n",
       "      <th>dt_iso</th>\n",
       "      <th>temp</th>\n",
       "      <th>pressure</th>\n",
       "      <th>humidity</th>\n",
       "      <th>wind_speed</th>\n",
       "      <th>wind_deg</th>\n",
       "      <th>clouds_all</th>\n",
       "      <th>hourly_data</th>\n",
       "    </tr>\n",
       "  </thead>\n",
       "  <tbody>\n",
       "    <tr>\n",
       "      <th>9</th>\n",
       "      <td>2022-12-14 12:00:00</td>\n",
       "      <td>4.22</td>\n",
       "      <td>1012</td>\n",
       "      <td>87</td>\n",
       "      <td>10.51</td>\n",
       "      <td>119</td>\n",
       "      <td>100</td>\n",
       "      <td>2022-12-14 12:00:00</td>\n",
       "    </tr>\n",
       "  </tbody>\n",
       "</table>\n",
       "</div>"
      ],
      "text/plain": [
       "               dt_iso  temp  pressure  humidity  wind_speed  wind_deg  \\\n",
       "9 2022-12-14 12:00:00  4.22      1012        87       10.51       119   \n",
       "\n",
       "   clouds_all         hourly_data  \n",
       "9         100 2022-12-14 12:00:00  "
      ]
     },
     "execution_count": 13,
     "metadata": {},
     "output_type": "execute_result"
    }
   ],
   "source": [
    "final_df.head()"
   ]
  },
  {
   "cell_type": "markdown",
   "metadata": {},
   "source": [
    "## Get shape of training set before pipeline preprocessing"
   ]
  },
  {
   "cell_type": "code",
   "execution_count": 14,
   "metadata": {},
   "outputs": [],
   "source": [
    "import os\n",
    "import pandas as pd\n",
    "import numpy as np\n",
    "import math\n",
    "\n",
    "from divvy.ml_logic.data_import import get_weather_data, get_divvy_data\n",
    "from divvy.ml_logic.cleaning import compute_geohash_stations,weather_cleaning, cleaning_divvy_gen,cleaning_divvy_gen_agg, merge_divvy_weather, features_target\n",
    "from divvy.ml_logic.preprocessor import transform_time_features, preprocess_features, target_process\n"
   ]
  },
  {
   "cell_type": "code",
   "execution_count": 15,
   "metadata": {},
   "outputs": [
    {
     "name": "stdout",
     "output_type": "stream",
     "text": [
      "Raw data imported\n"
     ]
    },
    {
     "name": "stderr",
     "output_type": "stream",
     "text": [
      "/home/gdolle/code/G-Dolle/DIVVY_BIKE/ml_logic/cleaning.py:21: SettingWithCopyWarning: \n",
      "A value is trying to be set on a copy of a slice from a DataFrame\n",
      "\n",
      "See the caveats in the documentation: https://pandas.pydata.org/pandas-docs/stable/user_guide/indexing.html#returning-a-view-versus-a-copy\n",
      "  df_stations_reduced.rename(columns={\"name\":\"station_name\"}, inplace=True)\n"
     ]
    },
    {
     "name": "stdout",
     "output_type": "stream",
     "text": [
      "Data cleaned and merged\n"
     ]
    }
   ],
   "source": [
    "# Import data\n",
    "target_chosen=\"nb_arrivals\"\n",
    "\n",
    "quarter= os.environ.get(\"DIVVY_QUARTER\")\n",
    "year= os.environ.get(\"DIVVY_YEAR\")\n",
    "\n",
    "raw_divvy_df = get_divvy_data(year,quarter)\n",
    "raw_weather_df = get_weather_data()\n",
    "\n",
    "print(\"Raw data imported\")\n",
    "\n",
    "# Clean data & merge data\n",
    "\n",
    "clean_divvy_df = cleaning_divvy_gen_agg(raw_divvy_df)\n",
    "clean_weather_df = weather_cleaning(raw_weather_df)\n",
    "\n",
    "merged_df = merge_divvy_weather(clean_divvy_df, clean_weather_df)\n",
    "\n",
    "print(\"Data cleaned and merged\")\n",
    "\n",
    "# Create features and target dataframes\n",
    "\n",
    "X, y = features_target(merged_df, target_chosen)"
   ]
  },
  {
   "cell_type": "code",
   "execution_count": 16,
   "metadata": {},
   "outputs": [
    {
     "data": {
      "text/plain": [
       "(7204, 9)"
      ]
     },
     "execution_count": 16,
     "metadata": {},
     "output_type": "execute_result"
    }
   ],
   "source": [
    "X.shape"
   ]
  },
  {
   "cell_type": "code",
   "execution_count": 17,
   "metadata": {},
   "outputs": [
    {
     "data": {
      "text/html": [
       "<div>\n",
       "<style scoped>\n",
       "    .dataframe tbody tr th:only-of-type {\n",
       "        vertical-align: middle;\n",
       "    }\n",
       "\n",
       "    .dataframe tbody tr th {\n",
       "        vertical-align: top;\n",
       "    }\n",
       "\n",
       "    .dataframe thead th {\n",
       "        text-align: right;\n",
       "    }\n",
       "</style>\n",
       "<table border=\"1\" class=\"dataframe\">\n",
       "  <thead>\n",
       "    <tr style=\"text-align: right;\">\n",
       "      <th></th>\n",
       "      <th>geohash</th>\n",
       "      <th>hourly_data</th>\n",
       "      <th>dt_iso</th>\n",
       "      <th>temp</th>\n",
       "      <th>pressure</th>\n",
       "      <th>humidity</th>\n",
       "      <th>wind_speed</th>\n",
       "      <th>wind_deg</th>\n",
       "      <th>clouds_all</th>\n",
       "    </tr>\n",
       "  </thead>\n",
       "  <tbody>\n",
       "    <tr>\n",
       "      <th>0</th>\n",
       "      <td>dp3s</td>\n",
       "      <td>2021-07-01 04:00:00</td>\n",
       "      <td>2021-07-01 04:00:00</td>\n",
       "      <td>21.29</td>\n",
       "      <td>1001</td>\n",
       "      <td>84</td>\n",
       "      <td>0.00</td>\n",
       "      <td>0</td>\n",
       "      <td>75</td>\n",
       "    </tr>\n",
       "    <tr>\n",
       "      <th>1</th>\n",
       "      <td>dp3s</td>\n",
       "      <td>2021-07-01 17:00:00</td>\n",
       "      <td>2021-07-01 17:00:00</td>\n",
       "      <td>23.18</td>\n",
       "      <td>1018</td>\n",
       "      <td>62</td>\n",
       "      <td>7.20</td>\n",
       "      <td>20</td>\n",
       "      <td>20</td>\n",
       "    </tr>\n",
       "    <tr>\n",
       "      <th>2</th>\n",
       "      <td>dp3s</td>\n",
       "      <td>2021-07-01 18:00:00</td>\n",
       "      <td>2021-07-01 18:00:00</td>\n",
       "      <td>23.36</td>\n",
       "      <td>1018</td>\n",
       "      <td>61</td>\n",
       "      <td>8.23</td>\n",
       "      <td>30</td>\n",
       "      <td>20</td>\n",
       "    </tr>\n",
       "    <tr>\n",
       "      <th>3</th>\n",
       "      <td>dp3s</td>\n",
       "      <td>2021-07-01 21:00:00</td>\n",
       "      <td>2021-07-01 21:00:00</td>\n",
       "      <td>22.44</td>\n",
       "      <td>1018</td>\n",
       "      <td>55</td>\n",
       "      <td>8.75</td>\n",
       "      <td>30</td>\n",
       "      <td>20</td>\n",
       "    </tr>\n",
       "    <tr>\n",
       "      <th>4</th>\n",
       "      <td>dp3s</td>\n",
       "      <td>2021-07-01 23:00:00</td>\n",
       "      <td>2021-07-01 23:00:00</td>\n",
       "      <td>20.64</td>\n",
       "      <td>1019</td>\n",
       "      <td>62</td>\n",
       "      <td>7.72</td>\n",
       "      <td>40</td>\n",
       "      <td>20</td>\n",
       "    </tr>\n",
       "  </tbody>\n",
       "</table>\n",
       "</div>"
      ],
      "text/plain": [
       "  geohash         hourly_data              dt_iso   temp  pressure  humidity  \\\n",
       "0    dp3s 2021-07-01 04:00:00 2021-07-01 04:00:00  21.29      1001        84   \n",
       "1    dp3s 2021-07-01 17:00:00 2021-07-01 17:00:00  23.18      1018        62   \n",
       "2    dp3s 2021-07-01 18:00:00 2021-07-01 18:00:00  23.36      1018        61   \n",
       "3    dp3s 2021-07-01 21:00:00 2021-07-01 21:00:00  22.44      1018        55   \n",
       "4    dp3s 2021-07-01 23:00:00 2021-07-01 23:00:00  20.64      1019        62   \n",
       "\n",
       "   wind_speed  wind_deg  clouds_all  \n",
       "0        0.00         0          75  \n",
       "1        7.20        20          20  \n",
       "2        8.23        30          20  \n",
       "3        8.75        30          20  \n",
       "4        7.72        40          20  "
      ]
     },
     "execution_count": 17,
     "metadata": {},
     "output_type": "execute_result"
    }
   ],
   "source": [
    "X.head(5)"
   ]
  },
  {
   "cell_type": "code",
   "execution_count": 18,
   "metadata": {},
   "outputs": [
    {
     "data": {
      "text/plain": [
       "5"
      ]
     },
     "execution_count": 18,
     "metadata": {},
     "output_type": "execute_result"
    }
   ],
   "source": [
    "X.geohash.nunique()"
   ]
  },
  {
   "cell_type": "code",
   "execution_count": 20,
   "metadata": {},
   "outputs": [
    {
     "data": {
      "text/plain": [
       "(7204, 1)"
      ]
     },
     "execution_count": 20,
     "metadata": {},
     "output_type": "execute_result"
    }
   ],
   "source": [
    "geohash_df = X[[\"geohash\"]]\n",
    "geohash_df.shape"
   ]
  },
  {
   "cell_type": "code",
   "execution_count": 21,
   "metadata": {},
   "outputs": [
    {
     "data": {
      "text/plain": [
       "(5, 1)"
      ]
     },
     "execution_count": 21,
     "metadata": {},
     "output_type": "execute_result"
    }
   ],
   "source": [
    "geohash_df = geohash_df.drop_duplicates()\n",
    "geohash_df.shape"
   ]
  },
  {
   "cell_type": "code",
   "execution_count": 22,
   "metadata": {},
   "outputs": [],
   "source": [
    "geohash_df['key'] = 0\n",
    "final_df['key'] = 0\n",
    "\n",
    "predict_geohash = geohash_df.merge(final_df, on='key', how='outer')"
   ]
  },
  {
   "cell_type": "code",
   "execution_count": 23,
   "metadata": {},
   "outputs": [
    {
     "data": {
      "text/html": [
       "<div>\n",
       "<style scoped>\n",
       "    .dataframe tbody tr th:only-of-type {\n",
       "        vertical-align: middle;\n",
       "    }\n",
       "\n",
       "    .dataframe tbody tr th {\n",
       "        vertical-align: top;\n",
       "    }\n",
       "\n",
       "    .dataframe thead th {\n",
       "        text-align: right;\n",
       "    }\n",
       "</style>\n",
       "<table border=\"1\" class=\"dataframe\">\n",
       "  <thead>\n",
       "    <tr style=\"text-align: right;\">\n",
       "      <th></th>\n",
       "      <th>geohash</th>\n",
       "      <th>key</th>\n",
       "      <th>dt_iso</th>\n",
       "      <th>temp</th>\n",
       "      <th>pressure</th>\n",
       "      <th>humidity</th>\n",
       "      <th>wind_speed</th>\n",
       "      <th>wind_deg</th>\n",
       "      <th>clouds_all</th>\n",
       "      <th>hourly_data</th>\n",
       "    </tr>\n",
       "  </thead>\n",
       "  <tbody>\n",
       "    <tr>\n",
       "      <th>0</th>\n",
       "      <td>dp3s</td>\n",
       "      <td>0</td>\n",
       "      <td>2022-12-14 12:00:00</td>\n",
       "      <td>4.22</td>\n",
       "      <td>1012</td>\n",
       "      <td>87</td>\n",
       "      <td>10.51</td>\n",
       "      <td>119</td>\n",
       "      <td>100</td>\n",
       "      <td>2022-12-14 12:00:00</td>\n",
       "    </tr>\n",
       "    <tr>\n",
       "      <th>1</th>\n",
       "      <td>dp3t</td>\n",
       "      <td>0</td>\n",
       "      <td>2022-12-14 12:00:00</td>\n",
       "      <td>4.22</td>\n",
       "      <td>1012</td>\n",
       "      <td>87</td>\n",
       "      <td>10.51</td>\n",
       "      <td>119</td>\n",
       "      <td>100</td>\n",
       "      <td>2022-12-14 12:00:00</td>\n",
       "    </tr>\n",
       "    <tr>\n",
       "      <th>2</th>\n",
       "      <td>dp3v</td>\n",
       "      <td>0</td>\n",
       "      <td>2022-12-14 12:00:00</td>\n",
       "      <td>4.22</td>\n",
       "      <td>1012</td>\n",
       "      <td>87</td>\n",
       "      <td>10.51</td>\n",
       "      <td>119</td>\n",
       "      <td>100</td>\n",
       "      <td>2022-12-14 12:00:00</td>\n",
       "    </tr>\n",
       "    <tr>\n",
       "      <th>3</th>\n",
       "      <td>dp3w</td>\n",
       "      <td>0</td>\n",
       "      <td>2022-12-14 12:00:00</td>\n",
       "      <td>4.22</td>\n",
       "      <td>1012</td>\n",
       "      <td>87</td>\n",
       "      <td>10.51</td>\n",
       "      <td>119</td>\n",
       "      <td>100</td>\n",
       "      <td>2022-12-14 12:00:00</td>\n",
       "    </tr>\n",
       "    <tr>\n",
       "      <th>4</th>\n",
       "      <td>dp3x</td>\n",
       "      <td>0</td>\n",
       "      <td>2022-12-14 12:00:00</td>\n",
       "      <td>4.22</td>\n",
       "      <td>1012</td>\n",
       "      <td>87</td>\n",
       "      <td>10.51</td>\n",
       "      <td>119</td>\n",
       "      <td>100</td>\n",
       "      <td>2022-12-14 12:00:00</td>\n",
       "    </tr>\n",
       "  </tbody>\n",
       "</table>\n",
       "</div>"
      ],
      "text/plain": [
       "  geohash  key              dt_iso  temp  pressure  humidity  wind_speed  \\\n",
       "0    dp3s    0 2022-12-14 12:00:00  4.22      1012        87       10.51   \n",
       "1    dp3t    0 2022-12-14 12:00:00  4.22      1012        87       10.51   \n",
       "2    dp3v    0 2022-12-14 12:00:00  4.22      1012        87       10.51   \n",
       "3    dp3w    0 2022-12-14 12:00:00  4.22      1012        87       10.51   \n",
       "4    dp3x    0 2022-12-14 12:00:00  4.22      1012        87       10.51   \n",
       "\n",
       "   wind_deg  clouds_all         hourly_data  \n",
       "0       119         100 2022-12-14 12:00:00  \n",
       "1       119         100 2022-12-14 12:00:00  \n",
       "2       119         100 2022-12-14 12:00:00  \n",
       "3       119         100 2022-12-14 12:00:00  \n",
       "4       119         100 2022-12-14 12:00:00  "
      ]
     },
     "execution_count": 23,
     "metadata": {},
     "output_type": "execute_result"
    }
   ],
   "source": [
    "predict_geohash"
   ]
  },
  {
   "cell_type": "code",
   "execution_count": 27,
   "metadata": {},
   "outputs": [
    {
     "data": {
      "text/html": [
       "<div>\n",
       "<style scoped>\n",
       "    .dataframe tbody tr th:only-of-type {\n",
       "        vertical-align: middle;\n",
       "    }\n",
       "\n",
       "    .dataframe tbody tr th {\n",
       "        vertical-align: top;\n",
       "    }\n",
       "\n",
       "    .dataframe thead th {\n",
       "        text-align: right;\n",
       "    }\n",
       "</style>\n",
       "<table border=\"1\" class=\"dataframe\">\n",
       "  <thead>\n",
       "    <tr style=\"text-align: right;\">\n",
       "      <th></th>\n",
       "      <th>geohash</th>\n",
       "      <th>hourly_data</th>\n",
       "      <th>dt_iso</th>\n",
       "      <th>temp</th>\n",
       "      <th>pressure</th>\n",
       "      <th>humidity</th>\n",
       "      <th>wind_speed</th>\n",
       "      <th>wind_deg</th>\n",
       "      <th>clouds_all</th>\n",
       "    </tr>\n",
       "  </thead>\n",
       "  <tbody>\n",
       "    <tr>\n",
       "      <th>0</th>\n",
       "      <td>dp3s</td>\n",
       "      <td>2021-07-01 04:00:00</td>\n",
       "      <td>2021-07-01 04:00:00</td>\n",
       "      <td>21.29</td>\n",
       "      <td>1001</td>\n",
       "      <td>84</td>\n",
       "      <td>0.0</td>\n",
       "      <td>0</td>\n",
       "      <td>75</td>\n",
       "    </tr>\n",
       "    <tr>\n",
       "      <th>1</th>\n",
       "      <td>dp3s</td>\n",
       "      <td>2021-07-01 17:00:00</td>\n",
       "      <td>2021-07-01 17:00:00</td>\n",
       "      <td>23.18</td>\n",
       "      <td>1018</td>\n",
       "      <td>62</td>\n",
       "      <td>7.2</td>\n",
       "      <td>20</td>\n",
       "      <td>20</td>\n",
       "    </tr>\n",
       "  </tbody>\n",
       "</table>\n",
       "</div>"
      ],
      "text/plain": [
       "  geohash         hourly_data              dt_iso   temp  pressure  humidity  \\\n",
       "0    dp3s 2021-07-01 04:00:00 2021-07-01 04:00:00  21.29      1001        84   \n",
       "1    dp3s 2021-07-01 17:00:00 2021-07-01 17:00:00  23.18      1018        62   \n",
       "\n",
       "   wind_speed  wind_deg  clouds_all  \n",
       "0         0.0         0          75  \n",
       "1         7.2        20          20  "
      ]
     },
     "execution_count": 27,
     "metadata": {},
     "output_type": "execute_result"
    }
   ],
   "source": [
    "X.head(2)"
   ]
  },
  {
   "cell_type": "code",
   "execution_count": 24,
   "metadata": {},
   "outputs": [],
   "source": [
    "preprocessor, X_processed_df = preprocess_features(X)"
   ]
  },
  {
   "cell_type": "code",
   "execution_count": 25,
   "metadata": {},
   "outputs": [
    {
     "data": {
      "text/plain": [
       "(7204, 32)"
      ]
     },
     "execution_count": 25,
     "metadata": {},
     "output_type": "execute_result"
    }
   ],
   "source": [
    "X_processed_df.shape"
   ]
  },
  {
   "cell_type": "code",
   "execution_count": 26,
   "metadata": {},
   "outputs": [
    {
     "data": {
      "text/html": [
       "<div>\n",
       "<style scoped>\n",
       "    .dataframe tbody tr th:only-of-type {\n",
       "        vertical-align: middle;\n",
       "    }\n",
       "\n",
       "    .dataframe tbody tr th {\n",
       "        vertical-align: top;\n",
       "    }\n",
       "\n",
       "    .dataframe thead th {\n",
       "        text-align: right;\n",
       "    }\n",
       "</style>\n",
       "<table border=\"1\" class=\"dataframe\">\n",
       "  <thead>\n",
       "    <tr style=\"text-align: right;\">\n",
       "      <th></th>\n",
       "      <th>0</th>\n",
       "      <th>1</th>\n",
       "      <th>2</th>\n",
       "      <th>3</th>\n",
       "      <th>4</th>\n",
       "      <th>5</th>\n",
       "      <th>6</th>\n",
       "      <th>7</th>\n",
       "      <th>8</th>\n",
       "      <th>9</th>\n",
       "      <th>...</th>\n",
       "      <th>22</th>\n",
       "      <th>23</th>\n",
       "      <th>24</th>\n",
       "      <th>25</th>\n",
       "      <th>26</th>\n",
       "      <th>27</th>\n",
       "      <th>28</th>\n",
       "      <th>29</th>\n",
       "      <th>30</th>\n",
       "      <th>31</th>\n",
       "    </tr>\n",
       "  </thead>\n",
       "  <tbody>\n",
       "    <tr>\n",
       "      <th>0</th>\n",
       "      <td>0.0</td>\n",
       "      <td>0.0</td>\n",
       "      <td>1.0</td>\n",
       "      <td>0.0</td>\n",
       "      <td>0.0</td>\n",
       "      <td>0.0</td>\n",
       "      <td>0.0</td>\n",
       "      <td>0.0</td>\n",
       "      <td>0.0</td>\n",
       "      <td>0.0</td>\n",
       "      <td>...</td>\n",
       "      <td>-1.594856</td>\n",
       "      <td>1.181886</td>\n",
       "      <td>-1.990979</td>\n",
       "      <td>-1.596945</td>\n",
       "      <td>0.669090</td>\n",
       "      <td>1.0</td>\n",
       "      <td>0.0</td>\n",
       "      <td>0.0</td>\n",
       "      <td>0.0</td>\n",
       "      <td>0.0</td>\n",
       "    </tr>\n",
       "    <tr>\n",
       "      <th>1</th>\n",
       "      <td>0.0</td>\n",
       "      <td>0.0</td>\n",
       "      <td>0.0</td>\n",
       "      <td>1.0</td>\n",
       "      <td>0.0</td>\n",
       "      <td>0.0</td>\n",
       "      <td>0.0</td>\n",
       "      <td>0.0</td>\n",
       "      <td>0.0</td>\n",
       "      <td>0.0</td>\n",
       "      <td>...</td>\n",
       "      <td>0.577405</td>\n",
       "      <td>-0.310341</td>\n",
       "      <td>1.643733</td>\n",
       "      <td>-1.401928</td>\n",
       "      <td>-0.918348</td>\n",
       "      <td>1.0</td>\n",
       "      <td>0.0</td>\n",
       "      <td>0.0</td>\n",
       "      <td>0.0</td>\n",
       "      <td>0.0</td>\n",
       "    </tr>\n",
       "  </tbody>\n",
       "</table>\n",
       "<p>2 rows × 32 columns</p>\n",
       "</div>"
      ],
      "text/plain": [
       "    0    1    2    3    4    5    6    7    8    9   ...        22        23  \\\n",
       "0  0.0  0.0  1.0  0.0  0.0  0.0  0.0  0.0  0.0  0.0  ... -1.594856  1.181886   \n",
       "1  0.0  0.0  0.0  1.0  0.0  0.0  0.0  0.0  0.0  0.0  ...  0.577405 -0.310341   \n",
       "\n",
       "         24        25        26   27   28   29   30   31  \n",
       "0 -1.990979 -1.596945  0.669090  1.0  0.0  0.0  0.0  0.0  \n",
       "1  1.643733 -1.401928 -0.918348  1.0  0.0  0.0  0.0  0.0  \n",
       "\n",
       "[2 rows x 32 columns]"
      ]
     },
     "execution_count": 26,
     "metadata": {},
     "output_type": "execute_result"
    }
   ],
   "source": [
    "X_processed_df.head(2)"
   ]
  },
  {
   "cell_type": "code",
   "execution_count": 28,
   "metadata": {},
   "outputs": [],
   "source": [
    "predict_geohash_transformed = preprocessor.transform(predict_geohash)"
   ]
  },
  {
   "cell_type": "code",
   "execution_count": 29,
   "metadata": {},
   "outputs": [
    {
     "data": {
      "text/plain": [
       "(5, 32)"
      ]
     },
     "execution_count": 29,
     "metadata": {},
     "output_type": "execute_result"
    }
   ],
   "source": [
    "predict_geohash_transformed.shape"
   ]
  },
  {
   "cell_type": "code",
   "execution_count": 32,
   "metadata": {},
   "outputs": [
    {
     "data": {
      "text/html": [
       "<div>\n",
       "<style scoped>\n",
       "    .dataframe tbody tr th:only-of-type {\n",
       "        vertical-align: middle;\n",
       "    }\n",
       "\n",
       "    .dataframe tbody tr th {\n",
       "        vertical-align: top;\n",
       "    }\n",
       "\n",
       "    .dataframe thead th {\n",
       "        text-align: right;\n",
       "    }\n",
       "</style>\n",
       "<table border=\"1\" class=\"dataframe\">\n",
       "  <thead>\n",
       "    <tr style=\"text-align: right;\">\n",
       "      <th></th>\n",
       "      <th>0</th>\n",
       "      <th>1</th>\n",
       "      <th>2</th>\n",
       "      <th>3</th>\n",
       "      <th>4</th>\n",
       "      <th>5</th>\n",
       "      <th>6</th>\n",
       "      <th>7</th>\n",
       "      <th>8</th>\n",
       "      <th>9</th>\n",
       "      <th>...</th>\n",
       "      <th>22</th>\n",
       "      <th>23</th>\n",
       "      <th>24</th>\n",
       "      <th>25</th>\n",
       "      <th>26</th>\n",
       "      <th>27</th>\n",
       "      <th>28</th>\n",
       "      <th>29</th>\n",
       "      <th>30</th>\n",
       "      <th>31</th>\n",
       "    </tr>\n",
       "  </thead>\n",
       "  <tbody>\n",
       "    <tr>\n",
       "      <th>0</th>\n",
       "      <td>0.0</td>\n",
       "      <td>0.0</td>\n",
       "      <td>1.0</td>\n",
       "      <td>0.0</td>\n",
       "      <td>0.0</td>\n",
       "      <td>0.0</td>\n",
       "      <td>0.0</td>\n",
       "      <td>0.0</td>\n",
       "      <td>0.0</td>\n",
       "      <td>0.0</td>\n",
       "      <td>...</td>\n",
       "      <td>-0.189275</td>\n",
       "      <td>1.385372</td>\n",
       "      <td>3.314691</td>\n",
       "      <td>-0.436592</td>\n",
       "      <td>1.390653</td>\n",
       "      <td>1.0</td>\n",
       "      <td>0.0</td>\n",
       "      <td>0.0</td>\n",
       "      <td>0.0</td>\n",
       "      <td>0.0</td>\n",
       "    </tr>\n",
       "    <tr>\n",
       "      <th>1</th>\n",
       "      <td>0.0</td>\n",
       "      <td>0.0</td>\n",
       "      <td>1.0</td>\n",
       "      <td>0.0</td>\n",
       "      <td>0.0</td>\n",
       "      <td>0.0</td>\n",
       "      <td>0.0</td>\n",
       "      <td>0.0</td>\n",
       "      <td>0.0</td>\n",
       "      <td>0.0</td>\n",
       "      <td>...</td>\n",
       "      <td>-0.189275</td>\n",
       "      <td>1.385372</td>\n",
       "      <td>3.314691</td>\n",
       "      <td>-0.436592</td>\n",
       "      <td>1.390653</td>\n",
       "      <td>0.0</td>\n",
       "      <td>1.0</td>\n",
       "      <td>0.0</td>\n",
       "      <td>0.0</td>\n",
       "      <td>0.0</td>\n",
       "    </tr>\n",
       "    <tr>\n",
       "      <th>2</th>\n",
       "      <td>0.0</td>\n",
       "      <td>0.0</td>\n",
       "      <td>1.0</td>\n",
       "      <td>0.0</td>\n",
       "      <td>0.0</td>\n",
       "      <td>0.0</td>\n",
       "      <td>0.0</td>\n",
       "      <td>0.0</td>\n",
       "      <td>0.0</td>\n",
       "      <td>0.0</td>\n",
       "      <td>...</td>\n",
       "      <td>-0.189275</td>\n",
       "      <td>1.385372</td>\n",
       "      <td>3.314691</td>\n",
       "      <td>-0.436592</td>\n",
       "      <td>1.390653</td>\n",
       "      <td>0.0</td>\n",
       "      <td>0.0</td>\n",
       "      <td>1.0</td>\n",
       "      <td>0.0</td>\n",
       "      <td>0.0</td>\n",
       "    </tr>\n",
       "    <tr>\n",
       "      <th>3</th>\n",
       "      <td>0.0</td>\n",
       "      <td>0.0</td>\n",
       "      <td>1.0</td>\n",
       "      <td>0.0</td>\n",
       "      <td>0.0</td>\n",
       "      <td>0.0</td>\n",
       "      <td>0.0</td>\n",
       "      <td>0.0</td>\n",
       "      <td>0.0</td>\n",
       "      <td>0.0</td>\n",
       "      <td>...</td>\n",
       "      <td>-0.189275</td>\n",
       "      <td>1.385372</td>\n",
       "      <td>3.314691</td>\n",
       "      <td>-0.436592</td>\n",
       "      <td>1.390653</td>\n",
       "      <td>0.0</td>\n",
       "      <td>0.0</td>\n",
       "      <td>0.0</td>\n",
       "      <td>1.0</td>\n",
       "      <td>0.0</td>\n",
       "    </tr>\n",
       "    <tr>\n",
       "      <th>4</th>\n",
       "      <td>0.0</td>\n",
       "      <td>0.0</td>\n",
       "      <td>1.0</td>\n",
       "      <td>0.0</td>\n",
       "      <td>0.0</td>\n",
       "      <td>0.0</td>\n",
       "      <td>0.0</td>\n",
       "      <td>0.0</td>\n",
       "      <td>0.0</td>\n",
       "      <td>0.0</td>\n",
       "      <td>...</td>\n",
       "      <td>-0.189275</td>\n",
       "      <td>1.385372</td>\n",
       "      <td>3.314691</td>\n",
       "      <td>-0.436592</td>\n",
       "      <td>1.390653</td>\n",
       "      <td>0.0</td>\n",
       "      <td>0.0</td>\n",
       "      <td>0.0</td>\n",
       "      <td>0.0</td>\n",
       "      <td>1.0</td>\n",
       "    </tr>\n",
       "  </tbody>\n",
       "</table>\n",
       "<p>5 rows × 32 columns</p>\n",
       "</div>"
      ],
      "text/plain": [
       "    0    1    2    3    4    5    6    7    8    9   ...        22        23  \\\n",
       "0  0.0  0.0  1.0  0.0  0.0  0.0  0.0  0.0  0.0  0.0  ... -0.189275  1.385372   \n",
       "1  0.0  0.0  1.0  0.0  0.0  0.0  0.0  0.0  0.0  0.0  ... -0.189275  1.385372   \n",
       "2  0.0  0.0  1.0  0.0  0.0  0.0  0.0  0.0  0.0  0.0  ... -0.189275  1.385372   \n",
       "3  0.0  0.0  1.0  0.0  0.0  0.0  0.0  0.0  0.0  0.0  ... -0.189275  1.385372   \n",
       "4  0.0  0.0  1.0  0.0  0.0  0.0  0.0  0.0  0.0  0.0  ... -0.189275  1.385372   \n",
       "\n",
       "         24        25        26   27   28   29   30   31  \n",
       "0  3.314691 -0.436592  1.390653  1.0  0.0  0.0  0.0  0.0  \n",
       "1  3.314691 -0.436592  1.390653  0.0  1.0  0.0  0.0  0.0  \n",
       "2  3.314691 -0.436592  1.390653  0.0  0.0  1.0  0.0  0.0  \n",
       "3  3.314691 -0.436592  1.390653  0.0  0.0  0.0  1.0  0.0  \n",
       "4  3.314691 -0.436592  1.390653  0.0  0.0  0.0  0.0  1.0  \n",
       "\n",
       "[5 rows x 32 columns]"
      ]
     },
     "execution_count": 32,
     "metadata": {},
     "output_type": "execute_result"
    }
   ],
   "source": [
    "pd.DataFrame(predict_geohash_transformed).head()"
   ]
  },
  {
   "cell_type": "markdown",
   "metadata": {},
   "source": [
    "# Updating the cleaning of the predict dataframe"
   ]
  },
  {
   "cell_type": "code",
   "execution_count": 37,
   "metadata": {},
   "outputs": [],
   "source": [
    "def get_retained_geohash(y,q):\n",
    "    \n",
    "    raw_divvy_df = get_divvy_data(y,q)\n",
    "    clean_divvy_df = cleaning_divvy_gen_agg(raw_divvy_df)\n",
    "\n",
    "\n",
    "    geohash_df = clean_divvy_df[[\"geohash\"]]\n",
    "    geohash_df = geohash_df.drop_duplicates()\n",
    "\n",
    "    return geohash_df"
   ]
  },
  {
   "cell_type": "code",
   "execution_count": 38,
   "metadata": {},
   "outputs": [
    {
     "name": "stderr",
     "output_type": "stream",
     "text": [
      "/home/gdolle/code/G-Dolle/DIVVY_BIKE/ml_logic/cleaning.py:21: SettingWithCopyWarning: \n",
      "A value is trying to be set on a copy of a slice from a DataFrame\n",
      "\n",
      "See the caveats in the documentation: https://pandas.pydata.org/pandas-docs/stable/user_guide/indexing.html#returning-a-view-versus-a-copy\n",
      "  df_stations_reduced.rename(columns={\"name\":\"station_name\"}, inplace=True)\n"
     ]
    }
   ],
   "source": [
    "geohash_df = get_retained_geohash(year,quarter)"
   ]
  },
  {
   "cell_type": "code",
   "execution_count": 39,
   "metadata": {},
   "outputs": [
    {
     "data": {
      "text/html": [
       "<div>\n",
       "<style scoped>\n",
       "    .dataframe tbody tr th:only-of-type {\n",
       "        vertical-align: middle;\n",
       "    }\n",
       "\n",
       "    .dataframe tbody tr th {\n",
       "        vertical-align: top;\n",
       "    }\n",
       "\n",
       "    .dataframe thead th {\n",
       "        text-align: right;\n",
       "    }\n",
       "</style>\n",
       "<table border=\"1\" class=\"dataframe\">\n",
       "  <thead>\n",
       "    <tr style=\"text-align: right;\">\n",
       "      <th></th>\n",
       "      <th>geohash</th>\n",
       "    </tr>\n",
       "  </thead>\n",
       "  <tbody>\n",
       "    <tr>\n",
       "      <th>0</th>\n",
       "      <td>dp3s</td>\n",
       "    </tr>\n",
       "    <tr>\n",
       "      <th>191</th>\n",
       "      <td>dp3t</td>\n",
       "    </tr>\n",
       "    <tr>\n",
       "      <th>2368</th>\n",
       "      <td>dp3v</td>\n",
       "    </tr>\n",
       "    <tr>\n",
       "      <th>2645</th>\n",
       "      <td>dp3w</td>\n",
       "    </tr>\n",
       "    <tr>\n",
       "      <th>4854</th>\n",
       "      <td>dp3x</td>\n",
       "    </tr>\n",
       "  </tbody>\n",
       "</table>\n",
       "</div>"
      ],
      "text/plain": [
       "     geohash\n",
       "0       dp3s\n",
       "191     dp3t\n",
       "2368    dp3v\n",
       "2645    dp3w\n",
       "4854    dp3x"
      ]
     },
     "execution_count": 39,
     "metadata": {},
     "output_type": "execute_result"
    }
   ],
   "source": [
    "geohash_df.head()"
   ]
  },
  {
   "cell_type": "code",
   "execution_count": 40,
   "metadata": {},
   "outputs": [],
   "source": [
    "def get_right_forecast_new(departure_date,departure_time,df,geohash_df):\n",
    "    \"\"\"\n",
    "    Return the closest hourly weather forecast to the date and time inputs\n",
    "    provided by the end-user\n",
    "    \"\"\"\n",
    "\n",
    "    full_time_input= datetime.datetime.combine(departure_date,departure_time)\n",
    "    df[\"user_input\"] = pd.to_datetime(full_time_input)\n",
    "    df[\"date_input\"]=df[\"user_input\"].dt.date\n",
    "    df[\"date_weather\"]=df[\"hourly_data\"].dt.date\n",
    "\n",
    "    df_reduc = df[df[\"date_weather\"]==df[\"date_input\"]]\n",
    "\n",
    "\n",
    "    df_reduc[\"time_diff\"] = df_reduc[\"user_input\"] - df_reduc[\"hourly_data\"]\n",
    "    df_reduc=df_reduc[df_reduc[\"time_diff\"]>pd.Timedelta(0)]\n",
    "    cond = df_reduc[\"time_diff\"].min()\n",
    "    new_data = df_reduc[df_reduc[\"time_diff\"]==cond]\n",
    "    new_data.drop(columns=[\"user_input\",\"date_input\",\"date_weather\",\"time_diff\"], inplace=True)\n",
    "\n",
    "    geohash_df['key'] = 0\n",
    "    new_data['key'] = 0\n",
    "\n",
    "    predict_geohash = geohash_df.merge(new_data, on='key', how='outer')\n",
    "\n",
    "    return predict_geohash"
   ]
  },
  {
   "cell_type": "code",
   "execution_count": 43,
   "metadata": {},
   "outputs": [
    {
     "name": "stderr",
     "output_type": "stream",
     "text": [
      "/tmp/ipykernel_6041/47994300.py:15: SettingWithCopyWarning: \n",
      "A value is trying to be set on a copy of a slice from a DataFrame.\n",
      "Try using .loc[row_indexer,col_indexer] = value instead\n",
      "\n",
      "See the caveats in the documentation: https://pandas.pydata.org/pandas-docs/stable/user_guide/indexing.html#returning-a-view-versus-a-copy\n",
      "  df_reduc[\"time_diff\"] = df_reduc[\"user_input\"] - df_reduc[\"hourly_data\"]\n",
      "/tmp/ipykernel_6041/47994300.py:19: SettingWithCopyWarning: \n",
      "A value is trying to be set on a copy of a slice from a DataFrame\n",
      "\n",
      "See the caveats in the documentation: https://pandas.pydata.org/pandas-docs/stable/user_guide/indexing.html#returning-a-view-versus-a-copy\n",
      "  new_data.drop(columns=[\"user_input\",\"date_input\",\"date_weather\",\"time_diff\"], inplace=True)\n",
      "/tmp/ipykernel_6041/47994300.py:22: SettingWithCopyWarning: \n",
      "A value is trying to be set on a copy of a slice from a DataFrame.\n",
      "Try using .loc[row_indexer,col_indexer] = value instead\n",
      "\n",
      "See the caveats in the documentation: https://pandas.pydata.org/pandas-docs/stable/user_guide/indexing.html#returning-a-view-versus-a-copy\n",
      "  new_data['key'] = 0\n"
     ]
    }
   ],
   "source": [
    "pred_test = get_right_forecast_new(departure_date,departure_time,cleaned_df,geohash_df)"
   ]
  },
  {
   "cell_type": "code",
   "execution_count": 44,
   "metadata": {},
   "outputs": [
    {
     "data": {
      "text/html": [
       "<div>\n",
       "<style scoped>\n",
       "    .dataframe tbody tr th:only-of-type {\n",
       "        vertical-align: middle;\n",
       "    }\n",
       "\n",
       "    .dataframe tbody tr th {\n",
       "        vertical-align: top;\n",
       "    }\n",
       "\n",
       "    .dataframe thead th {\n",
       "        text-align: right;\n",
       "    }\n",
       "</style>\n",
       "<table border=\"1\" class=\"dataframe\">\n",
       "  <thead>\n",
       "    <tr style=\"text-align: right;\">\n",
       "      <th></th>\n",
       "      <th>geohash</th>\n",
       "      <th>key</th>\n",
       "      <th>dt_iso</th>\n",
       "      <th>temp</th>\n",
       "      <th>pressure</th>\n",
       "      <th>humidity</th>\n",
       "      <th>wind_speed</th>\n",
       "      <th>wind_deg</th>\n",
       "      <th>clouds_all</th>\n",
       "      <th>hourly_data</th>\n",
       "    </tr>\n",
       "  </thead>\n",
       "  <tbody>\n",
       "    <tr>\n",
       "      <th>0</th>\n",
       "      <td>dp3s</td>\n",
       "      <td>0</td>\n",
       "      <td>2022-12-14 12:00:00</td>\n",
       "      <td>4.22</td>\n",
       "      <td>1012</td>\n",
       "      <td>87</td>\n",
       "      <td>10.51</td>\n",
       "      <td>119</td>\n",
       "      <td>100</td>\n",
       "      <td>2022-12-14 12:00:00</td>\n",
       "    </tr>\n",
       "    <tr>\n",
       "      <th>1</th>\n",
       "      <td>dp3t</td>\n",
       "      <td>0</td>\n",
       "      <td>2022-12-14 12:00:00</td>\n",
       "      <td>4.22</td>\n",
       "      <td>1012</td>\n",
       "      <td>87</td>\n",
       "      <td>10.51</td>\n",
       "      <td>119</td>\n",
       "      <td>100</td>\n",
       "      <td>2022-12-14 12:00:00</td>\n",
       "    </tr>\n",
       "    <tr>\n",
       "      <th>2</th>\n",
       "      <td>dp3v</td>\n",
       "      <td>0</td>\n",
       "      <td>2022-12-14 12:00:00</td>\n",
       "      <td>4.22</td>\n",
       "      <td>1012</td>\n",
       "      <td>87</td>\n",
       "      <td>10.51</td>\n",
       "      <td>119</td>\n",
       "      <td>100</td>\n",
       "      <td>2022-12-14 12:00:00</td>\n",
       "    </tr>\n",
       "    <tr>\n",
       "      <th>3</th>\n",
       "      <td>dp3w</td>\n",
       "      <td>0</td>\n",
       "      <td>2022-12-14 12:00:00</td>\n",
       "      <td>4.22</td>\n",
       "      <td>1012</td>\n",
       "      <td>87</td>\n",
       "      <td>10.51</td>\n",
       "      <td>119</td>\n",
       "      <td>100</td>\n",
       "      <td>2022-12-14 12:00:00</td>\n",
       "    </tr>\n",
       "    <tr>\n",
       "      <th>4</th>\n",
       "      <td>dp3x</td>\n",
       "      <td>0</td>\n",
       "      <td>2022-12-14 12:00:00</td>\n",
       "      <td>4.22</td>\n",
       "      <td>1012</td>\n",
       "      <td>87</td>\n",
       "      <td>10.51</td>\n",
       "      <td>119</td>\n",
       "      <td>100</td>\n",
       "      <td>2022-12-14 12:00:00</td>\n",
       "    </tr>\n",
       "  </tbody>\n",
       "</table>\n",
       "</div>"
      ],
      "text/plain": [
       "  geohash  key              dt_iso  temp  pressure  humidity  wind_speed  \\\n",
       "0    dp3s    0 2022-12-14 12:00:00  4.22      1012        87       10.51   \n",
       "1    dp3t    0 2022-12-14 12:00:00  4.22      1012        87       10.51   \n",
       "2    dp3v    0 2022-12-14 12:00:00  4.22      1012        87       10.51   \n",
       "3    dp3w    0 2022-12-14 12:00:00  4.22      1012        87       10.51   \n",
       "4    dp3x    0 2022-12-14 12:00:00  4.22      1012        87       10.51   \n",
       "\n",
       "   wind_deg  clouds_all         hourly_data  \n",
       "0       119         100 2022-12-14 12:00:00  \n",
       "1       119         100 2022-12-14 12:00:00  \n",
       "2       119         100 2022-12-14 12:00:00  \n",
       "3       119         100 2022-12-14 12:00:00  \n",
       "4       119         100 2022-12-14 12:00:00  "
      ]
     },
     "execution_count": 44,
     "metadata": {},
     "output_type": "execute_result"
    }
   ],
   "source": [
    "pred_test.head()"
   ]
  },
  {
   "cell_type": "markdown",
   "metadata": {},
   "source": [
    "# Worklfow for the predict dataframe"
   ]
  },
  {
   "cell_type": "code",
   "execution_count": 1,
   "metadata": {},
   "outputs": [
    {
     "data": {
      "text/plain": [
       "'/home/gdolle/code/G-Dolle/DIVVY_BIKE/notebooks'"
      ]
     },
     "execution_count": 1,
     "metadata": {},
     "output_type": "execute_result"
    }
   ],
   "source": [
    "pwd"
   ]
  },
  {
   "cell_type": "code",
   "execution_count": 2,
   "metadata": {},
   "outputs": [
    {
     "name": "stdout",
     "output_type": "stream",
     "text": [
      "/home/gdolle/code/G-Dolle/DIVVY_BIKE\n"
     ]
    }
   ],
   "source": [
    "cd '/home/gdolle/code/G-Dolle/DIVVY_BIKE'"
   ]
  },
  {
   "cell_type": "code",
   "execution_count": 3,
   "metadata": {},
   "outputs": [],
   "source": [
    "from divvy.interface_ui.flow.ui_utils import chicago_weather_forecast,convert_chicago_forecast_todf\n",
    "\n",
    "from divvy.interface_ui.flow.ui_utils import clean_forecast, get_retained_geohash, get_right_forecast\n",
    "\n",
    "from divvy.interface_ui.flow.ui_utils import predict_set_cleaning"
   ]
  },
  {
   "cell_type": "code",
   "execution_count": 4,
   "metadata": {},
   "outputs": [],
   "source": [
    "quarter= os.environ.get(\"DIVVY_QUARTER\")\n",
    "year= os.environ.get(\"DIVVY_YEAR\")"
   ]
  },
  {
   "cell_type": "code",
   "execution_count": 5,
   "metadata": {},
   "outputs": [],
   "source": [
    "import datetime\n",
    "\n",
    "departure_date = datetime.date(2022, 12, 14)\n",
    "departure_time = datetime.time(12, 58, 0)"
   ]
  },
  {
   "cell_type": "code",
   "execution_count": 6,
   "metadata": {},
   "outputs": [
    {
     "data": {
      "text/plain": [
       "'\\ndef predict_set_cleaning(y,q):\\n    \\n    forecasts = chicago_weather_forecast()\\n    forecast_df = convert_chicago_forecast_todf(forecasts)\\n    cleaned_df = clean_forecast(forecast_df)\\n\\n    geohash_df = get_retained_geohash(y,q)\\n\\n    predict_geohash = get_right_forecast(departure_date,\\n                                      departure_time,\\n                                      cleaned_df,\\n                                      geohash_df)\\n    \\n    predict_geohash = predict_geohash.drop(columns=[\"key\"])\\n    return predict_geohash\\n'"
      ]
     },
     "execution_count": 6,
     "metadata": {},
     "output_type": "execute_result"
    }
   ],
   "source": [
    "'''\n",
    "def predict_set_cleaning(y,q):\n",
    "    \n",
    "    forecasts = chicago_weather_forecast()\n",
    "    forecast_df = convert_chicago_forecast_todf(forecasts)\n",
    "    cleaned_df = clean_forecast(forecast_df)\n",
    "\n",
    "    geohash_df = get_retained_geohash(y,q)\n",
    "\n",
    "    predict_geohash = get_right_forecast(departure_date,\n",
    "                                      departure_time,\n",
    "                                      cleaned_df,\n",
    "                                      geohash_df)\n",
    "    \n",
    "    predict_geohash = predict_geohash.drop(columns=[\"key\"])\n",
    "    return predict_geohash\n",
    "'''\n"
   ]
  },
  {
   "cell_type": "code",
   "execution_count": 8,
   "metadata": {},
   "outputs": [
    {
     "name": "stderr",
     "output_type": "stream",
     "text": [
      "/home/gdolle/code/G-Dolle/DIVVY_BIKE/divvy/ml_logic/cleaning.py:22: SettingWithCopyWarning: \n",
      "A value is trying to be set on a copy of a slice from a DataFrame\n",
      "\n",
      "See the caveats in the documentation: https://pandas.pydata.org/pandas-docs/stable/user_guide/indexing.html#returning-a-view-versus-a-copy\n",
      "  df_stations_reduced.rename(columns={\"name\":\"station_name\"}, inplace=True)\n",
      "/home/gdolle/code/G-Dolle/DIVVY_BIKE/divvy/interface_ui/flow/ui_utils.py:167: SettingWithCopyWarning: \n",
      "A value is trying to be set on a copy of a slice from a DataFrame.\n",
      "Try using .loc[row_indexer,col_indexer] = value instead\n",
      "\n",
      "See the caveats in the documentation: https://pandas.pydata.org/pandas-docs/stable/user_guide/indexing.html#returning-a-view-versus-a-copy\n",
      "  df_reduc[\"time_diff\"] = df_reduc[\"user_input\"] - df_reduc[\"hourly_data\"]\n",
      "/home/gdolle/code/G-Dolle/DIVVY_BIKE/divvy/interface_ui/flow/ui_utils.py:171: SettingWithCopyWarning: \n",
      "A value is trying to be set on a copy of a slice from a DataFrame\n",
      "\n",
      "See the caveats in the documentation: https://pandas.pydata.org/pandas-docs/stable/user_guide/indexing.html#returning-a-view-versus-a-copy\n",
      "  new_data.drop(columns=[\"user_input\",\"date_input\",\"date_weather\",\"time_diff\"], inplace=True)\n",
      "/home/gdolle/code/G-Dolle/DIVVY_BIKE/divvy/interface_ui/flow/ui_utils.py:174: SettingWithCopyWarning: \n",
      "A value is trying to be set on a copy of a slice from a DataFrame.\n",
      "Try using .loc[row_indexer,col_indexer] = value instead\n",
      "\n",
      "See the caveats in the documentation: https://pandas.pydata.org/pandas-docs/stable/user_guide/indexing.html#returning-a-view-versus-a-copy\n",
      "  new_data['key'] = 0\n"
     ]
    }
   ],
   "source": [
    "pred_test_new = predict_set_cleaning(year,quarter,departure_date, departure_time)"
   ]
  },
  {
   "cell_type": "code",
   "execution_count": 9,
   "metadata": {},
   "outputs": [
    {
     "data": {
      "text/html": [
       "<div>\n",
       "<style scoped>\n",
       "    .dataframe tbody tr th:only-of-type {\n",
       "        vertical-align: middle;\n",
       "    }\n",
       "\n",
       "    .dataframe tbody tr th {\n",
       "        vertical-align: top;\n",
       "    }\n",
       "\n",
       "    .dataframe thead th {\n",
       "        text-align: right;\n",
       "    }\n",
       "</style>\n",
       "<table border=\"1\" class=\"dataframe\">\n",
       "  <thead>\n",
       "    <tr style=\"text-align: right;\">\n",
       "      <th></th>\n",
       "      <th>geohash</th>\n",
       "      <th>key</th>\n",
       "      <th>dt_iso</th>\n",
       "      <th>temp</th>\n",
       "      <th>pressure</th>\n",
       "      <th>humidity</th>\n",
       "      <th>wind_speed</th>\n",
       "      <th>wind_deg</th>\n",
       "      <th>clouds_all</th>\n",
       "      <th>hourly_data</th>\n",
       "    </tr>\n",
       "  </thead>\n",
       "  <tbody>\n",
       "    <tr>\n",
       "      <th>0</th>\n",
       "      <td>dp3s</td>\n",
       "      <td>0</td>\n",
       "      <td>2022-12-14 12:00:00</td>\n",
       "      <td>4.22</td>\n",
       "      <td>1012</td>\n",
       "      <td>87</td>\n",
       "      <td>10.51</td>\n",
       "      <td>119</td>\n",
       "      <td>100</td>\n",
       "      <td>2022-12-14 12:00:00</td>\n",
       "    </tr>\n",
       "    <tr>\n",
       "      <th>1</th>\n",
       "      <td>dp3t</td>\n",
       "      <td>0</td>\n",
       "      <td>2022-12-14 12:00:00</td>\n",
       "      <td>4.22</td>\n",
       "      <td>1012</td>\n",
       "      <td>87</td>\n",
       "      <td>10.51</td>\n",
       "      <td>119</td>\n",
       "      <td>100</td>\n",
       "      <td>2022-12-14 12:00:00</td>\n",
       "    </tr>\n",
       "    <tr>\n",
       "      <th>2</th>\n",
       "      <td>dp3v</td>\n",
       "      <td>0</td>\n",
       "      <td>2022-12-14 12:00:00</td>\n",
       "      <td>4.22</td>\n",
       "      <td>1012</td>\n",
       "      <td>87</td>\n",
       "      <td>10.51</td>\n",
       "      <td>119</td>\n",
       "      <td>100</td>\n",
       "      <td>2022-12-14 12:00:00</td>\n",
       "    </tr>\n",
       "    <tr>\n",
       "      <th>3</th>\n",
       "      <td>dp3w</td>\n",
       "      <td>0</td>\n",
       "      <td>2022-12-14 12:00:00</td>\n",
       "      <td>4.22</td>\n",
       "      <td>1012</td>\n",
       "      <td>87</td>\n",
       "      <td>10.51</td>\n",
       "      <td>119</td>\n",
       "      <td>100</td>\n",
       "      <td>2022-12-14 12:00:00</td>\n",
       "    </tr>\n",
       "    <tr>\n",
       "      <th>4</th>\n",
       "      <td>dp3x</td>\n",
       "      <td>0</td>\n",
       "      <td>2022-12-14 12:00:00</td>\n",
       "      <td>4.22</td>\n",
       "      <td>1012</td>\n",
       "      <td>87</td>\n",
       "      <td>10.51</td>\n",
       "      <td>119</td>\n",
       "      <td>100</td>\n",
       "      <td>2022-12-14 12:00:00</td>\n",
       "    </tr>\n",
       "  </tbody>\n",
       "</table>\n",
       "</div>"
      ],
      "text/plain": [
       "  geohash  key              dt_iso  temp  pressure  humidity  wind_speed  \\\n",
       "0    dp3s    0 2022-12-14 12:00:00  4.22      1012        87       10.51   \n",
       "1    dp3t    0 2022-12-14 12:00:00  4.22      1012        87       10.51   \n",
       "2    dp3v    0 2022-12-14 12:00:00  4.22      1012        87       10.51   \n",
       "3    dp3w    0 2022-12-14 12:00:00  4.22      1012        87       10.51   \n",
       "4    dp3x    0 2022-12-14 12:00:00  4.22      1012        87       10.51   \n",
       "\n",
       "   wind_deg  clouds_all         hourly_data  \n",
       "0       119         100 2022-12-14 12:00:00  \n",
       "1       119         100 2022-12-14 12:00:00  \n",
       "2       119         100 2022-12-14 12:00:00  \n",
       "3       119         100 2022-12-14 12:00:00  \n",
       "4       119         100 2022-12-14 12:00:00  "
      ]
     },
     "execution_count": 9,
     "metadata": {},
     "output_type": "execute_result"
    }
   ],
   "source": [
    "pred_test_new.head()"
   ]
  },
  {
   "cell_type": "code",
   "execution_count": null,
   "metadata": {},
   "outputs": [],
   "source": []
  }
 ],
 "metadata": {
  "kernelspec": {
   "display_name": "Python 3.10.6 64-bit ('shims')",
   "language": "python",
   "name": "python3"
  },
  "language_info": {
   "codemirror_mode": {
    "name": "ipython",
    "version": 3
   },
   "file_extension": ".py",
   "mimetype": "text/x-python",
   "name": "python",
   "nbconvert_exporter": "python",
   "pygments_lexer": "ipython3",
   "version": "3.10.6"
  },
  "orig_nbformat": 4,
  "vscode": {
   "interpreter": {
    "hash": "3648025edf73e73ba1159d04e874dc4e15a775332e01bb12a6a44f83c0d92c19"
   }
  }
 },
 "nbformat": 4,
 "nbformat_minor": 2
}
