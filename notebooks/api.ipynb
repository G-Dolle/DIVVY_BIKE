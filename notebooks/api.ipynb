{
 "cells": [
  {
   "cell_type": "code",
   "execution_count": 42,
   "metadata": {},
   "outputs": [
    {
     "name": "stdout",
     "output_type": "stream",
     "text": [
      "The autoreload extension is already loaded. To reload it, use:\n",
      "  %reload_ext autoreload\n"
     ]
    }
   ],
   "source": [
    "%load_ext autoreload\n",
    "%autoreload 2"
   ]
  },
  {
   "cell_type": "code",
   "execution_count": 43,
   "metadata": {},
   "outputs": [],
   "source": [
    "import os\n",
    "import pandas as pd\n",
    "import numpy as np\n",
    "import datetime\n",
    "import pickle as pkl\n",
    "from sklearn.linear_model import LinearRegression, ElasticNet\n",
    "from sklearn.model_selection import train_test_split, cross_validate\n",
    "from sklearn.model_selection import learning_curve, GridSearchCV"
   ]
  },
  {
   "cell_type": "code",
   "execution_count": 74,
   "metadata": {},
   "outputs": [],
   "source": [
    "from divvy.ml_logic.data_import import get_divvy_data, get_weather_data, get_station_data\n",
    "from divvy.ml_logic.cleaning import cleaning_divvy_gen,cleaning_divvy_gen_agg,weather_cleaning\n",
    "from divvy.ml_logic.cleaning import features_target, merge_divvy_weather, compute_geohash_stations\n",
    "from divvy.ml_logic.preprocessor import preprocess_features, target_process\n",
    "from divvy.ml_logic.main import preprocess_test, preprocess\n",
    "from divvy.interface_ui.flow.flow import transform_user_inputs,get_station_availability\n",
    "from divvy.interface_ui.flow.ui_utils import process_weather_inputs,get_coordinates"
   ]
  },
  {
   "cell_type": "code",
   "execution_count": 75,
   "metadata": {},
   "outputs": [],
   "source": [
    "departure_date=datetime.datetime(2022,12,16)\n",
    "departure_time=datetime.datetime(12,10,20)\n",
    "departure_address='3424 S giles'\n",
    "num_nearest_stations=3"
   ]
  },
  {
   "cell_type": "code",
   "execution_count": 76,
   "metadata": {},
   "outputs": [
    {
     "data": {
      "text/html": [
       "<div>\n",
       "<style scoped>\n",
       "    .dataframe tbody tr th:only-of-type {\n",
       "        vertical-align: middle;\n",
       "    }\n",
       "\n",
       "    .dataframe tbody tr th {\n",
       "        vertical-align: top;\n",
       "    }\n",
       "\n",
       "    .dataframe thead th {\n",
       "        text-align: right;\n",
       "    }\n",
       "</style>\n",
       "<table border=\"1\" class=\"dataframe\">\n",
       "  <thead>\n",
       "    <tr style=\"text-align: right;\">\n",
       "      <th></th>\n",
       "      <th>Unnamed: 0</th>\n",
       "      <th>external_id</th>\n",
       "      <th>station_id</th>\n",
       "      <th>short_name</th>\n",
       "      <th>eightd_has_key_dispenser</th>\n",
       "      <th>legacy_id</th>\n",
       "      <th>electric_bike_surcharge_waiver</th>\n",
       "      <th>capacity</th>\n",
       "      <th>has_kiosk</th>\n",
       "      <th>rental_methods</th>\n",
       "      <th>...</th>\n",
       "      <th>station_type</th>\n",
       "      <th>eightd_station_services</th>\n",
       "      <th>region_id</th>\n",
       "      <th>region_code</th>\n",
       "      <th>address</th>\n",
       "      <th>dockless_bikes_parking_zone_capacity</th>\n",
       "      <th>rack_model</th>\n",
       "      <th>client_station_id</th>\n",
       "      <th>target_bike_capacity</th>\n",
       "      <th>target_scooter_capacity</th>\n",
       "    </tr>\n",
       "  </thead>\n",
       "  <tbody>\n",
       "    <tr>\n",
       "      <th>98</th>\n",
       "      <td>98</td>\n",
       "      <td>a3aae35a-a135-11e9-9cda-0a87ae2ba916</td>\n",
       "      <td>a3aae35a-a135-11e9-9cda-0a87ae2ba916</td>\n",
       "      <td>13345</td>\n",
       "      <td>False</td>\n",
       "      <td>335</td>\n",
       "      <td>False</td>\n",
       "      <td>15</td>\n",
       "      <td>True</td>\n",
       "      <td>['KEY', 'CREDITCARD', 'TRANSITCARD']</td>\n",
       "      <td>...</td>\n",
       "      <td>classic</td>\n",
       "      <td>[]</td>\n",
       "      <td>NaN</td>\n",
       "      <td>NaN</td>\n",
       "      <td>NaN</td>\n",
       "      <td>NaN</td>\n",
       "      <td>NaN</td>\n",
       "      <td>NaN</td>\n",
       "      <td>NaN</td>\n",
       "      <td>NaN</td>\n",
       "    </tr>\n",
       "    <tr>\n",
       "      <th>553</th>\n",
       "      <td>553</td>\n",
       "      <td>a3a639f5-a135-11e9-9cda-0a87ae2ba916</td>\n",
       "      <td>a3a639f5-a135-11e9-9cda-0a87ae2ba916</td>\n",
       "      <td>13217</td>\n",
       "      <td>False</td>\n",
       "      <td>149</td>\n",
       "      <td>False</td>\n",
       "      <td>11</td>\n",
       "      <td>True</td>\n",
       "      <td>['KEY', 'CREDITCARD', 'TRANSITCARD']</td>\n",
       "      <td>...</td>\n",
       "      <td>classic</td>\n",
       "      <td>[]</td>\n",
       "      <td>NaN</td>\n",
       "      <td>NaN</td>\n",
       "      <td>NaN</td>\n",
       "      <td>NaN</td>\n",
       "      <td>NaN</td>\n",
       "      <td>NaN</td>\n",
       "      <td>NaN</td>\n",
       "      <td>NaN</td>\n",
       "    </tr>\n",
       "    <tr>\n",
       "      <th>7</th>\n",
       "      <td>7</td>\n",
       "      <td>a3a75d8a-a135-11e9-9cda-0a87ae2ba916</td>\n",
       "      <td>a3a75d8a-a135-11e9-9cda-0a87ae2ba916</td>\n",
       "      <td>TA1307000129</td>\n",
       "      <td>False</td>\n",
       "      <td>184</td>\n",
       "      <td>False</td>\n",
       "      <td>19</td>\n",
       "      <td>True</td>\n",
       "      <td>['KEY', 'CREDITCARD', 'TRANSITCARD']</td>\n",
       "      <td>...</td>\n",
       "      <td>classic</td>\n",
       "      <td>[]</td>\n",
       "      <td>NaN</td>\n",
       "      <td>NaN</td>\n",
       "      <td>NaN</td>\n",
       "      <td>NaN</td>\n",
       "      <td>NaN</td>\n",
       "      <td>NaN</td>\n",
       "      <td>NaN</td>\n",
       "      <td>NaN</td>\n",
       "    </tr>\n",
       "  </tbody>\n",
       "</table>\n",
       "<p>3 rows × 24 columns</p>\n",
       "</div>"
      ],
      "text/plain": [
       "     Unnamed: 0                           external_id  \\\n",
       "98           98  a3aae35a-a135-11e9-9cda-0a87ae2ba916   \n",
       "553         553  a3a639f5-a135-11e9-9cda-0a87ae2ba916   \n",
       "7             7  a3a75d8a-a135-11e9-9cda-0a87ae2ba916   \n",
       "\n",
       "                               station_id    short_name  \\\n",
       "98   a3aae35a-a135-11e9-9cda-0a87ae2ba916         13345   \n",
       "553  a3a639f5-a135-11e9-9cda-0a87ae2ba916         13217   \n",
       "7    a3a75d8a-a135-11e9-9cda-0a87ae2ba916  TA1307000129   \n",
       "\n",
       "     eightd_has_key_dispenser legacy_id  electric_bike_surcharge_waiver  \\\n",
       "98                      False       335                           False   \n",
       "553                     False       149                           False   \n",
       "7                       False       184                           False   \n",
       "\n",
       "     capacity  has_kiosk                        rental_methods  ...  \\\n",
       "98         15       True  ['KEY', 'CREDITCARD', 'TRANSITCARD']  ...   \n",
       "553        11       True  ['KEY', 'CREDITCARD', 'TRANSITCARD']  ...   \n",
       "7          19       True  ['KEY', 'CREDITCARD', 'TRANSITCARD']  ...   \n",
       "\n",
       "    station_type  eightd_station_services region_id  region_code address  \\\n",
       "98       classic                       []       NaN          NaN     NaN   \n",
       "553      classic                       []       NaN          NaN     NaN   \n",
       "7        classic                       []       NaN          NaN     NaN   \n",
       "\n",
       "    dockless_bikes_parking_zone_capacity  rack_model client_station_id  \\\n",
       "98                                   NaN         NaN               NaN   \n",
       "553                                  NaN         NaN               NaN   \n",
       "7                                    NaN         NaN               NaN   \n",
       "\n",
       "    target_bike_capacity  target_scooter_capacity  \n",
       "98                   NaN                      NaN  \n",
       "553                  NaN                      NaN  \n",
       "7                    NaN                      NaN  \n",
       "\n",
       "[3 rows x 24 columns]"
      ]
     },
     "execution_count": 76,
     "metadata": {},
     "output_type": "execute_result"
    }
   ],
   "source": [
    "latlonuser, nclose_stations=transform_user_inputs(departure_address,\n",
    "                                       num_nearest_stations)\n",
    "nclose_stations"
   ]
  },
  {
   "cell_type": "code",
   "execution_count": 77,
   "metadata": {},
   "outputs": [
    {
     "data": {
      "text/plain": [
       "[41.8321485, -87.61960959999999]"
      ]
     },
     "execution_count": 77,
     "metadata": {},
     "output_type": "execute_result"
    }
   ],
   "source": [
    "latlonuser"
   ]
  },
  {
   "cell_type": "code",
   "execution_count": 78,
   "metadata": {},
   "outputs": [],
   "source": [
    "departure_date=datetime.date(2022,12,14)\n",
    "departure_time=datetime.time(12,00,00)"
   ]
  },
  {
   "cell_type": "code",
   "execution_count": 79,
   "metadata": {},
   "outputs": [
    {
     "name": "stderr",
     "output_type": "stream",
     "text": [
      "/Users/mariofernandez/code/G-Dolle/DIVVY_BIKE/divvy/interface_ui/flow/ui_utils.py:154: SettingWithCopyWarning: \n",
      "A value is trying to be set on a copy of a slice from a DataFrame.\n",
      "Try using .loc[row_indexer,col_indexer] = value instead\n",
      "\n",
      "See the caveats in the documentation: https://pandas.pydata.org/pandas-docs/stable/user_guide/indexing.html#returning-a-view-versus-a-copy\n",
      "  df_reduc[\"time_diff\"] = df_reduc[\"user_input\"] - df_reduc[\"hourly_data\"]\n",
      "/Users/mariofernandez/code/G-Dolle/DIVVY_BIKE/divvy/interface_ui/flow/ui_utils.py:158: SettingWithCopyWarning: \n",
      "A value is trying to be set on a copy of a slice from a DataFrame\n",
      "\n",
      "See the caveats in the documentation: https://pandas.pydata.org/pandas-docs/stable/user_guide/indexing.html#returning-a-view-versus-a-copy\n",
      "  new_data.drop(columns=[\"user_input\",\"date_input\",\"date_weather\",\"time_diff\"], inplace=True)\n"
     ]
    }
   ],
   "source": [
    "weather_inputs=process_weather_inputs(departure_date,\n",
    "                                          departure_time)"
   ]
  },
  {
   "cell_type": "code",
   "execution_count": 80,
   "metadata": {},
   "outputs": [
    {
     "data": {
      "text/html": [
       "<div>\n",
       "<style scoped>\n",
       "    .dataframe tbody tr th:only-of-type {\n",
       "        vertical-align: middle;\n",
       "    }\n",
       "\n",
       "    .dataframe tbody tr th {\n",
       "        vertical-align: top;\n",
       "    }\n",
       "\n",
       "    .dataframe thead th {\n",
       "        text-align: right;\n",
       "    }\n",
       "</style>\n",
       "<table border=\"1\" class=\"dataframe\">\n",
       "  <thead>\n",
       "    <tr style=\"text-align: right;\">\n",
       "      <th></th>\n",
       "      <th>dt_iso</th>\n",
       "      <th>temp</th>\n",
       "      <th>pressure</th>\n",
       "      <th>humidity</th>\n",
       "      <th>wind_speed</th>\n",
       "      <th>wind_deg</th>\n",
       "      <th>clouds_all</th>\n",
       "      <th>hourly_data</th>\n",
       "    </tr>\n",
       "  </thead>\n",
       "  <tbody>\n",
       "    <tr>\n",
       "      <th>8</th>\n",
       "      <td>2022-12-14 09:00:00</td>\n",
       "      <td>3.82</td>\n",
       "      <td>1013</td>\n",
       "      <td>85</td>\n",
       "      <td>9.82</td>\n",
       "      <td>114</td>\n",
       "      <td>100</td>\n",
       "      <td>2022-12-14 09:00:00</td>\n",
       "    </tr>\n",
       "  </tbody>\n",
       "</table>\n",
       "</div>"
      ],
      "text/plain": [
       "               dt_iso  temp  pressure  humidity  wind_speed  wind_deg  \\\n",
       "8 2022-12-14 09:00:00  3.82      1013        85        9.82       114   \n",
       "\n",
       "   clouds_all         hourly_data  \n",
       "8         100 2022-12-14 09:00:00  "
      ]
     },
     "execution_count": 80,
     "metadata": {},
     "output_type": "execute_result"
    }
   ],
   "source": [
    "weather_inputs"
   ]
  },
  {
   "cell_type": "code",
   "execution_count": 70,
   "metadata": {},
   "outputs": [
    {
     "data": {
      "text/plain": [
       "(1, 8)"
      ]
     },
     "execution_count": 70,
     "metadata": {},
     "output_type": "execute_result"
    }
   ],
   "source": [
    "weather_inputs.shape"
   ]
  },
  {
   "cell_type": "code",
   "execution_count": 85,
   "metadata": {},
   "outputs": [
    {
     "name": "stderr",
     "output_type": "stream",
     "text": [
      "/Users/mariofernandez/code/G-Dolle/DIVVY_BIKE/divvy/ml_logic/cleaning.py:21: SettingWithCopyWarning: \n",
      "A value is trying to be set on a copy of a slice from a DataFrame\n",
      "\n",
      "See the caveats in the documentation: https://pandas.pydata.org/pandas-docs/stable/user_guide/indexing.html#returning-a-view-versus-a-copy\n",
      "  df_stations_reduced.rename(columns={\"name\":\"station_name\"}, inplace=True)\n"
     ]
    },
    {
     "data": {
      "text/plain": [
       "dp3wm    104\n",
       "dp3wj     65\n",
       "dp3wk     64\n",
       "dp3wt     63\n",
       "dp3ws     56\n",
       "dp3tm     55\n",
       "dp3w7     54\n",
       "dp3we     54\n",
       "dp3tw     53\n",
       "dp3tq     51\n",
       "dp3ty     50\n",
       "dp3w5     50\n",
       "dp3wu     49\n",
       "dp3tt     46\n",
       "dp3wh     44\n",
       "dp3tv     41\n",
       "dp3tu     40\n",
       "dp3ts     38\n",
       "dp3tr     35\n",
       "dp3w6     34\n",
       "dp3th     30\n",
       "dp3wd     30\n",
       "dp3tj     29\n",
       "dp3tx     27\n",
       "dp3wq     27\n",
       "dp3wn     25\n",
       "dp3xh     25\n",
       "dp3tn     23\n",
       "dp3tg     20\n",
       "dp3wv     19\n",
       "dp3w9     17\n",
       "dp3te     15\n",
       "dp3v2     13\n",
       "dp3tk     13\n",
       "dp3v0     11\n",
       "dp3sz     10\n",
       "dp3sy      9\n",
       "dp3tp      8\n",
       "dp3w4      7\n",
       "dp3wg      4\n",
       "dp3xk      4\n",
       "dp3xj      4\n",
       "dp3w3      2\n",
       "dp3x7      1\n",
       "dp3tz      1\n",
       "dp3t7      1\n",
       "dp3ub      1\n",
       "Name: geohash, dtype: int64"
      ]
     },
     "execution_count": 85,
     "metadata": {},
     "output_type": "execute_result"
    }
   ],
   "source": [
    "sta_reduced=compute_geohash_stations()\n",
    "sta_reduced.geohash.value_counts()"
   ]
  },
  {
   "cell_type": "code",
   "execution_count": 11,
   "metadata": {},
   "outputs": [],
   "source": [
    "import pickle as pkl\n",
    "loaded_pp=pkl.load(open('preprocessors/preprocessor_dep.pickle','rb'))"
   ]
  },
  {
   "cell_type": "code",
   "execution_count": 40,
   "metadata": {},
   "outputs": [
    {
     "data": {
      "text/html": [
       "<style>#sk-container-id-2 {color: black;background-color: white;}#sk-container-id-2 pre{padding: 0;}#sk-container-id-2 div.sk-toggleable {background-color: white;}#sk-container-id-2 label.sk-toggleable__label {cursor: pointer;display: block;width: 100%;margin-bottom: 0;padding: 0.3em;box-sizing: border-box;text-align: center;}#sk-container-id-2 label.sk-toggleable__label-arrow:before {content: \"▸\";float: left;margin-right: 0.25em;color: #696969;}#sk-container-id-2 label.sk-toggleable__label-arrow:hover:before {color: black;}#sk-container-id-2 div.sk-estimator:hover label.sk-toggleable__label-arrow:before {color: black;}#sk-container-id-2 div.sk-toggleable__content {max-height: 0;max-width: 0;overflow: hidden;text-align: left;background-color: #f0f8ff;}#sk-container-id-2 div.sk-toggleable__content pre {margin: 0.2em;color: black;border-radius: 0.25em;background-color: #f0f8ff;}#sk-container-id-2 input.sk-toggleable__control:checked~div.sk-toggleable__content {max-height: 200px;max-width: 100%;overflow: auto;}#sk-container-id-2 input.sk-toggleable__control:checked~label.sk-toggleable__label-arrow:before {content: \"▾\";}#sk-container-id-2 div.sk-estimator input.sk-toggleable__control:checked~label.sk-toggleable__label {background-color: #d4ebff;}#sk-container-id-2 div.sk-label input.sk-toggleable__control:checked~label.sk-toggleable__label {background-color: #d4ebff;}#sk-container-id-2 input.sk-hidden--visually {border: 0;clip: rect(1px 1px 1px 1px);clip: rect(1px, 1px, 1px, 1px);height: 1px;margin: -1px;overflow: hidden;padding: 0;position: absolute;width: 1px;}#sk-container-id-2 div.sk-estimator {font-family: monospace;background-color: #f0f8ff;border: 1px dotted black;border-radius: 0.25em;box-sizing: border-box;margin-bottom: 0.5em;}#sk-container-id-2 div.sk-estimator:hover {background-color: #d4ebff;}#sk-container-id-2 div.sk-parallel-item::after {content: \"\";width: 100%;border-bottom: 1px solid gray;flex-grow: 1;}#sk-container-id-2 div.sk-label:hover label.sk-toggleable__label {background-color: #d4ebff;}#sk-container-id-2 div.sk-serial::before {content: \"\";position: absolute;border-left: 1px solid gray;box-sizing: border-box;top: 0;bottom: 0;left: 50%;z-index: 0;}#sk-container-id-2 div.sk-serial {display: flex;flex-direction: column;align-items: center;background-color: white;padding-right: 0.2em;padding-left: 0.2em;position: relative;}#sk-container-id-2 div.sk-item {position: relative;z-index: 1;}#sk-container-id-2 div.sk-parallel {display: flex;align-items: stretch;justify-content: center;background-color: white;position: relative;}#sk-container-id-2 div.sk-item::before, #sk-container-id-2 div.sk-parallel-item::before {content: \"\";position: absolute;border-left: 1px solid gray;box-sizing: border-box;top: 0;bottom: 0;left: 50%;z-index: -1;}#sk-container-id-2 div.sk-parallel-item {display: flex;flex-direction: column;z-index: 1;position: relative;background-color: white;}#sk-container-id-2 div.sk-parallel-item:first-child::after {align-self: flex-end;width: 50%;}#sk-container-id-2 div.sk-parallel-item:last-child::after {align-self: flex-start;width: 50%;}#sk-container-id-2 div.sk-parallel-item:only-child::after {width: 0;}#sk-container-id-2 div.sk-dashed-wrapped {border: 1px dashed gray;margin: 0 0.4em 0.5em 0.4em;box-sizing: border-box;padding-bottom: 0.4em;background-color: white;}#sk-container-id-2 div.sk-label label {font-family: monospace;font-weight: bold;display: inline-block;line-height: 1.2em;}#sk-container-id-2 div.sk-label-container {text-align: center;}#sk-container-id-2 div.sk-container {/* jupyter's `normalize.less` sets `[hidden] { display: none; }` but bootstrap.min.css set `[hidden] { display: none !important; }` so we also need the `!important` here to be able to override the default hidden behavior on the sphinx rendered scikit-learn.org. See: https://github.com/scikit-learn/scikit-learn/issues/21755 */display: inline-block !important;position: relative;}#sk-container-id-2 div.sk-text-repr-fallback {display: none;}</style><div id=\"sk-container-id-2\" class=\"sk-top-container\"><div class=\"sk-text-repr-fallback\"><pre>ColumnTransformer(n_jobs=-1,\n",
       "                  transformers=[(&#x27;time_preproc&#x27;,\n",
       "                                 Pipeline(steps=[(&#x27;functiontransformer&#x27;,\n",
       "                                                  FunctionTransformer(func=&lt;function transform_time_features at 0x16a9e2cb0&gt;)),\n",
       "                                                 (&#x27;columntransformer&#x27;,\n",
       "                                                  ColumnTransformer(remainder=&#x27;passthrough&#x27;,\n",
       "                                                                    transformers=[(&#x27;onehotencoder&#x27;,\n",
       "                                                                                   OneHotEncoder(categories={0: array([0, 1, 2, 3, 4, 5, 6]),\n",
       "                                                                                                             1: array([ 1,  2,  3,  4,  5,  6,  7,  8,  9, 10, 11, 12])},\n",
       "                                                                                                 handle_unknown=&#x27;ignore&#x27;,\n",
       "                                                                                                 sparse=False),\n",
       "                                                                                   [2,\n",
       "                                                                                    3])]))]),\n",
       "                                 [&#x27;hourly_data&#x27;]),\n",
       "                                (&#x27;weather_scaler&#x27;,\n",
       "                                 Pipeline(steps=[(&#x27;standardscaler&#x27;,\n",
       "                                                  StandardScaler())]),\n",
       "                                 [&#x27;temp&#x27;, &#x27;pressure&#x27;, &#x27;humidity&#x27;, &#x27;wind_speed&#x27;,\n",
       "                                  &#x27;wind_deg&#x27;, &#x27;clouds_all&#x27;])])</pre><b>In a Jupyter environment, please rerun this cell to show the HTML representation or trust the notebook. <br />On GitHub, the HTML representation is unable to render, please try loading this page with nbviewer.org.</b></div><div class=\"sk-container\" hidden><div class=\"sk-item sk-dashed-wrapped\"><div class=\"sk-label-container\"><div class=\"sk-label sk-toggleable\"><input class=\"sk-toggleable__control sk-hidden--visually\" id=\"sk-estimator-id-11\" type=\"checkbox\" ><label for=\"sk-estimator-id-11\" class=\"sk-toggleable__label sk-toggleable__label-arrow\">ColumnTransformer</label><div class=\"sk-toggleable__content\"><pre>ColumnTransformer(n_jobs=-1,\n",
       "                  transformers=[(&#x27;time_preproc&#x27;,\n",
       "                                 Pipeline(steps=[(&#x27;functiontransformer&#x27;,\n",
       "                                                  FunctionTransformer(func=&lt;function transform_time_features at 0x16a9e2cb0&gt;)),\n",
       "                                                 (&#x27;columntransformer&#x27;,\n",
       "                                                  ColumnTransformer(remainder=&#x27;passthrough&#x27;,\n",
       "                                                                    transformers=[(&#x27;onehotencoder&#x27;,\n",
       "                                                                                   OneHotEncoder(categories={0: array([0, 1, 2, 3, 4, 5, 6]),\n",
       "                                                                                                             1: array([ 1,  2,  3,  4,  5,  6,  7,  8,  9, 10, 11, 12])},\n",
       "                                                                                                 handle_unknown=&#x27;ignore&#x27;,\n",
       "                                                                                                 sparse=False),\n",
       "                                                                                   [2,\n",
       "                                                                                    3])]))]),\n",
       "                                 [&#x27;hourly_data&#x27;]),\n",
       "                                (&#x27;weather_scaler&#x27;,\n",
       "                                 Pipeline(steps=[(&#x27;standardscaler&#x27;,\n",
       "                                                  StandardScaler())]),\n",
       "                                 [&#x27;temp&#x27;, &#x27;pressure&#x27;, &#x27;humidity&#x27;, &#x27;wind_speed&#x27;,\n",
       "                                  &#x27;wind_deg&#x27;, &#x27;clouds_all&#x27;])])</pre></div></div></div><div class=\"sk-parallel\"><div class=\"sk-parallel-item\"><div class=\"sk-item\"><div class=\"sk-label-container\"><div class=\"sk-label sk-toggleable\"><input class=\"sk-toggleable__control sk-hidden--visually\" id=\"sk-estimator-id-12\" type=\"checkbox\" ><label for=\"sk-estimator-id-12\" class=\"sk-toggleable__label sk-toggleable__label-arrow\">time_preproc</label><div class=\"sk-toggleable__content\"><pre>[&#x27;hourly_data&#x27;]</pre></div></div></div><div class=\"sk-serial\"><div class=\"sk-item\"><div class=\"sk-serial\"><div class=\"sk-item\"><div class=\"sk-estimator sk-toggleable\"><input class=\"sk-toggleable__control sk-hidden--visually\" id=\"sk-estimator-id-13\" type=\"checkbox\" ><label for=\"sk-estimator-id-13\" class=\"sk-toggleable__label sk-toggleable__label-arrow\">FunctionTransformer</label><div class=\"sk-toggleable__content\"><pre>FunctionTransformer(func=&lt;function transform_time_features at 0x16a9e2cb0&gt;)</pre></div></div></div><div class=\"sk-item sk-dashed-wrapped\"><div class=\"sk-label-container\"><div class=\"sk-label sk-toggleable\"><input class=\"sk-toggleable__control sk-hidden--visually\" id=\"sk-estimator-id-14\" type=\"checkbox\" ><label for=\"sk-estimator-id-14\" class=\"sk-toggleable__label sk-toggleable__label-arrow\">columntransformer: ColumnTransformer</label><div class=\"sk-toggleable__content\"><pre>ColumnTransformer(remainder=&#x27;passthrough&#x27;,\n",
       "                  transformers=[(&#x27;onehotencoder&#x27;,\n",
       "                                 OneHotEncoder(categories={0: array([0, 1, 2, 3, 4, 5, 6]),\n",
       "                                                           1: array([ 1,  2,  3,  4,  5,  6,  7,  8,  9, 10, 11, 12])},\n",
       "                                               handle_unknown=&#x27;ignore&#x27;,\n",
       "                                               sparse=False),\n",
       "                                 [2, 3])])</pre></div></div></div><div class=\"sk-parallel\"><div class=\"sk-parallel-item\"><div class=\"sk-item\"><div class=\"sk-label-container\"><div class=\"sk-label sk-toggleable\"><input class=\"sk-toggleable__control sk-hidden--visually\" id=\"sk-estimator-id-15\" type=\"checkbox\" ><label for=\"sk-estimator-id-15\" class=\"sk-toggleable__label sk-toggleable__label-arrow\">onehotencoder</label><div class=\"sk-toggleable__content\"><pre>[2, 3]</pre></div></div></div><div class=\"sk-serial\"><div class=\"sk-item\"><div class=\"sk-estimator sk-toggleable\"><input class=\"sk-toggleable__control sk-hidden--visually\" id=\"sk-estimator-id-16\" type=\"checkbox\" ><label for=\"sk-estimator-id-16\" class=\"sk-toggleable__label sk-toggleable__label-arrow\">OneHotEncoder</label><div class=\"sk-toggleable__content\"><pre>OneHotEncoder(categories={0: array([0, 1, 2, 3, 4, 5, 6]),\n",
       "                          1: array([ 1,  2,  3,  4,  5,  6,  7,  8,  9, 10, 11, 12])},\n",
       "              handle_unknown=&#x27;ignore&#x27;, sparse=False)</pre></div></div></div></div></div></div><div class=\"sk-parallel-item\"><div class=\"sk-item\"><div class=\"sk-label-container\"><div class=\"sk-label sk-toggleable\"><input class=\"sk-toggleable__control sk-hidden--visually\" id=\"sk-estimator-id-17\" type=\"checkbox\" ><label for=\"sk-estimator-id-17\" class=\"sk-toggleable__label sk-toggleable__label-arrow\">remainder</label><div class=\"sk-toggleable__content\"><pre></pre></div></div></div><div class=\"sk-serial\"><div class=\"sk-item\"><div class=\"sk-estimator sk-toggleable\"><input class=\"sk-toggleable__control sk-hidden--visually\" id=\"sk-estimator-id-18\" type=\"checkbox\" ><label for=\"sk-estimator-id-18\" class=\"sk-toggleable__label sk-toggleable__label-arrow\">passthrough</label><div class=\"sk-toggleable__content\"><pre>passthrough</pre></div></div></div></div></div></div></div></div></div></div></div></div></div><div class=\"sk-parallel-item\"><div class=\"sk-item\"><div class=\"sk-label-container\"><div class=\"sk-label sk-toggleable\"><input class=\"sk-toggleable__control sk-hidden--visually\" id=\"sk-estimator-id-19\" type=\"checkbox\" ><label for=\"sk-estimator-id-19\" class=\"sk-toggleable__label sk-toggleable__label-arrow\">weather_scaler</label><div class=\"sk-toggleable__content\"><pre>[&#x27;temp&#x27;, &#x27;pressure&#x27;, &#x27;humidity&#x27;, &#x27;wind_speed&#x27;, &#x27;wind_deg&#x27;, &#x27;clouds_all&#x27;]</pre></div></div></div><div class=\"sk-serial\"><div class=\"sk-item\"><div class=\"sk-serial\"><div class=\"sk-item\"><div class=\"sk-estimator sk-toggleable\"><input class=\"sk-toggleable__control sk-hidden--visually\" id=\"sk-estimator-id-20\" type=\"checkbox\" ><label for=\"sk-estimator-id-20\" class=\"sk-toggleable__label sk-toggleable__label-arrow\">StandardScaler</label><div class=\"sk-toggleable__content\"><pre>StandardScaler()</pre></div></div></div></div></div></div></div></div></div></div></div></div>"
      ],
      "text/plain": [
       "ColumnTransformer(n_jobs=-1,\n",
       "                  transformers=[('time_preproc',\n",
       "                                 Pipeline(steps=[('functiontransformer',\n",
       "                                                  FunctionTransformer(func=<function transform_time_features at 0x16a9e2cb0>)),\n",
       "                                                 ('columntransformer',\n",
       "                                                  ColumnTransformer(remainder='passthrough',\n",
       "                                                                    transformers=[('onehotencoder',\n",
       "                                                                                   OneHotEncoder(categories={0: array([0, 1, 2, 3, 4, 5, 6]),\n",
       "                                                                                                             1: array([ 1,  2,  3,  4,  5,  6,  7,  8,  9, 10, 11, 12])},\n",
       "                                                                                                 handle_unknown='ignore',\n",
       "                                                                                                 sparse=False),\n",
       "                                                                                   [2,\n",
       "                                                                                    3])]))]),\n",
       "                                 ['hourly_data']),\n",
       "                                ('weather_scaler',\n",
       "                                 Pipeline(steps=[('standardscaler',\n",
       "                                                  StandardScaler())]),\n",
       "                                 ['temp', 'pressure', 'humidity', 'wind_speed',\n",
       "                                  'wind_deg', 'clouds_all'])])"
      ]
     },
     "execution_count": 40,
     "metadata": {},
     "output_type": "execute_result"
    }
   ],
   "source": [
    "loaded_pp"
   ]
  },
  {
   "cell_type": "code",
   "execution_count": 17,
   "metadata": {},
   "outputs": [],
   "source": [
    "X_new_processed=loaded_pp.transform(weather_inputs)"
   ]
  },
  {
   "cell_type": "code",
   "execution_count": 18,
   "metadata": {},
   "outputs": [
    {
     "data": {
      "text/plain": [
       "(1, 27)"
      ]
     },
     "execution_count": 18,
     "metadata": {},
     "output_type": "execute_result"
    }
   ],
   "source": [
    "X_new_processed.shape"
   ]
  },
  {
   "cell_type": "code",
   "execution_count": 19,
   "metadata": {},
   "outputs": [],
   "source": [
    "loaded_model=pkl.load(open('models/elasticnet_departures.pickle','rb'))"
   ]
  },
  {
   "cell_type": "code",
   "execution_count": 20,
   "metadata": {},
   "outputs": [
    {
     "data": {
      "text/plain": [
       "array([2.13587051])"
      ]
     },
     "execution_count": 20,
     "metadata": {},
     "output_type": "execute_result"
    }
   ],
   "source": [
    "loaded_model.predict(X_new_processed)"
   ]
  },
  {
   "cell_type": "code",
   "execution_count": 21,
   "metadata": {},
   "outputs": [
    {
     "data": {
      "text/plain": [
       "('2022-12-09', '12:10:20')"
      ]
     },
     "execution_count": 21,
     "metadata": {},
     "output_type": "execute_result"
    }
   ],
   "source": [
    "from datetime import datetime\n",
    "a='2022-12-09 12:10:20'\n",
    "b,c=a.split (sep=' ')\n",
    "b,c"
   ]
  },
  {
   "cell_type": "code",
   "execution_count": 22,
   "metadata": {},
   "outputs": [
    {
     "data": {
      "text/plain": [
       "datetime.date(2022, 12, 9)"
      ]
     },
     "execution_count": 22,
     "metadata": {},
     "output_type": "execute_result"
    }
   ],
   "source": [
    "date_object = datetime.strptime(b, '%Y-%m-%d').date()\n",
    "date_object"
   ]
  },
  {
   "cell_type": "code",
   "execution_count": 23,
   "metadata": {},
   "outputs": [
    {
     "data": {
      "text/plain": [
       "datetime.time(12, 10, 20)"
      ]
     },
     "execution_count": 23,
     "metadata": {},
     "output_type": "execute_result"
    }
   ],
   "source": [
    "time_object=datetime.strptime(c, '%H:%M:%S').time()\n",
    "time_object"
   ]
  },
  {
   "cell_type": "code",
   "execution_count": 24,
   "metadata": {},
   "outputs": [],
   "source": [
    "departures=6.562701150956581\n",
    "arrivals=5.49496315877833"
   ]
  },
  {
   "cell_type": "code",
   "execution_count": 26,
   "metadata": {},
   "outputs": [
    {
     "data": {
      "text/html": [
       "<div>\n",
       "<style scoped>\n",
       "    .dataframe tbody tr th:only-of-type {\n",
       "        vertical-align: middle;\n",
       "    }\n",
       "\n",
       "    .dataframe tbody tr th {\n",
       "        vertical-align: top;\n",
       "    }\n",
       "\n",
       "    .dataframe thead th {\n",
       "        text-align: right;\n",
       "    }\n",
       "</style>\n",
       "<table border=\"1\" class=\"dataframe\">\n",
       "  <thead>\n",
       "    <tr style=\"text-align: right;\">\n",
       "      <th></th>\n",
       "      <th>Unnamed: 0</th>\n",
       "      <th>external_id</th>\n",
       "      <th>station_id</th>\n",
       "      <th>short_name</th>\n",
       "      <th>eightd_has_key_dispenser</th>\n",
       "      <th>legacy_id</th>\n",
       "      <th>electric_bike_surcharge_waiver</th>\n",
       "      <th>capacity</th>\n",
       "      <th>has_kiosk</th>\n",
       "      <th>rental_methods</th>\n",
       "      <th>...</th>\n",
       "      <th>eightd_station_services</th>\n",
       "      <th>region_id</th>\n",
       "      <th>region_code</th>\n",
       "      <th>address</th>\n",
       "      <th>dockless_bikes_parking_zone_capacity</th>\n",
       "      <th>rack_model</th>\n",
       "      <th>client_station_id</th>\n",
       "      <th>target_bike_capacity</th>\n",
       "      <th>target_scooter_capacity</th>\n",
       "      <th>availability</th>\n",
       "    </tr>\n",
       "  </thead>\n",
       "  <tbody>\n",
       "    <tr>\n",
       "      <th>98</th>\n",
       "      <td>98</td>\n",
       "      <td>a3aae35a-a135-11e9-9cda-0a87ae2ba916</td>\n",
       "      <td>a3aae35a-a135-11e9-9cda-0a87ae2ba916</td>\n",
       "      <td>13345</td>\n",
       "      <td>False</td>\n",
       "      <td>335</td>\n",
       "      <td>False</td>\n",
       "      <td>15</td>\n",
       "      <td>True</td>\n",
       "      <td>['KEY', 'CREDITCARD', 'TRANSITCARD']</td>\n",
       "      <td>...</td>\n",
       "      <td>[]</td>\n",
       "      <td>NaN</td>\n",
       "      <td>NaN</td>\n",
       "      <td>NaN</td>\n",
       "      <td>NaN</td>\n",
       "      <td>NaN</td>\n",
       "      <td>NaN</td>\n",
       "      <td>NaN</td>\n",
       "      <td>NaN</td>\n",
       "      <td>1</td>\n",
       "    </tr>\n",
       "    <tr>\n",
       "      <th>553</th>\n",
       "      <td>553</td>\n",
       "      <td>a3a639f5-a135-11e9-9cda-0a87ae2ba916</td>\n",
       "      <td>a3a639f5-a135-11e9-9cda-0a87ae2ba916</td>\n",
       "      <td>13217</td>\n",
       "      <td>False</td>\n",
       "      <td>149</td>\n",
       "      <td>False</td>\n",
       "      <td>11</td>\n",
       "      <td>True</td>\n",
       "      <td>['KEY', 'CREDITCARD', 'TRANSITCARD']</td>\n",
       "      <td>...</td>\n",
       "      <td>[]</td>\n",
       "      <td>NaN</td>\n",
       "      <td>NaN</td>\n",
       "      <td>NaN</td>\n",
       "      <td>NaN</td>\n",
       "      <td>NaN</td>\n",
       "      <td>NaN</td>\n",
       "      <td>NaN</td>\n",
       "      <td>NaN</td>\n",
       "      <td>1</td>\n",
       "    </tr>\n",
       "    <tr>\n",
       "      <th>7</th>\n",
       "      <td>7</td>\n",
       "      <td>a3a75d8a-a135-11e9-9cda-0a87ae2ba916</td>\n",
       "      <td>a3a75d8a-a135-11e9-9cda-0a87ae2ba916</td>\n",
       "      <td>TA1307000129</td>\n",
       "      <td>False</td>\n",
       "      <td>184</td>\n",
       "      <td>False</td>\n",
       "      <td>19</td>\n",
       "      <td>True</td>\n",
       "      <td>['KEY', 'CREDITCARD', 'TRANSITCARD']</td>\n",
       "      <td>...</td>\n",
       "      <td>[]</td>\n",
       "      <td>NaN</td>\n",
       "      <td>NaN</td>\n",
       "      <td>NaN</td>\n",
       "      <td>NaN</td>\n",
       "      <td>NaN</td>\n",
       "      <td>NaN</td>\n",
       "      <td>NaN</td>\n",
       "      <td>NaN</td>\n",
       "      <td>1</td>\n",
       "    </tr>\n",
       "  </tbody>\n",
       "</table>\n",
       "<p>3 rows × 25 columns</p>\n",
       "</div>"
      ],
      "text/plain": [
       "     Unnamed: 0                           external_id  \\\n",
       "98           98  a3aae35a-a135-11e9-9cda-0a87ae2ba916   \n",
       "553         553  a3a639f5-a135-11e9-9cda-0a87ae2ba916   \n",
       "7             7  a3a75d8a-a135-11e9-9cda-0a87ae2ba916   \n",
       "\n",
       "                               station_id    short_name  \\\n",
       "98   a3aae35a-a135-11e9-9cda-0a87ae2ba916         13345   \n",
       "553  a3a639f5-a135-11e9-9cda-0a87ae2ba916         13217   \n",
       "7    a3a75d8a-a135-11e9-9cda-0a87ae2ba916  TA1307000129   \n",
       "\n",
       "     eightd_has_key_dispenser legacy_id  electric_bike_surcharge_waiver  \\\n",
       "98                      False       335                           False   \n",
       "553                     False       149                           False   \n",
       "7                       False       184                           False   \n",
       "\n",
       "     capacity  has_kiosk                        rental_methods  ...  \\\n",
       "98         15       True  ['KEY', 'CREDITCARD', 'TRANSITCARD']  ...   \n",
       "553        11       True  ['KEY', 'CREDITCARD', 'TRANSITCARD']  ...   \n",
       "7          19       True  ['KEY', 'CREDITCARD', 'TRANSITCARD']  ...   \n",
       "\n",
       "    eightd_station_services  region_id region_code  address  \\\n",
       "98                       []        NaN         NaN      NaN   \n",
       "553                      []        NaN         NaN      NaN   \n",
       "7                        []        NaN         NaN      NaN   \n",
       "\n",
       "    dockless_bikes_parking_zone_capacity rack_model  client_station_id  \\\n",
       "98                                   NaN        NaN                NaN   \n",
       "553                                  NaN        NaN                NaN   \n",
       "7                                    NaN        NaN                NaN   \n",
       "\n",
       "    target_bike_capacity target_scooter_capacity  availability  \n",
       "98                   NaN                     NaN             1  \n",
       "553                  NaN                     NaN             1  \n",
       "7                    NaN                     NaN             1  \n",
       "\n",
       "[3 rows x 25 columns]"
      ]
     },
     "execution_count": 26,
     "metadata": {},
     "output_type": "execute_result"
    }
   ],
   "source": [
    "stations=get_station_availability(nclose_stations,arrivals,departures)\n",
    "stations"
   ]
  },
  {
   "cell_type": "code",
   "execution_count": 35,
   "metadata": {},
   "outputs": [
    {
     "data": {
      "text/plain": [
       "{'Unnamed: 0': [98, 553, 7],\n",
       " 'external_id': ['a3aae35a-a135-11e9-9cda-0a87ae2ba916',\n",
       "  'a3a639f5-a135-11e9-9cda-0a87ae2ba916',\n",
       "  'a3a75d8a-a135-11e9-9cda-0a87ae2ba916'],\n",
       " 'station_id': ['a3aae35a-a135-11e9-9cda-0a87ae2ba916',\n",
       "  'a3a639f5-a135-11e9-9cda-0a87ae2ba916',\n",
       "  'a3a75d8a-a135-11e9-9cda-0a87ae2ba916'],\n",
       " 'short_name': ['13345', '13217', 'TA1307000129'],\n",
       " 'eightd_has_key_dispenser': [False, False, False],\n",
       " 'legacy_id': ['335', '149', '184'],\n",
       " 'electric_bike_surcharge_waiver': [False, False, False],\n",
       " 'capacity': [15, 11, 19],\n",
       " 'has_kiosk': [True, True, True],\n",
       " 'rental_methods': [\"['KEY', 'CREDITCARD', 'TRANSITCARD']\",\n",
       "  \"['KEY', 'CREDITCARD', 'TRANSITCARD']\",\n",
       "  \"['KEY', 'CREDITCARD', 'TRANSITCARD']\"],\n",
       " 'name': ['Calumet Ave & 35th St',\n",
       "  'Calumet Ave & 33rd St',\n",
       "  'State St & 35th St'],\n",
       " 'lon': [-87.618034, -87.61793, -87.62679755687714],\n",
       " 'rental_uris': [\"{'ios': 'https://chi.lft.to/lastmile_qr_scan', 'android': 'https://chi.lft.to/lastmile_qr_scan'}\",\n",
       "  \"{'ios': 'https://chi.lft.to/lastmile_qr_scan', 'android': 'https://chi.lft.to/lastmile_qr_scan'}\",\n",
       "  \"{'ios': 'https://chi.lft.to/lastmile_qr_scan', 'android': 'https://chi.lft.to/lastmile_qr_scan'}\"],\n",
       " 'lat': [41.831379, 41.8349, 41.8310363140161],\n",
       " 'station_type': ['classic', 'classic', 'classic'],\n",
       " 'eightd_station_services': ['[]', '[]', '[]'],\n",
       " 'region_id': [nan, nan, nan],\n",
       " 'region_code': [nan, nan, nan],\n",
       " 'address': [nan, nan, nan],\n",
       " 'dockless_bikes_parking_zone_capacity': [nan, nan, nan],\n",
       " 'rack_model': [nan, nan, nan],\n",
       " 'client_station_id': [nan, nan, nan],\n",
       " 'target_bike_capacity': [nan, nan, nan],\n",
       " 'target_scooter_capacity': [nan, nan, nan],\n",
       " 'availability': [1, 1, 1]}"
      ]
     },
     "execution_count": 35,
     "metadata": {},
     "output_type": "execute_result"
    }
   ],
   "source": [
    "dict2=stations.to_dict('list')\n",
    "dict2"
   ]
  },
  {
   "cell_type": "code",
   "execution_count": 31,
   "metadata": {},
   "outputs": [],
   "source": [
    "stations_simplified_df=stations.drop(columns=['Unnamed: 0','external_id','eightd_has_key_dispenser','electric_bike_surcharge_waiver','has_kiosk','rental_methods','rental_uris','eightd_station_services','region_id','region_code','address','dockless_bikes_parking_zone_capacity','rack_model','client_station_id','target_bike_capacity','target_scooter_capacity'])"
   ]
  },
  {
   "cell_type": "code",
   "execution_count": 32,
   "metadata": {},
   "outputs": [],
   "source": [
    "dictionary=stations_simplified_df.to_dict('list')"
   ]
  },
  {
   "cell_type": "code",
   "execution_count": 33,
   "metadata": {},
   "outputs": [
    {
     "data": {
      "text/plain": [
       "{'station_id': ['a3aae35a-a135-11e9-9cda-0a87ae2ba916',\n",
       "  'a3a639f5-a135-11e9-9cda-0a87ae2ba916',\n",
       "  'a3a75d8a-a135-11e9-9cda-0a87ae2ba916'],\n",
       " 'short_name': ['13345', '13217', 'TA1307000129'],\n",
       " 'legacy_id': ['335', '149', '184'],\n",
       " 'capacity': [15, 11, 19],\n",
       " 'name': ['Calumet Ave & 35th St',\n",
       "  'Calumet Ave & 33rd St',\n",
       "  'State St & 35th St'],\n",
       " 'lon': [-87.618034, -87.61793, -87.62679755687714],\n",
       " 'lat': [41.831379, 41.8349, 41.8310363140161],\n",
       " 'station_type': ['classic', 'classic', 'classic'],\n",
       " 'availability': [1, 1, 1]}"
      ]
     },
     "execution_count": 33,
     "metadata": {},
     "output_type": "execute_result"
    }
   ],
   "source": [
    "dictionary"
   ]
  },
  {
   "cell_type": "code",
   "execution_count": 36,
   "metadata": {},
   "outputs": [],
   "source": [
    "sta=pd.DataFrame.from_dict(dictionary)"
   ]
  },
  {
   "cell_type": "code",
   "execution_count": 37,
   "metadata": {},
   "outputs": [
    {
     "data": {
      "text/html": [
       "<div>\n",
       "<style scoped>\n",
       "    .dataframe tbody tr th:only-of-type {\n",
       "        vertical-align: middle;\n",
       "    }\n",
       "\n",
       "    .dataframe tbody tr th {\n",
       "        vertical-align: top;\n",
       "    }\n",
       "\n",
       "    .dataframe thead th {\n",
       "        text-align: right;\n",
       "    }\n",
       "</style>\n",
       "<table border=\"1\" class=\"dataframe\">\n",
       "  <thead>\n",
       "    <tr style=\"text-align: right;\">\n",
       "      <th></th>\n",
       "      <th>station_id</th>\n",
       "      <th>short_name</th>\n",
       "      <th>legacy_id</th>\n",
       "      <th>capacity</th>\n",
       "      <th>name</th>\n",
       "      <th>lon</th>\n",
       "      <th>lat</th>\n",
       "      <th>station_type</th>\n",
       "      <th>availability</th>\n",
       "    </tr>\n",
       "  </thead>\n",
       "  <tbody>\n",
       "    <tr>\n",
       "      <th>0</th>\n",
       "      <td>a3aae35a-a135-11e9-9cda-0a87ae2ba916</td>\n",
       "      <td>13345</td>\n",
       "      <td>335</td>\n",
       "      <td>15</td>\n",
       "      <td>Calumet Ave &amp; 35th St</td>\n",
       "      <td>-87.618034</td>\n",
       "      <td>41.831379</td>\n",
       "      <td>classic</td>\n",
       "      <td>1</td>\n",
       "    </tr>\n",
       "    <tr>\n",
       "      <th>1</th>\n",
       "      <td>a3a639f5-a135-11e9-9cda-0a87ae2ba916</td>\n",
       "      <td>13217</td>\n",
       "      <td>149</td>\n",
       "      <td>11</td>\n",
       "      <td>Calumet Ave &amp; 33rd St</td>\n",
       "      <td>-87.617930</td>\n",
       "      <td>41.834900</td>\n",
       "      <td>classic</td>\n",
       "      <td>1</td>\n",
       "    </tr>\n",
       "    <tr>\n",
       "      <th>2</th>\n",
       "      <td>a3a75d8a-a135-11e9-9cda-0a87ae2ba916</td>\n",
       "      <td>TA1307000129</td>\n",
       "      <td>184</td>\n",
       "      <td>19</td>\n",
       "      <td>State St &amp; 35th St</td>\n",
       "      <td>-87.626798</td>\n",
       "      <td>41.831036</td>\n",
       "      <td>classic</td>\n",
       "      <td>1</td>\n",
       "    </tr>\n",
       "  </tbody>\n",
       "</table>\n",
       "</div>"
      ],
      "text/plain": [
       "                             station_id    short_name legacy_id  capacity  \\\n",
       "0  a3aae35a-a135-11e9-9cda-0a87ae2ba916         13345       335        15   \n",
       "1  a3a639f5-a135-11e9-9cda-0a87ae2ba916         13217       149        11   \n",
       "2  a3a75d8a-a135-11e9-9cda-0a87ae2ba916  TA1307000129       184        19   \n",
       "\n",
       "                    name        lon        lat station_type  availability  \n",
       "0  Calumet Ave & 35th St -87.618034  41.831379      classic             1  \n",
       "1  Calumet Ave & 33rd St -87.617930  41.834900      classic             1  \n",
       "2     State St & 35th St -87.626798  41.831036      classic             1  "
      ]
     },
     "execution_count": 37,
     "metadata": {},
     "output_type": "execute_result"
    }
   ],
   "source": [
    "sta"
   ]
  },
  {
   "cell_type": "code",
   "execution_count": 38,
   "metadata": {},
   "outputs": [
    {
     "name": "stderr",
     "output_type": "stream",
     "text": [
      "[autoreload of interface_ui.flow.flow failed: Traceback (most recent call last):\n",
      "  File \"/Users/mariofernandez/.pyenv/versions/DIVVY_BIKE/lib/python3.10/site-packages/IPython/extensions/autoreload.py\", line 261, in check\n",
      "    superreload(m, reload, self.old_objects)\n",
      "  File \"/Users/mariofernandez/.pyenv/versions/DIVVY_BIKE/lib/python3.10/site-packages/IPython/extensions/autoreload.py\", line 459, in superreload\n",
      "    module = reload(module)\n",
      "  File \"/Users/mariofernandez/.pyenv/versions/3.10.6/lib/python3.10/importlib/__init__.py\", line 169, in reload\n",
      "    _bootstrap._exec(spec, module)\n",
      "  File \"<frozen importlib._bootstrap>\", line 619, in _exec\n",
      "  File \"<frozen importlib._bootstrap_external>\", line 883, in exec_module\n",
      "  File \"<frozen importlib._bootstrap>\", line 241, in _call_with_frames_removed\n",
      "  File \"/Users/mariofernandez/code/G-Dolle/DIVVY_BIKE/interface_ui/flow/flow.py\", line 1, in <module>\n",
      "    from flow.ui_utils import get_coordinates\n",
      "ModuleNotFoundError: No module named 'flow'\n",
      "]\n"
     ]
    }
   ],
   "source": [
    "sta.to_csv('interface_ui/stat.csv')"
   ]
  },
  {
   "cell_type": "code",
   "execution_count": 41,
   "metadata": {},
   "outputs": [
    {
     "ename": "SyntaxError",
     "evalue": "invalid syntax (2026562256.py, line 1)",
     "output_type": "error",
     "traceback": [
      "\u001b[0;36m  Cell \u001b[0;32mIn[41], line 1\u001b[0;36m\u001b[0m\n\u001b[0;31m    docker_image=#--platform=linux/amd64 tensorflow/tensorflow:2.10.0\u001b[0m\n\u001b[0m                 ^\u001b[0m\n\u001b[0;31mSyntaxError\u001b[0m\u001b[0;31m:\u001b[0m invalid syntax\n"
     ]
    }
   ],
   "source": [
    "docker_image=#--platform=linux/amd64 tensorflow/tensorflow:2.10.0"
   ]
  },
  {
   "cell_type": "code",
   "execution_count": null,
   "metadata": {},
   "outputs": [],
   "source": []
  }
 ],
 "metadata": {
  "kernelspec": {
   "display_name": "Python 3.10.6 64-bit ('shims')",
   "language": "python",
   "name": "python3"
  },
  "language_info": {
   "codemirror_mode": {
    "name": "ipython",
    "version": 3
   },
   "file_extension": ".py",
   "mimetype": "text/x-python",
   "name": "python",
   "nbconvert_exporter": "python",
   "pygments_lexer": "ipython3",
   "version": "3.10.6"
  },
  "orig_nbformat": 4,
  "vscode": {
   "interpreter": {
    "hash": "8b6a70856d80cc998133fadfc5935fe73a8081d1e320ea9e4e52e40b2d858c8e"
   }
  }
 },
 "nbformat": 4,
 "nbformat_minor": 2
}
