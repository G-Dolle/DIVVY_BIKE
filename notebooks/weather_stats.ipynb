{
 "cells": [
  {
   "cell_type": "code",
   "execution_count": 1,
   "metadata": {},
   "outputs": [
    {
     "data": {
      "text/plain": [
       "'/home/gdolle/code/G-Dolle/DIVVY_BIKE/notebooks'"
      ]
     },
     "execution_count": 1,
     "metadata": {},
     "output_type": "execute_result"
    }
   ],
   "source": [
    "pwd"
   ]
  },
  {
   "cell_type": "code",
   "execution_count": 2,
   "metadata": {},
   "outputs": [
    {
     "name": "stdout",
     "output_type": "stream",
     "text": [
      "/home/gdolle/code/G-Dolle/DIVVY_BIKE\n"
     ]
    }
   ],
   "source": [
    "cd '/home/gdolle/code/G-Dolle/DIVVY_BIKE'"
   ]
  },
  {
   "cell_type": "code",
   "execution_count": 3,
   "metadata": {},
   "outputs": [],
   "source": [
    "import os\n",
    "import pandas as pd\n",
    "\n",
    "from divvy.ml_logic.data_import import get_divvy_data, get_weather_data\n",
    "from divvy.ml_logic.cleaning import compute_geohash_stations,weather_cleaning, cleaning_divvy_gen,cleaning_divvy_gen_agg, merge_divvy_weather, features_target\n",
    "from divvy.ml_logic.preprocessor import transform_time_features, preprocess_features, target_process\n",
    "\n"
   ]
  },
  {
   "cell_type": "code",
   "execution_count": 4,
   "metadata": {},
   "outputs": [],
   "source": [
    "raw_weather_df = get_weather_data()\n",
    "clean_weather_df = weather_cleaning(raw_weather_df)\n",
    "\n",
    "divvy_q1_2021 = get_divvy_data(2021,\"Q1\")\n",
    "\n",
    "divvy_q2_2021 = get_divvy_data(2021,\"Q2\")\n",
    "divvy_q3_2021 = get_divvy_data(2021,\"Q3\")\n",
    "divvy_q4_2021 = get_divvy_data(2021,\"Q4\")\n"
   ]
  },
  {
   "cell_type": "code",
   "execution_count": 5,
   "metadata": {},
   "outputs": [],
   "source": [
    "#divvy_jan_2021 = pd.read_csv(\"raw_data/2021/202101-divvy-tripdata.csv\")\n",
    "#divvy_feb_2021 = pd.read_csv(\"raw_data/2021/202102-divvy-tripdata.csv\")\n",
    "#divvy_mar_2021 = pd.read_csv(\"raw_data/2021/202103-divvy-tripdata.csv\")"
   ]
  },
  {
   "cell_type": "code",
   "execution_count": 6,
   "metadata": {},
   "outputs": [],
   "source": [
    "#divvy_q1_2021 = pd.concat([divvy_jan_2021, divvy_feb_2021,divvy_mar_2021])\n",
    "#divvy_q1_2021.to_csv(\"raw_data/2021/Divvy_Trips_2021_Q1.csv\", index=False)"
   ]
  },
  {
   "cell_type": "code",
   "execution_count": 7,
   "metadata": {},
   "outputs": [
    {
     "name": "stderr",
     "output_type": "stream",
     "text": [
      "/home/gdolle/code/G-Dolle/DIVVY_BIKE/divvy/ml_logic/cleaning.py:24: SettingWithCopyWarning: \n",
      "A value is trying to be set on a copy of a slice from a DataFrame\n",
      "\n",
      "See the caveats in the documentation: https://pandas.pydata.org/pandas-docs/stable/user_guide/indexing.html#returning-a-view-versus-a-copy\n",
      "  df_stations_reduced.rename(columns={\"name\":\"station_name\"}, inplace=True)\n"
     ]
    }
   ],
   "source": [
    "rides_df = pd.concat([divvy_q1_2021,divvy_q2_2021, divvy_q3_2021,divvy_q4_2021])\n",
    "\n",
    "rides_df = rides_df[rides_df[\"start_station_name\"].isnull()==False]\n",
    "rides_df['started_at']=pd.to_datetime(rides_df['started_at'])\n",
    "rides_df['hourly_data_started'] = rides_df.started_at.dt.round('60min')\n",
    "\n",
    "rides_df = rides_df[[\"start_station_name\",\"ride_id\",\"hourly_data_started\"]]\n",
    "rides_df.rename(columns={\"start_station_name\":\"station_name\"}, inplace=True)\n",
    "\n",
    "\n",
    "precision_level= int(os.environ.get(\"PRECISION_LEVEL\"))\n",
    "geohash_station_df = compute_geohash_stations(precision = precision_level)\n",
    "\n",
    "rides_df = rides_df.merge(geohash_station_df, on=\"station_name\", how=\"left\")\n",
    "\n",
    "rides_df[\"date\"]= pd.to_datetime(rides_df[\"hourly_data_started\"]).dt.date\n",
    "rides_df[\"nb_rides\"]=1\n",
    "\n",
    "rides_df_daily_geohash = rides_df.groupby(by=[\"geohash\",\"date\"])[\"nb_rides\"].sum().reset_index()\n",
    "rides_df_daily = rides_df.groupby(by=[\"date\"])[\"nb_rides\"].sum().reset_index()"
   ]
  },
  {
   "cell_type": "code",
   "execution_count": 8,
   "metadata": {},
   "outputs": [
    {
     "data": {
      "text/html": [
       "<div>\n",
       "<style scoped>\n",
       "    .dataframe tbody tr th:only-of-type {\n",
       "        vertical-align: middle;\n",
       "    }\n",
       "\n",
       "    .dataframe tbody tr th {\n",
       "        vertical-align: top;\n",
       "    }\n",
       "\n",
       "    .dataframe thead th {\n",
       "        text-align: right;\n",
       "    }\n",
       "</style>\n",
       "<table border=\"1\" class=\"dataframe\">\n",
       "  <thead>\n",
       "    <tr style=\"text-align: right;\">\n",
       "      <th></th>\n",
       "      <th>date</th>\n",
       "      <th>nb_rides</th>\n",
       "    </tr>\n",
       "  </thead>\n",
       "  <tbody>\n",
       "    <tr>\n",
       "      <th>0</th>\n",
       "      <td>2021-01-01</td>\n",
       "      <td>948</td>\n",
       "    </tr>\n",
       "    <tr>\n",
       "      <th>1</th>\n",
       "      <td>2021-01-02</td>\n",
       "      <td>2086</td>\n",
       "    </tr>\n",
       "    <tr>\n",
       "      <th>2</th>\n",
       "      <td>2021-01-03</td>\n",
       "      <td>2236</td>\n",
       "    </tr>\n",
       "    <tr>\n",
       "      <th>3</th>\n",
       "      <td>2021-01-04</td>\n",
       "      <td>2946</td>\n",
       "    </tr>\n",
       "    <tr>\n",
       "      <th>4</th>\n",
       "      <td>2021-01-05</td>\n",
       "      <td>3539</td>\n",
       "    </tr>\n",
       "  </tbody>\n",
       "</table>\n",
       "</div>"
      ],
      "text/plain": [
       "         date  nb_rides\n",
       "0  2021-01-01       948\n",
       "1  2021-01-02      2086\n",
       "2  2021-01-03      2236\n",
       "3  2021-01-04      2946\n",
       "4  2021-01-05      3539"
      ]
     },
     "execution_count": 8,
     "metadata": {},
     "output_type": "execute_result"
    }
   ],
   "source": [
    "rides_df_daily.head(5)"
   ]
  },
  {
   "cell_type": "code",
   "execution_count": 9,
   "metadata": {},
   "outputs": [
    {
     "data": {
      "text/plain": [
       "(366, 2)"
      ]
     },
     "execution_count": 9,
     "metadata": {},
     "output_type": "execute_result"
    }
   ],
   "source": [
    "rides_df_daily.shape"
   ]
  },
  {
   "cell_type": "code",
   "execution_count": 10,
   "metadata": {},
   "outputs": [
    {
     "data": {
      "text/html": [
       "<div>\n",
       "<style scoped>\n",
       "    .dataframe tbody tr th:only-of-type {\n",
       "        vertical-align: middle;\n",
       "    }\n",
       "\n",
       "    .dataframe tbody tr th {\n",
       "        vertical-align: top;\n",
       "    }\n",
       "\n",
       "    .dataframe thead th {\n",
       "        text-align: right;\n",
       "    }\n",
       "</style>\n",
       "<table border=\"1\" class=\"dataframe\">\n",
       "  <thead>\n",
       "    <tr style=\"text-align: right;\">\n",
       "      <th></th>\n",
       "      <th>geohash</th>\n",
       "      <th>date</th>\n",
       "      <th>nb_rides</th>\n",
       "    </tr>\n",
       "  </thead>\n",
       "  <tbody>\n",
       "    <tr>\n",
       "      <th>0</th>\n",
       "      <td>dp3sy</td>\n",
       "      <td>2021-03-10</td>\n",
       "      <td>1</td>\n",
       "    </tr>\n",
       "    <tr>\n",
       "      <th>1</th>\n",
       "      <td>dp3sy</td>\n",
       "      <td>2021-03-15</td>\n",
       "      <td>1</td>\n",
       "    </tr>\n",
       "    <tr>\n",
       "      <th>2</th>\n",
       "      <td>dp3sy</td>\n",
       "      <td>2021-03-20</td>\n",
       "      <td>1</td>\n",
       "    </tr>\n",
       "    <tr>\n",
       "      <th>3</th>\n",
       "      <td>dp3sy</td>\n",
       "      <td>2021-03-21</td>\n",
       "      <td>1</td>\n",
       "    </tr>\n",
       "    <tr>\n",
       "      <th>4</th>\n",
       "      <td>dp3sy</td>\n",
       "      <td>2021-03-22</td>\n",
       "      <td>2</td>\n",
       "    </tr>\n",
       "  </tbody>\n",
       "</table>\n",
       "</div>"
      ],
      "text/plain": [
       "  geohash        date  nb_rides\n",
       "0   dp3sy  2021-03-10         1\n",
       "1   dp3sy  2021-03-15         1\n",
       "2   dp3sy  2021-03-20         1\n",
       "3   dp3sy  2021-03-21         1\n",
       "4   dp3sy  2021-03-22         2"
      ]
     },
     "execution_count": 10,
     "metadata": {},
     "output_type": "execute_result"
    }
   ],
   "source": [
    "rides_df_daily_geohash.head(5)"
   ]
  },
  {
   "cell_type": "code",
   "execution_count": 11,
   "metadata": {},
   "outputs": [
    {
     "data": {
      "text/plain": [
       "(12585, 3)"
      ]
     },
     "execution_count": 11,
     "metadata": {},
     "output_type": "execute_result"
    }
   ],
   "source": [
    "rides_df_daily_geohash.shape"
   ]
  },
  {
   "cell_type": "markdown",
   "metadata": {},
   "source": []
  },
  {
   "cell_type": "code",
   "execution_count": 12,
   "metadata": {},
   "outputs": [
    {
     "name": "stderr",
     "output_type": "stream",
     "text": [
      "/tmp/ipykernel_30586/3525036496.py:2: FutureWarning: Indexing with multiple keys (implicitly converted to a tuple of keys) will be deprecated, use a list instead.\n",
      "  avg_weather_df = clean_weather_df.groupby(by=[\"date\"])[\"temp\",\n"
     ]
    }
   ],
   "source": [
    "clean_weather_df[\"date\"]= pd.to_datetime(clean_weather_df[\"hourly_data\"]).dt.date\n",
    "avg_weather_df = clean_weather_df.groupby(by=[\"date\"])[\"temp\",\n",
    "                                                    \"pressure\",\n",
    "                                                    'humidity',\n",
    "                                                    'wind_speed',\n",
    "                                                    'wind_deg',\n",
    "                                                    \"clouds_all\"].mean().reset_index()"
   ]
  },
  {
   "cell_type": "code",
   "execution_count": 13,
   "metadata": {},
   "outputs": [
    {
     "data": {
      "text/html": [
       "<div>\n",
       "<style scoped>\n",
       "    .dataframe tbody tr th:only-of-type {\n",
       "        vertical-align: middle;\n",
       "    }\n",
       "\n",
       "    .dataframe tbody tr th {\n",
       "        vertical-align: top;\n",
       "    }\n",
       "\n",
       "    .dataframe thead th {\n",
       "        text-align: right;\n",
       "    }\n",
       "</style>\n",
       "<table border=\"1\" class=\"dataframe\">\n",
       "  <thead>\n",
       "    <tr style=\"text-align: right;\">\n",
       "      <th></th>\n",
       "      <th>date</th>\n",
       "      <th>temp</th>\n",
       "      <th>pressure</th>\n",
       "      <th>humidity</th>\n",
       "      <th>wind_speed</th>\n",
       "      <th>wind_deg</th>\n",
       "      <th>clouds_all</th>\n",
       "    </tr>\n",
       "  </thead>\n",
       "  <tbody>\n",
       "    <tr>\n",
       "      <th>0</th>\n",
       "      <td>2013-01-01</td>\n",
       "      <td>-5.561667</td>\n",
       "      <td>1020.791667</td>\n",
       "      <td>55.458333</td>\n",
       "      <td>3.826250</td>\n",
       "      <td>313.333333</td>\n",
       "      <td>65.833333</td>\n",
       "    </tr>\n",
       "    <tr>\n",
       "      <th>1</th>\n",
       "      <td>2013-01-02</td>\n",
       "      <td>-6.889583</td>\n",
       "      <td>1021.875000</td>\n",
       "      <td>53.291667</td>\n",
       "      <td>3.509583</td>\n",
       "      <td>245.000000</td>\n",
       "      <td>22.916667</td>\n",
       "    </tr>\n",
       "    <tr>\n",
       "      <th>2</th>\n",
       "      <td>2013-01-03</td>\n",
       "      <td>-3.463750</td>\n",
       "      <td>1020.750000</td>\n",
       "      <td>67.250000</td>\n",
       "      <td>5.002083</td>\n",
       "      <td>243.333333</td>\n",
       "      <td>76.458333</td>\n",
       "    </tr>\n",
       "    <tr>\n",
       "      <th>3</th>\n",
       "      <td>2013-01-04</td>\n",
       "      <td>-4.640833</td>\n",
       "      <td>1023.541667</td>\n",
       "      <td>66.458333</td>\n",
       "      <td>6.167917</td>\n",
       "      <td>249.166667</td>\n",
       "      <td>12.291667</td>\n",
       "    </tr>\n",
       "    <tr>\n",
       "      <th>4</th>\n",
       "      <td>2013-01-05</td>\n",
       "      <td>-1.201250</td>\n",
       "      <td>1022.083333</td>\n",
       "      <td>71.166667</td>\n",
       "      <td>4.327083</td>\n",
       "      <td>217.083333</td>\n",
       "      <td>30.000000</td>\n",
       "    </tr>\n",
       "  </tbody>\n",
       "</table>\n",
       "</div>"
      ],
      "text/plain": [
       "         date      temp     pressure   humidity  wind_speed    wind_deg  \\\n",
       "0  2013-01-01 -5.561667  1020.791667  55.458333    3.826250  313.333333   \n",
       "1  2013-01-02 -6.889583  1021.875000  53.291667    3.509583  245.000000   \n",
       "2  2013-01-03 -3.463750  1020.750000  67.250000    5.002083  243.333333   \n",
       "3  2013-01-04 -4.640833  1023.541667  66.458333    6.167917  249.166667   \n",
       "4  2013-01-05 -1.201250  1022.083333  71.166667    4.327083  217.083333   \n",
       "\n",
       "   clouds_all  \n",
       "0   65.833333  \n",
       "1   22.916667  \n",
       "2   76.458333  \n",
       "3   12.291667  \n",
       "4   30.000000  "
      ]
     },
     "execution_count": 13,
     "metadata": {},
     "output_type": "execute_result"
    }
   ],
   "source": [
    "avg_weather_df.head(5)"
   ]
  },
  {
   "cell_type": "code",
   "execution_count": 14,
   "metadata": {},
   "outputs": [],
   "source": [
    "rides_df_daily_geohash.to_csv(\"raw_data/rides_df_daily_geohash_2021.csv\", index=False)\n",
    "\n",
    "rides_df_daily.to_csv(\"raw_data/rides_df_daily_2021.csv\", index=False)\n",
    "avg_weather_df.to_csv(\"raw_data/avg_temp.csv\", index=False)"
   ]
  },
  {
   "cell_type": "code",
   "execution_count": 15,
   "metadata": {},
   "outputs": [],
   "source": [
    "import matplotlib.pyplot as plt"
   ]
  },
  {
   "cell_type": "code",
   "execution_count": 51,
   "metadata": {},
   "outputs": [],
   "source": [
    "def timeframe_df(df,timevariable,start_time,end_time):\n",
    "\n",
    "    condition_1 = df[timevariable] >= pd.to_datetime(start_time)\n",
    "    condition_2 = df[timevariable] <= pd.to_datetime(end_time)\n",
    "\n",
    "    df_red = df[condition_1]\n",
    "    df_red = df_red[condition_2]\n",
    "\n",
    "    return df_red\n",
    "\n",
    "def plot_rides_geohash(start_time,end_time,df_divvy,\n",
    "                       df_weather,timevariable,\n",
    "                       geohash,weather_metric):\n",
    "\n",
    "    df_divvy_red = timeframe_df(df_divvy,timevariable,start_time,end_time)\n",
    "    df_weather_red = timeframe_df(df_weather,timevariable,start_time,end_time)\n",
    "\n",
    "    df_divvy_red = df_divvy_red[df_divvy_red[\"geohash\"]==geohash]\n",
    "    df_weather_red = df_weather_red[[timevariable,weather_metric]]\n",
    "\n",
    "    fig, ax1 = plt.subplots()\n",
    "\n",
    "    ax2 = ax1.twinx()\n",
    "    ax1.plot(df_divvy_red[timevariable],df_divvy_red.nb_rides, 'g-')\n",
    "    ax2.plot(df_weather_red[timevariable],df_weather_red[weather_metric], 'b-')\n",
    "\n",
    "    ax1.set_xlabel('Time')\n",
    "    ax1.set_ylabel('Total nb of rides per day', color='g')\n",
    "    ax2.set_ylabel(f'{weather_metric}', color='b')\n",
    "\n",
    "    return fig\n",
    "\n",
    "\n",
    "def plot_rides_all(start_time,end_time,df_divvy,\n",
    "                       df_weather,timevariable,\n",
    "                       weather_metric):\n",
    "\n",
    "    df_divvy_red = timeframe_df(df_divvy,timevariable,start_time,end_time)\n",
    "    df_weather_red = timeframe_df(df_weather,timevariable,start_time,end_time)\n",
    "\n",
    "    df_weather_red = df_weather_red[[timevariable,weather_metric]]\n",
    "\n",
    "    fig, ax1 = plt.subplots()\n",
    "\n",
    "    ax2 = ax1.twinx()\n",
    "    ax1.plot(df_divvy_red[timevariable],df_divvy_red.nb_rides, 'g-')\n",
    "    ax2.plot(df_weather_red[timevariable],df_weather_red[weather_metric], 'b-')\n",
    "\n",
    "    ax1.set_xlabel('Time')\n",
    "    ax1.set_ylabel('Total nb of rides per day', color='g')\n",
    "    ax2.set_ylabel(f'{weather_metric}', color='b')\n",
    "\n",
    "    return fig"
   ]
  },
  {
   "cell_type": "code",
   "execution_count": 17,
   "metadata": {},
   "outputs": [],
   "source": [
    "start_time = \"2021-01-01\"\n",
    "end_time = \"2021-12-31\"\n",
    "timevariable=\"date\"\n",
    "geohash = \"dp3wm\"\n",
    "weather_metric=\"temp\""
   ]
  },
  {
   "cell_type": "code",
   "execution_count": 18,
   "metadata": {},
   "outputs": [
    {
     "name": "stderr",
     "output_type": "stream",
     "text": [
      "/tmp/ipykernel_30586/921158818.py:3: FutureWarning: Comparison of Timestamp with datetime.date is deprecated in order to match the standard library behavior. In a future version these will be considered non-comparable. Use 'ts == pd.Timestamp(date)' or 'ts.date() == date' instead.\n",
      "  condition_1 = df[timevariable] >= pd.to_datetime(start_time)\n",
      "/tmp/ipykernel_30586/921158818.py:4: FutureWarning: Comparison of Timestamp with datetime.date is deprecated in order to match the standard library behavior. In a future version these will be considered non-comparable. Use 'ts == pd.Timestamp(date)' or 'ts.date() == date' instead.\n",
      "  condition_2 = df[timevariable] <= pd.to_datetime(end_time)\n",
      "/tmp/ipykernel_30586/921158818.py:7: UserWarning: Boolean Series key will be reindexed to match DataFrame index.\n",
      "  df_red = df_red[condition_2]\n"
     ]
    },
    {
     "data": {
      "image/png": "[encoded data removed]",
      "text/plain": [
       "<Figure size 640x480 with 2 Axes>"
      ]
     },
     "metadata": {},
     "output_type": "display_data"
    }
   ],
   "source": [
    "fig=plot_rides_geohash(start_time,end_time,\n",
    "                       rides_df_daily_geohash,avg_weather_df,\n",
    "                       timevariable,geohash,\n",
    "                       weather_metric)\n"
   ]
  },
  {
   "cell_type": "code",
   "execution_count": 52,
   "metadata": {},
   "outputs": [
    {
     "name": "stderr",
     "output_type": "stream",
     "text": [
      "/tmp/ipykernel_30586/4043943131.py:3: FutureWarning: Comparison of Timestamp with datetime.date is deprecated in order to match the standard library behavior. In a future version these will be considered non-comparable. Use 'ts == pd.Timestamp(date)' or 'ts.date() == date' instead.\n",
      "  condition_1 = df[timevariable] >= pd.to_datetime(start_time)\n",
      "/tmp/ipykernel_30586/4043943131.py:4: FutureWarning: Comparison of Timestamp with datetime.date is deprecated in order to match the standard library behavior. In a future version these will be considered non-comparable. Use 'ts == pd.Timestamp(date)' or 'ts.date() == date' instead.\n",
      "  condition_2 = df[timevariable] <= pd.to_datetime(end_time)\n",
      "/tmp/ipykernel_30586/4043943131.py:7: UserWarning: Boolean Series key will be reindexed to match DataFrame index.\n",
      "  df_red = df_red[condition_2]\n"
     ]
    },
    {
     "ename": "AttributeError",
     "evalue": "'AxesSubplot' object has no attribute 'sns'",
     "output_type": "error",
     "traceback": [
      "\u001b[0;31m---------------------------------------------------------------------------\u001b[0m",
      "\u001b[0;31mAttributeError\u001b[0m                            Traceback (most recent call last)",
      "Cell \u001b[0;32mIn[52], line 1\u001b[0m\n\u001b[0;32m----> 1\u001b[0m fig2\u001b[39m=\u001b[39mplot_rides_all(start_time,end_time,\n\u001b[1;32m      2\u001b[0m                        rides_df_daily,avg_weather_df,\n\u001b[1;32m      3\u001b[0m                        timevariable,\n\u001b[1;32m      4\u001b[0m                        weather_metric)\n",
      "Cell \u001b[0;32mIn[51], line 46\u001b[0m, in \u001b[0;36mplot_rides_all\u001b[0;34m(start_time, end_time, df_divvy, df_weather, timevariable, weather_metric)\u001b[0m\n\u001b[1;32m     43\u001b[0m fig, ax1 \u001b[39m=\u001b[39m plt\u001b[39m.\u001b[39msubplots()\n\u001b[1;32m     45\u001b[0m ax2 \u001b[39m=\u001b[39m ax1\u001b[39m.\u001b[39mtwinx()\n\u001b[0;32m---> 46\u001b[0m ax1\u001b[39m.\u001b[39;49msns\u001b[39m.\u001b[39mlineplot(df_divvy_red[timevariable],df_divvy_red\u001b[39m.\u001b[39mnb_rides, \u001b[39m'\u001b[39m\u001b[39mg-\u001b[39m\u001b[39m'\u001b[39m)\n\u001b[1;32m     47\u001b[0m ax2\u001b[39m.\u001b[39msns\u001b[39m.\u001b[39mlineplot(df_weather_red[timevariable],df_weather_red[weather_metric], \u001b[39m'\u001b[39m\u001b[39mb-\u001b[39m\u001b[39m'\u001b[39m)\n\u001b[1;32m     49\u001b[0m ax1\u001b[39m.\u001b[39mset_xlabel(\u001b[39m'\u001b[39m\u001b[39mTime\u001b[39m\u001b[39m'\u001b[39m)\n",
      "\u001b[0;31mAttributeError\u001b[0m: 'AxesSubplot' object has no attribute 'sns'"
     ]
    },
    {
     "data": {
      "image/png": "[encoded data removed]",
      "text/plain": [
       "<Figure size 640x480 with 2 Axes>"
      ]
     },
     "metadata": {},
     "output_type": "display_data"
    }
   ],
   "source": [
    "fig2=plot_rides_all(start_time,end_time,\n",
    "                       rides_df_daily,avg_weather_df,\n",
    "                       timevariable,\n",
    "                       weather_metric)"
   ]
  },
  {
   "cell_type": "code",
   "execution_count": 20,
   "metadata": {},
   "outputs": [
    {
     "data": {
      "text/plain": [
       "Index(['date', 'temp', 'pressure', 'humidity', 'wind_speed', 'wind_deg',\n",
       "       'clouds_all'],\n",
       "      dtype='object')"
      ]
     },
     "execution_count": 20,
     "metadata": {},
     "output_type": "execute_result"
    }
   ],
   "source": [
    "avg_weather_df.columns"
   ]
  },
  {
   "cell_type": "code",
   "execution_count": 21,
   "metadata": {},
   "outputs": [],
   "source": [
    "rides_df_daily = rides_df_daily.merge(avg_weather_df, on=\"date\", how=\"left\")\n"
   ]
  },
  {
   "cell_type": "code",
   "execution_count": 22,
   "metadata": {},
   "outputs": [
    {
     "data": {
      "text/html": [
       "<div>\n",
       "<style scoped>\n",
       "    .dataframe tbody tr th:only-of-type {\n",
       "        vertical-align: middle;\n",
       "    }\n",
       "\n",
       "    .dataframe tbody tr th {\n",
       "        vertical-align: top;\n",
       "    }\n",
       "\n",
       "    .dataframe thead th {\n",
       "        text-align: right;\n",
       "    }\n",
       "</style>\n",
       "<table border=\"1\" class=\"dataframe\">\n",
       "  <thead>\n",
       "    <tr style=\"text-align: right;\">\n",
       "      <th></th>\n",
       "      <th>date</th>\n",
       "      <th>nb_rides</th>\n",
       "      <th>temp</th>\n",
       "      <th>pressure</th>\n",
       "      <th>humidity</th>\n",
       "      <th>wind_speed</th>\n",
       "      <th>wind_deg</th>\n",
       "      <th>clouds_all</th>\n",
       "    </tr>\n",
       "  </thead>\n",
       "  <tbody>\n",
       "    <tr>\n",
       "      <th>0</th>\n",
       "      <td>2021-01-01</td>\n",
       "      <td>948</td>\n",
       "      <td>-1.328750</td>\n",
       "      <td>1021.875000</td>\n",
       "      <td>82.541667</td>\n",
       "      <td>7.308333</td>\n",
       "      <td>95.416667</td>\n",
       "      <td>85.208333</td>\n",
       "    </tr>\n",
       "    <tr>\n",
       "      <th>1</th>\n",
       "      <td>2021-01-02</td>\n",
       "      <td>2086</td>\n",
       "      <td>0.635417</td>\n",
       "      <td>1016.125000</td>\n",
       "      <td>89.541667</td>\n",
       "      <td>7.054167</td>\n",
       "      <td>279.583333</td>\n",
       "      <td>100.000000</td>\n",
       "    </tr>\n",
       "    <tr>\n",
       "      <th>2</th>\n",
       "      <td>2021-01-03</td>\n",
       "      <td>2236</td>\n",
       "      <td>0.512917</td>\n",
       "      <td>1015.458333</td>\n",
       "      <td>90.208333</td>\n",
       "      <td>4.433333</td>\n",
       "      <td>234.583333</td>\n",
       "      <td>100.000000</td>\n",
       "    </tr>\n",
       "    <tr>\n",
       "      <th>3</th>\n",
       "      <td>2021-01-04</td>\n",
       "      <td>2946</td>\n",
       "      <td>-2.283750</td>\n",
       "      <td>1016.375000</td>\n",
       "      <td>88.500000</td>\n",
       "      <td>6.129167</td>\n",
       "      <td>206.250000</td>\n",
       "      <td>100.000000</td>\n",
       "    </tr>\n",
       "    <tr>\n",
       "      <th>4</th>\n",
       "      <td>2021-01-05</td>\n",
       "      <td>3539</td>\n",
       "      <td>-0.260417</td>\n",
       "      <td>1017.375000</td>\n",
       "      <td>86.875000</td>\n",
       "      <td>5.125000</td>\n",
       "      <td>287.500000</td>\n",
       "      <td>95.416667</td>\n",
       "    </tr>\n",
       "  </tbody>\n",
       "</table>\n",
       "</div>"
      ],
      "text/plain": [
       "         date  nb_rides      temp     pressure   humidity  wind_speed  \\\n",
       "0  2021-01-01       948 -1.328750  1021.875000  82.541667    7.308333   \n",
       "1  2021-01-02      2086  0.635417  1016.125000  89.541667    7.054167   \n",
       "2  2021-01-03      2236  0.512917  1015.458333  90.208333    4.433333   \n",
       "3  2021-01-04      2946 -2.283750  1016.375000  88.500000    6.129167   \n",
       "4  2021-01-05      3539 -0.260417  1017.375000  86.875000    5.125000   \n",
       "\n",
       "     wind_deg  clouds_all  \n",
       "0   95.416667   85.208333  \n",
       "1  279.583333  100.000000  \n",
       "2  234.583333  100.000000  \n",
       "3  206.250000  100.000000  \n",
       "4  287.500000   95.416667  "
      ]
     },
     "execution_count": 22,
     "metadata": {},
     "output_type": "execute_result"
    }
   ],
   "source": [
    "rides_df_daily.head()"
   ]
  },
  {
   "cell_type": "code",
   "execution_count": null,
   "metadata": {},
   "outputs": [],
   "source": []
  },
  {
   "cell_type": "code",
   "execution_count": 23,
   "metadata": {},
   "outputs": [
    {
     "data": {
      "text/plain": [
       "3    92\n",
       "4    92\n",
       "1    91\n",
       "2    91\n",
       "Name: quarter, dtype: int64"
      ]
     },
     "execution_count": 23,
     "metadata": {},
     "output_type": "execute_result"
    }
   ],
   "source": [
    "rides_df_daily[\"quarter\"]= pd.to_datetime(rides_df_daily[\"date\"]).dt.quarter \n",
    "rides_df_daily.quarter.value_counts()"
   ]
  },
  {
   "cell_type": "code",
   "execution_count": 24,
   "metadata": {},
   "outputs": [
    {
     "name": "stderr",
     "output_type": "stream",
     "text": [
      "/tmp/ipykernel_30586/1594237106.py:1: FutureWarning: Indexing with multiple keys (implicitly converted to a tuple of keys) will be deprecated, use a list instead.\n",
      "  rides_df_quarterly = rides_df_daily.groupby(by=[\"quarter\"])[\"nb_rides\",\"temp\"].mean().reset_index()\n"
     ]
    },
    {
     "data": {
      "text/html": [
       "<div>\n",
       "<style scoped>\n",
       "    .dataframe tbody tr th:only-of-type {\n",
       "        vertical-align: middle;\n",
       "    }\n",
       "\n",
       "    .dataframe tbody tr th {\n",
       "        vertical-align: top;\n",
       "    }\n",
       "\n",
       "    .dataframe thead th {\n",
       "        text-align: right;\n",
       "    }\n",
       "</style>\n",
       "<table border=\"1\" class=\"dataframe\">\n",
       "  <thead>\n",
       "    <tr style=\"text-align: right;\">\n",
       "      <th></th>\n",
       "      <th>quarter</th>\n",
       "      <th>nb_rides</th>\n",
       "      <th>temp</th>\n",
       "    </tr>\n",
       "  </thead>\n",
       "  <tbody>\n",
       "    <tr>\n",
       "      <th>0</th>\n",
       "      <td>1</td>\n",
       "      <td>3818.483516</td>\n",
       "      <td>-0.052587</td>\n",
       "    </tr>\n",
       "    <tr>\n",
       "      <th>1</th>\n",
       "      <td>2</td>\n",
       "      <td>15806.494505</td>\n",
       "      <td>16.417999</td>\n",
       "    </tr>\n",
       "    <tr>\n",
       "      <th>2</th>\n",
       "      <td>3</td>\n",
       "      <td>22979.315217</td>\n",
       "      <td>23.516445</td>\n",
       "    </tr>\n",
       "    <tr>\n",
       "      <th>3</th>\n",
       "      <td>4</td>\n",
       "      <td>10916.130435</td>\n",
       "      <td>8.173139</td>\n",
       "    </tr>\n",
       "  </tbody>\n",
       "</table>\n",
       "</div>"
      ],
      "text/plain": [
       "   quarter      nb_rides       temp\n",
       "0        1   3818.483516  -0.052587\n",
       "1        2  15806.494505  16.417999\n",
       "2        3  22979.315217  23.516445\n",
       "3        4  10916.130435   8.173139"
      ]
     },
     "execution_count": 24,
     "metadata": {},
     "output_type": "execute_result"
    }
   ],
   "source": [
    "rides_df_quarterly = rides_df_daily.groupby(by=[\"quarter\"])[\"nb_rides\",\"temp\"].mean().reset_index()\n",
    "rides_df_quarterly"
   ]
  },
  {
   "cell_type": "code",
   "execution_count": 25,
   "metadata": {},
   "outputs": [
    {
     "name": "stderr",
     "output_type": "stream",
     "text": [
      "/tmp/ipykernel_30586/774654409.py:2: SettingWithCopyWarning: \n",
      "A value is trying to be set on a copy of a slice from a DataFrame\n",
      "\n",
      "See the caveats in the documentation: https://pandas.pydata.org/pandas-docs/stable/user_guide/indexing.html#returning-a-view-versus-a-copy\n",
      "  rides_df_quarterly_1.rename(columns={\"nb_rides\":\"value\"}, inplace=True)\n",
      "/tmp/ipykernel_30586/774654409.py:6: SettingWithCopyWarning: \n",
      "A value is trying to be set on a copy of a slice from a DataFrame\n",
      "\n",
      "See the caveats in the documentation: https://pandas.pydata.org/pandas-docs/stable/user_guide/indexing.html#returning-a-view-versus-a-copy\n",
      "  rides_df_quarterly_2.rename(columns={\"temp\":\"value\"}, inplace=True)\n"
     ]
    },
    {
     "data": {
      "text/html": [
       "<div>\n",
       "<style scoped>\n",
       "    .dataframe tbody tr th:only-of-type {\n",
       "        vertical-align: middle;\n",
       "    }\n",
       "\n",
       "    .dataframe tbody tr th {\n",
       "        vertical-align: top;\n",
       "    }\n",
       "\n",
       "    .dataframe thead th {\n",
       "        text-align: right;\n",
       "    }\n",
       "</style>\n",
       "<table border=\"1\" class=\"dataframe\">\n",
       "  <thead>\n",
       "    <tr style=\"text-align: right;\">\n",
       "      <th></th>\n",
       "      <th>quarter</th>\n",
       "      <th>value</th>\n",
       "      <th>metric</th>\n",
       "    </tr>\n",
       "  </thead>\n",
       "  <tbody>\n",
       "    <tr>\n",
       "      <th>0</th>\n",
       "      <td>1</td>\n",
       "      <td>3818.483516</td>\n",
       "      <td>nb_rides</td>\n",
       "    </tr>\n",
       "    <tr>\n",
       "      <th>1</th>\n",
       "      <td>2</td>\n",
       "      <td>15806.494505</td>\n",
       "      <td>nb_rides</td>\n",
       "    </tr>\n",
       "    <tr>\n",
       "      <th>2</th>\n",
       "      <td>3</td>\n",
       "      <td>22979.315217</td>\n",
       "      <td>nb_rides</td>\n",
       "    </tr>\n",
       "    <tr>\n",
       "      <th>3</th>\n",
       "      <td>4</td>\n",
       "      <td>10916.130435</td>\n",
       "      <td>nb_rides</td>\n",
       "    </tr>\n",
       "    <tr>\n",
       "      <th>0</th>\n",
       "      <td>1</td>\n",
       "      <td>-0.052587</td>\n",
       "      <td>temp</td>\n",
       "    </tr>\n",
       "    <tr>\n",
       "      <th>1</th>\n",
       "      <td>2</td>\n",
       "      <td>16.417999</td>\n",
       "      <td>temp</td>\n",
       "    </tr>\n",
       "    <tr>\n",
       "      <th>2</th>\n",
       "      <td>3</td>\n",
       "      <td>23.516445</td>\n",
       "      <td>temp</td>\n",
       "    </tr>\n",
       "    <tr>\n",
       "      <th>3</th>\n",
       "      <td>4</td>\n",
       "      <td>8.173139</td>\n",
       "      <td>temp</td>\n",
       "    </tr>\n",
       "  </tbody>\n",
       "</table>\n",
       "</div>"
      ],
      "text/plain": [
       "   quarter         value    metric\n",
       "0        1   3818.483516  nb_rides\n",
       "1        2  15806.494505  nb_rides\n",
       "2        3  22979.315217  nb_rides\n",
       "3        4  10916.130435  nb_rides\n",
       "0        1     -0.052587      temp\n",
       "1        2     16.417999      temp\n",
       "2        3     23.516445      temp\n",
       "3        4      8.173139      temp"
      ]
     },
     "execution_count": 25,
     "metadata": {},
     "output_type": "execute_result"
    }
   ],
   "source": [
    "rides_df_quarterly_1=rides_df_quarterly[[\"quarter\",\"nb_rides\"]]\n",
    "rides_df_quarterly_1.rename(columns={\"nb_rides\":\"value\"}, inplace=True)\n",
    "rides_df_quarterly_1[\"metric\"]=\"nb_rides\"\n",
    "\n",
    "rides_df_quarterly_2=rides_df_quarterly[[\"quarter\",\"temp\"]]\n",
    "rides_df_quarterly_2.rename(columns={\"temp\":\"value\"}, inplace=True)\n",
    "rides_df_quarterly_2[\"metric\"]=\"temp\"\n",
    "\n",
    "\n",
    "rides_df_Q_long = pd.concat([rides_df_quarterly_1,rides_df_quarterly_2])\n",
    "rides_df_Q_long"
   ]
  },
  {
   "cell_type": "code",
   "execution_count": 26,
   "metadata": {},
   "outputs": [
    {
     "data": {
      "text/plain": [
       "<AxesSubplot: xlabel='quarter', ylabel='value'>"
      ]
     },
     "execution_count": 26,
     "metadata": {},
     "output_type": "execute_result"
    },
    {
     "data": {
      "image/png": "[encoded data removed]",
      "text/plain": [
       "<Figure size 640x480 with 1 Axes>"
      ]
     },
     "metadata": {},
     "output_type": "display_data"
    }
   ],
   "source": [
    "import seaborn as sns\n",
    "\n",
    "sns.barplot(data=rides_df_Q_long, x=\"quarter\", y=\"value\", hue=\"metric\")\n"
   ]
  },
  {
   "cell_type": "code",
   "execution_count": 27,
   "metadata": {},
   "outputs": [],
   "source": [
    "import numpy as np"
   ]
  },
  {
   "cell_type": "code",
   "execution_count": 39,
   "metadata": {},
   "outputs": [],
   "source": [
    "rides_df_daily[\"nb_rides\"] = rides_df_daily[\"nb_rides\"]/1000"
   ]
  },
  {
   "cell_type": "code",
   "execution_count": 49,
   "metadata": {},
   "outputs": [
    {
     "data": {
      "text/plain": [
       "[<matplotlib.axis.YTick at 0x7f3b5c216fb0>,\n",
       " <matplotlib.axis.YTick at 0x7f3b5c216a70>,\n",
       " <matplotlib.axis.YTick at 0x7f3b5c25d3c0>,\n",
       " <matplotlib.axis.YTick at 0x7f3b5c25dcc0>]"
      ]
     },
     "execution_count": 49,
     "metadata": {},
     "output_type": "execute_result"
    },
    {
     "data": {
      "image/png": "[encoded data removed]",
      "text/plain": [
       "<Figure size 640x480 with 1 Axes>"
      ]
     },
     "metadata": {},
     "output_type": "display_data"
    }
   ],
   "source": [
    "figure_ = sns.scatterplot(data = rides_df_daily, x=\"temp\",y=\"nb_rides\")\n",
    "figure_.set_xlabel(\"Temperature (°c)\")\n",
    "figure_.set_ylabel(\"Daily number of bike rides ('000s)\")\n",
    "figure_.set_xticks(range(-20,35,10))\n",
    "figure_.set_yticks(range(0,40,10))\n"
   ]
  },
  {
   "cell_type": "code",
   "execution_count": 50,
   "metadata": {},
   "outputs": [],
   "source": [
    "figure_.figure.savefig(\"raw_data/output.png\")"
   ]
  },
  {
   "cell_type": "code",
   "execution_count": 63,
   "metadata": {},
   "outputs": [
    {
     "data": {
      "image/png": "[encoded data removed]",
      "text/plain": [
       "<Figure size 640x480 with 1 Axes>"
      ]
     },
     "metadata": {},
     "output_type": "display_data"
    }
   ],
   "source": [
    "ax1 = sns.lineplot(data=rides_df_daily, x=timevariable,y=\"nb_rides\", color='b')"
   ]
  },
  {
   "cell_type": "code",
   "execution_count": 65,
   "metadata": {},
   "outputs": [],
   "source": [
    "rides_df_MA = rides_df_daily.copy()"
   ]
  },
  {
   "cell_type": "code",
   "execution_count": 74,
   "metadata": {},
   "outputs": [],
   "source": [
    "rides_df_MA['nb_rides_MA3'] = rides_df_MA['nb_rides'].rolling(7).mean()\n",
    "rides_df_MA['temp_MA3'] = rides_df_MA['temp'].rolling(7).mean()"
   ]
  },
  {
   "cell_type": "code",
   "execution_count": 98,
   "metadata": {},
   "outputs": [
    {
     "data": {
      "text/plain": [
       "Text(0, 0.5, 'Temperature (°c)')"
      ]
     },
     "execution_count": 98,
     "metadata": {},
     "output_type": "execute_result"
    },
    {
     "data": {
      "image/png": "[encoded data removed]",
      "text/plain": [
       "<Figure size 640x480 with 2 Axes>"
      ]
     },
     "metadata": {},
     "output_type": "display_data"
    }
   ],
   "source": [
    "palette = sns.set_palette(\"pastel\")\n",
    "\n",
    "ax1 = sns.lineplot(data=rides_df_MA, x=timevariable,y=\"nb_rides_MA3\", color='b', legend=True)\n",
    "ax2 = ax1.twinx()\n",
    "sns.lineplot(data=rides_df_MA, x=timevariable,y=\"temp_MA3\", color='r', ax=ax2,  legend=True)\n",
    "\n",
    "ax1.set_xlabel('Time')\n",
    "ax1.set_ylabel(\"Daily number of bike rides ('000s)\", color='b')\n",
    "ax2.set_ylabel('Temperature (°c)', color='r')\n"
   ]
  },
  {
   "cell_type": "code",
   "execution_count": 100,
   "metadata": {},
   "outputs": [
    {
     "name": "stdout",
     "output_type": "stream",
     "text": [
      "Collecting statsmodels\n",
      "  Downloading statsmodels-0.13.5-cp310-cp310-manylinux_2_17_x86_64.manylinux2014_x86_64.whl (9.9 MB)\n",
      "\u001b[2K     \u001b[90m━━━━━━━━━━━━━━━━━━━━━━━━━━━━━━━━━━━━━━━━\u001b[0m \u001b[32m9.9/9.9 MB\u001b[0m \u001b[31m12.4 MB/s\u001b[0m eta \u001b[36m0:00:00\u001b[0m00:01\u001b[0m00:01\u001b[0m\n",
      "\u001b[?25hRequirement already satisfied: numpy>=1.17 in /home/gdolle/.pyenv/versions/3.10.6/envs/DIVVY_BIKE/lib/python3.10/site-packages (from statsmodels) (1.23.5)\n",
      "Requirement already satisfied: packaging>=21.3 in /home/gdolle/.pyenv/versions/3.10.6/envs/DIVVY_BIKE/lib/python3.10/site-packages (from statsmodels) (21.3)\n",
      "Requirement already satisfied: scipy>=1.3 in /home/gdolle/.pyenv/versions/3.10.6/envs/DIVVY_BIKE/lib/python3.10/site-packages (from statsmodels) (1.9.3)\n",
      "Requirement already satisfied: pandas>=0.25 in /home/gdolle/.pyenv/versions/3.10.6/envs/DIVVY_BIKE/lib/python3.10/site-packages (from statsmodels) (1.5.2)\n",
      "Collecting patsy>=0.5.2\n",
      "  Using cached patsy-0.5.3-py2.py3-none-any.whl (233 kB)\n",
      "Requirement already satisfied: pyparsing!=3.0.5,>=2.0.2 in /home/gdolle/.pyenv/versions/3.10.6/envs/DIVVY_BIKE/lib/python3.10/site-packages (from packaging>=21.3->statsmodels) (3.0.9)\n",
      "Requirement already satisfied: pytz>=2020.1 in /home/gdolle/.pyenv/versions/3.10.6/envs/DIVVY_BIKE/lib/python3.10/site-packages (from pandas>=0.25->statsmodels) (2022.6)\n",
      "Requirement already satisfied: python-dateutil>=2.8.1 in /home/gdolle/.pyenv/versions/3.10.6/envs/DIVVY_BIKE/lib/python3.10/site-packages (from pandas>=0.25->statsmodels) (2.8.2)\n",
      "Requirement already satisfied: six in /home/gdolle/.pyenv/versions/3.10.6/envs/DIVVY_BIKE/lib/python3.10/site-packages (from patsy>=0.5.2->statsmodels) (1.16.0)\n",
      "Installing collected packages: patsy, statsmodels\n",
      "Successfully installed patsy-0.5.3 statsmodels-0.13.5\n",
      "Note: you may need to restart the kernel to use updated packages.\n"
     ]
    }
   ],
   "source": [
    "pip install statsmodels"
   ]
  },
  {
   "cell_type": "code",
   "execution_count": 103,
   "metadata": {},
   "outputs": [
    {
     "name": "stdout",
     "output_type": "stream",
     "text": [
      "<class 'pandas.core.frame.DataFrame'>\n",
      "Int64Index: 366 entries, 0 to 365\n",
      "Data columns (total 9 columns):\n",
      " #   Column      Non-Null Count  Dtype         \n",
      "---  ------      --------------  -----         \n",
      " 0   date        366 non-null    datetime64[ns]\n",
      " 1   nb_rides    366 non-null    float64       \n",
      " 2   temp        366 non-null    float64       \n",
      " 3   pressure    366 non-null    float64       \n",
      " 4   humidity    366 non-null    float64       \n",
      " 5   wind_speed  366 non-null    float64       \n",
      " 6   wind_deg    366 non-null    float64       \n",
      " 7   clouds_all  366 non-null    float64       \n",
      " 8   quarter     366 non-null    int64         \n",
      "dtypes: datetime64[ns](1), float64(7), int64(1)\n",
      "memory usage: 28.6 KB\n"
     ]
    }
   ],
   "source": [
    "rides_df_daily[\"date\"]= pd.to_datetime(rides_df_daily[\"date\"])\n",
    "rides_df_daily.info()"
   ]
  },
  {
   "cell_type": "code",
   "execution_count": 114,
   "metadata": {},
   "outputs": [
    {
     "data": {
      "text/html": [
       "<div>\n",
       "<style scoped>\n",
       "    .dataframe tbody tr th:only-of-type {\n",
       "        vertical-align: middle;\n",
       "    }\n",
       "\n",
       "    .dataframe tbody tr th {\n",
       "        vertical-align: top;\n",
       "    }\n",
       "\n",
       "    .dataframe thead th {\n",
       "        text-align: right;\n",
       "    }\n",
       "</style>\n",
       "<table border=\"1\" class=\"dataframe\">\n",
       "  <thead>\n",
       "    <tr style=\"text-align: right;\">\n",
       "      <th></th>\n",
       "      <th>nb_rides</th>\n",
       "      <th>temp</th>\n",
       "      <th>pressure</th>\n",
       "      <th>humidity</th>\n",
       "      <th>wind_speed</th>\n",
       "      <th>wind_deg</th>\n",
       "      <th>clouds_all</th>\n",
       "      <th>quarter</th>\n",
       "    </tr>\n",
       "    <tr>\n",
       "      <th>date</th>\n",
       "      <th></th>\n",
       "      <th></th>\n",
       "      <th></th>\n",
       "      <th></th>\n",
       "      <th></th>\n",
       "      <th></th>\n",
       "      <th></th>\n",
       "      <th></th>\n",
       "    </tr>\n",
       "  </thead>\n",
       "  <tbody>\n",
       "    <tr>\n",
       "      <th>2021-01-01</th>\n",
       "      <td>0.948</td>\n",
       "      <td>-1.328750</td>\n",
       "      <td>1021.875000</td>\n",
       "      <td>82.541667</td>\n",
       "      <td>7.308333</td>\n",
       "      <td>95.416667</td>\n",
       "      <td>85.208333</td>\n",
       "      <td>1</td>\n",
       "    </tr>\n",
       "    <tr>\n",
       "      <th>2021-01-02</th>\n",
       "      <td>2.086</td>\n",
       "      <td>0.635417</td>\n",
       "      <td>1016.125000</td>\n",
       "      <td>89.541667</td>\n",
       "      <td>7.054167</td>\n",
       "      <td>279.583333</td>\n",
       "      <td>100.000000</td>\n",
       "      <td>1</td>\n",
       "    </tr>\n",
       "    <tr>\n",
       "      <th>2021-01-03</th>\n",
       "      <td>2.236</td>\n",
       "      <td>0.512917</td>\n",
       "      <td>1015.458333</td>\n",
       "      <td>90.208333</td>\n",
       "      <td>4.433333</td>\n",
       "      <td>234.583333</td>\n",
       "      <td>100.000000</td>\n",
       "      <td>1</td>\n",
       "    </tr>\n",
       "    <tr>\n",
       "      <th>2021-01-04</th>\n",
       "      <td>2.946</td>\n",
       "      <td>-2.283750</td>\n",
       "      <td>1016.375000</td>\n",
       "      <td>88.500000</td>\n",
       "      <td>6.129167</td>\n",
       "      <td>206.250000</td>\n",
       "      <td>100.000000</td>\n",
       "      <td>1</td>\n",
       "    </tr>\n",
       "    <tr>\n",
       "      <th>2021-01-05</th>\n",
       "      <td>3.539</td>\n",
       "      <td>-0.260417</td>\n",
       "      <td>1017.375000</td>\n",
       "      <td>86.875000</td>\n",
       "      <td>5.125000</td>\n",
       "      <td>287.500000</td>\n",
       "      <td>95.416667</td>\n",
       "      <td>1</td>\n",
       "    </tr>\n",
       "  </tbody>\n",
       "</table>\n",
       "</div>"
      ],
      "text/plain": [
       "            nb_rides      temp     pressure   humidity  wind_speed  \\\n",
       "date                                                                 \n",
       "2021-01-01     0.948 -1.328750  1021.875000  82.541667    7.308333   \n",
       "2021-01-02     2.086  0.635417  1016.125000  89.541667    7.054167   \n",
       "2021-01-03     2.236  0.512917  1015.458333  90.208333    4.433333   \n",
       "2021-01-04     2.946 -2.283750  1016.375000  88.500000    6.129167   \n",
       "2021-01-05     3.539 -0.260417  1017.375000  86.875000    5.125000   \n",
       "\n",
       "              wind_deg  clouds_all  quarter  \n",
       "date                                         \n",
       "2021-01-01   95.416667   85.208333        1  \n",
       "2021-01-02  279.583333  100.000000        1  \n",
       "2021-01-03  234.583333  100.000000        1  \n",
       "2021-01-04  206.250000  100.000000        1  \n",
       "2021-01-05  287.500000   95.416667        1  "
      ]
     },
     "execution_count": 114,
     "metadata": {},
     "output_type": "execute_result"
    }
   ],
   "source": [
    "rides_df_daily.head(5)"
   ]
  },
  {
   "cell_type": "code",
   "execution_count": 122,
   "metadata": {},
   "outputs": [],
   "source": [
    "rides_df_daily=pd.read_csv(\"raw_data/rides_df_daily_2021.csv\")\n",
    "rides_df_daily[\"date\"]= pd.to_datetime(rides_df_daily[\"date\"])\n",
    "\n",
    "avg_weather_df=pd.read_csv(\"raw_data/avg_temp.csv\")\n",
    "avg_weather_df[\"date\"]= pd.to_datetime(avg_weather_df[\"date\"])\n",
    "\n",
    "rides_df_daily = rides_df_daily.merge(avg_weather_df, on=\"date\", how=\"left\")"
   ]
  },
  {
   "cell_type": "code",
   "execution_count": 123,
   "metadata": {},
   "outputs": [],
   "source": [
    "from statsmodels.tsa.seasonal import seasonal_decompose\n",
    "\n",
    "rides_df_daily = rides_df_daily.set_index('date')\n",
    "rides_df_daily[\"nb_rides\"] = rides_df_daily[\"nb_rides\"]/1000\n",
    "\n",
    "rides_trend = seasonal_decompose(rides_df_daily['nb_rides'], model='additive')\n",
    "temp_trend = seasonal_decompose(rides_df_daily['temp'], model='additive')"
   ]
  },
  {
   "cell_type": "code",
   "execution_count": 137,
   "metadata": {},
   "outputs": [
    {
     "data": {
      "text/plain": [
       "(0.9677975592919913, 0.44127456009157356, 0.5358103155058701)"
      ]
     },
     "execution_count": 137,
     "metadata": {},
     "output_type": "execute_result"
    }
   ],
   "source": [
    "palette = iter(sns.husl_palette())\n",
    "next(palette)"
   ]
  },
  {
   "cell_type": "code",
   "execution_count": 146,
   "metadata": {},
   "outputs": [
    {
     "data": {
      "text/plain": [
       "Text(0, 0.5, 'Temperature (°c)')"
      ]
     },
     "execution_count": 146,
     "metadata": {},
     "output_type": "execute_result"
    },
    {
     "data": {
      "image/png": "[encoded data removed]",
      "text/plain": [
       "<Figure size 640x480 with 2 Axes>"
      ]
     },
     "metadata": {},
     "output_type": "display_data"
    }
   ],
   "source": [
    "fig, ax1 = plt.subplots()\n",
    "\n",
    "ax1 = sns.lineplot(rides_trend.trend, color=(43/255,140/255,190/255), legend=True)\n",
    "ax2 = ax1.twinx()\n",
    "sns.lineplot(temp_trend.trend, ax=ax2, color=(222/255,45/255,38/255), legend=True)\n",
    "\n",
    "ax1.set_xlabel('Time')\n",
    "ax1.set_ylabel(\"Daily number of bike rides ('000s)\", color=(43/255,140/255,190/255))\n",
    "ax2.set_ylabel('Temperature (°c)', color=(222/255,45/255,38/255))"
   ]
  },
  {
   "cell_type": "code",
   "execution_count": 170,
   "metadata": {},
   "outputs": [],
   "source": [
    "rides_df_daily=pd.read_csv(\"raw_data/rides_df_daily_2021.csv\")\n",
    "rides_df_daily[\"date\"]= pd.to_datetime(rides_df_daily[\"date\"])\n",
    "\n",
    "avg_weather_df=pd.read_csv(\"raw_data/avg_temp.csv\")\n",
    "avg_weather_df[\"date\"]= pd.to_datetime(avg_weather_df[\"date\"])\n",
    "\n",
    "rides_df_daily = rides_df_daily.merge(avg_weather_df, on=\"date\", how=\"left\")"
   ]
  },
  {
   "cell_type": "code",
   "execution_count": 171,
   "metadata": {},
   "outputs": [],
   "source": [
    "def plot_rides_all_bis(start_time,end_time,df_divvy,\n",
    "                       timevariable):\n",
    "    \n",
    "    df_divvy[\"nb_rides\"] = df_divvy[\"nb_rides\"]/1000\n",
    "\n",
    "    df_divvy_red = timeframe_df(df_divvy,timevariable,start_time,end_time)\n",
    "\n",
    "    df_divvy_red = df_divvy_red.set_index('date')\n",
    "\n",
    "    rides_trend = seasonal_decompose(df_divvy_red['nb_rides'], model='additive')\n",
    "    temp_trend = seasonal_decompose(df_divvy_red['temp'], model='additive')\n",
    "\n",
    "    ax1 = plt.subplots()\n",
    "\n",
    "    ax1 = sns.lineplot(rides_trend.trend, color=(43/255,140/255,190/255), legend=True)\n",
    "    ax2 = ax1.twinx()\n",
    "    sns.lineplot(temp_trend.trend, ax=ax2, color=(222/255,45/255,38/255), legend=True)\n",
    "\n",
    "    ax1.set_xlabel('Time')\n",
    "    ax1.set_ylabel(\"Daily number of bike rides ('000s)\", color=(43/255,140/255,190/255))\n",
    "    ax2.set_ylabel('Temperature (°c)', color=(222/255,45/255,38/255))\n",
    "\n",
    "    return ax1"
   ]
  },
  {
   "cell_type": "code",
   "execution_count": 172,
   "metadata": {},
   "outputs": [],
   "source": [
    "start_time = \"2021-07-01\"\n",
    "end_time = \"2021-12-31\"\n",
    "timevariable=\"date\"\n",
    "weather_metric=\"temp\""
   ]
  },
  {
   "cell_type": "code",
   "execution_count": 173,
   "metadata": {},
   "outputs": [
    {
     "name": "stderr",
     "output_type": "stream",
     "text": [
      "/tmp/ipykernel_30586/4043943131.py:7: UserWarning: Boolean Series key will be reindexed to match DataFrame index.\n",
      "  df_red = df_red[condition_2]\n"
     ]
    },
    {
     "data": {
      "text/plain": [
       "<AxesSubplot: xlabel='Time', ylabel=\"Daily number of bike rides ('000s)\">"
      ]
     },
     "execution_count": 173,
     "metadata": {},
     "output_type": "execute_result"
    },
    {
     "data": {
      "image/png": "[encoded data removed]",
      "text/plain": [
       "<Figure size 640x480 with 2 Axes>"
      ]
     },
     "metadata": {},
     "output_type": "display_data"
    }
   ],
   "source": [
    "plot_rides_all_bis(start_time,end_time,rides_df_daily,timevariable)"
   ]
  },
  {
   "cell_type": "code",
   "execution_count": null,
   "metadata": {},
   "outputs": [],
   "source": [
    "figure_.figure.savefig(\"raw_data/output.png\")"
   ]
  },
  {
   "cell_type": "code",
   "execution_count": null,
   "metadata": {},
   "outputs": [],
   "source": [
    "conf_matrix = [[4963,3],\n",
    "[11,5]]"
   ]
  },
  {
   "cell_type": "code",
   "execution_count": null,
   "metadata": {},
   "outputs": [
    {
     "data": {
      "text/html": [
       "<div>\n",
       "<style scoped>\n",
       "    .dataframe tbody tr th:only-of-type {\n",
       "        vertical-align: middle;\n",
       "    }\n",
       "\n",
       "    .dataframe tbody tr th {\n",
       "        vertical-align: top;\n",
       "    }\n",
       "\n",
       "    .dataframe thead th {\n",
       "        text-align: right;\n",
       "    }\n",
       "</style>\n",
       "<table border=\"1\" class=\"dataframe\">\n",
       "  <thead>\n",
       "    <tr style=\"text-align: right;\">\n",
       "      <th></th>\n",
       "      <th>temp</th>\n",
       "      <th>nb_rides</th>\n",
       "    </tr>\n",
       "  </thead>\n",
       "  <tbody>\n",
       "    <tr>\n",
       "      <th>temp</th>\n",
       "      <td>4963</td>\n",
       "      <td>3</td>\n",
       "    </tr>\n",
       "    <tr>\n",
       "      <th>nb_rides</th>\n",
       "      <td>11</td>\n",
       "      <td>5</td>\n",
       "    </tr>\n",
       "  </tbody>\n",
       "</table>\n",
       "</div>"
      ],
      "text/plain": [
       "          temp  nb_rides\n",
       "temp      4963         3\n",
       "nb_rides    11         5"
      ]
     },
     "execution_count": 50,
     "metadata": {},
     "output_type": "execute_result"
    }
   ],
   "source": [
    "conf_matrix_df = pd.DataFrame(conf_matrix,columns=[\"temp\",\"nb_rides\"],index=[\"temp\",\"nb_rides\"])\n",
    "conf_matrix_df"
   ]
  },
  {
   "cell_type": "code",
   "execution_count": null,
   "metadata": {},
   "outputs": [
    {
     "data": {
      "text/plain": [
       "Text(20.749999999999993, 0.5, 'Actual')"
      ]
     },
     "execution_count": 52,
     "metadata": {},
     "output_type": "execute_result"
    },
    {
     "data": {
      "image/png": "[encoded data removed]",
      "text/plain": [
       "<Figure size 500x500 with 2 Axes>"
      ]
     },
     "metadata": {},
     "output_type": "display_data"
    }
   ],
   "source": [
    "plt.figure(figsize=(5, 5))\n",
    "sns.set(font_scale=1.5)\n",
    "\n",
    "sns.heatmap(conf_matrix_df,\n",
    "            cmap='coolwarm',\n",
    "            annot=True,\n",
    "            fmt='.5g',\n",
    "            vmax=200)\n",
    "\n",
    "plt.xlabel('Predicted',fontsize=22)\n",
    "plt.ylabel('Actual',fontsize=22)"
   ]
  },
  {
   "cell_type": "code",
   "execution_count": null,
   "metadata": {},
   "outputs": [
    {
     "ename": "SyntaxError",
     "evalue": "'break' outside loop (668683560.py, line 1)",
     "output_type": "error",
     "traceback": [
      "\u001b[0;36m  Cell \u001b[0;32mIn[22], line 1\u001b[0;36m\u001b[0m\n\u001b[0;31m    break\u001b[0m\n\u001b[0m    ^\u001b[0m\n\u001b[0;31mSyntaxError\u001b[0m\u001b[0;31m:\u001b[0m 'break' outside loop\n"
     ]
    }
   ],
   "source": [
    "break"
   ]
  },
  {
   "cell_type": "code",
   "execution_count": null,
   "metadata": {},
   "outputs": [
    {
     "name": "stderr",
     "output_type": "stream",
     "text": [
      "/home/gdolle/code/G-Dolle/DIVVY_BIKE/divvy/ml_logic/cleaning.py:24: SettingWithCopyWarning: \n",
      "A value is trying to be set on a copy of a slice from a DataFrame\n",
      "\n",
      "See the caveats in the documentation: https://pandas.pydata.org/pandas-docs/stable/user_guide/indexing.html#returning-a-view-versus-a-copy\n",
      "  df_stations_reduced.rename(columns={\"name\":\"station_name\"}, inplace=True)\n"
     ]
    }
   ],
   "source": [
    "rides_df = pd.concat([divvy_q1_2021,divvy_q2_2021, divvy_q3_2021,divvy_q4_2021])\n",
    "clean_divvy_df = cleaning_divvy_gen_agg(rides_df)\n",
    "merged_df = merge_divvy_weather(clean_divvy_df, clean_weather_df)\n"
   ]
  },
  {
   "cell_type": "code",
   "execution_count": null,
   "metadata": {},
   "outputs": [
    {
     "data": {
      "text/plain": [
       "(172569, 13)"
      ]
     },
     "execution_count": 35,
     "metadata": {},
     "output_type": "execute_result"
    }
   ],
   "source": [
    "merged_df.shape"
   ]
  },
  {
   "cell_type": "code",
   "execution_count": null,
   "metadata": {},
   "outputs": [
    {
     "data": {
      "text/html": [
       "<div>\n",
       "<style scoped>\n",
       "    .dataframe tbody tr th:only-of-type {\n",
       "        vertical-align: middle;\n",
       "    }\n",
       "\n",
       "    .dataframe tbody tr th {\n",
       "        vertical-align: top;\n",
       "    }\n",
       "\n",
       "    .dataframe thead th {\n",
       "        text-align: right;\n",
       "    }\n",
       "</style>\n",
       "<table border=\"1\" class=\"dataframe\">\n",
       "  <thead>\n",
       "    <tr style=\"text-align: right;\">\n",
       "      <th></th>\n",
       "      <th>geohash</th>\n",
       "      <th>hourly_data</th>\n",
       "      <th>nb_departures</th>\n",
       "      <th>nb_arrivals</th>\n",
       "      <th>ratio</th>\n",
       "      <th>dt_iso</th>\n",
       "      <th>temp</th>\n",
       "      <th>pressure</th>\n",
       "      <th>humidity</th>\n",
       "      <th>wind_speed</th>\n",
       "      <th>wind_deg</th>\n",
       "      <th>clouds_all</th>\n",
       "      <th>date</th>\n",
       "    </tr>\n",
       "  </thead>\n",
       "  <tbody>\n",
       "    <tr>\n",
       "      <th>0</th>\n",
       "      <td>dp3sy</td>\n",
       "      <td>2021-03-10 03:00:00</td>\n",
       "      <td>1.0</td>\n",
       "      <td>0.0</td>\n",
       "      <td>inf</td>\n",
       "      <td>2021-03-10 03:00:00</td>\n",
       "      <td>15.38</td>\n",
       "      <td>1020</td>\n",
       "      <td>47</td>\n",
       "      <td>6.20</td>\n",
       "      <td>180</td>\n",
       "      <td>20</td>\n",
       "      <td>2021-03-10</td>\n",
       "    </tr>\n",
       "    <tr>\n",
       "      <th>1</th>\n",
       "      <td>dp3sy</td>\n",
       "      <td>2021-03-15 22:00:00</td>\n",
       "      <td>1.0</td>\n",
       "      <td>0.0</td>\n",
       "      <td>inf</td>\n",
       "      <td>2021-03-15 22:00:00</td>\n",
       "      <td>-0.19</td>\n",
       "      <td>1009</td>\n",
       "      <td>87</td>\n",
       "      <td>8.23</td>\n",
       "      <td>110</td>\n",
       "      <td>100</td>\n",
       "      <td>2021-03-15</td>\n",
       "    </tr>\n",
       "    <tr>\n",
       "      <th>2</th>\n",
       "      <td>dp3sy</td>\n",
       "      <td>2021-03-20 14:00:00</td>\n",
       "      <td>1.0</td>\n",
       "      <td>0.0</td>\n",
       "      <td>inf</td>\n",
       "      <td>2021-03-20 14:00:00</td>\n",
       "      <td>4.27</td>\n",
       "      <td>1024</td>\n",
       "      <td>49</td>\n",
       "      <td>5.70</td>\n",
       "      <td>160</td>\n",
       "      <td>0</td>\n",
       "      <td>2021-03-20</td>\n",
       "    </tr>\n",
       "    <tr>\n",
       "      <th>3</th>\n",
       "      <td>dp3sy</td>\n",
       "      <td>2021-03-21 16:00:00</td>\n",
       "      <td>1.0</td>\n",
       "      <td>0.0</td>\n",
       "      <td>inf</td>\n",
       "      <td>2021-03-21 16:00:00</td>\n",
       "      <td>12.69</td>\n",
       "      <td>1009</td>\n",
       "      <td>35</td>\n",
       "      <td>6.70</td>\n",
       "      <td>210</td>\n",
       "      <td>20</td>\n",
       "      <td>2021-03-21</td>\n",
       "    </tr>\n",
       "    <tr>\n",
       "      <th>4</th>\n",
       "      <td>dp3sy</td>\n",
       "      <td>2021-03-22 21:00:00</td>\n",
       "      <td>2.0</td>\n",
       "      <td>0.0</td>\n",
       "      <td>inf</td>\n",
       "      <td>2021-03-22 21:00:00</td>\n",
       "      <td>19.25</td>\n",
       "      <td>1016</td>\n",
       "      <td>29</td>\n",
       "      <td>7.20</td>\n",
       "      <td>150</td>\n",
       "      <td>40</td>\n",
       "      <td>2021-03-22</td>\n",
       "    </tr>\n",
       "  </tbody>\n",
       "</table>\n",
       "</div>"
      ],
      "text/plain": [
       "  geohash         hourly_data  nb_departures  nb_arrivals  ratio  \\\n",
       "0   dp3sy 2021-03-10 03:00:00            1.0          0.0    inf   \n",
       "1   dp3sy 2021-03-15 22:00:00            1.0          0.0    inf   \n",
       "2   dp3sy 2021-03-20 14:00:00            1.0          0.0    inf   \n",
       "3   dp3sy 2021-03-21 16:00:00            1.0          0.0    inf   \n",
       "4   dp3sy 2021-03-22 21:00:00            2.0          0.0    inf   \n",
       "\n",
       "               dt_iso   temp  pressure  humidity  wind_speed  wind_deg  \\\n",
       "0 2021-03-10 03:00:00  15.38      1020        47        6.20       180   \n",
       "1 2021-03-15 22:00:00  -0.19      1009        87        8.23       110   \n",
       "2 2021-03-20 14:00:00   4.27      1024        49        5.70       160   \n",
       "3 2021-03-21 16:00:00  12.69      1009        35        6.70       210   \n",
       "4 2021-03-22 21:00:00  19.25      1016        29        7.20       150   \n",
       "\n",
       "   clouds_all        date  \n",
       "0          20  2021-03-10  \n",
       "1         100  2021-03-15  \n",
       "2           0  2021-03-20  \n",
       "3          20  2021-03-21  \n",
       "4          40  2021-03-22  "
      ]
     },
     "execution_count": 36,
     "metadata": {},
     "output_type": "execute_result"
    }
   ],
   "source": [
    "merged_df.head(5)"
   ]
  },
  {
   "cell_type": "code",
   "execution_count": null,
   "metadata": {},
   "outputs": [
    {
     "name": "stderr",
     "output_type": "stream",
     "text": [
      "/home/gdolle/code/G-Dolle/DIVVY_BIKE/divvy/ml_logic/cleaning.py:24: SettingWithCopyWarning: \n",
      "A value is trying to be set on a copy of a slice from a DataFrame\n",
      "\n",
      "See the caveats in the documentation: https://pandas.pydata.org/pandas-docs/stable/user_guide/indexing.html#returning-a-view-versus-a-copy\n",
      "  df_stations_reduced.rename(columns={\"name\":\"station_name\"}, inplace=True)\n"
     ]
    },
    {
     "data": {
      "text/plain": [
       "(1422, 2)"
      ]
     },
     "execution_count": 37,
     "metadata": {},
     "output_type": "execute_result"
    }
   ],
   "source": [
    "stations_df_geo = compute_geohash_stations(precision=  5)\n",
    "stations_df_geo.shape"
   ]
  },
  {
   "cell_type": "code",
   "execution_count": null,
   "metadata": {},
   "outputs": [
    {
     "data": {
      "text/html": [
       "<div>\n",
       "<style scoped>\n",
       "    .dataframe tbody tr th:only-of-type {\n",
       "        vertical-align: middle;\n",
       "    }\n",
       "\n",
       "    .dataframe tbody tr th {\n",
       "        vertical-align: top;\n",
       "    }\n",
       "\n",
       "    .dataframe thead th {\n",
       "        text-align: right;\n",
       "    }\n",
       "</style>\n",
       "<table border=\"1\" class=\"dataframe\">\n",
       "  <thead>\n",
       "    <tr style=\"text-align: right;\">\n",
       "      <th></th>\n",
       "      <th>station_name</th>\n",
       "      <th>geohash</th>\n",
       "    </tr>\n",
       "  </thead>\n",
       "  <tbody>\n",
       "    <tr>\n",
       "      <th>0</th>\n",
       "      <td>Central Ave &amp; Harrison St</td>\n",
       "      <td>dp3w4</td>\n",
       "    </tr>\n",
       "    <tr>\n",
       "      <th>1</th>\n",
       "      <td>Halsted St &amp; 59th St</td>\n",
       "      <td>dp3tt</td>\n",
       "    </tr>\n",
       "    <tr>\n",
       "      <th>2</th>\n",
       "      <td>Damen Ave &amp; 51st St</td>\n",
       "      <td>dp3tu</td>\n",
       "    </tr>\n",
       "    <tr>\n",
       "      <th>3</th>\n",
       "      <td>Halsted St &amp; 21st St</td>\n",
       "      <td>dp3wj</td>\n",
       "    </tr>\n",
       "    <tr>\n",
       "      <th>4</th>\n",
       "      <td>Michigan Ave &amp; Madison St</td>\n",
       "      <td>dp3wq</td>\n",
       "    </tr>\n",
       "  </tbody>\n",
       "</table>\n",
       "</div>"
      ],
      "text/plain": [
       "                station_name geohash\n",
       "0  Central Ave & Harrison St   dp3w4\n",
       "1       Halsted St & 59th St   dp3tt\n",
       "2        Damen Ave & 51st St   dp3tu\n",
       "3       Halsted St & 21st St   dp3wj\n",
       "4  Michigan Ave & Madison St   dp3wq"
      ]
     },
     "execution_count": 38,
     "metadata": {},
     "output_type": "execute_result"
    }
   ],
   "source": [
    "stations_df_geo.head(5)"
   ]
  },
  {
   "cell_type": "code",
   "execution_count": null,
   "metadata": {},
   "outputs": [
    {
     "data": {
      "text/html": [
       "<div>\n",
       "<style scoped>\n",
       "    .dataframe tbody tr th:only-of-type {\n",
       "        vertical-align: middle;\n",
       "    }\n",
       "\n",
       "    .dataframe tbody tr th {\n",
       "        vertical-align: top;\n",
       "    }\n",
       "\n",
       "    .dataframe thead th {\n",
       "        text-align: right;\n",
       "    }\n",
       "</style>\n",
       "<table border=\"1\" class=\"dataframe\">\n",
       "  <thead>\n",
       "    <tr style=\"text-align: right;\">\n",
       "      <th></th>\n",
       "      <th>geohash</th>\n",
       "      <th>hourly_data</th>\n",
       "      <th>nb_departures</th>\n",
       "      <th>nb_arrivals</th>\n",
       "      <th>ratio</th>\n",
       "      <th>dt_iso</th>\n",
       "      <th>temp</th>\n",
       "      <th>pressure</th>\n",
       "      <th>humidity</th>\n",
       "      <th>wind_speed</th>\n",
       "      <th>wind_deg</th>\n",
       "      <th>clouds_all</th>\n",
       "      <th>date</th>\n",
       "      <th>station_name</th>\n",
       "    </tr>\n",
       "  </thead>\n",
       "  <tbody>\n",
       "    <tr>\n",
       "      <th>0</th>\n",
       "      <td>dp3sy</td>\n",
       "      <td>2021-03-10 03:00:00</td>\n",
       "      <td>1.0</td>\n",
       "      <td>0.0</td>\n",
       "      <td>inf</td>\n",
       "      <td>2021-03-10 03:00:00</td>\n",
       "      <td>15.38</td>\n",
       "      <td>1020</td>\n",
       "      <td>47</td>\n",
       "      <td>6.2</td>\n",
       "      <td>180</td>\n",
       "      <td>20</td>\n",
       "      <td>2021-03-10</td>\n",
       "      <td>Altgeld Gardens</td>\n",
       "    </tr>\n",
       "    <tr>\n",
       "      <th>1</th>\n",
       "      <td>dp3sy</td>\n",
       "      <td>2021-03-10 03:00:00</td>\n",
       "      <td>1.0</td>\n",
       "      <td>0.0</td>\n",
       "      <td>inf</td>\n",
       "      <td>2021-03-10 03:00:00</td>\n",
       "      <td>15.38</td>\n",
       "      <td>1020</td>\n",
       "      <td>47</td>\n",
       "      <td>6.2</td>\n",
       "      <td>180</td>\n",
       "      <td>20</td>\n",
       "      <td>2021-03-10</td>\n",
       "      <td>Eberhart Ave &amp; 131st St</td>\n",
       "    </tr>\n",
       "    <tr>\n",
       "      <th>2</th>\n",
       "      <td>dp3sy</td>\n",
       "      <td>2021-03-10 03:00:00</td>\n",
       "      <td>1.0</td>\n",
       "      <td>0.0</td>\n",
       "      <td>inf</td>\n",
       "      <td>2021-03-10 03:00:00</td>\n",
       "      <td>15.38</td>\n",
       "      <td>1020</td>\n",
       "      <td>47</td>\n",
       "      <td>6.2</td>\n",
       "      <td>180</td>\n",
       "      <td>20</td>\n",
       "      <td>2021-03-10</td>\n",
       "      <td>Public Rack - Ellis Ave &amp; 132nd Pl</td>\n",
       "    </tr>\n",
       "    <tr>\n",
       "      <th>3</th>\n",
       "      <td>dp3sy</td>\n",
       "      <td>2021-03-10 03:00:00</td>\n",
       "      <td>1.0</td>\n",
       "      <td>0.0</td>\n",
       "      <td>inf</td>\n",
       "      <td>2021-03-10 03:00:00</td>\n",
       "      <td>15.38</td>\n",
       "      <td>1020</td>\n",
       "      <td>47</td>\n",
       "      <td>6.2</td>\n",
       "      <td>180</td>\n",
       "      <td>20</td>\n",
       "      <td>2021-03-10</td>\n",
       "      <td>Indiana Ave &amp; 133rd St</td>\n",
       "    </tr>\n",
       "    <tr>\n",
       "      <th>4</th>\n",
       "      <td>dp3sy</td>\n",
       "      <td>2021-03-10 03:00:00</td>\n",
       "      <td>1.0</td>\n",
       "      <td>0.0</td>\n",
       "      <td>inf</td>\n",
       "      <td>2021-03-10 03:00:00</td>\n",
       "      <td>15.38</td>\n",
       "      <td>1020</td>\n",
       "      <td>47</td>\n",
       "      <td>6.2</td>\n",
       "      <td>180</td>\n",
       "      <td>20</td>\n",
       "      <td>2021-03-10</td>\n",
       "      <td>Public Rack - Corliss Ave &amp; 133rd St</td>\n",
       "    </tr>\n",
       "    <tr>\n",
       "      <th>5</th>\n",
       "      <td>dp3sy</td>\n",
       "      <td>2021-03-10 03:00:00</td>\n",
       "      <td>1.0</td>\n",
       "      <td>0.0</td>\n",
       "      <td>inf</td>\n",
       "      <td>2021-03-10 03:00:00</td>\n",
       "      <td>15.38</td>\n",
       "      <td>1020</td>\n",
       "      <td>47</td>\n",
       "      <td>6.2</td>\n",
       "      <td>180</td>\n",
       "      <td>20</td>\n",
       "      <td>2021-03-10</td>\n",
       "      <td>Public Rack - Eberhart Ave &amp; 131st St</td>\n",
       "    </tr>\n",
       "  </tbody>\n",
       "</table>\n",
       "</div>"
      ],
      "text/plain": [
       "  geohash         hourly_data  nb_departures  nb_arrivals  ratio  \\\n",
       "0   dp3sy 2021-03-10 03:00:00            1.0          0.0    inf   \n",
       "1   dp3sy 2021-03-10 03:00:00            1.0          0.0    inf   \n",
       "2   dp3sy 2021-03-10 03:00:00            1.0          0.0    inf   \n",
       "3   dp3sy 2021-03-10 03:00:00            1.0          0.0    inf   \n",
       "4   dp3sy 2021-03-10 03:00:00            1.0          0.0    inf   \n",
       "5   dp3sy 2021-03-10 03:00:00            1.0          0.0    inf   \n",
       "\n",
       "               dt_iso   temp  pressure  humidity  wind_speed  wind_deg  \\\n",
       "0 2021-03-10 03:00:00  15.38      1020        47         6.2       180   \n",
       "1 2021-03-10 03:00:00  15.38      1020        47         6.2       180   \n",
       "2 2021-03-10 03:00:00  15.38      1020        47         6.2       180   \n",
       "3 2021-03-10 03:00:00  15.38      1020        47         6.2       180   \n",
       "4 2021-03-10 03:00:00  15.38      1020        47         6.2       180   \n",
       "5 2021-03-10 03:00:00  15.38      1020        47         6.2       180   \n",
       "\n",
       "   clouds_all        date                           station_name  \n",
       "0          20  2021-03-10                        Altgeld Gardens  \n",
       "1          20  2021-03-10                Eberhart Ave & 131st St  \n",
       "2          20  2021-03-10     Public Rack - Ellis Ave & 132nd Pl  \n",
       "3          20  2021-03-10                 Indiana Ave & 133rd St  \n",
       "4          20  2021-03-10   Public Rack - Corliss Ave & 133rd St  \n",
       "5          20  2021-03-10  Public Rack - Eberhart Ave & 131st St  "
      ]
     },
     "execution_count": 39,
     "metadata": {},
     "output_type": "execute_result"
    }
   ],
   "source": [
    "merged_df = merged_df.merge(stations_df_geo, on=\"geohash\", how=\"left\")\n",
    "merged_df.head(6)"
   ]
  },
  {
   "cell_type": "code",
   "execution_count": null,
   "metadata": {},
   "outputs": [
    {
     "data": {
      "text/html": [
       "<div>\n",
       "<style scoped>\n",
       "    .dataframe tbody tr th:only-of-type {\n",
       "        vertical-align: middle;\n",
       "    }\n",
       "\n",
       "    .dataframe tbody tr th {\n",
       "        vertical-align: top;\n",
       "    }\n",
       "\n",
       "    .dataframe thead th {\n",
       "        text-align: right;\n",
       "    }\n",
       "</style>\n",
       "<table border=\"1\" class=\"dataframe\">\n",
       "  <thead>\n",
       "    <tr style=\"text-align: right;\">\n",
       "      <th></th>\n",
       "      <th>station_name</th>\n",
       "      <th>lat</th>\n",
       "      <th>lon</th>\n",
       "    </tr>\n",
       "  </thead>\n",
       "  <tbody>\n",
       "    <tr>\n",
       "      <th>0</th>\n",
       "      <td>Central Ave &amp; Harrison St</td>\n",
       "      <td>41.872993</td>\n",
       "      <td>-87.764499</td>\n",
       "    </tr>\n",
       "    <tr>\n",
       "      <th>1</th>\n",
       "      <td>Halsted St &amp; 59th St</td>\n",
       "      <td>41.787539</td>\n",
       "      <td>-87.644874</td>\n",
       "    </tr>\n",
       "  </tbody>\n",
       "</table>\n",
       "</div>"
      ],
      "text/plain": [
       "                station_name        lat        lon\n",
       "0  Central Ave & Harrison St  41.872993 -87.764499\n",
       "1       Halsted St & 59th St  41.787539 -87.644874"
      ]
     },
     "execution_count": 42,
     "metadata": {},
     "output_type": "execute_result"
    }
   ],
   "source": [
    "from divvy.ml_logic.data_import import get_station_data\n",
    "\n",
    "station_df = get_station_data()\n",
    "station_df= station_df[[\"name\",\"lat\",\"lon\"]]\n",
    "station_df.rename(columns={\"name\":\"station_name\"}, inplace=True)\n",
    "station_df.head(2)"
   ]
  },
  {
   "cell_type": "code",
   "execution_count": null,
   "metadata": {},
   "outputs": [
    {
     "data": {
      "text/html": [
       "<div>\n",
       "<style scoped>\n",
       "    .dataframe tbody tr th:only-of-type {\n",
       "        vertical-align: middle;\n",
       "    }\n",
       "\n",
       "    .dataframe tbody tr th {\n",
       "        vertical-align: top;\n",
       "    }\n",
       "\n",
       "    .dataframe thead th {\n",
       "        text-align: right;\n",
       "    }\n",
       "</style>\n",
       "<table border=\"1\" class=\"dataframe\">\n",
       "  <thead>\n",
       "    <tr style=\"text-align: right;\">\n",
       "      <th></th>\n",
       "      <th>geohash</th>\n",
       "      <th>hourly_data</th>\n",
       "      <th>nb_departures</th>\n",
       "      <th>nb_arrivals</th>\n",
       "      <th>ratio</th>\n",
       "      <th>dt_iso</th>\n",
       "      <th>temp</th>\n",
       "      <th>pressure</th>\n",
       "      <th>humidity</th>\n",
       "      <th>wind_speed</th>\n",
       "      <th>wind_deg</th>\n",
       "      <th>clouds_all</th>\n",
       "      <th>date</th>\n",
       "      <th>station_name</th>\n",
       "      <th>lat</th>\n",
       "      <th>lon</th>\n",
       "    </tr>\n",
       "  </thead>\n",
       "  <tbody>\n",
       "    <tr>\n",
       "      <th>0</th>\n",
       "      <td>dp3sy</td>\n",
       "      <td>2021-03-10 03:00:00</td>\n",
       "      <td>1.0</td>\n",
       "      <td>0.0</td>\n",
       "      <td>inf</td>\n",
       "      <td>2021-03-10 03:00:00</td>\n",
       "      <td>15.38</td>\n",
       "      <td>1020</td>\n",
       "      <td>47</td>\n",
       "      <td>6.2</td>\n",
       "      <td>180</td>\n",
       "      <td>20</td>\n",
       "      <td>2021-03-10</td>\n",
       "      <td>Altgeld Gardens</td>\n",
       "      <td>41.656666</td>\n",
       "      <td>-87.598801</td>\n",
       "    </tr>\n",
       "    <tr>\n",
       "      <th>1</th>\n",
       "      <td>dp3sy</td>\n",
       "      <td>2021-03-10 03:00:00</td>\n",
       "      <td>1.0</td>\n",
       "      <td>0.0</td>\n",
       "      <td>inf</td>\n",
       "      <td>2021-03-10 03:00:00</td>\n",
       "      <td>15.38</td>\n",
       "      <td>1020</td>\n",
       "      <td>47</td>\n",
       "      <td>6.2</td>\n",
       "      <td>180</td>\n",
       "      <td>20</td>\n",
       "      <td>2021-03-10</td>\n",
       "      <td>Eberhart Ave &amp; 131st St</td>\n",
       "      <td>41.658413</td>\n",
       "      <td>-87.610711</td>\n",
       "    </tr>\n",
       "    <tr>\n",
       "      <th>2</th>\n",
       "      <td>dp3sy</td>\n",
       "      <td>2021-03-10 03:00:00</td>\n",
       "      <td>1.0</td>\n",
       "      <td>0.0</td>\n",
       "      <td>inf</td>\n",
       "      <td>2021-03-10 03:00:00</td>\n",
       "      <td>15.38</td>\n",
       "      <td>1020</td>\n",
       "      <td>47</td>\n",
       "      <td>6.2</td>\n",
       "      <td>180</td>\n",
       "      <td>20</td>\n",
       "      <td>2021-03-10</td>\n",
       "      <td>Public Rack - Ellis Ave &amp; 132nd Pl</td>\n",
       "      <td>41.655139</td>\n",
       "      <td>-87.597597</td>\n",
       "    </tr>\n",
       "    <tr>\n",
       "      <th>3</th>\n",
       "      <td>dp3sy</td>\n",
       "      <td>2021-03-10 03:00:00</td>\n",
       "      <td>1.0</td>\n",
       "      <td>0.0</td>\n",
       "      <td>inf</td>\n",
       "      <td>2021-03-10 03:00:00</td>\n",
       "      <td>15.38</td>\n",
       "      <td>1020</td>\n",
       "      <td>47</td>\n",
       "      <td>6.2</td>\n",
       "      <td>180</td>\n",
       "      <td>20</td>\n",
       "      <td>2021-03-10</td>\n",
       "      <td>Indiana Ave &amp; 133rd St</td>\n",
       "      <td>41.653564</td>\n",
       "      <td>-87.617054</td>\n",
       "    </tr>\n",
       "    <tr>\n",
       "      <th>4</th>\n",
       "      <td>dp3sy</td>\n",
       "      <td>2021-03-10 03:00:00</td>\n",
       "      <td>1.0</td>\n",
       "      <td>0.0</td>\n",
       "      <td>inf</td>\n",
       "      <td>2021-03-10 03:00:00</td>\n",
       "      <td>15.38</td>\n",
       "      <td>1020</td>\n",
       "      <td>47</td>\n",
       "      <td>6.2</td>\n",
       "      <td>180</td>\n",
       "      <td>20</td>\n",
       "      <td>2021-03-10</td>\n",
       "      <td>Public Rack - Corliss Ave &amp; 133rd St</td>\n",
       "      <td>41.653138</td>\n",
       "      <td>-87.601057</td>\n",
       "    </tr>\n",
       "  </tbody>\n",
       "</table>\n",
       "</div>"
      ],
      "text/plain": [
       "  geohash         hourly_data  nb_departures  nb_arrivals  ratio  \\\n",
       "0   dp3sy 2021-03-10 03:00:00            1.0          0.0    inf   \n",
       "1   dp3sy 2021-03-10 03:00:00            1.0          0.0    inf   \n",
       "2   dp3sy 2021-03-10 03:00:00            1.0          0.0    inf   \n",
       "3   dp3sy 2021-03-10 03:00:00            1.0          0.0    inf   \n",
       "4   dp3sy 2021-03-10 03:00:00            1.0          0.0    inf   \n",
       "\n",
       "               dt_iso   temp  pressure  humidity  wind_speed  wind_deg  \\\n",
       "0 2021-03-10 03:00:00  15.38      1020        47         6.2       180   \n",
       "1 2021-03-10 03:00:00  15.38      1020        47         6.2       180   \n",
       "2 2021-03-10 03:00:00  15.38      1020        47         6.2       180   \n",
       "3 2021-03-10 03:00:00  15.38      1020        47         6.2       180   \n",
       "4 2021-03-10 03:00:00  15.38      1020        47         6.2       180   \n",
       "\n",
       "   clouds_all        date                          station_name        lat  \\\n",
       "0          20  2021-03-10                       Altgeld Gardens  41.656666   \n",
       "1          20  2021-03-10               Eberhart Ave & 131st St  41.658413   \n",
       "2          20  2021-03-10    Public Rack - Ellis Ave & 132nd Pl  41.655139   \n",
       "3          20  2021-03-10                Indiana Ave & 133rd St  41.653564   \n",
       "4          20  2021-03-10  Public Rack - Corliss Ave & 133rd St  41.653138   \n",
       "\n",
       "         lon  \n",
       "0 -87.598801  \n",
       "1 -87.610711  \n",
       "2 -87.597597  \n",
       "3 -87.617054  \n",
       "4 -87.601057  "
      ]
     },
     "execution_count": 43,
     "metadata": {},
     "output_type": "execute_result"
    }
   ],
   "source": [
    "merged_df = merged_df.merge(station_df, on=\"station_name\", how=\"left\")\n",
    "merged_df.head(5)"
   ]
  },
  {
   "cell_type": "code",
   "execution_count": null,
   "metadata": {},
   "outputs": [],
   "source": [
    "heat_df = merged_df[merged_df[\"hourly_data\"]==pd.to_datetime(\"2021-07-01 10:00:00\")]\n",
    "heat_df = merged_df[merged_df[\"geohash\"]==\"dp3wm\"]\n",
    "heat_df = merged_df.loc[:,[\"lat\",\"lon\",\"nb_departures\"]]\n",
    "\n",
    "\n",
    "heat_data = heat_df.values.tolist()\n"
   ]
  },
  {
   "cell_type": "code",
   "execution_count": null,
   "metadata": {},
   "outputs": [],
   "source": [
    "from streamlit_folium import folium_static\n",
    "from folium import Map, plugins"
   ]
  },
  {
   "cell_type": "code",
   "execution_count": 179,
   "metadata": {},
   "outputs": [],
   "source": [
    "rides_df_daily=pd.read_csv(\"raw_data/rides_df_daily_2021.csv\")\n",
    "rides_df_daily[\"date\"]= pd.to_datetime(rides_df_daily[\"date\"])\n",
    "\n",
    "avg_weather_df=pd.read_csv(\"raw_data/avg_temp.csv\")\n",
    "avg_weather_df[\"date\"]= pd.to_datetime(avg_weather_df[\"date\"])\n",
    "\n",
    "rides_df_daily = rides_df_daily.merge(avg_weather_df, on=\"date\", how=\"left\")"
   ]
  },
  {
   "cell_type": "code",
   "execution_count": 180,
   "metadata": {},
   "outputs": [
    {
     "name": "stdout",
     "output_type": "stream",
     "text": [
      "<class 'pandas.core.frame.DataFrame'>\n",
      "Int64Index: 366 entries, 0 to 365\n",
      "Data columns (total 8 columns):\n",
      " #   Column      Non-Null Count  Dtype         \n",
      "---  ------      --------------  -----         \n",
      " 0   date        366 non-null    datetime64[ns]\n",
      " 1   nb_rides    366 non-null    int64         \n",
      " 2   temp        366 non-null    float64       \n",
      " 3   pressure    366 non-null    float64       \n",
      " 4   humidity    366 non-null    float64       \n",
      " 5   wind_speed  366 non-null    float64       \n",
      " 6   wind_deg    366 non-null    float64       \n",
      " 7   clouds_all  366 non-null    float64       \n",
      "dtypes: datetime64[ns](1), float64(6), int64(1)\n",
      "memory usage: 25.7 KB\n"
     ]
    }
   ],
   "source": [
    "rides_df_daily.info()"
   ]
  },
  {
   "cell_type": "code",
   "execution_count": 183,
   "metadata": {},
   "outputs": [],
   "source": [
    "def timeframe_df(df,start_time,end_time):\n",
    "\n",
    "    condition_1 = df[\"date\"] >= pd.to_datetime(start_time)\n",
    "    condition_2 = df[\"date\"] <= pd.to_datetime(end_time)\n",
    "\n",
    "    df_red = df[condition_1]\n",
    "    df_red = df_red[condition_2]\n",
    "\n",
    "    return df_red"
   ]
  },
  {
   "cell_type": "code",
   "execution_count": 187,
   "metadata": {},
   "outputs": [],
   "source": [
    "def plot_rides_all_bis(start_time,end_time,df_divvy):\n",
    "\n",
    "    df_divvy[\"nb_rides\"] = df_divvy[\"nb_rides\"]/1000\n",
    "\n",
    "    df_divvy_red = timeframe_df(df_divvy,start_time,end_time)\n",
    "\n",
    "    df_divvy_red = df_divvy_red.set_index('date')\n",
    "\n",
    "    rides_trend = seasonal_decompose(df_divvy_red['nb_rides'], model='additive')\n",
    "    temp_trend = seasonal_decompose(df_divvy_red['temp'], model='additive')\n",
    "\n",
    "    fig, ax1 = plt.subplots()\n",
    "\n",
    "    ax1 = sns.lineplot(rides_trend.trend, color=(43/255,140/255,190/255), legend=True)\n",
    "    ax2 = ax1.twinx()\n",
    "    sns.lineplot(temp_trend.trend, ax=ax2, color=(222/255,45/255,38/255), legend=True)\n",
    "\n",
    "    ax1.set_xlabel('Time')\n",
    "    ax1.set_ylabel(\"Daily number of bike rides ('000s)\", color=(43/255,140/255,190/255))\n",
    "    ax2.set_ylabel('Temperature (°c)', color=(222/255,45/255,38/255))\n",
    "\n",
    "    return fig"
   ]
  },
  {
   "cell_type": "code",
   "execution_count": 188,
   "metadata": {},
   "outputs": [],
   "source": [
    "start_time = \"2021-07-01\"\n",
    "end_time = \"2021-12-31\"\n",
    "timevariable=\"date\"\n",
    "weather_metric = \"temp\""
   ]
  },
  {
   "cell_type": "code",
   "execution_count": 189,
   "metadata": {},
   "outputs": [],
   "source": [
    "condition_1 = rides_df_daily[\"date\"] >= pd.to_datetime(start_time)\n",
    "df_red = rides_df_daily[condition_1]\n"
   ]
  },
  {
   "cell_type": "code",
   "execution_count": 285,
   "metadata": {},
   "outputs": [
    {
     "data": {
      "image/png": "[encoded data removed]",
      "text/plain": [
       "<Figure size 640x480 with 2 Axes>"
      ]
     },
     "metadata": {},
     "output_type": "display_data"
    }
   ],
   "source": [
    "start_time = \"2021-01-01\"\n",
    "end_time = \"2021-12-31\"\n",
    "timevariable=\"date\"\n",
    "weather_metric = \"temp\"\n",
    "\n",
    "fig=plot_rides_all_bis(start_time,end_time,\n",
    "                       rides_df_daily)"
   ]
  },
  {
   "cell_type": "code",
   "execution_count": 191,
   "metadata": {},
   "outputs": [
    {
     "name": "stdout",
     "output_type": "stream",
     "text": [
      "<class 'pandas.core.frame.DataFrame'>\n",
      "Int64Index: 366 entries, 0 to 365\n",
      "Data columns (total 8 columns):\n",
      " #   Column      Non-Null Count  Dtype         \n",
      "---  ------      --------------  -----         \n",
      " 0   date        366 non-null    datetime64[ns]\n",
      " 1   nb_rides    366 non-null    float64       \n",
      " 2   temp        366 non-null    float64       \n",
      " 3   pressure    366 non-null    float64       \n",
      " 4   humidity    366 non-null    float64       \n",
      " 5   wind_speed  366 non-null    float64       \n",
      " 6   wind_deg    366 non-null    float64       \n",
      " 7   clouds_all  366 non-null    float64       \n",
      "dtypes: datetime64[ns](1), float64(7)\n",
      "memory usage: 33.8 KB\n"
     ]
    }
   ],
   "source": [
    "rides_df_daily.info()"
   ]
  },
  {
   "cell_type": "code",
   "execution_count": 197,
   "metadata": {},
   "outputs": [],
   "source": [
    "rides_df_daily[\"dayofweek\"] = rides_df_daily['date'].dt.dayofweek"
   ]
  },
  {
   "cell_type": "code",
   "execution_count": 198,
   "metadata": {},
   "outputs": [
    {
     "data": {
      "text/html": [
       "<div>\n",
       "<style scoped>\n",
       "    .dataframe tbody tr th:only-of-type {\n",
       "        vertical-align: middle;\n",
       "    }\n",
       "\n",
       "    .dataframe tbody tr th {\n",
       "        vertical-align: top;\n",
       "    }\n",
       "\n",
       "    .dataframe thead th {\n",
       "        text-align: right;\n",
       "    }\n",
       "</style>\n",
       "<table border=\"1\" class=\"dataframe\">\n",
       "  <thead>\n",
       "    <tr style=\"text-align: right;\">\n",
       "      <th></th>\n",
       "      <th>date</th>\n",
       "      <th>nb_rides</th>\n",
       "      <th>temp</th>\n",
       "      <th>pressure</th>\n",
       "      <th>humidity</th>\n",
       "      <th>wind_speed</th>\n",
       "      <th>wind_deg</th>\n",
       "      <th>clouds_all</th>\n",
       "      <th>dayofweek</th>\n",
       "    </tr>\n",
       "  </thead>\n",
       "  <tbody>\n",
       "    <tr>\n",
       "      <th>0</th>\n",
       "      <td>2021-01-01</td>\n",
       "      <td>0.000948</td>\n",
       "      <td>-1.328750</td>\n",
       "      <td>1021.875000</td>\n",
       "      <td>82.541667</td>\n",
       "      <td>7.308333</td>\n",
       "      <td>95.416667</td>\n",
       "      <td>85.208333</td>\n",
       "      <td>4</td>\n",
       "    </tr>\n",
       "    <tr>\n",
       "      <th>1</th>\n",
       "      <td>2021-01-02</td>\n",
       "      <td>0.002086</td>\n",
       "      <td>0.635417</td>\n",
       "      <td>1016.125000</td>\n",
       "      <td>89.541667</td>\n",
       "      <td>7.054167</td>\n",
       "      <td>279.583333</td>\n",
       "      <td>100.000000</td>\n",
       "      <td>5</td>\n",
       "    </tr>\n",
       "    <tr>\n",
       "      <th>2</th>\n",
       "      <td>2021-01-03</td>\n",
       "      <td>0.002236</td>\n",
       "      <td>0.512917</td>\n",
       "      <td>1015.458333</td>\n",
       "      <td>90.208333</td>\n",
       "      <td>4.433333</td>\n",
       "      <td>234.583333</td>\n",
       "      <td>100.000000</td>\n",
       "      <td>6</td>\n",
       "    </tr>\n",
       "    <tr>\n",
       "      <th>3</th>\n",
       "      <td>2021-01-04</td>\n",
       "      <td>0.002946</td>\n",
       "      <td>-2.283750</td>\n",
       "      <td>1016.375000</td>\n",
       "      <td>88.500000</td>\n",
       "      <td>6.129167</td>\n",
       "      <td>206.250000</td>\n",
       "      <td>100.000000</td>\n",
       "      <td>0</td>\n",
       "    </tr>\n",
       "    <tr>\n",
       "      <th>4</th>\n",
       "      <td>2021-01-05</td>\n",
       "      <td>0.003539</td>\n",
       "      <td>-0.260417</td>\n",
       "      <td>1017.375000</td>\n",
       "      <td>86.875000</td>\n",
       "      <td>5.125000</td>\n",
       "      <td>287.500000</td>\n",
       "      <td>95.416667</td>\n",
       "      <td>1</td>\n",
       "    </tr>\n",
       "  </tbody>\n",
       "</table>\n",
       "</div>"
      ],
      "text/plain": [
       "        date  nb_rides      temp     pressure   humidity  wind_speed  \\\n",
       "0 2021-01-01  0.000948 -1.328750  1021.875000  82.541667    7.308333   \n",
       "1 2021-01-02  0.002086  0.635417  1016.125000  89.541667    7.054167   \n",
       "2 2021-01-03  0.002236  0.512917  1015.458333  90.208333    4.433333   \n",
       "3 2021-01-04  0.002946 -2.283750  1016.375000  88.500000    6.129167   \n",
       "4 2021-01-05  0.003539 -0.260417  1017.375000  86.875000    5.125000   \n",
       "\n",
       "     wind_deg  clouds_all  dayofweek  \n",
       "0   95.416667   85.208333          4  \n",
       "1  279.583333  100.000000          5  \n",
       "2  234.583333  100.000000          6  \n",
       "3  206.250000  100.000000          0  \n",
       "4  287.500000   95.416667          1  "
      ]
     },
     "execution_count": 198,
     "metadata": {},
     "output_type": "execute_result"
    }
   ],
   "source": [
    "rides_df_daily.head()"
   ]
  },
  {
   "cell_type": "code",
   "execution_count": 232,
   "metadata": {},
   "outputs": [],
   "source": [
    "rides_df_daily=pd.read_csv(\"raw_data/rides_df_daily_2021.csv\")\n",
    "rides_df_daily[\"date\"]= pd.to_datetime(rides_df_daily[\"date\"])\n",
    "\n",
    "avg_weather_df=pd.read_csv(\"raw_data/avg_temp.csv\")\n",
    "avg_weather_df[\"date\"]= pd.to_datetime(avg_weather_df[\"date\"])\n",
    "\n",
    "rides_df_daily = rides_df_daily.merge(avg_weather_df, on=\"date\", how=\"left\")\n",
    "\n",
    "rides_df_daily[\"dayofweek\"] = rides_df_daily['date'].dt.dayofweek"
   ]
  },
  {
   "cell_type": "code",
   "execution_count": 233,
   "metadata": {},
   "outputs": [],
   "source": [
    "rides_df_daily['category'] = (rides_df_daily['dayofweek'] >= 5) \n",
    "rides_df_daily[\"category\"].replace({False:0,True:1}, inplace=True)"
   ]
  },
  {
   "cell_type": "code",
   "execution_count": 234,
   "metadata": {},
   "outputs": [
    {
     "data": {
      "text/html": [
       "<div>\n",
       "<style scoped>\n",
       "    .dataframe tbody tr th:only-of-type {\n",
       "        vertical-align: middle;\n",
       "    }\n",
       "\n",
       "    .dataframe tbody tr th {\n",
       "        vertical-align: top;\n",
       "    }\n",
       "\n",
       "    .dataframe thead th {\n",
       "        text-align: right;\n",
       "    }\n",
       "</style>\n",
       "<table border=\"1\" class=\"dataframe\">\n",
       "  <thead>\n",
       "    <tr style=\"text-align: right;\">\n",
       "      <th></th>\n",
       "      <th>date</th>\n",
       "      <th>nb_rides</th>\n",
       "      <th>temp</th>\n",
       "      <th>pressure</th>\n",
       "      <th>humidity</th>\n",
       "      <th>wind_speed</th>\n",
       "      <th>wind_deg</th>\n",
       "      <th>clouds_all</th>\n",
       "      <th>dayofweek</th>\n",
       "      <th>category</th>\n",
       "    </tr>\n",
       "  </thead>\n",
       "  <tbody>\n",
       "    <tr>\n",
       "      <th>0</th>\n",
       "      <td>2021-01-01</td>\n",
       "      <td>948</td>\n",
       "      <td>-1.328750</td>\n",
       "      <td>1021.875000</td>\n",
       "      <td>82.541667</td>\n",
       "      <td>7.308333</td>\n",
       "      <td>95.416667</td>\n",
       "      <td>85.208333</td>\n",
       "      <td>4</td>\n",
       "      <td>0</td>\n",
       "    </tr>\n",
       "    <tr>\n",
       "      <th>1</th>\n",
       "      <td>2021-01-02</td>\n",
       "      <td>2086</td>\n",
       "      <td>0.635417</td>\n",
       "      <td>1016.125000</td>\n",
       "      <td>89.541667</td>\n",
       "      <td>7.054167</td>\n",
       "      <td>279.583333</td>\n",
       "      <td>100.000000</td>\n",
       "      <td>5</td>\n",
       "      <td>1</td>\n",
       "    </tr>\n",
       "    <tr>\n",
       "      <th>2</th>\n",
       "      <td>2021-01-03</td>\n",
       "      <td>2236</td>\n",
       "      <td>0.512917</td>\n",
       "      <td>1015.458333</td>\n",
       "      <td>90.208333</td>\n",
       "      <td>4.433333</td>\n",
       "      <td>234.583333</td>\n",
       "      <td>100.000000</td>\n",
       "      <td>6</td>\n",
       "      <td>1</td>\n",
       "    </tr>\n",
       "    <tr>\n",
       "      <th>3</th>\n",
       "      <td>2021-01-04</td>\n",
       "      <td>2946</td>\n",
       "      <td>-2.283750</td>\n",
       "      <td>1016.375000</td>\n",
       "      <td>88.500000</td>\n",
       "      <td>6.129167</td>\n",
       "      <td>206.250000</td>\n",
       "      <td>100.000000</td>\n",
       "      <td>0</td>\n",
       "      <td>0</td>\n",
       "    </tr>\n",
       "  </tbody>\n",
       "</table>\n",
       "</div>"
      ],
      "text/plain": [
       "        date  nb_rides      temp     pressure   humidity  wind_speed  \\\n",
       "0 2021-01-01       948 -1.328750  1021.875000  82.541667    7.308333   \n",
       "1 2021-01-02      2086  0.635417  1016.125000  89.541667    7.054167   \n",
       "2 2021-01-03      2236  0.512917  1015.458333  90.208333    4.433333   \n",
       "3 2021-01-04      2946 -2.283750  1016.375000  88.500000    6.129167   \n",
       "\n",
       "     wind_deg  clouds_all  dayofweek  category  \n",
       "0   95.416667   85.208333          4         0  \n",
       "1  279.583333  100.000000          5         1  \n",
       "2  234.583333  100.000000          6         1  \n",
       "3  206.250000  100.000000          0         0  "
      ]
     },
     "execution_count": 234,
     "metadata": {},
     "output_type": "execute_result"
    }
   ],
   "source": [
    "rides_df_daily.head(4)"
   ]
  },
  {
   "cell_type": "code",
   "execution_count": 235,
   "metadata": {},
   "outputs": [],
   "source": [
    "test_df = rides_df_daily.groupby(by=\"dayofweek\")[\"nb_rides\"].mean().reset_index()\n"
   ]
  },
  {
   "cell_type": "code",
   "execution_count": 238,
   "metadata": {},
   "outputs": [],
   "source": [
    "test_df[\"nb_rides\"]=test_df[\"nb_rides\"]/1000\n",
    "test_df[\"dayofweek\"].replace({0:\"Monday\",\n",
    "                              1:\"Tuesday\",\n",
    "                              2: \"Wednesday\",\n",
    "                              3:\"Thursday\",\n",
    "                              4:\"Friday\",\n",
    "                              5:\"Saturday\",\n",
    "                              6:\"Sunday\"},inplace=True)"
   ]
  },
  {
   "cell_type": "code",
   "execution_count": 239,
   "metadata": {},
   "outputs": [
    {
     "data": {
      "text/plain": [
       "Text(0, 0.5, \"Average daily number of bike rides ('000s)\")"
      ]
     },
     "execution_count": 239,
     "metadata": {},
     "output_type": "execute_result"
    },
    {
     "data": {
      "image/png": "[encoded data removed]",
      "text/plain": [
       "<Figure size 640x480 with 1 Axes>"
      ]
     },
     "metadata": {},
     "output_type": "display_data"
    }
   ],
   "source": [
    "color =[(239,237,245),(218,218,235),(188,189,220),(158,154,200),(128,125,186),(106,81,163),(74,20,134)]\n",
    "\n",
    "\n",
    "color = [tuple(item / 255 for item in my_tuple) for my_tuple in color]\n",
    "\n",
    "ax1 = sns.barplot(x=test_df[\"dayofweek\"],y=test_df[\"nb_rides\"], palette=color)\n",
    "\n",
    "ax1.set_xlabel('')\n",
    "ax1.set_ylabel(\"Average daily number of bike rides ('000s)\")"
   ]
  },
  {
   "cell_type": "code",
   "execution_count": null,
   "metadata": {},
   "outputs": [],
   "source": [
    "rides_df_daily[\"dayofweek\"] = rides_df_daily['date'].dt.dayofweek\n",
    "rides_df_daily['category'] = (rides_df_daily['dayofweek'] >= 5)\n",
    "rides_df_daily[\"category\"].replace({False:0,True:1}, inplace=True)\n",
    "test_df = rides_df_daily.groupby(by=\"category\")[\"nb_rides\"].mean().reset_index()\n",
    "\n",
    "test_df[\"category\"].replace({0:\"weekdays\",1:\"weekends\"},inplace=True)\n",
    "color =[(188/255,189/255,220/255),(117/255,107/255,177/255)]\n",
    "\n",
    "fig2, ax1 = plt.subplots()\n",
    "ax1 = sns.barplot(x=test_df[\"category\"],y=test_df[\"nb_rides\"], palette=color)\n",
    "\n",
    "ax1.set_xlabel('')\n",
    "ax1.set_ylabel(\"Average daily number of bike rides ('000s)\")"
   ]
  },
  {
   "cell_type": "code",
   "execution_count": 245,
   "metadata": {},
   "outputs": [],
   "source": [
    "rides_df_daily=pd.read_csv(\"raw_data/rides_df_daily_2021.csv\")\n",
    "rides_df_daily[\"date\"]= pd.to_datetime(rides_df_daily[\"date\"])\n",
    "\n",
    "avg_weather_df=pd.read_csv(\"raw_data/avg_temp.csv\")\n",
    "avg_weather_df[\"date\"]= pd.to_datetime(avg_weather_df[\"date\"])\n",
    "\n",
    "rides_df_daily = rides_df_daily.merge(avg_weather_df, on=\"date\", how=\"left\")\n",
    "rides_df_daily[\"nb_rides\"]= rides_df_daily[\"nb_rides\"]/1000\n"
   ]
  },
  {
   "cell_type": "code",
   "execution_count": 247,
   "metadata": {},
   "outputs": [
    {
     "data": {
      "text/plain": [
       "[<matplotlib.axis.YTick at 0x7f3c01e5bdf0>,\n",
       " <matplotlib.axis.YTick at 0x7f3c01e5b1c0>,\n",
       " <matplotlib.axis.YTick at 0x7f3c01e99bd0>,\n",
       " <matplotlib.axis.YTick at 0x7f3c01e9a4d0>]"
      ]
     },
     "execution_count": 247,
     "metadata": {},
     "output_type": "execute_result"
    },
    {
     "data": {
      "image/png": "[encoded data removed]",
      "text/plain": [
       "<Figure size 640x480 with 1 Axes>"
      ]
     },
     "metadata": {},
     "output_type": "display_data"
    }
   ],
   "source": [
    "fig0, ax1 = plt.subplots()\n",
    "\n",
    "ax1 = sns.scatterplot(data = rides_df_daily, x=\"temp\",y=\"nb_rides\", color=(54/255,144/255,192/255))\n",
    "ax1.set_title(\"Daily number of bike rides against daily temperature\")\n",
    "ax1.set_xlabel(\"Daily average temperature (°c)\")\n",
    "ax1.set_ylabel(\"Number of bike rides ('000s)\")\n",
    "ax1.set_xticks(range(-20,35,10))\n",
    "ax1.set_yticks(range(0,40,10))"
   ]
  },
  {
   "cell_type": "code",
   "execution_count": 248,
   "metadata": {},
   "outputs": [],
   "source": [
    "divvy_q1_2021 = get_divvy_data(2021,\"Q1\")\n",
    "\n",
    "divvy_q2_2021 = get_divvy_data(2021,\"Q2\")\n",
    "divvy_q3_2021 = get_divvy_data(2021,\"Q3\")\n",
    "divvy_q4_2021 = get_divvy_data(2021,\"Q4\")\n",
    "\n",
    "\n",
    "rides_df = pd.concat([divvy_q1_2021,divvy_q2_2021, divvy_q3_2021,divvy_q4_2021])"
   ]
  },
  {
   "cell_type": "code",
   "execution_count": 258,
   "metadata": {},
   "outputs": [],
   "source": [
    "rides_df = pd.concat([divvy_q1_2021,divvy_q2_2021, divvy_q3_2021,divvy_q4_2021])"
   ]
  },
  {
   "cell_type": "code",
   "execution_count": 259,
   "metadata": {},
   "outputs": [
    {
     "data": {
      "text/html": [
       "<div>\n",
       "<style scoped>\n",
       "    .dataframe tbody tr th:only-of-type {\n",
       "        vertical-align: middle;\n",
       "    }\n",
       "\n",
       "    .dataframe tbody tr th {\n",
       "        vertical-align: top;\n",
       "    }\n",
       "\n",
       "    .dataframe thead th {\n",
       "        text-align: right;\n",
       "    }\n",
       "</style>\n",
       "<table border=\"1\" class=\"dataframe\">\n",
       "  <thead>\n",
       "    <tr style=\"text-align: right;\">\n",
       "      <th></th>\n",
       "      <th>ride_id</th>\n",
       "      <th>rideable_type</th>\n",
       "      <th>started_at</th>\n",
       "      <th>ended_at</th>\n",
       "      <th>start_station_name</th>\n",
       "      <th>start_station_id</th>\n",
       "      <th>end_station_name</th>\n",
       "      <th>end_station_id</th>\n",
       "      <th>start_lat</th>\n",
       "      <th>start_lng</th>\n",
       "      <th>end_lat</th>\n",
       "      <th>end_lng</th>\n",
       "      <th>member_casual</th>\n",
       "    </tr>\n",
       "  </thead>\n",
       "  <tbody>\n",
       "    <tr>\n",
       "      <th>0</th>\n",
       "      <td>E19E6F1B8D4C42ED</td>\n",
       "      <td>electric_bike</td>\n",
       "      <td>2021-01-23 16:14:19</td>\n",
       "      <td>2021-01-23 16:24:44</td>\n",
       "      <td>California Ave &amp; Cortez St</td>\n",
       "      <td>17660</td>\n",
       "      <td>NaN</td>\n",
       "      <td>NaN</td>\n",
       "      <td>41.900341</td>\n",
       "      <td>-87.696743</td>\n",
       "      <td>41.89</td>\n",
       "      <td>-87.72</td>\n",
       "      <td>member</td>\n",
       "    </tr>\n",
       "    <tr>\n",
       "      <th>1</th>\n",
       "      <td>DC88F20C2C55F27F</td>\n",
       "      <td>electric_bike</td>\n",
       "      <td>2021-01-27 18:43:08</td>\n",
       "      <td>2021-01-27 18:47:12</td>\n",
       "      <td>California Ave &amp; Cortez St</td>\n",
       "      <td>17660</td>\n",
       "      <td>NaN</td>\n",
       "      <td>NaN</td>\n",
       "      <td>41.900333</td>\n",
       "      <td>-87.696707</td>\n",
       "      <td>41.90</td>\n",
       "      <td>-87.69</td>\n",
       "      <td>member</td>\n",
       "    </tr>\n",
       "    <tr>\n",
       "      <th>2</th>\n",
       "      <td>EC45C94683FE3F27</td>\n",
       "      <td>electric_bike</td>\n",
       "      <td>2021-01-21 22:35:54</td>\n",
       "      <td>2021-01-21 22:37:14</td>\n",
       "      <td>California Ave &amp; Cortez St</td>\n",
       "      <td>17660</td>\n",
       "      <td>NaN</td>\n",
       "      <td>NaN</td>\n",
       "      <td>41.900313</td>\n",
       "      <td>-87.696643</td>\n",
       "      <td>41.90</td>\n",
       "      <td>-87.70</td>\n",
       "      <td>member</td>\n",
       "    </tr>\n",
       "    <tr>\n",
       "      <th>3</th>\n",
       "      <td>4FA453A75AE377DB</td>\n",
       "      <td>electric_bike</td>\n",
       "      <td>2021-01-07 13:31:13</td>\n",
       "      <td>2021-01-07 13:42:55</td>\n",
       "      <td>California Ave &amp; Cortez St</td>\n",
       "      <td>17660</td>\n",
       "      <td>NaN</td>\n",
       "      <td>NaN</td>\n",
       "      <td>41.900399</td>\n",
       "      <td>-87.696662</td>\n",
       "      <td>41.92</td>\n",
       "      <td>-87.69</td>\n",
       "      <td>member</td>\n",
       "    </tr>\n",
       "    <tr>\n",
       "      <th>4</th>\n",
       "      <td>BE5E8EB4E7263A0B</td>\n",
       "      <td>electric_bike</td>\n",
       "      <td>2021-01-23 02:24:02</td>\n",
       "      <td>2021-01-23 02:24:45</td>\n",
       "      <td>California Ave &amp; Cortez St</td>\n",
       "      <td>17660</td>\n",
       "      <td>NaN</td>\n",
       "      <td>NaN</td>\n",
       "      <td>41.900326</td>\n",
       "      <td>-87.696697</td>\n",
       "      <td>41.90</td>\n",
       "      <td>-87.70</td>\n",
       "      <td>casual</td>\n",
       "    </tr>\n",
       "  </tbody>\n",
       "</table>\n",
       "</div>"
      ],
      "text/plain": [
       "            ride_id  rideable_type           started_at             ended_at  \\\n",
       "0  E19E6F1B8D4C42ED  electric_bike  2021-01-23 16:14:19  2021-01-23 16:24:44   \n",
       "1  DC88F20C2C55F27F  electric_bike  2021-01-27 18:43:08  2021-01-27 18:47:12   \n",
       "2  EC45C94683FE3F27  electric_bike  2021-01-21 22:35:54  2021-01-21 22:37:14   \n",
       "3  4FA453A75AE377DB  electric_bike  2021-01-07 13:31:13  2021-01-07 13:42:55   \n",
       "4  BE5E8EB4E7263A0B  electric_bike  2021-01-23 02:24:02  2021-01-23 02:24:45   \n",
       "\n",
       "           start_station_name start_station_id end_station_name  \\\n",
       "0  California Ave & Cortez St            17660              NaN   \n",
       "1  California Ave & Cortez St            17660              NaN   \n",
       "2  California Ave & Cortez St            17660              NaN   \n",
       "3  California Ave & Cortez St            17660              NaN   \n",
       "4  California Ave & Cortez St            17660              NaN   \n",
       "\n",
       "  end_station_id  start_lat  start_lng  end_lat  end_lng member_casual  \n",
       "0            NaN  41.900341 -87.696743    41.89   -87.72        member  \n",
       "1            NaN  41.900333 -87.696707    41.90   -87.69        member  \n",
       "2            NaN  41.900313 -87.696643    41.90   -87.70        member  \n",
       "3            NaN  41.900399 -87.696662    41.92   -87.69        member  \n",
       "4            NaN  41.900326 -87.696697    41.90   -87.70        casual  "
      ]
     },
     "execution_count": 259,
     "metadata": {},
     "output_type": "execute_result"
    }
   ],
   "source": [
    "rides_df.head()"
   ]
  },
  {
   "cell_type": "code",
   "execution_count": 260,
   "metadata": {},
   "outputs": [],
   "source": [
    "rides_df = rides_df[rides_df[\"start_station_name\"].isnull()==False]\n",
    "rides_df['started_at']=pd.to_datetime(rides_df['started_at'])\n",
    "rides_df['hourly_data_started'] = rides_df.started_at.dt.round('60min')\n",
    "\n",
    "rides_df = rides_df[[\"start_station_name\",\"ride_id\",\"hourly_data_started\"]]\n",
    "rides_df.rename(columns={\"start_station_name\":\"station_name\"}, inplace=True)"
   ]
  },
  {
   "cell_type": "code",
   "execution_count": 261,
   "metadata": {},
   "outputs": [
    {
     "data": {
      "text/html": [
       "<div>\n",
       "<style scoped>\n",
       "    .dataframe tbody tr th:only-of-type {\n",
       "        vertical-align: middle;\n",
       "    }\n",
       "\n",
       "    .dataframe tbody tr th {\n",
       "        vertical-align: top;\n",
       "    }\n",
       "\n",
       "    .dataframe thead th {\n",
       "        text-align: right;\n",
       "    }\n",
       "</style>\n",
       "<table border=\"1\" class=\"dataframe\">\n",
       "  <thead>\n",
       "    <tr style=\"text-align: right;\">\n",
       "      <th></th>\n",
       "      <th>station_name</th>\n",
       "      <th>ride_id</th>\n",
       "      <th>hourly_data_started</th>\n",
       "    </tr>\n",
       "  </thead>\n",
       "  <tbody>\n",
       "    <tr>\n",
       "      <th>0</th>\n",
       "      <td>California Ave &amp; Cortez St</td>\n",
       "      <td>E19E6F1B8D4C42ED</td>\n",
       "      <td>2021-01-23 16:00:00</td>\n",
       "    </tr>\n",
       "    <tr>\n",
       "      <th>1</th>\n",
       "      <td>California Ave &amp; Cortez St</td>\n",
       "      <td>DC88F20C2C55F27F</td>\n",
       "      <td>2021-01-27 19:00:00</td>\n",
       "    </tr>\n",
       "    <tr>\n",
       "      <th>2</th>\n",
       "      <td>California Ave &amp; Cortez St</td>\n",
       "      <td>EC45C94683FE3F27</td>\n",
       "      <td>2021-01-21 23:00:00</td>\n",
       "    </tr>\n",
       "    <tr>\n",
       "      <th>3</th>\n",
       "      <td>California Ave &amp; Cortez St</td>\n",
       "      <td>4FA453A75AE377DB</td>\n",
       "      <td>2021-01-07 14:00:00</td>\n",
       "    </tr>\n",
       "    <tr>\n",
       "      <th>4</th>\n",
       "      <td>California Ave &amp; Cortez St</td>\n",
       "      <td>BE5E8EB4E7263A0B</td>\n",
       "      <td>2021-01-23 02:00:00</td>\n",
       "    </tr>\n",
       "  </tbody>\n",
       "</table>\n",
       "</div>"
      ],
      "text/plain": [
       "                 station_name           ride_id hourly_data_started\n",
       "0  California Ave & Cortez St  E19E6F1B8D4C42ED 2021-01-23 16:00:00\n",
       "1  California Ave & Cortez St  DC88F20C2C55F27F 2021-01-27 19:00:00\n",
       "2  California Ave & Cortez St  EC45C94683FE3F27 2021-01-21 23:00:00\n",
       "3  California Ave & Cortez St  4FA453A75AE377DB 2021-01-07 14:00:00\n",
       "4  California Ave & Cortez St  BE5E8EB4E7263A0B 2021-01-23 02:00:00"
      ]
     },
     "execution_count": 261,
     "metadata": {},
     "output_type": "execute_result"
    }
   ],
   "source": [
    "rides_df.head(5)"
   ]
  },
  {
   "cell_type": "code",
   "execution_count": 262,
   "metadata": {},
   "outputs": [
    {
     "data": {
      "text/html": [
       "<div>\n",
       "<style scoped>\n",
       "    .dataframe tbody tr th:only-of-type {\n",
       "        vertical-align: middle;\n",
       "    }\n",
       "\n",
       "    .dataframe tbody tr th {\n",
       "        vertical-align: top;\n",
       "    }\n",
       "\n",
       "    .dataframe thead th {\n",
       "        text-align: right;\n",
       "    }\n",
       "</style>\n",
       "<table border=\"1\" class=\"dataframe\">\n",
       "  <thead>\n",
       "    <tr style=\"text-align: right;\">\n",
       "      <th></th>\n",
       "      <th>station_name</th>\n",
       "      <th>ride_id</th>\n",
       "      <th>hourly_data_started</th>\n",
       "      <th>date</th>\n",
       "      <th>nb_rides</th>\n",
       "    </tr>\n",
       "  </thead>\n",
       "  <tbody>\n",
       "    <tr>\n",
       "      <th>0</th>\n",
       "      <td>California Ave &amp; Cortez St</td>\n",
       "      <td>E19E6F1B8D4C42ED</td>\n",
       "      <td>2021-01-23 16:00:00</td>\n",
       "      <td>2021-01-23</td>\n",
       "      <td>1</td>\n",
       "    </tr>\n",
       "    <tr>\n",
       "      <th>1</th>\n",
       "      <td>California Ave &amp; Cortez St</td>\n",
       "      <td>DC88F20C2C55F27F</td>\n",
       "      <td>2021-01-27 19:00:00</td>\n",
       "      <td>2021-01-27</td>\n",
       "      <td>1</td>\n",
       "    </tr>\n",
       "    <tr>\n",
       "      <th>2</th>\n",
       "      <td>California Ave &amp; Cortez St</td>\n",
       "      <td>EC45C94683FE3F27</td>\n",
       "      <td>2021-01-21 23:00:00</td>\n",
       "      <td>2021-01-21</td>\n",
       "      <td>1</td>\n",
       "    </tr>\n",
       "    <tr>\n",
       "      <th>3</th>\n",
       "      <td>California Ave &amp; Cortez St</td>\n",
       "      <td>4FA453A75AE377DB</td>\n",
       "      <td>2021-01-07 14:00:00</td>\n",
       "      <td>2021-01-07</td>\n",
       "      <td>1</td>\n",
       "    </tr>\n",
       "    <tr>\n",
       "      <th>4</th>\n",
       "      <td>California Ave &amp; Cortez St</td>\n",
       "      <td>BE5E8EB4E7263A0B</td>\n",
       "      <td>2021-01-23 02:00:00</td>\n",
       "      <td>2021-01-23</td>\n",
       "      <td>1</td>\n",
       "    </tr>\n",
       "  </tbody>\n",
       "</table>\n",
       "</div>"
      ],
      "text/plain": [
       "                 station_name           ride_id hourly_data_started  \\\n",
       "0  California Ave & Cortez St  E19E6F1B8D4C42ED 2021-01-23 16:00:00   \n",
       "1  California Ave & Cortez St  DC88F20C2C55F27F 2021-01-27 19:00:00   \n",
       "2  California Ave & Cortez St  EC45C94683FE3F27 2021-01-21 23:00:00   \n",
       "3  California Ave & Cortez St  4FA453A75AE377DB 2021-01-07 14:00:00   \n",
       "4  California Ave & Cortez St  BE5E8EB4E7263A0B 2021-01-23 02:00:00   \n",
       "\n",
       "        date  nb_rides  \n",
       "0 2021-01-23         1  \n",
       "1 2021-01-27         1  \n",
       "2 2021-01-21         1  \n",
       "3 2021-01-07         1  \n",
       "4 2021-01-23         1  "
      ]
     },
     "execution_count": 262,
     "metadata": {},
     "output_type": "execute_result"
    }
   ],
   "source": [
    "rides_df[\"date\"]= pd.to_datetime(rides_df[\"hourly_data_started\"]).dt.date\n",
    "rides_df[\"date\"]= pd.to_datetime(rides_df[\"date\"])\n",
    "\n",
    "rides_df[\"nb_rides\"]=1\n",
    "rides_df.head(5)"
   ]
  },
  {
   "cell_type": "code",
   "execution_count": 263,
   "metadata": {},
   "outputs": [
    {
     "data": {
      "text/html": [
       "<div>\n",
       "<style scoped>\n",
       "    .dataframe tbody tr th:only-of-type {\n",
       "        vertical-align: middle;\n",
       "    }\n",
       "\n",
       "    .dataframe tbody tr th {\n",
       "        vertical-align: top;\n",
       "    }\n",
       "\n",
       "    .dataframe thead th {\n",
       "        text-align: right;\n",
       "    }\n",
       "</style>\n",
       "<table border=\"1\" class=\"dataframe\">\n",
       "  <thead>\n",
       "    <tr style=\"text-align: right;\">\n",
       "      <th></th>\n",
       "      <th>date</th>\n",
       "      <th>hourly_data_started</th>\n",
       "      <th>nb_rides</th>\n",
       "    </tr>\n",
       "  </thead>\n",
       "  <tbody>\n",
       "    <tr>\n",
       "      <th>0</th>\n",
       "      <td>2021-01-01</td>\n",
       "      <td>2021-01-01 00:00:00</td>\n",
       "      <td>13</td>\n",
       "    </tr>\n",
       "    <tr>\n",
       "      <th>1</th>\n",
       "      <td>2021-01-01</td>\n",
       "      <td>2021-01-01 01:00:00</td>\n",
       "      <td>35</td>\n",
       "    </tr>\n",
       "    <tr>\n",
       "      <th>2</th>\n",
       "      <td>2021-01-01</td>\n",
       "      <td>2021-01-01 02:00:00</td>\n",
       "      <td>48</td>\n",
       "    </tr>\n",
       "    <tr>\n",
       "      <th>3</th>\n",
       "      <td>2021-01-01</td>\n",
       "      <td>2021-01-01 03:00:00</td>\n",
       "      <td>33</td>\n",
       "    </tr>\n",
       "    <tr>\n",
       "      <th>4</th>\n",
       "      <td>2021-01-01</td>\n",
       "      <td>2021-01-01 04:00:00</td>\n",
       "      <td>12</td>\n",
       "    </tr>\n",
       "    <tr>\n",
       "      <th>...</th>\n",
       "      <td>...</td>\n",
       "      <td>...</td>\n",
       "      <td>...</td>\n",
       "    </tr>\n",
       "    <tr>\n",
       "      <th>8737</th>\n",
       "      <td>2021-12-31</td>\n",
       "      <td>2021-12-31 20:00:00</td>\n",
       "      <td>211</td>\n",
       "    </tr>\n",
       "    <tr>\n",
       "      <th>8738</th>\n",
       "      <td>2021-12-31</td>\n",
       "      <td>2021-12-31 21:00:00</td>\n",
       "      <td>161</td>\n",
       "    </tr>\n",
       "    <tr>\n",
       "      <th>8739</th>\n",
       "      <td>2021-12-31</td>\n",
       "      <td>2021-12-31 22:00:00</td>\n",
       "      <td>125</td>\n",
       "    </tr>\n",
       "    <tr>\n",
       "      <th>8740</th>\n",
       "      <td>2021-12-31</td>\n",
       "      <td>2021-12-31 23:00:00</td>\n",
       "      <td>164</td>\n",
       "    </tr>\n",
       "    <tr>\n",
       "      <th>8741</th>\n",
       "      <td>2022-01-01</td>\n",
       "      <td>2022-01-01 00:00:00</td>\n",
       "      <td>76</td>\n",
       "    </tr>\n",
       "  </tbody>\n",
       "</table>\n",
       "<p>8742 rows × 3 columns</p>\n",
       "</div>"
      ],
      "text/plain": [
       "           date hourly_data_started  nb_rides\n",
       "0    2021-01-01 2021-01-01 00:00:00        13\n",
       "1    2021-01-01 2021-01-01 01:00:00        35\n",
       "2    2021-01-01 2021-01-01 02:00:00        48\n",
       "3    2021-01-01 2021-01-01 03:00:00        33\n",
       "4    2021-01-01 2021-01-01 04:00:00        12\n",
       "...         ...                 ...       ...\n",
       "8737 2021-12-31 2021-12-31 20:00:00       211\n",
       "8738 2021-12-31 2021-12-31 21:00:00       161\n",
       "8739 2021-12-31 2021-12-31 22:00:00       125\n",
       "8740 2021-12-31 2021-12-31 23:00:00       164\n",
       "8741 2022-01-01 2022-01-01 00:00:00        76\n",
       "\n",
       "[8742 rows x 3 columns]"
      ]
     },
     "execution_count": 263,
     "metadata": {},
     "output_type": "execute_result"
    }
   ],
   "source": [
    "hour_w_df = rides_df.groupby(by=[\"date\",\"hourly_data_started\"])[\"nb_rides\"].sum().reset_index()\n",
    "hour_w_df"
   ]
  },
  {
   "cell_type": "markdown",
   "metadata": {},
   "source": []
  },
  {
   "cell_type": "code",
   "execution_count": 264,
   "metadata": {},
   "outputs": [
    {
     "name": "stdout",
     "output_type": "stream",
     "text": [
      "<class 'pandas.core.frame.DataFrame'>\n",
      "RangeIndex: 8742 entries, 0 to 8741\n",
      "Data columns (total 3 columns):\n",
      " #   Column               Non-Null Count  Dtype         \n",
      "---  ------               --------------  -----         \n",
      " 0   date                 8742 non-null   datetime64[ns]\n",
      " 1   hourly_data_started  8742 non-null   datetime64[ns]\n",
      " 2   nb_rides             8742 non-null   int64         \n",
      "dtypes: datetime64[ns](2), int64(1)\n",
      "memory usage: 205.0 KB\n"
     ]
    }
   ],
   "source": [
    "hour_w_df.info()"
   ]
  },
  {
   "cell_type": "code",
   "execution_count": 265,
   "metadata": {},
   "outputs": [
    {
     "data": {
      "text/html": [
       "<div>\n",
       "<style scoped>\n",
       "    .dataframe tbody tr th:only-of-type {\n",
       "        vertical-align: middle;\n",
       "    }\n",
       "\n",
       "    .dataframe tbody tr th {\n",
       "        vertical-align: top;\n",
       "    }\n",
       "\n",
       "    .dataframe thead th {\n",
       "        text-align: right;\n",
       "    }\n",
       "</style>\n",
       "<table border=\"1\" class=\"dataframe\">\n",
       "  <thead>\n",
       "    <tr style=\"text-align: right;\">\n",
       "      <th></th>\n",
       "      <th>date</th>\n",
       "      <th>hourly_data_started</th>\n",
       "      <th>nb_rides</th>\n",
       "      <th>dayofweek</th>\n",
       "      <th>category</th>\n",
       "    </tr>\n",
       "  </thead>\n",
       "  <tbody>\n",
       "    <tr>\n",
       "      <th>0</th>\n",
       "      <td>2021-01-01</td>\n",
       "      <td>2021-01-01 00:00:00</td>\n",
       "      <td>13</td>\n",
       "      <td>4</td>\n",
       "      <td>0</td>\n",
       "    </tr>\n",
       "    <tr>\n",
       "      <th>1</th>\n",
       "      <td>2021-01-01</td>\n",
       "      <td>2021-01-01 01:00:00</td>\n",
       "      <td>35</td>\n",
       "      <td>4</td>\n",
       "      <td>0</td>\n",
       "    </tr>\n",
       "    <tr>\n",
       "      <th>2</th>\n",
       "      <td>2021-01-01</td>\n",
       "      <td>2021-01-01 02:00:00</td>\n",
       "      <td>48</td>\n",
       "      <td>4</td>\n",
       "      <td>0</td>\n",
       "    </tr>\n",
       "    <tr>\n",
       "      <th>3</th>\n",
       "      <td>2021-01-01</td>\n",
       "      <td>2021-01-01 03:00:00</td>\n",
       "      <td>33</td>\n",
       "      <td>4</td>\n",
       "      <td>0</td>\n",
       "    </tr>\n",
       "    <tr>\n",
       "      <th>4</th>\n",
       "      <td>2021-01-01</td>\n",
       "      <td>2021-01-01 04:00:00</td>\n",
       "      <td>12</td>\n",
       "      <td>4</td>\n",
       "      <td>0</td>\n",
       "    </tr>\n",
       "  </tbody>\n",
       "</table>\n",
       "</div>"
      ],
      "text/plain": [
       "        date hourly_data_started  nb_rides  dayofweek  category\n",
       "0 2021-01-01 2021-01-01 00:00:00        13          4         0\n",
       "1 2021-01-01 2021-01-01 01:00:00        35          4         0\n",
       "2 2021-01-01 2021-01-01 02:00:00        48          4         0\n",
       "3 2021-01-01 2021-01-01 03:00:00        33          4         0\n",
       "4 2021-01-01 2021-01-01 04:00:00        12          4         0"
      ]
     },
     "execution_count": 265,
     "metadata": {},
     "output_type": "execute_result"
    }
   ],
   "source": [
    "hour_w_df[\"dayofweek\"] = hour_w_df['date'].dt.dayofweek\n",
    "\n",
    "hour_w_df['category'] = (hour_w_df['dayofweek'] >= 5)\n",
    "hour_w_df[\"category\"].replace({False:0,True:1}, inplace=True)\n",
    "hour_w_df.head(5)"
   ]
  },
  {
   "cell_type": "code",
   "execution_count": 266,
   "metadata": {},
   "outputs": [
    {
     "data": {
      "text/plain": [
       "0    6249\n",
       "1    2493\n",
       "Name: category, dtype: int64"
      ]
     },
     "execution_count": 266,
     "metadata": {},
     "output_type": "execute_result"
    }
   ],
   "source": [
    "hour_w_df.category.value_counts()"
   ]
  },
  {
   "cell_type": "code",
   "execution_count": 269,
   "metadata": {},
   "outputs": [
    {
     "data": {
      "text/html": [
       "<div>\n",
       "<style scoped>\n",
       "    .dataframe tbody tr th:only-of-type {\n",
       "        vertical-align: middle;\n",
       "    }\n",
       "\n",
       "    .dataframe tbody tr th {\n",
       "        vertical-align: top;\n",
       "    }\n",
       "\n",
       "    .dataframe thead th {\n",
       "        text-align: right;\n",
       "    }\n",
       "</style>\n",
       "<table border=\"1\" class=\"dataframe\">\n",
       "  <thead>\n",
       "    <tr style=\"text-align: right;\">\n",
       "      <th></th>\n",
       "      <th>date</th>\n",
       "      <th>hourly_data_started</th>\n",
       "      <th>nb_rides</th>\n",
       "      <th>dayofweek</th>\n",
       "      <th>category</th>\n",
       "      <th>hour</th>\n",
       "    </tr>\n",
       "  </thead>\n",
       "  <tbody>\n",
       "    <tr>\n",
       "      <th>0</th>\n",
       "      <td>2021-01-01</td>\n",
       "      <td>2021-01-01 00:00:00</td>\n",
       "      <td>13</td>\n",
       "      <td>4</td>\n",
       "      <td>0</td>\n",
       "      <td>0</td>\n",
       "    </tr>\n",
       "    <tr>\n",
       "      <th>1</th>\n",
       "      <td>2021-01-01</td>\n",
       "      <td>2021-01-01 01:00:00</td>\n",
       "      <td>35</td>\n",
       "      <td>4</td>\n",
       "      <td>0</td>\n",
       "      <td>1</td>\n",
       "    </tr>\n",
       "    <tr>\n",
       "      <th>2</th>\n",
       "      <td>2021-01-01</td>\n",
       "      <td>2021-01-01 02:00:00</td>\n",
       "      <td>48</td>\n",
       "      <td>4</td>\n",
       "      <td>0</td>\n",
       "      <td>2</td>\n",
       "    </tr>\n",
       "    <tr>\n",
       "      <th>3</th>\n",
       "      <td>2021-01-01</td>\n",
       "      <td>2021-01-01 03:00:00</td>\n",
       "      <td>33</td>\n",
       "      <td>4</td>\n",
       "      <td>0</td>\n",
       "      <td>3</td>\n",
       "    </tr>\n",
       "    <tr>\n",
       "      <th>4</th>\n",
       "      <td>2021-01-01</td>\n",
       "      <td>2021-01-01 04:00:00</td>\n",
       "      <td>12</td>\n",
       "      <td>4</td>\n",
       "      <td>0</td>\n",
       "      <td>4</td>\n",
       "    </tr>\n",
       "  </tbody>\n",
       "</table>\n",
       "</div>"
      ],
      "text/plain": [
       "        date hourly_data_started  nb_rides  dayofweek  category  hour\n",
       "0 2021-01-01 2021-01-01 00:00:00        13          4         0     0\n",
       "1 2021-01-01 2021-01-01 01:00:00        35          4         0     1\n",
       "2 2021-01-01 2021-01-01 02:00:00        48          4         0     2\n",
       "3 2021-01-01 2021-01-01 03:00:00        33          4         0     3\n",
       "4 2021-01-01 2021-01-01 04:00:00        12          4         0     4"
      ]
     },
     "execution_count": 269,
     "metadata": {},
     "output_type": "execute_result"
    }
   ],
   "source": [
    "hour_w_df[\"hour\"] = hour_w_df['hourly_data_started'].dt.hour\n",
    "hour_w_df.head(5)"
   ]
  },
  {
   "cell_type": "code",
   "execution_count": 273,
   "metadata": {},
   "outputs": [
    {
     "data": {
      "text/html": [
       "<div>\n",
       "<style scoped>\n",
       "    .dataframe tbody tr th:only-of-type {\n",
       "        vertical-align: middle;\n",
       "    }\n",
       "\n",
       "    .dataframe tbody tr th {\n",
       "        vertical-align: top;\n",
       "    }\n",
       "\n",
       "    .dataframe thead th {\n",
       "        text-align: right;\n",
       "    }\n",
       "</style>\n",
       "<table border=\"1\" class=\"dataframe\">\n",
       "  <thead>\n",
       "    <tr style=\"text-align: right;\">\n",
       "      <th></th>\n",
       "      <th>category</th>\n",
       "      <th>hour</th>\n",
       "      <th>nb_rides</th>\n",
       "    </tr>\n",
       "  </thead>\n",
       "  <tbody>\n",
       "    <tr>\n",
       "      <th>0</th>\n",
       "      <td>0</td>\n",
       "      <td>0</td>\n",
       "      <td>158.003831</td>\n",
       "    </tr>\n",
       "    <tr>\n",
       "      <th>1</th>\n",
       "      <td>0</td>\n",
       "      <td>1</td>\n",
       "      <td>83.644788</td>\n",
       "    </tr>\n",
       "    <tr>\n",
       "      <th>2</th>\n",
       "      <td>0</td>\n",
       "      <td>2</td>\n",
       "      <td>49.696498</td>\n",
       "    </tr>\n",
       "    <tr>\n",
       "      <th>3</th>\n",
       "      <td>0</td>\n",
       "      <td>3</td>\n",
       "      <td>26.517647</td>\n",
       "    </tr>\n",
       "    <tr>\n",
       "      <th>4</th>\n",
       "      <td>0</td>\n",
       "      <td>4</td>\n",
       "      <td>24.077220</td>\n",
       "    </tr>\n",
       "    <tr>\n",
       "      <th>5</th>\n",
       "      <td>0</td>\n",
       "      <td>5</td>\n",
       "      <td>51.088462</td>\n",
       "    </tr>\n",
       "    <tr>\n",
       "      <th>6</th>\n",
       "      <td>0</td>\n",
       "      <td>6</td>\n",
       "      <td>203.164751</td>\n",
       "    </tr>\n",
       "    <tr>\n",
       "      <th>7</th>\n",
       "      <td>0</td>\n",
       "      <td>7</td>\n",
       "      <td>453.275862</td>\n",
       "    </tr>\n",
       "    <tr>\n",
       "      <th>8</th>\n",
       "      <td>0</td>\n",
       "      <td>8</td>\n",
       "      <td>672.022989</td>\n",
       "    </tr>\n",
       "    <tr>\n",
       "      <th>9</th>\n",
       "      <td>0</td>\n",
       "      <td>9</td>\n",
       "      <td>559.417625</td>\n",
       "    </tr>\n",
       "    <tr>\n",
       "      <th>10</th>\n",
       "      <td>0</td>\n",
       "      <td>10</td>\n",
       "      <td>419.877395</td>\n",
       "    </tr>\n",
       "    <tr>\n",
       "      <th>11</th>\n",
       "      <td>0</td>\n",
       "      <td>11</td>\n",
       "      <td>465.409962</td>\n",
       "    </tr>\n",
       "    <tr>\n",
       "      <th>12</th>\n",
       "      <td>0</td>\n",
       "      <td>12</td>\n",
       "      <td>618.996169</td>\n",
       "    </tr>\n",
       "    <tr>\n",
       "      <th>13</th>\n",
       "      <td>0</td>\n",
       "      <td>13</td>\n",
       "      <td>654.777778</td>\n",
       "    </tr>\n",
       "    <tr>\n",
       "      <th>14</th>\n",
       "      <td>0</td>\n",
       "      <td>14</td>\n",
       "      <td>651.157088</td>\n",
       "    </tr>\n",
       "    <tr>\n",
       "      <th>15</th>\n",
       "      <td>0</td>\n",
       "      <td>15</td>\n",
       "      <td>710.352490</td>\n",
       "    </tr>\n",
       "    <tr>\n",
       "      <th>16</th>\n",
       "      <td>0</td>\n",
       "      <td>16</td>\n",
       "      <td>912.218391</td>\n",
       "    </tr>\n",
       "    <tr>\n",
       "      <th>17</th>\n",
       "      <td>0</td>\n",
       "      <td>17</td>\n",
       "      <td>1314.927203</td>\n",
       "    </tr>\n",
       "    <tr>\n",
       "      <th>18</th>\n",
       "      <td>0</td>\n",
       "      <td>18</td>\n",
       "      <td>1389.793103</td>\n",
       "    </tr>\n",
       "    <tr>\n",
       "      <th>19</th>\n",
       "      <td>0</td>\n",
       "      <td>19</td>\n",
       "      <td>1076.478927</td>\n",
       "    </tr>\n",
       "    <tr>\n",
       "      <th>20</th>\n",
       "      <td>0</td>\n",
       "      <td>20</td>\n",
       "      <td>732.026820</td>\n",
       "    </tr>\n",
       "    <tr>\n",
       "      <th>21</th>\n",
       "      <td>0</td>\n",
       "      <td>21</td>\n",
       "      <td>519.570881</td>\n",
       "    </tr>\n",
       "    <tr>\n",
       "      <th>22</th>\n",
       "      <td>0</td>\n",
       "      <td>22</td>\n",
       "      <td>422.678161</td>\n",
       "    </tr>\n",
       "    <tr>\n",
       "      <th>23</th>\n",
       "      <td>0</td>\n",
       "      <td>23</td>\n",
       "      <td>319.432950</td>\n",
       "    </tr>\n",
       "    <tr>\n",
       "      <th>24</th>\n",
       "      <td>1</td>\n",
       "      <td>0</td>\n",
       "      <td>458.942857</td>\n",
       "    </tr>\n",
       "    <tr>\n",
       "      <th>25</th>\n",
       "      <td>1</td>\n",
       "      <td>1</td>\n",
       "      <td>380.259615</td>\n",
       "    </tr>\n",
       "    <tr>\n",
       "      <th>26</th>\n",
       "      <td>1</td>\n",
       "      <td>2</td>\n",
       "      <td>288.586538</td>\n",
       "    </tr>\n",
       "    <tr>\n",
       "      <th>27</th>\n",
       "      <td>1</td>\n",
       "      <td>3</td>\n",
       "      <td>154.528846</td>\n",
       "    </tr>\n",
       "    <tr>\n",
       "      <th>28</th>\n",
       "      <td>1</td>\n",
       "      <td>4</td>\n",
       "      <td>82.303922</td>\n",
       "    </tr>\n",
       "    <tr>\n",
       "      <th>29</th>\n",
       "      <td>1</td>\n",
       "      <td>5</td>\n",
       "      <td>56.470588</td>\n",
       "    </tr>\n",
       "    <tr>\n",
       "      <th>30</th>\n",
       "      <td>1</td>\n",
       "      <td>6</td>\n",
       "      <td>82.413462</td>\n",
       "    </tr>\n",
       "    <tr>\n",
       "      <th>31</th>\n",
       "      <td>1</td>\n",
       "      <td>7</td>\n",
       "      <td>150.182692</td>\n",
       "    </tr>\n",
       "    <tr>\n",
       "      <th>32</th>\n",
       "      <td>1</td>\n",
       "      <td>8</td>\n",
       "      <td>281.759615</td>\n",
       "    </tr>\n",
       "    <tr>\n",
       "      <th>33</th>\n",
       "      <td>1</td>\n",
       "      <td>9</td>\n",
       "      <td>471.259615</td>\n",
       "    </tr>\n",
       "    <tr>\n",
       "      <th>34</th>\n",
       "      <td>1</td>\n",
       "      <td>10</td>\n",
       "      <td>753.153846</td>\n",
       "    </tr>\n",
       "    <tr>\n",
       "      <th>35</th>\n",
       "      <td>1</td>\n",
       "      <td>11</td>\n",
       "      <td>1007.365385</td>\n",
       "    </tr>\n",
       "    <tr>\n",
       "      <th>36</th>\n",
       "      <td>1</td>\n",
       "      <td>12</td>\n",
       "      <td>1196.057692</td>\n",
       "    </tr>\n",
       "    <tr>\n",
       "      <th>37</th>\n",
       "      <td>1</td>\n",
       "      <td>13</td>\n",
       "      <td>1272.759615</td>\n",
       "    </tr>\n",
       "    <tr>\n",
       "      <th>38</th>\n",
       "      <td>1</td>\n",
       "      <td>14</td>\n",
       "      <td>1311.663462</td>\n",
       "    </tr>\n",
       "    <tr>\n",
       "      <th>39</th>\n",
       "      <td>1</td>\n",
       "      <td>15</td>\n",
       "      <td>1294.605769</td>\n",
       "    </tr>\n",
       "    <tr>\n",
       "      <th>40</th>\n",
       "      <td>1</td>\n",
       "      <td>16</td>\n",
       "      <td>1267.653846</td>\n",
       "    </tr>\n",
       "    <tr>\n",
       "      <th>41</th>\n",
       "      <td>1</td>\n",
       "      <td>17</td>\n",
       "      <td>1202.259615</td>\n",
       "    </tr>\n",
       "    <tr>\n",
       "      <th>42</th>\n",
       "      <td>1</td>\n",
       "      <td>18</td>\n",
       "      <td>1074.865385</td>\n",
       "    </tr>\n",
       "    <tr>\n",
       "      <th>43</th>\n",
       "      <td>1</td>\n",
       "      <td>19</td>\n",
       "      <td>919.423077</td>\n",
       "    </tr>\n",
       "    <tr>\n",
       "      <th>44</th>\n",
       "      <td>1</td>\n",
       "      <td>20</td>\n",
       "      <td>687.961538</td>\n",
       "    </tr>\n",
       "    <tr>\n",
       "      <th>45</th>\n",
       "      <td>1</td>\n",
       "      <td>21</td>\n",
       "      <td>532.548077</td>\n",
       "    </tr>\n",
       "    <tr>\n",
       "      <th>46</th>\n",
       "      <td>1</td>\n",
       "      <td>22</td>\n",
       "      <td>466.711538</td>\n",
       "    </tr>\n",
       "    <tr>\n",
       "      <th>47</th>\n",
       "      <td>1</td>\n",
       "      <td>23</td>\n",
       "      <td>425.211538</td>\n",
       "    </tr>\n",
       "  </tbody>\n",
       "</table>\n",
       "</div>"
      ],
      "text/plain": [
       "    category  hour     nb_rides\n",
       "0          0     0   158.003831\n",
       "1          0     1    83.644788\n",
       "2          0     2    49.696498\n",
       "3          0     3    26.517647\n",
       "4          0     4    24.077220\n",
       "5          0     5    51.088462\n",
       "6          0     6   203.164751\n",
       "7          0     7   453.275862\n",
       "8          0     8   672.022989\n",
       "9          0     9   559.417625\n",
       "10         0    10   419.877395\n",
       "11         0    11   465.409962\n",
       "12         0    12   618.996169\n",
       "13         0    13   654.777778\n",
       "14         0    14   651.157088\n",
       "15         0    15   710.352490\n",
       "16         0    16   912.218391\n",
       "17         0    17  1314.927203\n",
       "18         0    18  1389.793103\n",
       "19         0    19  1076.478927\n",
       "20         0    20   732.026820\n",
       "21         0    21   519.570881\n",
       "22         0    22   422.678161\n",
       "23         0    23   319.432950\n",
       "24         1     0   458.942857\n",
       "25         1     1   380.259615\n",
       "26         1     2   288.586538\n",
       "27         1     3   154.528846\n",
       "28         1     4    82.303922\n",
       "29         1     5    56.470588\n",
       "30         1     6    82.413462\n",
       "31         1     7   150.182692\n",
       "32         1     8   281.759615\n",
       "33         1     9   471.259615\n",
       "34         1    10   753.153846\n",
       "35         1    11  1007.365385\n",
       "36         1    12  1196.057692\n",
       "37         1    13  1272.759615\n",
       "38         1    14  1311.663462\n",
       "39         1    15  1294.605769\n",
       "40         1    16  1267.653846\n",
       "41         1    17  1202.259615\n",
       "42         1    18  1074.865385\n",
       "43         1    19   919.423077\n",
       "44         1    20   687.961538\n",
       "45         1    21   532.548077\n",
       "46         1    22   466.711538\n",
       "47         1    23   425.211538"
      ]
     },
     "execution_count": 273,
     "metadata": {},
     "output_type": "execute_result"
    }
   ],
   "source": [
    "hour_w_agg_df = hour_w_df.groupby(by=[\"category\",\"hour\"])[\"nb_rides\"].mean().reset_index()\n",
    "hour_w_agg_df"
   ]
  },
  {
   "cell_type": "code",
   "execution_count": 282,
   "metadata": {},
   "outputs": [],
   "source": [
    "hour_w_agg_df.to_csv(\"raw_data/hourly_avg_rides_2021.csv\", index=False)"
   ]
  },
  {
   "cell_type": "code",
   "execution_count": 284,
   "metadata": {},
   "outputs": [
    {
     "data": {
      "text/plain": [
       "<matplotlib.legend.Legend at 0x7f3bddf45e10>"
      ]
     },
     "execution_count": 284,
     "metadata": {},
     "output_type": "execute_result"
    },
    {
     "data": {
      "image/png": "[encoded data removed]",
      "text/plain": [
       "<Figure size 640x480 with 1 Axes>"
      ]
     },
     "metadata": {},
     "output_type": "display_data"
    }
   ],
   "source": [
    "figXX, ax1 = plt.subplots()\n",
    "\n",
    "\n",
    "ax1 = sns.lineplot(x=hour_w_agg_df.loc[hour_w_agg_df[\"category\"]==0,\"hour\"],\n",
    "             y=hour_w_agg_df.loc[hour_w_agg_df[\"category\"]==0,\"nb_rides\"],\n",
    "             color=(116/255,169/255,207/255), label=\"Weekdays\")\n",
    "\n",
    "ax2 = sns.lineplot(x=hour_w_agg_df.loc[hour_w_agg_df[\"category\"]==1,\"hour\"],\n",
    "             y=hour_w_agg_df.loc[hour_w_agg_df[\"category\"]==1,\"nb_rides\"],\n",
    "             color=(5/255,112/255,176/255),\n",
    "             label=\"weekend\")\n",
    "\n",
    "\n",
    "ax1.set_title('Average number of bike rides per hour of the day')\n",
    "ax1.set_xlabel('Hour of the day')\n",
    "ax1.set_ylabel(\"Number of bike rides\")\n",
    "ax1.legend()\n"
   ]
  },
  {
   "cell_type": "code",
   "execution_count": 286,
   "metadata": {},
   "outputs": [],
   "source": [
    "rides_df_daily=pd.read_csv(\"raw_data/rides_df_daily_2021.csv\")\n",
    "rides_df_daily[\"date\"]= pd.to_datetime(rides_df_daily[\"date\"])\n",
    "\n",
    "avg_weather_df=pd.read_csv(\"raw_data/avg_temp.csv\")\n",
    "avg_weather_df[\"date\"]= pd.to_datetime(avg_weather_df[\"date\"])\n",
    "\n",
    "rides_df_daily = rides_df_daily.merge(avg_weather_df, on=\"date\", how=\"left\")\n",
    "rides_df_daily[\"nb_rides\"]= rides_df_daily[\"nb_rides\"]/1000"
   ]
  },
  {
   "cell_type": "code",
   "execution_count": 288,
   "metadata": {},
   "outputs": [],
   "source": [
    "rides_df_daily = rides_df_daily.set_index('date')\n",
    "\n",
    "rides_trend = seasonal_decompose(rides_df_daily['nb_rides'], model='additive')\n",
    "temp_trend = seasonal_decompose(rides_df_daily['temp'], model='additive')\n",
    "\n"
   ]
  },
  {
   "cell_type": "code",
   "execution_count": 291,
   "metadata": {},
   "outputs": [],
   "source": [
    "test_df = pd.DataFrame(rides_trend.trend)\n",
    "test_df.rename(columns={\"trend\":\"nb_rides\"}, inplace=True)"
   ]
  },
  {
   "cell_type": "code",
   "execution_count": 292,
   "metadata": {},
   "outputs": [],
   "source": [
    "test_df_2 = pd.DataFrame(temp_trend.trend)\n",
    "test_df_2.rename(columns={\"trend\":\"temp\"}, inplace=True)"
   ]
  },
  {
   "cell_type": "code",
   "execution_count": 293,
   "metadata": {},
   "outputs": [],
   "source": [
    "test_df = test_df.merge(test_df_2, on=\"date\", how=\"left\")"
   ]
  },
  {
   "cell_type": "code",
   "execution_count": 294,
   "metadata": {},
   "outputs": [
    {
     "data": {
      "text/html": [
       "<div>\n",
       "<style scoped>\n",
       "    .dataframe tbody tr th:only-of-type {\n",
       "        vertical-align: middle;\n",
       "    }\n",
       "\n",
       "    .dataframe tbody tr th {\n",
       "        vertical-align: top;\n",
       "    }\n",
       "\n",
       "    .dataframe thead th {\n",
       "        text-align: right;\n",
       "    }\n",
       "</style>\n",
       "<table border=\"1\" class=\"dataframe\">\n",
       "  <thead>\n",
       "    <tr style=\"text-align: right;\">\n",
       "      <th></th>\n",
       "      <th>nb_rides</th>\n",
       "      <th>temp</th>\n",
       "    </tr>\n",
       "    <tr>\n",
       "      <th>date</th>\n",
       "      <th></th>\n",
       "      <th></th>\n",
       "    </tr>\n",
       "  </thead>\n",
       "  <tbody>\n",
       "    <tr>\n",
       "      <th>2021-01-01</th>\n",
       "      <td>NaN</td>\n",
       "      <td>NaN</td>\n",
       "    </tr>\n",
       "    <tr>\n",
       "      <th>2021-01-02</th>\n",
       "      <td>NaN</td>\n",
       "      <td>NaN</td>\n",
       "    </tr>\n",
       "    <tr>\n",
       "      <th>2021-01-03</th>\n",
       "      <td>NaN</td>\n",
       "      <td>NaN</td>\n",
       "    </tr>\n",
       "    <tr>\n",
       "      <th>2021-01-04</th>\n",
       "      <td>2.700286</td>\n",
       "      <td>0.070000</td>\n",
       "    </tr>\n",
       "    <tr>\n",
       "      <th>2021-01-05</th>\n",
       "      <td>3.065857</td>\n",
       "      <td>0.467619</td>\n",
       "    </tr>\n",
       "    <tr>\n",
       "      <th>...</th>\n",
       "      <td>...</td>\n",
       "      <td>...</td>\n",
       "    </tr>\n",
       "    <tr>\n",
       "      <th>2021-12-28</th>\n",
       "      <td>3.746857</td>\n",
       "      <td>3.241250</td>\n",
       "    </tr>\n",
       "    <tr>\n",
       "      <th>2021-12-29</th>\n",
       "      <td>3.404714</td>\n",
       "      <td>2.326667</td>\n",
       "    </tr>\n",
       "    <tr>\n",
       "      <th>2021-12-30</th>\n",
       "      <td>NaN</td>\n",
       "      <td>NaN</td>\n",
       "    </tr>\n",
       "    <tr>\n",
       "      <th>2021-12-31</th>\n",
       "      <td>NaN</td>\n",
       "      <td>NaN</td>\n",
       "    </tr>\n",
       "    <tr>\n",
       "      <th>2022-01-01</th>\n",
       "      <td>NaN</td>\n",
       "      <td>NaN</td>\n",
       "    </tr>\n",
       "  </tbody>\n",
       "</table>\n",
       "<p>366 rows × 2 columns</p>\n",
       "</div>"
      ],
      "text/plain": [
       "            nb_rides      temp\n",
       "date                          \n",
       "2021-01-01       NaN       NaN\n",
       "2021-01-02       NaN       NaN\n",
       "2021-01-03       NaN       NaN\n",
       "2021-01-04  2.700286  0.070000\n",
       "2021-01-05  3.065857  0.467619\n",
       "...              ...       ...\n",
       "2021-12-28  3.746857  3.241250\n",
       "2021-12-29  3.404714  2.326667\n",
       "2021-12-30       NaN       NaN\n",
       "2021-12-31       NaN       NaN\n",
       "2022-01-01       NaN       NaN\n",
       "\n",
       "[366 rows x 2 columns]"
      ]
     },
     "execution_count": 294,
     "metadata": {},
     "output_type": "execute_result"
    }
   ],
   "source": [
    "test_df"
   ]
  },
  {
   "cell_type": "code",
   "execution_count": 296,
   "metadata": {},
   "outputs": [],
   "source": [
    "test_df.to_csv(\"raw_data/rides_temp_trend_2021.csv\")"
   ]
  },
  {
   "cell_type": "code",
   "execution_count": 302,
   "metadata": {},
   "outputs": [
    {
     "data": {
      "text/html": [
       "<div>\n",
       "<style scoped>\n",
       "    .dataframe tbody tr th:only-of-type {\n",
       "        vertical-align: middle;\n",
       "    }\n",
       "\n",
       "    .dataframe tbody tr th {\n",
       "        vertical-align: top;\n",
       "    }\n",
       "\n",
       "    .dataframe thead th {\n",
       "        text-align: right;\n",
       "    }\n",
       "</style>\n",
       "<table border=\"1\" class=\"dataframe\">\n",
       "  <thead>\n",
       "    <tr style=\"text-align: right;\">\n",
       "      <th></th>\n",
       "      <th>nb_rides</th>\n",
       "      <th>temp</th>\n",
       "    </tr>\n",
       "    <tr>\n",
       "      <th>date</th>\n",
       "      <th></th>\n",
       "      <th></th>\n",
       "    </tr>\n",
       "  </thead>\n",
       "  <tbody>\n",
       "    <tr>\n",
       "      <th>2021-01-01</th>\n",
       "      <td>NaN</td>\n",
       "      <td>NaN</td>\n",
       "    </tr>\n",
       "    <tr>\n",
       "      <th>2021-01-02</th>\n",
       "      <td>NaN</td>\n",
       "      <td>NaN</td>\n",
       "    </tr>\n",
       "    <tr>\n",
       "      <th>2021-01-03</th>\n",
       "      <td>NaN</td>\n",
       "      <td>NaN</td>\n",
       "    </tr>\n",
       "    <tr>\n",
       "      <th>2021-01-04</th>\n",
       "      <td>2.700286</td>\n",
       "      <td>0.070000</td>\n",
       "    </tr>\n",
       "    <tr>\n",
       "      <th>2021-01-05</th>\n",
       "      <td>3.065857</td>\n",
       "      <td>0.467619</td>\n",
       "    </tr>\n",
       "    <tr>\n",
       "      <th>...</th>\n",
       "      <td>...</td>\n",
       "      <td>...</td>\n",
       "    </tr>\n",
       "    <tr>\n",
       "      <th>2021-12-28</th>\n",
       "      <td>3.746857</td>\n",
       "      <td>3.241250</td>\n",
       "    </tr>\n",
       "    <tr>\n",
       "      <th>2021-12-29</th>\n",
       "      <td>3.404714</td>\n",
       "      <td>2.326667</td>\n",
       "    </tr>\n",
       "    <tr>\n",
       "      <th>2021-12-30</th>\n",
       "      <td>NaN</td>\n",
       "      <td>NaN</td>\n",
       "    </tr>\n",
       "    <tr>\n",
       "      <th>2021-12-31</th>\n",
       "      <td>NaN</td>\n",
       "      <td>NaN</td>\n",
       "    </tr>\n",
       "    <tr>\n",
       "      <th>2022-01-01</th>\n",
       "      <td>NaN</td>\n",
       "      <td>NaN</td>\n",
       "    </tr>\n",
       "  </tbody>\n",
       "</table>\n",
       "<p>366 rows × 2 columns</p>\n",
       "</div>"
      ],
      "text/plain": [
       "            nb_rides      temp\n",
       "date                          \n",
       "2021-01-01       NaN       NaN\n",
       "2021-01-02       NaN       NaN\n",
       "2021-01-03       NaN       NaN\n",
       "2021-01-04  2.700286  0.070000\n",
       "2021-01-05  3.065857  0.467619\n",
       "...              ...       ...\n",
       "2021-12-28  3.746857  3.241250\n",
       "2021-12-29  3.404714  2.326667\n",
       "2021-12-30       NaN       NaN\n",
       "2021-12-31       NaN       NaN\n",
       "2022-01-01       NaN       NaN\n",
       "\n",
       "[366 rows x 2 columns]"
      ]
     },
     "execution_count": 302,
     "metadata": {},
     "output_type": "execute_result"
    }
   ],
   "source": [
    "test_df_bis = pd.read_csv(\"raw_data/rides_temp_trend_2021.csv\")\n",
    "test_df_bis[\"date\"]= pd.to_datetime(test_df_bis[\"date\"])\n",
    "test_df_bis = test_df_bis.set_index(\"date\", drop=True)\n",
    "test_df_bis"
   ]
  },
  {
   "cell_type": "code",
   "execution_count": 303,
   "metadata": {},
   "outputs": [
    {
     "data": {
      "text/plain": [
       "Text(0, 0.5, 'Temperature (°c)')"
      ]
     },
     "execution_count": 303,
     "metadata": {},
     "output_type": "execute_result"
    },
    {
     "data": {
      "image/png": "[encoded data removed]",
      "text/plain": [
       "<Figure size 640x480 with 2 Axes>"
      ]
     },
     "metadata": {},
     "output_type": "display_data"
    }
   ],
   "source": [
    "fig, ax1 = plt.subplots()\n",
    "\n",
    "ax1 = sns.lineplot(test_df_bis.nb_rides, color=(43/255,140/255,190/255), legend=True)\n",
    "ax2 = ax1.twinx()\n",
    "sns.lineplot(test_df_bis.temp, ax=ax2, color=(222/255,45/255,38/255), legend=True)\n",
    "\n",
    "ax1.set_xlabel('Time')\n",
    "ax1.set_ylabel(\"Daily number of bike rides ('000s)\", color=(43/255,140/255,190/255))\n",
    "ax2.set_ylabel('Temperature (°c)', color=(222/255,45/255,38/255))"
   ]
  },
  {
   "cell_type": "code",
   "execution_count": null,
   "metadata": {},
   "outputs": [],
   "source": []
  }
 ],
 "metadata": {
  "kernelspec": {
   "display_name": "Python 3.10.6 64-bit ('shims')",
   "language": "python",
   "name": "python3"
  },
  "language_info": {
   "codemirror_mode": {
    "name": "ipython",
    "version": 3
   },
   "file_extension": ".py",
   "mimetype": "text/x-python",
   "name": "python",
   "nbconvert_exporter": "python",
   "pygments_lexer": "ipython3",
   "version": "3.10.6"
  },
  "orig_nbformat": 4,
  "vscode": {
   "interpreter": {
    "hash": "3648025edf73e73ba1159d04e874dc4e15a775332e01bb12a6a44f83c0d92c19"
   }
  }
 },
 "nbformat": 4,
 "nbformat_minor": 2
}
