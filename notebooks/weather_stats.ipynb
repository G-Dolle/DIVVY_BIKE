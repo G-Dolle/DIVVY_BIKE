{
 "cells": [
  {
   "cell_type": "code",
   "execution_count": 1,
   "metadata": {},
   "outputs": [
    {
     "data": {
      "text/plain": [
       "'/home/gdolle/code/G-Dolle/DIVVY_BIKE/notebooks'"
      ]
     },
     "execution_count": 1,
     "metadata": {},
     "output_type": "execute_result"
    }
   ],
   "source": [
    "pwd"
   ]
  },
  {
   "cell_type": "code",
   "execution_count": 2,
   "metadata": {},
   "outputs": [
    {
     "name": "stdout",
     "output_type": "stream",
     "text": [
      "/home/gdolle/code/G-Dolle/DIVVY_BIKE\n"
     ]
    }
   ],
   "source": [
    "cd '/home/gdolle/code/G-Dolle/DIVVY_BIKE'"
   ]
  },
  {
   "cell_type": "code",
   "execution_count": 3,
   "metadata": {},
   "outputs": [],
   "source": [
    "import os\n",
    "import pandas as pd\n",
    "\n",
    "from divvy.ml_logic.data_import import get_divvy_data, get_weather_data\n",
    "from divvy.ml_logic.cleaning import compute_geohash_stations,weather_cleaning, cleaning_divvy_gen,cleaning_divvy_gen_agg, merge_divvy_weather, features_target\n",
    "from divvy.ml_logic.preprocessor import transform_time_features, preprocess_features, target_process\n",
    "\n"
   ]
  },
  {
   "cell_type": "code",
   "execution_count": 4,
   "metadata": {},
   "outputs": [],
   "source": [
    "raw_weather_df = get_weather_data()\n",
    "clean_weather_df = weather_cleaning(raw_weather_df)\n",
    "\n",
    "divvy_q1_2021 = get_divvy_data(2021,\"Q1\")\n",
    "\n",
    "divvy_q2_2021 = get_divvy_data(2021,\"Q2\")\n",
    "divvy_q3_2021 = get_divvy_data(2021,\"Q3\")\n",
    "divvy_q4_2021 = get_divvy_data(2021,\"Q4\")\n"
   ]
  },
  {
   "cell_type": "code",
   "execution_count": 5,
   "metadata": {},
   "outputs": [],
   "source": [
    "#divvy_jan_2021 = pd.read_csv(\"raw_data/2021/202101-divvy-tripdata.csv\")\n",
    "#divvy_feb_2021 = pd.read_csv(\"raw_data/2021/202102-divvy-tripdata.csv\")\n",
    "#divvy_mar_2021 = pd.read_csv(\"raw_data/2021/202103-divvy-tripdata.csv\")"
   ]
  },
  {
   "cell_type": "code",
   "execution_count": 6,
   "metadata": {},
   "outputs": [],
   "source": [
    "#divvy_q1_2021 = pd.concat([divvy_jan_2021, divvy_feb_2021,divvy_mar_2021])\n",
    "#divvy_q1_2021.to_csv(\"raw_data/2021/Divvy_Trips_2021_Q1.csv\", index=False)"
   ]
  },
  {
   "cell_type": "code",
   "execution_count": 7,
   "metadata": {},
   "outputs": [
    {
     "name": "stderr",
     "output_type": "stream",
     "text": [
      "/home/gdolle/code/G-Dolle/DIVVY_BIKE/divvy/ml_logic/cleaning.py:24: SettingWithCopyWarning: \n",
      "A value is trying to be set on a copy of a slice from a DataFrame\n",
      "\n",
      "See the caveats in the documentation: https://pandas.pydata.org/pandas-docs/stable/user_guide/indexing.html#returning-a-view-versus-a-copy\n",
      "  df_stations_reduced.rename(columns={\"name\":\"station_name\"}, inplace=True)\n"
     ]
    }
   ],
   "source": [
    "rides_df = pd.concat([divvy_q1_2021,divvy_q2_2021, divvy_q3_2021,divvy_q4_2021])\n",
    "\n",
    "rides_df = rides_df[rides_df[\"start_station_name\"].isnull()==False]\n",
    "rides_df['started_at']=pd.to_datetime(rides_df['started_at'])\n",
    "rides_df['hourly_data_started'] = rides_df.started_at.dt.round('60min')\n",
    "\n",
    "rides_df = rides_df[[\"start_station_name\",\"ride_id\",\"hourly_data_started\"]]\n",
    "rides_df.rename(columns={\"start_station_name\":\"station_name\"}, inplace=True)\n",
    "\n",
    "\n",
    "precision_level= int(os.environ.get(\"PRECISION_LEVEL\"))\n",
    "geohash_station_df = compute_geohash_stations(precision = precision_level)\n",
    "\n",
    "rides_df = rides_df.merge(geohash_station_df, on=\"station_name\", how=\"left\")\n",
    "\n",
    "rides_df[\"date\"]= pd.to_datetime(rides_df[\"hourly_data_started\"]).dt.date\n",
    "rides_df[\"nb_rides\"]=1\n",
    "\n",
    "rides_df_daily_geohash = rides_df.groupby(by=[\"geohash\",\"date\"])[\"nb_rides\"].sum().reset_index()\n",
    "rides_df_daily = rides_df.groupby(by=[\"date\"])[\"nb_rides\"].sum().reset_index()"
   ]
  },
  {
   "cell_type": "code",
   "execution_count": 8,
   "metadata": {},
   "outputs": [
    {
     "data": {
      "text/html": [
       "<div>\n",
       "<style scoped>\n",
       "    .dataframe tbody tr th:only-of-type {\n",
       "        vertical-align: middle;\n",
       "    }\n",
       "\n",
       "    .dataframe tbody tr th {\n",
       "        vertical-align: top;\n",
       "    }\n",
       "\n",
       "    .dataframe thead th {\n",
       "        text-align: right;\n",
       "    }\n",
       "</style>\n",
       "<table border=\"1\" class=\"dataframe\">\n",
       "  <thead>\n",
       "    <tr style=\"text-align: right;\">\n",
       "      <th></th>\n",
       "      <th>date</th>\n",
       "      <th>nb_rides</th>\n",
       "    </tr>\n",
       "  </thead>\n",
       "  <tbody>\n",
       "    <tr>\n",
       "      <th>0</th>\n",
       "      <td>2021-01-01</td>\n",
       "      <td>948</td>\n",
       "    </tr>\n",
       "    <tr>\n",
       "      <th>1</th>\n",
       "      <td>2021-01-02</td>\n",
       "      <td>2086</td>\n",
       "    </tr>\n",
       "    <tr>\n",
       "      <th>2</th>\n",
       "      <td>2021-01-03</td>\n",
       "      <td>2236</td>\n",
       "    </tr>\n",
       "    <tr>\n",
       "      <th>3</th>\n",
       "      <td>2021-01-04</td>\n",
       "      <td>2946</td>\n",
       "    </tr>\n",
       "    <tr>\n",
       "      <th>4</th>\n",
       "      <td>2021-01-05</td>\n",
       "      <td>3539</td>\n",
       "    </tr>\n",
       "  </tbody>\n",
       "</table>\n",
       "</div>"
      ],
      "text/plain": [
       "         date  nb_rides\n",
       "0  2021-01-01       948\n",
       "1  2021-01-02      2086\n",
       "2  2021-01-03      2236\n",
       "3  2021-01-04      2946\n",
       "4  2021-01-05      3539"
      ]
     },
     "execution_count": 8,
     "metadata": {},
     "output_type": "execute_result"
    }
   ],
   "source": [
    "rides_df_daily.head(5)"
   ]
  },
  {
   "cell_type": "code",
   "execution_count": 9,
   "metadata": {},
   "outputs": [
    {
     "data": {
      "text/plain": [
       "(366, 2)"
      ]
     },
     "execution_count": 9,
     "metadata": {},
     "output_type": "execute_result"
    }
   ],
   "source": [
    "rides_df_daily.shape"
   ]
  },
  {
   "cell_type": "code",
   "execution_count": 10,
   "metadata": {},
   "outputs": [
    {
     "data": {
      "text/html": [
       "<div>\n",
       "<style scoped>\n",
       "    .dataframe tbody tr th:only-of-type {\n",
       "        vertical-align: middle;\n",
       "    }\n",
       "\n",
       "    .dataframe tbody tr th {\n",
       "        vertical-align: top;\n",
       "    }\n",
       "\n",
       "    .dataframe thead th {\n",
       "        text-align: right;\n",
       "    }\n",
       "</style>\n",
       "<table border=\"1\" class=\"dataframe\">\n",
       "  <thead>\n",
       "    <tr style=\"text-align: right;\">\n",
       "      <th></th>\n",
       "      <th>geohash</th>\n",
       "      <th>date</th>\n",
       "      <th>nb_rides</th>\n",
       "    </tr>\n",
       "  </thead>\n",
       "  <tbody>\n",
       "    <tr>\n",
       "      <th>0</th>\n",
       "      <td>dp3sy</td>\n",
       "      <td>2021-03-10</td>\n",
       "      <td>1</td>\n",
       "    </tr>\n",
       "    <tr>\n",
       "      <th>1</th>\n",
       "      <td>dp3sy</td>\n",
       "      <td>2021-03-15</td>\n",
       "      <td>1</td>\n",
       "    </tr>\n",
       "    <tr>\n",
       "      <th>2</th>\n",
       "      <td>dp3sy</td>\n",
       "      <td>2021-03-20</td>\n",
       "      <td>1</td>\n",
       "    </tr>\n",
       "    <tr>\n",
       "      <th>3</th>\n",
       "      <td>dp3sy</td>\n",
       "      <td>2021-03-21</td>\n",
       "      <td>1</td>\n",
       "    </tr>\n",
       "    <tr>\n",
       "      <th>4</th>\n",
       "      <td>dp3sy</td>\n",
       "      <td>2021-03-22</td>\n",
       "      <td>2</td>\n",
       "    </tr>\n",
       "  </tbody>\n",
       "</table>\n",
       "</div>"
      ],
      "text/plain": [
       "  geohash        date  nb_rides\n",
       "0   dp3sy  2021-03-10         1\n",
       "1   dp3sy  2021-03-15         1\n",
       "2   dp3sy  2021-03-20         1\n",
       "3   dp3sy  2021-03-21         1\n",
       "4   dp3sy  2021-03-22         2"
      ]
     },
     "execution_count": 10,
     "metadata": {},
     "output_type": "execute_result"
    }
   ],
   "source": [
    "rides_df_daily_geohash.head(5)"
   ]
  },
  {
   "cell_type": "code",
   "execution_count": 11,
   "metadata": {},
   "outputs": [
    {
     "data": {
      "text/plain": [
       "(12585, 3)"
      ]
     },
     "execution_count": 11,
     "metadata": {},
     "output_type": "execute_result"
    }
   ],
   "source": [
    "rides_df_daily_geohash.shape"
   ]
  },
  {
   "cell_type": "markdown",
   "metadata": {},
   "source": []
  },
  {
   "cell_type": "code",
   "execution_count": 12,
   "metadata": {},
   "outputs": [
    {
     "name": "stderr",
     "output_type": "stream",
     "text": [
      "/tmp/ipykernel_30586/3525036496.py:2: FutureWarning: Indexing with multiple keys (implicitly converted to a tuple of keys) will be deprecated, use a list instead.\n",
      "  avg_weather_df = clean_weather_df.groupby(by=[\"date\"])[\"temp\",\n"
     ]
    }
   ],
   "source": [
    "clean_weather_df[\"date\"]= pd.to_datetime(clean_weather_df[\"hourly_data\"]).dt.date\n",
    "avg_weather_df = clean_weather_df.groupby(by=[\"date\"])[\"temp\",\n",
    "                                                    \"pressure\",\n",
    "                                                    'humidity',\n",
    "                                                    'wind_speed',\n",
    "                                                    'wind_deg',\n",
    "                                                    \"clouds_all\"].mean().reset_index()"
   ]
  },
  {
   "cell_type": "code",
   "execution_count": 13,
   "metadata": {},
   "outputs": [
    {
     "data": {
      "text/html": [
       "<div>\n",
       "<style scoped>\n",
       "    .dataframe tbody tr th:only-of-type {\n",
       "        vertical-align: middle;\n",
       "    }\n",
       "\n",
       "    .dataframe tbody tr th {\n",
       "        vertical-align: top;\n",
       "    }\n",
       "\n",
       "    .dataframe thead th {\n",
       "        text-align: right;\n",
       "    }\n",
       "</style>\n",
       "<table border=\"1\" class=\"dataframe\">\n",
       "  <thead>\n",
       "    <tr style=\"text-align: right;\">\n",
       "      <th></th>\n",
       "      <th>date</th>\n",
       "      <th>temp</th>\n",
       "      <th>pressure</th>\n",
       "      <th>humidity</th>\n",
       "      <th>wind_speed</th>\n",
       "      <th>wind_deg</th>\n",
       "      <th>clouds_all</th>\n",
       "    </tr>\n",
       "  </thead>\n",
       "  <tbody>\n",
       "    <tr>\n",
       "      <th>0</th>\n",
       "      <td>2013-01-01</td>\n",
       "      <td>-5.561667</td>\n",
       "      <td>1020.791667</td>\n",
       "      <td>55.458333</td>\n",
       "      <td>3.826250</td>\n",
       "      <td>313.333333</td>\n",
       "      <td>65.833333</td>\n",
       "    </tr>\n",
       "    <tr>\n",
       "      <th>1</th>\n",
       "      <td>2013-01-02</td>\n",
       "      <td>-6.889583</td>\n",
       "      <td>1021.875000</td>\n",
       "      <td>53.291667</td>\n",
       "      <td>3.509583</td>\n",
       "      <td>245.000000</td>\n",
       "      <td>22.916667</td>\n",
       "    </tr>\n",
       "    <tr>\n",
       "      <th>2</th>\n",
       "      <td>2013-01-03</td>\n",
       "      <td>-3.463750</td>\n",
       "      <td>1020.750000</td>\n",
       "      <td>67.250000</td>\n",
       "      <td>5.002083</td>\n",
       "      <td>243.333333</td>\n",
       "      <td>76.458333</td>\n",
       "    </tr>\n",
       "    <tr>\n",
       "      <th>3</th>\n",
       "      <td>2013-01-04</td>\n",
       "      <td>-4.640833</td>\n",
       "      <td>1023.541667</td>\n",
       "      <td>66.458333</td>\n",
       "      <td>6.167917</td>\n",
       "      <td>249.166667</td>\n",
       "      <td>12.291667</td>\n",
       "    </tr>\n",
       "    <tr>\n",
       "      <th>4</th>\n",
       "      <td>2013-01-05</td>\n",
       "      <td>-1.201250</td>\n",
       "      <td>1022.083333</td>\n",
       "      <td>71.166667</td>\n",
       "      <td>4.327083</td>\n",
       "      <td>217.083333</td>\n",
       "      <td>30.000000</td>\n",
       "    </tr>\n",
       "  </tbody>\n",
       "</table>\n",
       "</div>"
      ],
      "text/plain": [
       "         date      temp     pressure   humidity  wind_speed    wind_deg  \\\n",
       "0  2013-01-01 -5.561667  1020.791667  55.458333    3.826250  313.333333   \n",
       "1  2013-01-02 -6.889583  1021.875000  53.291667    3.509583  245.000000   \n",
       "2  2013-01-03 -3.463750  1020.750000  67.250000    5.002083  243.333333   \n",
       "3  2013-01-04 -4.640833  1023.541667  66.458333    6.167917  249.166667   \n",
       "4  2013-01-05 -1.201250  1022.083333  71.166667    4.327083  217.083333   \n",
       "\n",
       "   clouds_all  \n",
       "0   65.833333  \n",
       "1   22.916667  \n",
       "2   76.458333  \n",
       "3   12.291667  \n",
       "4   30.000000  "
      ]
     },
     "execution_count": 13,
     "metadata": {},
     "output_type": "execute_result"
    }
   ],
   "source": [
    "avg_weather_df.head(5)"
   ]
  },
  {
   "cell_type": "code",
   "execution_count": 14,
   "metadata": {},
   "outputs": [],
   "source": [
    "rides_df_daily_geohash.to_csv(\"raw_data/rides_df_daily_geohash_2021.csv\", index=False)\n",
    "\n",
    "rides_df_daily.to_csv(\"raw_data/rides_df_daily_2021.csv\", index=False)\n",
    "avg_weather_df.to_csv(\"raw_data/avg_temp.csv\", index=False)"
   ]
  },
  {
   "cell_type": "code",
   "execution_count": 15,
   "metadata": {},
   "outputs": [],
   "source": [
    "import matplotlib.pyplot as plt"
   ]
  },
  {
   "cell_type": "code",
   "execution_count": 51,
   "metadata": {},
   "outputs": [],
   "source": [
    "def timeframe_df(df,timevariable,start_time,end_time):\n",
    "\n",
    "    condition_1 = df[timevariable] >= pd.to_datetime(start_time)\n",
    "    condition_2 = df[timevariable] <= pd.to_datetime(end_time)\n",
    "\n",
    "    df_red = df[condition_1]\n",
    "    df_red = df_red[condition_2]\n",
    "\n",
    "    return df_red\n",
    "\n",
    "def plot_rides_geohash(start_time,end_time,df_divvy,\n",
    "                       df_weather,timevariable,\n",
    "                       geohash,weather_metric):\n",
    "\n",
    "    df_divvy_red = timeframe_df(df_divvy,timevariable,start_time,end_time)\n",
    "    df_weather_red = timeframe_df(df_weather,timevariable,start_time,end_time)\n",
    "\n",
    "    df_divvy_red = df_divvy_red[df_divvy_red[\"geohash\"]==geohash]\n",
    "    df_weather_red = df_weather_red[[timevariable,weather_metric]]\n",
    "\n",
    "    fig, ax1 = plt.subplots()\n",
    "\n",
    "    ax2 = ax1.twinx()\n",
    "    ax1.plot(df_divvy_red[timevariable],df_divvy_red.nb_rides, 'g-')\n",
    "    ax2.plot(df_weather_red[timevariable],df_weather_red[weather_metric], 'b-')\n",
    "\n",
    "    ax1.set_xlabel('Time')\n",
    "    ax1.set_ylabel('Total nb of rides per day', color='g')\n",
    "    ax2.set_ylabel(f'{weather_metric}', color='b')\n",
    "\n",
    "    return fig\n",
    "\n",
    "\n",
    "def plot_rides_all(start_time,end_time,df_divvy,\n",
    "                       df_weather,timevariable,\n",
    "                       weather_metric):\n",
    "\n",
    "    df_divvy_red = timeframe_df(df_divvy,timevariable,start_time,end_time)\n",
    "    df_weather_red = timeframe_df(df_weather,timevariable,start_time,end_time)\n",
    "\n",
    "    df_weather_red = df_weather_red[[timevariable,weather_metric]]\n",
    "\n",
    "    fig, ax1 = plt.subplots()\n",
    "\n",
    "    ax2 = ax1.twinx()\n",
    "    ax1.plot(df_divvy_red[timevariable],df_divvy_red.nb_rides, 'g-')\n",
    "    ax2.plot(df_weather_red[timevariable],df_weather_red[weather_metric], 'b-')\n",
    "\n",
    "    ax1.set_xlabel('Time')\n",
    "    ax1.set_ylabel('Total nb of rides per day', color='g')\n",
    "    ax2.set_ylabel(f'{weather_metric}', color='b')\n",
    "\n",
    "    return fig"
   ]
  },
  {
   "cell_type": "code",
   "execution_count": 17,
   "metadata": {},
   "outputs": [],
   "source": [
    "start_time = \"2021-01-01\"\n",
    "end_time = \"2021-12-31\"\n",
    "timevariable=\"date\"\n",
    "geohash = \"dp3wm\"\n",
    "weather_metric=\"temp\""
   ]
  },
  {
   "cell_type": "code",
   "execution_count": 18,
   "metadata": {},
   "outputs": [
    {
     "name": "stderr",
     "output_type": "stream",
     "text": [
      "/tmp/ipykernel_30586/921158818.py:3: FutureWarning: Comparison of Timestamp with datetime.date is deprecated in order to match the standard library behavior. In a future version these will be considered non-comparable. Use 'ts == pd.Timestamp(date)' or 'ts.date() == date' instead.\n",
      "  condition_1 = df[timevariable] >= pd.to_datetime(start_time)\n",
      "/tmp/ipykernel_30586/921158818.py:4: FutureWarning: Comparison of Timestamp with datetime.date is deprecated in order to match the standard library behavior. In a future version these will be considered non-comparable. Use 'ts == pd.Timestamp(date)' or 'ts.date() == date' instead.\n",
      "  condition_2 = df[timevariable] <= pd.to_datetime(end_time)\n",
      "/tmp/ipykernel_30586/921158818.py:7: UserWarning: Boolean Series key will be reindexed to match DataFrame index.\n",
      "  df_red = df_red[condition_2]\n"
     ]
    },
    {
     "data": {
      "image/png": "[encoded data removed]",
      "text/plain": [
       "<Figure size 640x480 with 2 Axes>"
      ]
     },
     "metadata": {},
     "output_type": "display_data"
    }
   ],
   "source": [
    "fig=plot_rides_geohash(start_time,end_time,\n",
    "                       rides_df_daily_geohash,avg_weather_df,\n",
    "                       timevariable,geohash,\n",
    "                       weather_metric)\n"
   ]
  },
  {
   "cell_type": "code",
   "execution_count": 52,
   "metadata": {},
   "outputs": [
    {
     "name": "stderr",
     "output_type": "stream",
     "text": [
      "/tmp/ipykernel_30586/4043943131.py:3: FutureWarning: Comparison of Timestamp with datetime.date is deprecated in order to match the standard library behavior. In a future version these will be considered non-comparable. Use 'ts == pd.Timestamp(date)' or 'ts.date() == date' instead.\n",
      "  condition_1 = df[timevariable] >= pd.to_datetime(start_time)\n",
      "/tmp/ipykernel_30586/4043943131.py:4: FutureWarning: Comparison of Timestamp with datetime.date is deprecated in order to match the standard library behavior. In a future version these will be considered non-comparable. Use 'ts == pd.Timestamp(date)' or 'ts.date() == date' instead.\n",
      "  condition_2 = df[timevariable] <= pd.to_datetime(end_time)\n",
      "/tmp/ipykernel_30586/4043943131.py:7: UserWarning: Boolean Series key will be reindexed to match DataFrame index.\n",
      "  df_red = df_red[condition_2]\n"
     ]
    },
    {
     "ename": "AttributeError",
     "evalue": "'AxesSubplot' object has no attribute 'sns'",
     "output_type": "error",
     "traceback": [
      "\u001b[0;31m---------------------------------------------------------------------------\u001b[0m",
      "\u001b[0;31mAttributeError\u001b[0m                            Traceback (most recent call last)",
      "Cell \u001b[0;32mIn[52], line 1\u001b[0m\n\u001b[0;32m----> 1\u001b[0m fig2\u001b[39m=\u001b[39mplot_rides_all(start_time,end_time,\n\u001b[1;32m      2\u001b[0m                        rides_df_daily,avg_weather_df,\n\u001b[1;32m      3\u001b[0m                        timevariable,\n\u001b[1;32m      4\u001b[0m                        weather_metric)\n",
      "Cell \u001b[0;32mIn[51], line 46\u001b[0m, in \u001b[0;36mplot_rides_all\u001b[0;34m(start_time, end_time, df_divvy, df_weather, timevariable, weather_metric)\u001b[0m\n\u001b[1;32m     43\u001b[0m fig, ax1 \u001b[39m=\u001b[39m plt\u001b[39m.\u001b[39msubplots()\n\u001b[1;32m     45\u001b[0m ax2 \u001b[39m=\u001b[39m ax1\u001b[39m.\u001b[39mtwinx()\n\u001b[0;32m---> 46\u001b[0m ax1\u001b[39m.\u001b[39;49msns\u001b[39m.\u001b[39mlineplot(df_divvy_red[timevariable],df_divvy_red\u001b[39m.\u001b[39mnb_rides, \u001b[39m'\u001b[39m\u001b[39mg-\u001b[39m\u001b[39m'\u001b[39m)\n\u001b[1;32m     47\u001b[0m ax2\u001b[39m.\u001b[39msns\u001b[39m.\u001b[39mlineplot(df_weather_red[timevariable],df_weather_red[weather_metric], \u001b[39m'\u001b[39m\u001b[39mb-\u001b[39m\u001b[39m'\u001b[39m)\n\u001b[1;32m     49\u001b[0m ax1\u001b[39m.\u001b[39mset_xlabel(\u001b[39m'\u001b[39m\u001b[39mTime\u001b[39m\u001b[39m'\u001b[39m)\n",
      "\u001b[0;31mAttributeError\u001b[0m: 'AxesSubplot' object has no attribute 'sns'"
     ]
    },
    {
     "data": {
      "image/png": "[encoded data removed]",
      "text/plain": [
       "<Figure size 640x480 with 2 Axes>"
      ]
     },
     "metadata": {},
     "output_type": "display_data"
    }
   ],
   "source": [
    "fig2=plot_rides_all(start_time,end_time,\n",
    "                       rides_df_daily,avg_weather_df,\n",
    "                       timevariable,\n",
    "                       weather_metric)"
   ]
  },
  {
   "cell_type": "code",
   "execution_count": 20,
   "metadata": {},
   "outputs": [
    {
     "data": {
      "text/plain": [
       "Index(['date', 'temp', 'pressure', 'humidity', 'wind_speed', 'wind_deg',\n",
       "       'clouds_all'],\n",
       "      dtype='object')"
      ]
     },
     "execution_count": 20,
     "metadata": {},
     "output_type": "execute_result"
    }
   ],
   "source": [
    "avg_weather_df.columns"
   ]
  },
  {
   "cell_type": "code",
   "execution_count": 21,
   "metadata": {},
   "outputs": [],
   "source": [
    "rides_df_daily = rides_df_daily.merge(avg_weather_df, on=\"date\", how=\"left\")\n"
   ]
  },
  {
   "cell_type": "code",
   "execution_count": 22,
   "metadata": {},
   "outputs": [
    {
     "data": {
      "text/html": [
       "<div>\n",
       "<style scoped>\n",
       "    .dataframe tbody tr th:only-of-type {\n",
       "        vertical-align: middle;\n",
       "    }\n",
       "\n",
       "    .dataframe tbody tr th {\n",
       "        vertical-align: top;\n",
       "    }\n",
       "\n",
       "    .dataframe thead th {\n",
       "        text-align: right;\n",
       "    }\n",
       "</style>\n",
       "<table border=\"1\" class=\"dataframe\">\n",
       "  <thead>\n",
       "    <tr style=\"text-align: right;\">\n",
       "      <th></th>\n",
       "      <th>date</th>\n",
       "      <th>nb_rides</th>\n",
       "      <th>temp</th>\n",
       "      <th>pressure</th>\n",
       "      <th>humidity</th>\n",
       "      <th>wind_speed</th>\n",
       "      <th>wind_deg</th>\n",
       "      <th>clouds_all</th>\n",
       "    </tr>\n",
       "  </thead>\n",
       "  <tbody>\n",
       "    <tr>\n",
       "      <th>0</th>\n",
       "      <td>2021-01-01</td>\n",
       "      <td>948</td>\n",
       "      <td>-1.328750</td>\n",
       "      <td>1021.875000</td>\n",
       "      <td>82.541667</td>\n",
       "      <td>7.308333</td>\n",
       "      <td>95.416667</td>\n",
       "      <td>85.208333</td>\n",
       "    </tr>\n",
       "    <tr>\n",
       "      <th>1</th>\n",
       "      <td>2021-01-02</td>\n",
       "      <td>2086</td>\n",
       "      <td>0.635417</td>\n",
       "      <td>1016.125000</td>\n",
       "      <td>89.541667</td>\n",
       "      <td>7.054167</td>\n",
       "      <td>279.583333</td>\n",
       "      <td>100.000000</td>\n",
       "    </tr>\n",
       "    <tr>\n",
       "      <th>2</th>\n",
       "      <td>2021-01-03</td>\n",
       "      <td>2236</td>\n",
       "      <td>0.512917</td>\n",
       "      <td>1015.458333</td>\n",
       "      <td>90.208333</td>\n",
       "      <td>4.433333</td>\n",
       "      <td>234.583333</td>\n",
       "      <td>100.000000</td>\n",
       "    </tr>\n",
       "    <tr>\n",
       "      <th>3</th>\n",
       "      <td>2021-01-04</td>\n",
       "      <td>2946</td>\n",
       "      <td>-2.283750</td>\n",
       "      <td>1016.375000</td>\n",
       "      <td>88.500000</td>\n",
       "      <td>6.129167</td>\n",
       "      <td>206.250000</td>\n",
       "      <td>100.000000</td>\n",
       "    </tr>\n",
       "    <tr>\n",
       "      <th>4</th>\n",
       "      <td>2021-01-05</td>\n",
       "      <td>3539</td>\n",
       "      <td>-0.260417</td>\n",
       "      <td>1017.375000</td>\n",
       "      <td>86.875000</td>\n",
       "      <td>5.125000</td>\n",
       "      <td>287.500000</td>\n",
       "      <td>95.416667</td>\n",
       "    </tr>\n",
       "  </tbody>\n",
       "</table>\n",
       "</div>"
      ],
      "text/plain": [
       "         date  nb_rides      temp     pressure   humidity  wind_speed  \\\n",
       "0  2021-01-01       948 -1.328750  1021.875000  82.541667    7.308333   \n",
       "1  2021-01-02      2086  0.635417  1016.125000  89.541667    7.054167   \n",
       "2  2021-01-03      2236  0.512917  1015.458333  90.208333    4.433333   \n",
       "3  2021-01-04      2946 -2.283750  1016.375000  88.500000    6.129167   \n",
       "4  2021-01-05      3539 -0.260417  1017.375000  86.875000    5.125000   \n",
       "\n",
       "     wind_deg  clouds_all  \n",
       "0   95.416667   85.208333  \n",
       "1  279.583333  100.000000  \n",
       "2  234.583333  100.000000  \n",
       "3  206.250000  100.000000  \n",
       "4  287.500000   95.416667  "
      ]
     },
     "execution_count": 22,
     "metadata": {},
     "output_type": "execute_result"
    }
   ],
   "source": [
    "rides_df_daily.head()"
   ]
  },
  {
   "cell_type": "code",
   "execution_count": null,
   "metadata": {},
   "outputs": [],
   "source": []
  },
  {
   "cell_type": "code",
   "execution_count": 23,
   "metadata": {},
   "outputs": [
    {
     "data": {
      "text/plain": [
       "3    92\n",
       "4    92\n",
       "1    91\n",
       "2    91\n",
       "Name: quarter, dtype: int64"
      ]
     },
     "execution_count": 23,
     "metadata": {},
     "output_type": "execute_result"
    }
   ],
   "source": [
    "rides_df_daily[\"quarter\"]= pd.to_datetime(rides_df_daily[\"date\"]).dt.quarter \n",
    "rides_df_daily.quarter.value_counts()"
   ]
  },
  {
   "cell_type": "code",
   "execution_count": 24,
   "metadata": {},
   "outputs": [
    {
     "name": "stderr",
     "output_type": "stream",
     "text": [
      "/tmp/ipykernel_30586/1594237106.py:1: FutureWarning: Indexing with multiple keys (implicitly converted to a tuple of keys) will be deprecated, use a list instead.\n",
      "  rides_df_quarterly = rides_df_daily.groupby(by=[\"quarter\"])[\"nb_rides\",\"temp\"].mean().reset_index()\n"
     ]
    },
    {
     "data": {
      "text/html": [
       "<div>\n",
       "<style scoped>\n",
       "    .dataframe tbody tr th:only-of-type {\n",
       "        vertical-align: middle;\n",
       "    }\n",
       "\n",
       "    .dataframe tbody tr th {\n",
       "        vertical-align: top;\n",
       "    }\n",
       "\n",
       "    .dataframe thead th {\n",
       "        text-align: right;\n",
       "    }\n",
       "</style>\n",
       "<table border=\"1\" class=\"dataframe\">\n",
       "  <thead>\n",
       "    <tr style=\"text-align: right;\">\n",
       "      <th></th>\n",
       "      <th>quarter</th>\n",
       "      <th>nb_rides</th>\n",
       "      <th>temp</th>\n",
       "    </tr>\n",
       "  </thead>\n",
       "  <tbody>\n",
       "    <tr>\n",
       "      <th>0</th>\n",
       "      <td>1</td>\n",
       "      <td>3818.483516</td>\n",
       "      <td>-0.052587</td>\n",
       "    </tr>\n",
       "    <tr>\n",
       "      <th>1</th>\n",
       "      <td>2</td>\n",
       "      <td>15806.494505</td>\n",
       "      <td>16.417999</td>\n",
       "    </tr>\n",
       "    <tr>\n",
       "      <th>2</th>\n",
       "      <td>3</td>\n",
       "      <td>22979.315217</td>\n",
       "      <td>23.516445</td>\n",
       "    </tr>\n",
       "    <tr>\n",
       "      <th>3</th>\n",
       "      <td>4</td>\n",
       "      <td>10916.130435</td>\n",
       "      <td>8.173139</td>\n",
       "    </tr>\n",
       "  </tbody>\n",
       "</table>\n",
       "</div>"
      ],
      "text/plain": [
       "   quarter      nb_rides       temp\n",
       "0        1   3818.483516  -0.052587\n",
       "1        2  15806.494505  16.417999\n",
       "2        3  22979.315217  23.516445\n",
       "3        4  10916.130435   8.173139"
      ]
     },
     "execution_count": 24,
     "metadata": {},
     "output_type": "execute_result"
    }
   ],
   "source": [
    "rides_df_quarterly = rides_df_daily.groupby(by=[\"quarter\"])[\"nb_rides\",\"temp\"].mean().reset_index()\n",
    "rides_df_quarterly"
   ]
  },
  {
   "cell_type": "code",
   "execution_count": 25,
   "metadata": {},
   "outputs": [
    {
     "name": "stderr",
     "output_type": "stream",
     "text": [
      "/tmp/ipykernel_30586/774654409.py:2: SettingWithCopyWarning: \n",
      "A value is trying to be set on a copy of a slice from a DataFrame\n",
      "\n",
      "See the caveats in the documentation: https://pandas.pydata.org/pandas-docs/stable/user_guide/indexing.html#returning-a-view-versus-a-copy\n",
      "  rides_df_quarterly_1.rename(columns={\"nb_rides\":\"value\"}, inplace=True)\n",
      "/tmp/ipykernel_30586/774654409.py:6: SettingWithCopyWarning: \n",
      "A value is trying to be set on a copy of a slice from a DataFrame\n",
      "\n",
      "See the caveats in the documentation: https://pandas.pydata.org/pandas-docs/stable/user_guide/indexing.html#returning-a-view-versus-a-copy\n",
      "  rides_df_quarterly_2.rename(columns={\"temp\":\"value\"}, inplace=True)\n"
     ]
    },
    {
     "data": {
      "text/html": [
       "<div>\n",
       "<style scoped>\n",
       "    .dataframe tbody tr th:only-of-type {\n",
       "        vertical-align: middle;\n",
       "    }\n",
       "\n",
       "    .dataframe tbody tr th {\n",
       "        vertical-align: top;\n",
       "    }\n",
       "\n",
       "    .dataframe thead th {\n",
       "        text-align: right;\n",
       "    }\n",
       "</style>\n",
       "<table border=\"1\" class=\"dataframe\">\n",
       "  <thead>\n",
       "    <tr style=\"text-align: right;\">\n",
       "      <th></th>\n",
       "      <th>quarter</th>\n",
       "      <th>value</th>\n",
       "      <th>metric</th>\n",
       "    </tr>\n",
       "  </thead>\n",
       "  <tbody>\n",
       "    <tr>\n",
       "      <th>0</th>\n",
       "      <td>1</td>\n",
       "      <td>3818.483516</td>\n",
       "      <td>nb_rides</td>\n",
       "    </tr>\n",
       "    <tr>\n",
       "      <th>1</th>\n",
       "      <td>2</td>\n",
       "      <td>15806.494505</td>\n",
       "      <td>nb_rides</td>\n",
       "    </tr>\n",
       "    <tr>\n",
       "      <th>2</th>\n",
       "      <td>3</td>\n",
       "      <td>22979.315217</td>\n",
       "      <td>nb_rides</td>\n",
       "    </tr>\n",
       "    <tr>\n",
       "      <th>3</th>\n",
       "      <td>4</td>\n",
       "      <td>10916.130435</td>\n",
       "      <td>nb_rides</td>\n",
       "    </tr>\n",
       "    <tr>\n",
       "      <th>0</th>\n",
       "      <td>1</td>\n",
       "      <td>-0.052587</td>\n",
       "      <td>temp</td>\n",
       "    </tr>\n",
       "    <tr>\n",
       "      <th>1</th>\n",
       "      <td>2</td>\n",
       "      <td>16.417999</td>\n",
       "      <td>temp</td>\n",
       "    </tr>\n",
       "    <tr>\n",
       "      <th>2</th>\n",
       "      <td>3</td>\n",
       "      <td>23.516445</td>\n",
       "      <td>temp</td>\n",
       "    </tr>\n",
       "    <tr>\n",
       "      <th>3</th>\n",
       "      <td>4</td>\n",
       "      <td>8.173139</td>\n",
       "      <td>temp</td>\n",
       "    </tr>\n",
       "  </tbody>\n",
       "</table>\n",
       "</div>"
      ],
      "text/plain": [
       "   quarter         value    metric\n",
       "0        1   3818.483516  nb_rides\n",
       "1        2  15806.494505  nb_rides\n",
       "2        3  22979.315217  nb_rides\n",
       "3        4  10916.130435  nb_rides\n",
       "0        1     -0.052587      temp\n",
       "1        2     16.417999      temp\n",
       "2        3     23.516445      temp\n",
       "3        4      8.173139      temp"
      ]
     },
     "execution_count": 25,
     "metadata": {},
     "output_type": "execute_result"
    }
   ],
   "source": [
    "rides_df_quarterly_1=rides_df_quarterly[[\"quarter\",\"nb_rides\"]]\n",
    "rides_df_quarterly_1.rename(columns={\"nb_rides\":\"value\"}, inplace=True)\n",
    "rides_df_quarterly_1[\"metric\"]=\"nb_rides\"\n",
    "\n",
    "rides_df_quarterly_2=rides_df_quarterly[[\"quarter\",\"temp\"]]\n",
    "rides_df_quarterly_2.rename(columns={\"temp\":\"value\"}, inplace=True)\n",
    "rides_df_quarterly_2[\"metric\"]=\"temp\"\n",
    "\n",
    "\n",
    "rides_df_Q_long = pd.concat([rides_df_quarterly_1,rides_df_quarterly_2])\n",
    "rides_df_Q_long"
   ]
  },
  {
   "cell_type": "code",
   "execution_count": 26,
   "metadata": {},
   "outputs": [
    {
     "data": {
      "text/plain": [
       "<AxesSubplot: xlabel='quarter', ylabel='value'>"
      ]
     },
     "execution_count": 26,
     "metadata": {},
     "output_type": "execute_result"
    },
    {
     "data": {
      "image/png": "[encoded data removed]",
      "text/plain": [
       "<Figure size 640x480 with 1 Axes>"
      ]
     },
     "metadata": {},
     "output_type": "display_data"
    }
   ],
   "source": [
    "import seaborn as sns\n",
    "\n",
    "sns.barplot(data=rides_df_Q_long, x=\"quarter\", y=\"value\", hue=\"metric\")\n"
   ]
  },
  {
   "cell_type": "code",
   "execution_count": 27,
   "metadata": {},
   "outputs": [],
   "source": [
    "import numpy as np"
   ]
  },
  {
   "cell_type": "code",
   "execution_count": 39,
   "metadata": {},
   "outputs": [],
   "source": [
    "rides_df_daily[\"nb_rides\"] = rides_df_daily[\"nb_rides\"]/1000"
   ]
  },
  {
   "cell_type": "code",
   "execution_count": 49,
   "metadata": {},
   "outputs": [
    {
     "data": {
      "text/plain": [
       "[<matplotlib.axis.YTick at 0x7f3b5c216fb0>,\n",
       " <matplotlib.axis.YTick at 0x7f3b5c216a70>,\n",
       " <matplotlib.axis.YTick at 0x7f3b5c25d3c0>,\n",
       " <matplotlib.axis.YTick at 0x7f3b5c25dcc0>]"
      ]
     },
     "execution_count": 49,
     "metadata": {},
     "output_type": "execute_result"
    },
    {
     "data": {
      "image/png": "[encoded data removed]",
      "text/plain": [
       "<Figure size 640x480 with 1 Axes>"
      ]
     },
     "metadata": {},
     "output_type": "display_data"
    }
   ],
   "source": [
    "figure_ = sns.scatterplot(data = rides_df_daily, x=\"temp\",y=\"nb_rides\")\n",
    "figure_.set_xlabel(\"Temperature (°c)\")\n",
    "figure_.set_ylabel(\"Daily number of bike rides ('000s)\")\n",
    "figure_.set_xticks(range(-20,35,10))\n",
    "figure_.set_yticks(range(0,40,10))\n"
   ]
  },
  {
   "cell_type": "code",
   "execution_count": 50,
   "metadata": {},
   "outputs": [],
   "source": [
    "figure_.figure.savefig(\"raw_data/output.png\")"
   ]
  },
  {
   "cell_type": "code",
   "execution_count": 63,
   "metadata": {},
   "outputs": [
    {
     "data": {
      "image/png": "[encoded data removed]",
      "text/plain": [
       "<Figure size 640x480 with 1 Axes>"
      ]
     },
     "metadata": {},
     "output_type": "display_data"
    }
   ],
   "source": [
    "ax1 = sns.lineplot(data=rides_df_daily, x=timevariable,y=\"nb_rides\", color='b')"
   ]
  },
  {
   "cell_type": "code",
   "execution_count": 65,
   "metadata": {},
   "outputs": [],
   "source": [
    "rides_df_MA = rides_df_daily.copy()"
   ]
  },
  {
   "cell_type": "code",
   "execution_count": 74,
   "metadata": {},
   "outputs": [],
   "source": [
    "rides_df_MA['nb_rides_MA3'] = rides_df_MA['nb_rides'].rolling(7).mean()\n",
    "rides_df_MA['temp_MA3'] = rides_df_MA['temp'].rolling(7).mean()"
   ]
  },
  {
   "cell_type": "code",
   "execution_count": 94,
   "metadata": {},
   "outputs": [
    {
     "data": {
      "text/plain": [
       "Text(0, 0.5, 'Temperature (°c)')"
      ]
     },
     "execution_count": 94,
     "metadata": {},
     "output_type": "execute_result"
    },
    {
     "data": {
      "image/png": "[encoded data removed]",
      "text/plain": [
       "<Figure size 640x480 with 2 Axes>"
      ]
     },
     "metadata": {},
     "output_type": "display_data"
    }
   ],
   "source": [
    "ax1 = sns.lineplot(data=rides_df_MA, x=timevariable,y=\"nb_rides_MA3\", color='b', legend=True)\n",
    "ax2 = ax1.twinx()\n",
    "sns.lineplot(data=rides_df_MA, x=timevariable,y=\"temp_MA3\", color='r', ax=ax2,  legend=True)\n",
    "\n",
    "ax1.set_xlabel('Time')\n",
    "ax1.set_ylabel(\"Daily number of bike rides ('000s)\", color='b')\n",
    "ax2.set_ylabel('Temperature (°c)', color='r')\n"
   ]
  },
  {
   "cell_type": "code",
   "execution_count": 82,
   "metadata": {},
   "outputs": [
    {
     "ename": "TypeError",
     "evalue": "plot got an unexpected keyword argument 'x'",
     "output_type": "error",
     "traceback": [
      "\u001b[0;31m---------------------------------------------------------------------------\u001b[0m",
      "\u001b[0;31mTypeError\u001b[0m                                 Traceback (most recent call last)",
      "Cell \u001b[0;32mIn[82], line 1\u001b[0m\n\u001b[0;32m----> 1\u001b[0m ax1\u001b[39m.\u001b[39;49mplot(data\u001b[39m=\u001b[39;49mrides_df_MA, x\u001b[39m=\u001b[39;49mtimevariable,y\u001b[39m=\u001b[39;49m\u001b[39m\"\u001b[39;49m\u001b[39mnb_rides_MA3\u001b[39;49m\u001b[39m\"\u001b[39;49m, color\u001b[39m=\u001b[39;49m\u001b[39m'\u001b[39;49m\u001b[39mb\u001b[39;49m\u001b[39m'\u001b[39;49m)\n\u001b[1;32m      2\u001b[0m ax2\u001b[39m.\u001b[39mplot(data\u001b[39m=\u001b[39mrides_df_MA, x\u001b[39m=\u001b[39mtimevariable,y\u001b[39m=\u001b[39m\u001b[39m\"\u001b[39m\u001b[39mtemp_MA3\u001b[39m\u001b[39m\"\u001b[39m, color\u001b[39m=\u001b[39m\u001b[39m'\u001b[39m\u001b[39mr\u001b[39m\u001b[39m'\u001b[39m)\n\u001b[1;32m      3\u001b[0m ax1\u001b[39m.\u001b[39mset_xlabel(\u001b[39m'\u001b[39m\u001b[39mTime\u001b[39m\u001b[39m'\u001b[39m)\n",
      "File \u001b[0;32m~/.pyenv/versions/DIVVY_BIKE/lib/python3.10/site-packages/matplotlib/axes/_axes.py:1662\u001b[0m, in \u001b[0;36mAxes.plot\u001b[0;34m(self, scalex, scaley, data, *args, **kwargs)\u001b[0m\n\u001b[1;32m   1419\u001b[0m \u001b[39m\"\"\"\u001b[39;00m\n\u001b[1;32m   1420\u001b[0m \u001b[39mPlot y versus x as lines and/or markers.\u001b[39;00m\n\u001b[1;32m   1421\u001b[0m \n\u001b[0;32m   (...)\u001b[0m\n\u001b[1;32m   1659\u001b[0m \u001b[39m(``'green'``) or hex strings (``'#008000'``).\u001b[39;00m\n\u001b[1;32m   1660\u001b[0m \u001b[39m\"\"\"\u001b[39;00m\n\u001b[1;32m   1661\u001b[0m kwargs \u001b[39m=\u001b[39m cbook\u001b[39m.\u001b[39mnormalize_kwargs(kwargs, mlines\u001b[39m.\u001b[39mLine2D)\n\u001b[0;32m-> 1662\u001b[0m lines \u001b[39m=\u001b[39m [\u001b[39m*\u001b[39m\u001b[39mself\u001b[39m\u001b[39m.\u001b[39m_get_lines(\u001b[39m*\u001b[39margs, data\u001b[39m=\u001b[39mdata, \u001b[39m*\u001b[39m\u001b[39m*\u001b[39mkwargs)]\n\u001b[1;32m   1663\u001b[0m \u001b[39mfor\u001b[39;00m line \u001b[39min\u001b[39;00m lines:\n\u001b[1;32m   1664\u001b[0m     \u001b[39mself\u001b[39m\u001b[39m.\u001b[39madd_line(line)\n",
      "File \u001b[0;32m~/.pyenv/versions/DIVVY_BIKE/lib/python3.10/site-packages/matplotlib/axes/_base.py:245\u001b[0m, in \u001b[0;36m_process_plot_var_args.__call__\u001b[0;34m(self, data, *args, **kwargs)\u001b[0m\n\u001b[1;32m    243\u001b[0m \u001b[39mfor\u001b[39;00m pos_only \u001b[39min\u001b[39;00m \u001b[39m\"\u001b[39m\u001b[39mxy\u001b[39m\u001b[39m\"\u001b[39m:\n\u001b[1;32m    244\u001b[0m     \u001b[39mif\u001b[39;00m pos_only \u001b[39min\u001b[39;00m kwargs:\n\u001b[0;32m--> 245\u001b[0m         \u001b[39mraise\u001b[39;00m \u001b[39mTypeError\u001b[39;00m(\u001b[39m\"\u001b[39m\u001b[39m{}\u001b[39;00m\u001b[39m got an unexpected keyword argument \u001b[39m\u001b[39m{!r}\u001b[39;00m\u001b[39m\"\u001b[39m\n\u001b[1;32m    246\u001b[0m                         \u001b[39m.\u001b[39mformat(\u001b[39mself\u001b[39m\u001b[39m.\u001b[39mcommand, pos_only))\n\u001b[1;32m    248\u001b[0m \u001b[39mif\u001b[39;00m \u001b[39mnot\u001b[39;00m args:\n\u001b[1;32m    249\u001b[0m     \u001b[39mreturn\u001b[39;00m\n",
      "\u001b[0;31mTypeError\u001b[0m: plot got an unexpected keyword argument 'x'"
     ]
    }
   ],
   "source": [
    "\n",
    "ax1.plot(data=rides_df_MA, x=timevariable,y=\"nb_rides_MA3\", color='b')\n",
    "ax2.plot(data=rides_df_MA, x=timevariable,y=\"temp_MA3\", color='r')\n",
    "ax1.set_xlabel('Time')\n",
    "ax1.set_ylabel('Total nb of rides per day', color='g')\n",
    "ax2.set_ylabel(f'{weather_metric}', color='b')"
   ]
  },
  {
   "cell_type": "code",
   "execution_count": 76,
   "metadata": {},
   "outputs": [
    {
     "data": {
      "text/plain": [
       "Text(0, 0.5, 'temp')"
      ]
     },
     "execution_count": 76,
     "metadata": {},
     "output_type": "execute_result"
    },
    {
     "data": {
      "image/png": "[encoded data removed]",
      "text/plain": [
       "<Figure size 640x480 with 1 Axes>"
      ]
     },
     "metadata": {},
     "output_type": "display_data"
    }
   ],
   "source": [
    "\n",
    "ax1 = sns.lineplot(data=rides_df_MA, x=timevariable,y=\"nb_rides_MA3\", color='b')\n",
    "ax2 = sns.lineplot(data=rides_df_MA, x=timevariable,y=\"temp_MA3\", color='r')\n",
    "ax1.set_xlabel('Time')\n",
    "ax1.set_ylabel('Total nb of rides per day', color='g')\n",
    "ax2.set_ylabel(f'{weather_metric}', color='b')"
   ]
  },
  {
   "cell_type": "code",
   "execution_count": 54,
   "metadata": {},
   "outputs": [
    {
     "ename": "TypeError",
     "evalue": "subplots() takes from 0 to 2 positional arguments but 3 were given",
     "output_type": "error",
     "traceback": [
      "\u001b[0;31m---------------------------------------------------------------------------\u001b[0m",
      "\u001b[0;31mTypeError\u001b[0m                                 Traceback (most recent call last)",
      "Cell \u001b[0;32mIn[54], line 1\u001b[0m\n\u001b[0;32m----> 1\u001b[0m fig, ax1 \u001b[39m=\u001b[39m plt\u001b[39m.\u001b[39;49msubplots(rides_df_daily[timevariable],rides_df_daily\u001b[39m.\u001b[39;49mnb_rides, \u001b[39m'\u001b[39;49m\u001b[39mg-\u001b[39;49m\u001b[39m'\u001b[39;49m)\n\u001b[1;32m      3\u001b[0m ax2 \u001b[39m=\u001b[39m ax1\u001b[39m.\u001b[39mtwinx()\n\u001b[1;32m      4\u001b[0m ax1\u001b[39m.\u001b[39mplot(rides_df_daily[timevariable],rides_df_daily\u001b[39m.\u001b[39mnb_rides, \u001b[39m'\u001b[39m\u001b[39mg-\u001b[39m\u001b[39m'\u001b[39m)\n",
      "\u001b[0;31mTypeError\u001b[0m: subplots() takes from 0 to 2 positional arguments but 3 were given"
     ]
    }
   ],
   "source": [
    "fig, ax1 = plt.subplots()\n",
    "\n",
    "ax2 = ax1.twinx()\n",
    "ax1.plot(rides_df_daily[timevariable],rides_df_daily.nb_rides, 'g-')\n",
    "ax2.plot(rides_df_daily[timevariable],rides_df_daily[weather_metric], 'b-')\n",
    "\n",
    "ax1.set_xlabel('Time')\n",
    "ax1.set_ylabel('Total nb of rides per day', color='g')\n",
    "ax2.set_ylabel(f'{weather_metric}', color='b')"
   ]
  },
  {
   "cell_type": "code",
   "execution_count": null,
   "metadata": {},
   "outputs": [],
   "source": [
    "conf_matrix = [[4963,3],\n",
    "[11,5]]"
   ]
  },
  {
   "cell_type": "code",
   "execution_count": null,
   "metadata": {},
   "outputs": [
    {
     "data": {
      "text/html": [
       "<div>\n",
       "<style scoped>\n",
       "    .dataframe tbody tr th:only-of-type {\n",
       "        vertical-align: middle;\n",
       "    }\n",
       "\n",
       "    .dataframe tbody tr th {\n",
       "        vertical-align: top;\n",
       "    }\n",
       "\n",
       "    .dataframe thead th {\n",
       "        text-align: right;\n",
       "    }\n",
       "</style>\n",
       "<table border=\"1\" class=\"dataframe\">\n",
       "  <thead>\n",
       "    <tr style=\"text-align: right;\">\n",
       "      <th></th>\n",
       "      <th>temp</th>\n",
       "      <th>nb_rides</th>\n",
       "    </tr>\n",
       "  </thead>\n",
       "  <tbody>\n",
       "    <tr>\n",
       "      <th>temp</th>\n",
       "      <td>4963</td>\n",
       "      <td>3</td>\n",
       "    </tr>\n",
       "    <tr>\n",
       "      <th>nb_rides</th>\n",
       "      <td>11</td>\n",
       "      <td>5</td>\n",
       "    </tr>\n",
       "  </tbody>\n",
       "</table>\n",
       "</div>"
      ],
      "text/plain": [
       "          temp  nb_rides\n",
       "temp      4963         3\n",
       "nb_rides    11         5"
      ]
     },
     "execution_count": 50,
     "metadata": {},
     "output_type": "execute_result"
    }
   ],
   "source": [
    "conf_matrix_df = pd.DataFrame(conf_matrix,columns=[\"temp\",\"nb_rides\"],index=[\"temp\",\"nb_rides\"])\n",
    "conf_matrix_df"
   ]
  },
  {
   "cell_type": "code",
   "execution_count": null,
   "metadata": {},
   "outputs": [
    {
     "data": {
      "text/plain": [
       "Text(20.749999999999993, 0.5, 'Actual')"
      ]
     },
     "execution_count": 52,
     "metadata": {},
     "output_type": "execute_result"
    },
    {
     "data": {
      "image/png": "[encoded data removed]",
      "text/plain": [
       "<Figure size 500x500 with 2 Axes>"
      ]
     },
     "metadata": {},
     "output_type": "display_data"
    }
   ],
   "source": [
    "plt.figure(figsize=(5, 5))\n",
    "sns.set(font_scale=1.5)\n",
    "\n",
    "sns.heatmap(conf_matrix_df,\n",
    "            cmap='coolwarm',\n",
    "            annot=True,\n",
    "            fmt='.5g',\n",
    "            vmax=200)\n",
    "\n",
    "plt.xlabel('Predicted',fontsize=22)\n",
    "plt.ylabel('Actual',fontsize=22)"
   ]
  },
  {
   "cell_type": "code",
   "execution_count": null,
   "metadata": {},
   "outputs": [
    {
     "ename": "SyntaxError",
     "evalue": "'break' outside loop (668683560.py, line 1)",
     "output_type": "error",
     "traceback": [
      "\u001b[0;36m  Cell \u001b[0;32mIn[22], line 1\u001b[0;36m\u001b[0m\n\u001b[0;31m    break\u001b[0m\n\u001b[0m    ^\u001b[0m\n\u001b[0;31mSyntaxError\u001b[0m\u001b[0;31m:\u001b[0m 'break' outside loop\n"
     ]
    }
   ],
   "source": [
    "break"
   ]
  },
  {
   "cell_type": "code",
   "execution_count": null,
   "metadata": {},
   "outputs": [
    {
     "name": "stderr",
     "output_type": "stream",
     "text": [
      "/home/gdolle/code/G-Dolle/DIVVY_BIKE/divvy/ml_logic/cleaning.py:24: SettingWithCopyWarning: \n",
      "A value is trying to be set on a copy of a slice from a DataFrame\n",
      "\n",
      "See the caveats in the documentation: https://pandas.pydata.org/pandas-docs/stable/user_guide/indexing.html#returning-a-view-versus-a-copy\n",
      "  df_stations_reduced.rename(columns={\"name\":\"station_name\"}, inplace=True)\n"
     ]
    }
   ],
   "source": [
    "rides_df = pd.concat([divvy_q1_2021,divvy_q2_2021, divvy_q3_2021,divvy_q4_2021])\n",
    "clean_divvy_df = cleaning_divvy_gen_agg(rides_df)\n",
    "merged_df = merge_divvy_weather(clean_divvy_df, clean_weather_df)\n"
   ]
  },
  {
   "cell_type": "code",
   "execution_count": null,
   "metadata": {},
   "outputs": [
    {
     "data": {
      "text/plain": [
       "(172569, 13)"
      ]
     },
     "execution_count": 35,
     "metadata": {},
     "output_type": "execute_result"
    }
   ],
   "source": [
    "merged_df.shape"
   ]
  },
  {
   "cell_type": "code",
   "execution_count": null,
   "metadata": {},
   "outputs": [
    {
     "data": {
      "text/html": [
       "<div>\n",
       "<style scoped>\n",
       "    .dataframe tbody tr th:only-of-type {\n",
       "        vertical-align: middle;\n",
       "    }\n",
       "\n",
       "    .dataframe tbody tr th {\n",
       "        vertical-align: top;\n",
       "    }\n",
       "\n",
       "    .dataframe thead th {\n",
       "        text-align: right;\n",
       "    }\n",
       "</style>\n",
       "<table border=\"1\" class=\"dataframe\">\n",
       "  <thead>\n",
       "    <tr style=\"text-align: right;\">\n",
       "      <th></th>\n",
       "      <th>geohash</th>\n",
       "      <th>hourly_data</th>\n",
       "      <th>nb_departures</th>\n",
       "      <th>nb_arrivals</th>\n",
       "      <th>ratio</th>\n",
       "      <th>dt_iso</th>\n",
       "      <th>temp</th>\n",
       "      <th>pressure</th>\n",
       "      <th>humidity</th>\n",
       "      <th>wind_speed</th>\n",
       "      <th>wind_deg</th>\n",
       "      <th>clouds_all</th>\n",
       "      <th>date</th>\n",
       "    </tr>\n",
       "  </thead>\n",
       "  <tbody>\n",
       "    <tr>\n",
       "      <th>0</th>\n",
       "      <td>dp3sy</td>\n",
       "      <td>2021-03-10 03:00:00</td>\n",
       "      <td>1.0</td>\n",
       "      <td>0.0</td>\n",
       "      <td>inf</td>\n",
       "      <td>2021-03-10 03:00:00</td>\n",
       "      <td>15.38</td>\n",
       "      <td>1020</td>\n",
       "      <td>47</td>\n",
       "      <td>6.20</td>\n",
       "      <td>180</td>\n",
       "      <td>20</td>\n",
       "      <td>2021-03-10</td>\n",
       "    </tr>\n",
       "    <tr>\n",
       "      <th>1</th>\n",
       "      <td>dp3sy</td>\n",
       "      <td>2021-03-15 22:00:00</td>\n",
       "      <td>1.0</td>\n",
       "      <td>0.0</td>\n",
       "      <td>inf</td>\n",
       "      <td>2021-03-15 22:00:00</td>\n",
       "      <td>-0.19</td>\n",
       "      <td>1009</td>\n",
       "      <td>87</td>\n",
       "      <td>8.23</td>\n",
       "      <td>110</td>\n",
       "      <td>100</td>\n",
       "      <td>2021-03-15</td>\n",
       "    </tr>\n",
       "    <tr>\n",
       "      <th>2</th>\n",
       "      <td>dp3sy</td>\n",
       "      <td>2021-03-20 14:00:00</td>\n",
       "      <td>1.0</td>\n",
       "      <td>0.0</td>\n",
       "      <td>inf</td>\n",
       "      <td>2021-03-20 14:00:00</td>\n",
       "      <td>4.27</td>\n",
       "      <td>1024</td>\n",
       "      <td>49</td>\n",
       "      <td>5.70</td>\n",
       "      <td>160</td>\n",
       "      <td>0</td>\n",
       "      <td>2021-03-20</td>\n",
       "    </tr>\n",
       "    <tr>\n",
       "      <th>3</th>\n",
       "      <td>dp3sy</td>\n",
       "      <td>2021-03-21 16:00:00</td>\n",
       "      <td>1.0</td>\n",
       "      <td>0.0</td>\n",
       "      <td>inf</td>\n",
       "      <td>2021-03-21 16:00:00</td>\n",
       "      <td>12.69</td>\n",
       "      <td>1009</td>\n",
       "      <td>35</td>\n",
       "      <td>6.70</td>\n",
       "      <td>210</td>\n",
       "      <td>20</td>\n",
       "      <td>2021-03-21</td>\n",
       "    </tr>\n",
       "    <tr>\n",
       "      <th>4</th>\n",
       "      <td>dp3sy</td>\n",
       "      <td>2021-03-22 21:00:00</td>\n",
       "      <td>2.0</td>\n",
       "      <td>0.0</td>\n",
       "      <td>inf</td>\n",
       "      <td>2021-03-22 21:00:00</td>\n",
       "      <td>19.25</td>\n",
       "      <td>1016</td>\n",
       "      <td>29</td>\n",
       "      <td>7.20</td>\n",
       "      <td>150</td>\n",
       "      <td>40</td>\n",
       "      <td>2021-03-22</td>\n",
       "    </tr>\n",
       "  </tbody>\n",
       "</table>\n",
       "</div>"
      ],
      "text/plain": [
       "  geohash         hourly_data  nb_departures  nb_arrivals  ratio  \\\n",
       "0   dp3sy 2021-03-10 03:00:00            1.0          0.0    inf   \n",
       "1   dp3sy 2021-03-15 22:00:00            1.0          0.0    inf   \n",
       "2   dp3sy 2021-03-20 14:00:00            1.0          0.0    inf   \n",
       "3   dp3sy 2021-03-21 16:00:00            1.0          0.0    inf   \n",
       "4   dp3sy 2021-03-22 21:00:00            2.0          0.0    inf   \n",
       "\n",
       "               dt_iso   temp  pressure  humidity  wind_speed  wind_deg  \\\n",
       "0 2021-03-10 03:00:00  15.38      1020        47        6.20       180   \n",
       "1 2021-03-15 22:00:00  -0.19      1009        87        8.23       110   \n",
       "2 2021-03-20 14:00:00   4.27      1024        49        5.70       160   \n",
       "3 2021-03-21 16:00:00  12.69      1009        35        6.70       210   \n",
       "4 2021-03-22 21:00:00  19.25      1016        29        7.20       150   \n",
       "\n",
       "   clouds_all        date  \n",
       "0          20  2021-03-10  \n",
       "1         100  2021-03-15  \n",
       "2           0  2021-03-20  \n",
       "3          20  2021-03-21  \n",
       "4          40  2021-03-22  "
      ]
     },
     "execution_count": 36,
     "metadata": {},
     "output_type": "execute_result"
    }
   ],
   "source": [
    "merged_df.head(5)"
   ]
  },
  {
   "cell_type": "code",
   "execution_count": null,
   "metadata": {},
   "outputs": [
    {
     "name": "stderr",
     "output_type": "stream",
     "text": [
      "/home/gdolle/code/G-Dolle/DIVVY_BIKE/divvy/ml_logic/cleaning.py:24: SettingWithCopyWarning: \n",
      "A value is trying to be set on a copy of a slice from a DataFrame\n",
      "\n",
      "See the caveats in the documentation: https://pandas.pydata.org/pandas-docs/stable/user_guide/indexing.html#returning-a-view-versus-a-copy\n",
      "  df_stations_reduced.rename(columns={\"name\":\"station_name\"}, inplace=True)\n"
     ]
    },
    {
     "data": {
      "text/plain": [
       "(1422, 2)"
      ]
     },
     "execution_count": 37,
     "metadata": {},
     "output_type": "execute_result"
    }
   ],
   "source": [
    "stations_df_geo = compute_geohash_stations(precision=  5)\n",
    "stations_df_geo.shape"
   ]
  },
  {
   "cell_type": "code",
   "execution_count": null,
   "metadata": {},
   "outputs": [
    {
     "data": {
      "text/html": [
       "<div>\n",
       "<style scoped>\n",
       "    .dataframe tbody tr th:only-of-type {\n",
       "        vertical-align: middle;\n",
       "    }\n",
       "\n",
       "    .dataframe tbody tr th {\n",
       "        vertical-align: top;\n",
       "    }\n",
       "\n",
       "    .dataframe thead th {\n",
       "        text-align: right;\n",
       "    }\n",
       "</style>\n",
       "<table border=\"1\" class=\"dataframe\">\n",
       "  <thead>\n",
       "    <tr style=\"text-align: right;\">\n",
       "      <th></th>\n",
       "      <th>station_name</th>\n",
       "      <th>geohash</th>\n",
       "    </tr>\n",
       "  </thead>\n",
       "  <tbody>\n",
       "    <tr>\n",
       "      <th>0</th>\n",
       "      <td>Central Ave &amp; Harrison St</td>\n",
       "      <td>dp3w4</td>\n",
       "    </tr>\n",
       "    <tr>\n",
       "      <th>1</th>\n",
       "      <td>Halsted St &amp; 59th St</td>\n",
       "      <td>dp3tt</td>\n",
       "    </tr>\n",
       "    <tr>\n",
       "      <th>2</th>\n",
       "      <td>Damen Ave &amp; 51st St</td>\n",
       "      <td>dp3tu</td>\n",
       "    </tr>\n",
       "    <tr>\n",
       "      <th>3</th>\n",
       "      <td>Halsted St &amp; 21st St</td>\n",
       "      <td>dp3wj</td>\n",
       "    </tr>\n",
       "    <tr>\n",
       "      <th>4</th>\n",
       "      <td>Michigan Ave &amp; Madison St</td>\n",
       "      <td>dp3wq</td>\n",
       "    </tr>\n",
       "  </tbody>\n",
       "</table>\n",
       "</div>"
      ],
      "text/plain": [
       "                station_name geohash\n",
       "0  Central Ave & Harrison St   dp3w4\n",
       "1       Halsted St & 59th St   dp3tt\n",
       "2        Damen Ave & 51st St   dp3tu\n",
       "3       Halsted St & 21st St   dp3wj\n",
       "4  Michigan Ave & Madison St   dp3wq"
      ]
     },
     "execution_count": 38,
     "metadata": {},
     "output_type": "execute_result"
    }
   ],
   "source": [
    "stations_df_geo.head(5)"
   ]
  },
  {
   "cell_type": "code",
   "execution_count": null,
   "metadata": {},
   "outputs": [
    {
     "data": {
      "text/html": [
       "<div>\n",
       "<style scoped>\n",
       "    .dataframe tbody tr th:only-of-type {\n",
       "        vertical-align: middle;\n",
       "    }\n",
       "\n",
       "    .dataframe tbody tr th {\n",
       "        vertical-align: top;\n",
       "    }\n",
       "\n",
       "    .dataframe thead th {\n",
       "        text-align: right;\n",
       "    }\n",
       "</style>\n",
       "<table border=\"1\" class=\"dataframe\">\n",
       "  <thead>\n",
       "    <tr style=\"text-align: right;\">\n",
       "      <th></th>\n",
       "      <th>geohash</th>\n",
       "      <th>hourly_data</th>\n",
       "      <th>nb_departures</th>\n",
       "      <th>nb_arrivals</th>\n",
       "      <th>ratio</th>\n",
       "      <th>dt_iso</th>\n",
       "      <th>temp</th>\n",
       "      <th>pressure</th>\n",
       "      <th>humidity</th>\n",
       "      <th>wind_speed</th>\n",
       "      <th>wind_deg</th>\n",
       "      <th>clouds_all</th>\n",
       "      <th>date</th>\n",
       "      <th>station_name</th>\n",
       "    </tr>\n",
       "  </thead>\n",
       "  <tbody>\n",
       "    <tr>\n",
       "      <th>0</th>\n",
       "      <td>dp3sy</td>\n",
       "      <td>2021-03-10 03:00:00</td>\n",
       "      <td>1.0</td>\n",
       "      <td>0.0</td>\n",
       "      <td>inf</td>\n",
       "      <td>2021-03-10 03:00:00</td>\n",
       "      <td>15.38</td>\n",
       "      <td>1020</td>\n",
       "      <td>47</td>\n",
       "      <td>6.2</td>\n",
       "      <td>180</td>\n",
       "      <td>20</td>\n",
       "      <td>2021-03-10</td>\n",
       "      <td>Altgeld Gardens</td>\n",
       "    </tr>\n",
       "    <tr>\n",
       "      <th>1</th>\n",
       "      <td>dp3sy</td>\n",
       "      <td>2021-03-10 03:00:00</td>\n",
       "      <td>1.0</td>\n",
       "      <td>0.0</td>\n",
       "      <td>inf</td>\n",
       "      <td>2021-03-10 03:00:00</td>\n",
       "      <td>15.38</td>\n",
       "      <td>1020</td>\n",
       "      <td>47</td>\n",
       "      <td>6.2</td>\n",
       "      <td>180</td>\n",
       "      <td>20</td>\n",
       "      <td>2021-03-10</td>\n",
       "      <td>Eberhart Ave &amp; 131st St</td>\n",
       "    </tr>\n",
       "    <tr>\n",
       "      <th>2</th>\n",
       "      <td>dp3sy</td>\n",
       "      <td>2021-03-10 03:00:00</td>\n",
       "      <td>1.0</td>\n",
       "      <td>0.0</td>\n",
       "      <td>inf</td>\n",
       "      <td>2021-03-10 03:00:00</td>\n",
       "      <td>15.38</td>\n",
       "      <td>1020</td>\n",
       "      <td>47</td>\n",
       "      <td>6.2</td>\n",
       "      <td>180</td>\n",
       "      <td>20</td>\n",
       "      <td>2021-03-10</td>\n",
       "      <td>Public Rack - Ellis Ave &amp; 132nd Pl</td>\n",
       "    </tr>\n",
       "    <tr>\n",
       "      <th>3</th>\n",
       "      <td>dp3sy</td>\n",
       "      <td>2021-03-10 03:00:00</td>\n",
       "      <td>1.0</td>\n",
       "      <td>0.0</td>\n",
       "      <td>inf</td>\n",
       "      <td>2021-03-10 03:00:00</td>\n",
       "      <td>15.38</td>\n",
       "      <td>1020</td>\n",
       "      <td>47</td>\n",
       "      <td>6.2</td>\n",
       "      <td>180</td>\n",
       "      <td>20</td>\n",
       "      <td>2021-03-10</td>\n",
       "      <td>Indiana Ave &amp; 133rd St</td>\n",
       "    </tr>\n",
       "    <tr>\n",
       "      <th>4</th>\n",
       "      <td>dp3sy</td>\n",
       "      <td>2021-03-10 03:00:00</td>\n",
       "      <td>1.0</td>\n",
       "      <td>0.0</td>\n",
       "      <td>inf</td>\n",
       "      <td>2021-03-10 03:00:00</td>\n",
       "      <td>15.38</td>\n",
       "      <td>1020</td>\n",
       "      <td>47</td>\n",
       "      <td>6.2</td>\n",
       "      <td>180</td>\n",
       "      <td>20</td>\n",
       "      <td>2021-03-10</td>\n",
       "      <td>Public Rack - Corliss Ave &amp; 133rd St</td>\n",
       "    </tr>\n",
       "    <tr>\n",
       "      <th>5</th>\n",
       "      <td>dp3sy</td>\n",
       "      <td>2021-03-10 03:00:00</td>\n",
       "      <td>1.0</td>\n",
       "      <td>0.0</td>\n",
       "      <td>inf</td>\n",
       "      <td>2021-03-10 03:00:00</td>\n",
       "      <td>15.38</td>\n",
       "      <td>1020</td>\n",
       "      <td>47</td>\n",
       "      <td>6.2</td>\n",
       "      <td>180</td>\n",
       "      <td>20</td>\n",
       "      <td>2021-03-10</td>\n",
       "      <td>Public Rack - Eberhart Ave &amp; 131st St</td>\n",
       "    </tr>\n",
       "  </tbody>\n",
       "</table>\n",
       "</div>"
      ],
      "text/plain": [
       "  geohash         hourly_data  nb_departures  nb_arrivals  ratio  \\\n",
       "0   dp3sy 2021-03-10 03:00:00            1.0          0.0    inf   \n",
       "1   dp3sy 2021-03-10 03:00:00            1.0          0.0    inf   \n",
       "2   dp3sy 2021-03-10 03:00:00            1.0          0.0    inf   \n",
       "3   dp3sy 2021-03-10 03:00:00            1.0          0.0    inf   \n",
       "4   dp3sy 2021-03-10 03:00:00            1.0          0.0    inf   \n",
       "5   dp3sy 2021-03-10 03:00:00            1.0          0.0    inf   \n",
       "\n",
       "               dt_iso   temp  pressure  humidity  wind_speed  wind_deg  \\\n",
       "0 2021-03-10 03:00:00  15.38      1020        47         6.2       180   \n",
       "1 2021-03-10 03:00:00  15.38      1020        47         6.2       180   \n",
       "2 2021-03-10 03:00:00  15.38      1020        47         6.2       180   \n",
       "3 2021-03-10 03:00:00  15.38      1020        47         6.2       180   \n",
       "4 2021-03-10 03:00:00  15.38      1020        47         6.2       180   \n",
       "5 2021-03-10 03:00:00  15.38      1020        47         6.2       180   \n",
       "\n",
       "   clouds_all        date                           station_name  \n",
       "0          20  2021-03-10                        Altgeld Gardens  \n",
       "1          20  2021-03-10                Eberhart Ave & 131st St  \n",
       "2          20  2021-03-10     Public Rack - Ellis Ave & 132nd Pl  \n",
       "3          20  2021-03-10                 Indiana Ave & 133rd St  \n",
       "4          20  2021-03-10   Public Rack - Corliss Ave & 133rd St  \n",
       "5          20  2021-03-10  Public Rack - Eberhart Ave & 131st St  "
      ]
     },
     "execution_count": 39,
     "metadata": {},
     "output_type": "execute_result"
    }
   ],
   "source": [
    "merged_df = merged_df.merge(stations_df_geo, on=\"geohash\", how=\"left\")\n",
    "merged_df.head(6)"
   ]
  },
  {
   "cell_type": "code",
   "execution_count": null,
   "metadata": {},
   "outputs": [
    {
     "data": {
      "text/html": [
       "<div>\n",
       "<style scoped>\n",
       "    .dataframe tbody tr th:only-of-type {\n",
       "        vertical-align: middle;\n",
       "    }\n",
       "\n",
       "    .dataframe tbody tr th {\n",
       "        vertical-align: top;\n",
       "    }\n",
       "\n",
       "    .dataframe thead th {\n",
       "        text-align: right;\n",
       "    }\n",
       "</style>\n",
       "<table border=\"1\" class=\"dataframe\">\n",
       "  <thead>\n",
       "    <tr style=\"text-align: right;\">\n",
       "      <th></th>\n",
       "      <th>station_name</th>\n",
       "      <th>lat</th>\n",
       "      <th>lon</th>\n",
       "    </tr>\n",
       "  </thead>\n",
       "  <tbody>\n",
       "    <tr>\n",
       "      <th>0</th>\n",
       "      <td>Central Ave &amp; Harrison St</td>\n",
       "      <td>41.872993</td>\n",
       "      <td>-87.764499</td>\n",
       "    </tr>\n",
       "    <tr>\n",
       "      <th>1</th>\n",
       "      <td>Halsted St &amp; 59th St</td>\n",
       "      <td>41.787539</td>\n",
       "      <td>-87.644874</td>\n",
       "    </tr>\n",
       "  </tbody>\n",
       "</table>\n",
       "</div>"
      ],
      "text/plain": [
       "                station_name        lat        lon\n",
       "0  Central Ave & Harrison St  41.872993 -87.764499\n",
       "1       Halsted St & 59th St  41.787539 -87.644874"
      ]
     },
     "execution_count": 42,
     "metadata": {},
     "output_type": "execute_result"
    }
   ],
   "source": [
    "from divvy.ml_logic.data_import import get_station_data\n",
    "\n",
    "station_df = get_station_data()\n",
    "station_df= station_df[[\"name\",\"lat\",\"lon\"]]\n",
    "station_df.rename(columns={\"name\":\"station_name\"}, inplace=True)\n",
    "station_df.head(2)"
   ]
  },
  {
   "cell_type": "code",
   "execution_count": null,
   "metadata": {},
   "outputs": [
    {
     "data": {
      "text/html": [
       "<div>\n",
       "<style scoped>\n",
       "    .dataframe tbody tr th:only-of-type {\n",
       "        vertical-align: middle;\n",
       "    }\n",
       "\n",
       "    .dataframe tbody tr th {\n",
       "        vertical-align: top;\n",
       "    }\n",
       "\n",
       "    .dataframe thead th {\n",
       "        text-align: right;\n",
       "    }\n",
       "</style>\n",
       "<table border=\"1\" class=\"dataframe\">\n",
       "  <thead>\n",
       "    <tr style=\"text-align: right;\">\n",
       "      <th></th>\n",
       "      <th>geohash</th>\n",
       "      <th>hourly_data</th>\n",
       "      <th>nb_departures</th>\n",
       "      <th>nb_arrivals</th>\n",
       "      <th>ratio</th>\n",
       "      <th>dt_iso</th>\n",
       "      <th>temp</th>\n",
       "      <th>pressure</th>\n",
       "      <th>humidity</th>\n",
       "      <th>wind_speed</th>\n",
       "      <th>wind_deg</th>\n",
       "      <th>clouds_all</th>\n",
       "      <th>date</th>\n",
       "      <th>station_name</th>\n",
       "      <th>lat</th>\n",
       "      <th>lon</th>\n",
       "    </tr>\n",
       "  </thead>\n",
       "  <tbody>\n",
       "    <tr>\n",
       "      <th>0</th>\n",
       "      <td>dp3sy</td>\n",
       "      <td>2021-03-10 03:00:00</td>\n",
       "      <td>1.0</td>\n",
       "      <td>0.0</td>\n",
       "      <td>inf</td>\n",
       "      <td>2021-03-10 03:00:00</td>\n",
       "      <td>15.38</td>\n",
       "      <td>1020</td>\n",
       "      <td>47</td>\n",
       "      <td>6.2</td>\n",
       "      <td>180</td>\n",
       "      <td>20</td>\n",
       "      <td>2021-03-10</td>\n",
       "      <td>Altgeld Gardens</td>\n",
       "      <td>41.656666</td>\n",
       "      <td>-87.598801</td>\n",
       "    </tr>\n",
       "    <tr>\n",
       "      <th>1</th>\n",
       "      <td>dp3sy</td>\n",
       "      <td>2021-03-10 03:00:00</td>\n",
       "      <td>1.0</td>\n",
       "      <td>0.0</td>\n",
       "      <td>inf</td>\n",
       "      <td>2021-03-10 03:00:00</td>\n",
       "      <td>15.38</td>\n",
       "      <td>1020</td>\n",
       "      <td>47</td>\n",
       "      <td>6.2</td>\n",
       "      <td>180</td>\n",
       "      <td>20</td>\n",
       "      <td>2021-03-10</td>\n",
       "      <td>Eberhart Ave &amp; 131st St</td>\n",
       "      <td>41.658413</td>\n",
       "      <td>-87.610711</td>\n",
       "    </tr>\n",
       "    <tr>\n",
       "      <th>2</th>\n",
       "      <td>dp3sy</td>\n",
       "      <td>2021-03-10 03:00:00</td>\n",
       "      <td>1.0</td>\n",
       "      <td>0.0</td>\n",
       "      <td>inf</td>\n",
       "      <td>2021-03-10 03:00:00</td>\n",
       "      <td>15.38</td>\n",
       "      <td>1020</td>\n",
       "      <td>47</td>\n",
       "      <td>6.2</td>\n",
       "      <td>180</td>\n",
       "      <td>20</td>\n",
       "      <td>2021-03-10</td>\n",
       "      <td>Public Rack - Ellis Ave &amp; 132nd Pl</td>\n",
       "      <td>41.655139</td>\n",
       "      <td>-87.597597</td>\n",
       "    </tr>\n",
       "    <tr>\n",
       "      <th>3</th>\n",
       "      <td>dp3sy</td>\n",
       "      <td>2021-03-10 03:00:00</td>\n",
       "      <td>1.0</td>\n",
       "      <td>0.0</td>\n",
       "      <td>inf</td>\n",
       "      <td>2021-03-10 03:00:00</td>\n",
       "      <td>15.38</td>\n",
       "      <td>1020</td>\n",
       "      <td>47</td>\n",
       "      <td>6.2</td>\n",
       "      <td>180</td>\n",
       "      <td>20</td>\n",
       "      <td>2021-03-10</td>\n",
       "      <td>Indiana Ave &amp; 133rd St</td>\n",
       "      <td>41.653564</td>\n",
       "      <td>-87.617054</td>\n",
       "    </tr>\n",
       "    <tr>\n",
       "      <th>4</th>\n",
       "      <td>dp3sy</td>\n",
       "      <td>2021-03-10 03:00:00</td>\n",
       "      <td>1.0</td>\n",
       "      <td>0.0</td>\n",
       "      <td>inf</td>\n",
       "      <td>2021-03-10 03:00:00</td>\n",
       "      <td>15.38</td>\n",
       "      <td>1020</td>\n",
       "      <td>47</td>\n",
       "      <td>6.2</td>\n",
       "      <td>180</td>\n",
       "      <td>20</td>\n",
       "      <td>2021-03-10</td>\n",
       "      <td>Public Rack - Corliss Ave &amp; 133rd St</td>\n",
       "      <td>41.653138</td>\n",
       "      <td>-87.601057</td>\n",
       "    </tr>\n",
       "  </tbody>\n",
       "</table>\n",
       "</div>"
      ],
      "text/plain": [
       "  geohash         hourly_data  nb_departures  nb_arrivals  ratio  \\\n",
       "0   dp3sy 2021-03-10 03:00:00            1.0          0.0    inf   \n",
       "1   dp3sy 2021-03-10 03:00:00            1.0          0.0    inf   \n",
       "2   dp3sy 2021-03-10 03:00:00            1.0          0.0    inf   \n",
       "3   dp3sy 2021-03-10 03:00:00            1.0          0.0    inf   \n",
       "4   dp3sy 2021-03-10 03:00:00            1.0          0.0    inf   \n",
       "\n",
       "               dt_iso   temp  pressure  humidity  wind_speed  wind_deg  \\\n",
       "0 2021-03-10 03:00:00  15.38      1020        47         6.2       180   \n",
       "1 2021-03-10 03:00:00  15.38      1020        47         6.2       180   \n",
       "2 2021-03-10 03:00:00  15.38      1020        47         6.2       180   \n",
       "3 2021-03-10 03:00:00  15.38      1020        47         6.2       180   \n",
       "4 2021-03-10 03:00:00  15.38      1020        47         6.2       180   \n",
       "\n",
       "   clouds_all        date                          station_name        lat  \\\n",
       "0          20  2021-03-10                       Altgeld Gardens  41.656666   \n",
       "1          20  2021-03-10               Eberhart Ave & 131st St  41.658413   \n",
       "2          20  2021-03-10    Public Rack - Ellis Ave & 132nd Pl  41.655139   \n",
       "3          20  2021-03-10                Indiana Ave & 133rd St  41.653564   \n",
       "4          20  2021-03-10  Public Rack - Corliss Ave & 133rd St  41.653138   \n",
       "\n",
       "         lon  \n",
       "0 -87.598801  \n",
       "1 -87.610711  \n",
       "2 -87.597597  \n",
       "3 -87.617054  \n",
       "4 -87.601057  "
      ]
     },
     "execution_count": 43,
     "metadata": {},
     "output_type": "execute_result"
    }
   ],
   "source": [
    "merged_df = merged_df.merge(station_df, on=\"station_name\", how=\"left\")\n",
    "merged_df.head(5)"
   ]
  },
  {
   "cell_type": "code",
   "execution_count": null,
   "metadata": {},
   "outputs": [],
   "source": [
    "heat_df = merged_df[merged_df[\"hourly_data\"]==pd.to_datetime(\"2021-07-01 10:00:00\")]\n",
    "heat_df = merged_df[merged_df[\"geohash\"]==\"dp3wm\"]\n",
    "heat_df = merged_df.loc[:,[\"lat\",\"lon\",\"nb_departures\"]]\n",
    "\n",
    "\n",
    "heat_data = heat_df.values.tolist()\n"
   ]
  },
  {
   "cell_type": "code",
   "execution_count": null,
   "metadata": {},
   "outputs": [],
   "source": [
    "from streamlit_folium import folium_static\n",
    "from folium import Map, plugins"
   ]
  },
  {
   "cell_type": "code",
   "execution_count": null,
   "metadata": {},
   "outputs": [
    {
     "ename": "KeyboardInterrupt",
     "evalue": "",
     "output_type": "error",
     "traceback": [
      "\u001b[0;31m---------------------------------------------------------------------------\u001b[0m",
      "\u001b[0;31mKeyboardInterrupt\u001b[0m                         Traceback (most recent call last)",
      "Cell \u001b[0;32mIn[53], line 10\u001b[0m\n\u001b[1;32m      3\u001b[0m \u001b[39m# convert to (n, 2) nd-array format for heatmap\u001b[39;00m\n\u001b[1;32m      4\u001b[0m \u001b[39m#stationArr = station_df_red.values\u001b[39;00m\n\u001b[1;32m      5\u001b[0m \n\u001b[1;32m      6\u001b[0m \u001b[39m# plot heatmap\u001b[39;00m\n\u001b[1;32m      7\u001b[0m m\u001b[39m.\u001b[39madd_child(plugins\u001b[39m.\u001b[39mHeatMap(heat_data, radius\u001b[39m=\u001b[39m\u001b[39m11\u001b[39m))\n\u001b[0;32m---> 10\u001b[0m m\n",
      "File \u001b[0;32m~/.pyenv/versions/DIVVY_BIKE/lib/python3.10/site-packages/IPython/core/displayhook.py:262\u001b[0m, in \u001b[0;36mDisplayHook.__call__\u001b[0;34m(self, result)\u001b[0m\n\u001b[1;32m    260\u001b[0m \u001b[39mself\u001b[39m\u001b[39m.\u001b[39mstart_displayhook()\n\u001b[1;32m    261\u001b[0m \u001b[39mself\u001b[39m\u001b[39m.\u001b[39mwrite_output_prompt()\n\u001b[0;32m--> 262\u001b[0m format_dict, md_dict \u001b[39m=\u001b[39m \u001b[39mself\u001b[39;49m\u001b[39m.\u001b[39;49mcompute_format_data(result)\n\u001b[1;32m    263\u001b[0m \u001b[39mself\u001b[39m\u001b[39m.\u001b[39mupdate_user_ns(result)\n\u001b[1;32m    264\u001b[0m \u001b[39mself\u001b[39m\u001b[39m.\u001b[39mfill_exec_result(result)\n",
      "File \u001b[0;32m~/.pyenv/versions/DIVVY_BIKE/lib/python3.10/site-packages/IPython/core/displayhook.py:151\u001b[0m, in \u001b[0;36mDisplayHook.compute_format_data\u001b[0;34m(self, result)\u001b[0m\n\u001b[1;32m    121\u001b[0m \u001b[39mdef\u001b[39;00m \u001b[39mcompute_format_data\u001b[39m(\u001b[39mself\u001b[39m, result):\n\u001b[1;32m    122\u001b[0m     \u001b[39m\"\"\"Compute format data of the object to be displayed.\u001b[39;00m\n\u001b[1;32m    123\u001b[0m \n\u001b[1;32m    124\u001b[0m \u001b[39m    The format data is a generalization of the :func:`repr` of an object.\u001b[39;00m\n\u001b[0;32m   (...)\u001b[0m\n\u001b[1;32m    149\u001b[0m \n\u001b[1;32m    150\u001b[0m \u001b[39m    \"\"\"\u001b[39;00m\n\u001b[0;32m--> 151\u001b[0m     \u001b[39mreturn\u001b[39;00m \u001b[39mself\u001b[39;49m\u001b[39m.\u001b[39;49mshell\u001b[39m.\u001b[39;49mdisplay_formatter\u001b[39m.\u001b[39;49mformat(result)\n",
      "File \u001b[0;32m~/.pyenv/versions/DIVVY_BIKE/lib/python3.10/site-packages/IPython/core/formatters.py:177\u001b[0m, in \u001b[0;36mDisplayFormatter.format\u001b[0;34m(self, obj, include, exclude)\u001b[0m\n\u001b[1;32m    175\u001b[0m md \u001b[39m=\u001b[39m \u001b[39mNone\u001b[39;00m\n\u001b[1;32m    176\u001b[0m \u001b[39mtry\u001b[39;00m:\n\u001b[0;32m--> 177\u001b[0m     data \u001b[39m=\u001b[39m formatter(obj)\n\u001b[1;32m    178\u001b[0m \u001b[39mexcept\u001b[39;00m:\n\u001b[1;32m    179\u001b[0m     \u001b[39m# FIXME: log the exception\u001b[39;00m\n\u001b[1;32m    180\u001b[0m     \u001b[39mraise\u001b[39;00m\n",
      "File \u001b[0;32m~/.pyenv/versions/DIVVY_BIKE/lib/python3.10/site-packages/decorator.py:232\u001b[0m, in \u001b[0;36mdecorate.<locals>.fun\u001b[0;34m(*args, **kw)\u001b[0m\n\u001b[1;32m    230\u001b[0m \u001b[39mif\u001b[39;00m \u001b[39mnot\u001b[39;00m kwsyntax:\n\u001b[1;32m    231\u001b[0m     args, kw \u001b[39m=\u001b[39m fix(args, kw, sig)\n\u001b[0;32m--> 232\u001b[0m \u001b[39mreturn\u001b[39;00m caller(func, \u001b[39m*\u001b[39;49m(extras \u001b[39m+\u001b[39;49m args), \u001b[39m*\u001b[39;49m\u001b[39m*\u001b[39;49mkw)\n",
      "File \u001b[0;32m~/.pyenv/versions/DIVVY_BIKE/lib/python3.10/site-packages/IPython/core/formatters.py:221\u001b[0m, in \u001b[0;36mcatch_format_error\u001b[0;34m(method, self, *args, **kwargs)\u001b[0m\n\u001b[1;32m    219\u001b[0m \u001b[39m\"\"\"show traceback on failed format call\"\"\"\u001b[39;00m\n\u001b[1;32m    220\u001b[0m \u001b[39mtry\u001b[39;00m:\n\u001b[0;32m--> 221\u001b[0m     r \u001b[39m=\u001b[39m method(\u001b[39mself\u001b[39;49m, \u001b[39m*\u001b[39;49margs, \u001b[39m*\u001b[39;49m\u001b[39m*\u001b[39;49mkwargs)\n\u001b[1;32m    222\u001b[0m \u001b[39mexcept\u001b[39;00m \u001b[39mNotImplementedError\u001b[39;00m:\n\u001b[1;32m    223\u001b[0m     \u001b[39m# don't warn on NotImplementedErrors\u001b[39;00m\n\u001b[1;32m    224\u001b[0m     \u001b[39mreturn\u001b[39;00m \u001b[39mself\u001b[39m\u001b[39m.\u001b[39m_check_return(\u001b[39mNone\u001b[39;00m, args[\u001b[39m0\u001b[39m])\n",
      "File \u001b[0;32m~/.pyenv/versions/DIVVY_BIKE/lib/python3.10/site-packages/IPython/core/formatters.py:342\u001b[0m, in \u001b[0;36mBaseFormatter.__call__\u001b[0;34m(self, obj)\u001b[0m\n\u001b[1;32m    340\u001b[0m     method \u001b[39m=\u001b[39m get_real_method(obj, \u001b[39mself\u001b[39m\u001b[39m.\u001b[39mprint_method)\n\u001b[1;32m    341\u001b[0m     \u001b[39mif\u001b[39;00m method \u001b[39mis\u001b[39;00m \u001b[39mnot\u001b[39;00m \u001b[39mNone\u001b[39;00m:\n\u001b[0;32m--> 342\u001b[0m         \u001b[39mreturn\u001b[39;00m method()\n\u001b[1;32m    343\u001b[0m     \u001b[39mreturn\u001b[39;00m \u001b[39mNone\u001b[39;00m\n\u001b[1;32m    344\u001b[0m \u001b[39melse\u001b[39;00m:\n",
      "File \u001b[0;32m~/.pyenv/versions/DIVVY_BIKE/lib/python3.10/site-packages/folium/folium.py:297\u001b[0m, in \u001b[0;36mMap._repr_html_\u001b[0;34m(self, **kwargs)\u001b[0m\n\u001b[1;32m    295\u001b[0m     \u001b[39mself\u001b[39m\u001b[39m.\u001b[39m_parent \u001b[39m=\u001b[39m \u001b[39mNone\u001b[39;00m\n\u001b[1;32m    296\u001b[0m \u001b[39melse\u001b[39;00m:\n\u001b[0;32m--> 297\u001b[0m     out \u001b[39m=\u001b[39m \u001b[39mself\u001b[39;49m\u001b[39m.\u001b[39;49m_parent\u001b[39m.\u001b[39;49m_repr_html_(\u001b[39m*\u001b[39;49m\u001b[39m*\u001b[39;49mkwargs)\n\u001b[1;32m    298\u001b[0m \u001b[39mreturn\u001b[39;00m out\n",
      "File \u001b[0;32m~/.pyenv/versions/DIVVY_BIKE/lib/python3.10/site-packages/branca/element.py:343\u001b[0m, in \u001b[0;36mFigure._repr_html_\u001b[0;34m(self, **kwargs)\u001b[0m\n\u001b[1;32m    341\u001b[0m \u001b[39mdef\u001b[39;00m \u001b[39m_repr_html_\u001b[39m(\u001b[39mself\u001b[39m, \u001b[39m*\u001b[39m\u001b[39m*\u001b[39mkwargs):\n\u001b[1;32m    342\u001b[0m     \u001b[39m\"\"\"Displays the Figure in a Jupyter notebook.\"\"\"\u001b[39;00m\n\u001b[0;32m--> 343\u001b[0m     html \u001b[39m=\u001b[39m escape(\u001b[39mself\u001b[39;49m\u001b[39m.\u001b[39;49mrender(\u001b[39m*\u001b[39;49m\u001b[39m*\u001b[39;49mkwargs))\n\u001b[1;32m    344\u001b[0m     \u001b[39mif\u001b[39;00m \u001b[39mself\u001b[39m\u001b[39m.\u001b[39mheight \u001b[39mis\u001b[39;00m \u001b[39mNone\u001b[39;00m:\n\u001b[1;32m    345\u001b[0m         iframe \u001b[39m=\u001b[39m (\n\u001b[1;32m    346\u001b[0m             \u001b[39m'\u001b[39m\u001b[39m<div style=\u001b[39m\u001b[39m\"\u001b[39m\u001b[39mwidth:\u001b[39m\u001b[39m{width}\u001b[39;00m\u001b[39m;\u001b[39m\u001b[39m\"\u001b[39m\u001b[39m>\u001b[39m\u001b[39m'\u001b[39m\n\u001b[1;32m    347\u001b[0m             \u001b[39m'\u001b[39m\u001b[39m<div style=\u001b[39m\u001b[39m\"\u001b[39m\u001b[39mposition:relative;width:100\u001b[39m\u001b[39m%\u001b[39m\u001b[39m;height:0;padding-bottom:\u001b[39m\u001b[39m{ratio}\u001b[39;00m\u001b[39m;\u001b[39m\u001b[39m\"\u001b[39m\u001b[39m>\u001b[39m\u001b[39m'\u001b[39m  \u001b[39m# noqa\u001b[39;00m\n\u001b[0;32m   (...)\u001b[0m\n\u001b[1;32m    353\u001b[0m             \u001b[39m'\u001b[39m\u001b[39m</div></div>\u001b[39m\u001b[39m'\u001b[39m\n\u001b[1;32m    354\u001b[0m         )\u001b[39m.\u001b[39mformat(html\u001b[39m=\u001b[39mhtml, width\u001b[39m=\u001b[39m\u001b[39mself\u001b[39m\u001b[39m.\u001b[39mwidth, ratio\u001b[39m=\u001b[39m\u001b[39mself\u001b[39m\u001b[39m.\u001b[39mratio)\n",
      "File \u001b[0;32m~/.pyenv/versions/DIVVY_BIKE/lib/python3.10/site-packages/branca/element.py:338\u001b[0m, in \u001b[0;36mFigure.render\u001b[0;34m(self, **kwargs)\u001b[0m\n\u001b[1;32m    336\u001b[0m \u001b[39m\"\"\"Renders the HTML representation of the element.\"\"\"\u001b[39;00m\n\u001b[1;32m    337\u001b[0m \u001b[39mfor\u001b[39;00m name, child \u001b[39min\u001b[39;00m \u001b[39mself\u001b[39m\u001b[39m.\u001b[39m_children\u001b[39m.\u001b[39mitems():\n\u001b[0;32m--> 338\u001b[0m     child\u001b[39m.\u001b[39;49mrender(\u001b[39m*\u001b[39;49m\u001b[39m*\u001b[39;49mkwargs)\n\u001b[1;32m    339\u001b[0m \u001b[39mreturn\u001b[39;00m \u001b[39mself\u001b[39m\u001b[39m.\u001b[39m_template\u001b[39m.\u001b[39mrender(this\u001b[39m=\u001b[39m\u001b[39mself\u001b[39m, kwargs\u001b[39m=\u001b[39mkwargs)\n",
      "File \u001b[0;32m~/.pyenv/versions/DIVVY_BIKE/lib/python3.10/site-packages/folium/folium.py:366\u001b[0m, in \u001b[0;36mMap.render\u001b[0;34m(self, **kwargs)\u001b[0m\n\u001b[1;32m    347\u001b[0m figure\u001b[39m.\u001b[39mheader\u001b[39m.\u001b[39madd_child(Element(\n\u001b[1;32m    348\u001b[0m     \u001b[39m'\u001b[39m\u001b[39m<style>html, body \u001b[39m\u001b[39m{\u001b[39m\u001b[39m'\u001b[39m\n\u001b[1;32m    349\u001b[0m     \u001b[39m'\u001b[39m\u001b[39mwidth: 100\u001b[39m\u001b[39m%\u001b[39m\u001b[39m;\u001b[39m\u001b[39m'\u001b[39m\n\u001b[0;32m   (...)\u001b[0m\n\u001b[1;32m    353\u001b[0m     \u001b[39m'\u001b[39m\u001b[39m}\u001b[39m\u001b[39m'\u001b[39m\n\u001b[1;32m    354\u001b[0m     \u001b[39m'\u001b[39m\u001b[39m</style>\u001b[39m\u001b[39m'\u001b[39m), name\u001b[39m=\u001b[39m\u001b[39m'\u001b[39m\u001b[39mcss_style\u001b[39m\u001b[39m'\u001b[39m)\n\u001b[1;32m    356\u001b[0m figure\u001b[39m.\u001b[39mheader\u001b[39m.\u001b[39madd_child(Element(\n\u001b[1;32m    357\u001b[0m     \u001b[39m'\u001b[39m\u001b[39m<style>#map \u001b[39m\u001b[39m{\u001b[39m\u001b[39m'\u001b[39m\n\u001b[1;32m    358\u001b[0m     \u001b[39m'\u001b[39m\u001b[39mposition:absolute;\u001b[39m\u001b[39m'\u001b[39m\n\u001b[0;32m   (...)\u001b[0m\n\u001b[1;32m    363\u001b[0m     \u001b[39m'\u001b[39m\u001b[39m}\u001b[39m\u001b[39m'\u001b[39m\n\u001b[1;32m    364\u001b[0m     \u001b[39m'\u001b[39m\u001b[39m</style>\u001b[39m\u001b[39m'\u001b[39m), name\u001b[39m=\u001b[39m\u001b[39m'\u001b[39m\u001b[39mmap_style\u001b[39m\u001b[39m'\u001b[39m)\n\u001b[0;32m--> 366\u001b[0m \u001b[39msuper\u001b[39;49m(Map, \u001b[39mself\u001b[39;49m)\u001b[39m.\u001b[39;49mrender(\u001b[39m*\u001b[39;49m\u001b[39m*\u001b[39;49mkwargs)\n",
      "File \u001b[0;32m~/.pyenv/versions/DIVVY_BIKE/lib/python3.10/site-packages/folium/elements.py:21\u001b[0m, in \u001b[0;36mJSCSSMixin.render\u001b[0;34m(self, **kwargs)\u001b[0m\n\u001b[1;32m     18\u001b[0m \u001b[39mfor\u001b[39;00m name, url \u001b[39min\u001b[39;00m \u001b[39mself\u001b[39m\u001b[39m.\u001b[39mdefault_css:\n\u001b[1;32m     19\u001b[0m     figure\u001b[39m.\u001b[39mheader\u001b[39m.\u001b[39madd_child(CssLink(url), name\u001b[39m=\u001b[39mname)\n\u001b[0;32m---> 21\u001b[0m \u001b[39msuper\u001b[39;49m()\u001b[39m.\u001b[39;49mrender(\u001b[39m*\u001b[39;49m\u001b[39m*\u001b[39;49mkwargs)\n",
      "File \u001b[0;32m~/.pyenv/versions/DIVVY_BIKE/lib/python3.10/site-packages/branca/element.py:645\u001b[0m, in \u001b[0;36mMacroElement.render\u001b[0;34m(self, **kwargs)\u001b[0m\n\u001b[1;32m    641\u001b[0m     figure\u001b[39m.\u001b[39mscript\u001b[39m.\u001b[39madd_child(Element(script(\u001b[39mself\u001b[39m, kwargs)),\n\u001b[1;32m    642\u001b[0m                             name\u001b[39m=\u001b[39m\u001b[39mself\u001b[39m\u001b[39m.\u001b[39mget_name())\n\u001b[1;32m    644\u001b[0m \u001b[39mfor\u001b[39;00m name, element \u001b[39min\u001b[39;00m \u001b[39mself\u001b[39m\u001b[39m.\u001b[39m_children\u001b[39m.\u001b[39mitems():\n\u001b[0;32m--> 645\u001b[0m     element\u001b[39m.\u001b[39;49mrender(\u001b[39m*\u001b[39;49m\u001b[39m*\u001b[39;49mkwargs)\n",
      "File \u001b[0;32m~/.pyenv/versions/DIVVY_BIKE/lib/python3.10/site-packages/folium/elements.py:21\u001b[0m, in \u001b[0;36mJSCSSMixin.render\u001b[0;34m(self, **kwargs)\u001b[0m\n\u001b[1;32m     18\u001b[0m \u001b[39mfor\u001b[39;00m name, url \u001b[39min\u001b[39;00m \u001b[39mself\u001b[39m\u001b[39m.\u001b[39mdefault_css:\n\u001b[1;32m     19\u001b[0m     figure\u001b[39m.\u001b[39mheader\u001b[39m.\u001b[39madd_child(CssLink(url), name\u001b[39m=\u001b[39mname)\n\u001b[0;32m---> 21\u001b[0m \u001b[39msuper\u001b[39;49m()\u001b[39m.\u001b[39;49mrender(\u001b[39m*\u001b[39;49m\u001b[39m*\u001b[39;49mkwargs)\n",
      "File \u001b[0;32m~/.pyenv/versions/DIVVY_BIKE/lib/python3.10/site-packages/branca/element.py:641\u001b[0m, in \u001b[0;36mMacroElement.render\u001b[0;34m(self, **kwargs)\u001b[0m\n\u001b[1;32m    639\u001b[0m script \u001b[39m=\u001b[39m \u001b[39mself\u001b[39m\u001b[39m.\u001b[39m_template\u001b[39m.\u001b[39mmodule\u001b[39m.\u001b[39m\u001b[39m__dict__\u001b[39m\u001b[39m.\u001b[39mget(\u001b[39m'\u001b[39m\u001b[39mscript\u001b[39m\u001b[39m'\u001b[39m, \u001b[39mNone\u001b[39;00m)\n\u001b[1;32m    640\u001b[0m \u001b[39mif\u001b[39;00m script \u001b[39mis\u001b[39;00m \u001b[39mnot\u001b[39;00m \u001b[39mNone\u001b[39;00m:\n\u001b[0;32m--> 641\u001b[0m     figure\u001b[39m.\u001b[39mscript\u001b[39m.\u001b[39madd_child(Element(script(\u001b[39mself\u001b[39;49m, kwargs)),\n\u001b[1;32m    642\u001b[0m                             name\u001b[39m=\u001b[39m\u001b[39mself\u001b[39m\u001b[39m.\u001b[39mget_name())\n\u001b[1;32m    644\u001b[0m \u001b[39mfor\u001b[39;00m name, element \u001b[39min\u001b[39;00m \u001b[39mself\u001b[39m\u001b[39m.\u001b[39m_children\u001b[39m.\u001b[39mitems():\n\u001b[1;32m    645\u001b[0m     element\u001b[39m.\u001b[39mrender(\u001b[39m*\u001b[39m\u001b[39m*\u001b[39mkwargs)\n",
      "File \u001b[0;32m~/.pyenv/versions/DIVVY_BIKE/lib/python3.10/site-packages/branca/element.py:61\u001b[0m, in \u001b[0;36mElement.__init__\u001b[0;34m(self, template, template_name)\u001b[0m\n\u001b[1;32m     58\u001b[0m \u001b[39mself\u001b[39m\u001b[39m.\u001b[39m_parent \u001b[39m=\u001b[39m \u001b[39mNone\u001b[39;00m\n\u001b[1;32m     60\u001b[0m \u001b[39mif\u001b[39;00m template \u001b[39mis\u001b[39;00m \u001b[39mnot\u001b[39;00m \u001b[39mNone\u001b[39;00m:\n\u001b[0;32m---> 61\u001b[0m     \u001b[39mself\u001b[39m\u001b[39m.\u001b[39m_template \u001b[39m=\u001b[39m Template(template)\n\u001b[1;32m     62\u001b[0m \u001b[39melif\u001b[39;00m template_name \u001b[39mis\u001b[39;00m \u001b[39mnot\u001b[39;00m \u001b[39mNone\u001b[39;00m:\n\u001b[1;32m     63\u001b[0m     \u001b[39mself\u001b[39m\u001b[39m.\u001b[39m_template \u001b[39m=\u001b[39m ENV\u001b[39m.\u001b[39mget_template(template_name)\n",
      "File \u001b[0;32m~/.pyenv/versions/DIVVY_BIKE/lib/python3.10/site-packages/jinja2/environment.py:1208\u001b[0m, in \u001b[0;36mTemplate.__new__\u001b[0;34m(cls, source, block_start_string, block_end_string, variable_start_string, variable_end_string, comment_start_string, comment_end_string, line_statement_prefix, line_comment_prefix, trim_blocks, lstrip_blocks, newline_sequence, keep_trailing_newline, extensions, optimized, undefined, finalize, autoescape, enable_async)\u001b[0m\n\u001b[1;32m   1161\u001b[0m \u001b[39mdef\u001b[39;00m \u001b[39m__new__\u001b[39m(\n\u001b[1;32m   1162\u001b[0m     \u001b[39mcls\u001b[39m,\n\u001b[1;32m   1163\u001b[0m     source: t\u001b[39m.\u001b[39mUnion[\u001b[39mstr\u001b[39m, nodes\u001b[39m.\u001b[39mTemplate],\n\u001b[0;32m   (...)\u001b[0m\n\u001b[1;32m   1181\u001b[0m     enable_async: \u001b[39mbool\u001b[39m \u001b[39m=\u001b[39m \u001b[39mFalse\u001b[39;00m,\n\u001b[1;32m   1182\u001b[0m ) \u001b[39m-\u001b[39m\u001b[39m>\u001b[39m t\u001b[39m.\u001b[39mAny:  \u001b[39m# it returns a `Template`, but this breaks the sphinx build...\u001b[39;00m\n\u001b[1;32m   1183\u001b[0m     env \u001b[39m=\u001b[39m get_spontaneous_environment(\n\u001b[1;32m   1184\u001b[0m         \u001b[39mcls\u001b[39m\u001b[39m.\u001b[39menvironment_class,  \u001b[39m# type: ignore\u001b[39;00m\n\u001b[1;32m   1185\u001b[0m         block_start_string,\n\u001b[0;32m   (...)\u001b[0m\n\u001b[1;32m   1206\u001b[0m         enable_async,\n\u001b[1;32m   1207\u001b[0m     )\n\u001b[0;32m-> 1208\u001b[0m     \u001b[39mreturn\u001b[39;00m env\u001b[39m.\u001b[39;49mfrom_string(source, template_class\u001b[39m=\u001b[39;49m\u001b[39mcls\u001b[39;49m)\n",
      "File \u001b[0;32m~/.pyenv/versions/DIVVY_BIKE/lib/python3.10/site-packages/jinja2/environment.py:1105\u001b[0m, in \u001b[0;36mEnvironment.from_string\u001b[0;34m(self, source, globals, template_class)\u001b[0m\n\u001b[1;32m   1103\u001b[0m gs \u001b[39m=\u001b[39m \u001b[39mself\u001b[39m\u001b[39m.\u001b[39mmake_globals(\u001b[39mglobals\u001b[39m)\n\u001b[1;32m   1104\u001b[0m \u001b[39mcls\u001b[39m \u001b[39m=\u001b[39m template_class \u001b[39mor\u001b[39;00m \u001b[39mself\u001b[39m\u001b[39m.\u001b[39mtemplate_class\n\u001b[0;32m-> 1105\u001b[0m \u001b[39mreturn\u001b[39;00m \u001b[39mcls\u001b[39m\u001b[39m.\u001b[39mfrom_code(\u001b[39mself\u001b[39m, \u001b[39mself\u001b[39;49m\u001b[39m.\u001b[39;49mcompile(source), gs, \u001b[39mNone\u001b[39;00m)\n",
      "File \u001b[0;32m~/.pyenv/versions/DIVVY_BIKE/lib/python3.10/site-packages/jinja2/environment.py:760\u001b[0m, in \u001b[0;36mEnvironment.compile\u001b[0;34m(self, source, name, filename, raw, defer_init)\u001b[0m\n\u001b[1;32m    758\u001b[0m \u001b[39mif\u001b[39;00m \u001b[39misinstance\u001b[39m(source, \u001b[39mstr\u001b[39m):\n\u001b[1;32m    759\u001b[0m     source_hint \u001b[39m=\u001b[39m source\n\u001b[0;32m--> 760\u001b[0m     source \u001b[39m=\u001b[39m \u001b[39mself\u001b[39;49m\u001b[39m.\u001b[39;49m_parse(source, name, filename)\n\u001b[1;32m    761\u001b[0m source \u001b[39m=\u001b[39m \u001b[39mself\u001b[39m\u001b[39m.\u001b[39m_generate(source, name, filename, defer_init\u001b[39m=\u001b[39mdefer_init)\n\u001b[1;32m    762\u001b[0m \u001b[39mif\u001b[39;00m raw:\n",
      "File \u001b[0;32m~/.pyenv/versions/DIVVY_BIKE/lib/python3.10/site-packages/jinja2/environment.py:617\u001b[0m, in \u001b[0;36mEnvironment._parse\u001b[0;34m(self, source, name, filename)\u001b[0m\n\u001b[1;32m    613\u001b[0m \u001b[39mdef\u001b[39;00m \u001b[39m_parse\u001b[39m(\n\u001b[1;32m    614\u001b[0m     \u001b[39mself\u001b[39m, source: \u001b[39mstr\u001b[39m, name: t\u001b[39m.\u001b[39mOptional[\u001b[39mstr\u001b[39m], filename: t\u001b[39m.\u001b[39mOptional[\u001b[39mstr\u001b[39m]\n\u001b[1;32m    615\u001b[0m ) \u001b[39m-\u001b[39m\u001b[39m>\u001b[39m nodes\u001b[39m.\u001b[39mTemplate:\n\u001b[1;32m    616\u001b[0m     \u001b[39m\"\"\"Internal parsing function used by `parse` and `compile`.\"\"\"\u001b[39;00m\n\u001b[0;32m--> 617\u001b[0m     \u001b[39mreturn\u001b[39;00m Parser(\u001b[39mself\u001b[39;49m, source, name, filename)\u001b[39m.\u001b[39mparse()\n",
      "File \u001b[0;32m~/.pyenv/versions/DIVVY_BIKE/lib/python3.10/site-packages/jinja2/parser.py:60\u001b[0m, in \u001b[0;36mParser.__init__\u001b[0;34m(self, environment, source, name, filename, state)\u001b[0m\n\u001b[1;32m     51\u001b[0m \u001b[39mdef\u001b[39;00m \u001b[39m__init__\u001b[39m(\n\u001b[1;32m     52\u001b[0m     \u001b[39mself\u001b[39m,\n\u001b[1;32m     53\u001b[0m     environment: \u001b[39m\"\u001b[39m\u001b[39mEnvironment\u001b[39m\u001b[39m\"\u001b[39m,\n\u001b[0;32m   (...)\u001b[0m\n\u001b[1;32m     57\u001b[0m     state: t\u001b[39m.\u001b[39mOptional[\u001b[39mstr\u001b[39m] \u001b[39m=\u001b[39m \u001b[39mNone\u001b[39;00m,\n\u001b[1;32m     58\u001b[0m ) \u001b[39m-\u001b[39m\u001b[39m>\u001b[39m \u001b[39mNone\u001b[39;00m:\n\u001b[1;32m     59\u001b[0m     \u001b[39mself\u001b[39m\u001b[39m.\u001b[39menvironment \u001b[39m=\u001b[39m environment\n\u001b[0;32m---> 60\u001b[0m     \u001b[39mself\u001b[39m\u001b[39m.\u001b[39mstream \u001b[39m=\u001b[39m environment\u001b[39m.\u001b[39;49m_tokenize(source, name, filename, state)\n\u001b[1;32m     61\u001b[0m     \u001b[39mself\u001b[39m\u001b[39m.\u001b[39mname \u001b[39m=\u001b[39m name\n\u001b[1;32m     62\u001b[0m     \u001b[39mself\u001b[39m\u001b[39m.\u001b[39mfilename \u001b[39m=\u001b[39m filename\n",
      "File \u001b[0;32m~/.pyenv/versions/DIVVY_BIKE/lib/python3.10/site-packages/jinja2/environment.py:667\u001b[0m, in \u001b[0;36mEnvironment._tokenize\u001b[0;34m(self, source, name, filename, state)\u001b[0m\n\u001b[1;32m    663\u001b[0m \u001b[39m\"\"\"Called by the parser to do the preprocessing and filtering\u001b[39;00m\n\u001b[1;32m    664\u001b[0m \u001b[39mfor all the extensions.  Returns a :class:`~jinja2.lexer.TokenStream`.\u001b[39;00m\n\u001b[1;32m    665\u001b[0m \u001b[39m\"\"\"\u001b[39;00m\n\u001b[1;32m    666\u001b[0m source \u001b[39m=\u001b[39m \u001b[39mself\u001b[39m\u001b[39m.\u001b[39mpreprocess(source, name, filename)\n\u001b[0;32m--> 667\u001b[0m stream \u001b[39m=\u001b[39m \u001b[39mself\u001b[39;49m\u001b[39m.\u001b[39;49mlexer\u001b[39m.\u001b[39;49mtokenize(source, name, filename, state)\n\u001b[1;32m    669\u001b[0m \u001b[39mfor\u001b[39;00m ext \u001b[39min\u001b[39;00m \u001b[39mself\u001b[39m\u001b[39m.\u001b[39miter_extensions():\n\u001b[1;32m    670\u001b[0m     stream \u001b[39m=\u001b[39m ext\u001b[39m.\u001b[39mfilter_stream(stream)  \u001b[39m# type: ignore\u001b[39;00m\n",
      "File \u001b[0;32m~/.pyenv/versions/DIVVY_BIKE/lib/python3.10/site-packages/jinja2/lexer.py:611\u001b[0m, in \u001b[0;36mLexer.tokenize\u001b[0;34m(self, source, name, filename, state)\u001b[0m\n\u001b[1;32m    609\u001b[0m \u001b[39m\"\"\"Calls tokeniter + tokenize and wraps it in a token stream.\"\"\"\u001b[39;00m\n\u001b[1;32m    610\u001b[0m stream \u001b[39m=\u001b[39m \u001b[39mself\u001b[39m\u001b[39m.\u001b[39mtokeniter(source, name, filename, state)\n\u001b[0;32m--> 611\u001b[0m \u001b[39mreturn\u001b[39;00m TokenStream(\u001b[39mself\u001b[39;49m\u001b[39m.\u001b[39;49mwrap(stream, name, filename), name, filename)\n",
      "File \u001b[0;32m~/.pyenv/versions/DIVVY_BIKE/lib/python3.10/site-packages/jinja2/lexer.py:335\u001b[0m, in \u001b[0;36mTokenStream.__init__\u001b[0;34m(self, generator, name, filename)\u001b[0m\n\u001b[1;32m    333\u001b[0m \u001b[39mself\u001b[39m\u001b[39m.\u001b[39mclosed \u001b[39m=\u001b[39m \u001b[39mFalse\u001b[39;00m\n\u001b[1;32m    334\u001b[0m \u001b[39mself\u001b[39m\u001b[39m.\u001b[39mcurrent \u001b[39m=\u001b[39m Token(\u001b[39m1\u001b[39m, TOKEN_INITIAL, \u001b[39m\"\u001b[39m\u001b[39m\"\u001b[39m)\n\u001b[0;32m--> 335\u001b[0m \u001b[39mnext\u001b[39;49m(\u001b[39mself\u001b[39;49m)\n",
      "File \u001b[0;32m~/.pyenv/versions/DIVVY_BIKE/lib/python3.10/site-packages/jinja2/lexer.py:389\u001b[0m, in \u001b[0;36mTokenStream.__next__\u001b[0;34m(self)\u001b[0m\n\u001b[1;32m    387\u001b[0m \u001b[39melif\u001b[39;00m \u001b[39mself\u001b[39m\u001b[39m.\u001b[39mcurrent\u001b[39m.\u001b[39mtype \u001b[39mis\u001b[39;00m \u001b[39mnot\u001b[39;00m TOKEN_EOF:\n\u001b[1;32m    388\u001b[0m     \u001b[39mtry\u001b[39;00m:\n\u001b[0;32m--> 389\u001b[0m         \u001b[39mself\u001b[39m\u001b[39m.\u001b[39mcurrent \u001b[39m=\u001b[39m \u001b[39mnext\u001b[39;49m(\u001b[39mself\u001b[39;49m\u001b[39m.\u001b[39;49m_iter)\n\u001b[1;32m    390\u001b[0m     \u001b[39mexcept\u001b[39;00m \u001b[39mStopIteration\u001b[39;00m:\n\u001b[1;32m    391\u001b[0m         \u001b[39mself\u001b[39m\u001b[39m.\u001b[39mclose()\n",
      "File \u001b[0;32m~/.pyenv/versions/DIVVY_BIKE/lib/python3.10/site-packages/jinja2/lexer.py:622\u001b[0m, in \u001b[0;36mLexer.wrap\u001b[0;34m(self, stream, name, filename)\u001b[0m\n\u001b[1;32m    613\u001b[0m \u001b[39mdef\u001b[39;00m \u001b[39mwrap\u001b[39m(\n\u001b[1;32m    614\u001b[0m     \u001b[39mself\u001b[39m,\n\u001b[1;32m    615\u001b[0m     stream: t\u001b[39m.\u001b[39mIterable[t\u001b[39m.\u001b[39mTuple[\u001b[39mint\u001b[39m, \u001b[39mstr\u001b[39m, \u001b[39mstr\u001b[39m]],\n\u001b[1;32m    616\u001b[0m     name: t\u001b[39m.\u001b[39mOptional[\u001b[39mstr\u001b[39m] \u001b[39m=\u001b[39m \u001b[39mNone\u001b[39;00m,\n\u001b[1;32m    617\u001b[0m     filename: t\u001b[39m.\u001b[39mOptional[\u001b[39mstr\u001b[39m] \u001b[39m=\u001b[39m \u001b[39mNone\u001b[39;00m,\n\u001b[1;32m    618\u001b[0m ) \u001b[39m-\u001b[39m\u001b[39m>\u001b[39m t\u001b[39m.\u001b[39mIterator[Token]:\n\u001b[1;32m    619\u001b[0m     \u001b[39m\"\"\"This is called with the stream as returned by `tokenize` and wraps\u001b[39;00m\n\u001b[1;32m    620\u001b[0m \u001b[39m    every token in a :class:`Token` and converts the value.\u001b[39;00m\n\u001b[1;32m    621\u001b[0m \u001b[39m    \"\"\"\u001b[39;00m\n\u001b[0;32m--> 622\u001b[0m     \u001b[39mfor\u001b[39;00m lineno, token, value_str \u001b[39min\u001b[39;00m stream:\n\u001b[1;32m    623\u001b[0m         \u001b[39mif\u001b[39;00m token \u001b[39min\u001b[39;00m ignored_tokens:\n\u001b[1;32m    624\u001b[0m             \u001b[39mcontinue\u001b[39;00m\n",
      "File \u001b[0;32m~/.pyenv/versions/DIVVY_BIKE/lib/python3.10/site-packages/jinja2/lexer.py:704\u001b[0m, in \u001b[0;36mLexer.tokeniter\u001b[0;34m(self, source, name, filename, state)\u001b[0m\n\u001b[1;32m    701\u001b[0m \u001b[39mwhile\u001b[39;00m \u001b[39mTrue\u001b[39;00m:\n\u001b[1;32m    702\u001b[0m     \u001b[39m# tokenizer loop\u001b[39;00m\n\u001b[1;32m    703\u001b[0m     \u001b[39mfor\u001b[39;00m regex, tokens, new_state \u001b[39min\u001b[39;00m statetokens:\n\u001b[0;32m--> 704\u001b[0m         m \u001b[39m=\u001b[39m regex\u001b[39m.\u001b[39;49mmatch(source, pos)\n\u001b[1;32m    706\u001b[0m         \u001b[39m# if no match we try again with the next rule\u001b[39;00m\n\u001b[1;32m    707\u001b[0m         \u001b[39mif\u001b[39;00m m \u001b[39mis\u001b[39;00m \u001b[39mNone\u001b[39;00m:\n",
      "\u001b[0;31mKeyboardInterrupt\u001b[0m: "
     ]
    },
    {
     "ename": "",
     "evalue": "",
     "output_type": "error",
     "traceback": [
      "\u001b[1;31mThe Kernel crashed while executing code in the the current cell or a previous cell. Please review the code in the cell(s) to identify a possible cause of the failure. Click <a href='https://aka.ms/vscodeJupyterKernelCrash'>here</a> for more info. View Jupyter <a href='command:jupyter.viewOutput'>log</a> for further details."
     ]
    }
   ],
   "source": [
    "m = Map([41.8781, -87.6298], zoom_start=8)\n",
    "\n",
    "# convert to (n, 2) nd-array format for heatmap\n",
    "#stationArr = station_df_red.values\n",
    "\n",
    "# plot heatmap\n",
    "m.add_child(plugins.HeatMap(heat_data, radius=11))\n",
    "\n",
    "\n",
    "m"
   ]
  },
  {
   "cell_type": "code",
   "execution_count": null,
   "metadata": {},
   "outputs": [],
   "source": []
  }
 ],
 "metadata": {
  "kernelspec": {
   "display_name": "Python 3.10.6 64-bit ('shims')",
   "language": "python",
   "name": "python3"
  },
  "language_info": {
   "codemirror_mode": {
    "name": "ipython",
    "version": 3
   },
   "file_extension": ".py",
   "mimetype": "text/x-python",
   "name": "python",
   "nbconvert_exporter": "python",
   "pygments_lexer": "ipython3",
   "version": "3.10.6"
  },
  "orig_nbformat": 4,
  "vscode": {
   "interpreter": {
    "hash": "3648025edf73e73ba1159d04e874dc4e15a775332e01bb12a6a44f83c0d92c19"
   }
  }
 },
 "nbformat": 4,
 "nbformat_minor": 2
}
