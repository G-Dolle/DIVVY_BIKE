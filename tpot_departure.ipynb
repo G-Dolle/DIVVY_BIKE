{
 "cells": [
  {
   "cell_type": "code",
   "execution_count": 2,
   "metadata": {},
   "outputs": [
    {
     "name": "stderr",
     "output_type": "stream",
     "text": [
      "/home/anson/.pyenv/versions/3.10.6/envs/DIVVY_BIKE/lib/python3.10/site-packages/tqdm/auto.py:22: TqdmWarning: IProgress not found. Please update jupyter and ipywidgets. See https://ipywidgets.readthedocs.io/en/stable/user_install.html\n",
      "  from .autonotebook import tqdm as notebook_tqdm\n"
     ]
    }
   ],
   "source": [
    "# Base\n",
    "import os\n",
    "import pandas as pd\n",
    "import numpy as np\n",
    "\n",
    "from ml_logic.main import preprocess, preprocess_test\n",
    "\n",
    "# AutoML with TPOT\n",
    "import tpot"
   ]
  },
  {
   "cell_type": "code",
   "execution_count": 3,
   "metadata": {},
   "outputs": [
    {
     "name": "stdout",
     "output_type": "stream",
     "text": [
      "Raw data imported\n",
      "Data cleaned and merged\n",
      "features and target dataframes created\n",
      "Geohash of stations computed\n"
     ]
    },
    {
     "name": "stderr",
     "output_type": "stream",
     "text": [
      "/home/anson/code/G-Dolle/DIVVY_BIKE/ml_logic/preprocessor.py:40: SettingWithCopyWarning: \n",
      "A value is trying to be set on a copy of a slice from a DataFrame\n",
      "\n",
      "See the caveats in the documentation: https://pandas.pydata.org/pandas-docs/stable/user_guide/indexing.html#returning-a-view-versus-a-copy\n",
      "  df_stations_reduced.rename(columns={\"name\":\"station_name\"}, inplace=True)\n"
     ]
    },
    {
     "name": "stdout",
     "output_type": "stream",
     "text": [
      "Geohash of stations added to Features dataframe\n",
      "features preprocessed\n",
      "nb_departures picked as target\n",
      "Preprocessing of Training set is done\n",
      "Test Raw data imported\n",
      "Test Data cleaned and merged\n",
      "Test features and target dataframes created\n",
      "nb_departures picked as target\n",
      "Preprocessing of test set is done\n"
     ]
    }
   ],
   "source": [
    "target_chosen = \"nb_departures\"\n",
    "X_processed_df, y_processed_df, preprocessor, df_stations_reduced = preprocess(target_chosen)\n",
    "X_test_processed, y_test_processed=preprocess_test(preprocessor, target_chosen, df_stations_reduced)\n"
   ]
  },
  {
   "cell_type": "code",
   "execution_count": 6,
   "metadata": {},
   "outputs": [
    {
     "data": {
      "text/plain": [
       "((718651, 72), (539439, 72))"
      ]
     },
     "execution_count": 6,
     "metadata": {},
     "output_type": "execute_result"
    }
   ],
   "source": [
    "X_processed_df.shape, X_test_processed.shape"
   ]
  },
  {
   "cell_type": "code",
   "execution_count": 6,
   "metadata": {},
   "outputs": [
    {
     "name": "stdout",
     "output_type": "stream",
     "text": [
      "                                                                                  \n",
      "Generation 1 - Current best internal CV score: -14.374713240662174\n",
      "                                                                                 \n",
      "Generation 2 - Current best internal CV score: -14.374713240662174\n",
      "                                                                               \n",
      "Generation 3 - Current best internal CV score: -14.374713240662174\n",
      "                                                                              \n",
      "Generation 4 - Current best internal CV score: -14.374713240662174\n",
      "                                                            \n",
      "Generation 5 - Current best internal CV score: -14.194450421234865\n",
      "                                                            \n",
      "Best pipeline: ElasticNetCV(DecisionTreeRegressor(DecisionTreeRegressor(input_matrix, max_depth=9, min_samples_leaf=6, min_samples_split=13), max_depth=9, min_samples_leaf=6, min_samples_split=13), l1_ratio=0.15000000000000002, tol=0.0001)\n"
     ]
    },
    {
     "name": "stderr",
     "output_type": "stream",
     "text": [
      "/home/anson/.pyenv/versions/3.10.6/envs/DIVVY_BIKE/lib/python3.10/site-packages/sklearn/metrics/_scorer.py:765: FutureWarning: sklearn.metrics.SCORERS is deprecated and will be removed in v1.3. Please use sklearn.metrics.get_scorer_names to get a list of available scorers and sklearn.metrics.get_metric to get scorer.\n",
      "  warnings.warn(\n"
     ]
    },
    {
     "data": {
      "text/plain": [
       "-9.017513880102376"
      ]
     },
     "execution_count": 6,
     "metadata": {},
     "output_type": "execute_result"
    }
   ],
   "source": [
    "# generations=5, population_size=5\n",
    "model = tpot.TPOTRegressor(generations=5, population_size=5, scoring='neg_mean_squared_error',\n",
    "        verbosity=2, n_jobs=-1)\n",
    "model.fit(X_processed_df, y_processed_df)\n",
    "model.score(X_test_processed, y_test_processed)"
   ]
  },
  {
   "cell_type": "code",
   "execution_count": 7,
   "metadata": {},
   "outputs": [
    {
     "name": "stdout",
     "output_type": "stream",
     "text": [
      "                                                                              \n",
      "Generation 1 - Current best internal CV score: -15.653336254008853\n",
      "                                                                            \n",
      "Generation 2 - Current best internal CV score: -15.621119181161939\n",
      "                                                                            \n",
      "Generation 3 - Current best internal CV score: -15.621119181161939\n",
      "                                                                            \n",
      "Generation 4 - Current best internal CV score: -15.611652618164593\n",
      "                                                                            \n",
      "                                                                            \n",
      "TPOT closed during evaluation in one generation.\n",
      "WARNING: TPOT may not provide a good pipeline if TPOT is stopped/interrupted in a early generation.\n",
      "                                                                            \n",
      "                                                                            \n",
      "TPOT closed prematurely. Will use the current best pipeline.\n",
      "                                                                            \n",
      "Best pipeline: LinearSVR(MaxAbsScaler(input_matrix), C=0.1, dual=True, epsilon=0.0001, loss=squared_epsilon_insensitive, tol=0.1)\n"
     ]
    },
    {
     "name": "stderr",
     "output_type": "stream",
     "text": [
      "/home/anson/.pyenv/versions/3.10.6/envs/DIVVY_BIKE/lib/python3.10/site-packages/sklearn/metrics/_scorer.py:765: FutureWarning: sklearn.metrics.SCORERS is deprecated and will be removed in v1.3. Please use sklearn.metrics.get_scorer_names to get a list of available scorers and sklearn.metrics.get_metric to get scorer.\n",
      "  warnings.warn(\n"
     ]
    },
    {
     "data": {
      "text/plain": [
       "-8.621775379577924"
      ]
     },
     "execution_count": 7,
     "metadata": {},
     "output_type": "execute_result"
    }
   ],
   "source": [
    "# generations=10, population_size=5\n",
    "model = tpot.TPOTRegressor(generations=10, population_size=5, scoring='neg_mean_squared_error',\n",
    "        verbosity=2, n_jobs=-1)\n",
    "model.fit(X_processed_df, y_processed_df)\n",
    "model.score(X_test_processed, y_test_processed)"
   ]
  },
  {
   "cell_type": "code",
   "execution_count": null,
   "metadata": {},
   "outputs": [
    {
     "name": "stdout",
     "output_type": "stream",
     "text": [
      "                                                                              \n",
      "Generation 1 - Current best internal CV score: -15.534825586181586\n",
      "                                                                            \n",
      "Generation 2 - Current best internal CV score: -15.534825586181586\n",
      "                                                                            \n",
      "Generation 3 - Current best internal CV score: -15.213895785064278\n",
      "                                                                            \n",
      "Generation 4 - Current best internal CV score: -15.213895785064278\n",
      "                                                                            \n",
      "Generation 5 - Current best internal CV score: -15.213895785064278\n",
      "                                                                            \n",
      "Generation 6 - Current best internal CV score: -14.984369466530989\n",
      "                                                                            \n",
      "Generation 7 - Current best internal CV score: -14.984369466530989\n",
      "                                                                            \n",
      "Generation 8 - Current best internal CV score: -14.984369466530989\n",
      "                                                                            \n",
      "Generation 9 - Current best internal CV score: -14.984369466530989\n",
      "                                                          \n",
      "Generation 10 - Current best internal CV score: -14.984369466530989\n",
      "                                                          \n",
      "Best pipeline: DecisionTreeRegressor(RidgeCV(input_matrix), max_depth=4, min_samples_leaf=10, min_samples_split=19)\n"
     ]
    },
    {
     "name": "stderr",
     "output_type": "stream",
     "text": [
      "/home/anson/.pyenv/versions/3.10.6/envs/DIVVY_BIKE/lib/python3.10/site-packages/sklearn/metrics/_scorer.py:765: FutureWarning: sklearn.metrics.SCORERS is deprecated and will be removed in v1.3. Please use sklearn.metrics.get_scorer_names to get a list of available scorers and sklearn.metrics.get_metric to get scorer.\n",
      "  warnings.warn(\n"
     ]
    },
    {
     "data": {
      "text/plain": [
       "-7.324031625413622"
      ]
     },
     "execution_count": 10,
     "metadata": {},
     "output_type": "execute_result"
    }
   ],
   "source": [
    "# generations=10, population_size=20\n",
    "model = tpot.TPOTRegressor(generations=10, population_size=5, scoring='neg_mean_squared_error',\n",
    "        verbosity=2, n_jobs=-1)\n",
    "model.fit(X_processed_df, y_processed_df)\n",
    "model.score(X_test_processed, y_test_processed)"
   ]
  },
  {
   "cell_type": "code",
   "execution_count": null,
   "metadata": {},
   "outputs": [
    {
     "name": "stdout",
     "output_type": "stream",
     "text": [
      "Optimization Progress:   0%|          | 0/110 [00:00<?, ?pipeline/s]"
     ]
    }
   ],
   "source": [
    "# generations=20, population_size=20\n",
    "model = tpot.TPOTRegressor(generations=10, population_size=5, scoring='neg_mean_squared_error',\n",
    "        verbosity=2, n_jobs=-1)\n",
    "model.fit(X_processed_df, y_processed_df)\n",
    "model.score(X_test_processed, y_test_processed)"
   ]
  },
  {
   "cell_type": "code",
   "execution_count": null,
   "metadata": {},
   "outputs": [],
   "source": [
    "# Export the result\n",
    "model.export('tpot_departure.py')"
   ]
  }
 ],
 "metadata": {
  "kernelspec": {
   "display_name": "DIVVY_BIKE",
   "language": "python",
   "name": "python3"
  },
  "language_info": {
   "codemirror_mode": {
    "name": "ipython",
    "version": 3
   },
   "file_extension": ".py",
   "mimetype": "text/x-python",
   "name": "python",
   "nbconvert_exporter": "python",
   "pygments_lexer": "ipython3",
   "version": "3.10.6"
  },
  "orig_nbformat": 4,
  "vscode": {
   "interpreter": {
    "hash": "fb450ce56fa53d25385c7c67a6fb73f2070f05b91784cbf37427525e0726ed1f"
   }
  }
 },
 "nbformat": 4,
 "nbformat_minor": 2
}
