{
 "cells": [
  {
   "attachments": {},
   "cell_type": "markdown",
   "id": "e60e3eef",
   "metadata": {},
   "source": [
    "# Imports"
   ]
  },
  {
   "cell_type": "code",
   "execution_count": 5,
   "id": "c0f3d0d3",
   "metadata": {},
   "outputs": [],
   "source": [
    "import divvy.ml_logic\n",
    "\n",
    "import pandas as pd\n",
    "import os"
   ]
  },
  {
   "cell_type": "markdown",
   "id": "f00b8dee",
   "metadata": {},
   "source": [
    "# Concatenate 2021 Divvy data\n"
   ]
  },
  {
   "cell_type": "code",
   "execution_count": 11,
   "id": "2c60ecda",
   "metadata": {},
   "outputs": [],
   "source": [
    "\n",
    "# specifying the path to csv files\n",
    "\n",
    "\n",
    "\n",
    "# path0 = os.path.dirname(__file__)\n",
    "path='/Users/joachimclodic/code/G-Dolle/DIVVY_BIKE/raw_data/2021'\n",
    "# path = os.path.join(path0, 'raw_data', 'Divvy_20', 'Divvy_Trips_2020_Q4')\n",
    "\n",
    "df =[]\n",
    "for file in os.listdir(path):\n",
    "    if file.endswith('.csv'):\n",
    "        df.append(pd.read_csv(os.path.join(path, file)))\n",
    "\n",
    "df_master = pd.concat(df, axis=0)\n",
    "# df_master.to_csv('2021bis.csv', index=False)\n",
    "df_master.to_csv('/Users/joachimclodic/code/G-Dolle/DIVVY_BIKE/raw_data/2021/2021bis.csv')"
   ]
  },
  {
   "cell_type": "code",
   "execution_count": 15,
   "id": "012ae04e",
   "metadata": {},
   "outputs": [
    {
     "data": {
      "text/html": [
       "<div>\n",
       "<style scoped>\n",
       "    .dataframe tbody tr th:only-of-type {\n",
       "        vertical-align: middle;\n",
       "    }\n",
       "\n",
       "    .dataframe tbody tr th {\n",
       "        vertical-align: top;\n",
       "    }\n",
       "\n",
       "    .dataframe thead th {\n",
       "        text-align: right;\n",
       "    }\n",
       "</style>\n",
       "<table border=\"1\" class=\"dataframe\">\n",
       "  <thead>\n",
       "    <tr style=\"text-align: right;\">\n",
       "      <th></th>\n",
       "      <th>Unnamed: 0.1</th>\n",
       "      <th>Unnamed: 0</th>\n",
       "      <th>ride_id</th>\n",
       "      <th>rideable_type</th>\n",
       "      <th>started_at</th>\n",
       "      <th>ended_at</th>\n",
       "      <th>start_station_name</th>\n",
       "      <th>start_station_id</th>\n",
       "      <th>end_station_name</th>\n",
       "      <th>end_station_id</th>\n",
       "      <th>start_lat</th>\n",
       "      <th>start_lng</th>\n",
       "      <th>end_lat</th>\n",
       "      <th>end_lng</th>\n",
       "      <th>member_casual</th>\n",
       "    </tr>\n",
       "  </thead>\n",
       "  <tbody>\n",
       "    <tr>\n",
       "      <th>0</th>\n",
       "      <td>0</td>\n",
       "      <td>0.0</td>\n",
       "      <td>7C00A93E10556E47</td>\n",
       "      <td>electric_bike</td>\n",
       "      <td>2021-11-27 13:27:38</td>\n",
       "      <td>2021-11-27 13:46:38</td>\n",
       "      <td>NaN</td>\n",
       "      <td>NaN</td>\n",
       "      <td>NaN</td>\n",
       "      <td>NaN</td>\n",
       "      <td>41.93</td>\n",
       "      <td>-87.72</td>\n",
       "      <td>41.96</td>\n",
       "      <td>-87.73</td>\n",
       "      <td>casual</td>\n",
       "    </tr>\n",
       "    <tr>\n",
       "      <th>1</th>\n",
       "      <td>1</td>\n",
       "      <td>1.0</td>\n",
       "      <td>90854840DFD508BA</td>\n",
       "      <td>electric_bike</td>\n",
       "      <td>2021-11-27 13:38:25</td>\n",
       "      <td>2021-11-27 13:56:10</td>\n",
       "      <td>NaN</td>\n",
       "      <td>NaN</td>\n",
       "      <td>NaN</td>\n",
       "      <td>NaN</td>\n",
       "      <td>41.96</td>\n",
       "      <td>-87.70</td>\n",
       "      <td>41.92</td>\n",
       "      <td>-87.70</td>\n",
       "      <td>casual</td>\n",
       "    </tr>\n",
       "    <tr>\n",
       "      <th>2</th>\n",
       "      <td>2</td>\n",
       "      <td>2.0</td>\n",
       "      <td>0A7D10CDD144061C</td>\n",
       "      <td>electric_bike</td>\n",
       "      <td>2021-11-26 22:03:34</td>\n",
       "      <td>2021-11-26 22:05:56</td>\n",
       "      <td>NaN</td>\n",
       "      <td>NaN</td>\n",
       "      <td>NaN</td>\n",
       "      <td>NaN</td>\n",
       "      <td>41.96</td>\n",
       "      <td>-87.70</td>\n",
       "      <td>41.96</td>\n",
       "      <td>-87.70</td>\n",
       "      <td>casual</td>\n",
       "    </tr>\n",
       "    <tr>\n",
       "      <th>3</th>\n",
       "      <td>3</td>\n",
       "      <td>3.0</td>\n",
       "      <td>2F3BE33085BCFF02</td>\n",
       "      <td>electric_bike</td>\n",
       "      <td>2021-11-27 09:56:49</td>\n",
       "      <td>2021-11-27 10:01:50</td>\n",
       "      <td>NaN</td>\n",
       "      <td>NaN</td>\n",
       "      <td>NaN</td>\n",
       "      <td>NaN</td>\n",
       "      <td>41.94</td>\n",
       "      <td>-87.79</td>\n",
       "      <td>41.93</td>\n",
       "      <td>-87.79</td>\n",
       "      <td>casual</td>\n",
       "    </tr>\n",
       "    <tr>\n",
       "      <th>4</th>\n",
       "      <td>4</td>\n",
       "      <td>4.0</td>\n",
       "      <td>D67B4781A19928D4</td>\n",
       "      <td>electric_bike</td>\n",
       "      <td>2021-11-26 19:09:28</td>\n",
       "      <td>2021-11-26 19:30:41</td>\n",
       "      <td>NaN</td>\n",
       "      <td>NaN</td>\n",
       "      <td>NaN</td>\n",
       "      <td>NaN</td>\n",
       "      <td>41.90</td>\n",
       "      <td>-87.63</td>\n",
       "      <td>41.88</td>\n",
       "      <td>-87.62</td>\n",
       "      <td>casual</td>\n",
       "    </tr>\n",
       "  </tbody>\n",
       "</table>\n",
       "</div>"
      ],
      "text/plain": [
       "   Unnamed: 0.1  Unnamed: 0           ride_id  rideable_type  \\\n",
       "0             0         0.0  7C00A93E10556E47  electric_bike   \n",
       "1             1         1.0  90854840DFD508BA  electric_bike   \n",
       "2             2         2.0  0A7D10CDD144061C  electric_bike   \n",
       "3             3         3.0  2F3BE33085BCFF02  electric_bike   \n",
       "4             4         4.0  D67B4781A19928D4  electric_bike   \n",
       "\n",
       "            started_at             ended_at start_station_name  \\\n",
       "0  2021-11-27 13:27:38  2021-11-27 13:46:38                NaN   \n",
       "1  2021-11-27 13:38:25  2021-11-27 13:56:10                NaN   \n",
       "2  2021-11-26 22:03:34  2021-11-26 22:05:56                NaN   \n",
       "3  2021-11-27 09:56:49  2021-11-27 10:01:50                NaN   \n",
       "4  2021-11-26 19:09:28  2021-11-26 19:30:41                NaN   \n",
       "\n",
       "  start_station_id end_station_name end_station_id  start_lat  start_lng  \\\n",
       "0              NaN              NaN            NaN      41.93     -87.72   \n",
       "1              NaN              NaN            NaN      41.96     -87.70   \n",
       "2              NaN              NaN            NaN      41.96     -87.70   \n",
       "3              NaN              NaN            NaN      41.94     -87.79   \n",
       "4              NaN              NaN            NaN      41.90     -87.63   \n",
       "\n",
       "   end_lat  end_lng member_casual  \n",
       "0    41.96   -87.73        casual  \n",
       "1    41.92   -87.70        casual  \n",
       "2    41.96   -87.70        casual  \n",
       "3    41.93   -87.79        casual  \n",
       "4    41.88   -87.62        casual  "
      ]
     },
     "execution_count": 15,
     "metadata": {},
     "output_type": "execute_result"
    }
   ],
   "source": [
    "df_2021=pd.read_csv('/Users/joachimclodic/code/G-Dolle/DIVVY_BIKE/raw_data/2021/2021bis.csv')\n",
    "# df_2021=pd.DataFrame(df_2021)\n",
    "df_2021.head()"
   ]
  },
  {
   "attachments": {},
   "cell_type": "markdown",
   "id": "4d3a1b70",
   "metadata": {},
   "source": [
    "# Cleaning dataset with hourly data"
   ]
  },
  {
   "cell_type": "code",
   "execution_count": 14,
   "id": "16d6f84f",
   "metadata": {},
   "outputs": [
    {
     "ename": "TypeError",
     "evalue": "int() argument must be a string, a bytes-like object or a real number, not 'NoneType'",
     "output_type": "error",
     "traceback": [
      "\u001b[0;31m---------------------------------------------------------------------------\u001b[0m",
      "\u001b[0;31mTypeError\u001b[0m                                 Traceback (most recent call last)",
      "Cell \u001b[0;32mIn[14], line 1\u001b[0m\n\u001b[0;32m----> 1\u001b[0m \u001b[39mfrom\u001b[39;00m \u001b[39mdivvy\u001b[39;00m\u001b[39m.\u001b[39;00m\u001b[39mml_logic\u001b[39;00m\u001b[39m.\u001b[39;00m\u001b[39mcleaning\u001b[39;00m \u001b[39mimport\u001b[39;00m cleaning_divvy_gen_agg\n\u001b[1;32m      3\u001b[0m df_test\u001b[39m=\u001b[39mcleaning_divvy_gen_agg(df_2021)\n\u001b[1;32m      4\u001b[0m df_test\u001b[39m.\u001b[39mhead()\n",
      "File \u001b[0;32m~/code/G-Dolle/DIVVY_BIKE/divvy/ml_logic/cleaning.py:9\u001b[0m\n\u001b[1;32m      6\u001b[0m \u001b[39mimport\u001b[39;00m \u001b[39mpygeohash\u001b[39;00m \u001b[39mas\u001b[39;00m \u001b[39mgh\u001b[39;00m\n\u001b[1;32m      7\u001b[0m \u001b[39mimport\u001b[39;00m \u001b[39mos\u001b[39;00m\n\u001b[0;32m----> 9\u001b[0m precision_level\u001b[39m=\u001b[39m \u001b[39mint\u001b[39;49m(os\u001b[39m.\u001b[39;49menviron\u001b[39m.\u001b[39;49mget(\u001b[39m\"\u001b[39;49m\u001b[39mPRECISION_LEVEL\u001b[39;49m\u001b[39m\"\u001b[39;49m))\n\u001b[1;32m     11\u001b[0m \u001b[39mdef\u001b[39;00m \u001b[39mcompute_geohash_stations\u001b[39m(precision: \u001b[39mint\u001b[39m \u001b[39m=\u001b[39m \u001b[39m4\u001b[39m) \u001b[39m-\u001b[39m\u001b[39m>\u001b[39m np\u001b[39m.\u001b[39mndarray:\n\u001b[1;32m     12\u001b[0m     \u001b[39m\"\"\"\u001b[39;00m\n\u001b[1;32m     13\u001b[0m \u001b[39m    Add a geohash (ex: “dr5rx”) of len “precision” = 5 by default\u001b[39;00m\n\u001b[1;32m     14\u001b[0m \u001b[39m    corresponding to each (lon,lat) tuple, for pick-up, and drop-off\u001b[39;00m\n\u001b[1;32m     15\u001b[0m \u001b[39m    \"\"\"\u001b[39;00m\n",
      "\u001b[0;31mTypeError\u001b[0m: int() argument must be a string, a bytes-like object or a real number, not 'NoneType'"
     ]
    }
   ],
   "source": [
    "from divvy.ml_logic.cleaning import cleaning_divvy_gen_agg\n",
    "\n",
    "df_test=cleaning_divvy_gen_agg(df_2021)\n",
    "df_test.head()"
   ]
  },
  {
   "attachments": {},
   "cell_type": "markdown",
   "id": "56aa5398",
   "metadata": {},
   "source": [
    "# Aggregating per hour"
   ]
  },
  {
   "cell_type": "code",
   "execution_count": 63,
   "id": "63c10387",
   "metadata": {},
   "outputs": [
    {
     "data": {
      "text/html": [
       "<div>\n",
       "<style scoped>\n",
       "    .dataframe tbody tr th:only-of-type {\n",
       "        vertical-align: middle;\n",
       "    }\n",
       "\n",
       "    .dataframe tbody tr th {\n",
       "        vertical-align: top;\n",
       "    }\n",
       "\n",
       "    .dataframe thead th {\n",
       "        text-align: right;\n",
       "    }\n",
       "</style>\n",
       "<table border=\"1\" class=\"dataframe\">\n",
       "  <thead>\n",
       "    <tr style=\"text-align: right;\">\n",
       "      <th></th>\n",
       "      <th>geohash</th>\n",
       "      <th>hourly_data</th>\n",
       "      <th>nb_departures</th>\n",
       "      <th>nb_arrivals</th>\n",
       "      <th>ratio</th>\n",
       "      <th>hour</th>\n",
       "    </tr>\n",
       "  </thead>\n",
       "  <tbody>\n",
       "    <tr>\n",
       "      <th>0</th>\n",
       "      <td>dp3s</td>\n",
       "      <td>2021-01-16 16:00:00</td>\n",
       "      <td>1.0</td>\n",
       "      <td>0.0</td>\n",
       "      <td>inf</td>\n",
       "      <td>16</td>\n",
       "    </tr>\n",
       "    <tr>\n",
       "      <th>1</th>\n",
       "      <td>dp3s</td>\n",
       "      <td>2021-01-21 14:00:00</td>\n",
       "      <td>1.0</td>\n",
       "      <td>1.0</td>\n",
       "      <td>1.0</td>\n",
       "      <td>14</td>\n",
       "    </tr>\n",
       "    <tr>\n",
       "      <th>2</th>\n",
       "      <td>dp3s</td>\n",
       "      <td>2021-02-23 17:00:00</td>\n",
       "      <td>1.0</td>\n",
       "      <td>1.0</td>\n",
       "      <td>1.0</td>\n",
       "      <td>17</td>\n",
       "    </tr>\n",
       "    <tr>\n",
       "      <th>3</th>\n",
       "      <td>dp3s</td>\n",
       "      <td>2021-03-05 11:00:00</td>\n",
       "      <td>1.0</td>\n",
       "      <td>1.0</td>\n",
       "      <td>1.0</td>\n",
       "      <td>11</td>\n",
       "    </tr>\n",
       "    <tr>\n",
       "      <th>4</th>\n",
       "      <td>dp3s</td>\n",
       "      <td>2021-03-05 16:00:00</td>\n",
       "      <td>1.0</td>\n",
       "      <td>1.0</td>\n",
       "      <td>1.0</td>\n",
       "      <td>16</td>\n",
       "    </tr>\n",
       "  </tbody>\n",
       "</table>\n",
       "</div>"
      ],
      "text/plain": [
       "  geohash         hourly_data  nb_departures  nb_arrivals  ratio  hour\n",
       "0    dp3s 2021-01-16 16:00:00            1.0          0.0    inf    16\n",
       "1    dp3s 2021-01-21 14:00:00            1.0          1.0    1.0    14\n",
       "2    dp3s 2021-02-23 17:00:00            1.0          1.0    1.0    17\n",
       "3    dp3s 2021-03-05 11:00:00            1.0          1.0    1.0    11\n",
       "4    dp3s 2021-03-05 16:00:00            1.0          1.0    1.0    16"
      ]
     },
     "execution_count": 63,
     "metadata": {},
     "output_type": "execute_result"
    }
   ],
   "source": [
    "import datetime as dt \n",
    "\n",
    "df_test['hour']=df_test['hourly_data'].dt.hour\n",
    "df_test.head()"
   ]
  },
  {
   "cell_type": "code",
   "execution_count": 84,
   "id": "39edd2cd",
   "metadata": {},
   "outputs": [
    {
     "name": "stderr",
     "output_type": "stream",
     "text": [
      "/var/folders/gb/qjky1sf50r7fl6wr5lzmnwq40000gn/T/ipykernel_86955/334722700.py:1: FutureWarning: The default value of numeric_only in DataFrameGroupBy.mean is deprecated. In a future version, numeric_only will default to False. Either specify numeric_only or select only columns which should be valid for the function.\n",
      "  df_per_hour=df_test.groupby(by=['hour'],as_index=False).mean()\n"
     ]
    },
    {
     "data": {
      "text/html": [
       "<div>\n",
       "<style scoped>\n",
       "    .dataframe tbody tr th:only-of-type {\n",
       "        vertical-align: middle;\n",
       "    }\n",
       "\n",
       "    .dataframe tbody tr th {\n",
       "        vertical-align: top;\n",
       "    }\n",
       "\n",
       "    .dataframe thead th {\n",
       "        text-align: right;\n",
       "    }\n",
       "</style>\n",
       "<table border=\"1\" class=\"dataframe\">\n",
       "  <thead>\n",
       "    <tr style=\"text-align: right;\">\n",
       "      <th></th>\n",
       "      <th>hour</th>\n",
       "      <th>nb_departures</th>\n",
       "      <th>nb_arrivals</th>\n",
       "      <th>ratio</th>\n",
       "      <th>weekday</th>\n",
       "    </tr>\n",
       "  </thead>\n",
       "  <tbody>\n",
       "    <tr>\n",
       "      <th>0</th>\n",
       "      <td>0</td>\n",
       "      <td>1.465653</td>\n",
       "      <td>1.414055</td>\n",
       "      <td>NaN</td>\n",
       "      <td>3.054028</td>\n",
       "    </tr>\n",
       "    <tr>\n",
       "      <th>1</th>\n",
       "      <td>1</td>\n",
       "      <td>1.366458</td>\n",
       "      <td>1.334243</td>\n",
       "      <td>NaN</td>\n",
       "      <td>3.060988</td>\n",
       "    </tr>\n",
       "    <tr>\n",
       "      <th>2</th>\n",
       "      <td>2</td>\n",
       "      <td>1.290708</td>\n",
       "      <td>1.272358</td>\n",
       "      <td>NaN</td>\n",
       "      <td>3.132890</td>\n",
       "    </tr>\n",
       "    <tr>\n",
       "      <th>3</th>\n",
       "      <td>3</td>\n",
       "      <td>1.202241</td>\n",
       "      <td>1.247883</td>\n",
       "      <td>NaN</td>\n",
       "      <td>3.148515</td>\n",
       "    </tr>\n",
       "    <tr>\n",
       "      <th>4</th>\n",
       "      <td>4</td>\n",
       "      <td>1.068675</td>\n",
       "      <td>1.068672</td>\n",
       "      <td>NaN</td>\n",
       "      <td>3.155609</td>\n",
       "    </tr>\n",
       "    <tr>\n",
       "      <th>5</th>\n",
       "      <td>5</td>\n",
       "      <td>1.010309</td>\n",
       "      <td>1.060847</td>\n",
       "      <td>NaN</td>\n",
       "      <td>2.914871</td>\n",
       "    </tr>\n",
       "    <tr>\n",
       "      <th>6</th>\n",
       "      <td>6</td>\n",
       "      <td>1.183542</td>\n",
       "      <td>1.265325</td>\n",
       "      <td>NaN</td>\n",
       "      <td>3.019231</td>\n",
       "    </tr>\n",
       "    <tr>\n",
       "      <th>7</th>\n",
       "      <td>7</td>\n",
       "      <td>1.385329</td>\n",
       "      <td>1.459052</td>\n",
       "      <td>NaN</td>\n",
       "      <td>2.994329</td>\n",
       "    </tr>\n",
       "    <tr>\n",
       "      <th>8</th>\n",
       "      <td>8</td>\n",
       "      <td>1.620485</td>\n",
       "      <td>1.673431</td>\n",
       "      <td>NaN</td>\n",
       "      <td>3.009183</td>\n",
       "    </tr>\n",
       "    <tr>\n",
       "      <th>9</th>\n",
       "      <td>9</td>\n",
       "      <td>1.687223</td>\n",
       "      <td>1.797825</td>\n",
       "      <td>NaN</td>\n",
       "      <td>3.008108</td>\n",
       "    </tr>\n",
       "  </tbody>\n",
       "</table>\n",
       "</div>"
      ],
      "text/plain": [
       "   hour  nb_departures  nb_arrivals  ratio   weekday\n",
       "0     0       1.465653     1.414055    NaN  3.054028\n",
       "1     1       1.366458     1.334243    NaN  3.060988\n",
       "2     2       1.290708     1.272358    NaN  3.132890\n",
       "3     3       1.202241     1.247883    NaN  3.148515\n",
       "4     4       1.068675     1.068672    NaN  3.155609\n",
       "5     5       1.010309     1.060847    NaN  2.914871\n",
       "6     6       1.183542     1.265325    NaN  3.019231\n",
       "7     7       1.385329     1.459052    NaN  2.994329\n",
       "8     8       1.620485     1.673431    NaN  3.009183\n",
       "9     9       1.687223     1.797825    NaN  3.008108"
      ]
     },
     "execution_count": 84,
     "metadata": {},
     "output_type": "execute_result"
    }
   ],
   "source": [
    "df_per_hour=df_test.groupby(by=['hour'],as_index=False).mean()\n",
    "df_per_hour.head(10)"
   ]
  },
  {
   "attachments": {},
   "cell_type": "markdown",
   "id": "2694a55b",
   "metadata": {},
   "source": [
    "# Graphical analysis"
   ]
  },
  {
   "attachments": {},
   "cell_type": "markdown",
   "id": "f7202092",
   "metadata": {},
   "source": [
    "## Hourly "
   ]
  },
  {
   "cell_type": "code",
   "execution_count": 65,
   "id": "1984e5c4",
   "metadata": {},
   "outputs": [
    {
     "data": {
      "text/plain": [
       "[<matplotlib.lines.Line2D at 0x2dc0c5180>]"
      ]
     },
     "execution_count": 65,
     "metadata": {},
     "output_type": "execute_result"
    },
    {
     "data": {
      "image/png": "[encoded data removed]",
      "text/plain": [
       "<Figure size 640x480 with 1 Axes>"
      ]
     },
     "metadata": {},
     "output_type": "display_data"
    }
   ],
   "source": [
    "import matplotlib.pyplot as plt\n",
    "\n",
    "plt.plot(df_per_hour['hour'],df_per_hour['nb_departures'])\n",
    "plt.plot(df_per_hour['hour'],df_per_hour['nb_arrivals'])\n"
   ]
  },
  {
   "cell_type": "markdown",
   "id": "9e579a94",
   "metadata": {},
   "source": [
    "## Weekend vs weekdays"
   ]
  },
  {
   "cell_type": "code",
   "execution_count": 66,
   "id": "a6e05bd6",
   "metadata": {},
   "outputs": [
    {
     "name": "stderr",
     "output_type": "stream",
     "text": [
      "/var/folders/gb/qjky1sf50r7fl6wr5lzmnwq40000gn/T/ipykernel_86955/686274986.py:4: FutureWarning: The default value of numeric_only in DataFrameGroupBy.mean is deprecated. In a future version, numeric_only will default to False. Either specify numeric_only or select only columns which should be valid for the function.\n",
      "  df_weekend=df_weekend.groupby(by=['weekday'],as_index=False).mean()\n"
     ]
    },
    {
     "data": {
      "text/html": [
       "<div>\n",
       "<style scoped>\n",
       "    .dataframe tbody tr th:only-of-type {\n",
       "        vertical-align: middle;\n",
       "    }\n",
       "\n",
       "    .dataframe tbody tr th {\n",
       "        vertical-align: top;\n",
       "    }\n",
       "\n",
       "    .dataframe thead th {\n",
       "        text-align: right;\n",
       "    }\n",
       "</style>\n",
       "<table border=\"1\" class=\"dataframe\">\n",
       "  <thead>\n",
       "    <tr style=\"text-align: right;\">\n",
       "      <th></th>\n",
       "      <th>weekday</th>\n",
       "      <th>nb_departures</th>\n",
       "      <th>nb_arrivals</th>\n",
       "    </tr>\n",
       "  </thead>\n",
       "  <tbody>\n",
       "    <tr>\n",
       "      <th>0</th>\n",
       "      <td>0</td>\n",
       "      <td>1.659870</td>\n",
       "      <td>1.651106</td>\n",
       "    </tr>\n",
       "    <tr>\n",
       "      <th>1</th>\n",
       "      <td>1</td>\n",
       "      <td>1.676888</td>\n",
       "      <td>1.677410</td>\n",
       "    </tr>\n",
       "    <tr>\n",
       "      <th>2</th>\n",
       "      <td>2</td>\n",
       "      <td>1.670625</td>\n",
       "      <td>1.669347</td>\n",
       "    </tr>\n",
       "    <tr>\n",
       "      <th>3</th>\n",
       "      <td>3</td>\n",
       "      <td>1.646203</td>\n",
       "      <td>1.644340</td>\n",
       "    </tr>\n",
       "    <tr>\n",
       "      <th>4</th>\n",
       "      <td>4</td>\n",
       "      <td>1.685336</td>\n",
       "      <td>1.691944</td>\n",
       "    </tr>\n",
       "  </tbody>\n",
       "</table>\n",
       "</div>"
      ],
      "text/plain": [
       "   weekday  nb_departures  nb_arrivals\n",
       "0        0       1.659870     1.651106\n",
       "1        1       1.676888     1.677410\n",
       "2        2       1.670625     1.669347\n",
       "3        3       1.646203     1.644340\n",
       "4        4       1.685336     1.691944"
      ]
     },
     "execution_count": 66,
     "metadata": {},
     "output_type": "execute_result"
    }
   ],
   "source": [
    "df_weekend=df_test\n",
    "df_weekend=df_weekend.drop(columns=['hour','ratio'])\n",
    "df_weekend['weekday']=df_weekend['hourly_data'].dt.weekday\n",
    "df_weekend=df_weekend.groupby(by=['weekday'],as_index=False).mean()\n",
    "df_weekend.head()"
   ]
  },
  {
   "cell_type": "code",
   "execution_count": 67,
   "id": "f687635f",
   "metadata": {},
   "outputs": [
    {
     "data": {
      "text/plain": [
       "[<matplotlib.lines.Line2D at 0x2da8c4490>]"
      ]
     },
     "execution_count": 67,
     "metadata": {},
     "output_type": "execute_result"
    },
    {
     "data": {
      "image/png": "[encoded data removed]",
      "text/plain": [
       "<Figure size 640x480 with 1 Axes>"
      ]
     },
     "metadata": {},
     "output_type": "display_data"
    }
   ],
   "source": [
    "plt.plot(df_weekend['weekday'],df_weekend['nb_departures'])\n",
    "plt.plot(df_weekend['weekday'],df_weekend['nb_arrivals'])"
   ]
  },
  {
   "cell_type": "code",
   "execution_count": 69,
   "id": "fc8842e4",
   "metadata": {},
   "outputs": [
    {
     "data": {
      "text/html": [
       "<div>\n",
       "<style scoped>\n",
       "    .dataframe tbody tr th:only-of-type {\n",
       "        vertical-align: middle;\n",
       "    }\n",
       "\n",
       "    .dataframe tbody tr th {\n",
       "        vertical-align: top;\n",
       "    }\n",
       "\n",
       "    .dataframe thead th {\n",
       "        text-align: right;\n",
       "    }\n",
       "</style>\n",
       "<table border=\"1\" class=\"dataframe\">\n",
       "  <thead>\n",
       "    <tr style=\"text-align: right;\">\n",
       "      <th></th>\n",
       "      <th>geohash</th>\n",
       "      <th>hourly_data</th>\n",
       "      <th>nb_departures</th>\n",
       "      <th>nb_arrivals</th>\n",
       "      <th>ratio</th>\n",
       "      <th>hour</th>\n",
       "      <th>weekday</th>\n",
       "    </tr>\n",
       "  </thead>\n",
       "  <tbody>\n",
       "    <tr>\n",
       "      <th>0</th>\n",
       "      <td>dp3s</td>\n",
       "      <td>2021-01-16 16:00:00</td>\n",
       "      <td>1.0</td>\n",
       "      <td>0.0</td>\n",
       "      <td>inf</td>\n",
       "      <td>16</td>\n",
       "      <td>5</td>\n",
       "    </tr>\n",
       "    <tr>\n",
       "      <th>11</th>\n",
       "      <td>dp3s</td>\n",
       "      <td>2021-03-13 16:00:00</td>\n",
       "      <td>1.0</td>\n",
       "      <td>1.0</td>\n",
       "      <td>1.0</td>\n",
       "      <td>16</td>\n",
       "      <td>5</td>\n",
       "    </tr>\n",
       "    <tr>\n",
       "      <th>14</th>\n",
       "      <td>dp3s</td>\n",
       "      <td>2021-03-20 05:00:00</td>\n",
       "      <td>1.0</td>\n",
       "      <td>0.0</td>\n",
       "      <td>inf</td>\n",
       "      <td>5</td>\n",
       "      <td>5</td>\n",
       "    </tr>\n",
       "    <tr>\n",
       "      <th>15</th>\n",
       "      <td>dp3s</td>\n",
       "      <td>2021-03-20 14:00:00</td>\n",
       "      <td>1.0</td>\n",
       "      <td>0.0</td>\n",
       "      <td>inf</td>\n",
       "      <td>14</td>\n",
       "      <td>5</td>\n",
       "    </tr>\n",
       "    <tr>\n",
       "      <th>16</th>\n",
       "      <td>dp3s</td>\n",
       "      <td>2021-03-21 13:00:00</td>\n",
       "      <td>1.0</td>\n",
       "      <td>1.0</td>\n",
       "      <td>1.0</td>\n",
       "      <td>13</td>\n",
       "      <td>6</td>\n",
       "    </tr>\n",
       "  </tbody>\n",
       "</table>\n",
       "</div>"
      ],
      "text/plain": [
       "   geohash         hourly_data  nb_departures  nb_arrivals  ratio  hour  \\\n",
       "0     dp3s 2021-01-16 16:00:00            1.0          0.0    inf    16   \n",
       "11    dp3s 2021-03-13 16:00:00            1.0          1.0    1.0    16   \n",
       "14    dp3s 2021-03-20 05:00:00            1.0          0.0    inf     5   \n",
       "15    dp3s 2021-03-20 14:00:00            1.0          0.0    inf    14   \n",
       "16    dp3s 2021-03-21 13:00:00            1.0          1.0    1.0    13   \n",
       "\n",
       "    weekday  \n",
       "0         5  \n",
       "11        5  \n",
       "14        5  \n",
       "15        5  \n",
       "16        6  "
      ]
     },
     "execution_count": 69,
     "metadata": {},
     "output_type": "execute_result"
    }
   ],
   "source": [
    "df_test['weekday']=df_test['hourly_data'].dt.weekday\n",
    "df_test_weekend=df_test[df_test['weekday']>4]\n",
    "df_test_weekend.head()"
   ]
  },
  {
   "cell_type": "code",
   "execution_count": 70,
   "id": "57b6235f",
   "metadata": {},
   "outputs": [
    {
     "name": "stdout",
     "output_type": "stream",
     "text": [
      "<class 'pandas.core.frame.DataFrame'>\n",
      "Int64Index: 7517 entries, 0 to 25958\n",
      "Data columns (total 7 columns):\n",
      " #   Column         Non-Null Count  Dtype         \n",
      "---  ------         --------------  -----         \n",
      " 0   geohash        7517 non-null   object        \n",
      " 1   hourly_data    7517 non-null   datetime64[ns]\n",
      " 2   nb_departures  7517 non-null   float64       \n",
      " 3   nb_arrivals    7517 non-null   float64       \n",
      " 4   ratio          7517 non-null   float64       \n",
      " 5   hour           7517 non-null   int64         \n",
      " 6   weekday        7517 non-null   int64         \n",
      "dtypes: datetime64[ns](1), float64(3), int64(2), object(1)\n",
      "memory usage: 469.8+ KB\n"
     ]
    }
   ],
   "source": [
    "f_test_weekend.info()"
   ]
  },
  {
   "cell_type": "code",
   "execution_count": 72,
   "id": "c0186754",
   "metadata": {},
   "outputs": [
    {
     "name": "stderr",
     "output_type": "stream",
     "text": [
      "/var/folders/gb/qjky1sf50r7fl6wr5lzmnwq40000gn/T/ipykernel_86955/3658316453.py:1: FutureWarning: The default value of numeric_only in DataFrameGroupBy.mean is deprecated. In a future version, numeric_only will default to False. Either specify numeric_only or select only columns which should be valid for the function.\n",
      "  df_test_weekend_hourly=df_test.groupby(by=['hour'],as_index=False).mean()\n"
     ]
    }
   ],
   "source": [
    "df_test_weekend_hourly=df_test.groupby(by=['hour'],as_index=False).mean()"
   ]
  },
  {
   "cell_type": "markdown",
   "id": "ee3c1525",
   "metadata": {},
   "source": [
    "## Hourly: weekend vs weekdays"
   ]
  },
  {
   "cell_type": "code",
   "execution_count": 73,
   "id": "1b09b52d",
   "metadata": {},
   "outputs": [
    {
     "data": {
      "text/plain": [
       "[<matplotlib.lines.Line2D at 0x2dc452da0>]"
      ]
     },
     "execution_count": 73,
     "metadata": {},
     "output_type": "execute_result"
    },
    {
     "data": {
      "image/png": "[encoded data removed]",
      "text/plain": [
       "<Figure size 640x480 with 1 Axes>"
      ]
     },
     "metadata": {},
     "output_type": "display_data"
    }
   ],
   "source": [
    "plt.plot(df_test_weekend_hourly['hour'],df_test_weekend_hourly['nb_departures'])\n",
    "plt.plot(df_test_weekend_hourly['hour'],df_test_weekend_hourly['nb_arrivals'])"
   ]
  },
  {
   "cell_type": "code",
   "execution_count": 78,
   "id": "618a6619",
   "metadata": {},
   "outputs": [
    {
     "data": {
      "text/html": [
       "<div>\n",
       "<style scoped>\n",
       "    .dataframe tbody tr th:only-of-type {\n",
       "        vertical-align: middle;\n",
       "    }\n",
       "\n",
       "    .dataframe tbody tr th {\n",
       "        vertical-align: top;\n",
       "    }\n",
       "\n",
       "    .dataframe thead th {\n",
       "        text-align: right;\n",
       "    }\n",
       "</style>\n",
       "<table border=\"1\" class=\"dataframe\">\n",
       "  <thead>\n",
       "    <tr style=\"text-align: right;\">\n",
       "      <th></th>\n",
       "      <th>geohash</th>\n",
       "      <th>hourly_data</th>\n",
       "      <th>nb_departures</th>\n",
       "      <th>nb_arrivals</th>\n",
       "      <th>ratio</th>\n",
       "      <th>hour</th>\n",
       "      <th>weekday</th>\n",
       "    </tr>\n",
       "  </thead>\n",
       "  <tbody>\n",
       "    <tr>\n",
       "      <th>1</th>\n",
       "      <td>dp3s</td>\n",
       "      <td>2021-01-21 14:00:00</td>\n",
       "      <td>1.0</td>\n",
       "      <td>1.0</td>\n",
       "      <td>1.0</td>\n",
       "      <td>14</td>\n",
       "      <td>3</td>\n",
       "    </tr>\n",
       "    <tr>\n",
       "      <th>2</th>\n",
       "      <td>dp3s</td>\n",
       "      <td>2021-02-23 17:00:00</td>\n",
       "      <td>1.0</td>\n",
       "      <td>1.0</td>\n",
       "      <td>1.0</td>\n",
       "      <td>17</td>\n",
       "      <td>1</td>\n",
       "    </tr>\n",
       "    <tr>\n",
       "      <th>3</th>\n",
       "      <td>dp3s</td>\n",
       "      <td>2021-03-05 11:00:00</td>\n",
       "      <td>1.0</td>\n",
       "      <td>1.0</td>\n",
       "      <td>1.0</td>\n",
       "      <td>11</td>\n",
       "      <td>4</td>\n",
       "    </tr>\n",
       "    <tr>\n",
       "      <th>4</th>\n",
       "      <td>dp3s</td>\n",
       "      <td>2021-03-05 16:00:00</td>\n",
       "      <td>1.0</td>\n",
       "      <td>1.0</td>\n",
       "      <td>1.0</td>\n",
       "      <td>16</td>\n",
       "      <td>4</td>\n",
       "    </tr>\n",
       "    <tr>\n",
       "      <th>5</th>\n",
       "      <td>dp3s</td>\n",
       "      <td>2021-03-08 14:00:00</td>\n",
       "      <td>1.0</td>\n",
       "      <td>1.0</td>\n",
       "      <td>1.0</td>\n",
       "      <td>14</td>\n",
       "      <td>0</td>\n",
       "    </tr>\n",
       "  </tbody>\n",
       "</table>\n",
       "</div>"
      ],
      "text/plain": [
       "  geohash         hourly_data  nb_departures  nb_arrivals  ratio  hour  \\\n",
       "1    dp3s 2021-01-21 14:00:00            1.0          1.0    1.0    14   \n",
       "2    dp3s 2021-02-23 17:00:00            1.0          1.0    1.0    17   \n",
       "3    dp3s 2021-03-05 11:00:00            1.0          1.0    1.0    11   \n",
       "4    dp3s 2021-03-05 16:00:00            1.0          1.0    1.0    16   \n",
       "5    dp3s 2021-03-08 14:00:00            1.0          1.0    1.0    14   \n",
       "\n",
       "   weekday  \n",
       "1        3  \n",
       "2        1  \n",
       "3        4  \n",
       "4        4  \n",
       "5        0  "
      ]
     },
     "execution_count": 78,
     "metadata": {},
     "output_type": "execute_result"
    }
   ],
   "source": [
    "df_test_weekday=df_test\n",
    "df_test_weekday['weekday']=df_test_weekday['hourly_data'].dt.weekday\n",
    "df_test_weekday=df_test_weekday[df_test_weekday['weekday']<5]\n",
    "df_test_weekday.head()\n",
    "# df_test_weekday.info()"
   ]
  },
  {
   "cell_type": "code",
   "execution_count": 79,
   "id": "d36f93f7",
   "metadata": {},
   "outputs": [
    {
     "name": "stderr",
     "output_type": "stream",
     "text": [
      "/var/folders/gb/qjky1sf50r7fl6wr5lzmnwq40000gn/T/ipykernel_86955/3507529881.py:1: FutureWarning: The default value of numeric_only in DataFrameGroupBy.mean is deprecated. In a future version, numeric_only will default to False. Either specify numeric_only or select only columns which should be valid for the function.\n",
      "  df_test_weekday_hourly=df_test_weekday.groupby(by=['hour'],as_index=False).mean()\n"
     ]
    },
    {
     "data": {
      "text/html": [
       "<div>\n",
       "<style scoped>\n",
       "    .dataframe tbody tr th:only-of-type {\n",
       "        vertical-align: middle;\n",
       "    }\n",
       "\n",
       "    .dataframe tbody tr th {\n",
       "        vertical-align: top;\n",
       "    }\n",
       "\n",
       "    .dataframe thead th {\n",
       "        text-align: right;\n",
       "    }\n",
       "</style>\n",
       "<table border=\"1\" class=\"dataframe\">\n",
       "  <thead>\n",
       "    <tr style=\"text-align: right;\">\n",
       "      <th></th>\n",
       "      <th>hour</th>\n",
       "      <th>nb_departures</th>\n",
       "      <th>nb_arrivals</th>\n",
       "      <th>ratio</th>\n",
       "      <th>weekday</th>\n",
       "    </tr>\n",
       "  </thead>\n",
       "  <tbody>\n",
       "    <tr>\n",
       "      <th>0</th>\n",
       "      <td>0</td>\n",
       "      <td>1.349893</td>\n",
       "      <td>1.311365</td>\n",
       "      <td>NaN</td>\n",
       "      <td>2.036161</td>\n",
       "    </tr>\n",
       "    <tr>\n",
       "      <th>1</th>\n",
       "      <td>1</td>\n",
       "      <td>1.224599</td>\n",
       "      <td>1.176932</td>\n",
       "      <td>NaN</td>\n",
       "      <td>2.004525</td>\n",
       "    </tr>\n",
       "    <tr>\n",
       "      <th>2</th>\n",
       "      <td>2</td>\n",
       "      <td>1.138917</td>\n",
       "      <td>1.148504</td>\n",
       "      <td>NaN</td>\n",
       "      <td>2.067416</td>\n",
       "    </tr>\n",
       "    <tr>\n",
       "      <th>3</th>\n",
       "      <td>3</td>\n",
       "      <td>1.086438</td>\n",
       "      <td>1.128009</td>\n",
       "      <td>NaN</td>\n",
       "      <td>2.018315</td>\n",
       "    </tr>\n",
       "    <tr>\n",
       "      <th>4</th>\n",
       "      <td>4</td>\n",
       "      <td>1.012994</td>\n",
       "      <td>0.987033</td>\n",
       "      <td>NaN</td>\n",
       "      <td>2.106643</td>\n",
       "    </tr>\n",
       "  </tbody>\n",
       "</table>\n",
       "</div>"
      ],
      "text/plain": [
       "   hour  nb_departures  nb_arrivals  ratio   weekday\n",
       "0     0       1.349893     1.311365    NaN  2.036161\n",
       "1     1       1.224599     1.176932    NaN  2.004525\n",
       "2     2       1.138917     1.148504    NaN  2.067416\n",
       "3     3       1.086438     1.128009    NaN  2.018315\n",
       "4     4       1.012994     0.987033    NaN  2.106643"
      ]
     },
     "execution_count": 79,
     "metadata": {},
     "output_type": "execute_result"
    }
   ],
   "source": [
    "df_test_weekday_hourly=df_test_weekday.groupby(by=['hour'],as_index=False).mean()\n",
    "df_test_weekday_hourly.head()"
   ]
  },
  {
   "cell_type": "code",
   "execution_count": 80,
   "id": "bb40161f",
   "metadata": {},
   "outputs": [
    {
     "data": {
      "text/plain": [
       "[<matplotlib.lines.Line2D at 0x2dc4e1f90>]"
      ]
     },
     "execution_count": 80,
     "metadata": {},
     "output_type": "execute_result"
    },
    {
     "data": {
      "image/png": "[encoded data removed]",
      "text/plain": [
       "<Figure size 640x480 with 1 Axes>"
      ]
     },
     "metadata": {},
     "output_type": "display_data"
    }
   ],
   "source": [
    "plt.plot(df_test_weekday_hourly['hour'],df_test_weekday_hourly['nb_departures'])\n",
    "plt.plot(df_test_weekday_hourly['hour'],df_test_weekday_hourly['nb_arrivals'])"
   ]
  },
  {
   "attachments": {},
   "cell_type": "markdown",
   "id": "b2a8e856",
   "metadata": {},
   "source": [
    "## Hourly ratio"
   ]
  },
  {
   "cell_type": "code",
   "execution_count": 97,
   "id": "c5fdb6f6",
   "metadata": {},
   "outputs": [
    {
     "name": "stderr",
     "output_type": "stream",
     "text": [
      "/var/folders/gb/qjky1sf50r7fl6wr5lzmnwq40000gn/T/ipykernel_86955/512165729.py:2: FutureWarning: The default value of numeric_only in DataFrameGroupBy.mean is deprecated. In a future version, numeric_only will default to False. Either specify numeric_only or select only columns which should be valid for the function.\n",
      "  df_hourly_ratio=df_hourly_ratio.groupby(by=['hour'],as_index=False).mean()\n"
     ]
    },
    {
     "data": {
      "text/html": [
       "<div>\n",
       "<style scoped>\n",
       "    .dataframe tbody tr th:only-of-type {\n",
       "        vertical-align: middle;\n",
       "    }\n",
       "\n",
       "    .dataframe tbody tr th {\n",
       "        vertical-align: top;\n",
       "    }\n",
       "\n",
       "    .dataframe thead th {\n",
       "        text-align: right;\n",
       "    }\n",
       "</style>\n",
       "<table border=\"1\" class=\"dataframe\">\n",
       "  <thead>\n",
       "    <tr style=\"text-align: right;\">\n",
       "      <th></th>\n",
       "      <th>hour</th>\n",
       "      <th>nb_departures</th>\n",
       "      <th>nb_arrivals</th>\n",
       "      <th>ratio</th>\n",
       "    </tr>\n",
       "  </thead>\n",
       "  <tbody>\n",
       "    <tr>\n",
       "      <th>0</th>\n",
       "      <td>0</td>\n",
       "      <td>1.465653</td>\n",
       "      <td>1.414055</td>\n",
       "      <td>1.036489</td>\n",
       "    </tr>\n",
       "    <tr>\n",
       "      <th>1</th>\n",
       "      <td>1</td>\n",
       "      <td>1.366458</td>\n",
       "      <td>1.334243</td>\n",
       "      <td>1.024145</td>\n",
       "    </tr>\n",
       "    <tr>\n",
       "      <th>2</th>\n",
       "      <td>2</td>\n",
       "      <td>1.290708</td>\n",
       "      <td>1.272358</td>\n",
       "      <td>1.014421</td>\n",
       "    </tr>\n",
       "    <tr>\n",
       "      <th>3</th>\n",
       "      <td>3</td>\n",
       "      <td>1.202241</td>\n",
       "      <td>1.247883</td>\n",
       "      <td>0.963425</td>\n",
       "    </tr>\n",
       "    <tr>\n",
       "      <th>4</th>\n",
       "      <td>4</td>\n",
       "      <td>1.068675</td>\n",
       "      <td>1.068672</td>\n",
       "      <td>1.000003</td>\n",
       "    </tr>\n",
       "  </tbody>\n",
       "</table>\n",
       "</div>"
      ],
      "text/plain": [
       "   hour  nb_departures  nb_arrivals     ratio\n",
       "0     0       1.465653     1.414055  1.036489\n",
       "1     1       1.366458     1.334243  1.024145\n",
       "2     2       1.290708     1.272358  1.014421\n",
       "3     3       1.202241     1.247883  0.963425\n",
       "4     4       1.068675     1.068672  1.000003"
      ]
     },
     "execution_count": 97,
     "metadata": {},
     "output_type": "execute_result"
    }
   ],
   "source": [
    "df_hourly_ratio=df_test.drop(columns=['ratio','weekday'])\n",
    "df_hourly_ratio=df_hourly_ratio.groupby(by=['hour'],as_index=False).mean()\n",
    "df_hourly_ratio['ratio']=df_hourly_ratio['nb_departures']/df_hourly_ratio['nb_arrivals']\n",
    "df_hourly_ratio.head()"
   ]
  },
  {
   "cell_type": "code",
   "execution_count": 171,
   "id": "0e316b3d",
   "metadata": {},
   "outputs": [
    {
     "data": {
      "image/png": "[encoded data removed]",
      "text/plain": [
       "<Figure size 640x480 with 1 Axes>"
      ]
     },
     "metadata": {},
     "output_type": "display_data"
    }
   ],
   "source": [
    "plt.plot(df_hourly_ratio['hour'],df_hourly_ratio['ratio'])\n",
    "plt.show()"
   ]
  },
  {
   "cell_type": "code",
   "execution_count": 172,
   "id": "804abf6b",
   "metadata": {},
   "outputs": [
    {
     "data": {
      "text/plain": [
       "[<matplotlib.lines.Line2D at 0x2e0198580>]"
      ]
     },
     "execution_count": 172,
     "metadata": {},
     "output_type": "execute_result"
    },
    {
     "data": {
      "image/png": "[encoded data removed]",
      "text/plain": [
       "<Figure size 640x480 with 1 Axes>"
      ]
     },
     "metadata": {},
     "output_type": "display_data"
    }
   ],
   "source": [
    "plt.plot(df_hourly_ratio['hour'],df_hourly_ratio['ratio'])\n"
   ]
  },
  {
   "cell_type": "markdown",
   "id": "a61a6926",
   "metadata": {},
   "source": [
    "## Weekly ratio"
   ]
  },
  {
   "cell_type": "code",
   "execution_count": 103,
   "id": "1c6f2fdc",
   "metadata": {},
   "outputs": [
    {
     "name": "stderr",
     "output_type": "stream",
     "text": [
      "/var/folders/gb/qjky1sf50r7fl6wr5lzmnwq40000gn/T/ipykernel_86955/2183963017.py:2: FutureWarning: The default value of numeric_only in DataFrameGroupBy.mean is deprecated. In a future version, numeric_only will default to False. Either specify numeric_only or select only columns which should be valid for the function.\n",
      "  df_weekly_ratio=df_weekly_ratio.groupby(by=['weekday'],as_index=False).mean()\n"
     ]
    },
    {
     "data": {
      "text/html": [
       "<div>\n",
       "<style scoped>\n",
       "    .dataframe tbody tr th:only-of-type {\n",
       "        vertical-align: middle;\n",
       "    }\n",
       "\n",
       "    .dataframe tbody tr th {\n",
       "        vertical-align: top;\n",
       "    }\n",
       "\n",
       "    .dataframe thead th {\n",
       "        text-align: right;\n",
       "    }\n",
       "</style>\n",
       "<table border=\"1\" class=\"dataframe\">\n",
       "  <thead>\n",
       "    <tr style=\"text-align: right;\">\n",
       "      <th></th>\n",
       "      <th>weekday</th>\n",
       "      <th>nb_departures</th>\n",
       "      <th>nb_arrivals</th>\n",
       "      <th>ratio</th>\n",
       "    </tr>\n",
       "  </thead>\n",
       "  <tbody>\n",
       "    <tr>\n",
       "      <th>0</th>\n",
       "      <td>0</td>\n",
       "      <td>1.659870</td>\n",
       "      <td>1.651106</td>\n",
       "      <td>1.005308</td>\n",
       "    </tr>\n",
       "    <tr>\n",
       "      <th>1</th>\n",
       "      <td>1</td>\n",
       "      <td>1.676888</td>\n",
       "      <td>1.677410</td>\n",
       "      <td>0.999689</td>\n",
       "    </tr>\n",
       "    <tr>\n",
       "      <th>2</th>\n",
       "      <td>2</td>\n",
       "      <td>1.670625</td>\n",
       "      <td>1.669347</td>\n",
       "      <td>1.000766</td>\n",
       "    </tr>\n",
       "    <tr>\n",
       "      <th>3</th>\n",
       "      <td>3</td>\n",
       "      <td>1.646203</td>\n",
       "      <td>1.644340</td>\n",
       "      <td>1.001133</td>\n",
       "    </tr>\n",
       "    <tr>\n",
       "      <th>4</th>\n",
       "      <td>4</td>\n",
       "      <td>1.685336</td>\n",
       "      <td>1.691944</td>\n",
       "      <td>0.996094</td>\n",
       "    </tr>\n",
       "  </tbody>\n",
       "</table>\n",
       "</div>"
      ],
      "text/plain": [
       "   weekday  nb_departures  nb_arrivals     ratio\n",
       "0        0       1.659870     1.651106  1.005308\n",
       "1        1       1.676888     1.677410  0.999689\n",
       "2        2       1.670625     1.669347  1.000766\n",
       "3        3       1.646203     1.644340  1.001133\n",
       "4        4       1.685336     1.691944  0.996094"
      ]
     },
     "execution_count": 103,
     "metadata": {},
     "output_type": "execute_result"
    }
   ],
   "source": [
    "df_weekly_ratio=df_test.drop(columns=['ratio','hour'])\n",
    "df_weekly_ratio=df_weekly_ratio.groupby(by=['weekday'],as_index=False).mean()\n",
    "df_weekly_ratio['ratio']=df_weekly_ratio['nb_departures']/df_weekly_ratio['nb_arrivals']\n",
    "df_weekly_ratio.head()"
   ]
  },
  {
   "cell_type": "code",
   "execution_count": 174,
   "id": "a6bc910c",
   "metadata": {},
   "outputs": [
    {
     "data": {
      "text/plain": [
       "[<matplotlib.lines.Line2D at 0x2e035e3e0>]"
      ]
     },
     "execution_count": 174,
     "metadata": {},
     "output_type": "execute_result"
    },
    {
     "data": {
      "image/png": "[encoded data removed]",
      "text/plain": [
       "<Figure size 640x480 with 1 Axes>"
      ]
     },
     "metadata": {},
     "output_type": "display_data"
    }
   ],
   "source": [
    "plt.plot(df_weekly_ratio['weekday'],df_weekly_ratio['ratio'])"
   ]
  },
  {
   "attachments": {},
   "cell_type": "markdown",
   "id": "2440b0e9",
   "metadata": {},
   "source": [
    "## Per geohash"
   ]
  },
  {
   "cell_type": "code",
   "execution_count": 123,
   "id": "72b729cc",
   "metadata": {},
   "outputs": [
    {
     "name": "stderr",
     "output_type": "stream",
     "text": [
      "/var/folders/gb/qjky1sf50r7fl6wr5lzmnwq40000gn/T/ipykernel_86955/4282088432.py:1: FutureWarning: The default value of numeric_only in DataFrameGroupBy.mean is deprecated. In a future version, numeric_only will default to False. Either specify numeric_only or select only columns which should be valid for the function.\n",
      "  df_per_geohash=df_test.groupby(by=['geohash'],as_index=False).mean().drop(columns=['ratio','hour','weekday'])\n"
     ]
    },
    {
     "data": {
      "text/html": [
       "<div>\n",
       "<style scoped>\n",
       "    .dataframe tbody tr th:only-of-type {\n",
       "        vertical-align: middle;\n",
       "    }\n",
       "\n",
       "    .dataframe tbody tr th {\n",
       "        vertical-align: top;\n",
       "    }\n",
       "\n",
       "    .dataframe thead th {\n",
       "        text-align: right;\n",
       "    }\n",
       "</style>\n",
       "<table border=\"1\" class=\"dataframe\">\n",
       "  <thead>\n",
       "    <tr style=\"text-align: right;\">\n",
       "      <th></th>\n",
       "      <th>geohash</th>\n",
       "      <th>nb_departures</th>\n",
       "      <th>nb_arrivals</th>\n",
       "      <th>ratio</th>\n",
       "    </tr>\n",
       "  </thead>\n",
       "  <tbody>\n",
       "    <tr>\n",
       "      <th>0</th>\n",
       "      <td>dp3s</td>\n",
       "      <td>0.917208</td>\n",
       "      <td>0.696158</td>\n",
       "      <td>1.317528</td>\n",
       "    </tr>\n",
       "    <tr>\n",
       "      <th>1</th>\n",
       "      <td>dp3t</td>\n",
       "      <td>1.611829</td>\n",
       "      <td>1.622132</td>\n",
       "      <td>0.993649</td>\n",
       "    </tr>\n",
       "    <tr>\n",
       "      <th>2</th>\n",
       "      <td>dp3v</td>\n",
       "      <td>0.992184</td>\n",
       "      <td>0.921063</td>\n",
       "      <td>1.077217</td>\n",
       "    </tr>\n",
       "    <tr>\n",
       "      <th>3</th>\n",
       "      <td>dp3w</td>\n",
       "      <td>2.327972</td>\n",
       "      <td>2.319450</td>\n",
       "      <td>1.003674</td>\n",
       "    </tr>\n",
       "    <tr>\n",
       "      <th>4</th>\n",
       "      <td>dp3x</td>\n",
       "      <td>1.284361</td>\n",
       "      <td>1.293761</td>\n",
       "      <td>0.992734</td>\n",
       "    </tr>\n",
       "  </tbody>\n",
       "</table>\n",
       "</div>"
      ],
      "text/plain": [
       "  geohash  nb_departures  nb_arrivals     ratio\n",
       "0    dp3s       0.917208     0.696158  1.317528\n",
       "1    dp3t       1.611829     1.622132  0.993649\n",
       "2    dp3v       0.992184     0.921063  1.077217\n",
       "3    dp3w       2.327972     2.319450  1.003674\n",
       "4    dp3x       1.284361     1.293761  0.992734"
      ]
     },
     "execution_count": 123,
     "metadata": {},
     "output_type": "execute_result"
    }
   ],
   "source": [
    "df_per_geohash=df_test.groupby(by=['geohash'],as_index=False).mean().drop(columns=['ratio','hour','weekday'])\n",
    "df_per_geohash['ratio']=df_per_geohash['nb_departures']/df_per_geohash['nb_arrivals']\n",
    "df_per_geohash"
   ]
  },
  {
   "cell_type": "code",
   "execution_count": 141,
   "id": "5d6bc85b",
   "metadata": {},
   "outputs": [
    {
     "data": {
      "text/plain": [
       "Text(0.5, 1.0, 'Departures and arrivals per geohash')"
      ]
     },
     "execution_count": 141,
     "metadata": {},
     "output_type": "execute_result"
    },
    {
     "data": {
      "image/png": "[encoded data removed]",
      "text/plain": [
       "<Figure size 640x480 with 1 Axes>"
      ]
     },
     "metadata": {},
     "output_type": "display_data"
    }
   ],
   "source": [
    "x=df_per_geohash['geohash']\n",
    "X_axis = np.arange(len(x))\n",
    "y1=df_per_geohash['nb_departures']\n",
    "y2=df_per_geohash['nb_arrivals']\n",
    "plt.bar(X_axis - 0.2,y1,0.4,label='departures')\n",
    "plt.bar(X_axis + 0.2,y2,0.4,label='arrivals')\n",
    "plt.legend()\n",
    "plt.xticks(X_axis, x)\n",
    "plt.xlabel(\"Geohash\")\n",
    "plt.ylabel(\"Rides\")\n",
    "plt.title(\"Departures and arrivals per geohash\")"
   ]
  },
  {
   "cell_type": "code",
   "execution_count": 122,
   "id": "7013f6db",
   "metadata": {},
   "outputs": [
    {
     "data": {
      "text/plain": [
       "<BarContainer object of 5 artists>"
      ]
     },
     "execution_count": 122,
     "metadata": {},
     "output_type": "execute_result"
    },
    {
     "data": {
      "image/png": "[encoded data removed]",
      "text/plain": [
       "<Figure size 640x480 with 1 Axes>"
      ]
     },
     "metadata": {},
     "output_type": "display_data"
    }
   ],
   "source": [
    "plt.bar(x=df_per_geohash['geohash'],height=df_per_geohash['ratio'])"
   ]
  },
  {
   "cell_type": "code",
   "execution_count": 164,
   "id": "0e3aa3fc",
   "metadata": {},
   "outputs": [
    {
     "data": {
      "text/html": [
       "<div>\n",
       "<style scoped>\n",
       "    .dataframe tbody tr th:only-of-type {\n",
       "        vertical-align: middle;\n",
       "    }\n",
       "\n",
       "    .dataframe tbody tr th {\n",
       "        vertical-align: top;\n",
       "    }\n",
       "\n",
       "    .dataframe thead th {\n",
       "        text-align: right;\n",
       "    }\n",
       "</style>\n",
       "<table border=\"1\" class=\"dataframe\">\n",
       "  <thead>\n",
       "    <tr style=\"text-align: right;\">\n",
       "      <th></th>\n",
       "      <th>geohash</th>\n",
       "      <th>hourly_data</th>\n",
       "      <th>nb_departures</th>\n",
       "      <th>nb_arrivals</th>\n",
       "      <th>ratio</th>\n",
       "      <th>hour</th>\n",
       "      <th>weekday</th>\n",
       "    </tr>\n",
       "  </thead>\n",
       "  <tbody>\n",
       "    <tr>\n",
       "      <th>0</th>\n",
       "      <td>dp3s</td>\n",
       "      <td>2021-01-16 16:00:00</td>\n",
       "      <td>1.0</td>\n",
       "      <td>0.0</td>\n",
       "      <td>inf</td>\n",
       "      <td>16</td>\n",
       "      <td>weekend</td>\n",
       "    </tr>\n",
       "    <tr>\n",
       "      <th>11</th>\n",
       "      <td>dp3s</td>\n",
       "      <td>2021-03-13 16:00:00</td>\n",
       "      <td>1.0</td>\n",
       "      <td>1.0</td>\n",
       "      <td>1.0</td>\n",
       "      <td>16</td>\n",
       "      <td>weekend</td>\n",
       "    </tr>\n",
       "    <tr>\n",
       "      <th>14</th>\n",
       "      <td>dp3s</td>\n",
       "      <td>2021-03-20 05:00:00</td>\n",
       "      <td>1.0</td>\n",
       "      <td>0.0</td>\n",
       "      <td>inf</td>\n",
       "      <td>5</td>\n",
       "      <td>weekend</td>\n",
       "    </tr>\n",
       "    <tr>\n",
       "      <th>15</th>\n",
       "      <td>dp3s</td>\n",
       "      <td>2021-03-20 14:00:00</td>\n",
       "      <td>1.0</td>\n",
       "      <td>0.0</td>\n",
       "      <td>inf</td>\n",
       "      <td>14</td>\n",
       "      <td>weekend</td>\n",
       "    </tr>\n",
       "    <tr>\n",
       "      <th>16</th>\n",
       "      <td>dp3s</td>\n",
       "      <td>2021-03-21 13:00:00</td>\n",
       "      <td>1.0</td>\n",
       "      <td>1.0</td>\n",
       "      <td>1.0</td>\n",
       "      <td>13</td>\n",
       "      <td>weekend</td>\n",
       "    </tr>\n",
       "  </tbody>\n",
       "</table>\n",
       "</div>"
      ],
      "text/plain": [
       "   geohash         hourly_data  nb_departures  nb_arrivals  ratio  hour  \\\n",
       "0     dp3s 2021-01-16 16:00:00            1.0          0.0    inf    16   \n",
       "11    dp3s 2021-03-13 16:00:00            1.0          1.0    1.0    16   \n",
       "14    dp3s 2021-03-20 05:00:00            1.0          0.0    inf     5   \n",
       "15    dp3s 2021-03-20 14:00:00            1.0          0.0    inf    14   \n",
       "16    dp3s 2021-03-21 13:00:00            1.0          1.0    1.0    13   \n",
       "\n",
       "    weekday  \n",
       "0   weekend  \n",
       "11  weekend  \n",
       "14  weekend  \n",
       "15  weekend  \n",
       "16  weekend  "
      ]
     },
     "execution_count": 164,
     "metadata": {},
     "output_type": "execute_result"
    }
   ],
   "source": [
    "def weekday(x):\n",
    "    if x<5: return 'weekday'\n",
    "    else: return 'weekend'\n",
    "\n",
    "df_per_geohash_weekend=df_test\n",
    "df_per_geohash_weekend=df_per_geohash_weekend[df_per_geohash_weekend['weekday']=='weekend']\n",
    "df_per_geohash_weekend.head()"
   ]
  },
  {
   "cell_type": "code",
   "execution_count": 165,
   "id": "ce10b189",
   "metadata": {},
   "outputs": [
    {
     "name": "stderr",
     "output_type": "stream",
     "text": [
      "/var/folders/gb/qjky1sf50r7fl6wr5lzmnwq40000gn/T/ipykernel_86955/335769328.py:1: FutureWarning: The default value of numeric_only in DataFrameGroupBy.mean is deprecated. In a future version, numeric_only will default to False. Either specify numeric_only or select only columns which should be valid for the function.\n",
      "  df_per_geohash_weekend=df_test.groupby(by=['geohash'],as_index=False).mean().drop(columns=['ratio','hour'])\n"
     ]
    },
    {
     "data": {
      "text/html": [
       "<div>\n",
       "<style scoped>\n",
       "    .dataframe tbody tr th:only-of-type {\n",
       "        vertical-align: middle;\n",
       "    }\n",
       "\n",
       "    .dataframe tbody tr th {\n",
       "        vertical-align: top;\n",
       "    }\n",
       "\n",
       "    .dataframe thead th {\n",
       "        text-align: right;\n",
       "    }\n",
       "</style>\n",
       "<table border=\"1\" class=\"dataframe\">\n",
       "  <thead>\n",
       "    <tr style=\"text-align: right;\">\n",
       "      <th></th>\n",
       "      <th>geohash</th>\n",
       "      <th>nb_departures</th>\n",
       "      <th>nb_arrivals</th>\n",
       "      <th>ratio</th>\n",
       "    </tr>\n",
       "  </thead>\n",
       "  <tbody>\n",
       "    <tr>\n",
       "      <th>0</th>\n",
       "      <td>dp3s</td>\n",
       "      <td>0.917208</td>\n",
       "      <td>0.696158</td>\n",
       "      <td>1.317528</td>\n",
       "    </tr>\n",
       "    <tr>\n",
       "      <th>1</th>\n",
       "      <td>dp3t</td>\n",
       "      <td>1.611829</td>\n",
       "      <td>1.622132</td>\n",
       "      <td>0.993649</td>\n",
       "    </tr>\n",
       "    <tr>\n",
       "      <th>2</th>\n",
       "      <td>dp3v</td>\n",
       "      <td>0.992184</td>\n",
       "      <td>0.921063</td>\n",
       "      <td>1.077217</td>\n",
       "    </tr>\n",
       "    <tr>\n",
       "      <th>3</th>\n",
       "      <td>dp3w</td>\n",
       "      <td>2.327972</td>\n",
       "      <td>2.319450</td>\n",
       "      <td>1.003674</td>\n",
       "    </tr>\n",
       "    <tr>\n",
       "      <th>4</th>\n",
       "      <td>dp3x</td>\n",
       "      <td>1.284361</td>\n",
       "      <td>1.293761</td>\n",
       "      <td>0.992734</td>\n",
       "    </tr>\n",
       "  </tbody>\n",
       "</table>\n",
       "</div>"
      ],
      "text/plain": [
       "  geohash  nb_departures  nb_arrivals     ratio\n",
       "0    dp3s       0.917208     0.696158  1.317528\n",
       "1    dp3t       1.611829     1.622132  0.993649\n",
       "2    dp3v       0.992184     0.921063  1.077217\n",
       "3    dp3w       2.327972     2.319450  1.003674\n",
       "4    dp3x       1.284361     1.293761  0.992734"
      ]
     },
     "execution_count": 165,
     "metadata": {},
     "output_type": "execute_result"
    }
   ],
   "source": [
    "df_per_geohash_weekend=df_test.groupby(by=['geohash'],as_index=False).mean().drop(columns=['ratio','hour'])\n",
    "df_per_geohash_weekend['ratio']=df_per_geohash_weekend['nb_departures']/df_per_geohash_weekend['nb_arrivals']\n",
    "df_per_geohash_weekend"
   ]
  },
  {
   "cell_type": "code",
   "execution_count": 167,
   "id": "e6396452",
   "metadata": {},
   "outputs": [
    {
     "name": "stderr",
     "output_type": "stream",
     "text": [
      "/var/folders/gb/qjky1sf50r7fl6wr5lzmnwq40000gn/T/ipykernel_86955/1947165822.py:3: FutureWarning: The default value of numeric_only in DataFrameGroupBy.mean is deprecated. In a future version, numeric_only will default to False. Either specify numeric_only or select only columns which should be valid for the function.\n",
      "  df_per_geohash_weekend=df_test.groupby(by=['geohash'],as_index=False).mean().drop(columns=['ratio','hour'])\n"
     ]
    },
    {
     "data": {
      "text/html": [
       "<div>\n",
       "<style scoped>\n",
       "    .dataframe tbody tr th:only-of-type {\n",
       "        vertical-align: middle;\n",
       "    }\n",
       "\n",
       "    .dataframe tbody tr th {\n",
       "        vertical-align: top;\n",
       "    }\n",
       "\n",
       "    .dataframe thead th {\n",
       "        text-align: right;\n",
       "    }\n",
       "</style>\n",
       "<table border=\"1\" class=\"dataframe\">\n",
       "  <thead>\n",
       "    <tr style=\"text-align: right;\">\n",
       "      <th></th>\n",
       "      <th>geohash</th>\n",
       "      <th>nb_departures</th>\n",
       "      <th>nb_arrivals</th>\n",
       "      <th>ratio</th>\n",
       "    </tr>\n",
       "  </thead>\n",
       "  <tbody>\n",
       "    <tr>\n",
       "      <th>0</th>\n",
       "      <td>dp3s</td>\n",
       "      <td>0.917208</td>\n",
       "      <td>0.696158</td>\n",
       "      <td>NaN</td>\n",
       "    </tr>\n",
       "    <tr>\n",
       "      <th>1</th>\n",
       "      <td>dp3t</td>\n",
       "      <td>1.611829</td>\n",
       "      <td>1.622132</td>\n",
       "      <td>1.0</td>\n",
       "    </tr>\n",
       "    <tr>\n",
       "      <th>2</th>\n",
       "      <td>dp3v</td>\n",
       "      <td>0.992184</td>\n",
       "      <td>0.921063</td>\n",
       "      <td>1.0</td>\n",
       "    </tr>\n",
       "    <tr>\n",
       "      <th>3</th>\n",
       "      <td>dp3w</td>\n",
       "      <td>2.327972</td>\n",
       "      <td>2.319450</td>\n",
       "      <td>1.0</td>\n",
       "    </tr>\n",
       "    <tr>\n",
       "      <th>4</th>\n",
       "      <td>dp3x</td>\n",
       "      <td>1.284361</td>\n",
       "      <td>1.293761</td>\n",
       "      <td>1.0</td>\n",
       "    </tr>\n",
       "  </tbody>\n",
       "</table>\n",
       "</div>"
      ],
      "text/plain": [
       "  geohash  nb_departures  nb_arrivals  ratio\n",
       "0    dp3s       0.917208     0.696158    NaN\n",
       "1    dp3t       1.611829     1.622132    1.0\n",
       "2    dp3v       0.992184     0.921063    1.0\n",
       "3    dp3w       2.327972     2.319450    1.0\n",
       "4    dp3x       1.284361     1.293761    1.0"
      ]
     },
     "execution_count": 167,
     "metadata": {},
     "output_type": "execute_result"
    }
   ],
   "source": [
    "df_per_geohash_weekday=df_test\n",
    "df_per_geohash_weekday=df_per_geohash_weekday[df_per_geohash_weekday['weekday']=='weekday']\n",
    "df_per_geohash_weekend=df_test.groupby(by=['geohash'],as_index=False).mean().drop(columns=['ratio','hour'])\n",
    "df_per_geohash_weekend['ratio']=df_per_geohash_weekday['nb_departures']/df_per_geohash_weekday['nb_arrivals']\n",
    "df_per_geohash_weekend"
   ]
  },
  {
   "cell_type": "code",
   "execution_count": 168,
   "id": "2fa34ebb",
   "metadata": {},
   "outputs": [
    {
     "name": "stderr",
     "output_type": "stream",
     "text": [
      "/Users/joachimclodic/.pyenv/versions/3.10.6/envs/DIVVY_BIKE/lib/python3.10/site-packages/numpy/lib/stride_tricks.py:538: VisibleDeprecationWarning: Creating an ndarray from ragged nested sequences (which is a list-or-tuple of lists-or-tuples-or ndarrays with different lengths or shapes) is deprecated. If you meant to do this, you must specify 'dtype=object' when creating the ndarray.\n",
      "  args = [np.array(_m, copy=False, subok=subok) for _m in args]\n"
     ]
    },
    {
     "ename": "ValueError",
     "evalue": "shape mismatch: objects cannot be broadcast to a single shape.  Mismatch is between arg 0 with shape (5,) and arg 1 with shape (2,).",
     "output_type": "error",
     "traceback": [
      "\u001b[0;31m---------------------------------------------------------------------------\u001b[0m",
      "\u001b[0;31mValueError\u001b[0m                                Traceback (most recent call last)",
      "Cell \u001b[0;32mIn[168], line 4\u001b[0m\n\u001b[1;32m      2\u001b[0m X_axis \u001b[39m=\u001b[39m np\u001b[39m.\u001b[39marange(\u001b[39mlen\u001b[39m(x))\n\u001b[1;32m      3\u001b[0m y\u001b[39m=\u001b[39m[df_per_geohash_weekday[\u001b[39m'\u001b[39m\u001b[39mratio\u001b[39m\u001b[39m'\u001b[39m],df_per_geohash_weekend[\u001b[39m'\u001b[39m\u001b[39mratio\u001b[39m\u001b[39m'\u001b[39m]]\n\u001b[0;32m----> 4\u001b[0m plt\u001b[39m.\u001b[39;49mbar(X_axis \u001b[39m-\u001b[39;49m \u001b[39m0.2\u001b[39;49m,y,\u001b[39m0.4\u001b[39;49m)\n\u001b[1;32m      5\u001b[0m plt\u001b[39m.\u001b[39mlegend()\n\u001b[1;32m      6\u001b[0m plt\u001b[39m.\u001b[39mxticks(X_axis, x)\n",
      "File \u001b[0;32m~/.pyenv/versions/3.10.6/envs/DIVVY_BIKE/lib/python3.10/site-packages/matplotlib/pyplot.py:2367\u001b[0m, in \u001b[0;36mbar\u001b[0;34m(x, height, width, bottom, align, data, **kwargs)\u001b[0m\n\u001b[1;32m   2363\u001b[0m \u001b[39m@_copy_docstring_and_deprecators\u001b[39m(Axes\u001b[39m.\u001b[39mbar)\n\u001b[1;32m   2364\u001b[0m \u001b[39mdef\u001b[39;00m \u001b[39mbar\u001b[39m(\n\u001b[1;32m   2365\u001b[0m         x, height, width\u001b[39m=\u001b[39m\u001b[39m0.8\u001b[39m, bottom\u001b[39m=\u001b[39m\u001b[39mNone\u001b[39;00m, \u001b[39m*\u001b[39m, align\u001b[39m=\u001b[39m\u001b[39m'\u001b[39m\u001b[39mcenter\u001b[39m\u001b[39m'\u001b[39m,\n\u001b[1;32m   2366\u001b[0m         data\u001b[39m=\u001b[39m\u001b[39mNone\u001b[39;00m, \u001b[39m*\u001b[39m\u001b[39m*\u001b[39mkwargs):\n\u001b[0;32m-> 2367\u001b[0m     \u001b[39mreturn\u001b[39;00m gca()\u001b[39m.\u001b[39;49mbar(\n\u001b[1;32m   2368\u001b[0m         x, height, width\u001b[39m=\u001b[39;49mwidth, bottom\u001b[39m=\u001b[39;49mbottom, align\u001b[39m=\u001b[39;49malign,\n\u001b[1;32m   2369\u001b[0m         \u001b[39m*\u001b[39;49m\u001b[39m*\u001b[39;49m({\u001b[39m\"\u001b[39;49m\u001b[39mdata\u001b[39;49m\u001b[39m\"\u001b[39;49m: data} \u001b[39mif\u001b[39;49;00m data \u001b[39mis\u001b[39;49;00m \u001b[39mnot\u001b[39;49;00m \u001b[39mNone\u001b[39;49;00m \u001b[39melse\u001b[39;49;00m {}), \u001b[39m*\u001b[39;49m\u001b[39m*\u001b[39;49mkwargs)\n",
      "File \u001b[0;32m~/.pyenv/versions/3.10.6/envs/DIVVY_BIKE/lib/python3.10/site-packages/matplotlib/__init__.py:1423\u001b[0m, in \u001b[0;36m_preprocess_data.<locals>.inner\u001b[0;34m(ax, data, *args, **kwargs)\u001b[0m\n\u001b[1;32m   1420\u001b[0m \u001b[39m@functools\u001b[39m\u001b[39m.\u001b[39mwraps(func)\n\u001b[1;32m   1421\u001b[0m \u001b[39mdef\u001b[39;00m \u001b[39minner\u001b[39m(ax, \u001b[39m*\u001b[39margs, data\u001b[39m=\u001b[39m\u001b[39mNone\u001b[39;00m, \u001b[39m*\u001b[39m\u001b[39m*\u001b[39mkwargs):\n\u001b[1;32m   1422\u001b[0m     \u001b[39mif\u001b[39;00m data \u001b[39mis\u001b[39;00m \u001b[39mNone\u001b[39;00m:\n\u001b[0;32m-> 1423\u001b[0m         \u001b[39mreturn\u001b[39;00m func(ax, \u001b[39m*\u001b[39;49m\u001b[39mmap\u001b[39;49m(sanitize_sequence, args), \u001b[39m*\u001b[39;49m\u001b[39m*\u001b[39;49mkwargs)\n\u001b[1;32m   1425\u001b[0m     bound \u001b[39m=\u001b[39m new_sig\u001b[39m.\u001b[39mbind(ax, \u001b[39m*\u001b[39margs, \u001b[39m*\u001b[39m\u001b[39m*\u001b[39mkwargs)\n\u001b[1;32m   1426\u001b[0m     auto_label \u001b[39m=\u001b[39m (bound\u001b[39m.\u001b[39marguments\u001b[39m.\u001b[39mget(label_namer)\n\u001b[1;32m   1427\u001b[0m                   \u001b[39mor\u001b[39;00m bound\u001b[39m.\u001b[39mkwargs\u001b[39m.\u001b[39mget(label_namer))\n",
      "File \u001b[0;32m~/.pyenv/versions/3.10.6/envs/DIVVY_BIKE/lib/python3.10/site-packages/matplotlib/axes/_axes.py:2391\u001b[0m, in \u001b[0;36mAxes.bar\u001b[0;34m(self, x, height, width, bottom, align, **kwargs)\u001b[0m\n\u001b[1;32m   2388\u001b[0m     \u001b[39mif\u001b[39;00m yerr \u001b[39mis\u001b[39;00m \u001b[39mnot\u001b[39;00m \u001b[39mNone\u001b[39;00m:\n\u001b[1;32m   2389\u001b[0m         yerr \u001b[39m=\u001b[39m \u001b[39mself\u001b[39m\u001b[39m.\u001b[39m_convert_dx(yerr, y0, y, \u001b[39mself\u001b[39m\u001b[39m.\u001b[39mconvert_yunits)\n\u001b[0;32m-> 2391\u001b[0m x, height, width, y, linewidth, hatch \u001b[39m=\u001b[39m np\u001b[39m.\u001b[39;49mbroadcast_arrays(\n\u001b[1;32m   2392\u001b[0m     \u001b[39m# Make args iterable too.\u001b[39;49;00m\n\u001b[1;32m   2393\u001b[0m     np\u001b[39m.\u001b[39;49matleast_1d(x), height, width, y, linewidth, hatch)\n\u001b[1;32m   2395\u001b[0m \u001b[39m# Now that units have been converted, set the tick locations.\u001b[39;00m\n\u001b[1;32m   2396\u001b[0m \u001b[39mif\u001b[39;00m orientation \u001b[39m==\u001b[39m \u001b[39m'\u001b[39m\u001b[39mvertical\u001b[39m\u001b[39m'\u001b[39m:\n",
      "File \u001b[0;32m<__array_function__ internals>:180\u001b[0m, in \u001b[0;36mbroadcast_arrays\u001b[0;34m(*args, **kwargs)\u001b[0m\n",
      "File \u001b[0;32m~/.pyenv/versions/3.10.6/envs/DIVVY_BIKE/lib/python3.10/site-packages/numpy/lib/stride_tricks.py:540\u001b[0m, in \u001b[0;36mbroadcast_arrays\u001b[0;34m(subok, *args)\u001b[0m\n\u001b[1;32m    533\u001b[0m \u001b[39m# nditer is not used here to avoid the limit of 32 arrays.\u001b[39;00m\n\u001b[1;32m    534\u001b[0m \u001b[39m# Otherwise, something like the following one-liner would suffice:\u001b[39;00m\n\u001b[1;32m    535\u001b[0m \u001b[39m# return np.nditer(args, flags=['multi_index', 'zerosize_ok'],\u001b[39;00m\n\u001b[1;32m    536\u001b[0m \u001b[39m#                  order='C').itviews\u001b[39;00m\n\u001b[1;32m    538\u001b[0m args \u001b[39m=\u001b[39m [np\u001b[39m.\u001b[39marray(_m, copy\u001b[39m=\u001b[39m\u001b[39mFalse\u001b[39;00m, subok\u001b[39m=\u001b[39msubok) \u001b[39mfor\u001b[39;00m _m \u001b[39min\u001b[39;00m args]\n\u001b[0;32m--> 540\u001b[0m shape \u001b[39m=\u001b[39m _broadcast_shape(\u001b[39m*\u001b[39;49margs)\n\u001b[1;32m    542\u001b[0m \u001b[39mif\u001b[39;00m \u001b[39mall\u001b[39m(array\u001b[39m.\u001b[39mshape \u001b[39m==\u001b[39m shape \u001b[39mfor\u001b[39;00m array \u001b[39min\u001b[39;00m args):\n\u001b[1;32m    543\u001b[0m     \u001b[39m# Common case where nothing needs to be broadcasted.\u001b[39;00m\n\u001b[1;32m    544\u001b[0m     \u001b[39mreturn\u001b[39;00m args\n",
      "File \u001b[0;32m~/.pyenv/versions/3.10.6/envs/DIVVY_BIKE/lib/python3.10/site-packages/numpy/lib/stride_tricks.py:422\u001b[0m, in \u001b[0;36m_broadcast_shape\u001b[0;34m(*args)\u001b[0m\n\u001b[1;32m    417\u001b[0m \u001b[39m\"\"\"Returns the shape of the arrays that would result from broadcasting the\u001b[39;00m\n\u001b[1;32m    418\u001b[0m \u001b[39msupplied arrays against each other.\u001b[39;00m\n\u001b[1;32m    419\u001b[0m \u001b[39m\"\"\"\u001b[39;00m\n\u001b[1;32m    420\u001b[0m \u001b[39m# use the old-iterator because np.nditer does not handle size 0 arrays\u001b[39;00m\n\u001b[1;32m    421\u001b[0m \u001b[39m# consistently\u001b[39;00m\n\u001b[0;32m--> 422\u001b[0m b \u001b[39m=\u001b[39m np\u001b[39m.\u001b[39;49mbroadcast(\u001b[39m*\u001b[39;49margs[:\u001b[39m32\u001b[39;49m])\n\u001b[1;32m    423\u001b[0m \u001b[39m# unfortunately, it cannot handle 32 or more arguments directly\u001b[39;00m\n\u001b[1;32m    424\u001b[0m \u001b[39mfor\u001b[39;00m pos \u001b[39min\u001b[39;00m \u001b[39mrange\u001b[39m(\u001b[39m32\u001b[39m, \u001b[39mlen\u001b[39m(args), \u001b[39m31\u001b[39m):\n\u001b[1;32m    425\u001b[0m     \u001b[39m# ironically, np.broadcast does not properly handle np.broadcast\u001b[39;00m\n\u001b[1;32m    426\u001b[0m     \u001b[39m# objects (it treats them as scalars)\u001b[39;00m\n\u001b[1;32m    427\u001b[0m     \u001b[39m# use broadcasting to avoid allocating the full array\u001b[39;00m\n",
      "\u001b[0;31mValueError\u001b[0m: shape mismatch: objects cannot be broadcast to a single shape.  Mismatch is between arg 0 with shape (5,) and arg 1 with shape (2,)."
     ]
    },
    {
     "data": {
      "image/png": "[encoded data removed]",
      "text/plain": [
       "<Figure size 640x480 with 1 Axes>"
      ]
     },
     "metadata": {},
     "output_type": "display_data"
    }
   ],
   "source": [
    "x=df_per_geohash['geohash']\n",
    "X_axis = np.arange(len(x))\n",
    "y=[df_per_geohash_weekday['ratio'],df_per_geohash_weekend['ratio']]\n",
    "plt.bar(X_axis - 0.2,y,0.4)\n",
    "plt.legend()\n",
    "plt.xticks(X_axis, x)\n",
    "plt.xlabel(\"Geohash\")\n",
    "plt.ylabel(\"Rides\")\n",
    "plt.title(\"Departures and arrivals per geohash\")"
   ]
  },
  {
   "cell_type": "code",
   "execution_count": null,
   "id": "54f36486",
   "metadata": {},
   "outputs": [],
   "source": []
  }
 ],
 "metadata": {
  "kernelspec": {
   "display_name": "DIVVY_BIKE",
   "language": "python",
   "name": "python3"
  },
  "language_info": {
   "codemirror_mode": {
    "name": "ipython",
    "version": 3
   },
   "file_extension": ".py",
   "mimetype": "text/x-python",
   "name": "python",
   "nbconvert_exporter": "python",
   "pygments_lexer": "ipython3",
   "version": "3.10.6"
  },
  "toc": {
   "base_numbering": 1,
   "nav_menu": {},
   "number_sections": true,
   "sideBar": true,
   "skip_h1_title": false,
   "title_cell": "Table of Contents",
   "title_sidebar": "Contents",
   "toc_cell": false,
   "toc_position": {},
   "toc_section_display": true,
   "toc_window_display": false
  },
  "vscode": {
   "interpreter": {
    "hash": "d5184e0acc15843ecf4b2e71ed1c337533860ea32899b4a1b744b0697b4091c9"
   }
  }
 },
 "nbformat": 4,
 "nbformat_minor": 5
}
