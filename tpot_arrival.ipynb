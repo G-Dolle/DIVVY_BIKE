{
 "cells": [
  {
   "cell_type": "code",
   "execution_count": 7,
   "metadata": {},
   "outputs": [],
   "source": [
    "# Base\n",
    "import os\n",
    "import pandas as pd\n",
    "import numpy as np\n",
    "\n",
    "from ml_logic.main import preprocess, preprocess_test\n",
    "\n",
    "# AutoML with TPOT\n",
    "import tpot"
   ]
  },
  {
   "cell_type": "code",
   "execution_count": 8,
   "metadata": {},
   "outputs": [
    {
     "name": "stdout",
     "output_type": "stream",
     "text": [
      "Raw data imported\n"
     ]
    },
    {
     "name": "stderr",
     "output_type": "stream",
     "text": [
      "/home/anson/code/G-Dolle/DIVVY_BIKE/ml_logic/cleaning.py:21: SettingWithCopyWarning: \n",
      "A value is trying to be set on a copy of a slice from a DataFrame\n",
      "\n",
      "See the caveats in the documentation: https://pandas.pydata.org/pandas-docs/stable/user_guide/indexing.html#returning-a-view-versus-a-copy\n",
      "  df_stations_reduced.rename(columns={\"name\":\"station_name\"}, inplace=True)\n"
     ]
    },
    {
     "name": "stdout",
     "output_type": "stream",
     "text": [
      "Data cleaned and merged\n",
      "features and target dataframes created\n",
      "features preprocessed\n",
      "nb_arrivals picked as target\n",
      "Preprocessing of Training set is done\n",
      "Test Raw data imported\n"
     ]
    },
    {
     "name": "stderr",
     "output_type": "stream",
     "text": [
      "/home/anson/code/G-Dolle/DIVVY_BIKE/ml_logic/cleaning.py:21: SettingWithCopyWarning: \n",
      "A value is trying to be set on a copy of a slice from a DataFrame\n",
      "\n",
      "See the caveats in the documentation: https://pandas.pydata.org/pandas-docs/stable/user_guide/indexing.html#returning-a-view-versus-a-copy\n",
      "  df_stations_reduced.rename(columns={\"name\":\"station_name\"}, inplace=True)\n"
     ]
    },
    {
     "name": "stdout",
     "output_type": "stream",
     "text": [
      "Test Data cleaned and merged\n",
      "Test features and target dataframes created\n",
      "nb_arrivals picked as target\n",
      "Preprocessing of test set is done\n"
     ]
    }
   ],
   "source": [
    "target_chosen = \"nb_arrivals\"\n",
    "X_processed_df, y_processed_df, preprocessor = preprocess(target_chosen)\n",
    "X_test_processed, y_test_processed=preprocess_test(preprocessor, target_chosen)"
   ]
  },
  {
   "cell_type": "code",
   "execution_count": 9,
   "metadata": {},
   "outputs": [
    {
     "data": {
      "text/plain": [
       "((52546, 71), (44841, 71))"
      ]
     },
     "execution_count": 9,
     "metadata": {},
     "output_type": "execute_result"
    }
   ],
   "source": [
    "X_processed_df.shape, X_test_processed.shape"
   ]
  },
  {
   "cell_type": "code",
   "execution_count": 6,
   "metadata": {},
   "outputs": [
    {
     "name": "stdout",
     "output_type": "stream",
     "text": [
      "                                                                               \n",
      "Generation 1 - Current best internal CV score: -1.7822793980353198\n",
      "                                                                               \n",
      "Generation 2 - Current best internal CV score: -1.7822793980353198\n",
      "                                                                             \n",
      "Generation 3 - Current best internal CV score: -1.7822793980353198\n",
      "                                                                             \n",
      "Generation 4 - Current best internal CV score: -1.7675124208830435\n",
      "                                                                             \n",
      "Generation 5 - Current best internal CV score: -1.7670509035655233\n",
      "                                                                               \n",
      "Generation 6 - Current best internal CV score: -1.717896779978894\n",
      "                                                                               \n",
      "Generation 7 - Current best internal CV score: -1.717896779978894\n",
      "                                                                               \n",
      "Generation 8 - Current best internal CV score: -1.7100064334029947\n",
      "                                                                               \n",
      "Generation 9 - Current best internal CV score: -1.7100064334029947\n",
      "                                                                              \n",
      "Generation 10 - Current best internal CV score: -1.7100064334029947\n",
      "                                                                              \n",
      "Generation 11 - Current best internal CV score: -1.7100064334029947\n",
      "                                                                              \n",
      "Generation 12 - Current best internal CV score: -1.7100064334029947\n",
      "                                                                              \n",
      "Generation 13 - Current best internal CV score: -1.7100064334029947\n",
      "                                                                              \n",
      "Generation 14 - Current best internal CV score: -1.7100064334029947\n",
      "                                                                              \n",
      "Generation 15 - Current best internal CV score: -1.7100064334029947\n",
      "                                                                              \n",
      "Generation 16 - Current best internal CV score: -1.6986795130186594\n",
      "                                                                              \n",
      "Generation 17 - Current best internal CV score: -1.6986795130186594\n",
      "                                                                                \n",
      "Generation 18 - Current best internal CV score: -1.6986778964133418\n",
      "                                                                                \n",
      "Generation 19 - Current best internal CV score: -1.6928247785828954\n",
      "                                                                                \n",
      "Generation 20 - Current best internal CV score: -1.6928247785828954\n",
      "                                                             \n",
      "Best pipeline: XGBRegressor(LassoLarsCV(CombineDFs(input_matrix, LassoLarsCV(input_matrix, normalize=True)), normalize=False), learning_rate=1.0, max_depth=5, min_child_weight=20, n_estimators=100, n_jobs=1, objective=reg:squarederror, subsample=1.0, verbosity=0)\n"
     ]
    },
    {
     "name": "stderr",
     "output_type": "stream",
     "text": [
      "/home/anson/.pyenv/versions/3.10.6/envs/DIVVY_BIKE/lib/python3.10/site-packages/sklearn/metrics/_scorer.py:765: FutureWarning: sklearn.metrics.SCORERS is deprecated and will be removed in v1.3. Please use sklearn.metrics.get_scorer_names to get a list of available scorers and sklearn.metrics.get_metric to get scorer.\n",
      "  warnings.warn(\n"
     ]
    },
    {
     "data": {
      "text/plain": [
       "-2.31693136530558"
      ]
     },
     "execution_count": 6,
     "metadata": {},
     "output_type": "execute_result"
    }
   ],
   "source": [
    "# generations=20, population_size=20\n",
    "model = tpot.TPOTRegressor(generations=20, population_size=10, scoring='neg_mean_squared_error',\n",
    "        verbosity=2, n_jobs=-1)\n",
    "model.fit(X_processed_df, y_processed_df)\n",
    "model.score(X_test_processed, y_test_processed)"
   ]
  },
  {
   "cell_type": "code",
   "execution_count": 9,
   "metadata": {},
   "outputs": [
    {
     "name": "stdout",
     "output_type": "stream",
     "text": [
      "                                                                                \n",
      "Generation 1 - Current best internal CV score: -2.492530323766265\n",
      "                                                                               \n",
      "Generation 2 - Current best internal CV score: -2.3753802216160578\n",
      "                                                                             \n",
      "Generation 3 - Current best internal CV score: -2.341795808767606\n",
      "                                                                               \n",
      "Generation 4 - Current best internal CV score: -2.0864618274529714\n",
      "                                                                               \n",
      "Generation 5 - Current best internal CV score: -2.0864618274529714\n",
      "                                                                               \n",
      "Generation 6 - Current best internal CV score: -1.9877795417112112\n",
      "                                                                               \n",
      "Generation 7 - Current best internal CV score: -1.9469900856692355\n",
      "                                                                               \n",
      "Generation 8 - Current best internal CV score: -1.8343721205694838\n",
      "                                                                               \n",
      "Generation 9 - Current best internal CV score: -1.8343721205694838\n",
      "                                                                                \n",
      "Generation 10 - Current best internal CV score: -1.8343721205694838\n",
      "                                                                              \n",
      "Generation 11 - Current best internal CV score: -1.8343721205694838\n",
      "                                                                              \n",
      "Generation 12 - Current best internal CV score: -1.8343721205694838\n",
      "                                                                              \n",
      "Generation 13 - Current best internal CV score: -1.8061601253383501\n",
      "                                                                              \n",
      "Generation 14 - Current best internal CV score: -1.8061601253383501\n",
      "                                                                              \n",
      "Generation 15 - Current best internal CV score: -1.8061601253383501\n",
      "                                                                                \n",
      "Generation 16 - Current best internal CV score: -1.8061601253383501\n",
      "                                                                                \n",
      "Generation 17 - Current best internal CV score: -1.8061601253383501\n",
      "                                                                                \n",
      "Generation 18 - Current best internal CV score: -1.8061601253383501\n",
      "                                                                                \n",
      "Generation 19 - Current best internal CV score: -1.8061601253383501\n",
      "                                                                                \n",
      "Generation 20 - Current best internal CV score: -1.806134803672223\n",
      "                                                             \n",
      "Best pipeline: LinearSVR(ExtraTreesRegressor(LinearSVR(RidgeCV(input_matrix), C=0.01, dual=False, epsilon=0.001, loss=squared_epsilon_insensitive, tol=0.01), bootstrap=True, max_features=0.9500000000000001, min_samples_leaf=9, min_samples_split=14, n_estimators=100), C=10.0, dual=True, epsilon=0.1, loss=squared_epsilon_insensitive, tol=0.01)\n"
     ]
    },
    {
     "name": "stderr",
     "output_type": "stream",
     "text": [
      "/home/anson/.pyenv/versions/3.10.6/envs/DIVVY_BIKE/lib/python3.10/site-packages/sklearn/metrics/_scorer.py:765: FutureWarning: sklearn.metrics.SCORERS is deprecated and will be removed in v1.3. Please use sklearn.metrics.get_scorer_names to get a list of available scorers and sklearn.metrics.get_metric to get scorer.\n",
      "  warnings.warn(\n"
     ]
    },
    {
     "data": {
      "text/plain": [
       "-1.8924808204806063"
      ]
     },
     "execution_count": 9,
     "metadata": {},
     "output_type": "execute_result"
    }
   ],
   "source": [
    "# generations=20, population_size=20\n",
    "model = tpot.TPOTRegressor(generations=20, population_size=10, scoring='neg_mean_squared_error',\n",
    "        verbosity=2, n_jobs=-1)\n",
    "model.fit(X_processed_df, y_processed_df)\n",
    "model.score(X_test_processed, y_test_processed)"
   ]
  },
  {
   "cell_type": "code",
   "execution_count": 6,
   "metadata": {},
   "outputs": [
    {
     "name": "stdout",
     "output_type": "stream",
     "text": [
      "                                                                                \n",
      "Generation 1 - Current best internal CV score: -2.3663731884837294\n",
      "                                                                               \n",
      "Generation 2 - Current best internal CV score: -2.3663731884837294\n",
      "                                                                               \n",
      "Generation 3 - Current best internal CV score: -2.3663731884837294\n",
      "                                                                               \n",
      "Generation 4 - Current best internal CV score: -2.3573380120115894\n",
      "                                                                             \n",
      "Generation 5 - Current best internal CV score: -2.3573380120115894\n",
      "                                                                             \n",
      "Generation 6 - Current best internal CV score: -2.3573380120115894\n",
      "                                                                             \n",
      "Generation 7 - Current best internal CV score: -2.3573380120115894\n",
      "                                                                               \n",
      "Generation 8 - Current best internal CV score: -2.342750335881496\n",
      "                                                                               \n",
      "Generation 9 - Current best internal CV score: -1.9863282142366856\n",
      "                                                                              \n",
      "Generation 10 - Current best internal CV score: -1.9863282142366856\n",
      "                                                                              \n",
      "Generation 11 - Current best internal CV score: -1.9863282142366856\n",
      "                                                                              \n",
      "Generation 12 - Current best internal CV score: -1.9863282142366856\n",
      "                                                                              \n",
      "Generation 13 - Current best internal CV score: -1.9863282142366856\n",
      "                                                                              \n",
      "Generation 14 - Current best internal CV score: -1.9863282142366856\n",
      "                                                                              \n",
      "Generation 15 - Current best internal CV score: -1.9863282142366856\n",
      "                                                                              \n",
      "Generation 16 - Current best internal CV score: -1.9863282142366856\n",
      "                                                                              \n",
      "Generation 17 - Current best internal CV score: -1.9863282142366856\n",
      "                                                                              \n",
      "Generation 18 - Current best internal CV score: -1.9863282142366856\n",
      "                                                                              \n",
      "Generation 19 - Current best internal CV score: -1.8672352421542542\n",
      "                                                                              \n",
      "Generation 20 - Current best internal CV score: -1.8672352421542542\n",
      "                                                           \n",
      "Best pipeline: XGBRegressor(RidgeCV(input_matrix), learning_rate=0.1, max_depth=6, min_child_weight=11, n_estimators=100, n_jobs=1, objective=reg:squarederror, subsample=0.1, verbosity=0)\n"
     ]
    },
    {
     "name": "stderr",
     "output_type": "stream",
     "text": [
      "/home/anson/.pyenv/versions/3.10.6/envs/DIVVY_BIKE/lib/python3.10/site-packages/sklearn/metrics/_scorer.py:765: FutureWarning: sklearn.metrics.SCORERS is deprecated and will be removed in v1.3. Please use sklearn.metrics.get_scorer_names to get a list of available scorers and sklearn.metrics.get_metric to get scorer.\n",
      "  warnings.warn(\n"
     ]
    },
    {
     "data": {
      "text/plain": [
       "-1.7080913846328787"
      ]
     },
     "execution_count": 6,
     "metadata": {},
     "output_type": "execute_result"
    }
   ],
   "source": [
    "# generations=20, population_size=20\n",
    "model = tpot.TPOTRegressor(generations=20, population_size=10, scoring='neg_mean_squared_error',\n",
    "        verbosity=2, n_jobs=\n",
    "        -1)\n",
    "model.fit(X_processed_df, y_processed_df)\n",
    "model.score(X_test_processed, y_test_processed)"
   ]
  },
  {
   "cell_type": "code",
   "execution_count": null,
   "metadata": {},
   "outputs": [],
   "source": [
    "# Export the result\n",
    "model.export('tpot_ml_pipeline.py.py')"
   ]
  },
  {
   "cell_type": "code",
   "execution_count": 6,
   "metadata": {},
   "outputs": [
    {
     "ename": "SyntaxError",
     "evalue": "invalid syntax (4228024096.py, line 6)",
     "output_type": "error",
     "traceback": [
      "\u001b[0;36m  Cell \u001b[0;32mIn[6], line 6\u001b[0;36m\u001b[0m\n\u001b[0;31m    model_arr=XGBRegressor(learning_rate=1.0, max_depth=5, min_child_weight=20, n_estimators=100, n_jobs=1, objective=reg:squarederror, subsample=1.0, verbosity=0)\u001b[0m\n\u001b[0m                                                                                                                         ^\u001b[0m\n\u001b[0;31mSyntaxError\u001b[0m\u001b[0;31m:\u001b[0m invalid syntax\n"
     ]
    }
   ],
   "source": [
    "from sklearn.model_selection import cross_val_score\n",
    "from xgboost import XGBRegressor\n",
    "from sklearn.linear_model import LassoLarsCV\n",
    "from sklearn.svm import LinearSVR\n",
    "\n",
    "model_arr=XGBRegressor(LassoLarsCV(CombineDFs(input_matrix, LassoLarsCV(input_matrix, normalize=True)), normalize=False)learning_rate=1.0, max_depth=5, min_child_weight=20, n_estimators=100, n_jobs=1, objective=reg:squarederror, subsample=1.0, verbosity=0)\n",
    "cv_results_dep=cross_val_score(model_arr,X_processed_df, y_processed_df,cv=10,scoring=('r2','neg_mean_squared_error'))\n",
    "mse_knr=cv_results_dep.mean()\n",
    "mse_knr"
   ]
  },
  {
   "cell_type": "code",
   "execution_count": 18,
   "metadata": {},
   "outputs": [
    {
     "data": {
      "text/plain": [
       "-2.650253453243754"
      ]
     },
     "execution_count": 18,
     "metadata": {},
     "output_type": "execute_result"
    }
   ],
   "source": [
    "from sklearn.model_selection import cross_validate\n",
    "from xgboost import XGBRegressor\n",
    "from sklearn.linear_model import RidgeCV\n",
    "from sklearn.ensemble import StackingRegressor\n",
    "\n",
    "model_arr = StackingRegressor(\n",
    "    estimators = [(\"rcv\", RidgeCV())],\n",
    "    final_estimator = XGBRegressor(learning_rate=0.1, max_depth=6, min_child_weight=11, n_estimators=100, n_jobs=1, objective='reg:squarederror', subsample=0.1, verbosity=0))\n",
    "\n",
    "cv_results_dep=cross_validate(model_arr,X_processed_df, y_processed_df,cv=10,scoring=('neg_mean_squared_error'))\n",
    "cv_results_dep['test_score'].mean()"
   ]
  },
  {
   "cell_type": "code",
   "execution_count": 19,
   "metadata": {},
   "outputs": [
    {
     "data": {
      "text/html": [
       "<style>#sk-container-id-1 {color: black;background-color: white;}#sk-container-id-1 pre{padding: 0;}#sk-container-id-1 div.sk-toggleable {background-color: white;}#sk-container-id-1 label.sk-toggleable__label {cursor: pointer;display: block;width: 100%;margin-bottom: 0;padding: 0.3em;box-sizing: border-box;text-align: center;}#sk-container-id-1 label.sk-toggleable__label-arrow:before {content: \"▸\";float: left;margin-right: 0.25em;color: #696969;}#sk-container-id-1 label.sk-toggleable__label-arrow:hover:before {color: black;}#sk-container-id-1 div.sk-estimator:hover label.sk-toggleable__label-arrow:before {color: black;}#sk-container-id-1 div.sk-toggleable__content {max-height: 0;max-width: 0;overflow: hidden;text-align: left;background-color: #f0f8ff;}#sk-container-id-1 div.sk-toggleable__content pre {margin: 0.2em;color: black;border-radius: 0.25em;background-color: #f0f8ff;}#sk-container-id-1 input.sk-toggleable__control:checked~div.sk-toggleable__content {max-height: 200px;max-width: 100%;overflow: auto;}#sk-container-id-1 input.sk-toggleable__control:checked~label.sk-toggleable__label-arrow:before {content: \"▾\";}#sk-container-id-1 div.sk-estimator input.sk-toggleable__control:checked~label.sk-toggleable__label {background-color: #d4ebff;}#sk-container-id-1 div.sk-label input.sk-toggleable__control:checked~label.sk-toggleable__label {background-color: #d4ebff;}#sk-container-id-1 input.sk-hidden--visually {border: 0;clip: rect(1px 1px 1px 1px);clip: rect(1px, 1px, 1px, 1px);height: 1px;margin: -1px;overflow: hidden;padding: 0;position: absolute;width: 1px;}#sk-container-id-1 div.sk-estimator {font-family: monospace;background-color: #f0f8ff;border: 1px dotted black;border-radius: 0.25em;box-sizing: border-box;margin-bottom: 0.5em;}#sk-container-id-1 div.sk-estimator:hover {background-color: #d4ebff;}#sk-container-id-1 div.sk-parallel-item::after {content: \"\";width: 100%;border-bottom: 1px solid gray;flex-grow: 1;}#sk-container-id-1 div.sk-label:hover label.sk-toggleable__label {background-color: #d4ebff;}#sk-container-id-1 div.sk-serial::before {content: \"\";position: absolute;border-left: 1px solid gray;box-sizing: border-box;top: 0;bottom: 0;left: 50%;z-index: 0;}#sk-container-id-1 div.sk-serial {display: flex;flex-direction: column;align-items: center;background-color: white;padding-right: 0.2em;padding-left: 0.2em;position: relative;}#sk-container-id-1 div.sk-item {position: relative;z-index: 1;}#sk-container-id-1 div.sk-parallel {display: flex;align-items: stretch;justify-content: center;background-color: white;position: relative;}#sk-container-id-1 div.sk-item::before, #sk-container-id-1 div.sk-parallel-item::before {content: \"\";position: absolute;border-left: 1px solid gray;box-sizing: border-box;top: 0;bottom: 0;left: 50%;z-index: -1;}#sk-container-id-1 div.sk-parallel-item {display: flex;flex-direction: column;z-index: 1;position: relative;background-color: white;}#sk-container-id-1 div.sk-parallel-item:first-child::after {align-self: flex-end;width: 50%;}#sk-container-id-1 div.sk-parallel-item:last-child::after {align-self: flex-start;width: 50%;}#sk-container-id-1 div.sk-parallel-item:only-child::after {width: 0;}#sk-container-id-1 div.sk-dashed-wrapped {border: 1px dashed gray;margin: 0 0.4em 0.5em 0.4em;box-sizing: border-box;padding-bottom: 0.4em;background-color: white;}#sk-container-id-1 div.sk-label label {font-family: monospace;font-weight: bold;display: inline-block;line-height: 1.2em;}#sk-container-id-1 div.sk-label-container {text-align: center;}#sk-container-id-1 div.sk-container {/* jupyter's `normalize.less` sets `[hidden] { display: none; }` but bootstrap.min.css set `[hidden] { display: none !important; }` so we also need the `!important` here to be able to override the default hidden behavior on the sphinx rendered scikit-learn.org. See: https://github.com/scikit-learn/scikit-learn/issues/21755 */display: inline-block !important;position: relative;}#sk-container-id-1 div.sk-text-repr-fallback {display: none;}</style><div id=\"sk-container-id-1\" class=\"sk-top-container\"><div class=\"sk-text-repr-fallback\"><pre>StackingRegressor(estimators=[(&#x27;rcv&#x27;, RidgeCV())],\n",
       "                  final_estimator=XGBRegressor(base_score=None, booster=None,\n",
       "                                               callbacks=None,\n",
       "                                               colsample_bylevel=None,\n",
       "                                               colsample_bynode=None,\n",
       "                                               colsample_bytree=None,\n",
       "                                               early_stopping_rounds=None,\n",
       "                                               enable_categorical=False,\n",
       "                                               eval_metric=None,\n",
       "                                               feature_types=None, gamma=None,\n",
       "                                               gpu_id=None, grow_policy=None,\n",
       "                                               importance_type=None,\n",
       "                                               interaction_constraints=None,\n",
       "                                               learning_rate=0.1, max_bin=None,\n",
       "                                               max_cat_threshold=None,\n",
       "                                               max_cat_to_onehot=None,\n",
       "                                               max_delta_step=None, max_depth=6,\n",
       "                                               max_leaves=None,\n",
       "                                               min_child_weight=11, missing=nan,\n",
       "                                               monotone_constraints=None,\n",
       "                                               n_estimators=100, n_jobs=1,\n",
       "                                               num_parallel_tree=None,\n",
       "                                               predictor=None,\n",
       "                                               random_state=None, ...))</pre><b>In a Jupyter environment, please rerun this cell to show the HTML representation or trust the notebook. <br />On GitHub, the HTML representation is unable to render, please try loading this page with nbviewer.org.</b></div><div class=\"sk-container\" hidden><div class=\"sk-item sk-dashed-wrapped\"><div class=\"sk-label-container\"><div class=\"sk-label sk-toggleable\"><input class=\"sk-toggleable__control sk-hidden--visually\" id=\"sk-estimator-id-1\" type=\"checkbox\" ><label for=\"sk-estimator-id-1\" class=\"sk-toggleable__label sk-toggleable__label-arrow\">StackingRegressor</label><div class=\"sk-toggleable__content\"><pre>StackingRegressor(estimators=[(&#x27;rcv&#x27;, RidgeCV())],\n",
       "                  final_estimator=XGBRegressor(base_score=None, booster=None,\n",
       "                                               callbacks=None,\n",
       "                                               colsample_bylevel=None,\n",
       "                                               colsample_bynode=None,\n",
       "                                               colsample_bytree=None,\n",
       "                                               early_stopping_rounds=None,\n",
       "                                               enable_categorical=False,\n",
       "                                               eval_metric=None,\n",
       "                                               feature_types=None, gamma=None,\n",
       "                                               gpu_id=None, grow_policy=None,\n",
       "                                               importance_type=None,\n",
       "                                               interaction_constraints=None,\n",
       "                                               learning_rate=0.1, max_bin=None,\n",
       "                                               max_cat_threshold=None,\n",
       "                                               max_cat_to_onehot=None,\n",
       "                                               max_delta_step=None, max_depth=6,\n",
       "                                               max_leaves=None,\n",
       "                                               min_child_weight=11, missing=nan,\n",
       "                                               monotone_constraints=None,\n",
       "                                               n_estimators=100, n_jobs=1,\n",
       "                                               num_parallel_tree=None,\n",
       "                                               predictor=None,\n",
       "                                               random_state=None, ...))</pre></div></div></div><div class=\"sk-serial\"><div class=\"sk-item\"><div class=\"sk-parallel\"><div class=\"sk-parallel-item\"><div class=\"sk-item\"><div class=\"sk-label-container\"><div class=\"sk-label sk-toggleable\"><label>rcv</label></div></div><div class=\"sk-serial\"><div class=\"sk-item\"><div class=\"sk-estimator sk-toggleable\"><input class=\"sk-toggleable__control sk-hidden--visually\" id=\"sk-estimator-id-2\" type=\"checkbox\" ><label for=\"sk-estimator-id-2\" class=\"sk-toggleable__label sk-toggleable__label-arrow\">RidgeCV</label><div class=\"sk-toggleable__content\"><pre>RidgeCV()</pre></div></div></div></div></div></div></div></div><div class=\"sk-item\"><div class=\"sk-parallel\"><div class=\"sk-parallel-item\"><div class=\"sk-item\"><div class=\"sk-label-container\"><div class=\"sk-label sk-toggleable\"><label>final_estimator</label></div></div><div class=\"sk-serial\"><div class=\"sk-item\"><div class=\"sk-estimator sk-toggleable\"><input class=\"sk-toggleable__control sk-hidden--visually\" id=\"sk-estimator-id-3\" type=\"checkbox\" ><label for=\"sk-estimator-id-3\" class=\"sk-toggleable__label sk-toggleable__label-arrow\">XGBRegressor</label><div class=\"sk-toggleable__content\"><pre>XGBRegressor(base_score=None, booster=None, callbacks=None,\n",
       "             colsample_bylevel=None, colsample_bynode=None,\n",
       "             colsample_bytree=None, early_stopping_rounds=None,\n",
       "             enable_categorical=False, eval_metric=None, feature_types=None,\n",
       "             gamma=None, gpu_id=None, grow_policy=None, importance_type=None,\n",
       "             interaction_constraints=None, learning_rate=0.1, max_bin=None,\n",
       "             max_cat_threshold=None, max_cat_to_onehot=None,\n",
       "             max_delta_step=None, max_depth=6, max_leaves=None,\n",
       "             min_child_weight=11, missing=nan, monotone_constraints=None,\n",
       "             n_estimators=100, n_jobs=1, num_parallel_tree=None, predictor=None,\n",
       "             random_state=None, ...)</pre></div></div></div></div></div></div></div></div></div></div></div></div>"
      ],
      "text/plain": [
       "StackingRegressor(estimators=[('rcv', RidgeCV())],\n",
       "                  final_estimator=XGBRegressor(base_score=None, booster=None,\n",
       "                                               callbacks=None,\n",
       "                                               colsample_bylevel=None,\n",
       "                                               colsample_bynode=None,\n",
       "                                               colsample_bytree=None,\n",
       "                                               early_stopping_rounds=None,\n",
       "                                               enable_categorical=False,\n",
       "                                               eval_metric=None,\n",
       "                                               feature_types=None, gamma=None,\n",
       "                                               gpu_id=None, grow_policy=None,\n",
       "                                               importance_type=None,\n",
       "                                               interaction_constraints=None,\n",
       "                                               learning_rate=0.1, max_bin=None,\n",
       "                                               max_cat_threshold=None,\n",
       "                                               max_cat_to_onehot=None,\n",
       "                                               max_delta_step=None, max_depth=6,\n",
       "                                               max_leaves=None,\n",
       "                                               min_child_weight=11, missing=nan,\n",
       "                                               monotone_constraints=None,\n",
       "                                               n_estimators=100, n_jobs=1,\n",
       "                                               num_parallel_tree=None,\n",
       "                                               predictor=None,\n",
       "                                               random_state=None, ...))"
      ]
     },
     "execution_count": 19,
     "metadata": {},
     "output_type": "execute_result"
    }
   ],
   "source": [
    "model_arr = StackingRegressor(\n",
    "    estimators = [(\"rcv\", RidgeCV())],\n",
    "    final_estimator = XGBRegressor(learning_rate=0.1, max_depth=6, min_child_weight=11, n_estimators=100, n_jobs=1, objective='reg:squarederror', subsample=0.1, verbosity=0))\n",
    "    \n",
    "model_arr.fit(X_processed_df, y_processed_df)"
   ]
  },
  {
   "cell_type": "code",
   "execution_count": 20,
   "metadata": {},
   "outputs": [
    {
     "data": {
      "text/plain": [
       "array([1.0626296, 1.0626296, 1.0626296, ..., 1.0561687, 1.158411 ,\n",
       "       1.3898864], dtype=float32)"
      ]
     },
     "execution_count": 20,
     "metadata": {},
     "output_type": "execute_result"
    }
   ],
   "source": [
    "model_arr.predict(X_test_processed)"
   ]
  }
 ],
 "metadata": {
  "kernelspec": {
   "display_name": "DIVVY_BIKE",
   "language": "python",
   "name": "python3"
  },
  "language_info": {
   "codemirror_mode": {
    "name": "ipython",
    "version": 3
   },
   "file_extension": ".py",
   "mimetype": "text/x-python",
   "name": "python",
   "nbconvert_exporter": "python",
   "pygments_lexer": "ipython3",
   "version": "3.10.6"
  },
  "orig_nbformat": 4,
  "vscode": {
   "interpreter": {
    "hash": "fb450ce56fa53d25385c7c67a6fb73f2070f05b91784cbf37427525e0726ed1f"
   }
  }
 },
 "nbformat": 4,
 "nbformat_minor": 2
}
