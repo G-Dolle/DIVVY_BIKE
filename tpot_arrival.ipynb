{
 "cells": [
  {
   "cell_type": "code",
   "execution_count": 1,
   "metadata": {},
   "outputs": [
    {
     "name": "stderr",
     "output_type": "stream",
     "text": [
      "/home/anson/.pyenv/versions/3.10.6/envs/DIVVY_BIKE/lib/python3.10/site-packages/tqdm/auto.py:22: TqdmWarning: IProgress not found. Please update jupyter and ipywidgets. See https://ipywidgets.readthedocs.io/en/stable/user_install.html\n",
      "  from .autonotebook import tqdm as notebook_tqdm\n"
     ]
    }
   ],
   "source": [
    "# Base\n",
    "import os\n",
    "import pandas as pd\n",
    "import numpy as np\n",
    "\n",
    "from ml_logic.main import preprocess, preprocess_test\n",
    "\n",
    "# AutoML with TPOT\n",
    "import tpot"
   ]
  },
  {
   "cell_type": "code",
   "execution_count": 4,
   "metadata": {},
   "outputs": [
    {
     "name": "stdout",
     "output_type": "stream",
     "text": [
      "Raw data imported\n",
      "Data cleaned and merged\n",
      "features and target dataframes created\n",
      "features preprocessed\n",
      "nb_arrivals picked as target\n",
      "Preprocessing of Training set is done\n",
      "Test Raw data imported\n",
      "Test Data cleaned and merged\n",
      "Test features and target dataframes created\n",
      "nb_arrivals picked as target\n",
      "Preprocessing of test set is done\n"
     ]
    }
   ],
   "source": [
    "target_chosen = \"nb_arrivals\"\n",
    "X_processed_df, y_processed_df, preprocessor = preprocess(target_chosen)\n",
    "X_test_processed, y_test_processed=preprocess_test(preprocessor, target_chosen)"
   ]
  },
  {
   "cell_type": "code",
   "execution_count": 6,
   "metadata": {},
   "outputs": [
    {
     "data": {
      "text/plain": [
       "0       0.0\n",
       "1       4.0\n",
       "2       0.0\n",
       "3       3.0\n",
       "4       1.0\n",
       "       ... \n",
       "1838    2.0\n",
       "1839    1.0\n",
       "1840    2.0\n",
       "1841    3.0\n",
       "1842    2.0\n",
       "Name: nb_arrivals, Length: 1843, dtype: float64"
      ]
     },
     "execution_count": 6,
     "metadata": {},
     "output_type": "execute_result"
    }
   ],
   "source": [
    "y_processed_df"
   ]
  },
  {
   "cell_type": "code",
   "execution_count": 4,
   "metadata": {},
   "outputs": [
    {
     "name": "stdout",
     "output_type": "stream",
     "text": [
      "                                                                             \n",
      "Generation 1 - Current best internal CV score: -16.519324055269482\n",
      "                                                                              \n",
      "Generation 2 - Current best internal CV score: -16.46780823949225\n",
      "                                                                              \n",
      "Generation 3 - Current best internal CV score: -16.46780823949225\n",
      "                                                                              \n",
      "Generation 4 - Current best internal CV score: -16.276338786998952\n",
      "                                                                              \n",
      "Generation 5 - Current best internal CV score: -16.276338786998952\n",
      "                                                                              \n",
      "Generation 6 - Current best internal CV score: -16.276338786998952\n",
      "                                                                              \n",
      "Generation 7 - Current best internal CV score: -16.276338786998952\n",
      "                                                                              \n",
      "Generation 8 - Current best internal CV score: -16.276338786998952\n",
      "                                                                              \n",
      "Generation 9 - Current best internal CV score: -16.26555460394386\n",
      "                                                                              \n",
      "Generation 10 - Current best internal CV score: -16.26555460394386\n",
      "                                                                              \n",
      "Generation 11 - Current best internal CV score: -16.26555460394386\n",
      "                                                                              \n",
      "Generation 12 - Current best internal CV score: -16.24766510983919\n",
      "                                                                              \n",
      "Generation 13 - Current best internal CV score: -16.24766510983919\n",
      "                                                                              \n",
      "Generation 14 - Current best internal CV score: -16.24766510983919\n",
      "                                                                              \n",
      "Generation 15 - Current best internal CV score: -16.24766510983919\n",
      "                                                                              \n",
      "Best pipeline: ExtraTreesRegressor(VarianceThreshold(LassoLarsCV(input_matrix, normalize=True), threshold=0.01), bootstrap=True, max_features=0.6500000000000001, min_samples_leaf=8, min_samples_split=13, n_estimators=100)\n"
     ]
    },
    {
     "name": "stderr",
     "output_type": "stream",
     "text": [
      "/home/anson/.pyenv/versions/3.10.6/envs/DIVVY_BIKE/lib/python3.10/site-packages/sklearn/metrics/_scorer.py:765: FutureWarning: sklearn.metrics.SCORERS is deprecated and will be removed in v1.3. Please use sklearn.metrics.get_scorer_names to get a list of available scorers and sklearn.metrics.get_metric to get scorer.\n",
      "  warnings.warn(\n"
     ]
    },
    {
     "data": {
      "text/plain": [
       "-18.883839069851295"
      ]
     },
     "execution_count": 4,
     "metadata": {},
     "output_type": "execute_result"
    }
   ],
   "source": [
    "#3.generations=15\n",
    "model = tpot.TPOTRegressor(generations=15, population_size=50, scoring='neg_mean_squared_error',\n",
    "        verbosity=2, n_jobs=-1)\n",
    "model.fit(X_processed_df, y_processed_df)\n",
    "model.score(X_test_processed, y_test_processed)"
   ]
  },
  {
   "cell_type": "code",
   "execution_count": 5,
   "metadata": {},
   "outputs": [
    {
     "name": "stdout",
     "output_type": "stream",
     "text": [
      "                                                                                  \n",
      "Generation 1 - Current best internal CV score: -16.31817340483697\n",
      "                                                                                  \n",
      "Generation 2 - Current best internal CV score: -16.301078022449325\n",
      "                                                                                  \n",
      "Generation 3 - Current best internal CV score: -16.301078022449325\n",
      "                                                                                  \n",
      "Generation 4 - Current best internal CV score: -16.248517793532713\n",
      "                                                                                  \n",
      "Generation 5 - Current best internal CV score: -16.248517793532713\n",
      "                                                                                  \n",
      "Generation 6 - Current best internal CV score: -16.248517793532713\n",
      "                                                                                  \n",
      "Generation 7 - Current best internal CV score: -16.20929080922566\n",
      "                                                                                  \n",
      "Generation 8 - Current best internal CV score: -16.20251757861064\n",
      "                                                                                  \n",
      "Generation 9 - Current best internal CV score: -16.20251757861064\n",
      "                                                                                   \n",
      "Generation 10 - Current best internal CV score: -16.20251757861064\n",
      "                                                                                   \n",
      "Generation 11 - Current best internal CV score: -16.20251757861064\n",
      "                                                                                   \n",
      "Generation 12 - Current best internal CV score: -16.20251757861064\n",
      "                                                                                   \n",
      "Generation 13 - Current best internal CV score: -16.20251757861064\n",
      "                                                                                   \n",
      "Generation 14 - Current best internal CV score: -16.20251757861064\n",
      "                                                                                   \n",
      "Generation 15 - Current best internal CV score: -16.20251757861064\n",
      "                                                                                   \n",
      "Generation 16 - Current best internal CV score: -16.17271622033882\n",
      "                                                                                   \n",
      "Generation 17 - Current best internal CV score: -16.17271622033882\n",
      "                                                                                   \n",
      "Generation 18 - Current best internal CV score: -16.17271622033882\n",
      "                                                                                   \n",
      "Generation 19 - Current best internal CV score: -16.17271622033882\n",
      "                                                                                   \n",
      "Generation 20 - Current best internal CV score: -16.17271622033882\n",
      "                                                                                   \n",
      "Generation 21 - Current best internal CV score: -16.17271622033882\n",
      "                                                                                   \n",
      "Generation 22 - Current best internal CV score: -16.17271622033882\n",
      "                                                                                   \n",
      "Generation 23 - Current best internal CV score: -16.17271622033882\n",
      "                                                                                   \n",
      "Generation 24 - Current best internal CV score: -16.17271622033882\n",
      "                                                                                   \n",
      "Generation 25 - Current best internal CV score: -16.17271622033882\n",
      "                                                                                   \n",
      "Generation 26 - Current best internal CV score: -16.17271622033882\n",
      "                                                                                   \n",
      "Generation 27 - Current best internal CV score: -16.17271622033882\n",
      "                                                                                   \n",
      "Generation 28 - Current best internal CV score: -16.17271622033882\n",
      "                                                                                   \n",
      "Generation 29 - Current best internal CV score: -16.170288580630405\n",
      "                                                                                   \n",
      "Generation 30 - Current best internal CV score: -16.163242335141078\n",
      "                                                                                   \n",
      "Generation 31 - Current best internal CV score: -16.154028697571952\n",
      "                                                                                   \n",
      "Generation 32 - Current best internal CV score: -16.154028697571952\n",
      "                                                                                   \n",
      "Generation 33 - Current best internal CV score: -16.154028697571952\n",
      "                                                                                   \n",
      "Generation 34 - Current best internal CV score: -16.154028697571952\n",
      "                                                                                   \n",
      "Generation 35 - Current best internal CV score: -16.154028697571952\n",
      "                                                                                   \n",
      "Generation 36 - Current best internal CV score: -16.154028697571952\n",
      "                                                                                   \n",
      "Generation 37 - Current best internal CV score: -16.154028697571952\n",
      "                                                                                   \n",
      "Generation 38 - Current best internal CV score: -16.149946516950962\n",
      "                                                                                   \n",
      "Generation 39 - Current best internal CV score: -16.140257205690443\n",
      "                                                                                   \n",
      "Generation 40 - Current best internal CV score: -16.13376951314449\n",
      "                                                                                   \n",
      "Generation 41 - Current best internal CV score: -16.13376951314449\n",
      "                                                                                   \n",
      "Generation 42 - Current best internal CV score: -16.13376951314449\n",
      "                                                                                   \n",
      "Generation 43 - Current best internal CV score: -16.115112943875893\n",
      "                                                                                   \n",
      "Generation 44 - Current best internal CV score: -16.115112943875893\n",
      "                                                                                   \n",
      "Generation 45 - Current best internal CV score: -16.115112943875893\n",
      "                                                                                   \n",
      "Generation 46 - Current best internal CV score: -16.115112943875893\n",
      "                                                                                   \n",
      "Generation 47 - Current best internal CV score: -16.115112943875893\n",
      "                                                                                   \n",
      "Generation 48 - Current best internal CV score: -16.115112943875893\n",
      "                                                                                   \n",
      "Generation 49 - Current best internal CV score: -16.115112943875893\n",
      "                                                                                   \n",
      "Generation 50 - Current best internal CV score: -16.115112943875893\n",
      "                                                                                   \n",
      "Generation 51 - Current best internal CV score: -16.115112943875893\n",
      "                                                                                 \n",
      "Generation 52 - Current best internal CV score: -16.115112943875893\n",
      "                                                                                   \n",
      "Generation 53 - Current best internal CV score: -16.115112943875893\n",
      "                                                                                   \n",
      "Generation 54 - Current best internal CV score: -16.115112943875893\n",
      "                                                                                 \n",
      "Generation 55 - Current best internal CV score: -16.115112943875893\n",
      "                                                                                   \n",
      "Generation 56 - Current best internal CV score: -16.115112943875893\n",
      "                                                                                     \n",
      "Generation 57 - Current best internal CV score: -16.115112943875893\n",
      "                                                                                   \n",
      "Generation 58 - Current best internal CV score: -16.115112943875893\n",
      "                                                                                     \n",
      "Generation 59 - Current best internal CV score: -16.115112943875893\n",
      "                                                                                     \n",
      "Generation 60 - Current best internal CV score: -16.115112943875893\n",
      "                                                                                     \n",
      "Generation 61 - Current best internal CV score: -16.115112943875893\n",
      "                                                                                   \n",
      "Generation 62 - Current best internal CV score: -16.115112943875893\n",
      "                                                                                   \n",
      "Generation 63 - Current best internal CV score: -16.115112943875893\n",
      "                                                                                   \n",
      "Generation 64 - Current best internal CV score: -16.115112943875893\n",
      "                                                                                     \n",
      "Generation 65 - Current best internal CV score: -16.115112943875893\n",
      "                                                                                   \n",
      "Generation 66 - Current best internal CV score: -16.115112943875893\n",
      "                                                                                   \n",
      "Generation 67 - Current best internal CV score: -16.115112943875893\n",
      "                                                                                   \n",
      "Generation 68 - Current best internal CV score: -16.115112943875893\n",
      "                                                                                   \n",
      "Generation 69 - Current best internal CV score: -16.115112943875893\n",
      "                                                                                   \n",
      "Generation 70 - Current best internal CV score: -16.115112943875893\n",
      "                                                                                   \n",
      "Generation 71 - Current best internal CV score: -16.115112943875893\n",
      "                                                                                   \n",
      "Generation 72 - Current best internal CV score: -16.115112943875893\n",
      "                                                                                   \n",
      "Generation 73 - Current best internal CV score: -16.115112943875893\n",
      "                                                                                   \n",
      "Generation 74 - Current best internal CV score: -16.115112943875893\n",
      "                                                                                   \n",
      "Generation 75 - Current best internal CV score: -16.115112943875893\n",
      "                                                                                   \n",
      "Generation 76 - Current best internal CV score: -16.115112943875893\n",
      "                                                                                   \n",
      "Generation 77 - Current best internal CV score: -16.115112943875893\n",
      "                                                                                   \n",
      "Generation 78 - Current best internal CV score: -16.115112943875893\n",
      "                                                                                   \n",
      "Generation 79 - Current best internal CV score: -16.115112943875893\n",
      "                                                                                   \n",
      "Generation 80 - Current best internal CV score: -16.115112943875893\n",
      "                                                                                   \n",
      "Generation 81 - Current best internal CV score: -16.115112943875893\n",
      "                                                                                   \n",
      "Generation 82 - Current best internal CV score: -16.115112943875893\n",
      "                                                                                   \n",
      "Generation 83 - Current best internal CV score: -16.115112943875893\n",
      "                                                                                   \n",
      "Generation 84 - Current best internal CV score: -16.115112943875893\n",
      "                                                                                   \n",
      "Generation 85 - Current best internal CV score: -16.093414386621234\n",
      "                                                                                   \n",
      "Generation 86 - Current best internal CV score: -16.093414386621234\n",
      "                                                                                   \n",
      "Generation 87 - Current best internal CV score: -16.093414386621234\n",
      "                                                                                   \n",
      "Generation 88 - Current best internal CV score: -16.093414386621234\n",
      "                                                                                   \n",
      "Generation 89 - Current best internal CV score: -16.093414386621234\n",
      "                                                                                   \n",
      "Generation 90 - Current best internal CV score: -16.093414386621234\n",
      "                                                                                   \n",
      "Generation 91 - Current best internal CV score: -16.093414386621234\n",
      "                                                                                   \n",
      "Generation 92 - Current best internal CV score: -16.093414386621234\n",
      "                                                                                   \n",
      "Generation 93 - Current best internal CV score: -16.093414386621234\n",
      "                                                                                   \n",
      "Generation 94 - Current best internal CV score: -16.093414386621234\n",
      "                                                                                   \n",
      "Generation 95 - Current best internal CV score: -16.093414386621234\n",
      "                                                                                   \n",
      "Generation 96 - Current best internal CV score: -16.093414386621234\n",
      "                                                                                   \n",
      "Generation 97 - Current best internal CV score: -16.093414386621234\n",
      "                                                                                   \n",
      "Generation 98 - Current best internal CV score: -16.093414386621234\n",
      "                                                                                   \n",
      "Generation 99 - Current best internal CV score: -16.093414386621234\n",
      "                                                                                    \n",
      "Generation 100 - Current best internal CV score: -16.093414386621234\n",
      "                                                                                    \n",
      "Best pipeline: ExtraTreesRegressor(VarianceThreshold(MinMaxScaler(OneHotEncoder(LassoLarsCV(input_matrix, normalize=True), minimum_fraction=0.05, sparse=False, threshold=10)), threshold=0.05), bootstrap=False, max_features=0.8500000000000001, min_samples_leaf=12, min_samples_split=17, n_estimators=100)\n"
     ]
    },
    {
     "name": "stderr",
     "output_type": "stream",
     "text": [
      "/home/anson/.pyenv/versions/3.10.6/envs/DIVVY_BIKE/lib/python3.10/site-packages/sklearn/metrics/_scorer.py:765: FutureWarning: sklearn.metrics.SCORERS is deprecated and will be removed in v1.3. Please use sklearn.metrics.get_scorer_names to get a list of available scorers and sklearn.metrics.get_metric to get scorer.\n",
      "  warnings.warn(\n"
     ]
    },
    {
     "data": {
      "text/plain": [
       "-19.367445777907914"
      ]
     },
     "execution_count": 5,
     "metadata": {},
     "output_type": "execute_result"
    }
   ],
   "source": [
    "#3.generations=100, population_size=100\n",
    "model = tpot.TPOTRegressor(generations=100, population_size=100, scoring='neg_mean_squared_error',\n",
    "        verbosity=2, n_jobs=-1)\n",
    "model.fit(X_processed_df, y_processed_df)\n",
    "model.score(X_test_processed, y_test_processed)"
   ]
  },
  {
   "cell_type": "code",
   "execution_count": null,
   "metadata": {},
   "outputs": [],
   "source": [
    "# Export the result\n",
    "model.export('tpot_departure.py')"
   ]
  }
 ],
 "metadata": {
  "kernelspec": {
   "display_name": "DIVVY_BIKE",
   "language": "python",
   "name": "python3"
  },
  "language_info": {
   "codemirror_mode": {
    "name": "ipython",
    "version": 3
   },
   "file_extension": ".py",
   "mimetype": "text/x-python",
   "name": "python",
   "nbconvert_exporter": "python",
   "pygments_lexer": "ipython3",
   "version": "3.10.6"
  },
  "orig_nbformat": 4,
  "vscode": {
   "interpreter": {
    "hash": "fb450ce56fa53d25385c7c67a6fb73f2070f05b91784cbf37427525e0726ed1f"
   }
  }
 },
 "nbformat": 4,
 "nbformat_minor": 2
}
