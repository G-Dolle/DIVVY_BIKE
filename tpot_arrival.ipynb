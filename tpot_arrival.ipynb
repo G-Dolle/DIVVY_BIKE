{
 "cells": [
  {
   "cell_type": "code",
   "execution_count": 2,
   "metadata": {},
   "outputs": [
    {
     "name": "stderr",
     "output_type": "stream",
     "text": [
      "/home/anson/.pyenv/versions/3.10.6/envs/DIVVY_BIKE/lib/python3.10/site-packages/tqdm/auto.py:22: TqdmWarning: IProgress not found. Please update jupyter and ipywidgets. See https://ipywidgets.readthedocs.io/en/stable/user_install.html\n",
      "  from .autonotebook import tqdm as notebook_tqdm\n"
     ]
    }
   ],
   "source": [
    "# Base\n",
    "import os\n",
    "import pandas as pd\n",
    "import numpy as np\n",
    "\n",
    "from ml_logic.main import preprocess, preprocess_test\n",
    "\n",
    "# AutoML with TPOT\n",
    "import tpot"
   ]
  },
  {
   "cell_type": "code",
   "execution_count": 3,
   "metadata": {},
   "outputs": [
    {
     "name": "stdout",
     "output_type": "stream",
     "text": [
      "Raw data imported\n",
      "Data cleaned and merged\n",
      "features and target dataframes created\n",
      "Geohash of stations computed\n"
     ]
    },
    {
     "name": "stderr",
     "output_type": "stream",
     "text": [
      "/home/anson/code/G-Dolle/DIVVY_BIKE/ml_logic/preprocessor.py:40: SettingWithCopyWarning: \n",
      "A value is trying to be set on a copy of a slice from a DataFrame\n",
      "\n",
      "See the caveats in the documentation: https://pandas.pydata.org/pandas-docs/stable/user_guide/indexing.html#returning-a-view-versus-a-copy\n",
      "  df_stations_reduced.rename(columns={\"name\":\"station_name\"}, inplace=True)\n"
     ]
    },
    {
     "name": "stdout",
     "output_type": "stream",
     "text": [
      "Geohash of stations added to Features dataframe\n",
      "features preprocessed\n",
      "nb_arrivals picked as target\n",
      "Preprocessing of Training set is done\n",
      "Test Raw data imported\n",
      "Test Data cleaned and merged\n",
      "Test features and target dataframes created\n",
      "nb_arrivals picked as target\n",
      "Preprocessing of test set is done\n"
     ]
    }
   ],
   "source": [
    "target_chosen = \"nb_arrivals\"\n",
    "X_processed_df, y_processed_df, preprocessor, df_stations_reduced = preprocess(target_chosen)\n",
    "X_test_processed, y_test_processed=preprocess_test(preprocessor, target_chosen, df_stations_reduced)\n"
   ]
  },
  {
   "cell_type": "code",
   "execution_count": 4,
   "metadata": {},
   "outputs": [
    {
     "data": {
      "text/plain": [
       "((718651, 72), (539439, 72))"
      ]
     },
     "execution_count": 4,
     "metadata": {},
     "output_type": "execute_result"
    }
   ],
   "source": [
    "X_processed_df.shape, X_test_processed.shape"
   ]
  },
  {
   "cell_type": "code",
   "execution_count": null,
   "metadata": {},
   "outputs": [],
   "source": [
    "# generations=150, population_size=150\n",
    "model = tpot.TPOTRegressor(generations=150, population_size=150, scoring='neg_mean_squared_error',\n",
    "        verbosity=2, n_jobs=-1)\n",
    "model.fit(X_processed_df, y_processed_df)\n",
    "model.score(X_test_processed, y_test_processed)"
   ]
  },
  {
   "cell_type": "code",
   "execution_count": null,
   "metadata": {},
   "outputs": [],
   "source": [
    "# Export the result\n",
    "model.export('tpot_arrival.py')"
   ]
  }
 ],
 "metadata": {
  "kernelspec": {
   "display_name": "DIVVY_BIKE",
   "language": "python",
   "name": "python3"
  },
  "language_info": {
   "codemirror_mode": {
    "name": "ipython",
    "version": 3
   },
   "file_extension": ".py",
   "mimetype": "text/x-python",
   "name": "python",
   "nbconvert_exporter": "python",
   "pygments_lexer": "ipython3",
   "version": "3.10.6 (main, Oct 14 2022, 13:55:23) [GCC 11.2.0]"
  },
  "orig_nbformat": 4,
  "vscode": {
   "interpreter": {
    "hash": "fb450ce56fa53d25385c7c67a6fb73f2070f05b91784cbf37427525e0726ed1f"
   }
  }
 },
 "nbformat": 4,
 "nbformat_minor": 2
}
