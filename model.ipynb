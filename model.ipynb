{
 "cells": [
  {
   "cell_type": "code",
   "execution_count": 1,
   "metadata": {},
   "outputs": [],
   "source": [
    "%load_ext autoreload\n",
    "%autoreload 2"
   ]
  },
  {
   "cell_type": "code",
   "execution_count": 2,
   "metadata": {},
   "outputs": [],
   "source": [
    "import os\n",
    "import pandas as pd\n",
    "import numpy as np\n",
    "import pickle as pkl\n",
    "from sklearn.linear_model import LinearRegression, ElasticNet\n",
    "from sklearn.neighbors import KNeighborsRegressor\n",
    "from sklearn.model_selection import train_test_split, cross_validate\n",
    "from sklearn.model_selection import learning_curve, GridSearchCV"
   ]
  },
  {
   "cell_type": "code",
   "execution_count": 6,
   "metadata": {},
   "outputs": [],
   "source": [
    "from divvy.ml_logic.data_import import get_divvy_data, get_weather_data, get_station_data\n",
    "from divvy.ml_logic.cleaning import cleaning_divvy_gen,cleaning_divvy_gen_agg,weather_cleaning\n",
    "from divvy.ml_logic.cleaning import features_target, merge_divvy_weather, compute_geohash_stations\n",
    "from divvy.ml_logic.preprocessor import preprocess_features, target_process\n",
    "from divvy.ml_logic.main import preprocess_test, preprocess\n",
    "from divvy.interface_ui.flow.flow import transform_user_inputs,get_station_availability\n",
    "from divvy.interface_ui.flow.ui_utils import process_weather_inputs,get_coordinates\n",
    "from divvy.ml_logic.model import initialize_model"
   ]
  },
  {
   "cell_type": "code",
   "execution_count": 7,
   "metadata": {},
   "outputs": [],
   "source": [
    "year=os.environ.get('DIVVY_YEAR')\n",
    "quarter=os.environ.get('DIVVY_QUARTER')"
   ]
  },
  {
   "cell_type": "code",
   "execution_count": 8,
   "metadata": {},
   "outputs": [
    {
     "data": {
      "text/plain": [
       "'2021'"
      ]
     },
     "execution_count": 8,
     "metadata": {},
     "output_type": "execute_result"
    }
   ],
   "source": [
    "year"
   ]
  },
  {
   "cell_type": "code",
   "execution_count": 9,
   "metadata": {},
   "outputs": [
    {
     "data": {
      "text/html": [
       "<div>\n",
       "<style scoped>\n",
       "    .dataframe tbody tr th:only-of-type {\n",
       "        vertical-align: middle;\n",
       "    }\n",
       "\n",
       "    .dataframe tbody tr th {\n",
       "        vertical-align: top;\n",
       "    }\n",
       "\n",
       "    .dataframe thead th {\n",
       "        text-align: right;\n",
       "    }\n",
       "</style>\n",
       "<table border=\"1\" class=\"dataframe\">\n",
       "  <thead>\n",
       "    <tr style=\"text-align: right;\">\n",
       "      <th></th>\n",
       "      <th>dt</th>\n",
       "      <th>dt_iso</th>\n",
       "      <th>timezone</th>\n",
       "      <th>city_name</th>\n",
       "      <th>lat</th>\n",
       "      <th>lon</th>\n",
       "      <th>temp</th>\n",
       "      <th>visibility</th>\n",
       "      <th>dew_point</th>\n",
       "      <th>feels_like</th>\n",
       "      <th>...</th>\n",
       "      <th>wind_gust</th>\n",
       "      <th>rain_1h</th>\n",
       "      <th>rain_3h</th>\n",
       "      <th>snow_1h</th>\n",
       "      <th>snow_3h</th>\n",
       "      <th>clouds_all</th>\n",
       "      <th>weather_id</th>\n",
       "      <th>weather_main</th>\n",
       "      <th>weather_description</th>\n",
       "      <th>weather_icon</th>\n",
       "    </tr>\n",
       "  </thead>\n",
       "  <tbody>\n",
       "    <tr>\n",
       "      <th>0</th>\n",
       "      <td>1356998400</td>\n",
       "      <td>2013-01-01 00:00:00 +0000 UTC</td>\n",
       "      <td>-21600</td>\n",
       "      <td>Chicago</td>\n",
       "      <td>41.878114</td>\n",
       "      <td>-87.629798</td>\n",
       "      <td>-2.87</td>\n",
       "      <td>10000.0</td>\n",
       "      <td>-7.38</td>\n",
       "      <td>-7.90</td>\n",
       "      <td>...</td>\n",
       "      <td>NaN</td>\n",
       "      <td>NaN</td>\n",
       "      <td>NaN</td>\n",
       "      <td>NaN</td>\n",
       "      <td>NaN</td>\n",
       "      <td>100</td>\n",
       "      <td>804</td>\n",
       "      <td>Clouds</td>\n",
       "      <td>overcast clouds</td>\n",
       "      <td>04n</td>\n",
       "    </tr>\n",
       "    <tr>\n",
       "      <th>1</th>\n",
       "      <td>1357002000</td>\n",
       "      <td>2013-01-01 01:00:00 +0000 UTC</td>\n",
       "      <td>-21600</td>\n",
       "      <td>Chicago</td>\n",
       "      <td>41.878114</td>\n",
       "      <td>-87.629798</td>\n",
       "      <td>-3.12</td>\n",
       "      <td>10000.0</td>\n",
       "      <td>-7.45</td>\n",
       "      <td>-7.35</td>\n",
       "      <td>...</td>\n",
       "      <td>NaN</td>\n",
       "      <td>NaN</td>\n",
       "      <td>NaN</td>\n",
       "      <td>NaN</td>\n",
       "      <td>NaN</td>\n",
       "      <td>100</td>\n",
       "      <td>804</td>\n",
       "      <td>Clouds</td>\n",
       "      <td>overcast clouds</td>\n",
       "      <td>04n</td>\n",
       "    </tr>\n",
       "    <tr>\n",
       "      <th>2</th>\n",
       "      <td>1357005600</td>\n",
       "      <td>2013-01-01 02:00:00 +0000 UTC</td>\n",
       "      <td>-21600</td>\n",
       "      <td>Chicago</td>\n",
       "      <td>41.878114</td>\n",
       "      <td>-87.629798</td>\n",
       "      <td>-3.12</td>\n",
       "      <td>10000.0</td>\n",
       "      <td>-7.45</td>\n",
       "      <td>-6.83</td>\n",
       "      <td>...</td>\n",
       "      <td>NaN</td>\n",
       "      <td>NaN</td>\n",
       "      <td>NaN</td>\n",
       "      <td>NaN</td>\n",
       "      <td>NaN</td>\n",
       "      <td>100</td>\n",
       "      <td>804</td>\n",
       "      <td>Clouds</td>\n",
       "      <td>overcast clouds</td>\n",
       "      <td>04n</td>\n",
       "    </tr>\n",
       "    <tr>\n",
       "      <th>3</th>\n",
       "      <td>1357009200</td>\n",
       "      <td>2013-01-01 03:00:00 +0000 UTC</td>\n",
       "      <td>-21600</td>\n",
       "      <td>Chicago</td>\n",
       "      <td>41.878114</td>\n",
       "      <td>-87.629798</td>\n",
       "      <td>-2.87</td>\n",
       "      <td>10000.0</td>\n",
       "      <td>-7.72</td>\n",
       "      <td>-7.90</td>\n",
       "      <td>...</td>\n",
       "      <td>NaN</td>\n",
       "      <td>NaN</td>\n",
       "      <td>NaN</td>\n",
       "      <td>NaN</td>\n",
       "      <td>NaN</td>\n",
       "      <td>100</td>\n",
       "      <td>804</td>\n",
       "      <td>Clouds</td>\n",
       "      <td>overcast clouds</td>\n",
       "      <td>04n</td>\n",
       "    </tr>\n",
       "    <tr>\n",
       "      <th>4</th>\n",
       "      <td>1357012800</td>\n",
       "      <td>2013-01-01 04:00:00 +0000 UTC</td>\n",
       "      <td>-21600</td>\n",
       "      <td>Chicago</td>\n",
       "      <td>41.878114</td>\n",
       "      <td>-87.629798</td>\n",
       "      <td>-4.17</td>\n",
       "      <td>10000.0</td>\n",
       "      <td>-9.32</td>\n",
       "      <td>-10.57</td>\n",
       "      <td>...</td>\n",
       "      <td>NaN</td>\n",
       "      <td>NaN</td>\n",
       "      <td>NaN</td>\n",
       "      <td>NaN</td>\n",
       "      <td>NaN</td>\n",
       "      <td>100</td>\n",
       "      <td>804</td>\n",
       "      <td>Clouds</td>\n",
       "      <td>overcast clouds</td>\n",
       "      <td>04n</td>\n",
       "    </tr>\n",
       "  </tbody>\n",
       "</table>\n",
       "<p>5 rows × 28 columns</p>\n",
       "</div>"
      ],
      "text/plain": [
       "           dt                         dt_iso  timezone city_name        lat  \\\n",
       "0  1356998400  2013-01-01 00:00:00 +0000 UTC    -21600   Chicago  41.878114   \n",
       "1  1357002000  2013-01-01 01:00:00 +0000 UTC    -21600   Chicago  41.878114   \n",
       "2  1357005600  2013-01-01 02:00:00 +0000 UTC    -21600   Chicago  41.878114   \n",
       "3  1357009200  2013-01-01 03:00:00 +0000 UTC    -21600   Chicago  41.878114   \n",
       "4  1357012800  2013-01-01 04:00:00 +0000 UTC    -21600   Chicago  41.878114   \n",
       "\n",
       "         lon  temp  visibility  dew_point  feels_like  ...  wind_gust  \\\n",
       "0 -87.629798 -2.87     10000.0      -7.38       -7.90  ...        NaN   \n",
       "1 -87.629798 -3.12     10000.0      -7.45       -7.35  ...        NaN   \n",
       "2 -87.629798 -3.12     10000.0      -7.45       -6.83  ...        NaN   \n",
       "3 -87.629798 -2.87     10000.0      -7.72       -7.90  ...        NaN   \n",
       "4 -87.629798 -4.17     10000.0      -9.32      -10.57  ...        NaN   \n",
       "\n",
       "   rain_1h  rain_3h  snow_1h  snow_3h  clouds_all  weather_id  weather_main  \\\n",
       "0      NaN      NaN      NaN      NaN         100         804        Clouds   \n",
       "1      NaN      NaN      NaN      NaN         100         804        Clouds   \n",
       "2      NaN      NaN      NaN      NaN         100         804        Clouds   \n",
       "3      NaN      NaN      NaN      NaN         100         804        Clouds   \n",
       "4      NaN      NaN      NaN      NaN         100         804        Clouds   \n",
       "\n",
       "   weather_description  weather_icon  \n",
       "0      overcast clouds           04n  \n",
       "1      overcast clouds           04n  \n",
       "2      overcast clouds           04n  \n",
       "3      overcast clouds           04n  \n",
       "4      overcast clouds           04n  \n",
       "\n",
       "[5 rows x 28 columns]"
      ]
     },
     "execution_count": 9,
     "metadata": {},
     "output_type": "execute_result"
    }
   ],
   "source": [
    "weather_df=get_weather_data()\n",
    "weather_df.head()"
   ]
  },
  {
   "cell_type": "code",
   "execution_count": 10,
   "metadata": {},
   "outputs": [
    {
     "data": {
      "text/html": [
       "<div>\n",
       "<style scoped>\n",
       "    .dataframe tbody tr th:only-of-type {\n",
       "        vertical-align: middle;\n",
       "    }\n",
       "\n",
       "    .dataframe tbody tr th {\n",
       "        vertical-align: top;\n",
       "    }\n",
       "\n",
       "    .dataframe thead th {\n",
       "        text-align: right;\n",
       "    }\n",
       "</style>\n",
       "<table border=\"1\" class=\"dataframe\">\n",
       "  <thead>\n",
       "    <tr style=\"text-align: right;\">\n",
       "      <th></th>\n",
       "      <th>ride_id</th>\n",
       "      <th>rideable_type</th>\n",
       "      <th>started_at</th>\n",
       "      <th>ended_at</th>\n",
       "      <th>start_station_name</th>\n",
       "      <th>start_station_id</th>\n",
       "      <th>end_station_name</th>\n",
       "      <th>end_station_id</th>\n",
       "      <th>start_lat</th>\n",
       "      <th>start_lng</th>\n",
       "      <th>end_lat</th>\n",
       "      <th>end_lng</th>\n",
       "      <th>member_casual</th>\n",
       "    </tr>\n",
       "  </thead>\n",
       "  <tbody>\n",
       "    <tr>\n",
       "      <th>0</th>\n",
       "      <td>9DC7B962304CBFD8</td>\n",
       "      <td>electric_bike</td>\n",
       "      <td>2021-09-28 16:07:10</td>\n",
       "      <td>2021-09-28 16:09:54</td>\n",
       "      <td>NaN</td>\n",
       "      <td>NaN</td>\n",
       "      <td>NaN</td>\n",
       "      <td>NaN</td>\n",
       "      <td>41.89</td>\n",
       "      <td>-87.68</td>\n",
       "      <td>41.89</td>\n",
       "      <td>-87.67</td>\n",
       "      <td>casual</td>\n",
       "    </tr>\n",
       "    <tr>\n",
       "      <th>1</th>\n",
       "      <td>F930E2C6872D6B32</td>\n",
       "      <td>electric_bike</td>\n",
       "      <td>2021-09-28 14:24:51</td>\n",
       "      <td>2021-09-28 14:40:05</td>\n",
       "      <td>NaN</td>\n",
       "      <td>NaN</td>\n",
       "      <td>NaN</td>\n",
       "      <td>NaN</td>\n",
       "      <td>41.94</td>\n",
       "      <td>-87.64</td>\n",
       "      <td>41.98</td>\n",
       "      <td>-87.67</td>\n",
       "      <td>casual</td>\n",
       "    </tr>\n",
       "    <tr>\n",
       "      <th>2</th>\n",
       "      <td>6EF72137900BB910</td>\n",
       "      <td>electric_bike</td>\n",
       "      <td>2021-09-28 00:20:16</td>\n",
       "      <td>2021-09-28 00:23:57</td>\n",
       "      <td>NaN</td>\n",
       "      <td>NaN</td>\n",
       "      <td>NaN</td>\n",
       "      <td>NaN</td>\n",
       "      <td>41.81</td>\n",
       "      <td>-87.72</td>\n",
       "      <td>41.80</td>\n",
       "      <td>-87.72</td>\n",
       "      <td>casual</td>\n",
       "    </tr>\n",
       "    <tr>\n",
       "      <th>3</th>\n",
       "      <td>78D1DE133B3DBF55</td>\n",
       "      <td>electric_bike</td>\n",
       "      <td>2021-09-28 14:51:17</td>\n",
       "      <td>2021-09-28 15:00:06</td>\n",
       "      <td>NaN</td>\n",
       "      <td>NaN</td>\n",
       "      <td>NaN</td>\n",
       "      <td>NaN</td>\n",
       "      <td>41.80</td>\n",
       "      <td>-87.72</td>\n",
       "      <td>41.81</td>\n",
       "      <td>-87.72</td>\n",
       "      <td>casual</td>\n",
       "    </tr>\n",
       "    <tr>\n",
       "      <th>4</th>\n",
       "      <td>E03D4ACDCAEF6E00</td>\n",
       "      <td>electric_bike</td>\n",
       "      <td>2021-09-28 09:53:12</td>\n",
       "      <td>2021-09-28 10:03:44</td>\n",
       "      <td>NaN</td>\n",
       "      <td>NaN</td>\n",
       "      <td>NaN</td>\n",
       "      <td>NaN</td>\n",
       "      <td>41.88</td>\n",
       "      <td>-87.74</td>\n",
       "      <td>41.88</td>\n",
       "      <td>-87.71</td>\n",
       "      <td>casual</td>\n",
       "    </tr>\n",
       "  </tbody>\n",
       "</table>\n",
       "</div>"
      ],
      "text/plain": [
       "            ride_id  rideable_type           started_at             ended_at  \\\n",
       "0  9DC7B962304CBFD8  electric_bike  2021-09-28 16:07:10  2021-09-28 16:09:54   \n",
       "1  F930E2C6872D6B32  electric_bike  2021-09-28 14:24:51  2021-09-28 14:40:05   \n",
       "2  6EF72137900BB910  electric_bike  2021-09-28 00:20:16  2021-09-28 00:23:57   \n",
       "3  78D1DE133B3DBF55  electric_bike  2021-09-28 14:51:17  2021-09-28 15:00:06   \n",
       "4  E03D4ACDCAEF6E00  electric_bike  2021-09-28 09:53:12  2021-09-28 10:03:44   \n",
       "\n",
       "  start_station_name start_station_id end_station_name end_station_id  \\\n",
       "0                NaN              NaN              NaN            NaN   \n",
       "1                NaN              NaN              NaN            NaN   \n",
       "2                NaN              NaN              NaN            NaN   \n",
       "3                NaN              NaN              NaN            NaN   \n",
       "4                NaN              NaN              NaN            NaN   \n",
       "\n",
       "   start_lat  start_lng  end_lat  end_lng member_casual  \n",
       "0      41.89     -87.68    41.89   -87.67        casual  \n",
       "1      41.94     -87.64    41.98   -87.67        casual  \n",
       "2      41.81     -87.72    41.80   -87.72        casual  \n",
       "3      41.80     -87.72    41.81   -87.72        casual  \n",
       "4      41.88     -87.74    41.88   -87.71        casual  "
      ]
     },
     "execution_count": 10,
     "metadata": {},
     "output_type": "execute_result"
    }
   ],
   "source": [
    "trips_df=get_divvy_data(year,quarter)\n",
    "trips_df.head()"
   ]
  },
  {
   "cell_type": "code",
   "execution_count": null,
   "metadata": {},
   "outputs": [],
   "source": []
  },
  {
   "cell_type": "code",
   "execution_count": 11,
   "metadata": {},
   "outputs": [
    {
     "data": {
      "text/plain": [
       "'Canal St & Adams St'"
      ]
     },
     "execution_count": 11,
     "metadata": {},
     "output_type": "execute_result"
    }
   ],
   "source": [
    "station_name = os.environ.get(\"DIVVY_STATION_NAME\")\n",
    "station_name"
   ]
  },
  {
   "cell_type": "code",
   "execution_count": 12,
   "metadata": {},
   "outputs": [
    {
     "name": "stderr",
     "output_type": "stream",
     "text": [
      "/Users/mariofernandez/code/G-Dolle/DIVVY_BIKE/divvy/ml_logic/cleaning.py:21: SettingWithCopyWarning: \n",
      "A value is trying to be set on a copy of a slice from a DataFrame\n",
      "\n",
      "See the caveats in the documentation: https://pandas.pydata.org/pandas-docs/stable/user_guide/indexing.html#returning-a-view-versus-a-copy\n",
      "  df_stations_reduced.rename(columns={\"name\":\"station_name\"}, inplace=True)\n"
     ]
    }
   ],
   "source": [
    "clean_divvy_df = cleaning_divvy_gen_agg(trips_df)\n",
    "clean_weather_df = weather_cleaning(weather_df)\n",
    "merged_df = merge_divvy_weather(clean_divvy_df, clean_weather_df)"
   ]
  },
  {
   "cell_type": "code",
   "execution_count": 13,
   "metadata": {},
   "outputs": [
    {
     "data": {
      "text/html": [
       "<div>\n",
       "<style scoped>\n",
       "    .dataframe tbody tr th:only-of-type {\n",
       "        vertical-align: middle;\n",
       "    }\n",
       "\n",
       "    .dataframe tbody tr th {\n",
       "        vertical-align: top;\n",
       "    }\n",
       "\n",
       "    .dataframe thead th {\n",
       "        text-align: right;\n",
       "    }\n",
       "</style>\n",
       "<table border=\"1\" class=\"dataframe\">\n",
       "  <thead>\n",
       "    <tr style=\"text-align: right;\">\n",
       "      <th></th>\n",
       "      <th>dt_iso</th>\n",
       "      <th>temp</th>\n",
       "      <th>pressure</th>\n",
       "      <th>humidity</th>\n",
       "      <th>wind_speed</th>\n",
       "      <th>wind_deg</th>\n",
       "      <th>clouds_all</th>\n",
       "      <th>hourly_data</th>\n",
       "    </tr>\n",
       "  </thead>\n",
       "  <tbody>\n",
       "    <tr>\n",
       "      <th>0</th>\n",
       "      <td>2013-01-01 00:00:00</td>\n",
       "      <td>-2.87</td>\n",
       "      <td>1018</td>\n",
       "      <td>68</td>\n",
       "      <td>4.12</td>\n",
       "      <td>300</td>\n",
       "      <td>100</td>\n",
       "      <td>2013-01-01 00:00:00</td>\n",
       "    </tr>\n",
       "    <tr>\n",
       "      <th>1</th>\n",
       "      <td>2013-01-01 01:00:00</td>\n",
       "      <td>-3.12</td>\n",
       "      <td>1019</td>\n",
       "      <td>69</td>\n",
       "      <td>3.10</td>\n",
       "      <td>310</td>\n",
       "      <td>100</td>\n",
       "      <td>2013-01-01 01:00:00</td>\n",
       "    </tr>\n",
       "    <tr>\n",
       "      <th>2</th>\n",
       "      <td>2013-01-01 02:00:00</td>\n",
       "      <td>-3.12</td>\n",
       "      <td>1019</td>\n",
       "      <td>69</td>\n",
       "      <td>2.60</td>\n",
       "      <td>290</td>\n",
       "      <td>100</td>\n",
       "      <td>2013-01-01 02:00:00</td>\n",
       "    </tr>\n",
       "    <tr>\n",
       "      <th>3</th>\n",
       "      <td>2013-01-01 03:00:00</td>\n",
       "      <td>-2.87</td>\n",
       "      <td>1019</td>\n",
       "      <td>66</td>\n",
       "      <td>4.12</td>\n",
       "      <td>360</td>\n",
       "      <td>100</td>\n",
       "      <td>2013-01-01 03:00:00</td>\n",
       "    </tr>\n",
       "    <tr>\n",
       "      <th>4</th>\n",
       "      <td>2013-01-01 04:00:00</td>\n",
       "      <td>-4.17</td>\n",
       "      <td>1020</td>\n",
       "      <td>64</td>\n",
       "      <td>5.70</td>\n",
       "      <td>330</td>\n",
       "      <td>100</td>\n",
       "      <td>2013-01-01 04:00:00</td>\n",
       "    </tr>\n",
       "  </tbody>\n",
       "</table>\n",
       "</div>"
      ],
      "text/plain": [
       "               dt_iso  temp  pressure  humidity  wind_speed  wind_deg  \\\n",
       "0 2013-01-01 00:00:00 -2.87      1018        68        4.12       300   \n",
       "1 2013-01-01 01:00:00 -3.12      1019        69        3.10       310   \n",
       "2 2013-01-01 02:00:00 -3.12      1019        69        2.60       290   \n",
       "3 2013-01-01 03:00:00 -2.87      1019        66        4.12       360   \n",
       "4 2013-01-01 04:00:00 -4.17      1020        64        5.70       330   \n",
       "\n",
       "   clouds_all         hourly_data  \n",
       "0         100 2013-01-01 00:00:00  \n",
       "1         100 2013-01-01 01:00:00  \n",
       "2         100 2013-01-01 02:00:00  \n",
       "3         100 2013-01-01 03:00:00  \n",
       "4         100 2013-01-01 04:00:00  "
      ]
     },
     "execution_count": 13,
     "metadata": {},
     "output_type": "execute_result"
    }
   ],
   "source": [
    "clean_weather_df.head()"
   ]
  },
  {
   "cell_type": "code",
   "execution_count": 14,
   "metadata": {},
   "outputs": [
    {
     "data": {
      "text/html": [
       "<div>\n",
       "<style scoped>\n",
       "    .dataframe tbody tr th:only-of-type {\n",
       "        vertical-align: middle;\n",
       "    }\n",
       "\n",
       "    .dataframe tbody tr th {\n",
       "        vertical-align: top;\n",
       "    }\n",
       "\n",
       "    .dataframe thead th {\n",
       "        text-align: right;\n",
       "    }\n",
       "</style>\n",
       "<table border=\"1\" class=\"dataframe\">\n",
       "  <thead>\n",
       "    <tr style=\"text-align: right;\">\n",
       "      <th></th>\n",
       "      <th>geohash</th>\n",
       "      <th>hourly_data</th>\n",
       "      <th>nb_departures</th>\n",
       "      <th>nb_arrivals</th>\n",
       "      <th>ratio</th>\n",
       "    </tr>\n",
       "  </thead>\n",
       "  <tbody>\n",
       "    <tr>\n",
       "      <th>0</th>\n",
       "      <td>dp3sy</td>\n",
       "      <td>2021-07-01 04:00:00</td>\n",
       "      <td>1.0</td>\n",
       "      <td>1.0</td>\n",
       "      <td>1.0</td>\n",
       "    </tr>\n",
       "    <tr>\n",
       "      <th>1</th>\n",
       "      <td>dp3sy</td>\n",
       "      <td>2021-07-01 17:00:00</td>\n",
       "      <td>1.0</td>\n",
       "      <td>0.0</td>\n",
       "      <td>inf</td>\n",
       "    </tr>\n",
       "    <tr>\n",
       "      <th>2</th>\n",
       "      <td>dp3sy</td>\n",
       "      <td>2021-07-01 18:00:00</td>\n",
       "      <td>1.0</td>\n",
       "      <td>2.0</td>\n",
       "      <td>0.5</td>\n",
       "    </tr>\n",
       "    <tr>\n",
       "      <th>3</th>\n",
       "      <td>dp3sy</td>\n",
       "      <td>2021-07-01 21:00:00</td>\n",
       "      <td>1.0</td>\n",
       "      <td>0.0</td>\n",
       "      <td>inf</td>\n",
       "    </tr>\n",
       "    <tr>\n",
       "      <th>4</th>\n",
       "      <td>dp3sy</td>\n",
       "      <td>2021-07-01 23:00:00</td>\n",
       "      <td>4.0</td>\n",
       "      <td>1.0</td>\n",
       "      <td>4.0</td>\n",
       "    </tr>\n",
       "    <tr>\n",
       "      <th>...</th>\n",
       "      <td>...</td>\n",
       "      <td>...</td>\n",
       "      <td>...</td>\n",
       "      <td>...</td>\n",
       "      <td>...</td>\n",
       "    </tr>\n",
       "    <tr>\n",
       "      <th>52541</th>\n",
       "      <td>dp3xk</td>\n",
       "      <td>2021-09-28 07:00:00</td>\n",
       "      <td>0.0</td>\n",
       "      <td>1.0</td>\n",
       "      <td>0.0</td>\n",
       "    </tr>\n",
       "    <tr>\n",
       "      <th>52542</th>\n",
       "      <td>dp3xk</td>\n",
       "      <td>2021-09-29 02:00:00</td>\n",
       "      <td>0.0</td>\n",
       "      <td>1.0</td>\n",
       "      <td>0.0</td>\n",
       "    </tr>\n",
       "    <tr>\n",
       "      <th>52543</th>\n",
       "      <td>dp3xk</td>\n",
       "      <td>2021-09-30 07:00:00</td>\n",
       "      <td>0.0</td>\n",
       "      <td>1.0</td>\n",
       "      <td>0.0</td>\n",
       "    </tr>\n",
       "    <tr>\n",
       "      <th>52544</th>\n",
       "      <td>dp3xk</td>\n",
       "      <td>2021-09-30 20:00:00</td>\n",
       "      <td>0.0</td>\n",
       "      <td>4.0</td>\n",
       "      <td>0.0</td>\n",
       "    </tr>\n",
       "    <tr>\n",
       "      <th>52545</th>\n",
       "      <td>dp3xk</td>\n",
       "      <td>2021-10-01 13:00:00</td>\n",
       "      <td>0.0</td>\n",
       "      <td>1.0</td>\n",
       "      <td>0.0</td>\n",
       "    </tr>\n",
       "  </tbody>\n",
       "</table>\n",
       "<p>52546 rows × 5 columns</p>\n",
       "</div>"
      ],
      "text/plain": [
       "      geohash         hourly_data  nb_departures  nb_arrivals  ratio\n",
       "0       dp3sy 2021-07-01 04:00:00            1.0          1.0    1.0\n",
       "1       dp3sy 2021-07-01 17:00:00            1.0          0.0    inf\n",
       "2       dp3sy 2021-07-01 18:00:00            1.0          2.0    0.5\n",
       "3       dp3sy 2021-07-01 21:00:00            1.0          0.0    inf\n",
       "4       dp3sy 2021-07-01 23:00:00            4.0          1.0    4.0\n",
       "...       ...                 ...            ...          ...    ...\n",
       "52541   dp3xk 2021-09-28 07:00:00            0.0          1.0    0.0\n",
       "52542   dp3xk 2021-09-29 02:00:00            0.0          1.0    0.0\n",
       "52543   dp3xk 2021-09-30 07:00:00            0.0          1.0    0.0\n",
       "52544   dp3xk 2021-09-30 20:00:00            0.0          4.0    0.0\n",
       "52545   dp3xk 2021-10-01 13:00:00            0.0          1.0    0.0\n",
       "\n",
       "[52546 rows x 5 columns]"
      ]
     },
     "execution_count": 14,
     "metadata": {},
     "output_type": "execute_result"
    }
   ],
   "source": [
    "clean_divvy_df"
   ]
  },
  {
   "cell_type": "code",
   "execution_count": 15,
   "metadata": {},
   "outputs": [
    {
     "data": {
      "text/html": [
       "<style>#sk-container-id-1 {color: black;background-color: white;}#sk-container-id-1 pre{padding: 0;}#sk-container-id-1 div.sk-toggleable {background-color: white;}#sk-container-id-1 label.sk-toggleable__label {cursor: pointer;display: block;width: 100%;margin-bottom: 0;padding: 0.3em;box-sizing: border-box;text-align: center;}#sk-container-id-1 label.sk-toggleable__label-arrow:before {content: \"▸\";float: left;margin-right: 0.25em;color: #696969;}#sk-container-id-1 label.sk-toggleable__label-arrow:hover:before {color: black;}#sk-container-id-1 div.sk-estimator:hover label.sk-toggleable__label-arrow:before {color: black;}#sk-container-id-1 div.sk-toggleable__content {max-height: 0;max-width: 0;overflow: hidden;text-align: left;background-color: #f0f8ff;}#sk-container-id-1 div.sk-toggleable__content pre {margin: 0.2em;color: black;border-radius: 0.25em;background-color: #f0f8ff;}#sk-container-id-1 input.sk-toggleable__control:checked~div.sk-toggleable__content {max-height: 200px;max-width: 100%;overflow: auto;}#sk-container-id-1 input.sk-toggleable__control:checked~label.sk-toggleable__label-arrow:before {content: \"▾\";}#sk-container-id-1 div.sk-estimator input.sk-toggleable__control:checked~label.sk-toggleable__label {background-color: #d4ebff;}#sk-container-id-1 div.sk-label input.sk-toggleable__control:checked~label.sk-toggleable__label {background-color: #d4ebff;}#sk-container-id-1 input.sk-hidden--visually {border: 0;clip: rect(1px 1px 1px 1px);clip: rect(1px, 1px, 1px, 1px);height: 1px;margin: -1px;overflow: hidden;padding: 0;position: absolute;width: 1px;}#sk-container-id-1 div.sk-estimator {font-family: monospace;background-color: #f0f8ff;border: 1px dotted black;border-radius: 0.25em;box-sizing: border-box;margin-bottom: 0.5em;}#sk-container-id-1 div.sk-estimator:hover {background-color: #d4ebff;}#sk-container-id-1 div.sk-parallel-item::after {content: \"\";width: 100%;border-bottom: 1px solid gray;flex-grow: 1;}#sk-container-id-1 div.sk-label:hover label.sk-toggleable__label {background-color: #d4ebff;}#sk-container-id-1 div.sk-serial::before {content: \"\";position: absolute;border-left: 1px solid gray;box-sizing: border-box;top: 0;bottom: 0;left: 50%;z-index: 0;}#sk-container-id-1 div.sk-serial {display: flex;flex-direction: column;align-items: center;background-color: white;padding-right: 0.2em;padding-left: 0.2em;position: relative;}#sk-container-id-1 div.sk-item {position: relative;z-index: 1;}#sk-container-id-1 div.sk-parallel {display: flex;align-items: stretch;justify-content: center;background-color: white;position: relative;}#sk-container-id-1 div.sk-item::before, #sk-container-id-1 div.sk-parallel-item::before {content: \"\";position: absolute;border-left: 1px solid gray;box-sizing: border-box;top: 0;bottom: 0;left: 50%;z-index: -1;}#sk-container-id-1 div.sk-parallel-item {display: flex;flex-direction: column;z-index: 1;position: relative;background-color: white;}#sk-container-id-1 div.sk-parallel-item:first-child::after {align-self: flex-end;width: 50%;}#sk-container-id-1 div.sk-parallel-item:last-child::after {align-self: flex-start;width: 50%;}#sk-container-id-1 div.sk-parallel-item:only-child::after {width: 0;}#sk-container-id-1 div.sk-dashed-wrapped {border: 1px dashed gray;margin: 0 0.4em 0.5em 0.4em;box-sizing: border-box;padding-bottom: 0.4em;background-color: white;}#sk-container-id-1 div.sk-label label {font-family: monospace;font-weight: bold;display: inline-block;line-height: 1.2em;}#sk-container-id-1 div.sk-label-container {text-align: center;}#sk-container-id-1 div.sk-container {/* jupyter's `normalize.less` sets `[hidden] { display: none; }` but bootstrap.min.css set `[hidden] { display: none !important; }` so we also need the `!important` here to be able to override the default hidden behavior on the sphinx rendered scikit-learn.org. See: https://github.com/scikit-learn/scikit-learn/issues/21755 */display: inline-block !important;position: relative;}#sk-container-id-1 div.sk-text-repr-fallback {display: none;}</style><div id=\"sk-container-id-1\" class=\"sk-top-container\"><div class=\"sk-text-repr-fallback\"><pre>StackingRegressor(estimators=[(&#x27;SVR&#x27;,\n",
       "                               Pipeline(steps=[(&#x27;linearsvr&#x27;,\n",
       "                                                LinearSVR(C=25.0, epsilon=1.0,\n",
       "                                                          loss=&#x27;squared_epsilon_insensitive&#x27;))])),\n",
       "                              (&#x27;XGB&#x27;,\n",
       "                               Pipeline(steps=[(&#x27;xgbregressor&#x27;,\n",
       "                                                XGBRegressor(base_score=None,\n",
       "                                                             booster=None,\n",
       "                                                             callbacks=None,\n",
       "                                                             colsample_bylevel=None,\n",
       "                                                             colsample_bynode=None,\n",
       "                                                             colsample_bytree=None,\n",
       "                                                             early_stopping_rounds=None,\n",
       "                                                             enable_categorical=False,...\n",
       "                                                             max_cat_to_onehot=None,\n",
       "                                                             max_delta_step=None,\n",
       "                                                             max_depth=3,\n",
       "                                                             max_leaves=None,\n",
       "                                                             min_child_weight=19,\n",
       "                                                             missing=nan,\n",
       "                                                             monotone_constraints=None,\n",
       "                                                             n_estimators=100,\n",
       "                                                             n_jobs=1,\n",
       "                                                             num_parallel_tree=None,\n",
       "                                                             predictor=None,\n",
       "                                                             random_state=None, ...))]))],\n",
       "                  final_estimator=Pipeline(steps=[(&#x27;decisiontreeregressor&#x27;,\n",
       "                                                   DecisionTreeRegressor(max_depth=3,\n",
       "                                                                         min_samples_leaf=12,\n",
       "                                                                         min_samples_split=18))]))</pre><b>In a Jupyter environment, please rerun this cell to show the HTML representation or trust the notebook. <br />On GitHub, the HTML representation is unable to render, please try loading this page with nbviewer.org.</b></div><div class=\"sk-container\" hidden><div class=\"sk-item sk-dashed-wrapped\"><div class=\"sk-label-container\"><div class=\"sk-label sk-toggleable\"><input class=\"sk-toggleable__control sk-hidden--visually\" id=\"sk-estimator-id-1\" type=\"checkbox\" ><label for=\"sk-estimator-id-1\" class=\"sk-toggleable__label sk-toggleable__label-arrow\">StackingRegressor</label><div class=\"sk-toggleable__content\"><pre>StackingRegressor(estimators=[(&#x27;SVR&#x27;,\n",
       "                               Pipeline(steps=[(&#x27;linearsvr&#x27;,\n",
       "                                                LinearSVR(C=25.0, epsilon=1.0,\n",
       "                                                          loss=&#x27;squared_epsilon_insensitive&#x27;))])),\n",
       "                              (&#x27;XGB&#x27;,\n",
       "                               Pipeline(steps=[(&#x27;xgbregressor&#x27;,\n",
       "                                                XGBRegressor(base_score=None,\n",
       "                                                             booster=None,\n",
       "                                                             callbacks=None,\n",
       "                                                             colsample_bylevel=None,\n",
       "                                                             colsample_bynode=None,\n",
       "                                                             colsample_bytree=None,\n",
       "                                                             early_stopping_rounds=None,\n",
       "                                                             enable_categorical=False,...\n",
       "                                                             max_cat_to_onehot=None,\n",
       "                                                             max_delta_step=None,\n",
       "                                                             max_depth=3,\n",
       "                                                             max_leaves=None,\n",
       "                                                             min_child_weight=19,\n",
       "                                                             missing=nan,\n",
       "                                                             monotone_constraints=None,\n",
       "                                                             n_estimators=100,\n",
       "                                                             n_jobs=1,\n",
       "                                                             num_parallel_tree=None,\n",
       "                                                             predictor=None,\n",
       "                                                             random_state=None, ...))]))],\n",
       "                  final_estimator=Pipeline(steps=[(&#x27;decisiontreeregressor&#x27;,\n",
       "                                                   DecisionTreeRegressor(max_depth=3,\n",
       "                                                                         min_samples_leaf=12,\n",
       "                                                                         min_samples_split=18))]))</pre></div></div></div><div class=\"sk-serial\"><div class=\"sk-item\"><div class=\"sk-parallel\"><div class=\"sk-parallel-item\"><div class=\"sk-item\"><div class=\"sk-label-container\"><div class=\"sk-label sk-toggleable\"><label>SVR</label></div></div><div class=\"sk-serial\"><div class=\"sk-item\"><div class=\"sk-serial\"><div class=\"sk-item\"><div class=\"sk-estimator sk-toggleable\"><input class=\"sk-toggleable__control sk-hidden--visually\" id=\"sk-estimator-id-2\" type=\"checkbox\" ><label for=\"sk-estimator-id-2\" class=\"sk-toggleable__label sk-toggleable__label-arrow\">LinearSVR</label><div class=\"sk-toggleable__content\"><pre>LinearSVR(C=25.0, epsilon=1.0, loss=&#x27;squared_epsilon_insensitive&#x27;)</pre></div></div></div></div></div></div></div></div><div class=\"sk-parallel-item\"><div class=\"sk-item\"><div class=\"sk-label-container\"><div class=\"sk-label sk-toggleable\"><label>XGB</label></div></div><div class=\"sk-serial\"><div class=\"sk-item\"><div class=\"sk-serial\"><div class=\"sk-item\"><div class=\"sk-estimator sk-toggleable\"><input class=\"sk-toggleable__control sk-hidden--visually\" id=\"sk-estimator-id-3\" type=\"checkbox\" ><label for=\"sk-estimator-id-3\" class=\"sk-toggleable__label sk-toggleable__label-arrow\">XGBRegressor</label><div class=\"sk-toggleable__content\"><pre>XGBRegressor(base_score=None, booster=None, callbacks=None,\n",
       "             colsample_bylevel=None, colsample_bynode=None,\n",
       "             colsample_bytree=None, early_stopping_rounds=None,\n",
       "             enable_categorical=False, eval_metric=None, feature_types=None,\n",
       "             gamma=None, gpu_id=None, grow_policy=None, importance_type=None,\n",
       "             interaction_constraints=None, learning_rate=0.01, max_bin=None,\n",
       "             max_cat_threshold=None, max_cat_to_onehot=None,\n",
       "             max_delta_step=None, max_depth=3, max_leaves=None,\n",
       "             min_child_weight=19, missing=nan, monotone_constraints=None,\n",
       "             n_estimators=100, n_jobs=1, num_parallel_tree=None, predictor=None,\n",
       "             random_state=None, ...)</pre></div></div></div></div></div></div></div></div></div></div><div class=\"sk-item\"><div class=\"sk-parallel\"><div class=\"sk-parallel-item\"><div class=\"sk-item\"><div class=\"sk-label-container\"><div class=\"sk-label sk-toggleable\"><label>final_estimator</label></div></div><div class=\"sk-serial\"><div class=\"sk-item\"><div class=\"sk-serial\"><div class=\"sk-item\"><div class=\"sk-estimator sk-toggleable\"><input class=\"sk-toggleable__control sk-hidden--visually\" id=\"sk-estimator-id-4\" type=\"checkbox\" ><label for=\"sk-estimator-id-4\" class=\"sk-toggleable__label sk-toggleable__label-arrow\">DecisionTreeRegressor</label><div class=\"sk-toggleable__content\"><pre>DecisionTreeRegressor(max_depth=3, min_samples_leaf=12, min_samples_split=18)</pre></div></div></div></div></div></div></div></div></div></div></div></div></div></div>"
      ],
      "text/plain": [
       "StackingRegressor(estimators=[('SVR',\n",
       "                               Pipeline(steps=[('linearsvr',\n",
       "                                                LinearSVR(C=25.0, epsilon=1.0,\n",
       "                                                          loss='squared_epsilon_insensitive'))])),\n",
       "                              ('XGB',\n",
       "                               Pipeline(steps=[('xgbregressor',\n",
       "                                                XGBRegressor(base_score=None,\n",
       "                                                             booster=None,\n",
       "                                                             callbacks=None,\n",
       "                                                             colsample_bylevel=None,\n",
       "                                                             colsample_bynode=None,\n",
       "                                                             colsample_bytree=None,\n",
       "                                                             early_stopping_rounds=None,\n",
       "                                                             enable_categorical=False,...\n",
       "                                                             max_cat_to_onehot=None,\n",
       "                                                             max_delta_step=None,\n",
       "                                                             max_depth=3,\n",
       "                                                             max_leaves=None,\n",
       "                                                             min_child_weight=19,\n",
       "                                                             missing=nan,\n",
       "                                                             monotone_constraints=None,\n",
       "                                                             n_estimators=100,\n",
       "                                                             n_jobs=1,\n",
       "                                                             num_parallel_tree=None,\n",
       "                                                             predictor=None,\n",
       "                                                             random_state=None, ...))]))],\n",
       "                  final_estimator=Pipeline(steps=[('decisiontreeregressor',\n",
       "                                                   DecisionTreeRegressor(max_depth=3,\n",
       "                                                                         min_samples_leaf=12,\n",
       "                                                                         min_samples_split=18))]))"
      ]
     },
     "execution_count": 15,
     "metadata": {},
     "output_type": "execute_result"
    }
   ],
   "source": [
    "model=initialize_model()\n",
    "model"
   ]
  },
  {
   "cell_type": "code",
   "execution_count": 18,
   "metadata": {},
   "outputs": [
    {
     "data": {
      "text/plain": [
       "sklearn.ensemble._stacking.StackingRegressor"
      ]
     },
     "execution_count": 18,
     "metadata": {},
     "output_type": "execute_result"
    }
   ],
   "source": [
    "type(model)"
   ]
  },
  {
   "cell_type": "code",
   "execution_count": 17,
   "metadata": {},
   "outputs": [
    {
     "data": {
      "text/html": [
       "<div>\n",
       "<style scoped>\n",
       "    .dataframe tbody tr th:only-of-type {\n",
       "        vertical-align: middle;\n",
       "    }\n",
       "\n",
       "    .dataframe tbody tr th {\n",
       "        vertical-align: top;\n",
       "    }\n",
       "\n",
       "    .dataframe thead th {\n",
       "        text-align: right;\n",
       "    }\n",
       "</style>\n",
       "<table border=\"1\" class=\"dataframe\">\n",
       "  <thead>\n",
       "    <tr style=\"text-align: right;\">\n",
       "      <th></th>\n",
       "      <th>geohash</th>\n",
       "      <th>hourly_data</th>\n",
       "      <th>nb_departures</th>\n",
       "      <th>nb_arrivals</th>\n",
       "      <th>ratio</th>\n",
       "      <th>dt_iso</th>\n",
       "      <th>temp</th>\n",
       "      <th>pressure</th>\n",
       "      <th>humidity</th>\n",
       "      <th>wind_speed</th>\n",
       "      <th>wind_deg</th>\n",
       "      <th>clouds_all</th>\n",
       "    </tr>\n",
       "  </thead>\n",
       "  <tbody>\n",
       "    <tr>\n",
       "      <th>0</th>\n",
       "      <td>dp3sy</td>\n",
       "      <td>2021-07-01 04:00:00</td>\n",
       "      <td>1.0</td>\n",
       "      <td>1.0</td>\n",
       "      <td>1.0</td>\n",
       "      <td>2021-07-01 04:00:00</td>\n",
       "      <td>21.29</td>\n",
       "      <td>1001</td>\n",
       "      <td>84</td>\n",
       "      <td>0.00</td>\n",
       "      <td>0</td>\n",
       "      <td>75</td>\n",
       "    </tr>\n",
       "    <tr>\n",
       "      <th>1</th>\n",
       "      <td>dp3sy</td>\n",
       "      <td>2021-07-01 17:00:00</td>\n",
       "      <td>1.0</td>\n",
       "      <td>0.0</td>\n",
       "      <td>inf</td>\n",
       "      <td>2021-07-01 17:00:00</td>\n",
       "      <td>23.18</td>\n",
       "      <td>1018</td>\n",
       "      <td>62</td>\n",
       "      <td>7.20</td>\n",
       "      <td>20</td>\n",
       "      <td>20</td>\n",
       "    </tr>\n",
       "    <tr>\n",
       "      <th>2</th>\n",
       "      <td>dp3sy</td>\n",
       "      <td>2021-07-01 18:00:00</td>\n",
       "      <td>1.0</td>\n",
       "      <td>2.0</td>\n",
       "      <td>0.5</td>\n",
       "      <td>2021-07-01 18:00:00</td>\n",
       "      <td>23.36</td>\n",
       "      <td>1018</td>\n",
       "      <td>61</td>\n",
       "      <td>8.23</td>\n",
       "      <td>30</td>\n",
       "      <td>20</td>\n",
       "    </tr>\n",
       "    <tr>\n",
       "      <th>3</th>\n",
       "      <td>dp3sy</td>\n",
       "      <td>2021-07-01 21:00:00</td>\n",
       "      <td>1.0</td>\n",
       "      <td>0.0</td>\n",
       "      <td>inf</td>\n",
       "      <td>2021-07-01 21:00:00</td>\n",
       "      <td>22.44</td>\n",
       "      <td>1018</td>\n",
       "      <td>55</td>\n",
       "      <td>8.75</td>\n",
       "      <td>30</td>\n",
       "      <td>20</td>\n",
       "    </tr>\n",
       "    <tr>\n",
       "      <th>4</th>\n",
       "      <td>dp3sy</td>\n",
       "      <td>2021-07-01 23:00:00</td>\n",
       "      <td>4.0</td>\n",
       "      <td>1.0</td>\n",
       "      <td>4.0</td>\n",
       "      <td>2021-07-01 23:00:00</td>\n",
       "      <td>20.64</td>\n",
       "      <td>1019</td>\n",
       "      <td>62</td>\n",
       "      <td>7.72</td>\n",
       "      <td>40</td>\n",
       "      <td>20</td>\n",
       "    </tr>\n",
       "    <tr>\n",
       "      <th>...</th>\n",
       "      <td>...</td>\n",
       "      <td>...</td>\n",
       "      <td>...</td>\n",
       "      <td>...</td>\n",
       "      <td>...</td>\n",
       "      <td>...</td>\n",
       "      <td>...</td>\n",
       "      <td>...</td>\n",
       "      <td>...</td>\n",
       "      <td>...</td>\n",
       "      <td>...</td>\n",
       "      <td>...</td>\n",
       "    </tr>\n",
       "    <tr>\n",
       "      <th>52541</th>\n",
       "      <td>dp3xk</td>\n",
       "      <td>2021-09-28 07:00:00</td>\n",
       "      <td>0.0</td>\n",
       "      <td>1.0</td>\n",
       "      <td>0.0</td>\n",
       "      <td>2021-09-28 07:00:00</td>\n",
       "      <td>17.46</td>\n",
       "      <td>1014</td>\n",
       "      <td>81</td>\n",
       "      <td>4.63</td>\n",
       "      <td>30</td>\n",
       "      <td>0</td>\n",
       "    </tr>\n",
       "    <tr>\n",
       "      <th>52542</th>\n",
       "      <td>dp3xk</td>\n",
       "      <td>2021-09-29 02:00:00</td>\n",
       "      <td>0.0</td>\n",
       "      <td>1.0</td>\n",
       "      <td>0.0</td>\n",
       "      <td>2021-09-29 02:00:00</td>\n",
       "      <td>17.47</td>\n",
       "      <td>1007</td>\n",
       "      <td>79</td>\n",
       "      <td>2.57</td>\n",
       "      <td>80</td>\n",
       "      <td>0</td>\n",
       "    </tr>\n",
       "    <tr>\n",
       "      <th>52543</th>\n",
       "      <td>dp3xk</td>\n",
       "      <td>2021-09-30 07:00:00</td>\n",
       "      <td>0.0</td>\n",
       "      <td>1.0</td>\n",
       "      <td>0.0</td>\n",
       "      <td>2021-09-30 07:00:00</td>\n",
       "      <td>18.86</td>\n",
       "      <td>1012</td>\n",
       "      <td>78</td>\n",
       "      <td>1.54</td>\n",
       "      <td>100</td>\n",
       "      <td>40</td>\n",
       "    </tr>\n",
       "    <tr>\n",
       "      <th>52544</th>\n",
       "      <td>dp3xk</td>\n",
       "      <td>2021-09-30 20:00:00</td>\n",
       "      <td>0.0</td>\n",
       "      <td>4.0</td>\n",
       "      <td>0.0</td>\n",
       "      <td>2021-09-30 20:00:00</td>\n",
       "      <td>24.70</td>\n",
       "      <td>1022</td>\n",
       "      <td>47</td>\n",
       "      <td>4.63</td>\n",
       "      <td>90</td>\n",
       "      <td>75</td>\n",
       "    </tr>\n",
       "    <tr>\n",
       "      <th>52545</th>\n",
       "      <td>dp3xk</td>\n",
       "      <td>2021-10-01 13:00:00</td>\n",
       "      <td>0.0</td>\n",
       "      <td>1.0</td>\n",
       "      <td>0.0</td>\n",
       "      <td>2021-10-01 13:00:00</td>\n",
       "      <td>17.84</td>\n",
       "      <td>1013</td>\n",
       "      <td>73</td>\n",
       "      <td>2.57</td>\n",
       "      <td>180</td>\n",
       "      <td>0</td>\n",
       "    </tr>\n",
       "  </tbody>\n",
       "</table>\n",
       "<p>52546 rows × 12 columns</p>\n",
       "</div>"
      ],
      "text/plain": [
       "      geohash         hourly_data  nb_departures  nb_arrivals  ratio  \\\n",
       "0       dp3sy 2021-07-01 04:00:00            1.0          1.0    1.0   \n",
       "1       dp3sy 2021-07-01 17:00:00            1.0          0.0    inf   \n",
       "2       dp3sy 2021-07-01 18:00:00            1.0          2.0    0.5   \n",
       "3       dp3sy 2021-07-01 21:00:00            1.0          0.0    inf   \n",
       "4       dp3sy 2021-07-01 23:00:00            4.0          1.0    4.0   \n",
       "...       ...                 ...            ...          ...    ...   \n",
       "52541   dp3xk 2021-09-28 07:00:00            0.0          1.0    0.0   \n",
       "52542   dp3xk 2021-09-29 02:00:00            0.0          1.0    0.0   \n",
       "52543   dp3xk 2021-09-30 07:00:00            0.0          1.0    0.0   \n",
       "52544   dp3xk 2021-09-30 20:00:00            0.0          4.0    0.0   \n",
       "52545   dp3xk 2021-10-01 13:00:00            0.0          1.0    0.0   \n",
       "\n",
       "                   dt_iso   temp  pressure  humidity  wind_speed  wind_deg  \\\n",
       "0     2021-07-01 04:00:00  21.29      1001        84        0.00         0   \n",
       "1     2021-07-01 17:00:00  23.18      1018        62        7.20        20   \n",
       "2     2021-07-01 18:00:00  23.36      1018        61        8.23        30   \n",
       "3     2021-07-01 21:00:00  22.44      1018        55        8.75        30   \n",
       "4     2021-07-01 23:00:00  20.64      1019        62        7.72        40   \n",
       "...                   ...    ...       ...       ...         ...       ...   \n",
       "52541 2021-09-28 07:00:00  17.46      1014        81        4.63        30   \n",
       "52542 2021-09-29 02:00:00  17.47      1007        79        2.57        80   \n",
       "52543 2021-09-30 07:00:00  18.86      1012        78        1.54       100   \n",
       "52544 2021-09-30 20:00:00  24.70      1022        47        4.63        90   \n",
       "52545 2021-10-01 13:00:00  17.84      1013        73        2.57       180   \n",
       "\n",
       "       clouds_all  \n",
       "0              75  \n",
       "1              20  \n",
       "2              20  \n",
       "3              20  \n",
       "4              20  \n",
       "...           ...  \n",
       "52541           0  \n",
       "52542           0  \n",
       "52543          40  \n",
       "52544          75  \n",
       "52545           0  \n",
       "\n",
       "[52546 rows x 12 columns]"
      ]
     },
     "execution_count": 17,
     "metadata": {},
     "output_type": "execute_result"
    }
   ],
   "source": [
    "merged_df"
   ]
  },
  {
   "cell_type": "markdown",
   "metadata": {},
   "source": [
    "### Selecting the two targets"
   ]
  },
  {
   "cell_type": "code",
   "execution_count": 19,
   "metadata": {},
   "outputs": [],
   "source": [
    "target_departures=\"nb_departures\"\n",
    "target_arrivals=\"nb_arrivals\""
   ]
  },
  {
   "cell_type": "markdown",
   "metadata": {},
   "source": [
    "### Building X_departures and X_arrivals and the corresponding targets"
   ]
  },
  {
   "cell_type": "code",
   "execution_count": 20,
   "metadata": {},
   "outputs": [],
   "source": [
    "X_dep, y_dep=features_target(merged_df,target_departures)\n",
    "X_arr, y_arr=features_target(merged_df,target_arrivals)"
   ]
  },
  {
   "cell_type": "code",
   "execution_count": null,
   "metadata": {},
   "outputs": [],
   "source": [
    "preprocessor_dep,X_dep_processed=preprocess_features(X_dep)\n",
    "preprocessor_arr,X_arr_processed=preprocess_features(X_arr)"
   ]
  },
  {
   "cell_type": "code",
   "execution_count": null,
   "metadata": {},
   "outputs": [],
   "source": [
    "preprocessor_dep"
   ]
  },
  {
   "cell_type": "code",
   "execution_count": null,
   "metadata": {},
   "outputs": [],
   "source": [
    "preprocessor_arr"
   ]
  },
  {
   "cell_type": "code",
   "execution_count": null,
   "metadata": {},
   "outputs": [],
   "source": [
    "pkl.dump(preprocessor_dep,open('preprocessors/preprocessor_dep.pickle','wb'))\n",
    "pkl.dump(preprocessor_arr,open('preprocessors/preprocessor_arr.pickle','wb'))"
   ]
  },
  {
   "cell_type": "code",
   "execution_count": null,
   "metadata": {},
   "outputs": [],
   "source": [
    "loaded_pp=pkl.load(open('preprocessors/preprocessor_dep.pickle','rb'))"
   ]
  },
  {
   "cell_type": "code",
   "execution_count": null,
   "metadata": {},
   "outputs": [],
   "source": [
    "loaded_pp"
   ]
  },
  {
   "cell_type": "code",
   "execution_count": null,
   "metadata": {},
   "outputs": [],
   "source": [
    "loaded_pp=pkl.load(open('preprocessors/preprocessor_arr.pickle','rb'))"
   ]
  },
  {
   "cell_type": "code",
   "execution_count": null,
   "metadata": {},
   "outputs": [],
   "source": [
    "X_dep_processed.shape"
   ]
  },
  {
   "cell_type": "markdown",
   "metadata": {},
   "source": [
    "### Building X_tests and their corresponding targets"
   ]
  },
  {
   "cell_type": "code",
   "execution_count": null,
   "metadata": {},
   "outputs": [],
   "source": [
    "X_test_dep_pro,y_test_dep_pro=preprocess_test(preprocessor_dep,target_departures)\n",
    "X_test_arr_pro,y_test_arr_pro=preprocess_test(preprocessor_arr,target_arrivals)"
   ]
  },
  {
   "cell_type": "markdown",
   "metadata": {},
   "source": [
    "### Separating X (departures/arrivals) into training and validation splits"
   ]
  },
  {
   "cell_type": "code",
   "execution_count": null,
   "metadata": {},
   "outputs": [],
   "source": [
    "X_dep_train,X_dep_val,y_dep_train,y_dep_val=train_test_split(X_dep_processed,\n",
    "                                                             y_dep,\n",
    "                                                             test_size=0.2,\n",
    "                                                             random_state=1)\n",
    "X_arr_train,X_arr_val,y_arr_train,y_arr_val=train_test_split(X_arr_processed,\n",
    "                                                             y_arr,\n",
    "                                                             test_size=0.2,\n",
    "                                                             random_state=1)"
   ]
  },
  {
   "cell_type": "markdown",
   "metadata": {},
   "source": [
    "## LINEAR REGRESSION"
   ]
  },
  {
   "cell_type": "code",
   "execution_count": null,
   "metadata": {},
   "outputs": [],
   "source": [
    "model_lr=LinearRegression()\n",
    "cv_results=cross_validate(model_lr,X_dep_train,y_dep_train,\n",
    "                          cv=5,scoring=('r2','neg_mean_absolute_error'))"
   ]
  },
  {
   "cell_type": "code",
   "execution_count": null,
   "metadata": {},
   "outputs": [],
   "source": [
    "cv_results"
   ]
  },
  {
   "cell_type": "code",
   "execution_count": null,
   "metadata": {},
   "outputs": [],
   "source": [
    "r2_lr=round(cv_results['test_r2'].mean(),5)\n",
    "mse_lr=round(cv_results['test_neg_mean_absolute_error'].mean(),5)\n",
    "r2_lr,mse_lr"
   ]
  },
  {
   "cell_type": "markdown",
   "metadata": {},
   "source": [
    "## ELASTIC NET"
   ]
  },
  {
   "cell_type": "code",
   "execution_count": null,
   "metadata": {},
   "outputs": [],
   "source": [
    "model_en=ElasticNet()\n",
    "grid={'alpha':[0.001,0.01,0.1,1], \n",
    "      'l1_ratio':[0.1,0.3,0.5,0.7,0.9]}\n",
    "search=GridSearchCV(model_en, \n",
    "                    grid, \n",
    "                    scoring='neg_mean_absolute_error',\n",
    "                    cv=5,\n",
    "                    n_jobs=-1)\n",
    "search.fit(X_dep_train,y_dep_train)"
   ]
  },
  {
   "cell_type": "code",
   "execution_count": null,
   "metadata": {},
   "outputs": [],
   "source": [
    "search.best_score_"
   ]
  },
  {
   "cell_type": "code",
   "execution_count": null,
   "metadata": {},
   "outputs": [],
   "source": [
    "search.best_estimator_"
   ]
  },
  {
   "cell_type": "code",
   "execution_count": null,
   "metadata": {},
   "outputs": [],
   "source": [
    "search.score(X_test_dep_pro,y_test_dep_pro)"
   ]
  },
  {
   "cell_type": "code",
   "execution_count": null,
   "metadata": {},
   "outputs": [],
   "source": [
    "model_en2.coef_.shape"
   ]
  },
  {
   "cell_type": "code",
   "execution_count": null,
   "metadata": {},
   "outputs": [],
   "source": [
    "model_en2.intercept_"
   ]
  },
  {
   "cell_type": "code",
   "execution_count": null,
   "metadata": {},
   "outputs": [],
   "source": [
    "search.predict(X_test_dep_pro)"
   ]
  },
  {
   "cell_type": "code",
   "execution_count": null,
   "metadata": {},
   "outputs": [],
   "source": [
    "y_test_dep_pro"
   ]
  },
  {
   "cell_type": "code",
   "execution_count": null,
   "metadata": {},
   "outputs": [],
   "source": [
    "model_en2=search.best_estimator_\n",
    "params=model_en2.get_params\n",
    "type(params)"
   ]
  },
  {
   "cell_type": "code",
   "execution_count": null,
   "metadata": {},
   "outputs": [],
   "source": [
    "pkl.dump(model_en2,open('models/elasticnet_departures.pickle','wb'))"
   ]
  },
  {
   "cell_type": "code",
   "execution_count": null,
   "metadata": {},
   "outputs": [],
   "source": [
    "loaded_model=pkl.load(open('models/elasticnet_departures.pickle','rb'))"
   ]
  },
  {
   "cell_type": "code",
   "execution_count": null,
   "metadata": {},
   "outputs": [],
   "source": [
    "savedmodel\n"
   ]
  },
  {
   "cell_type": "code",
   "execution_count": null,
   "metadata": {},
   "outputs": [],
   "source": [
    "model_5=pkl.loads(savedmodel)\n",
    "model_5"
   ]
  },
  {
   "cell_type": "code",
   "execution_count": null,
   "metadata": {},
   "outputs": [],
   "source": [
    "model_5.coef_"
   ]
  },
  {
   "cell_type": "code",
   "execution_count": null,
   "metadata": {},
   "outputs": [],
   "source": [
    "model_5.predict(X_dep_processed)"
   ]
  },
  {
   "cell_type": "code",
   "execution_count": null,
   "metadata": {},
   "outputs": [],
   "source": [
    "model_en2.predict(X_dep_processed)"
   ]
  },
  {
   "cell_type": "code",
   "execution_count": null,
   "metadata": {},
   "outputs": [],
   "source": [
    "type(savedmodel)"
   ]
  },
  {
   "cell_type": "markdown",
   "metadata": {},
   "source": []
  },
  {
   "cell_type": "code",
   "execution_count": null,
   "metadata": {},
   "outputs": [],
   "source": [
    "model_arr=ElasticNet()\n",
    "grid={'alpha':[0.001,0.01,0.1,1], \n",
    "      'l1_ratio':[0.1,0.3,0.5,0.7,0.9]}\n",
    "search=GridSearchCV(model_arr, \n",
    "                    grid, \n",
    "                    scoring='neg_mean_absolute_error',\n",
    "                    cv=5,\n",
    "                    n_jobs=-1)\n",
    "search.fit(X_arr_train,y_arr_train)"
   ]
  },
  {
   "cell_type": "code",
   "execution_count": null,
   "metadata": {},
   "outputs": [],
   "source": [
    "model_2arr=search.best_estimator_\n",
    "model_2arr"
   ]
  },
  {
   "cell_type": "code",
   "execution_count": null,
   "metadata": {},
   "outputs": [],
   "source": [
    "pkl.dump(model_2arr,open('models/elasticnet_arrivals.pickle','wb'))"
   ]
  },
  {
   "cell_type": "code",
   "execution_count": null,
   "metadata": {},
   "outputs": [],
   "source": [
    "departuress=model_en2.predict(X_dep_processed)[800]\n",
    "departuress"
   ]
  },
  {
   "cell_type": "code",
   "execution_count": null,
   "metadata": {},
   "outputs": [],
   "source": [
    "arrivals=model_2arr.predict(X_arr_processed)[800]\n",
    "arrivals"
   ]
  },
  {
   "cell_type": "code",
   "execution_count": null,
   "metadata": {},
   "outputs": [],
   "source": [
    "from interface_ui.flow.flow import get_station_availability\n",
    "from ml_logic.model import availability"
   ]
  },
  {
   "cell_type": "code",
   "execution_count": null,
   "metadata": {},
   "outputs": [],
   "source": [
    "availability=availability(arrivals=arrivals,departures=departuress)"
   ]
  },
  {
   "cell_type": "code",
   "execution_count": null,
   "metadata": {},
   "outputs": [],
   "source": [
    "availability"
   ]
  },
  {
   "cell_type": "markdown",
   "metadata": {},
   "source": [
    "## K NEIGHBORS REGRESSOR"
   ]
  },
  {
   "cell_type": "code",
   "execution_count": null,
   "metadata": {},
   "outputs": [],
   "source": [
    "model_knr=KNeighborsRegressor()\n",
    "cv_results_knr=cross_validate(model_knr,X_dep_train,y_dep_train,\n",
    "                              cv=5,scoring=('r2','neg_mean_absolute_error'))\n",
    "cv_results_knr"
   ]
  },
  {
   "cell_type": "code",
   "execution_count": null,
   "metadata": {},
   "outputs": [],
   "source": [
    "r2_knr=cv_results_knr['test_r2'].mean()\n",
    "mse_knr=cv_results_knr['test_neg_mean_absolute_error'].mean()\n",
    "r2_knr,mse_knr"
   ]
  },
  {
   "cell_type": "markdown",
   "metadata": {},
   "source": [
    "## LSTM"
   ]
  },
  {
   "attachments": {},
   "cell_type": "markdown",
   "metadata": {},
   "source": [
    "### First, we need to add more stations to a given model"
   ]
  },
  {
   "cell_type": "code",
   "execution_count": null,
   "metadata": {},
   "outputs": [],
   "source": [
    "## retrieving train data for Streeter Dr & Illinois St\n",
    "X_dep_pro_st2, y_dep_pro_st2, preproc_st2= preprocess(target_departures)"
   ]
  },
  {
   "cell_type": "code",
   "execution_count": null,
   "metadata": {},
   "outputs": [],
   "source": [
    "## retrieving test data for Streeter Dr & Illinois St\n",
    "X_test_dep_pro_st2,y_test_dep_pro_st2=preprocess_test(preproc_st2,target_departures)"
   ]
  },
  {
   "cell_type": "code",
   "execution_count": null,
   "metadata": {},
   "outputs": [],
   "source": [
    "X_dep_pro_st2.shape,X_dep_processed.shape"
   ]
  },
  {
   "cell_type": "code",
   "execution_count": null,
   "metadata": {},
   "outputs": [],
   "source": [
    "## retrieving train data for Canal St & Adams St\n",
    "X_dep_pro_st3, y_dep_pro_st3, preproc_st3= preprocess(target_departures)"
   ]
  },
  {
   "cell_type": "code",
   "execution_count": null,
   "metadata": {},
   "outputs": [],
   "source": [
    "X_dep_pro_st3.shape"
   ]
  },
  {
   "cell_type": "code",
   "execution_count": null,
   "metadata": {},
   "outputs": [],
   "source": [
    "X_dep_pro_st3.head()"
   ]
  },
  {
   "cell_type": "code",
   "execution_count": null,
   "metadata": {},
   "outputs": [],
   "source": [
    "X_dep_pro_st2.head()"
   ]
  },
  {
   "cell_type": "code",
   "execution_count": null,
   "metadata": {},
   "outputs": [],
   "source": [
    "X_dep_pro_st2.to_csv('raw_data/data/X_dep_proc_st1',index=False)"
   ]
  },
  {
   "cell_type": "code",
   "execution_count": null,
   "metadata": {},
   "outputs": [],
   "source": [
    "y_dep_pro_st2.to_csv('raw_data/data/y_dep_proc_st1',index=False)"
   ]
  },
  {
   "cell_type": "code",
   "execution_count": null,
   "metadata": {},
   "outputs": [],
   "source": []
  }
 ],
 "metadata": {
  "kernelspec": {
   "display_name": "DIVVY_BIKE",
   "language": "python",
   "name": "python3"
  },
  "language_info": {
   "codemirror_mode": {
    "name": "ipython",
    "version": 3
   },
   "file_extension": ".py",
   "mimetype": "text/x-python",
   "name": "python",
   "nbconvert_exporter": "python",
   "pygments_lexer": "ipython3",
   "version": "3.10.6 (main, Oct 14 2022, 13:55:23) [GCC 11.2.0]"
  },
  "orig_nbformat": 4,
  "vscode": {
   "interpreter": {
    "hash": "fb450ce56fa53d25385c7c67a6fb73f2070f05b91784cbf37427525e0726ed1f"
   }
  }
 },
 "nbformat": 4,
 "nbformat_minor": 2
}
